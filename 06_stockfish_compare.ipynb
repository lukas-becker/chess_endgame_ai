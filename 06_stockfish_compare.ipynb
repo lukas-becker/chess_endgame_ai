{
 "cells": [
  {
   "cell_type": "code",
   "execution_count": null,
   "outputs": [],
   "source": [
    "from IPython.core.display import HTML\n",
    "\n",
    "with open('style.html', 'r') as file:\n",
    "    css = file.read()\n",
    "HTML(css)"
   ],
   "metadata": {
    "collapsed": false,
    "pycharm": {
     "name": "#%%\n"
    }
   }
  },
  {
   "cell_type": "code",
   "execution_count": null,
   "outputs": [],
   "source": [
    "%run 11_imports.ipynb\n",
    "%run 12_integer_management.ipynb\n",
    "%run 13_mirroring.ipynb\n",
    "%run 14_functions.ipynb"
   ],
   "metadata": {
    "collapsed": false,
    "pycharm": {
     "name": "#%%\n"
    }
   }
  },
  {
   "cell_type": "markdown",
   "source": [
    "# Auswerten eines Schach-Endspiels\n",
    "\n",
    "Neben der Berechnung der Endspiel-Situationen gilt es zu überprüfen, ob es sich bei den Zügen der KI auch um optimale Halbzüge handelt.\n",
    "Hierfür werden im Rahmen von diesem Notebook Testszenarien geschrieben, welche die Entscheidungen der KI bewerten.\n",
    "Zum Vergleich wurde die Stockfish-Engine herangezogen. Stockfish ist die momentan (Stand: 2022) beste Schach-Engine, die frei zur Verfügung steht (Quelle: [chess.com](https://www.chess.com/terms/chess-engine) o. D.).\n",
    "\n",
    "Insgesamt können vier unterschiedliche Szenarien in diesem Notebook getestet werden. Die Struktur der Tests ist wie folgt aufgebaut:\n",
    "* ``compare_fen_stockfish``: Dieser Test überprüft für eine mitgegebene FEN jeweils, wie viele Züge die Endspieltabellen und Stockfish zum Gewinnen brauchen.\n",
    "* ``test_random_boards``: Dieser Test überprüft für eine gegebene Anzahl $n$ zufälliger Situationen, ob Stockfish bessere Ergebnisse liefert.\n",
    "* ``compare_sequence_stockfish``: Dieser Test überprüft für ein mitgegebenes $n$ alle Situationen, die sich in der Menge $S_n$ befinden, ob Stockfish oder die KI bessere Ergebnisse erzielt.\n",
    "* ``compare_all_sequences``: Dieser Test überprüft für jegliche Situationen, die einer $S_n$ Menge zugeordnet wurden, ob Stockfish eine Lösung in weniger Zügen bestimmen kann.\n",
    "\n",
    "Die Ergebnisse der letzten drei Tests werden im Ordner `\\Tests` gespeichert."
   ],
   "metadata": {
    "collapsed": false,
    "pycharm": {
     "name": "#%% md\n"
    }
   }
  },
  {
   "cell_type": "markdown",
   "source": [
    "Zur Durchführung der beschriebenen Tests werden zunächst globale Variablen definiert. Diese lauten wir folgt:\n",
    "* `g_stockfish_path`: Ein String, der den Pfad zur bereits heruntergeladenen Stockfish-Engine bereitstellt. Sofern dies noch nicht geschehen ist, kann das unter diesem [Link](https://stockfishchess.org/) geschehen.\n",
    "* `g_verbose`: Ein Boolean, das die zusätzlichen Konsolenausgaben zum Debuggen anzeigt.\n",
    "* `g_stockfish`: Ein Objekt, das für die Verwendung der Stockfish-Engine benötigt wird."
   ],
   "metadata": {
    "collapsed": false,
    "pycharm": {
     "name": "#%% md\n"
    }
   }
  },
  {
   "cell_type": "code",
   "execution_count": null,
   "outputs": [],
   "source": [
    "g_stockfish_path = \"./stockfish/stockfish.exe\"\n",
    "g_verbose = False\n",
    "\n",
    "g_stockfish = stockfish.Stockfish(g_stockfish_path)"
   ],
   "metadata": {
    "collapsed": false,
    "pycharm": {
     "name": "#%%\n"
    }
   }
  },
  {
   "cell_type": "markdown",
   "source": [
    "Weiter werden drei globale Variablen für die bereits berechneten $S_n$ Mengen definiert.\n",
    "Diese Mengen sind in Form einer Datei innerhalb des `S_n_Results`-Ordner zu finden.\n",
    "Sie werden mit der Funktion `load_data(filename)` aus dem Notebook `14_functions.ipynb` ausgelesen.\n",
    "Eine detaillierte Beschreibung der Funktion ist dort zu finden.\n",
    "Bei diesen Variablen handelt es sich um:\n",
    "* `g_s_n_file`: Ein String, der den Dateinamen ohne die `.chessAI` Endung beinhaltet.\n",
    "* `g_piece_list`: Eine Liste von `chess.Piece`, die bei der Berechnung der $S_n$ Mengen verwendet wurde.\n",
    "* `g_s_n_integers`: Eine Liste von Mengen. Diese Mengen enthalten die Integer-Repräsentationen der einzigartigen Spielsituationen der $S_n$ Menge."
   ],
   "metadata": {
    "collapsed": false,
    "pycharm": {
     "name": "#%% md\n"
    }
   }
  },
  {
   "cell_type": "code",
   "execution_count": null,
   "outputs": [],
   "source": [
    "g_s_n_file = \"s_n_queen_24_05\"\n",
    "\n",
    "g_piece_list, g_s_n_integers = load_data(g_s_n_file)\n",
    "g_s_n_integers = gen_all_integers(g_s_n_integers)"
   ],
   "metadata": {
    "collapsed": false,
    "pycharm": {
     "name": "#%%\n"
    }
   }
  },
  {
   "cell_type": "markdown",
   "source": [
    "## Vorbereitung der Tests\n",
    "\n",
    "Der Vergleich findet zwischen der KI und der Stockfish-Engine statt.\n",
    "Hierzu müssen einerseits Funktionen definiert werden, die ein Spiel Stockfish (Schwarz) vs. KI (Weiß) simulieren.\n",
    "Andererseits gilt es auch Funktionen zu definieren, die ein Spiel Stockfish (Schwarz) vs. Stockfish (Weiß) simulieren.\n",
    "\n",
    "Mit der Funktion `find_next_move(fen, s_index)` kann nun für eine Partie Stockfish (Schwarz) vs. KI (Weiß) der nächste Halbzug bestimmt werden.\n",
    "Hierzu werden zunächst zwei Hilfsfunktionen (`ki_move(cur_board, s_index)`, `stockfish_move(cur_board, s_index)`) definiert."
   ],
   "metadata": {
    "collapsed": false,
    "pycharm": {
     "name": "#%% md\n"
    }
   }
  },
  {
   "cell_type": "markdown",
   "source": [
    "Die Funktion `ki_move(cur_board, s_index)` bestimmt für eine vorgegebene Spielsituation einen Spielzug für die KI.\n",
    "Dieser Halbzug wird mithilfe der bereits berechneten $S_n$-Mengen bestimmt. Dabei wird in der Spielsituation für jeden möglichen legalen Halbzug geschaut, ob der Folgezug in einer geringeren $S_n$-Menge landet. Die Funktion benötigt hierzu die Parameter:\n",
    "* `cur_board`: Ein `chess.Board`-Objekt, bei dem gerade Weiß am Zug ist.\n",
    "* `s_index`: Ein Integer, der das $n$ der $S_n$-Menge widerspiegelt, in dem sich `cur_board` befindet.\n",
    "\n",
    "Als Rückgabe werden zwei Werte zurückgegeben.\n",
    "Der erste Wert ist entweder der übergebene `s_index`-1 oder der Wert `-1`.\n",
    "Handelt es sich um `s_index`-1, wurde ein passender Halbzug für die KI gefunden.\n",
    "In diesem Fall wird neben dem neuen Index noch der `chess.Move` zurückgegeben.\n",
    "Sofern der erste Wert `-1` beträgt, konnte kein passender `chess.Move` für die KI gefunden werden und es wird `None` zusätzlich zurückgegeben."
   ],
   "metadata": {
    "collapsed": false,
    "pycharm": {
     "name": "#%% md\n"
    }
   }
  },
  {
   "cell_type": "code",
   "execution_count": null,
   "outputs": [],
   "source": [
    "def ki_move(cur_board, s_index):\n",
    "    for move in cur_board.legal_moves:\n",
    "        cur_board.push(move)\n",
    "        cur_int = to_integer(cur_board, g_piece_list)\n",
    "        # check if new board is in sequence s_index - 1\n",
    "        if find_situation_in_sequence(cur_int, [g_s_n_integers[s_index - 1]]) != -1:\n",
    "            cur_board.pop()\n",
    "            return s_index - 1, move\n",
    "        cur_board.pop()\n",
    "    return -1, None"
   ],
   "metadata": {
    "collapsed": false,
    "pycharm": {
     "name": "#%%\n"
    }
   }
  },
  {
   "cell_type": "markdown",
   "source": [
    "Das Gegenstück zu `ki_move(cur_board, s_index)` ist die Funktion `stockfish_move(cur_board, s_index)`.\n",
    "Diese bestimmt für Stockfish den nächsten Halbzug. Hierzu braucht sie ebenfalls zwei Parameter:\n",
    "* `cur_board`: Ein `chess.Board`-Objekt, bei dem gerade Schwarz am Zug ist.\n",
    "* `s_index`: Ein Integer, der das $n$ der $S_n$-Menge widerspiegelt, in dem sich `cur_board` befindet.\n",
    "\n",
    "Die Rückgabe baut sich gleichermaßen aus dem neuen `s_index` und dem ausgeführten `chess.Move` auf. Dabei kann der neue `s_index` auch < `s_index`-1 sein."
   ],
   "metadata": {
    "collapsed": false,
    "pycharm": {
     "name": "#%% md\n"
    }
   }
  },
  {
   "cell_type": "code",
   "execution_count": null,
   "outputs": [],
   "source": [
    "def stockfish_move(cur_board, s_index):\n",
    "    move = chess.Move.from_uci(g_stockfish.get_best_move())\n",
    "    cur_board.push(move)\n",
    "    cur_int = to_integer(cur_board, g_piece_list)\n",
    "    s_index =  find_situation_in_sequence(cur_int, g_s_n_integers[:s_index])\n",
    "    cur_board.pop()\n",
    "    return s_index, move"
   ],
   "metadata": {
    "collapsed": false,
    "pycharm": {
     "name": "#%%\n"
    }
   }
  },
  {
   "cell_type": "markdown",
   "source": [
    "`find_next_move(fen, s_index)` kombiniert die Funktionen `ki_move(cur_board, s_index)` und `stockfish_move(cur_board, s_index)`.\n",
    "Sie findet anhand einer übergebenen Spielsituation den nächsten Halbzug, der für den Test Stockfish vs. KI durchgeführt wird.\n",
    "Dieser kann von Stockfish oder auch von der KI durchgeführt werden.\n",
    "Hierzu werden folgende Parameter benötigt:\n",
    "* `cur_board`: Ein `chess.Board`-Objekt, für das der nächste Halbzug gefunden werden soll.\n",
    "* `s_index`: Ein Integer, der das $n$ der $S_n$-Menge repräsentiert, in der `cur_board` gefunden werden kann.\n",
    "\n",
    "Die Rückgabe baut sich wie bei `ki_move(cur_board, s_index)` und `stockfish_move(cur_board, s_index)` aus dem `s_index` und dem `chess.Move` auf."
   ],
   "metadata": {
    "collapsed": false,
    "pycharm": {
     "name": "#%% md\n"
    }
   }
  },
  {
   "cell_type": "code",
   "execution_count": null,
   "outputs": [],
   "source": [
    "def find_next_move(cur_board, s_index):\n",
    "    global g_stockfish\n",
    "\n",
    "    if g_verbose:\n",
    "        print(\"---\"+ get_color(cur_board.turn) +\":---\")\n",
    "        print(\"Starting in S\" + str(s_index))\n",
    "\n",
    "    if cur_board.turn:\n",
    "        s_index, move = ki_move(cur_board, s_index)\n",
    "    else:\n",
    "        fen = cur_board.fen()\n",
    "        g_stockfish.set_fen_position(fen)\n",
    "        s_index, move = stockfish_move(cur_board, s_index)\n",
    "\n",
    "    if g_verbose and move is not None:\n",
    "        print(\"    Move: \" + str(move))\n",
    "        print(\"    S\" + str(s_index))\n",
    "        print(\"Ended in S\" + str(s_index))\n",
    "\n",
    "    return s_index, move"
   ],
   "metadata": {
    "collapsed": false,
    "pycharm": {
     "name": "#%%\n"
    }
   }
  },
  {
   "cell_type": "markdown",
   "source": [
    "Für das Spielen einer ganzen Spielsituation Stockfish vs. KI wurde die Funktion `all_moves_stock_ai(board)` definiert.\n",
    "Hierzu wird als Parameter benötigt:\n",
    "* `board`: Ein `chess.Board`-Objekt, für das die Partie durchgespielt werden soll.\n",
    "\n",
    "Der Rückgabewert besteht aus einer Liste aus Strings (`moves`).\n",
    "Diese Strings beschreiben in Universal Chess Interface (UCI) Notation die Züge, die bis zum Beenden der Situation durchgeführt worden sind."
   ],
   "metadata": {
    "collapsed": false,
    "pycharm": {
     "name": "#%% md\n"
    }
   }
  },
  {
   "cell_type": "code",
   "execution_count": null,
   "outputs": [],
   "source": [
    "def all_moves_stock_ai(board):\n",
    "    moves = []\n",
    "    cur_int = to_integer(board, g_piece_list)\n",
    "    s_index = find_situation_in_sequence(cur_int, g_s_n_integers)\n",
    "\n",
    "    while s_index > 0:\n",
    "        s_index, next_move = find_next_move(board.copy(), s_index)\n",
    "        board.push(next_move)\n",
    "        moves.append(next_move.uci())\n",
    "\n",
    "    if s_index == -1:\n",
    "        return None\n",
    "\n",
    "    return moves"
   ],
   "metadata": {
    "collapsed": false,
    "pycharm": {
     "name": "#%%\n"
    }
   }
  },
  {
   "cell_type": "markdown",
   "source": [
    "Als Vergleichswert wird die gleiche Spielsituation herangezogen, jedoch werden beide Farben von der Stockfish-Engine gesteuert.\n",
    "Diese Partie wird mit der Funktion `stockfish_move_list(board)` simuliert.\n",
    "Sie erhält als Parameter:\n",
    "* `board`: Ein `chess.Board`-Objekt, das die Ausgangsspielsituation darstellt.\n",
    "\n",
    "Als Rückgabewert hat diese Funktion ebenfalls eine Liste von Strings (`moves`).\n",
    "Diese beschreiben die durchgeführten Züge in UCI-Notation."
   ],
   "metadata": {
    "collapsed": false,
    "pycharm": {
     "name": "#%% md\n"
    }
   }
  },
  {
   "cell_type": "code",
   "execution_count": null,
   "outputs": [],
   "source": [
    "def stockfish_move_list(board):\n",
    "    moves = []\n",
    "\n",
    "    while not board.is_game_over():\n",
    "        g_stockfish.set_fen_position(board.fen())\n",
    "        next_move = chess.Move.from_uci(g_stockfish.get_best_move())\n",
    "        board.push(next_move)\n",
    "        moves.append(next_move.uci())\n",
    "\n",
    "    return moves"
   ],
   "metadata": {
    "collapsed": false,
    "pycharm": {
     "name": "#%%\n"
    }
   }
  },
  {
   "cell_type": "markdown",
   "source": [
    "# Vergleich Stockfish vs KI\n",
    "\n",
    "Für den Vergleich der beiden Spielsimulationen werden in den nachkommenden Abschnitten Funktionen definiert, die diese statistisch auswerten.\n",
    "Dabei wird betrachtet in welchen der Fälle die KI die Partie in weniger Spielzügen als Stockfish beenden konnte.\n",
    "Gleichermaßen werden auch die Fälle betrachtet, in denen Stockfish besser abgeschlossen hat."
   ],
   "metadata": {
    "collapsed": false,
    "pycharm": {
     "name": "#%% md\n"
    }
   }
  },
  {
   "cell_type": "markdown",
   "source": [
    "## Statistiken durch den Vergleich\n",
    "\n",
    "Die Funktion `compare_move_lists(move_count_list)` vergleicht die Anzahl der Halbzüge, die sowohl Stockfish als auch die KI zum Beenden der Spielsituation benötigt haben. Hierfür erhält die Funktion den Parameter:\n",
    "* `differences`: Diese Liste stellt die Differenzen zwischen der Anzahl an Zügen von Stockfish un der KI dar.\n",
    "\n",
    "Die Rückgabe der Funktion ist ein Tripel von Integern. Dieses baut sich folgendermaßen auf:\n",
    "* `equal`: Die Anzahl an Spielen, in denen Stockfish und die KI gleich viele Züge benötigen.\n",
    "* `ki_better`: Die Anzahl an Spielen, in denen die KI weniger Züge benötigt.\n",
    "* `stockfish_better`: Die Anzahl an Spielen, in denen Stockfish weniger Züge benötigt."
   ],
   "metadata": {
    "collapsed": false,
    "pycharm": {
     "name": "#%% md\n"
    }
   }
  },
  {
   "cell_type": "code",
   "execution_count": null,
   "outputs": [],
   "source": [
    "def compare_move_lists(differences):\n",
    "    equal = 0\n",
    "    ai_better = 0\n",
    "    stockfish_better = 0\n",
    "    for  diff in differences:\n",
    "        if diff == 0:\n",
    "            equal += 1\n",
    "        elif diff < 0:\n",
    "            ai_better += 1\n",
    "        else:\n",
    "            stockfish_better += 1\n",
    "    return equal, ai_better, stockfish_better"
   ],
   "metadata": {
    "collapsed": false,
    "pycharm": {
     "name": "#%%\n"
    }
   }
  },
  {
   "cell_type": "markdown",
   "source": [
    "Für eine prozentuale Beschreibung der Vergleiche wird die Funktion `get_average_difference(move_count_list)` verwendet.\n",
    "Diese erhält als Parameter eine List von Tripeln. Die Tripel haben die Form:\n",
    "* `triple[0]`: Ein Integer, der die Anzahl an Halbzügen darstellt, die die KI zum Beenden einer Situation benötigt hat.\n",
    "* `triple[1]`: Ein Integer, der die Anzahl an Halbzügen darstellt, die Stockfish zum Beenden einer Situation benötigt hat.\n",
    "* `triple[2]`: Ein Integer, der die Differenz aus `triple[0]` und `triple[1]` ist.\n",
    "\n",
    "Die Funktion gibt zwei Float-Werte zurück: `avg_ai_better` und `avg_stock_better`.\n",
    "Der Float `avg_ai_better` beschreibt den Durchschnittswert um wie viel % der Züge der KI besser waren als die Züge von Stockfish.\n",
    "Gleichermaßen beschreibt `avg_stock_better` den Durchschnittswert aus Sicht von Stockfish."
   ],
   "metadata": {
    "collapsed": false,
    "pycharm": {
     "name": "#%% md\n"
    }
   }
  },
  {
   "cell_type": "code",
   "execution_count": null,
   "outputs": [],
   "source": [
    "def get_average_difference(move_count_list):\n",
    "    percentual_ai = []\n",
    "    percentual_stock = []\n",
    "    avg_ai_better = 0\n",
    "    avg_stock_better = 0\n",
    "    for ai_move, stock_move, diff in move_count_list:\n",
    "        if diff < 0:\n",
    "            percentual_ai.append(round(1 - (ai_move / stock_move), 4))\n",
    "        elif diff > 0:\n",
    "            percentual_stock.append(round(1 - (stock_move / ai_move), 4))\n",
    "    if len(percentual_ai) != 0:\n",
    "        avg_ai_better = sum(percentual_ai) / len(percentual_ai)\n",
    "    if len(percentual_stock) != 0:\n",
    "        avg_stock_better = sum(percentual_stock) / len(percentual_stock)\n",
    "    return avg_ai_better, avg_stock_better"
   ],
   "metadata": {
    "collapsed": false,
    "pycharm": {
     "name": "#%%\n"
    }
   }
  },
  {
   "cell_type": "markdown",
   "source": [
    "Die zuvor definierten Funktionen dienen der Auswertung der Vergleiche zwischen Stockfish und der KI.\n",
    "Diese Werte gilt es auch dem Nutzer zur Verfügung zu stellen.\n",
    "Er kann in Form einer Datei die Statistiken einsehen.\n",
    "Hierzu wurde die Funktion `write_result_to_file(filename, sequence_index, move_count_list)` implementiert.\n",
    "Die Parameter der Funktion sind Folgende:\n",
    "* `filename`: Ein String, in dem der Name der Datei gespeichert in `\\Tests` gefunden werden kann (ohne Dateiendung).\n",
    "* `sequence_index`: Ein Integer, der das $n$ der $S_n$-Menge darstellt.\n",
    "* `move_count_list`: Eine Liste von Tripeln der Form, die in `get_average_difference(move_count_list)` beschrieben wurde."
   ],
   "metadata": {
    "collapsed": false,
    "pycharm": {
     "name": "#%% md\n"
    }
   }
  },
  {
   "cell_type": "code",
   "execution_count": null,
   "outputs": [],
   "source": [
    "def write_result_to_file(filename, sequence_index, move_count_list):\n",
    "    equal, ki_better, stockfish_better = compare_move_lists([tripel[2] for tripel in move_count_list])\n",
    "    avg_ki_better, avg_stock_better = get_average_difference(move_count_list)\n",
    "    count = ki_better + stockfish_better + equal\n",
    "    f = open(\"Tests/\" + filename + \".txt\", \"a+\")\n",
    "    f.write(\"S_\" + str(sequence_index) + \":\\n\")\n",
    "    f.write(\"Stockfish war zu \" + str(round((stockfish_better / count) * 100, 2)) + \"% besser.\\n\")\n",
    "    f.write(\"Die KI war zu \" + str(round((ki_better / count) * 100, 2)) + \"% besser.\\n\")\n",
    "    f.write(\"Stockfish und die KI haben zu \" + str(\n",
    "        round((equal / count) * 100, 2)) + \"% die gleichen Ergebnisse erzielt.\\n\")\n",
    "    f.write(\"Sofern die KI besser war, hat sie durchschnittlich \" + str(\n",
    "        round(avg_ki_better * 100, 2)) + \"% weniger Züge benötigt.\\n\")\n",
    "    f.write(\"Sofern Stockfish besser war, hat sie durchschnittlich \" + str(\n",
    "        round(avg_stock_better * 100, 2)) + \"% weniger Züge benötigt.\\n\")\n",
    "    f.close()"
   ],
   "metadata": {
    "collapsed": false,
    "pycharm": {
     "name": "#%%\n"
    }
   }
  },
  {
   "cell_type": "markdown",
   "source": [
    "## Speichern in Universal Chess Interface-Schreibweise der Spielverläufe Stockfish und KI.\n",
    "\n",
    "Die Funktion `write_both_move_lists(moves_ai, moves_stockfish)` wird in dem Fall benötigt, wenn Stockfish insgesamt weniger Züge benötigt hat als die selbstgeschriebene KI.\n",
    "Sie ermöglicht es den Spielverlauf anhand einer Move-Historie miteinander zu vergleichen.\n",
    "Hierzu werden beide Historien nebeneinander in die gleiche Datei wie die zuvor beschriebenen Statistiken geschrieben.\n",
    "Die Parameter der Funktion sind Folgende:\n",
    "* `fen`: Ein String, das die Spielsituation in FEN-Notation beschreibt.\n",
    "* `filename`: Ein String, der den Namen ohne die Dateiendung widerspiegelt.\n",
    "* `moves_stockfish`: Eine Liste an Strings. Diese enthalten Züge im UCI (Universal Chess Interface) Format. Die Liste wurde bei der Durchführung eines aufgeführten Tests für das Spiel Stockfish vs. Stockfish erstellt.\n",
    "* `moves_ai`: Eine Liste an Strings. Diese enthalten Züge im UCI Format. Die Liste wurde bei der Durchführung eines aufgeführten Tests für das Spiel KI vs. Stockfish erstellt.\n",
    "\n",
    "\n",
    "Da die Funktion nur aufgerufen wird, wenn Stockfish weniger Züge als die KI benötigt, ist kein Abgleich der Listen notwendig."
   ],
   "metadata": {
    "collapsed": false,
    "pycharm": {
     "name": "#%% md\n"
    }
   }
  },
  {
   "cell_type": "code",
   "execution_count": null,
   "outputs": [],
   "source": [
    "def write_both_move_lists(fen, filename, moves_stockfish, moves_ai):\n",
    "    f = open(\"Tests/\" + filename + \".txt\", \"a+\")\n",
    "    f.write(fen + \"\\n\")\n",
    "    len_ai = len(moves_ai)\n",
    "    len_stock = len(moves_stockfish)\n",
    "    f.write(\"AI:\" + \"\\t\" + \"\\t\" + \"\\t\" + \"\\t\" + \" Stockfish:\\n\")\n",
    "    for i in range(0, len_stock, 2):\n",
    "        if i + 1 < len_ai:\n",
    "            f.write(str(int((i+2)/2)) + \". \" + moves_stockfish[i] + \" \" + moves_stockfish[i+1] +\n",
    "                    \"\\t\" + \" \" + str(int((i+2)/2)) + \". \" + moves_ai[i] + \" \" + moves_ai[i+1] + \"\\n\")\n",
    "        elif i < len_ai:\n",
    "            f.write(str(int((i+2)/2)) + \". \" + moves_stockfish[i] + \" \" + moves_stockfish[i+1] +\n",
    "                    \"\\t\" + \" \" + str(int((i+2)/2)) + \". \" + moves_ai[i] + \"     \" + \"\\n\" )\n",
    "        else:\n",
    "            if i + 1 < len_stock:\n",
    "                f.write(str(int((i+2)/2))+ \". \" + moves_stockfish[i] + \" \" + moves_stockfish[i+1] + \"\\n\")\n",
    "            elif i < len_stock:\n",
    "                f.write(str(int((i+2)/2)) + \". \" + moves_stockfish[i] + \"\\n\")\n",
    "    f.close()"
   ],
   "metadata": {
    "collapsed": false,
    "pycharm": {
     "name": "#%%\n"
    }
   }
  },
  {
   "cell_type": "markdown",
   "source": [
    "Wie die Funktion `write_both_move_lists(fen, filename, moves_stockfish, moves_ai)` wurde die Funktion `display_both_move_lists(moves_stockfish, moves_ai)` definiert.\n",
    "Diese bildet ebenfalls beide Move-Historien ab mit dem Unterschied, dass sie dieses Mal in der Konsole zu finden sind.\n",
    "Hierzu werden folgende Parameter benötigt:\n",
    "* `moves_stockfish`: Eine Liste an Strings. Diese enthalten Züge im UCI Format. Die Liste wurde bei der Durchführung eines aufgeführten Tests für das Spiel Stockfish vs. Stockfish erstellt.\n",
    "* `moves_ai`: Eine Liste an Strings. Diese enthalten Züge im UCI Format. Die Liste wurde bei der Durchführung eines aufgeführten Tests für das Spiel KI vs. Stockfish erstellt."
   ],
   "metadata": {
    "collapsed": false,
    "pycharm": {
     "name": "#%% md\n"
    }
   }
  },
  {
   "cell_type": "code",
   "execution_count": null,
   "outputs": [],
   "source": [
    "def display_both_move_lists(moves_stockfish, moves_ai):\n",
    "    len_ai = len(moves_ai)\n",
    "    len_stock = len(moves_stockfish)\n",
    "    for i in range(0, len_stock, 2):\n",
    "        if i + 1 < len_ai:\n",
    "            print(str(int((i+2)/2)) + \". \" + moves_stockfish[i] + \" \" + moves_stockfish[i+1] +\n",
    "                  \"\\t\" + \" \" + str(int((i+2)/2)) + \". \" + moves_ai[i] + \" \" + moves_ai[i+1] + \"\\n\")\n",
    "        elif i < len_ai:\n",
    "            print(str(int((i+2)/2)) + \". \" + moves_stockfish[i] + \" \" + moves_stockfish[i+1] +\n",
    "                  \"\\t\" + \" \" + str(int((i+2)/2)) + \". \" + moves_ai[i] + \"     \" + \"\\n\" )\n",
    "        else:\n",
    "            if i + 1 < len_stock:\n",
    "                print(str(int((i+2)/2))+ \". \" + moves_stockfish[i] + \" \" + moves_stockfish[i+1] + \"\\n\")\n",
    "            elif i < len_stock:\n",
    "                print(str(int((i+2)/2)) + \". \" + moves_stockfish[i] + \"\\n\")"
   ],
   "metadata": {
    "collapsed": false,
    "pycharm": {
     "name": "#%%\n"
    }
   }
  },
  {
   "cell_type": "markdown",
   "source": [
    "# Implementierung der Tests für die $S_n$-Mengen\n",
    "\n",
    "In diesem Abschnitt werden die zuvor erwähnten Testszenarien implementiert.\n",
    "Die Tests basieren auf der globalen Variablen `g_s_n_integers`, da aus ihr die Spielsituationen gewählt werden.\n",
    "Zu Beginn werden jedoch noch eine eigene Exception, aber auch eine Hilfsfunktion definiert."
   ],
   "metadata": {
    "collapsed": false,
    "pycharm": {
     "name": "#%% md\n"
    }
   }
  },
  {
   "cell_type": "markdown",
   "source": [
    "Bei einem erfolglosen Test wird eine `FailedTest` exception geworfen.\n",
    "Sie wird nur dann geworfen, wenn innerhalb eines Tests ein TypeError oder ein AttributeError auftritt.\n",
    "Dieser Fehler bedeutet, dass bei der Erstellung einer move-Liste kein Halbzug für die KI gefunden werden konnte und statt der Liste `None` zurückgegeben wird oder der Spielzug `None` durchgeführt wird.\n",
    "Durch die `FailedTest` exception gibt es nun die Möglichkeit den fehlgeschlagenen Test noch von anderen Fehlern zu unterscheiden."
   ],
   "metadata": {
    "collapsed": false,
    "pycharm": {
     "name": "#%% md\n"
    }
   }
  },
  {
   "cell_type": "code",
   "execution_count": null,
   "outputs": [],
   "source": [
    "class FailedTest(Exception):\n",
    "    pass"
   ],
   "metadata": {
    "collapsed": false,
    "pycharm": {
     "name": "#%%\n"
    }
   }
  },
  {
   "cell_type": "markdown",
   "source": [
    "Bevor die Tests für die $S_n$-Mengen definiert werden, wird zunächst eine Hilfsfunktion implementiert.\n",
    "Mit der Funktion `ki_vs_stockfish(board, filename)` werden die Berechnungen für Stockfish vs. KI und Stockfish vs. Stockfish angestoßen.\n",
    "Die generierten Zuglisten werden ausgewertet. Für die Berechnung werden folgende zwei Parameter benötigt:\n",
    "* `board`: Ein `chess.Board`-Objekt, das die zu testende Spielsituation repräsentiert.\n",
    "* `filename`: Ein String, der den Dateinamen, in denen die Testergebnisse hinterlegt werden, darstellt.\n",
    "\n",
    "Als Rückgabewert gibt die Funktion eine Liste von Tripeln zurück. Die Form der Tripel können aus der Beschreibung von der Funktion `get_average_difference(move_count_list)` entnommen werden."
   ],
   "metadata": {
    "collapsed": false,
    "pycharm": {
     "name": "#%% md\n"
    }
   }
  },
  {
   "cell_type": "code",
   "execution_count": null,
   "outputs": [],
   "source": [
    "def ki_vs_stockfish(board, filename):\n",
    "    ai_moves = all_moves_stock_ai(board.copy())\n",
    "    stockfish_moves = stockfish_move_list(board.copy())\n",
    "    move_count = len(ai_moves)\n",
    "    cmp_move_count = len(stockfish_moves)\n",
    "    if move_count > cmp_move_count:\n",
    "        write_both_move_lists(board.fen(), filename, ai_moves, stockfish_moves)\n",
    "    move_count_t = tuple((move_count, cmp_move_count, move_count - cmp_move_count))\n",
    "    return move_count_t\n"
   ],
   "metadata": {
    "collapsed": false,
    "pycharm": {
     "name": "#%%\n"
    }
   }
  },
  {
   "cell_type": "markdown",
   "source": [
    "Der erste Test sieht den Vergleich der beiden Endspieldatenbanken anhand einer einzelnen Spielsituation vor.\n",
    "Der Test wird in Form der Funktion `compare_fen_stockfish(fen)` umgesetzt.\n",
    "Diese erhält als Parameter:\n",
    "* `fen`: Ein String, der eine Spielsituation in FEN-Notation beschreibt.\n",
    "\n",
    "Das Ergebnis des Tests wird in Form einer Konsolenausgabe angezeigt."
   ],
   "metadata": {
    "collapsed": false,
    "pycharm": {
     "name": "#%% md\n"
    }
   }
  },
  {
   "cell_type": "code",
   "execution_count": null,
   "outputs": [],
   "source": [
    "def compare_fen_stockfish(fen):\n",
    "    try:\n",
    "        board = chess.Board(fen)\n",
    "        ai_moves = all_moves_stock_ai(board.copy())\n",
    "        stockfish_moves = stockfish_move_list(board.copy())\n",
    "\n",
    "        if ai_moves is not None:\n",
    "            print(\"AI needed \" + str(len(ai_moves)) + \" moves to beat Stockfish as Black.\")\n",
    "        else:\n",
    "            print(\"AI found no way to beat Black.\")\n",
    "\n",
    "        print(\"Stockfish needed \" + str(len(stockfish_moves)) + \" moves to win against itself.\")\n",
    "        if len(stockfish_moves) < len(ai_moves):\n",
    "            display_both_move_lists(stockfish_moves, ai_moves)\n",
    "    except (TypeError, AttributeError):\n",
    "        raise FailedTest(\"Test failed!\")"
   ],
   "metadata": {
    "collapsed": false,
    "pycharm": {
     "name": "#%%\n"
    }
   }
  },
  {
   "cell_type": "markdown",
   "source": [
    "Eine Erweiterung des ersten Tests findet sich in der Überprüfung mehrerer Spielsituationen wieder.\n",
    "Daher wurde eine Funktion definiert, die eine vorgegebene Anzahl von zufälligen Spielsituationen abgleicht.\n",
    "Die Funktion `test_random_boards(count)` erhält dazu einen Parameter:\n",
    "* `count`: Ein Integer, der für die Anzahl der zu testenden Spielsituation steht.\n",
    "\n",
    "Das Ergebnis des Tests wird in einer Datei in dem Ordner `\\Tests` hinterlegt.\n",
    "Diese Datei hat einen Namen der Form: `Random_[count]_Compare_[Executiontime].txt`"
   ],
   "metadata": {
    "collapsed": false,
    "pycharm": {
     "name": "#%% md\n"
    }
   }
  },
  {
   "cell_type": "code",
   "execution_count": null,
   "outputs": [],
   "source": [
    "import random\n",
    "\n",
    "def test_random_boards(count):\n",
    "    try:\n",
    "        filename = \"Random_\" + str(count) + \"_Compare_\" + str(datetime.today().replace(microsecond=0)).replace(\":\",\n",
    "                                                                                                               \"_\") + \".txt\"\n",
    "        count_s_n = len(g_s_n_integers)\n",
    "        move_count_list = []\n",
    "        for board_c in range(count):\n",
    "            rand_s_n = g_s_n_integers[random.randint(0, count_s_n - 2)]\n",
    "            rand_board_int = random.choice(tuple(rand_s_n))\n",
    "            rand_board = to_board(rand_board_int, g_piece_list)\n",
    "            move_count_tuple = ki_vs_stockfish(rand_board, filename)\n",
    "            move_count_list.append(move_count_tuple)\n",
    "            clear_output()\n",
    "            print(\"Analyzed \" + str(board_c + 1) + \"/\" + str(count))\n",
    "\n",
    "        write_result_to_file(filename, \"random\", move_count_list)\n",
    "    except (TypeError, AttributeError):\n",
    "        raise FailedTest(\"Test failed!\")"
   ],
   "metadata": {
    "collapsed": false,
    "pycharm": {
     "name": "#%%\n"
    }
   }
  },
  {
   "cell_type": "code",
   "execution_count": null,
   "outputs": [],
   "source": [
    "test_random_boards(100)"
   ],
   "metadata": {
    "collapsed": false,
    "pycharm": {
     "name": "#%%\n"
    }
   }
  },
  {
   "cell_type": "markdown",
   "source": [
    "Die Funktion `compare_sequence_stockfish(sequence_index, g_filename=None)` stellt die Überprüfung einer ganzen $S_n$-Menge zur Verfügung.\n",
    "Hierzu wird jede Spielsituation einer $S_n$-Menge einmal mit Stockfish vs. KI und ein zweites Mal mit Stockfish vs. Stockfish simuliert.\n",
    "Die Funktion erhält für die Durchführung als Parameter:\n",
    "* `sequence_index`: Ein Integer, der das $n$ der zu überprüfenden $S_n$-Menge darstellt.\n",
    "* `g_filename` (optional): Ein String mit dem globalen Dateinamen, falls mehrere $S_n$-Mengen überprüft werden sollen und die Ergebnisse in eine Datei geschrieben werden sollen.\n",
    "\n",
    "Das Ergebnis wird beim Vergleich einer einzelnen $S_n$-Menge in eine Datei in `\\Tests` mit dem Dateinamen der Form: `S_[sequence_index]_Compare_[Executiontime].txt` geschrieben.\n",
    "Sofern ein `g_filename` übergeben wurde, wird das Ergebnis in diese Datei geschrieben."
   ],
   "metadata": {
    "collapsed": false,
    "pycharm": {
     "name": "#%% md\n"
    }
   }
  },
  {
   "cell_type": "code",
   "execution_count": null,
   "outputs": [],
   "source": [
    "def compare_sequence_stockfish(sequence_index, g_filename=None):\n",
    "    try:\n",
    "        s_n = g_s_n_integers[sequence_index]\n",
    "        move_count_list = []\n",
    "        length = len(s_n)\n",
    "        r = 0\n",
    "        if g_filename is None:\n",
    "            filename = \"S_\" + str(sequence_index) + \"_Compare_\" + str(datetime.today().replace(microsecond=0)).replace(\":\",                                                                                                                   \"_\") + \".txt\"\n",
    "        else:\n",
    "            filename = g_filename\n",
    "\n",
    "        for board_int in s_n:\n",
    "            clear_output()\n",
    "            board = to_board(board_int, g_piece_list)\n",
    "            move_count_tuple = ki_vs_stockfish(board, filename)\n",
    "            move_count_list.append(move_count_tuple)\n",
    "            print(\"Comparing S_\" + str(sequence_index) + \":\")\n",
    "            print(\"Compared \" + str(r + 1) + \"/\" + str(length))\n",
    "            r += 1\n",
    "        write_result_to_file(filename, sequence_index, move_count_list)\n",
    "    except (TypeError, AttributeError):\n",
    "        raise FailedTest(\"Test failed!\")"
   ],
   "metadata": {
    "collapsed": false,
    "pycharm": {
     "name": "#%%\n"
    }
   }
  },
  {
   "cell_type": "code",
   "execution_count": null,
   "outputs": [],
   "source": [
    "compare_sequence_stockfish(4)"
   ],
   "metadata": {
    "collapsed": false,
    "pycharm": {
     "name": "#%%\n"
    }
   }
  },
  {
   "cell_type": "markdown",
   "source": [
    "Sofern keine einzelne Überprüfung ausgewählter Spielsituationen überprüft werden soll, bietet die Funktion `compare_all_sequences()` die Option alle berechneten Spielsituationen in den $S_n$-Mengen zu überprüfen.\n",
    "Hierzu wird die Funktion `compare_sequence_stockfish(sequence_index, g_filename=None)` aufgerufen.\n",
    "\n",
    "Das Ergebnis wird in eine Datei der Form: `All_S_Compare_[Executiontime].txt` geschrieben."
   ],
   "metadata": {
    "collapsed": false,
    "pycharm": {
     "name": "#%% md\n"
    }
   }
  },
  {
   "cell_type": "code",
   "execution_count": null,
   "outputs": [],
   "source": [
    "def compare_all_sequences():\n",
    "    try:\n",
    "        filename = \"All_S_Compare_\" + str(datetime.today().replace(microsecond=0)).replace(\":\", \"_\") + \".txt\"\n",
    "        for i in range(len(g_s_n_integers)):\n",
    "            print(\"Comparing S_\" + str(i) + \"...\")\n",
    "            compare_sequence_stockfish(i, filename)\n",
    "    except FailedTest:\n",
    "        raise FailedTest(\"Test failed!\")"
   ],
   "metadata": {
    "collapsed": false,
    "pycharm": {
     "name": "#%%\n"
    }
   }
  },
  {
   "cell_type": "code",
   "execution_count": null,
   "outputs": [],
   "source": [
    "compare_all_sequences()\n"
   ],
   "metadata": {
    "collapsed": false,
    "pycharm": {
     "name": "#%%\n"
    }
   }
  }
 ],
 "metadata": {
  "kernelspec": {
   "display_name": "Python 3",
   "language": "python",
   "name": "python3"
  },
  "language_info": {
   "codemirror_mode": {
    "name": "ipython",
    "version": 2
   },
   "file_extension": ".py",
   "mimetype": "text/x-python",
   "name": "python",
   "nbconvert_exporter": "python",
   "pygments_lexer": "ipython2",
   "version": "2.7.6"
  }
 },
 "nbformat": 4,
 "nbformat_minor": 0
}