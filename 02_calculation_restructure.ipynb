{
 "cells": [
  {
   "cell_type": "code",
   "execution_count": 1,
   "outputs": [
    {
     "data": {
      "text/plain": "<IPython.core.display.HTML object>",
      "text/html": "<link href='http://fonts.googleapis.com/css?family=Alegreya+Sans:100,300,400,500,700,800,900,100italic,300italic,400italic,500italic,700italic,800italic,900italic' rel='stylesheet' type='text/css'>\n<link href='http://fonts.googleapis.com/css?family=Arvo:400,700,400italic' rel='stylesheet' type='text/css'>\n<link href='http://fonts.googleapis.com/css?family=PT+Mono' rel='stylesheet' type='text/css'>\n<link href='http://fonts.googleapis.com/css?family=Shadows+Into+Light' rel='stylesheet' type='text/css'>\n<link href='http://fonts.googleapis.com/css?family=Philosopher:400,700,400italic,700italic' rel='stylesheet' type='text/css'>\n\n<style>\n\n@font-face {\n    font-family: \"Computer Modern\";\n    src: url('http://mirrors.ctan.org/fonts/cm-unicode/fonts/otf/cmunss.otf');\n}\n\n.container { width: 100% }\n\n/* Formatting for header cells */\n.text_cell_render h1 {\n    font-family: 'Philosopher', sans-serif;\n    font-weight: 400;\n    font-size: 2.2em;\n    line-height: 100%;\n    color: rgb(0, 80, 120);\n    margin-bottom: 0.1em;\n    margin-top: 0.1em;\n    display: block;\n}\n.text_cell_render h2 {\n    font-family: 'Philosopher', serif;\n    font-weight: 400;\n    font-size: 1.9em;\n    line-height: 100%;\n    color: rgb(200,100,0);\n    margin-bottom: 0.1em;\n    margin-top: 0.1em;\n    display: block;\n}\n\n.text_cell_render h3 {\n    font-family: 'Philosopher', serif;\n    margin-top:12px;\n    margin-bottom: 3px;\n    font-style: italic;\n    color: rgb(94,127,192);\n}\n\n.text_cell_render h4 {\n    font-family: 'Philosopher', serif;\n}\n\n.text_cell_render h5 {\n    font-family: 'Alegreya Sans', sans-serif;\n    font-weight: 300;\n    font-size: 16pt;\n    color: grey;\n    font-style: italic;\n    margin-bottom: .1em;\n    margin-top: 0.1em;\n    display: block;\n}\n\n.text_cell_render h6 {\n    font-family: 'PT Mono', sans-serif;\n    font-weight: 300;\n    font-size: 10pt;\n    color: grey;\n    margin-bottom: 1px;\n    margin-top: 1px;\n}\n\n.text_cell_render em {\n    font-family: 'Philosopher', sans-serif;\n    color:        blue;\n    background-color: rgb(255,220,180);\n    font-size:    110%;\n    margin-left:   2px;\n    margin-right:  2px;\n    font-weight:   100;\n}\n\n.text_cell_render b {\n    color:            rgb(255,195,195);\n    background-color: rgb(0,0,0);\n    font-size:    110%;\n    margin-left:   2px;\n    margin-right:  2px;\n    font-weight:   650;\n}\n\n.text_cell_render tt {\n    font-size:    120%;\n    margin-left:   2px;\n    margin-right:  2px;\n    font-weight:   150;\n}\n\n.Codemirror {\n    font-family: \"PT Mono\";\n    font-size: 100%;\n}\n\n</style>"
     },
     "execution_count": 1,
     "metadata": {},
     "output_type": "execute_result"
    }
   ],
   "source": [
    "import json\n",
    "\n",
    "import chess\n",
    "from IPython.core.display import HTML\n",
    "with open('style.html', 'r') as file:\n",
    "     css = file.read()\n",
    "HTML(css)"
   ],
   "metadata": {
    "collapsed": false,
    "pycharm": {
     "name": "#%%\n"
    }
   }
  },
  {
   "cell_type": "code",
   "execution_count": 2,
   "outputs": [],
   "source": [
    "%run Util/00_imports.ipynb\n",
    "%run Util/01_functions.ipynb"
   ],
   "metadata": {
    "collapsed": false,
    "pycharm": {
     "name": "#%%\n"
    }
   }
  },
  {
   "cell_type": "code",
   "execution_count": 3,
   "outputs": [],
   "source": [
    "# Global variables:\n",
    "\n",
    "USED_BOARDS = set()\n",
    "SWAPS = {\n",
    "        \"vertical\" : {x:x^56 for x in range(64)},\n",
    "        \"horizontal\" : {x:x^7 for x in range(64)},\n",
    "        \"rotate_right\" : {x:(((x >> 3) | (x << 3)) & 63) ^ 56 for x in range(64)},\n",
    "        \"rotate_180\" : {x : x ^ 63 for x in range(64)},\n",
    "        \"rotate_left\" : {x : (((x >> 3) | (x << 3)) & 63) ^ 7 for x in range(64)},\n",
    "        \"diagonal\" : {x : ((x >> 3) | (x << 3)) & 63 for x in range(64)},\n",
    "        \"anti_diagonal\" : {x : (((x >> 3) | (x << 3)) & 63) ^ 63 for x in range(64)}\n",
    "    }\n",
    "PIECE_LIST = [chess.Piece.from_symbol(\"K\"), chess.Piece.from_symbol(\"k\"), chess.Piece.from_symbol(\"P\")]\n",
    "USER_WANTS_PAWN = chess.Piece.from_symbol(\"P\") in PIECE_LIST\n",
    "FILENAME = \"test_15_05\""
   ],
   "metadata": {
    "collapsed": false,
    "pycharm": {
     "name": "#%%\n"
    }
   }
  },
  {
   "cell_type": "markdown",
   "source": [
    "# Überlegung im Vergleich zu vorherigen Version:\n",
    "* Muss der Nutzer wirklich einen Namen der Datei angeben? Können wir diesen nicht generisch erstellen?"
   ],
   "metadata": {
    "collapsed": false,
    "pycharm": {
     "name": "#%% md\n"
    }
   }
  },
  {
   "cell_type": "markdown",
   "source": [
    "# Voraussetzungen:\n",
    "* Nutzer ist immer weiß"
   ],
   "metadata": {
    "collapsed": false,
    "pycharm": {
     "name": "#%% md\n"
    }
   }
  },
  {
   "cell_type": "markdown",
   "source": [
    "# Strukturüberlegung:\n",
    "* Zentrale used_boards -> Müssen nicht übergeben werden\n",
    "* Uniques werden gespeichert anstatt kompletter s_n Menge\n",
    "* Angabe des Nutzers der aktuellen Situation\n",
    "* Nutzer startet Berechnung:"
   ],
   "metadata": {
    "collapsed": false,
    "pycharm": {
     "name": "#%% md\n"
    }
   }
  },
  {
   "cell_type": "markdown",
   "source": [
    "# Benötigte Funktionen:\n",
    "\n",
    "* Spiegelungen aus Uniques generieren; gen_mirroring(uniques):\n",
    "    * Über Uniques iterieren\n",
    "        * Über Spiegelarten iterieren\n",
    "            * Spiegelung durchführen (ohne Objekterstellung in Integer-Schreibweise spiegeln)\n",
    "            * Spiegelungen in Menge zusammenfassen\n",
    "    * Menge zurückgeben"
   ],
   "metadata": {
    "collapsed": false,
    "pycharm": {
     "name": "#%% md\n"
    }
   }
  },
  {
   "cell_type": "markdown",
   "source": [
    "Menge an Schachbrettern in alle Richtungen spiegeln (falls überhaupt benötigt)"
   ],
   "metadata": {
    "collapsed": false,
    "pycharm": {
     "name": "#%% md\n"
    }
   }
  },
  {
   "cell_type": "code",
   "execution_count": 4,
   "outputs": [],
   "source": [
    "def gen_mirroring(uniques):\n",
    "    result = uniques.copy()\n",
    "    for unique in uniques:\n",
    "        result |= mirror_board_all(unique)\n",
    "    return result"
   ],
   "metadata": {
    "collapsed": false,
    "pycharm": {
     "name": "#%%\n"
    }
   }
  },
  {
   "cell_type": "markdown",
   "source": [
    "Schachbrett in alle Richtungen spiegeln"
   ],
   "metadata": {
    "collapsed": false,
    "pycharm": {
     "name": "#%% md\n"
    }
   }
  },
  {
   "cell_type": "code",
   "execution_count": 5,
   "outputs": [],
   "source": [
    "# Implementierung ohne ENUM:\n",
    "def mirror_board_all(board_int):\n",
    "    result = set()\n",
    "    for name, swap in SWAPS.items():\n",
    "        result.add(mirror_board_7(board_int, swap))\n",
    "    return result"
   ],
   "metadata": {
    "collapsed": false,
    "pycharm": {
     "name": "#%%\n"
    }
   }
  },
  {
   "cell_type": "markdown",
   "source": [
    "Mirror Board with bits in one direction"
   ],
   "metadata": {
    "collapsed": false,
    "pycharm": {
     "name": "#%% md\n"
    }
   }
  },
  {
   "cell_type": "code",
   "execution_count": 6,
   "outputs": [],
   "source": [
    "# Mirroring mit 6 Bit Darstellung\n",
    "\n",
    "def mirror_board(board_int, mirror : dict):\n",
    "    # Save turn\n",
    "    result = board_int & 1\n",
    "    # Get count of pieces saved in list -> Überlegung Liste global zu machen\n",
    "    rounds = len(PIECE_LIST)\n",
    "    # Remove turn\n",
    "    board_int = board_int >> 1\n",
    "    for index in range(0, rounds):\n",
    "        result = (mirror[board_int & 63] << (6 * index) + 1) | result\n",
    "        board_int = board_int >> 6\n",
    "    return result"
   ],
   "metadata": {
    "collapsed": false,
    "pycharm": {
     "name": "#%%\n"
    }
   }
  },
  {
   "cell_type": "code",
   "execution_count": 7,
   "outputs": [],
   "source": [
    "# TODO: Erstellen nach Lukas seiner Bitmethode, wenn ich sie komplett\n",
    "# Mirroring mit 7 Bit Darstellung\n",
    "def mirror_board_7(board_int, mirror : dict):\n",
    "    # Save turn\n",
    "    result = board_int & 1\n",
    "    # Get count of pieces saved in int\n",
    "    n = len(PIECE_LIST)\n",
    "    # Remove turn\n",
    "    board_int = board_int >> 1\n",
    "    \n",
    "    for i in range(n):\n",
    "        result |= mirror[board_int & 127] << 7 * i + 1\n",
    "        board_int = board_int >> 7\n",
    "    return result"
   ],
   "metadata": {
    "collapsed": false,
    "pycharm": {
     "name": "#%%\n"
    }
   }
  },
  {
   "cell_type": "markdown",
   "source": [
    "* Start der Berechnung; start_calculation():\n",
    "    * Bekommt Positionen der Figuren übergeben\n",
    "    * Berechnung der ersten Menge S_0, damit auch Berechnung der ersten Uniques -> Rückgabe nur Uniques\n",
    "        * Hierbei erste wichtige Frage: Werden in used_boards dann ebenfalls nur die Uniques gespeichert oder auch alle?\n",
    "        * Schreiben wir die ganze S_0 Menge direkt in die Datei nach der Berechnung?\n",
    "    * Schleife iterieren mit altbekannter Bedingung (wenn neue Menge leer oder sich nicht unterscheidet)\n",
    "        * Berechnung nächster Menge mit Übergabe der Uniques vorheriger Menge"
   ],
   "metadata": {
    "collapsed": false,
    "pycharm": {
     "name": "#%% md\n"
    }
   }
  },
  {
   "cell_type": "code",
   "execution_count": 8,
   "outputs": [],
   "source": [
    "def calculate():\n",
    "    #sum = 0\n",
    "    sn = calculate_s0()\n",
    "    # Wirklich nur für eine Ausgabe spiegeln?\n",
    "    #len_mir = len(gen_mirroring(sn))\n",
    "    #sum += len_mir\n",
    "    #print(\"Done with S\" + str(0) + \" - length: \" + str(len(sn)) + \" - actual length: \" + str(len_mir))\n",
    "    print(\"Done with S\" + str(0))\n",
    "    store_sn(sn)\n",
    "    \n",
    "    count = 0\n",
    "    \n",
    "    while len(sn) != 0:\n",
    "        sn = calculate_next_sn(sn)\n",
    "        store_sn(sn)\n",
    "        count += 1\n",
    "        #len_mir = len(gen_mirroring(sn))\n",
    "        #sum += len_mir\n",
    "        #print(\"Done with S\" + str(count) + \" - length: \" + str(len(sn)) + \" - actual length: \" + str(len_mir))\n",
    "        print(\"Done with S\" + str(count))\n",
    "    print(\"Done\")\n",
    "    #print(\"Total: \" + str(sum))"
   ],
   "metadata": {
    "collapsed": false,
    "pycharm": {
     "name": "#%%\n"
    }
   }
  },
  {
   "cell_type": "markdown",
   "source": [
    "## Erstellung von S_0\n",
    "> TODO: Einleitung schreiben"
   ],
   "metadata": {
    "collapsed": false,
    "pycharm": {
     "name": "#%% md\n"
    }
   }
  },
  {
   "cell_type": "markdown",
   "source": [
    "> TODO: Beschreibung von calculate_s0() schreiben"
   ],
   "metadata": {
    "collapsed": false,
    "pycharm": {
     "name": "#%% md\n"
    }
   }
  },
  {
   "cell_type": "code",
   "execution_count": 9,
   "outputs": [],
   "source": [
    "def calculate_s0():\n",
    "    # TODO: Hier muss noch irgendwo eine Berücksichtigug rein, dass der Bauer durch die Queen beim Erstellen von s0  ersetzt wird, dies muss dazu noch rückgängi gemacht werden, wenn die Queen durch den Pawn ersetzt wird.\n",
    "    global PIECE_LIST\n",
    "\n",
    "    s0 = set()\n",
    "    empty_board = chess.Board(None)\n",
    "    # Turn has to be black while checkmate\n",
    "    empty_board.turn = chess.BLACK\n",
    "\n",
    "    # Create temp_piece_list for conversion between board_object and integer\n",
    "    tmp_piece_list = []\n",
    "    s0.add(to_integer(empty_board, tmp_piece_list))\n",
    "   \n",
    "    if USER_WANTS_PAWN: \n",
    "        PIECE_LIST[PIECE_LIST.index(chess.Piece.from_symbol('P'))] = chess.Piece.from_symbol('Q')\n",
    "\n",
    "    for piece in PIECE_LIST:\n",
    "        s0 = fill_boards_with_piece(s0, piece, tmp_piece_list)\n",
    "        tmp_piece_list.append(piece)\n",
    "        \n",
    "    return s0"
   ],
   "metadata": {
    "collapsed": false,
    "pycharm": {
     "name": "#%%\n"
    }
   }
  },
  {
   "cell_type": "markdown",
   "source": [
    "> TODO: Beschreibung von fill_boards_with_piece() schreiben"
   ],
   "metadata": {
    "collapsed": false,
    "pycharm": {
     "name": "#%% md\n"
    }
   }
  },
  {
   "cell_type": "code",
   "execution_count": 10,
   "outputs": [],
   "source": [
    "def fill_boards_with_piece(int_boards_set, piece, cur_piece_list):\n",
    "    finished_boards = set()\n",
    "    all_squares = set(range(64))\n",
    "    piece_count = len(PIECE_LIST)\n",
    "    for int_board in int_boards_set:\n",
    "        board_o = to_board(int_board, cur_piece_list)\n",
    "        used_squares = set(board_o.piece_map().keys())\n",
    "        for square in all_squares:\n",
    "            if square not in used_squares:\n",
    "                tmp_piece_list = cur_piece_list.copy()\n",
    "                board_object = board_o.copy()\n",
    "                board_object.set_piece_at(square, piece)\n",
    "                tmp_piece_list.append(piece)\n",
    "                board_int = to_integer(board_object, tmp_piece_list)\n",
    "                if len(used_squares) > 1 and not board_object.is_valid():\n",
    "                    # Don't process invalid boards further\n",
    "                    # than the second king\n",
    "                    continue\n",
    "\n",
    "                if board_object.is_checkmate():\n",
    "                    if board_int not in USED_BOARDS:\n",
    "                        finished_boards.add(board_int)\n",
    "                        add_to_used(board_int)\n",
    "                        continue\n",
    "\n",
    "                if len(used_squares) + 1 < piece_count: #Board is valid, but needs more pieces\n",
    "                    finished_boards.add(board_int)\n",
    "    return finished_boards"
   ],
   "metadata": {
    "collapsed": false,
    "pycharm": {
     "name": "#%%\n"
    }
   }
  },
  {
   "cell_type": "markdown",
   "source": [
    "> TODO: Beschreibung von add_board_with_reflection() schreiben.\n",
    "> TODO: Schauen, ob sie auch für die Rückwärtsgenerierung verwendet werden kann."
   ],
   "metadata": {
    "collapsed": false,
    "pycharm": {
     "name": "#%% md\n"
    }
   }
  },
  {
   "cell_type": "code",
   "execution_count": 11,
   "outputs": [],
   "source": [
    "def add_all_to_used(boards):\n",
    "    for board in boards:\n",
    "        add_to_used(board)"
   ],
   "metadata": {
    "collapsed": false,
    "pycharm": {
     "name": "#%%\n"
    }
   }
  },
  {
   "cell_type": "code",
   "execution_count": 12,
   "outputs": [],
   "source": [
    "def add_to_used(board_int):\n",
    "    global USED_BOARDS\n",
    "    USED_BOARDS.add(board_int)\n",
    "    if not USER_WANTS_PAWN:\n",
    "        for reflection in mirror_board_all(board_int):\n",
    "            USED_BOARDS.add(reflection)"
   ],
   "metadata": {
    "collapsed": false,
    "pycharm": {
     "name": "#%%\n"
    }
   }
  },
  {
   "cell_type": "markdown",
   "source": [
    "> TODO: Beschreibung von store_sn schreiben"
   ],
   "metadata": {
    "collapsed": false,
    "pycharm": {
     "name": "#%% md\n"
    }
   }
  },
  {
   "cell_type": "markdown",
   "source": [
    "> Momentaner start hier positioniert, um zu zeigen, dass s0 funktioniert\n",
    "> Bemerkung: Es müssen alle Zellen davor ausgeführt werden, dass es funktioniert! (Genauer: Es muss USED_BOARDS resetted werden!)"
   ],
   "metadata": {
    "collapsed": false,
    "pycharm": {
     "name": "#%% md\n"
    }
   }
  },
  {
   "cell_type": "code",
   "execution_count": 13,
   "outputs": [],
   "source": [
    "def calculate_next_sn(sn):\n",
    "    sn_p_1 = set()\n",
    "    for board_int in sn:\n",
    "        # Nicht sicher, ob hier schon die Bretterstellung notwendig ist (glaube nicht)\n",
    "        chess_board = to_board(board_int, PIECE_LIST)\n",
    "        chess_board.turn = chess_board.turn ^ True\n",
    "\n",
    "        # Berücksichtigung bei dieser Trennung, dass irgendwann auch der Pawn in eine Queen umgewandelt wird und dann muss USER_WANTS_PAWN = False sein -> Danach aber vorsichtig bei Spiegelungen sein, weil diese auch nicht instant verwendet werden können -> Möglicherweise doch so umsetzbar\n",
    "        \n",
    "        if need_pawn_moves(chess_board):\n",
    "            reached_boards = do_pawn_stuff(chess_board)\n",
    "        else:\n",
    "            reached_boards = do_not_pawn_stuff(chess_board)\n",
    "            \n",
    "        if not chess_board.turn:\n",
    "            reached_boards = check_black_determinism(reached_boards)\n",
    "        \n",
    "        reached_integers = multiple_to_integer(reached_boards)\n",
    "        \n",
    "        # Remove unwanted mirrors\n",
    "        reached_integers = reached_integers - USED_BOARDS\n",
    "        \n",
    "        sn_p_1 |= reached_integers\n",
    "        add_all_to_used(reached_integers)\n",
    "\n",
    "    return sn_p_1"
   ],
   "metadata": {
    "collapsed": false,
    "pycharm": {
     "name": "#%%\n"
    }
   }
  },
  {
   "cell_type": "markdown",
   "source": [
    "> TODO: Diese Funktion wird verwendet, um jeglichen Stuff bzgl. Pawns abzuarbeiten -> Modularisierung von Funktionen und Trennung der Funktionalität"
   ],
   "metadata": {
    "collapsed": false,
    "pycharm": {
     "name": "#%% md\n"
    }
   }
  },
  {
   "cell_type": "markdown",
   "source": [
    "# Beriech für die Implementierung von nicht-Bauern stuff"
   ],
   "metadata": {
    "collapsed": false,
    "pycharm": {
     "name": "#%% md\n"
    }
   }
  },
  {
   "cell_type": "code",
   "execution_count": 14,
   "outputs": [],
   "source": [
    "def do_not_pawn_stuff(chess_board):\n",
    "    tmp = []\n",
    "    for pLMove in chess_board.pseudo_legal_moves:\n",
    "        # Backwards-execuion of Move\n",
    "        chess_board.push(pLMove)\n",
    "        chess_board.turn = chess_board.turn ^ True\n",
    "        tmp.append(chess_board.copy())\n",
    "        chess_board.turn = chess_board.turn ^ True\n",
    "        chess_board.pop()\n",
    "        \n",
    "    reached_boards = keep_if_valid(tmp)  \n",
    "\n",
    "    return reached_boards"
   ],
   "metadata": {
    "collapsed": false,
    "pycharm": {
     "name": "#%%\n"
    }
   }
  },
  {
   "cell_type": "code",
   "execution_count": 15,
   "outputs": [
    {
     "data": {
      "text/plain": "'\\n# Check if Move is valid -> Kann man Auslagern? Unsicher wegen continue? Maximal, dass man in der Funktion ein Bool weitergibt und anhand davon etwas macht\\n\\n        #why outcome?\\n        if not chess_board.is_valid() or chess_board.outcome() is not None:\\n            chess_board.turn = chess_board.turn ^ True\\n            chess_board.pop()\\n            continue\\n\\n        new_board_int = to_integer(chess_board, PIECE_LIST)\\n\\n        # Erstellung der Mirrored Boards und das Hinzufügen in Uniques passiert erst in check_black_determinism bzw. mal schauen, wo es genau passiert\\n        if new_board_int not in USED_BOARDS:\\n            sn_p_1.add(new_board_int)\\n'"
     },
     "execution_count": 15,
     "metadata": {},
     "output_type": "execute_result"
    }
   ],
   "source": [
    "'''\n",
    "# Check if Move is valid -> Kann man Auslagern? Unsicher wegen continue? Maximal, dass man in der Funktion ein Bool weitergibt und anhand davon etwas macht\n",
    "\n",
    "        #why outcome?\n",
    "        if not chess_board.is_valid() or chess_board.outcome() is not None:\n",
    "            chess_board.turn = chess_board.turn ^ True\n",
    "            chess_board.pop()\n",
    "            continue\n",
    "\n",
    "        new_board_int = to_integer(chess_board, PIECE_LIST)\n",
    "\n",
    "        # Erstellung der Mirrored Boards und das Hinzufügen in Uniques passiert erst in check_black_determinism bzw. mal schauen, wo es genau passiert\n",
    "        if new_board_int not in USED_BOARDS:\n",
    "            sn_p_1.add(new_board_int)\n",
    "'''"
   ],
   "metadata": {
    "collapsed": false,
    "pycharm": {
     "name": "#%%\n"
    }
   }
  },
  {
   "cell_type": "markdown",
   "source": [
    "# Bereich für alle Bauern-Funktionen"
   ],
   "metadata": {
    "collapsed": false,
    "pycharm": {
     "name": "#%% md\n"
    }
   }
  },
  {
   "cell_type": "code",
   "execution_count": 16,
   "outputs": [],
   "source": [
    "def do_pawn_stuff(chess_board):\n",
    "    # Frage: Brauche ich pawn_positions überhaupt, wenn ich das so trenne, in alter Version werden sie nur zur Überprüfung verwendet, ob Pawns auf dem Feld sind (wissen wir durch USER_WANTS_PAWN) und ob pseudo_legal_moves Pawns enthalten (da wir dieses Szenario woanders behandeln (ohne Pawns) ist das irrelevant;\n",
    "\n",
    "    # Bezüglich der Trennung mit dem anderen shit, wenn eine Queen auf dem Brett steht, muss hier eine Funktion definiert werden, die die Züge der Queen rückwärts darstellt! Glaube die Position von do_queen_backwards sollte passen()\n",
    "    \n",
    "    tmp = []\n",
    "\n",
    "    # Es stehe Pawns auf dem Schachbrett\n",
    "    if check_for_pawn(chess_board):\n",
    "        tmp = pawn_moves(chess_board)\n",
    "    # Stehen keine Pawns, also irgendwelche anderen Figuren, die mal ein Pawn waren, auf dem Schachbrett, da Queen optimal, Queens\n",
    "    else:\n",
    "        tmp = [replace_queen(chess_board)]\n",
    "    \n",
    "    reached_boards = keep_if_valid(tmp)\n",
    "\n",
    "    return reached_boards"
   ],
   "metadata": {
    "collapsed": false,
    "pycharm": {
     "name": "#%%\n"
    }
   }
  },
  {
   "cell_type": "code",
   "execution_count": 17,
   "outputs": [],
   "source": [
    "def check_for_pawn(chess_board):\n",
    "    return len(set(chess_board.pieces(chess.PAWN, chess.WHITE))) > 0"
   ],
   "metadata": {
    "collapsed": false,
    "pycharm": {
     "name": "#%%\n"
    }
   }
  },
  {
   "cell_type": "code",
   "execution_count": 18,
   "outputs": [],
   "source": [
    "def need_pawn_moves(chess_board):\n",
    "    return USER_WANTS_PAWN and chess_board.turn and (check_for_pawn(chess_board) or check_top_row_for_queen(chess_board))"
   ],
   "metadata": {
    "collapsed": false,
    "pycharm": {
     "name": "#%%\n"
    }
   }
  },
  {
   "cell_type": "code",
   "execution_count": 19,
   "outputs": [],
   "source": [
    "def find_pawn(chess_board):\n",
    "    return list(chess_board.pieces(chess.PAWN, chess.WHITE))[0]"
   ],
   "metadata": {
    "collapsed": false,
    "pycharm": {
     "name": "#%%\n"
    }
   }
  },
  {
   "cell_type": "code",
   "execution_count": 20,
   "outputs": [],
   "source": [
    "def pawn_moves(chess_board):\n",
    "    # Müssen auch Anfangszüge berücksichtigt werden? Also Doppelzug? Wenn ja, dann pawn_moves, wenn nein, dann pawn_move\n",
    "    \n",
    "    res = []\n",
    "    position = find_pawn(chess_board)\n",
    "    if position in range(24-31):\n",
    "        tmp_board = chess_board.copy()\n",
    "        tmp_board.remove_piece_at(position)\n",
    "        tmp_board.set_piece_at(position - 16, chess.Piece.from_symbol('P'))\n",
    "        res.append(tmp_board)\n",
    "    \n",
    "    chess_board.remove_piece_at(position)\n",
    "    chess_board.set_piece_at(position - 8, chess.Piece.from_symbol('P'))\n",
    "    res.append(chess_board)\n",
    "    \n",
    "    return res"
   ],
   "metadata": {
    "collapsed": false,
    "pycharm": {
     "name": "#%%\n"
    }
   }
  },
  {
   "cell_type": "code",
   "execution_count": 21,
   "outputs": [],
   "source": [
    "def check_top_row_for_queen(chess_board):\n",
    "    squares_with_queen = set(chess_board.pieces(chess.QUEEN, chess.WHITE))\n",
    "    for i in range(56,64):\n",
    "        if i in squares_with_queen:\n",
    "            return True\n",
    "    return False"
   ],
   "metadata": {
    "collapsed": false,
    "pycharm": {
     "name": "#%%\n"
    }
   }
  },
  {
   "cell_type": "code",
   "execution_count": 22,
   "outputs": [],
   "source": [
    "def replace_queen(chess_board):\n",
    "    # Same case as find_pawn, es kann doch nur eine toprow_queen_position geben\n",
    "    queen_square = list(chess_board.pieces(chess.QUEEN, chess.WHITE))[0]\n",
    "    chess_board.remove_piece_at(queen_square)\n",
    "    chess_board.set_piece_at(queen_square - 8, chess.Piece.from_symbol('P'))\n",
    "    \n",
    "    return chess_board"
   ],
   "metadata": {
    "collapsed": false,
    "pycharm": {
     "name": "#%%\n"
    }
   }
  },
  {
   "cell_type": "markdown",
   "source": [
    "> TODO: Funktion, die zur Generierung von anderen Zügen ohne Bauern benötigt wird."
   ],
   "metadata": {
    "collapsed": false,
    "pycharm": {
     "name": "#%% md\n"
    }
   }
  },
  {
   "cell_type": "markdown",
   "source": [
    "* Funktion zur Überprüfung der Züge von schwarz (dass diese auch bei einer Menge m landen mit m < n)\n",
    "    * Einfach überprüfen, ob Züge in used_boards landen"
   ],
   "metadata": {
    "collapsed": false,
    "pycharm": {
     "name": "#%% md\n"
    }
   }
  },
  {
   "cell_type": "markdown",
   "source": [
    "## Operationen für die Rechnung"
   ],
   "metadata": {
    "collapsed": false,
    "pycharm": {
     "name": "#%% md\n"
    }
   }
  },
  {
   "cell_type": "code",
   "execution_count": 23,
   "outputs": [],
   "source": [
    "def keep_if_valid(boards):\n",
    "    res = []\n",
    "    for board in boards:\n",
    "        if board.is_valid():\n",
    "            res.append(board)\n",
    "            \n",
    "    return res"
   ],
   "metadata": {
    "collapsed": false,
    "pycharm": {
     "name": "#%%\n"
    }
   }
  },
  {
   "cell_type": "code",
   "execution_count": 24,
   "outputs": [],
   "source": [
    "def check_black_determinism(boards):\n",
    "    deterministic = []\n",
    "    for chess_board in boards:\n",
    "        include = True\n",
    "        for move in chess_board.legal_moves:\n",
    "            chess_board.push(move)\n",
    "            rep = to_integer(chess_board,PIECE_LIST)\n",
    "            chess_board.pop()\n",
    "            if rep not in USED_BOARDS:\n",
    "                include = False\n",
    "                break\n",
    "        \n",
    "        if include:\n",
    "            deterministic.append(chess_board)\n",
    "            \n",
    "    return deterministic"
   ],
   "metadata": {
    "collapsed": false,
    "pycharm": {
     "name": "#%%\n"
    }
   }
  },
  {
   "cell_type": "code",
   "execution_count": 25,
   "outputs": [],
   "source": [
    "def multiple_to_integer(boards):\n",
    "    integers = set()\n",
    "    for board in boards:\n",
    "        integers.add(to_integer(board, PIECE_LIST))\n",
    "    return integers\n"
   ],
   "metadata": {
    "collapsed": false,
    "pycharm": {
     "name": "#%%\n"
    }
   }
  },
  {
   "cell_type": "markdown",
   "source": [
    "## Storage Stuff"
   ],
   "metadata": {
    "collapsed": false,
    "pycharm": {
     "name": "#%% md\n"
    }
   }
  },
  {
   "cell_type": "code",
   "execution_count": 29,
   "metadata": {
    "pycharm": {
     "name": "#%%\n"
    }
   },
   "outputs": [],
   "source": [
    "def store_sn(sn):\n",
    "    f = open(\"S_n_Results/\" + FILENAME + \".preConvert\", \"a\")\n",
    "    f.write(\"\\n\")\n",
    "    f.write(json.dumps(list(sn)))\n",
    "    f.close()"
   ]
  },
  {
   "cell_type": "code",
   "execution_count": 30,
   "metadata": {
    "pycharm": {
     "name": "#%%\n"
    }
   },
   "outputs": [],
   "source": [
    "def convert_temp_file():\n",
    "    f = open(\"S_n_Results/\" + FILENAME + \".preConvert\", \"rb\")\n",
    "    lines = f.readlines()\n",
    "    \n",
    "    data = [PIECE_LIST]\n",
    "    \n",
    "    for line in lines[1:]:\n",
    "        list = json.loads(line)\n",
    "        data.append(set(list))\n",
    "        \n",
    "    f = open(\"S_n_Results/\" + FILENAME + \".pickle\", \"wb\")\n",
    "    f.write(pickle.dumps(data))\n",
    "    f.close()\n",
    "    \n",
    "    with ZipFile(\"S_n_Results/\" + FILENAME + '.chessAI', 'w', compression=ZIP_DEFLATED) as zipped:\n",
    "        zipped.write(\"S_n_Results/\" + FILENAME + \".pickle\", FILENAME + \".pickle\")\n",
    "    if os.path.exists(\"S_n_Results/\" + FILENAME + \".chessAI\") and os.path.exists(\"S_n_Results/\" + FILENAME + \".pickle\"):\n",
    "        os.remove(\"S_n_Results/\" + FILENAME + \".pickle\") \n",
    "\n",
    "    if os.path.exists(\"S_n_Results/\" + FILENAME + \".preConvert\"):\n",
    "        os.remove(\"S_n_Results/\" + FILENAME + \".preConvert\")"
   ]
  },
  {
   "cell_type": "code",
   "execution_count": 31,
   "metadata": {
    "pycharm": {
     "name": "#%%\n"
    }
   },
   "outputs": [],
   "source": [
    "def run():\n",
    "    create_empty_file()\n",
    "    calculate()\n",
    "    convert_temp_file()\n"
   ]
  },
  {
   "cell_type": "code",
   "execution_count": 32,
   "outputs": [
    {
     "name": "stdout",
     "output_type": "stream",
     "text": [
      "Done with S0\n",
      "Done with S1\n",
      "Done with S2\n",
      "Done with S3\n",
      "Done with S4\n",
      "Done with S5\n",
      "Done with S6\n",
      "Done with S7\n",
      "Done with S8\n",
      "Done with S9\n",
      "Done with S10\n",
      "Done with S11\n",
      "Done with S12\n",
      "Done with S13\n",
      "Done with S14\n",
      "Done with S15\n",
      "Done with S16\n",
      "Done with S17\n",
      "Done with S18\n",
      "Done with S19\n",
      "Done with S20\n",
      "Done with S21\n",
      "Done\n",
      "CPU times: total: 1min 30s\n",
      "Wall time: 1min 34s\n"
     ]
    }
   ],
   "source": [
    "%%time\n",
    "# Scenario 1\n",
    "USED_BOARDS = set()\n",
    "PIECE_LIST = [chess.Piece.from_symbol(\"K\"), chess.Piece.from_symbol(\"k\"), chess.Piece.from_symbol(\"Q\")]\n",
    "FILENAME = \"s_n_queen_24_05\"\n",
    "USER_WANTS_PAWN = chess.Piece.from_symbol(\"P\") in PIECE_LIST\n",
    "run()"
   ],
   "metadata": {
    "collapsed": false,
    "pycharm": {
     "name": "#%%\n"
    }
   }
  },
  {
   "cell_type": "code",
   "execution_count": 33,
   "outputs": [
    {
     "name": "stdout",
     "output_type": "stream",
     "text": [
      "Done with S0\n",
      "Done with S1\n",
      "Done with S2\n",
      "Done with S3\n",
      "Done with S4\n",
      "Done with S5\n",
      "Done with S6\n",
      "Done with S7\n",
      "Done with S8\n",
      "Done with S9\n",
      "Done with S10\n",
      "Done with S11\n",
      "Done with S12\n",
      "Done with S13\n",
      "Done with S14\n",
      "Done with S15\n",
      "Done with S16\n",
      "Done with S17\n",
      "Done with S18\n",
      "Done with S19\n",
      "Done with S20\n",
      "Done with S21\n",
      "Done with S22\n",
      "Done with S23\n",
      "Done with S24\n",
      "Done with S25\n",
      "Done with S26\n",
      "Done with S27\n",
      "Done with S28\n",
      "Done with S29\n",
      "Done with S30\n",
      "Done with S31\n",
      "Done with S32\n",
      "Done with S33\n",
      "Done\n",
      "CPU times: total: 58.5 s\n",
      "Wall time: 1min\n"
     ]
    }
   ],
   "source": [
    "%%time\n",
    "# Scenario 2\n",
    "USED_BOARDS = set()\n",
    "PIECE_LIST = [chess.Piece.from_symbol(\"K\"), chess.Piece.from_symbol(\"k\"), chess.Piece.from_symbol(\"R\")]\n",
    "FILENAME = \"s_n_rook_24_05\"\n",
    "USER_WANTS_PAWN = chess.Piece.from_symbol(\"P\") in PIECE_LIST\n",
    "run()"
   ],
   "metadata": {
    "collapsed": false,
    "pycharm": {
     "name": "#%%\n"
    }
   }
  },
  {
   "cell_type": "code",
   "execution_count": 34,
   "outputs": [
    {
     "name": "stdout",
     "output_type": "stream",
     "text": [
      "Done with S0\n",
      "Done with S1\n",
      "Done with S2\n",
      "Done with S3\n",
      "Done with S4\n",
      "Done with S5\n",
      "Done with S6\n",
      "Done with S7\n",
      "Done with S8\n",
      "Done with S9\n",
      "Done with S10\n",
      "Done with S11\n",
      "Done with S12\n",
      "Done with S13\n",
      "Done with S14\n",
      "Done with S15\n",
      "Done with S16\n",
      "Done with S17\n",
      "Done with S18\n",
      "Done with S19\n",
      "Done with S20\n",
      "Done with S21\n",
      "Done with S22\n",
      "Done with S23\n",
      "Done with S24\n",
      "Done with S25\n",
      "Done with S26\n",
      "Done with S27\n",
      "Done with S28\n",
      "Done with S29\n",
      "Done with S30\n",
      "Done with S31\n",
      "Done with S32\n",
      "Done with S33\n",
      "Done with S34\n",
      "Done with S35\n",
      "Done with S36\n",
      "Done with S37\n",
      "Done with S38\n",
      "Done with S39\n",
      "Done\n",
      "CPU times: total: 34min 57s\n",
      "Wall time: 36min 35s\n"
     ]
    }
   ],
   "source": [
    "%%time\n",
    "# Scenario 3\n",
    "USED_BOARDS = set()\n",
    "PIECE_LIST = [chess.Piece.from_symbol(\"K\"), chess.Piece.from_symbol(\"k\"), chess.Piece.from_symbol(\"B\"), chess.Piece.from_symbol(\"B\")]\n",
    "FILENAME = \"s_n_two_bishop_24_05\"\n",
    "USER_WANTS_PAWN = chess.Piece.from_symbol(\"P\") in PIECE_LIST\n",
    "run()"
   ],
   "metadata": {
    "collapsed": false,
    "pycharm": {
     "name": "#%%\n"
    }
   }
  },
  {
   "cell_type": "code",
   "execution_count": 35,
   "outputs": [
    {
     "name": "stdout",
     "output_type": "stream",
     "text": [
      "Done with S0\n",
      "Done with S1\n",
      "Done with S2\n",
      "Done with S3\n",
      "Done with S4\n",
      "Done with S5\n",
      "Done with S6\n",
      "Done with S7\n",
      "Done with S8\n",
      "Done with S9\n",
      "Done with S10\n",
      "Done with S11\n",
      "Done with S12\n",
      "Done with S13\n",
      "Done with S14\n",
      "Done with S15\n",
      "Done with S16\n",
      "Done with S17\n",
      "Done with S18\n",
      "Done with S19\n",
      "Done with S20\n",
      "Done with S21\n",
      "Done with S22\n",
      "Done with S23\n",
      "Done with S24\n",
      "Done with S25\n",
      "Done with S26\n",
      "Done with S27\n",
      "Done with S28\n",
      "Done with S29\n",
      "Done with S30\n",
      "Done with S31\n",
      "Done with S32\n",
      "Done with S33\n",
      "Done with S34\n",
      "Done with S35\n",
      "Done with S36\n",
      "Done with S37\n",
      "Done with S38\n",
      "Done with S39\n",
      "Done with S40\n",
      "Done with S41\n",
      "Done with S42\n",
      "Done with S43\n",
      "Done with S44\n",
      "Done with S45\n",
      "Done with S46\n",
      "Done with S47\n",
      "Done with S48\n",
      "Done with S49\n",
      "Done with S50\n",
      "Done with S51\n",
      "Done with S52\n",
      "Done with S53\n",
      "Done with S54\n",
      "Done with S55\n",
      "Done with S56\n",
      "Done with S57\n",
      "Done with S58\n",
      "Done with S59\n",
      "Done with S60\n",
      "Done with S61\n",
      "Done with S62\n",
      "Done with S63\n",
      "Done with S64\n",
      "Done with S65\n",
      "Done\n",
      "CPU times: total: 57min 29s\n",
      "Wall time: 59min 54s\n"
     ]
    }
   ],
   "source": [
    "%%time\n",
    "# Scenario 4\n",
    "USED_BOARDS = set()\n",
    "PIECE_LIST = [chess.Piece.from_symbol(\"K\"), chess.Piece.from_symbol(\"k\"), chess.Piece.from_symbol(\"B\"), chess.Piece.from_symbol(\"N\")]\n",
    "FILENAME = \"s_n_knight_bishop_24_05\"\n",
    "USER_WANTS_PAWN = chess.Piece.from_symbol(\"P\") in PIECE_LIST\n",
    "run()"
   ],
   "metadata": {
    "collapsed": false,
    "pycharm": {
     "name": "#%%\n"
    }
   }
  },
  {
   "cell_type": "code",
   "execution_count": 32,
   "outputs": [
    {
     "name": "stdout",
     "output_type": "stream",
     "text": [
      "Done with S0\n",
      "Done with S1\n",
      "Done with S2\n",
      "Done with S3\n",
      "Done with S4\n",
      "Done with S5\n",
      "Done with S6\n",
      "Done with S7\n",
      "Done with S8\n",
      "Done with S9\n",
      "Done with S10\n",
      "Done with S11\n",
      "Done with S12\n",
      "Done with S13\n",
      "Done with S14\n",
      "Done with S15\n",
      "Done with S16\n",
      "Done with S17\n",
      "Done with S18\n",
      "Done with S19\n",
      "Done with S20\n",
      "Done with S21\n",
      "Done with S22\n",
      "Done\n",
      "CPU times: total: 6min 34s\n",
      "Wall time: 6min 56s\n"
     ]
    }
   ],
   "source": [
    "%%time\n",
    "# Scenario 5\n",
    "USED_BOARDS = set()\n",
    "PIECE_LIST = [chess.Piece.from_symbol(\"K\"), chess.Piece.from_symbol(\"k\"), chess.Piece.from_symbol(\"P\")]\n",
    "FILENAME = \"s_n_pawn_24_05\"\n",
    "USER_WANTS_PAWN = chess.Piece.from_symbol(\"P\") in PIECE_LIST\n",
    "run()"
   ],
   "metadata": {
    "collapsed": false,
    "pycharm": {
     "name": "#%%\n"
    }
   }
  }
 ],
 "metadata": {
  "kernelspec": {
   "display_name": "Python 3 (ipykernel)",
   "language": "python",
   "name": "python3"
  },
  "language_info": {
   "codemirror_mode": {
    "name": "ipython",
    "version": 3
   },
   "file_extension": ".py",
   "mimetype": "text/x-python",
   "name": "python",
   "nbconvert_exporter": "python",
   "pygments_lexer": "ipython3",
   "version": "3.9.12"
  }
 },
 "nbformat": 4,
 "nbformat_minor": 1
}