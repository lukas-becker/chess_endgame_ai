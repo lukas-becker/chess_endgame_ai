{
 "cells": [
  {
   "cell_type": "code",
   "execution_count": null,
   "outputs": [],
   "source": [
    "import math\n",
    "\n",
    "from IPython.core.display import HTML\n",
    "with open('style.html', 'r') as file:\n",
    "     css = file.read()\n",
    "HTML(css)"
   ],
   "metadata": {
    "collapsed": false,
    "pycharm": {
     "name": "#%%\n"
    }
   }
  },
  {
   "cell_type": "code",
   "execution_count": 17,
   "outputs": [],
   "source": [
    "%run Util/00_imports.ipynb\n",
    "%run Util/01_functions.ipynb"
   ],
   "metadata": {
    "collapsed": false,
    "pycharm": {
     "name": "#%%\n"
    }
   }
  },
  {
   "cell_type": "code",
   "execution_count": null,
   "metadata": {
    "collapsed": true
   },
   "outputs": [],
   "source": [
    "# Global variables:\n",
    "\n",
    "used_boards = set()\n",
    "SWAPS = {\n",
    "        \"vertical\" : {x:x^56 for x in range(64)},\n",
    "        \"horizontal\" : {x:x^7 for x in range(64)},\n",
    "        \"rotate_right\" : {x:(((x >> 3) | (x << 3)) & 63) ^ 56 for x in range(64)},\n",
    "        \"rotate_180\" : {x : x ^ 63 for x in range(64)},\n",
    "        \"rotate_left\" : {x : (((x >> 3) | (x << 3)) & 63) ^ 7 for x in range(64)},\n",
    "        \"diagonal\" : {x : ((x >> 3) | (x << 3)) & 63 for x in range(64)},\n",
    "        \"anti_diagonal\" : {x : (((x >> 3) | (x << 3)) & 63) ^ 63 for x in range(64)}\n",
    "    }\n",
    "# Überlegung welche Variablen globale Variablen werden könnten:\n",
    "# user_wants_pawn -> Wird einmal definiert und dann x mal übergeben"
   ]
  },
  {
   "cell_type": "markdown",
   "source": [
    "Definition von Enum (Fand das Stroetmann nicht unnötig? Sollten wir net einfach üüber Dict iterieren?)"
   ],
   "metadata": {
    "collapsed": false
   }
  },
  {
   "cell_type": "code",
   "source": [
    "class Swap_Type(Enum):\n",
    "    VERTICAL = \"vertical\"\n",
    "    HORIZONTAL = \"horizontal\"\n",
    "    ROTATE_RIGHT = \"rotate_right\"\n",
    "    ROTATE_180 = \"rotate_180\"\n",
    "    ROTATE_LEFT = \"rotate_left\"\n",
    "    DIAGONAL = \"diagonal\"\n",
    "    ANTI_DIAGONAL = \"anti_diagonal\""
   ],
   "metadata": {
    "collapsed": false,
    "pycharm": {
     "name": "#%%\n"
    }
   },
   "execution_count": null,
   "outputs": []
  },
  {
   "cell_type": "markdown",
   "source": [
    "# Überlegung im Vergleich zu vorherigen Version:\n",
    "* Muss der Nutzer wirklich einen Namen der Datei angeben? Können wir diesen nicht generisch erstellen?"
   ],
   "metadata": {
    "collapsed": false,
    "pycharm": {
     "name": "#%% md\n"
    }
   }
  },
  {
   "cell_type": "markdown",
   "source": [
    "# Voraussetzungen:\n",
    "* Nutzer ist immer weiß"
   ],
   "metadata": {
    "collapsed": false
   }
  },
  {
   "cell_type": "markdown",
   "source": [
    "# Strukturüberlegung:\n",
    "* Zentrale used_boards -> Müssen nicht übergeben werden\n",
    "* Uniques werden gespeichert anstatt kompletter s_n Menge\n",
    "* Angabe des Nutzers der aktuellen Situation\n",
    "* Nutzer startet Berechnung:"
   ],
   "metadata": {
    "collapsed": false
   }
  },
  {
   "cell_type": "markdown",
   "source": [
    "# Benötigte Funktionen:\n",
    "\n",
    "* Spiegelungen aus Uniques generieren; gen_mirroring(uniques):\n",
    "    * Über Uniques iterieren\n",
    "        * Über Spiegelarten iterieren\n",
    "            * Spiegelung durchführen (ohne Objekterstellung in Integer-Schreibweise spiegeln)\n",
    "            * Spiegelungen in Menge zusammenfassen\n",
    "    * Menge zurückgeben"
   ],
   "metadata": {
    "collapsed": false
   }
  },
  {
   "cell_type": "markdown",
   "source": [
    "Menge an Schachbrettern in alle Richtungen spiegeln (falls überhaupt benötigt)"
   ],
   "metadata": {
    "collapsed": false,
    "pycharm": {
     "name": "#%% md\n"
    }
   }
  },
  {
   "cell_type": "code",
   "source": [
    "def gen_mirroring(uniques):\n",
    "    result = set()\n",
    "    for unique in uniques:\n",
    "        result |= mirror_board_all(unique)\n",
    "    return result"
   ],
   "metadata": {
    "collapsed": false,
    "pycharm": {
     "name": "#%%\n"
    }
   },
   "execution_count": null,
   "outputs": []
  },
  {
   "cell_type": "markdown",
   "source": [
    "Schachbrett in alle Richtungen spiegeln"
   ],
   "metadata": {
    "collapsed": false,
    "pycharm": {
     "name": "#%% md\n"
    }
   }
  },
  {
   "cell_type": "code",
   "execution_count": null,
   "outputs": [],
   "source": [
    "def mirror_board_all(int_board):\n",
    "    result = set()\n",
    "    for name, d in SWAPS:\n",
    "        result.add(mirror_board(int_board, d))\n",
    "    return result"
   ],
   "metadata": {
    "collapsed": false,
    "pycharm": {
     "name": "#%%\n"
    }
   }
  },
  {
   "cell_type": "markdown",
   "source": [
    "Mirror Board with bits"
   ],
   "metadata": {
    "collapsed": false
   }
  },
  {
   "cell_type": "code",
   "execution_count": 45,
   "outputs": [
    {
     "name": "stdout",
     "output_type": "stream",
     "text": [
      "0b1000000\n",
      "64\n",
      "0b100000\n",
      "32\n",
      "0b110000\n",
      "24\n"
     ]
    },
    {
     "data": {
      "text/plain": "'0b11000'"
     },
     "execution_count": 45,
     "metadata": {},
     "output_type": "execute_result"
    }
   ],
   "source": [
    "def mirror_board(int_board, mirror : dict):\n",
    "    # Save turn\n",
    "    result = int_board & 1\n",
    "    # Get count of figures saved in int\n",
    "    rounds = int(math.log2(int_board) // 6)\n",
    "    # Remove turn\n",
    "    int_board = int_board >> 1\n",
    "    for index in range(rounds, 0, -1):\n",
    "        result = (mirror[int_board & 63] << (6 * (index-1)) + 1) | result\n",
    "        int_board = int_board >> 6\n",
    "    return result"
   ],
   "metadata": {
    "collapsed": false,
    "pycharm": {
     "name": "#%%\n"
    }
   }
  },
  {
   "cell_type": "markdown",
   "source": [
    "* Start der Berechnung; start_calculation():\n",
    "    * Bekommt Positionen der Figuren übergeben\n",
    "    * Berechnung der ersten Menge S_0, damit auch Berechnung der ersten Uniques -> Rückgabe nur Uniques\n",
    "        * Hierbei erste wichtige Frage: Werden in used_boards dann ebenfalls nur die Uniques gespeichert oder auch alle?\n",
    "        * Schreiben wir die ganze S_0 Menge direkt in die Datei nach der Berechnung?\n",
    "    * Schleife iterieren mit altbekannter Bedingung (wenn neue Menge leer oder sich nicht unterscheidet)\n",
    "        * Berechnung nächster Menge mit Übergabe der Uniques vorheriger Menge"
   ],
   "metadata": {
    "collapsed": false
   }
  },
  {
   "cell_type": "code",
   "source": [
    "def start_calculation():\n",
    "    pass"
   ],
   "metadata": {
    "collapsed": false,
    "pycharm": {
     "name": "#%%\n"
    }
   },
   "execution_count": null,
   "outputs": []
  },
  {
   "cell_type": "markdown",
   "source": [
    "* Berechnung S-0; calculate_S0():\n",
    "    * Figuren überall auf dem Schachbrett positionieren und überprüfen, ob schwarz im Schach steht\n",
    "    * Falls ja, dieses Brett zu uniques hinzufügen und Spiegelungen noch s_0 hinzufügen\n",
    "    * "
   ],
   "metadata": {
    "collapsed": false
   }
  },
  {
   "cell_type": "code",
   "source": [
    "def calculate_s0():\n",
    "    uniques = set()\n",
    "\n",
    "    store_sn(uniques)\n",
    "    return uniques\n",
    "    pass\n"
   ],
   "metadata": {
    "collapsed": false,
    "pycharm": {
     "name": "#%%\n"
    }
   },
   "execution_count": null,
   "outputs": []
  },
  {
   "cell_type": "markdown",
   "source": [
    "Funktion zum Platzieren der Figur auf dem Schachbrett"
   ],
   "metadata": {
    "collapsed": false,
    "pycharm": {
     "name": "#%% md\n"
    }
   }
  },
  {
   "cell_type": "code",
   "source": [],
   "metadata": {
    "collapsed": false,
    "pycharm": {
     "name": "#%%\n"
    }
   },
   "execution_count": null,
   "outputs": []
  },
  {
   "cell_type": "markdown",
   "source": [
    "* Funktion zur Berechnung der nachfolgenden S-N Menge; calculate_next_sn()\n",
    "    *\n"
   ],
   "metadata": {
    "collapsed": false
   }
  },
  {
   "cell_type": "code",
   "source": [
    "def calculate_next_sn(sn):\n",
    "    sn_p_1 = set()\n",
    "    for unique_board in sn:\n",
    "        board_rep = to_board(unique_board)\n",
    "        for move in board_rep.pseudo_legal_moves:\n",
    "            pass\n",
    "\n",
    "    store_sn(sn_p_1)\n",
    "    return sn_p_1\n",
    "    pass"
   ],
   "metadata": {
    "collapsed": false,
    "pycharm": {
     "name": "#%%\n"
    }
   },
   "execution_count": null,
   "outputs": []
  },
  {
   "cell_type": "markdown",
   "source": [
    "* Funktion zur Speicherung einer S-N Menge; store_SN(uniques):\n",
    "    *"
   ],
   "metadata": {
    "collapsed": false
   }
  },
  {
   "cell_type": "code",
   "source": [
    "def store_sn(uniques):\n",
    "    pass"
   ],
   "metadata": {
    "collapsed": false,
    "pycharm": {
     "name": "#%%\n"
    }
   },
   "execution_count": null,
   "outputs": []
  },
  {
   "cell_type": "markdown",
   "source": [
    "* Funktion zur Überprüfung der Züge von schwarz (dass diese auch bei einer Menge m landen mit m < n)\n",
    "    * Einfach überprüfen, ob Züge in used_boards landen"
   ],
   "metadata": {
    "collapsed": false
   }
  },
  {
   "cell_type": "code",
   "source": [
    "def check_black_moves(uniques):\n",
    "    for int_board in uniques:\n",
    "        \n",
    "    pass"
   ],
   "metadata": {
    "collapsed": false,
    "pycharm": {
     "name": "#%%\n"
    }
   },
   "execution_count": null,
   "outputs": []
  }
 ],
 "metadata": {
  "kernelspec": {
   "display_name": "Python 3",
   "language": "python",
   "name": "python3"
  },
  "language_info": {
   "codemirror_mode": {
    "name": "ipython",
    "version": 2
   },
   "file_extension": ".py",
   "mimetype": "text/x-python",
   "name": "python",
   "nbconvert_exporter": "python",
   "pygments_lexer": "ipython2",
   "version": "2.7.6"
  }
 },
 "nbformat": 4,
 "nbformat_minor": 0
}