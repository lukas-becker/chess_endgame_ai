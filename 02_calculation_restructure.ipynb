{
 "cells": [
  {
   "cell_type": "code",
   "execution_count": null,
   "outputs": [],
   "source": [
    "import chess\n",
    "from IPython.core.display import HTML\n",
    "with open('style.html', 'r') as file:\n",
    "     css = file.read()\n",
    "HTML(css)"
   ],
   "metadata": {
    "collapsed": false,
    "pycharm": {
     "name": "#%%\n"
    }
   }
  },
  {
   "cell_type": "code",
   "execution_count": null,
   "outputs": [],
   "source": [
    "%run Util/00_imports.ipynb\n",
    "%run Util/01_functions_restructure.ipynb"
   ],
   "metadata": {
    "collapsed": false,
    "pycharm": {
     "name": "#%%\n"
    }
   }
  },
  {
   "cell_type": "code",
   "execution_count": null,
   "metadata": {
    "collapsed": true,
    "pycharm": {
     "name": "#%%\n"
    }
   },
   "outputs": [],
   "source": [
    "# Global variables:\n",
    "\n",
    "USED_BOARDS = set()\n",
    "SWAPS = {\n",
    "        \"vertical\" : {x:x^56 for x in range(64)},\n",
    "        \"horizontal\" : {x:x^7 for x in range(64)},\n",
    "        \"rotate_right\" : {x:(((x >> 3) | (x << 3)) & 63) ^ 56 for x in range(64)},\n",
    "        \"rotate_180\" : {x : x ^ 63 for x in range(64)},\n",
    "        \"rotate_left\" : {x : (((x >> 3) | (x << 3)) & 63) ^ 7 for x in range(64)},\n",
    "        \"diagonal\" : {x : ((x >> 3) | (x << 3)) & 63 for x in range(64)},\n",
    "        \"anti_diagonal\" : {x : (((x >> 3) | (x << 3)) & 63) ^ 63 for x in range(64)}\n",
    "    }\n",
    "PIECE_LIST = [chess.Piece.from_symbol(\"K\"), chess.Piece.from_symbol(\"k\"), chess.Piece.from_symbol(\"R\")]\n",
    "USER_WANTS_PAWN = chess.Piece.from_symbol(\"P\") in PIECE_LIST"
   ]
  },
  {
   "cell_type": "markdown",
   "source": [
    "Definition von Enum (Fand das Stroetmann nicht unnötig? Sollten wir net einfach üüber Dict iterieren?)"
   ],
   "metadata": {
    "collapsed": false,
    "pycharm": {
     "name": "#%% md\n"
    }
   }
  },
  {
   "cell_type": "code",
   "source": [
    "class Swap_Type(Enum):\n",
    "    VERTICAL = \"vertical\"\n",
    "    HORIZONTAL = \"horizontal\"\n",
    "    ROTATE_RIGHT = \"rotate_right\"\n",
    "    ROTATE_180 = \"rotate_180\"\n",
    "    ROTATE_LEFT = \"rotate_left\"\n",
    "    DIAGONAL = \"diagonal\"\n",
    "    ANTI_DIAGONAL = \"anti_diagonal\""
   ],
   "metadata": {
    "collapsed": false,
    "pycharm": {
     "name": "#%%\n"
    }
   },
   "execution_count": null,
   "outputs": []
  },
  {
   "cell_type": "markdown",
   "source": [
    "# Überlegung im Vergleich zu vorherigen Version:\n",
    "* Muss der Nutzer wirklich einen Namen der Datei angeben? Können wir diesen nicht generisch erstellen?"
   ],
   "metadata": {
    "collapsed": false,
    "pycharm": {
     "name": "#%% md\n"
    }
   }
  },
  {
   "cell_type": "markdown",
   "source": [
    "# Voraussetzungen:\n",
    "* Nutzer ist immer weiß"
   ],
   "metadata": {
    "collapsed": false,
    "pycharm": {
     "name": "#%% md\n"
    }
   }
  },
  {
   "cell_type": "markdown",
   "source": [
    "# Strukturüberlegung:\n",
    "* Zentrale used_boards -> Müssen nicht übergeben werden\n",
    "* Uniques werden gespeichert anstatt kompletter s_n Menge\n",
    "* Angabe des Nutzers der aktuellen Situation\n",
    "* Nutzer startet Berechnung:"
   ],
   "metadata": {
    "collapsed": false,
    "pycharm": {
     "name": "#%% md\n"
    }
   }
  },
  {
   "cell_type": "markdown",
   "source": [
    "# Benötigte Funktionen:\n",
    "\n",
    "* Spiegelungen aus Uniques generieren; gen_mirroring(uniques):\n",
    "    * Über Uniques iterieren\n",
    "        * Über Spiegelarten iterieren\n",
    "            * Spiegelung durchführen (ohne Objekterstellung in Integer-Schreibweise spiegeln)\n",
    "            * Spiegelungen in Menge zusammenfassen\n",
    "    * Menge zurückgeben"
   ],
   "metadata": {
    "collapsed": false,
    "pycharm": {
     "name": "#%% md\n"
    }
   }
  },
  {
   "cell_type": "markdown",
   "source": [
    "Menge an Schachbrettern in alle Richtungen spiegeln (falls überhaupt benötigt)"
   ],
   "metadata": {
    "collapsed": false,
    "pycharm": {
     "name": "#%% md\n"
    }
   }
  },
  {
   "cell_type": "code",
   "source": [
    "def gen_mirroring(uniques):\n",
    "    result = uniques.copy()\n",
    "    for unique in uniques:\n",
    "        result |= mirror_board_all(unique)\n",
    "    return result"
   ],
   "metadata": {
    "collapsed": false,
    "pycharm": {
     "name": "#%%\n"
    }
   },
   "execution_count": null,
   "outputs": []
  },
  {
   "cell_type": "markdown",
   "source": [
    "Schachbrett in alle Richtungen spiegeln"
   ],
   "metadata": {
    "collapsed": false,
    "pycharm": {
     "name": "#%% md\n"
    }
   }
  },
  {
   "cell_type": "code",
   "execution_count": null,
   "outputs": [],
   "source": [
    "# Implementierung ohne ENUM:\n",
    "def mirror_board_all(board_int):\n",
    "    result = set()\n",
    "    for name, d in SWAPS.items():\n",
    "        result.add(mirror_board(board_int, d))\n",
    "    return result"
   ],
   "metadata": {
    "collapsed": false,
    "pycharm": {
     "name": "#%%\n"
    }
   }
  },
  {
   "cell_type": "code",
   "execution_count": null,
   "outputs": [],
   "source": [
    "# Alternative Implementierung mit ENUM:\n",
    "def mirror_board_all_enum(board_int):\n",
    "    result = set()\n",
    "    for sw_type in Swap_Type:\n",
    "        result.add(mirror_board(board_int, SWAPS[sw_type.value]))\n",
    "    return result"
   ],
   "metadata": {
    "collapsed": false,
    "pycharm": {
     "name": "#%%\n"
    }
   }
  },
  {
   "cell_type": "markdown",
   "source": [
    "Mirror Board with bits in one direction"
   ],
   "metadata": {
    "collapsed": false,
    "pycharm": {
     "name": "#%% md\n"
    }
   }
  },
  {
   "cell_type": "code",
   "execution_count": null,
   "outputs": [],
   "source": [
    "# Mirroring mit 6 Bit Darstellung\n",
    "\n",
    "def mirror_board(board_int, mirror : dict):\n",
    "    # Save turn\n",
    "    result = board_int & 1\n",
    "    # Get count of pieces saved in list -> Überlegung Liste global zu machen\n",
    "    rounds = len(PIECE_LIST)\n",
    "    # Remove turn\n",
    "    board_int = board_int >> 1\n",
    "    for index in range(0, rounds):\n",
    "        result = (mirror[board_int & 63] << (6 * index) + 1) | result\n",
    "        board_int = board_int >> 6\n",
    "    return result"
   ],
   "metadata": {
    "collapsed": false,
    "pycharm": {
     "name": "#%%\n"
    }
   }
  },
  {
   "cell_type": "code",
   "execution_count": null,
   "outputs": [],
   "source": [
    "'''\n",
    "board = chess.Board(None)\n",
    "map = {20: chess.Piece.from_symbol(\"Q\"), 5: chess.Piece.from_symbol(\"k\") }\n",
    "board.set_piece_map(map)\n",
    "display(board)\n",
    "int_board = to_integer(board, plist)\n",
    "print(int_board)\n",
    "for i in mirror_board_all(int_board):\n",
    "    print(str(i) + \" Spiegelung:\")\n",
    "    display(to_board(i, plist))\n",
    "'''"
   ],
   "metadata": {
    "collapsed": false,
    "pycharm": {
     "name": "#%%\n"
    }
   }
  },
  {
   "cell_type": "code",
   "execution_count": null,
   "outputs": [],
   "source": [
    "# TODO: Erstellen nach Lukas seiner Bitmethode, wenn ich sie komplett\n",
    "# Mirroring mit 7 Bit Darstellung\n",
    "def mirror_board_7(board_int, mirror : dict):\n",
    "    # Save turn\n",
    "    result = board_int & 1\n",
    "    # Get count of pieces saved in int\n",
    "    rounds = int(math.log2(board_int) // 6)\n",
    "    # Remove turn\n",
    "    board_int = board_int >> 1\n",
    "    for index in range(rounds, 0, -1):\n",
    "        result = (mirror[board_int & 127] << (7 * (index-1)) + 1) | result\n",
    "        board_int = board_int >> 7\n",
    "    return result"
   ],
   "metadata": {
    "collapsed": false,
    "pycharm": {
     "name": "#%%\n"
    }
   }
  },
  {
   "cell_type": "markdown",
   "source": [
    "* Start der Berechnung; start_calculation():\n",
    "    * Bekommt Positionen der Figuren übergeben\n",
    "    * Berechnung der ersten Menge S_0, damit auch Berechnung der ersten Uniques -> Rückgabe nur Uniques\n",
    "        * Hierbei erste wichtige Frage: Werden in used_boards dann ebenfalls nur die Uniques gespeichert oder auch alle?\n",
    "        * Schreiben wir die ganze S_0 Menge direkt in die Datei nach der Berechnung?\n",
    "    * Schleife iterieren mit altbekannter Bedingung (wenn neue Menge leer oder sich nicht unterscheidet)\n",
    "        * Berechnung nächster Menge mit Übergabe der Uniques vorheriger Menge"
   ],
   "metadata": {
    "collapsed": false,
    "pycharm": {
     "name": "#%% md\n"
    }
   }
  },
  {
   "cell_type": "code",
   "source": [
    "def start_calculation():\n",
    "    sn = calculate_s0()\n",
    "    # while len(sn) != 0:\n",
    "    #     sn = calculate_next_sn(sn)\n",
    "    #     store_sn(sn)\n",
    "    print(\"Done\")"
   ],
   "metadata": {
    "collapsed": false,
    "pycharm": {
     "name": "#%%\n"
    }
   },
   "execution_count": null,
   "outputs": []
  },
  {
   "cell_type": "markdown",
   "source": [
    "## Erstellung von S_0\n",
    "> TODO: Einleitung schreiben"
   ],
   "metadata": {
    "collapsed": false,
    "pycharm": {
     "name": "#%% md\n"
    }
   }
  },
  {
   "cell_type": "markdown",
   "source": [
    "> TODO: Beschreibung von calculate_s0() schreiben"
   ],
   "metadata": {
    "collapsed": false,
    "pycharm": {
     "name": "#%% md\n"
    }
   }
  },
  {
   "cell_type": "code",
   "execution_count": null,
   "outputs": [],
   "source": [
    "def calculate_s0():\n",
    "    # TODO: Hier muss noch irgendwo eine Berücksichtigug rein, dass der Bauer durch die Queen beim Erstellen von s0  ersetzt wird, dies muss dazu noch rückgängi gemacht werden, wenn die Queen durch den Pawn ersetzt wird.\n",
    "\n",
    "\n",
    "    s0 = set()\n",
    "    empty_board = chess.Board(None)\n",
    "    # Turn has to be black while checkmate\n",
    "    empty_board.turn = chess.BLACK\n",
    "\n",
    "    # Create temp_piece_list for conversion between board_object and integer\n",
    "    tmp_piece_list = []\n",
    "    s0.add(to_integer(empty_board, tmp_piece_list))\n",
    "\n",
    "    for piece in PIECE_LIST:\n",
    "        s0 = fill_boards_with_piece(s0, piece, tmp_piece_list)\n",
    "        tmp_piece_list.append(piece)\n",
    "        print(\"Length s0:\" + str(len(s0)))\n",
    "        print(\"Actual size: \" + str(len(gen_mirroring(s0))))\n",
    "    store_sn(s0)\n",
    "    return s0"
   ],
   "metadata": {
    "collapsed": false,
    "pycharm": {
     "name": "#%%\n"
    }
   }
  },
  {
   "cell_type": "markdown",
   "source": [
    "> TODO: Beschreibung von fill_boards_with_piece() schreiben"
   ],
   "metadata": {
    "collapsed": false,
    "pycharm": {
     "name": "#%% md\n"
    }
   }
  },
  {
   "cell_type": "code",
   "execution_count": null,
   "outputs": [],
   "source": [
    "def fill_boards_with_piece(int_boards_set, piece, cur_piece_list):\n",
    "    finished_boards = set()\n",
    "    all_squares = set(range(64))\n",
    "    piece_count = len(PIECE_LIST)\n",
    "    for int_board in int_boards_set:\n",
    "        board_o = to_board(int_board, cur_piece_list)\n",
    "        used_squares = set(board_o.piece_map().keys())\n",
    "        for square in all_squares:\n",
    "            if square not in used_squares:\n",
    "                tmp_piece_list = cur_piece_list.copy()\n",
    "                board_object = board_o.copy()\n",
    "                board_object.set_piece_at(square, piece)\n",
    "                tmp_piece_list.append(piece)\n",
    "                board_int = to_integer(board_object, tmp_piece_list)\n",
    "                if len(used_squares) > 1 and not board_object.is_valid():\n",
    "                    # Don't process invalid boards further\n",
    "                    # than the second king\n",
    "                    continue\n",
    "\n",
    "                if board_object.is_checkmate():\n",
    "                    if board_object.is_valid() and board_int not in USED_BOARDS:\n",
    "                        finished_boards |= add_all_to_used(board_int)\n",
    "                        continue\n",
    "\n",
    "                if len(used_squares) + 1 < piece_count: #Board is valid, but needs more pieces\n",
    "                    finished_boards.add(board_int)\n",
    "    return finished_boards"
   ],
   "metadata": {
    "collapsed": false,
    "pycharm": {
     "name": "#%%\n"
    }
   }
  },
  {
   "cell_type": "markdown",
   "source": [
    "> TODO: Beschreibung von add_board_with_reflection() schreiben.\n",
    "> TODO: Schauen, ob sie auch für die Rückwärtsgenerierung verwendet werden kann."
   ],
   "metadata": {
    "collapsed": false,
    "pycharm": {
     "name": "#%% md\n"
    }
   }
  },
  {
   "cell_type": "code",
   "execution_count": null,
   "outputs": [],
   "source": [
    "def add_all_to_used(board_int):\n",
    "    USED_BOARDS.add(board_int)\n",
    "    if not USER_WANTS_PAWN:\n",
    "        for reflection in mirror_board_all(board_int):\n",
    "            USED_BOARDS.add(reflection)\n",
    "    return {board_int}"
   ],
   "metadata": {
    "collapsed": false,
    "pycharm": {
     "name": "#%%\n"
    }
   }
  },
  {
   "cell_type": "markdown",
   "source": [
    "> TODO: Beschreibung von store_sn schreiben"
   ],
   "metadata": {
    "collapsed": false,
    "pycharm": {
     "name": "#%% md\n"
    }
   }
  },
  {
   "cell_type": "code",
   "execution_count": null,
   "outputs": [],
   "source": [
    "# TODO\n",
    "def store_sn(sn):\n",
    "    # for s in sn:\n",
    "    #     display(to_board(s, PIECE_LIST))\n",
    "    pass"
   ],
   "metadata": {
    "collapsed": false,
    "pycharm": {
     "name": "#%%\n"
    }
   }
  },
  {
   "cell_type": "markdown",
   "source": [
    "> Momentaner start hier positioniert, um zu zeigen, dass s0 funktioniert\n",
    "> Bemerkung: Es müssen alle Zellen davor ausgeführt werden, dass es funktioniert! (Genauer: Es muss USED_BOARDS resetted werden!)"
   ],
   "metadata": {
    "collapsed": false,
    "pycharm": {
     "name": "#%% md\n"
    }
   }
  },
  {
   "cell_type": "code",
   "execution_count": null,
   "outputs": [],
   "source": [
    "start_calculation()"
   ],
   "metadata": {
    "collapsed": false,
    "pycharm": {
     "name": "#%%\n"
    }
   }
  },
  {
   "cell_type": "code",
   "execution_count": null,
   "outputs": [],
   "source": [
    "def calculate_next_sn(sn):\n",
    "    sn_p_1 = set()\n",
    "    for board_int in sn:\n",
    "        # Nicht sicher, ob hier schon die Bretterstellung notwendig ist (glaube nicht)\n",
    "        board_rep = to_board(board_int)\n",
    "        board_rep.turn = board_rep.turn ^ True\n",
    "\n",
    "        # Berücksichtigung bei dieser Trennung, dass irgendwann auch der Pawn in eine Queen umgewandelt wird und dann muss USER_WANTS_PAWN = False sein -> Danach aber vorsichtig bei Spiegelungen sein, weil diese auch nicht instant verwendet werden können -> Möglicherweise doch so umsetzbar\n",
    "        if USER_WANTS_PAWN:\n",
    "            do_pawn_stuff(board_int)\n",
    "        else:\n",
    "            do_not_pawn_stuff(board_int)\n",
    "\n",
    "        # wenn nicht notwendig, muss das hier auch weg und in den Funktionen muss das Turn-Gedrehe umgesetzt werden!\n",
    "        board_rep.turn = board_rep.turn ^ True\n",
    "\n",
    "    return sn_p_1\n",
    "    pass"
   ],
   "metadata": {
    "collapsed": false,
    "pycharm": {
     "name": "#%%\n"
    }
   }
  },
  {
   "cell_type": "markdown",
   "source": [
    "> TODO: Diese Funktion wird verwendet, um jeglichen Stuff bzgl. Pawns abzuarbeiten -> Modularisierung von Funktionen und Trennung der Funktionalität"
   ],
   "metadata": {
    "collapsed": false,
    "pycharm": {
     "name": "#%% md\n"
    }
   }
  },
  {
   "cell_type": "markdown",
   "source": [
    "# Beriech für die Implementierung von nicht-Bauern stuff"
   ],
   "metadata": {
    "collapsed": false,
    "pycharm": {
     "name": "#%% md\n"
    }
   }
  },
  {
   "cell_type": "code",
   "execution_count": null,
   "outputs": [],
   "source": [
    "def do_not_pawn_stuff(board_int):\n",
    "    board_rep = to_board(board_int)\n",
    "    board_rep.turn = board_rep.turn ^ True\n",
    "    sn_p_1 = set()\n",
    "    for pLMove in board_rep.pseudo_legal_moves:\n",
    "        # Backwards-execuion of Move\n",
    "        board_rep.push(pLMove)\n",
    "        board_rep.turn = board_rep.turn ^ True\n",
    "\n",
    "        # Check if Move is valid -> Kann man Auslagern? Unsicher wegen continue? Maximal, dass man in der Funktion ein Bool weitergibt und anhand davon etwas macht\n",
    "        if not chess_board.is_valid() or chess_board.outcome() is not None:\n",
    "            chess_board.turn = chess_board.turn ^ True\n",
    "            chess_board.pop()\n",
    "            continue\n",
    "\n",
    "        new_board_int = to_integer(board_rep, PIECE_LIST)\n",
    "\n",
    "        # Erstellung der Mirrored Boards und das Hinzufügen in Uniques passiert erst in check_black_determinism bzw. mal schauen, wo es genau passiert\n",
    "        if new_board_int not in USED_BOARDS and new_board_int not in sn_p_1:\n",
    "            sn_p_1.add(new_board_int)\n",
    "\n",
    "    return sn_p_1"
   ],
   "metadata": {
    "collapsed": false,
    "pycharm": {
     "name": "#%%\n"
    }
   }
  },
  {
   "cell_type": "markdown",
   "source": [
    "# Bereich für alle Bauern-Funktionen"
   ],
   "metadata": {
    "collapsed": false,
    "pycharm": {
     "name": "#%% md\n"
    }
   }
  },
  {
   "cell_type": "code",
   "execution_count": null,
   "outputs": [],
   "source": [
    "def do_pawn_stuff(board_int):\n",
    "    # Frage: Brauche ich pawn_positions überhaupt, wenn ich das so trenne, in alter Version werden sie nur zur Überprüfung verwendet, ob Pawns auf dem Feld sind (wissen wir durch USER_WANTS_PAWN) und ob pseudo_legal_moves Pawns enthalten (da wir dieses Szenario woanders behandeln (ohne Pawns) ist das irrelevant;\n",
    "\n",
    "    # Bezüglich der Trennung mit dem anderen shit, wenn eine Queen auf dem Brett steht, muss hier eine Funktion definiert werden, die die Züge der Queen rückwärts darstellt! Glaube die Position von do_queen_backwards sollte passen()\n",
    "\n",
    "    board_rep = to_board(board_int)\n",
    "    pawn_positions = find_pawn(board_rep)\n",
    "    board_rep.turn = board_rep.turn ^ True\n",
    "    if board_rep.turn:\n",
    "        # Es stehe Pawns auf dem Schachbrett\n",
    "        if len(pawn_positions) > 0:\n",
    "            pawn_moves()\n",
    "        # Stehen keine Pawns, also irgendwelche anderen Figuren, die mal ein Pawn waren, auf dem Schachbrett, da Queen optimal, Queens\n",
    "        else:\n",
    "            queen_positions = check_top_row_for_queen()\n",
    "            if queen_positions:\n",
    "                replace_queen(board_rep, queen_positions)\n",
    "            else:\n",
    "                do_queen_backwards()\n",
    "    pass"
   ],
   "metadata": {
    "collapsed": false,
    "pycharm": {
     "name": "#%%\n"
    }
   }
  },
  {
   "cell_type": "markdown",
   "source": [
    "> TODO: Beschreibung von find_pawn():"
   ],
   "metadata": {
    "collapsed": false,
    "pycharm": {
     "name": "#%% md\n"
    }
   }
  },
  {
   "cell_type": "code",
   "execution_count": null,
   "outputs": [],
   "source": [
    "def find_pawn(board_object):\n",
    "    # Anmerkung: Logisch gesehen kann es nur einen Bauern geben (wegen Bedingung). Deswegen muss eigentlich nicht über Pieces iteriert werden, sondern es kann direkt zurückgegeben werden und dann geschaut, ob es nicht None ist (Falls das mit dem Erstellen von einem SquareSet übereinstimmt)\n",
    "    positions = set()\n",
    "    for p_position in board_object.pieces(chess.PAWN, chess.WHITE):\n",
    "        positions.add(chess.square_name(p_position))\n",
    "    return positions"
   ],
   "metadata": {
    "collapsed": false,
    "pycharm": {
     "name": "#%%\n"
    }
   }
  },
  {
   "cell_type": "code",
   "execution_count": null,
   "outputs": [],
   "source": [
    "def pawn_moves():\n",
    "    # Müssen auch Anfangszüge berücksichtigt werden? Also Doppelzug? Wenn ja, dann pawn_moves, wenn nein, dann pawn_move\n",
    "    pass"
   ],
   "metadata": {
    "collapsed": false,
    "pycharm": {
     "name": "#%%\n"
    }
   }
  },
  {
   "cell_type": "code",
   "execution_count": null,
   "outputs": [],
   "source": [
    "def check_top_row_for_queen():\n",
    "    # Kann man das nicht ebenfalls mit der Funktion board.pieces(chess.QUEEN, chess.WHITE) lösen? Danach einfach noch schauen, ob der Wert in range(56,64) liegt -> Müssen dann nicht darüber iterieren.\n",
    "    # Und bei Check erwarte ich implizit erstmal ein True oder False, würde zusätzlich noch ein get definieren, wenn auch wirklich der Wert davon gefragt ist\n",
    "    pass"
   ],
   "metadata": {
    "collapsed": false,
    "pycharm": {
     "name": "#%%\n"
    }
   }
  },
  {
   "cell_type": "code",
   "execution_count": null,
   "outputs": [],
   "source": [
    "def replace_queen(board_rep, queen_positions):\n",
    "    # Same case as find_pawn, es kann doch nur eine toprow_queen_position geben\n",
    "    pass"
   ],
   "metadata": {
    "collapsed": false,
    "pycharm": {
     "name": "#%%\n"
    }
   }
  },
  {
   "cell_type": "code",
   "execution_count": null,
   "outputs": [],
   "source": [
    "def do_queen_backwards():\n",
    "    # könnte auch im Sinne von dem not_pawn_stuff implementiert werden, wenn die Züge rückwärts mit der Spiegelung berechnet werden. Man kann zusätzlich ein Flag mitgeben, das für die Queen die Spiegelungen ausstellt (Idee, nicht muss)\n",
    "    pass"
   ],
   "metadata": {
    "collapsed": false,
    "pycharm": {
     "name": "#%%\n"
    }
   }
  },
  {
   "cell_type": "markdown",
   "source": [
    "> TODO: Funktion, die zur Generierung von anderen Zügen ohne Bauern benötigt wird."
   ],
   "metadata": {
    "collapsed": false,
    "pycharm": {
     "name": "#%% md\n"
    }
   }
  },
  {
   "cell_type": "markdown",
   "source": [
    "* Funktion zur Überprüfung der Züge von schwarz (dass diese auch bei einer Menge m landen mit m < n)\n",
    "    * Einfach überprüfen, ob Züge in used_boards landen"
   ],
   "metadata": {
    "collapsed": false,
    "pycharm": {
     "name": "#%% md\n"
    }
   }
  },
  {
   "cell_type": "code",
   "execution_count": null,
   "outputs": [],
   "source": [
    "def check_black_moves(uniques):\n",
    "    # for int_board in uniques:\n",
    "\n",
    "    # am Ende muss hier add_all_to_used für die übrigen boards aufgerufen werden!\n",
    "    pass"
   ],
   "metadata": {
    "collapsed": false,
    "pycharm": {
     "name": "#%%\n"
    }
   }
  },
  {
   "cell_type": "code",
   "execution_count": null,
   "outputs": [],
   "source": [],
   "metadata": {
    "collapsed": false,
    "pycharm": {
     "name": "#%%\n"
    }
   }
  }
 ],
 "metadata": {
  "kernelspec": {
   "display_name": "Python 3 (ipykernel)",
   "language": "python",
   "name": "python3"
  },
  "language_info": {
   "codemirror_mode": {
    "name": "ipython",
    "version": 3
   },
   "file_extension": ".py",
   "mimetype": "text/x-python",
   "name": "python",
   "nbconvert_exporter": "python",
   "pygments_lexer": "ipython3",
   "version": "3.9.10"
  }
 },
 "nbformat": 4,
 "nbformat_minor": 1
}