{
 "cells": [
  {
   "cell_type": "code",
   "execution_count": null,
   "metadata": {
    "pycharm": {
     "name": "#%%\n"
    }
   },
   "outputs": [],
   "source": [
    "import json\n",
    "\n",
    "import chess\n",
    "from IPython.core.display import HTML\n",
    "with open('style.html', 'r') as file:\n",
    "     css = file.read()\n",
    "HTML(css)"
   ]
  },
  {
   "cell_type": "code",
   "execution_count": null,
   "metadata": {
    "pycharm": {
     "name": "#%%\n"
    }
   },
   "outputs": [],
   "source": [
    "%run Util/00_imports.ipynb\n",
    "%run Util/01_functions.ipynb"
   ]
  },
  {
   "cell_type": "code",
   "execution_count": null,
   "metadata": {
    "collapsed": true,
    "pycharm": {
     "name": "#%%\n"
    }
   },
   "outputs": [],
   "source": [
    "# Global variables:\n",
    "\n",
    "USED_BOARDS = set()\n",
    "PIECE_LIST = [chess.Piece.from_symbol(\"K\"), chess.Piece.from_symbol(\"k\"), chess.Piece.from_symbol(\"Q\")]\n",
    "USER_WANTS_PAWN = chess.Piece.from_symbol(\"P\") in PIECE_LIST\n",
    "FILENAME = \"test_18_05\""
   ]
  },
  {
   "cell_type": "markdown",
   "metadata": {
    "pycharm": {
     "name": "#%% md\n"
    }
   },
   "source": [
    "# Überlegung im Vergleich zu vorherigen Version:\n",
    "* Muss der Nutzer wirklich einen Namen der Datei angeben? Können wir diesen nicht generisch erstellen?"
   ]
  },
  {
   "cell_type": "markdown",
   "metadata": {
    "pycharm": {
     "name": "#%% md\n"
    }
   },
   "source": [
    "# Voraussetzungen:\n",
    "* Nutzer ist immer weiß"
   ]
  },
  {
   "cell_type": "markdown",
   "metadata": {
    "pycharm": {
     "name": "#%% md\n"
    }
   },
   "source": [
    "# Strukturüberlegung:\n",
    "* Zentrale used_boards -> Müssen nicht übergeben werden\n",
    "* Uniques werden gespeichert anstatt kompletter s_n Menge\n",
    "* Angabe des Nutzers der aktuellen Situation\n",
    "* Nutzer startet Berechnung:"
   ]
  },
  {
   "cell_type": "markdown",
   "metadata": {
    "pycharm": {
     "name": "#%% md\n"
    }
   },
   "source": [
    "# Benötigte Funktionen:\n",
    "\n",
    "* Spiegelungen aus Uniques generieren; gen_mirroring(uniques):\n",
    "    * Über Uniques iterieren\n",
    "        * Über Spiegelarten iterieren\n",
    "            * Spiegelung durchführen (ohne Objekterstellung in Integer-Schreibweise spiegeln)\n",
    "            * Spiegelungen in Menge zusammenfassen\n",
    "    * Menge zurückgeben"
   ]
  },
  {
   "cell_type": "markdown",
   "source": [
    "# Berechnung der Endspieldatenbank\n",
    "\n",
    "Wie in Notebook ``01_chess_introduction`` bereits erklärt, ist ein Schachspiel gewonnen, wenn die gegnerische Figur mattgesetzt wurde. \n",
    "\n",
    "> TODO: So umschreiben, dass P auch direkt als Menge der Figuren angesehen werden kann. ?\n",
    "\n",
    "Bei einer geringen Anzahl $n$ an Figuren (in der Menge $P$) im Spielzustand lassen sich alle möglichen Positionen berechnen.\n",
    "Ausgehend von allen Schachmatt-Spielsituationen, können Zugfolgen bestimmt werden, welche zu einer Spielsituation $n$ Halbzüge vom Sieg entfernt führen.\n",
    "\n",
    "Im weiteren Verlauf werden folgende Definitionen verwendet:\n",
    "* $\\mathtt{board.pieces}$: Liste der Figuren, welche in einem Zustand vorhanden sind.\n",
    "* $\\mathtt{valid\\_boards}$: Alle Zustände des Schachspiels, die gegen keine Regeln verstoßen.  \n",
    "  Relevante Regeln sind:\n",
    "  * Zwei Könige auf dem Spielfeld\n",
    "  * Die Könige nicht auf benachbarten Spielfeldern\n",
    "  * Keine Bauern auf der 1. und 8. Zeile  \n",
    "* $\\mathtt{won\\_boards}$: Alle Zustände des Schachspiels, in denen ein Spieler gewonnen hat.\n",
    "* $\\mathtt{previous\\_states(b)}$: Alle Zustände, aus denen durch Ausführen eines einzelnen Zuges der Zustand $b$ erreicht werden kann.\n",
    "\n",
    "Seien alle möglichen (validen) Kombinationen von Positionen der Figuren $P$ die Menge $S$.  \n",
    "Für $S$ gilt:  \n",
    "* $board \\in S \\implies \\forall p \\in P : p \\in \\mathtt{board.pieces}$\n",
    "* $board \\in S \\implies board \\in \\mathtt{valid\\_boards}$\n",
    "\n",
    "> TODO: Überlegung, ob wir das wirklich so als \"Hinweis\" schreiben. Vielleicht doch aktiv als Absatz schreiben\n",
    "\n",
    "Hinweis: in einem Regulärem-Schachspiel müssen auch Stellungen mit geschlagenen Figuren betrachtet werden.  \n",
    "Aus der Aufgabenstellung (Aufgeführt in `readme.md`) folgt jedoch, dass in den Spielsituationen keine Figur geschlagen und das Spiel noch gewonnen werden kann.\n",
    "\n",
    "Aus der Menge $S$ lassen sich Zustände auswählen, welche $n$ Züge vom Sieg entfernt sind. \n",
    "Diese Zustände lassen sich in $S_n$ zusammenfassen. Ist das Spiel gewonnen, verbleiben 0 Züge bis zum Sieg.  \n",
    "Für alle diese Zustände, in denen ein Spieler mattgesetzt ist, gilt:  \n",
    "  \n",
    "$$board \\in S_0 \\implies board \\in won\\_boards \\land board \\in S$$  \n",
    "\n",
    "Aus dieser Definition können induktiv die verbleibenden $S_n$ hergeleitet werden:  \n",
    "* $board \\in S_{n+1} \\iff board \\in S \\land \\exists b \\in S_n: board \\in \\mathtt{previous\\_states(b)}$\n",
    "* $board \\in S_{2n} \\iff board \\in S \\land \\forall b \\in \\mathtt{next\\_states(board)}: b \\in S_{m} \\land m < 2n$\n",
    "\n",
    "Für die Berechnungen in diesem Notebook gilt, da für den schwarzen Spieler immer nur der König auf dem Feld steht, weiter Folgendes:\n",
    "$board.turn$: Der Spieler, welcher am Zug ist.\n",
    "> Der Spieler, welcher am Zug ist. -> Kein Satz\n",
    "\n",
    "* $\\forall b \\in S_{2n+1} : b.turn = schwarz$\n",
    "* $\\forall b \\in S_{2n} : b.turn = weiß$\n",
    "\n",
    "Dieses Notebook wird zur Berechnung der $S_n$ Mengen verwendet. Diese werden benötigt, um letztendlich ein Schach-Endspiel lösen zu können. "
   ],
   "metadata": {
    "collapsed": false,
    "pycharm": {
     "name": "#%% md\n"
    }
   }
  },
  {
   "cell_type": "markdown",
   "source": [
    "## Ein Hinweis zur effizienten Ergebnisverwaltung\n",
    "Im Verlauf der Berechnung muss mehrfach überprüft werden, ob eine Stellung bereits bekannt und einem $S_n$ zugeordnet ist.\n",
    "Da der Abgleich mit einer Liste in Python ineffizient ist, findet dieser Abgleich mit Mengen statt.\n",
    "Mengen werden in Python als Hash-Tabellen umgesetzt und haben damit eine Zeitkomplexität bei der Überprüfung, ob sie ein bestimmtes Element enthalten von $\\mathcal{O}(1)$.\n",
    "`board` Objekte der `chess` Library sind jedoch nicht \"Hashbar\". Im Sinne der in dieser Arbeit getätigten Berechnungen reichen die Informationen über die Stellung der Figuren und dem Spieler, welcher am Zug ist, aus. Es wird daher für die Verwendung in Python Mengen mit einer Integer-Repräsentation der Stellungen gearbeitet. \n",
    "\n",
    "> TODO: Besser erklären + Überlegung schon vorher in 01_functions erklären, weil da Funktionen zu definiert werden.\n",
    "\n",
    "Diese Repräsentationen werden bestimmt, indem die Positionen der Figuren, welche in der globalen Variable `PIECE_LIST` aufgeführt werden, binär zusammengefügt werden. Weiter wird ein Bit gesetzt, um darzustellen, welcher Spieler am Zug ist.  \n",
    "\n",
    "Eine Erklärung der Funktionen `to_integer()` und `to_board()` befinden sich im Notebook `/Util/01_functions.ipynb`.\n",
    "\n",
    "> TODO: Beispiel einfügen\n",
    "\n",
    "> TODO: Rückwärts besser erläutern? (Unsicher, da TODO schon davor hier stand)\n",
    "\n",
    "Um die Effizienz weiter zu steigern, berechnet dieses Notebook nicht alle Stellungen $S$ und entfernt daraus die Stellungen für ein $S_n$ wie in der Aufgabenstellung beschrieben.\n",
    "Stattdessen werden alle bekannten Stellungen in `USED_BOARDS` gespeichert.\n",
    "Dopplungen werden also nicht vermieden indem Stellungen aus einer großen Liste entfernt werden, sondern eine Liste der entfernten Stellungen geführt und neue Stellungen mit dieser abgeglichen."
   ],
   "metadata": {
    "collapsed": false,
    "pycharm": {
     "name": "#%% md\n"
    }
   }
  },
  {
   "cell_type": "markdown",
   "source": [],
   "metadata": {
    "collapsed": false,
    "pycharm": {
     "name": "#%% md\n"
    }
   }
  },
  {
   "cell_type": "markdown",
   "source": [
    "## Ein Hinweis zu Spiegelungen\n",
    "In diesem Notebook werden Spiegelungen der Stellungen verwendet. Die technische Umsetzung \n",
    "dieser Spiegelungen werden im Verlauf des Dokuments erklärt, an dieser Stelle soll lediglich\n",
    "eine Einführung in die Theorie hinter dem Spiegeln von Stellungen erklärt werden.\n",
    "\n",
    "Durch die zuvor erklärten Bewegungsmuster der Figuren sind Schachbretter in vielen Fällen symmetrisch.\n",
    "\n",
    "Eine Position mit dem Turm in \"a8\", der Dame in \"g6\" und dem gegnerischen König in \"h8\" ist genauso verloren wie \n",
    "dieselbe Position nur mit dem Turm in \"a1\", der Dame in \"g3\" und dem König in \"h1\".\n",
    "Dies wäre eine Spiegelung entlang der horizontalen zwischen den Zeilen 4 und 5.\n",
    "Weiter sind auch Spiegelungen entlang der vertikalen (Zwischen Reihe e und f), den Diagonalen und Rotationen \n",
    "(jeweils um 90°, 180° und 270°) möglich.\n",
    "\n",
    "Durch das simple Spiegeln der Spielsituationen können aus einer validen Spielsituation bis zu sieben weitere ohne\n",
    "großen Rechenaufwand bestimmt werden. Aus diesem Grund werden in diesem Dokument bei jeder Berechnung neuer Stellungen diese\n",
    "gespiegelt und die Spiegelungen ebenfalls überprüft und abgespeichert. \n",
    "\n",
    "> TODO: Beispielabbildung einfügen\n",
    "\n",
    "Da Bauern sich nur in eine Richtung bewegen können, gelten für diese andere Regeln beim Spiegeln. \n",
    "Insbesondere kann diese Spielsituationen nur eine Spiegelung durchgeführt werden.\n",
    "Um die Komplexität der Anwendung nicht weiter zu steigern, werden Spielsituationen mit Bauern nicht gespiegelt."
   ],
   "metadata": {
    "collapsed": false,
    "pycharm": {
     "name": "#%% md\n"
    }
   }
  },
  {
   "cell_type": "markdown",
   "metadata": {
    "pycharm": {
     "name": "#%% md\n"
    }
   },
   "source": [
    "### Funktionen zum Spiegeln\n",
    "\n",
    "Wie zuvor erklärt, werden in diesem Notebook Stellungen gespiegelt, um die Effizienz der Berechnung zu erhöhen.\n",
    "Der folgende Abschnitt erklärt die damit verbundende Funktionalität."
   ]
  },
  {
   "cell_type": "markdown",
   "source": [
    "Die globale Variable SWAPS enthält für jede Spiegelungsart ein Dictionary. \n",
    "In diesem Dictionary liegt für jedes `Square` (Nummeriert von 0-63) eine Zuweisung, welches `Square` der gespiegelten Position entspricht.\n",
    "\n",
    "So wird beispielsweise bei der vertikalen Spiegelung die Figuren der obersten Reihe mit der untersten Reihe getauscht.\n",
    "Eine Zuweisung im Dictionary wäre beispielsweise: `0: 56`.   "
   ],
   "metadata": {
    "collapsed": false,
    "pycharm": {
     "name": "#%% md\n"
    }
   }
  },
  {
   "cell_type": "code",
   "execution_count": null,
   "outputs": [],
   "source": [
    "SWAPS = {\n",
    "        \"vertical\" : {x:x^56 for x in range(64)},\n",
    "        \"horizontal\" : {x:x^7 for x in range(64)},\n",
    "        \"rotate_right\" : {x:(((x >> 3) | (x << 3)) & 63) ^ 56 for x in range(64)},\n",
    "        \"rotate_180\" : {x : x ^ 63 for x in range(64)},\n",
    "        \"rotate_left\" : {x : (((x >> 3) | (x << 3)) & 63) ^ 7 for x in range(64)},\n",
    "        \"diagonal\" : {x : ((x >> 3) | (x << 3)) & 63 for x in range(64)},\n",
    "        \"anti_diagonal\" : {x : (((x >> 3) | (x << 3)) & 63) ^ 63 for x in range(64)}\n",
    "    }"
   ],
   "metadata": {
    "collapsed": false,
    "pycharm": {
     "name": "#%%\n"
    }
   }
  },
  {
   "cell_type": "markdown",
   "source": [
    "Die Funktion `get_all_mirror_variations()` berechnet für eine Menge von Stellungen in Integer-Repräsentation (`uniques_int`) die Menge der gespiegelten Variationen inklusive der Original stellungen (`result`).\n",
    "Hierfür wird die Funktion `mirror_all_directions()` verwendet."
   ],
   "metadata": {
    "collapsed": false,
    "pycharm": {
     "name": "#%% md\n"
    }
   }
  },
  {
   "cell_type": "code",
   "execution_count": null,
   "metadata": {
    "pycharm": {
     "name": "#%%\n"
    }
   },
   "outputs": [],
   "source": [
    "def get_all_mirror_variations(uniques_int):\n",
    "    result = uniques_int.copy()\n",
    "    for unique in uniques_int:\n",
    "        result |= mirror_all_directions(unique)\n",
    "    return result"
   ]
  },
  {
   "cell_type": "markdown",
   "metadata": {
    "pycharm": {
     "name": "#%% md\n"
    }
   },
   "source": [
    "Die Funktion `mirror_all_directions()` erstellt für einen Integer (`board_int`) eine Menge aller Spiegelungen mit den Methoden, die in `SWAPS` aufgeführt sind.\n",
    "Die Menge `result` enthält den original Integer `board_int` nicht."
   ]
  },
  {
   "cell_type": "code",
   "execution_count": null,
   "metadata": {
    "pycharm": {
     "name": "#%%\n"
    }
   },
   "outputs": [],
   "source": [
    "# Implementierung ohne ENUM:\n",
    "def mirror_all_directions(board_int):\n",
    "    result = set()\n",
    "    for name, swap in SWAPS.items():\n",
    "        result.add(mirror_board(board_int, swap))\n",
    "    return result"
   ]
  },
  {
   "cell_type": "markdown",
   "metadata": {
    "pycharm": {
     "name": "#%% md\n"
    }
   },
   "source": [
    "Die tatsächliche Spiegelung wird von der Funktion `mirror_board()` für eine Stellung `board_int` durchgeführt.\n",
    "Sie speichert das Bit, welches den Spieler am Zug repräsentiert, iteriert über alle Figuren im Integer und führt einen binären Tausch entsprechend der Zuweisungen im `mirror` Dictionary.\n",
    "\n",
    "> TODO: Methode"
   ]
  },
  {
   "cell_type": "code",
   "execution_count": null,
   "metadata": {
    "pycharm": {
     "name": "#%%\n"
    }
   },
   "outputs": [],
   "source": [
    "# Mirroring mit 7 Bit Darstellung\n",
    "def mirror_board(board_int, mirror : dict):\n",
    "    # Save turn\n",
    "    result = board_int & 1\n",
    "    # Get count of pieces saved in int\n",
    "    n = len(PIECE_LIST)\n",
    "    # Remove turn\n",
    "    board_int = board_int >> 1\n",
    "    \n",
    "    for i in range(n):\n",
    "        result |= mirror[board_int & 127] << 7 * i + 1\n",
    "        board_int = board_int >> 7\n",
    "    return result"
   ]
  },
  {
   "cell_type": "markdown",
   "source": [
    "### Hilfsfunktionen für die Ergebnisverwaltung"
   ],
   "metadata": {
    "collapsed": false,
    "pycharm": {
     "name": "#%% md\n"
    }
   }
  },
  {
   "cell_type": "markdown",
   "source": [
    "Die Funktion `add_all_to_used()` fügt die Originale und Spiegelungen aller Stellungen in der Menge `boards_int` zur globalen Variable `USED_BOARDS` hinzu.\n",
    "Die Funktion überprüft hierbei, ob Spiegelungen durchgeführt werden sollen.\n",
    "Wenn Spiegelungen durchgeführt werden, wird hierzu die Funktion `add_original_and_mirrors_to_used()` verwendet."
   ],
   "metadata": {
    "collapsed": false,
    "pycharm": {
     "name": "#%% md\n"
    }
   }
  },
  {
   "cell_type": "code",
   "execution_count": null,
   "metadata": {
    "pycharm": {
     "name": "#%%\n"
    }
   },
   "outputs": [],
   "source": [
    "def add_all_to_used(boards_int):\n",
    "    global USED_BOARDS\n",
    "    \n",
    "    if not USER_WANTS_PAWN:\n",
    "        for board_int in boards_int:\n",
    "            add_original_and_mirrors_to_used(board_int)\n",
    "    else:\n",
    "        for board_int in boards_int:\n",
    "            USED_BOARDS.add(board_int)"
   ]
  },
  {
   "cell_type": "markdown",
   "source": [
    "Die Funktion `add_original_and_mirrors_to_used()` fügt die Integer-Repräsentation einer Stellung, sowie alle Spiegelungen in die globale Variable `USED_BOARDS` ein.\n",
    "Hierfür werden die zuvor beschrieben Hilfsfunktionen zum Spiegeln verwendet."
   ],
   "metadata": {
    "collapsed": false,
    "pycharm": {
     "name": "#%% md\n"
    }
   }
  },
  {
   "cell_type": "code",
   "execution_count": null,
   "metadata": {
    "pycharm": {
     "name": "#%%\n"
    }
   },
   "outputs": [],
   "source": [
    "def add_original_and_mirrors_to_used(board_int):\n",
    "    global USED_BOARDS\n",
    "    USED_BOARDS.add(board_int)\n",
    "    if not USER_WANTS_PAWN:\n",
    "        for reflection in mirror_all_directions(board_int):\n",
    "            USED_BOARDS.add(reflection)"
   ]
  },
  {
   "cell_type": "markdown",
   "source": [
    "Da für die Berechnungen temporär Listen von ``Board`` Objekten vorliegen wird die Funktion `multiple_to_integer()` definiert, welche für eine solche Liste `chess_boards` eine Menge der Integer-Repräsentationen (`integers`) erstellt. "
   ],
   "metadata": {
    "collapsed": false,
    "pycharm": {
     "name": "#%% md\n"
    }
   }
  },
  {
   "cell_type": "code",
   "execution_count": null,
   "outputs": [],
   "source": [
    "def multiple_to_integer(chess_boards):\n",
    "    integers = set()\n",
    "    for board in chess_boards:\n",
    "        integers.add(to_integer(board, PIECE_LIST))\n",
    "    return integers\n"
   ],
   "metadata": {
    "collapsed": false,
    "pycharm": {
     "name": "#%%\n"
    }
   }
  },
  {
   "cell_type": "markdown",
   "source": [
    "## Berechnung der $S_n$ Mengen\n",
    "Die folgende Funktion `calculate()` kann aufgerufen werden, um mit den oben angegebenen Einstellungen eine neue Berechnung durchzuführen. \n",
    "\n",
    "Die Funktion berechnet zuerst die Ausgangssituation $S_0$ und speichert sie.\n",
    "Anschließend werden weitere $n$ in einer Schleife bestimmt.\n",
    "Nach jeder Berechnung eines $n$, werden die bestimmten Spielsituationen in einer temporären Datei gespeichert. \n",
    "Die Funktionen, welche für die Berechnung nötig sind, werden im Verlauf dieses Notebooks aufgeführt und erklärt.\n",
    "\n",
    "> TODO:\n",
    "> * Start der Berechnung; start_calculation():\n",
    ">    * Bekommt Positionen der Figuren übergeben\n",
    ">    * Berechnung der ersten Menge S_0, damit auch Berechnung der ersten Uniques -> Rückgabe nur Uniques\n",
    ">        * Hierbei erste wichtige Frage: Werden in used_boards dann ebenfalls nur die Uniques gespeichert oder auch alle?\n",
    ">        * Schreiben wir die ganze S_0 Menge direkt in die Datei nach der Berechnung?\n",
    ">    * Schleife iterieren mit altbekannter Bedingung (wenn neue Menge leer oder sich nicht unterscheidet)\n",
    ">        * \n",
    ">        * Berechnung nächster Menge mit Übergabe der Uniques vorheriger Menge"
   ],
   "metadata": {
    "collapsed": false,
    "pycharm": {
     "name": "#%% md\n"
    }
   }
  },
  {
   "cell_type": "code",
   "execution_count": null,
   "outputs": [],
   "source": [
    "def calculate():\n",
    "    count = 0\n",
    "    sn = calculate_s0()\n",
    "    print(\"Done with S\" + str(count))\n",
    "    store_sn(sn)  \n",
    "    \n",
    "    while len(sn) != 0:\n",
    "        sn = calculate_next_sn(sn)\n",
    "        store_sn(sn)\n",
    "        count += 1\n",
    "        print(\"Done with S\" + str(count))\n",
    "    print(\"Done\")"
   ],
   "metadata": {
    "collapsed": false,
    "pycharm": {
     "name": "#%%\n"
    }
   }
  },
  {
   "cell_type": "markdown",
   "source": [
    "### Bestimmung von $S_0$\n",
    "\n",
    "Die Funktion `calculate_s0()` berechnet die Menge aller Stellungen, welche von Weiß gewonnen wurden.\n",
    "Hierfür wird ein leeres Schachbrett erstellt (`empty_board`) und jede Figur in der `PIECE_LIST` mit der `fill_boards_with_piece` Funktion in allen Konstellationen auf Board-Objekten verteilt.\n",
    "Die Funktion liefert eine Menge von Integer Repräsentationen der Stellungen in $S_0$. "
   ],
   "metadata": {
    "collapsed": false,
    "pycharm": {
     "name": "#%% md\n"
    }
   }
  },
  {
   "cell_type": "code",
   "execution_count": null,
   "outputs": [],
   "source": [
    "def calculate_s0():\n",
    "    # TODO: Hier muss noch irgendwo eine Berücksichtigug rein, dass der Bauer durch die Queen beim Erstellen von s0  ersetzt wird, dies muss dazu noch rückgängi gemacht werden, wenn die Queen durch den Pawn ersetzt wird.\n",
    "    global PIECE_LIST\n",
    "\n",
    "    s0 = set()\n",
    "    empty_board = chess.Board(None)\n",
    "    # Turn has to be black while checkmate\n",
    "    empty_board.turn = chess.BLACK\n",
    "\n",
    "    # Create temp_piece_list for conversion between board_object and integer\n",
    "    tmp_piece_list = []\n",
    "    s0.add(to_integer(empty_board, tmp_piece_list))\n",
    "   \n",
    "    # TODO: Wollen wir das hier haben?\n",
    "    if USER_WANTS_PAWN: \n",
    "        PIECE_LIST[PIECE_LIST.index(chess.Piece.from_symbol('P'))] = chess.Piece.from_symbol('Q')\n",
    "\n",
    "    for piece in PIECE_LIST:\n",
    "        s0 = fill_boards_with_piece(s0, piece, tmp_piece_list)\n",
    "        tmp_piece_list.append(piece)\n",
    "        \n",
    "    return s0"
   ],
   "metadata": {
    "collapsed": false,
    "pycharm": {
     "name": "#%%\n"
    }
   }
  },
  {
   "cell_type": "markdown",
   "source": [
    "Die funktion ``fill_boards_with_piece()`` erstellt aus einer Menge an Stellungen (in Integer-Representation) `int_boards_set` und einer Figur `piece` eine Menge von Stellungen, welche die Positionen in `int_board_sets` an jeder freien Stelle um `piece` ergänzen.\n",
    "Jedes Mal, wenn eine Figur platziert wird, wird eine Kopie des Board-Objektes erstellt.\n",
    "\n",
    "Wenn der zweite König platziert wird, wird die Stellung zusätzlich auf Validität überprüft.\n",
    "Wenn alle Figuren platziert wurden, werden nur Boards, in denen Schwarz matt ist, zurückgegeben. \n",
    "\n",
    "Die Funktion benötigt als weiteren parameter die Piece List, welche die Figuren enthält, die in `int_boards_set` verwendet werden.\n",
    "Diese Liste wird für das Erstellen von Board-Objekten aus Integern und dem Erstellen von Integern verwendet."
   ],
   "metadata": {
    "collapsed": false,
    "pycharm": {
     "name": "#%% md\n"
    }
   }
  },
  {
   "cell_type": "code",
   "execution_count": null,
   "outputs": [],
   "source": [
    "def fill_boards_with_piece(boards_int_set, piece, cur_piece_list):\n",
    "    finished_boards = set()\n",
    "    all_squares = set(range(64))\n",
    "    piece_count = len(PIECE_LIST)\n",
    "    for int_board in boards_int_set:\n",
    "        board_o = to_board(int_board, cur_piece_list)\n",
    "        used_squares = set(board_o.piece_map().keys())\n",
    "        for square in all_squares:\n",
    "            if square not in used_squares:\n",
    "                tmp_piece_list = cur_piece_list.copy()\n",
    "                board_object = board_o.copy()\n",
    "                board_object.set_piece_at(square, piece)\n",
    "                tmp_piece_list.append(piece)\n",
    "                board_int = to_integer(board_object, tmp_piece_list)\n",
    "                if len(used_squares) > 1 and not board_object.is_valid():\n",
    "                    # Don't process invalid boards further than the second king\n",
    "                    continue\n",
    "\n",
    "                if board_object.is_checkmate():\n",
    "                    if board_int not in USED_BOARDS:\n",
    "                        finished_boards.add(board_int)\n",
    "                        add_original_and_mirrors_to_used(board_int)\n",
    "                        continue\n",
    "\n",
    "                if len(used_squares) + 1 < piece_count: \n",
    "                    #Board is valid, but needs more pieces\n",
    "                    finished_boards.add(board_int)\n",
    "    return finished_boards"
   ],
   "metadata": {
    "collapsed": false,
    "pycharm": {
     "name": "#%%\n"
    }
   }
  },
  {
   "cell_type": "markdown",
   "metadata": {
    "pycharm": {
     "name": "#%% md\n"
    }
   },
   "source": [
    "Nachdem die erste Menge $S_0$ berechnet wurde, müssen iterativ alle verbleibenden $n$ bestimmt werden.\n",
    "Diese Aufgabe übernimmt die Funktion `calculate_next_sn()`. Ausgehend von einer Menge an Integern `sn` wird die Menge $S_{n+1}$ (`sn_p_1`) bestimmt. \n",
    "\n",
    "Hierfür wird über jede Stellung in der Menge `sn` iteriert, relevante Spielzüge ausgeführt (unterschieden zwischen Situationen mit Bauern und ohne), duplikate entfernt und die erreichten Situationen sowohl der Menge $S_{n+1}$ als auch der globalen Variable `USED_BOARDS` hinzugefügt.\n",
    "Ist $n$ gerade ($n = 2i$), wird mit der Funktion `check_black_determinism` weiter überprüft, ob alle Spielzüge in einer Menge  $S_m$ mit $m < n$ enden.\n",
    "\n",
    "> TODO: Keep if valid vielleicht hier?"
   ]
  },
  {
   "cell_type": "code",
   "execution_count": null,
   "metadata": {
    "pycharm": {
     "name": "#%%\n"
    }
   },
   "outputs": [],
   "source": [
    "def calculate_next_sn(sn):\n",
    "    sn_p_1 = set()\n",
    "    for board_int in sn:\n",
    "        # Nicht sicher, ob hier schon die Bretterstellung notwendig ist (glaube nicht)\n",
    "        chess_board = to_board(board_int, PIECE_LIST)\n",
    "        chess_board.turn = chess_board.turn ^ True\n",
    "\n",
    "        # Berücksichtigung bei dieser Trennung, dass irgendwann auch der Pawn in eine Queen umgewandelt wird und dann muss USER_WANTS_PAWN = False sein -> Danach aber vorsichtig bei Spiegelungen sein, weil diese auch nicht instant verwendet werden können -> Möglicherweise doch so umsetzbar\n",
    "        \n",
    "        if need_pawn_moves(chess_board):\n",
    "            reached_boards = moves_with_pawns(chess_board)\n",
    "        else:\n",
    "            reached_boards = moves_without_pawns(chess_board)\n",
    "            \n",
    "        if not chess_board.turn:\n",
    "            reached_boards = check_black_determinism(reached_boards)\n",
    "        \n",
    "        reached_integers = multiple_to_integer(reached_boards)\n",
    "        \n",
    "        # Remove unwanted mirrors\n",
    "        reached_integers = reached_integers - USED_BOARDS\n",
    "        \n",
    "        sn_p_1 |= reached_integers\n",
    "        add_all_to_used(reached_integers)\n",
    "\n",
    "    return sn_p_1"
   ]
  },
  {
   "cell_type": "markdown",
   "metadata": {
    "pycharm": {
     "name": "#%% md\n"
    }
   },
   "source": [
    "### Berechnung der Spielzüge für Stellungen ohne Bauern\n",
    "\n",
    "Die Funktion `moves_without_pawns()` führt für ein Objekt `chess_board` alle möglichen Züge der Figuren aus.\n",
    "\n",
    "Da die Rechnungen rückwärts (von $S_0$ zu $S_n$ mit $n > 0$) durchgeführt werden, muss der Spieler am Zug vor dem Hinzufügen zur temporären Ergebnisliste `tmp` gespiegelt werden.\n",
    "\n",
    "Die Funktion überprüft alle entstehenden Situationen auf Validität und gibt die validen Stellungen `reached_boards` zurpck."
   ]
  },
  {
   "cell_type": "code",
   "execution_count": null,
   "metadata": {
    "pycharm": {
     "name": "#%%\n"
    }
   },
   "outputs": [],
   "source": [
    "def moves_without_pawns(chess_board):\n",
    "    tmp = []\n",
    "    for pLMove in chess_board.pseudo_legal_moves:\n",
    "        # Backwards-execuion of Move\n",
    "        chess_board.push(pLMove)\n",
    "        chess_board.turn = chess_board.turn ^ True\n",
    "        tmp.append(chess_board.copy())\n",
    "        chess_board.turn = chess_board.turn ^ True\n",
    "        chess_board.pop()\n",
    "        \n",
    "    reached_boards = keep_if_valid(tmp)  \n",
    "\n",
    "    return reached_boards"
   ]
  },
  {
   "cell_type": "markdown",
   "metadata": {
    "pycharm": {
     "name": "#%% md\n"
    }
   },
   "source": [
    "### Berechnungen der Spielzüge für Stellungen mit Bauern\n",
    "\n",
    "Die Funktion `moves_with_pawns()` überprüft, ob sich ein Bauer auf dem Spielfeld (im Objekt `chess_board`) befindet.\n",
    "Befindet dieser sich in der Stellung, wird er ein (oder zwei, wenn in Reihe 4) Feld(er) nach hinten bewegt.\n",
    "Befindet sich kein Bauer in der Stellung befindet sich eine Dame in der obersten Reihe (zuvor durch ``need_pawn_moves`` überprüft). In diesem Fall wird die Dame durch einen Bauern in der 7. Reihe ersetzt.\n",
    "\n",
    "Valide Spielsituationen werden als Liste von Objekten `reached_boards` zurückgegeben."
   ]
  },
  {
   "cell_type": "code",
   "execution_count": null,
   "metadata": {
    "pycharm": {
     "name": "#%%\n"
    }
   },
   "outputs": [],
   "source": [
    "def moves_with_pawns(chess_board):    \n",
    "    if check_for_pawn(chess_board):\n",
    "        tmp = move_pawn(chess_board)\n",
    "    else:\n",
    "        tmp = [replace_queen(chess_board)]\n",
    "    \n",
    "    reached_boards = keep_if_valid(tmp)\n",
    "\n",
    "    return reached_boards"
   ]
  },
  {
   "cell_type": "markdown",
   "source": [
    "Die Funktion `check_for_pawn()` überprüft, ob sich Bauern in einer Stellung `chess_board` befinden."
   ],
   "metadata": {
    "collapsed": false,
    "pycharm": {
     "name": "#%% md\n"
    }
   }
  },
  {
   "cell_type": "code",
   "execution_count": null,
   "metadata": {
    "pycharm": {
     "name": "#%%\n"
    }
   },
   "outputs": [],
   "source": [
    "def check_for_pawn(chess_board):\n",
    "    return len(set(chess_board.pieces(chess.PAWN, chess.WHITE))) > 0"
   ]
  },
  {
   "cell_type": "markdown",
   "source": [
    "Die Funktion ``need_pawn_moves()`` überprüft, ob Bauern-Züge für eine Situation `chess_board` beachtet werden müssen.\n",
    "Hierfür verwendet sie das `USER_WANTS_PAWN` Flag, die Farbe am Zug, und ob sich Bauern in der Stellung oder eine Dame in der obersten Reihe befinden."
   ],
   "metadata": {
    "collapsed": false,
    "pycharm": {
     "name": "#%% md\n"
    }
   }
  },
  {
   "cell_type": "code",
   "execution_count": null,
   "metadata": {
    "pycharm": {
     "name": "#%%\n"
    }
   },
   "outputs": [],
   "source": [
    "def need_pawn_moves(chess_board):\n",
    "    return USER_WANTS_PAWN \\\n",
    "           and chess_board.turn \\\n",
    "           and (check_for_pawn(chess_board) or check_top_row_for_queen(chess_board))"
   ]
  },
  {
   "cell_type": "markdown",
   "source": [
    "Die Funktion `find_pawn()` gibt die Nummer des Feldes zurück, in welchem sich ein Bauer auf der Stellung in `chess_board` befindet."
   ],
   "metadata": {
    "collapsed": false,
    "pycharm": {
     "name": "#%% md\n"
    }
   }
  },
  {
   "cell_type": "code",
   "execution_count": null,
   "metadata": {
    "pycharm": {
     "name": "#%%\n"
    }
   },
   "outputs": [],
   "source": [
    "def find_pawn(chess_board):\n",
    "    return chess_board.pieces(chess.PAWN, chess.WHITE).pop()"
   ]
  },
  {
   "cell_type": "markdown",
   "source": [
    "Die Funktion `move_pawn()` setzt einen Bauern in der Situation `chess_board` auf ein Feld in einer niedrigeren Reihe.\n",
    "\n",
    "Befindet sich der Bauer in der vierten Reihe, wird er sowohl in die dritte als auch zweite Reihe gesetzt.\n",
    "In den Reihen 3,5,6 und 7 wird er jeweils eine Reihe zurück gesetzt.\n",
    "\n",
    "Die Rückgabe `res` enthält demnach 0 - 2 Board Objekte."
   ],
   "metadata": {
    "collapsed": false,
    "pycharm": {
     "name": "#%% md\n"
    }
   }
  },
  {
   "cell_type": "code",
   "execution_count": null,
   "metadata": {
    "pycharm": {
     "name": "#%%\n"
    }
   },
   "outputs": [],
   "source": [
    "def move_pawn(chess_board):\n",
    "    res = []\n",
    "    position = find_pawn(chess_board)\n",
    "    if position in range(24-31):\n",
    "        tmp_board = chess_board.copy()\n",
    "        tmp_board.remove_piece_at(position)\n",
    "        tmp_board.set_piece_at(position - 16, chess.Piece.from_symbol('P'))\n",
    "        res.append(tmp_board)\n",
    "    \n",
    "    if position in range(16-63): \n",
    "        chess_board.remove_piece_at(position)\n",
    "        chess_board.set_piece_at(position - 8, chess.Piece.from_symbol('P'))\n",
    "        res.append(chess_board)\n",
    "    \n",
    "    return res"
   ]
  },
  {
   "cell_type": "markdown",
   "source": [
    "Die Funktion `check_top_row_for_queen()` überprüft für eine Situation `chess_board`, ob sich in der 8. Reihe eine Dame befindet.\n",
    "Die Rückgabe erfolgt als boolscher Wert."
   ],
   "metadata": {
    "collapsed": false,
    "pycharm": {
     "name": "#%% md\n"
    }
   }
  },
  {
   "cell_type": "code",
   "execution_count": null,
   "metadata": {
    "pycharm": {
     "name": "#%%\n"
    }
   },
   "outputs": [],
   "source": [
    "def check_top_row_for_queen(chess_board):\n",
    "    square_with_queen = chess_board.pieces(chess.QUEEN, chess.WHITE).pop()\n",
    "    return square_with_queen in range(56,64)"
   ]
  },
  {
   "cell_type": "markdown",
   "source": [
    "Die Funktion `replace_queen()` ersetzt in einer Situation `chess_board` eine Dame in der obersten Reihe durch einen Bauern in Reihe 7."
   ],
   "metadata": {
    "collapsed": false,
    "pycharm": {
     "name": "#%% md\n"
    }
   }
  },
  {
   "cell_type": "code",
   "execution_count": null,
   "metadata": {
    "pycharm": {
     "name": "#%%\n"
    }
   },
   "outputs": [],
   "source": [
    "def replace_queen(chess_board):\n",
    "    queen_square = chess_board.pieces(chess.QUEEN, chess.WHITE).pop()\n",
    "    chess_board.remove_piece_at(queen_square)\n",
    "    chess_board.set_piece_at(queen_square - 8, chess.Piece.from_symbol('P'))\n",
    "    \n",
    "    return chess_board"
   ]
  },
  {
   "cell_type": "markdown",
   "metadata": {
    "pycharm": {
     "name": "#%% md\n"
    }
   },
   "source": [
    "## Hilfsfunktionen für die Rechnung\n",
    "\n",
    "Die folgenden Funktionen werden verwendet, um die vorher definierten Funktionen zu unterstützen."
   ]
  },
  {
   "cell_type": "markdown",
   "source": [
    "Die Funktion `keep_if_valid()` sortiert aus einer Liste `chess_boards` die nicht validen Stellungen aus und gibt die validen als `res` zurück."
   ],
   "metadata": {
    "collapsed": false,
    "pycharm": {
     "name": "#%% md\n"
    }
   }
  },
  {
   "cell_type": "code",
   "execution_count": null,
   "metadata": {
    "pycharm": {
     "name": "#%%\n"
    }
   },
   "outputs": [],
   "source": [
    "def keep_if_valid(chess_boards):\n",
    "    res = []\n",
    "    for board in chess_boards:\n",
    "        if board.is_valid():\n",
    "            res.append(board)    \n",
    "    return res"
   ]
  },
  {
   "cell_type": "markdown",
   "source": [
    "Wenn mittels der KI eine Spielsituation ausgewertet wird, kann für jeden Zug des weißen Spielers ein Zug ausgewählt werden.\n",
    "Für die Stellungen, bei denen Schwarz am Zug ist, muss die KI alle möglichen Züge auswerten können.\n",
    "Da jedoch für einen spezifischen Zug, welcher eine Stellung von $S_n$ in $S_{n-1}$ führt, dasselbe nicht für alle Züge gilt, welche in der Stellung möglich sind, müssen die Stellungen, bei welchen Schwarz am Zug ist, besonders gefiltert werden.\n",
    "Für jede Stellung $b$ aus einem $S_n$ mit $n \\, \\% \\, 2 = 0$ muss folglich gelten:  \n",
    "$$\n",
    "b \\in S_n \\implies \\forall m \\in valid\\_moves(b): b.push(m) \\in S_{m} \\land m < n\n",
    "$$\n",
    "Wobei `valid_moves` die Liste der legalen Züge für eine Stellung ist und `b.push(m)` die Stellung beschreibt, welche durch Ausführen des Zuges $m$ entsteht. \n",
    "\n",
    "Die Funktion `check_black_determinism` stellt dies sicher.\n",
    "Für jede Stellung in `chess_boards` wird jeder mögliche legale Zug ausgeführt und überprüft, ob die entstehende Stellung in einer Menge\n",
    "$S_m$ mit $m <= n$ auffindbar ist. Nur wenn alle Züge diese Bedingung erfüllen, wird das Objekt in die Liste `deterministic` aufgenommen und zurückgegeben."
   ],
   "metadata": {
    "collapsed": false,
    "pycharm": {
     "name": "#%% md\n"
    }
   }
  },
  {
   "cell_type": "code",
   "execution_count": null,
   "metadata": {
    "pycharm": {
     "name": "#%%\n"
    }
   },
   "outputs": [],
   "source": [
    "def check_black_determinism(chess_boards):\n",
    "    deterministic = []\n",
    "    for chess_board in chess_boards:\n",
    "        include = True\n",
    "        for move in chess_board.legal_moves:\n",
    "            chess_board.push(move)\n",
    "            rep = to_integer(chess_board,PIECE_LIST)\n",
    "            chess_board.pop()\n",
    "            if rep not in USED_BOARDS:\n",
    "                include = False\n",
    "                break\n",
    "        \n",
    "        if include:\n",
    "            deterministic.append(chess_board)\n",
    "            \n",
    "    return deterministic"
   ]
  },
  {
   "cell_type": "markdown",
   "metadata": {
    "pycharm": {
     "name": "#%% md\n"
    }
   },
   "source": [
    "### Funktionen für die Ergebnispersistierung\n",
    "\n",
    "> TODO: Optimieren / Erklären von Speicherkonzept"
   ]
  },
  {
   "cell_type": "markdown",
   "source": [
    "Um nach jeder abgeschlossenen Berechnung eines $S_n$ dieses Ergebnis an eine Datei anfügen zu können wird zunächst eine temporäre leere Datei erstellt.\n",
    "Die Funktion `create_empty_file()` erfüllt diese Aufgabe. "
   ],
   "metadata": {
    "collapsed": false,
    "pycharm": {
     "name": "#%% md\n"
    }
   }
  },
  {
   "cell_type": "code",
   "execution_count": null,
   "metadata": {
    "pycharm": {
     "name": "#%%\n"
    }
   },
   "outputs": [],
   "source": [
    "def create_empty_file():\n",
    "    f = open(\"S_n_Results/\" + FILENAME + \".preConvert\", \"w\")\n",
    "    f.write(\"\")\n",
    "    f.close()"
   ]
  },
  {
   "cell_type": "markdown",
   "source": [
    "Die Funktion `store_sn` fügt die Inhalte der Menge `sn` an das Ende der temporären Datei an."
   ],
   "metadata": {
    "collapsed": false,
    "pycharm": {
     "name": "#%% md\n"
    }
   }
  },
  {
   "cell_type": "code",
   "execution_count": null,
   "metadata": {
    "pycharm": {
     "name": "#%%\n"
    }
   },
   "outputs": [],
   "source": [
    "def store_sn(sn):\n",
    "    f = open(\"S_n_Results/\" + FILENAME + \".preConvert\", \"a\")\n",
    "    f.write(\"\\n\")\n",
    "    f.write(json.dumps(list(sn)))\n",
    "    f.close()"
   ]
  },
  {
   "cell_type": "markdown",
   "source": [
    "Nach erfolgreicher Berechnung aller $S_n$ wird die Funktion `convert_temp_file()` verwendet, um eine finale `.chessAI` Datei zu erstellen.\n",
    "\n",
    "Hierfür wird die temporäre `.preConvert` Datei wieder eingelesen, und eine Liste mit allen errechneten Mengen sowie der ``PIECE_LIST`` erstellt.\n",
    "Diese Liste wird mittels Pickle in eine `.pickle` Datei gespeichert, welche anschließend gezippt in einer `.chess.AI` Datei gespeichert werden.\n",
    "Letztlich werden temporäre Daten gelöscht."
   ],
   "metadata": {
    "collapsed": false,
    "pycharm": {
     "name": "#%% md\n"
    }
   }
  },
  {
   "cell_type": "code",
   "execution_count": null,
   "metadata": {
    "pycharm": {
     "name": "#%%\n"
    }
   },
   "outputs": [],
   "source": [
    "def convert_temp_file():\n",
    "    f = open(\"S_n_Results/\" + FILENAME + \".preConvert\", \"r\")\n",
    "    lines = f.readlines()\n",
    "    \n",
    "    data = [PIECE_LIST]\n",
    "    \n",
    "    for line in lines[1:]:\n",
    "        list = json.loads(line)\n",
    "        data.append(set(list))\n",
    "        \n",
    "    f = open(\"S_n_Results/\" + FILENAME + \".pickle\", \"wb\")\n",
    "    f.write(pickle.dumps(data))\n",
    "    f.close()\n",
    "    \n",
    "    with ZipFile(\"S_n_Results/\" + FILENAME + '.chessAI', 'w', compression=ZIP_DEFLATED) as zipped:\n",
    "        zipped.write(\"S_n_Results/\" + FILENAME + \".pickle\", FILENAME + \".pickle\")\n",
    "    if os.path.exists(\"S_n_Results/\" + FILENAME + \".chessAI\") and os.path.exists(\"S_n_Results/\" + FILENAME + \".pickle\"):\n",
    "        os.remove(\"S_n_Results/\" + FILENAME + \".pickle\") \n",
    "\n",
    "    if os.path.exists(\"S_n_Results/\" + FILENAME + \".preConvert\"):\n",
    "        os.remove(\"S_n_Results/\" + FILENAME + \".preConvert\")"
   ]
  },
  {
   "cell_type": "markdown",
   "source": [
    "Ausführen der Berechnung"
   ],
   "metadata": {
    "collapsed": false,
    "pycharm": {
     "name": "#%% md\n"
    }
   }
  },
  {
   "cell_type": "code",
   "execution_count": null,
   "metadata": {
    "pycharm": {
     "name": "#%%\n"
    }
   },
   "outputs": [],
   "source": [
    "%%time\n",
    "create_empty_file()\n",
    "calculate()\n",
    "convert_temp_file()\n"
   ]
  }
 ],
 "metadata": {
  "kernelspec": {
   "display_name": "Python 3 (ipykernel)",
   "language": "python",
   "name": "python3"
  },
  "language_info": {
   "codemirror_mode": {
    "name": "ipython",
    "version": 3
   },
   "file_extension": ".py",
   "mimetype": "text/x-python",
   "name": "python",
   "nbconvert_exporter": "python",
   "pygments_lexer": "ipython3",
   "version": "3.9.12"
  }
 },
 "nbformat": 4,
 "nbformat_minor": 1
}