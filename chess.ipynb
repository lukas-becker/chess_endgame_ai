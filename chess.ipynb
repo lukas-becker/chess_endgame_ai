{
 "cells": [
  {
   "cell_type": "markdown",
   "metadata": {
    "collapsed": true,
    "pycharm": {
     "name": "#%% md\n"
    }
   },
   "source": [
    "## Imports"
   ]
  },
  {
   "cell_type": "code",
   "execution_count": null,
   "outputs": [],
   "source": [
    "import chess\n",
    "from anytree import Node, RenderTree\n",
    "from math import factorial\n",
    "from anytree.exporter import DotExporter"
   ],
   "metadata": {
    "collapsed": false,
    "pycharm": {
     "name": "#%%\n"
    }
   }
  },
  {
   "cell_type": "markdown",
   "source": [
    "## Initial board entry\n",
    "This will be replaced by @NicoMillers board setup code "
   ],
   "metadata": {
    "collapsed": false,
    "pycharm": {
     "name": "#%% md\n"
    }
   }
  },
  {
   "cell_type": "code",
   "execution_count": null,
   "outputs": [],
   "source": [
    "fen = \"8/8/8/8/4k3/8/8/K6R w - - 0 1\"\n",
    "board = chess.Board(fen)"
   ],
   "metadata": {
    "collapsed": false,
    "pycharm": {
     "name": "#%%\n"
    }
   }
  },
  {
   "cell_type": "markdown",
   "source": [
    "## Setting up the piece list\n",
    "The piece list contains all pieces on the board."
   ],
   "metadata": {
    "collapsed": false,
    "pycharm": {
     "name": "#%% md\n"
    }
   }
  },
  {
   "cell_type": "code",
   "execution_count": null,
   "outputs": [],
   "source": [
    "#get the piece map from the library\n",
    "tmp_piece_map = board.piece_map()\n",
    "pieceList = []\n",
    "#iterate over the map and append the pieces to the list\n",
    "for location in tmp_piece_map:\n",
    "    pieceList.append(tmp_piece_map[location])"
   ],
   "metadata": {
    "collapsed": false,
    "pycharm": {
     "name": "#%%\n"
    }
   }
  },
  {
   "cell_type": "markdown",
   "source": [
    "## Setting up the boardList\n",
    "The board list is a list object containing 64! / (64-COUNT(Pieces))! empty boards to be filled later."
   ],
   "metadata": {
    "collapsed": false,
    "pycharm": {
     "name": "#%% md\n"
    }
   }
  },
  {
   "cell_type": "code",
   "execution_count": null,
   "outputs": [],
   "source": [
    "tmp_board = chess.Board()\n",
    "tmp_board.clear()\n",
    "board_list = []\n",
    "list_length = factorial(64) // factorial(64 - len(pieceList))\n",
    "\n",
    "for i in range(list_length):\n",
    "    board_list.append(tmp_board.copy())"
   ],
   "metadata": {
    "collapsed": false,
    "pycharm": {
     "name": "#%%\n"
    }
   }
  },
  {
   "cell_type": "markdown",
   "source": [
    "## The placePieces helper function\n",
    "This function recursively places pieces on the board.\n",
    "It takes the following arguments:\n",
    "* boardList: A list containing empty or partially filled board objects\n",
    "* pieceList: A list containing all pieces which should end up on the board\n",
    "* pieceIndexStart: Index of the next piece to be placed\n",
    "* start: range start for where to begin placing pieces in the boardList\n",
    "* stop: range end for where to end placing pieces in the boardList\n",
    "\n",
    "//TODO: Comments"
   ],
   "metadata": {
    "collapsed": false,
    "pycharm": {
     "name": "#%% md\n"
    }
   }
  },
  {
   "cell_type": "code",
   "execution_count": null,
   "outputs": [],
   "source": [
    "def placePieces(boardList, pieceList, pieceIndexStart, start, stop):\n",
    "    squareIndex = -1 #first Run increments to 0\n",
    "    offset = (stop - start) // (64 - (len(pieceList) - 1) + pieceIndexStart)\n",
    "    for i in range(start, stop):\n",
    "        if i % offset == 0:\n",
    "            if pieceIndexStart < (len(pieceList)-1) and i - offset > 0:\n",
    "                placePieces(boardList, pieceList, pieceIndexStart + 1, i - offset, i)\n",
    "            squareIndex = squareIndex + 1\n",
    "        square = chess.Square(squareIndex)\n",
    "        if boardList[i].piece_at(square) is not None:\n",
    "            continue\n",
    "        boardList[i].set_piece_at(square, pieceList[pieceIndexStart])"
   ],
   "metadata": {
    "collapsed": false,
    "pycharm": {
     "name": "#%%\n"
    }
   }
  },
  {
   "cell_type": "markdown",
   "source": [
    "## Create all possible combionations of pieces on the board"
   ],
   "metadata": {
    "collapsed": false,
    "pycharm": {
     "name": "#%% md\n"
    }
   }
  },
  {
   "cell_type": "code",
   "execution_count": null,
   "outputs": [],
   "source": [
    "placePieces(board_list, pieceList, 0, 0, len(board_list))"
   ],
   "metadata": {
    "collapsed": false,
    "pycharm": {
     "name": "#%%\n"
    }
   }
  },
  {
   "cell_type": "markdown",
   "source": [
    "## Check boards for validity and filter out invalid ones"
   ],
   "metadata": {
    "collapsed": false,
    "pycharm": {
     "name": "#%% md\n"
    }
   }
  },
  {
   "cell_type": "code",
   "execution_count": null,
   "outputs": [],
   "source": [
    "S = []\n",
    "for board in board_list:\n",
    "    #Board with white having the next turn\n",
    "    board.turn = chess.WHITE\n",
    "    status = board.status()\n",
    "    if status == chess.Status.VALID or status == chess.Status.OPPOSITE_CHECK:\n",
    "        S.append(board)\n",
    "    boardBlackMove = board.copy()\n",
    "    boardBlackMove.turn = chess.BLACK\n",
    "    status = boardBlackMove.status()\n",
    "    #The same board with black having the next turn\n",
    "    if status == chess.Status.VALID or status == chess.Status.OPPOSITE_CHECK:\n",
    "        S.append(boardBlackMove)\n",
    "\n",
    "print(str(len(S)) + \" valid boards\")\n"
   ],
   "metadata": {
    "collapsed": false,
    "pycharm": {
     "name": "#%%\n"
    }
   }
  },
  {
   "cell_type": "markdown",
   "source": [
    "## Find won boards and add them to S_0"
   ],
   "metadata": {
    "collapsed": false,
    "pycharm": {
     "name": "#%% md\n"
    }
   }
  },
  {
   "cell_type": "code",
   "execution_count": null,
   "outputs": [],
   "source": [
    "S_tmp = []\n",
    "S_0 = []\n",
    "\n",
    "for board in S:\n",
    "    outcome = board.outcome()\n",
    "    if outcome != None:\n",
    "        if outcome.winner is not None:\n",
    "            S_0.append(board)\n",
    "    else:\n",
    "        S_tmp.append(board)\n",
    "S = S_tmp"
   ],
   "metadata": {
    "collapsed": false,
    "pycharm": {
     "name": "#%%\n"
    }
   }
  }
 ],
 "metadata": {
  "kernelspec": {
   "display_name": "Python 3",
   "language": "python",
   "name": "python3"
  },
  "language_info": {
   "codemirror_mode": {
    "name": "ipython",
    "version": 2
   },
   "file_extension": ".py",
   "mimetype": "text/x-python",
   "name": "python",
   "nbconvert_exporter": "python",
   "pygments_lexer": "ipython2",
   "version": "2.7.6"
  }
 },
 "nbformat": 4,
 "nbformat_minor": 0
}