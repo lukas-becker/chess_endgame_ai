{
 "cells": [
  {
   "cell_type": "markdown",
   "metadata": {
    "pycharm": {
     "name": "#%% md\n"
    }
   },
   "source": [
    "# Chess retrograde analysis\n",
    "_Description_\n",
    "\n",
    "Known Issues:\n",
    "* Does not work with pawns on the board\n",
    "\n",
    "Possible improvements:\n",
    "* Wrap the initialization in functions to make rerunning the notebook easier"
   ]
  },
  {
   "cell_type": "markdown",
   "metadata": {
    "collapsed": true,
    "pycharm": {
     "name": "#%% md\n"
    }
   },
   "source": [
    "## Imports\n",
    "Imports needed to run this notebook"
   ]
  },
  {
   "cell_type": "code",
   "execution_count": null,
   "metadata": {
    "pycharm": {
     "name": "#%%\n"
    }
   },
   "outputs": [],
   "source": [
    "import chess\n",
    "from math import factorial\n",
    "from IPython.display import clear_output"
   ]
  },
  {
   "cell_type": "markdown",
   "metadata": {
    "pycharm": {
     "name": "#%% md\n"
    }
   },
   "source": [
    "\n",
    "## Initial board entry\n",
    "This will be replaced by @NicoMillers board setup code. For now you can enter a fen.\n",
    "You can read more about fens [here](https://www.chess.com/terms/fen-chess).\n",
    "\n",
    "The current example fen `8/8/8/8/4k3/8/8/K6R w - - 0 1` describes the scenario lone rook.\n",
    "Additionally, the first board object is created.\n"
   ]
  },
  {
   "cell_type": "code",
   "execution_count": null,
   "metadata": {
    "pycharm": {
     "name": "#%%\n"
    }
   },
   "outputs": [],
   "source": [
    "fen = \"8/8/8/8/4k3/8/8/K6R w - - 0 1\"\n",
    "board = chess.Board(fen)"
   ]
  },
  {
   "cell_type": "markdown",
   "metadata": {
    "pycharm": {
     "name": "#%% md\n"
    }
   },
   "source": [
    "## Setting up the piece list\n",
    "The piece list contains all pieces on the board.\n",
    "This list is created in a multiple step process.\n",
    "1. Get the piece map from the chess library.\n",
    "   The piece map is a dictionary containing positions as keys and symbols as values.\n",
    "   Example: `{28: Piece.from_symbol('k')}`\n",
    "2. Iterate over the piece map and add the piece object to a new list.\n",
    "\n",
    "The final piece list looks like this:\n",
    "`[Piece.from_symbol('k')]`"
   ]
  },
  {
   "cell_type": "code",
   "execution_count": null,
   "metadata": {
    "pycharm": {
     "name": "#%%\n"
    }
   },
   "outputs": [],
   "source": [
    "#get the piece map from the library\n",
    "tmp_piece_map = board.piece_map()\n",
    "pieceList = []\n",
    "#iterate over the map and append the pieces to the list\n",
    "for location in tmp_piece_map:\n",
    "    pieceList.append(tmp_piece_map[location])\n",
    "\n",
    "print(pieceList)"
   ]
  },
  {
   "cell_type": "markdown",
   "metadata": {
    "pycharm": {
     "name": "#%% md\n"
    }
   },
   "source": [
    "## Setting up the boardList\n",
    "The board list is a list object containing `64! / (64-COUNT(Pieces))!` empty boards to be filled later.\n",
    "This allows for the first piece in the piece list to be positioned on all 64 squares, the second piece on all remaining 63 (64\\*63) the third on the remaining 62 (64\\*63\\*63) et cetera.\n",
    "\n",
    "This is achieved by creating a new board and removing all default pieces.\n",
    "Then the program iterates through a loop `64! / (64-COUNT(Pieces))!` times. On each iteration a copy of the empty board is added to the list."
   ]
  },
  {
   "cell_type": "code",
   "execution_count": null,
   "metadata": {
    "pycharm": {
     "name": "#%%\n"
    }
   },
   "outputs": [],
   "source": [
    "tmp_board = chess.Board()\n",
    "tmp_board.clear()\n",
    "board_list = []\n",
    "list_length = factorial(64) // factorial(64 - len(pieceList))\n",
    "\n",
    "for i in range(list_length):\n",
    "    board_list.append(tmp_board.copy())"
   ]
  },
  {
   "cell_type": "markdown",
   "metadata": {
    "pycharm": {
     "name": "#%% md\n"
    }
   },
   "source": [
    "## The recursive placePieces helper function\n",
    "\n",
    "Function arguments:\n",
    "* boardList: A list containing empty or partially filled board objects\n",
    "* pieceList: A list containing all pieces which should end up on the board\n",
    "* pieceIndexStart: Index of the next piece to be placed\n",
    "* start: range start for where to begin placing pieces in the boardList\n",
    "* stop: range end for where to end placing pieces in the boardList\n",
    "\n",
    "Function result:\n",
    "This function recursively places the pieces in the pieceList with an index >= pieceIndexStart on the boards in the boardList.\n",
    "The boards in the boardList will be filled in all possible combinations of the pieces.\n",
    "\n",
    "Sideeffects:\n",
    "This function modifies the supplied boardList.\n",
    "\n",
    "Algorithm:\n",
    "* Calculate piece offset\n",
    "  The offset describes every how many boards the current piece needs to be placed on the next square.\n",
    "  Example: if there are two pieces in the piece list, the first piece must be on all 64 squares, and for every position the first piece takes the second piece needs to be placed on the remaining 63 squares.\n",
    "  ```\n",
    "  O|     O|X  O|  O|\n",
    "  --- -> ---  --- ---\n",
    "   |      |   X|   |X\n",
    "\n",
    "   |O    X|O   |O  |O\n",
    "  --- -> ---  --- ---\n",
    "   |      |   X|   |X\n",
    "  ```\n",
    "  In this 2x2 board the second piece has three possible positions, after the first piece was placed.\n",
    "  So every fourth board the first piece needs to be placed on the next square.\n",
    "  This can be scaled up to a 64x64 chess board.\n",
    "  The offset in this example is 3.\n",
    "  For larger boards the offset can be calculated with the following formula.\n",
    "  `offset = (stop - start) // (64 - (len(pieceList) - 1) + pieceIndexStart)`\n",
    "* Iterate over the board list, starting at *start*\n",
    "    * Place the piece from the pieceList at the position pieceIndexStart on the first (empty) square.\n",
    "    * If the offset is reached:\n",
    "        * If there are pieces remaining recursively call the function with an incremented pieceIndexStart and new start and stop values. The new range is the area the current piece was placed.\n",
    "        * Increment the square.\n",
    "    * If the square is empty place the current piece on the square.\n",
    "\n",
    "\n",
    "\n",
    "//TODO: Comments"
   ]
  },
  {
   "cell_type": "code",
   "execution_count": null,
   "metadata": {
    "pycharm": {
     "name": "#%%\n"
    }
   },
   "outputs": [],
   "source": [
    "def placePieces(boardList, pieceList, pieceIndexStart, start, stop):\n",
    "    squareIndex = -1 #first Run increments to 0\n",
    "    offset = (stop - start) // (64 - (len(pieceList) - 1) + pieceIndexStart)\n",
    "    for i in range(start, stop):\n",
    "        if i % offset == 0:\n",
    "            if pieceIndexStart < (len(pieceList)-1) and i - offset > 0:\n",
    "                placePieces(boardList, pieceList, pieceIndexStart + 1, i - offset, i)\n",
    "            squareIndex = squareIndex + 1\n",
    "        square = chess.Square(squareIndex)\n",
    "        if boardList[i].piece_at(square) is None:\n",
    "            boardList[i].set_piece_at(square, pieceList[pieceIndexStart])"
   ]
  },
  {
   "cell_type": "markdown",
   "metadata": {
    "pycharm": {
     "name": "#%% md\n"
    }
   },
   "source": [
    "## Create all possible combinations of pieces on the board"
   ]
  },
  {
   "cell_type": "code",
   "execution_count": null,
   "metadata": {
    "pycharm": {
     "name": "#%%\n"
    }
   },
   "outputs": [],
   "source": [
    "placePieces(board_list, pieceList, 0, 0, len(board_list))"
   ]
  },
  {
   "cell_type": "markdown",
   "metadata": {
    "pycharm": {
     "name": "#%% md\n"
    }
   },
   "source": [
    "## Check boards for validity and filter out invalid ones\n",
    "Iterate over all previously created boards and check the status through the library. If it's valid add it to a new list.\n",
    "Toggle the color whose turn it is and do the same.\n",
    "Afterwards the list S contains all valid combinations."
   ]
  },
  {
   "cell_type": "code",
   "execution_count": null,
   "metadata": {
    "pycharm": {
     "name": "#%%\n"
    }
   },
   "outputs": [],
   "source": [
    "S = []\n",
    "for board in board_list:\n",
    "    #Board with white having the next turn\n",
    "    board.turn = chess.WHITE\n",
    "    status = board.status()\n",
    "    if status == chess.Status.VALID:\n",
    "        S.append(board)\n",
    "    boardBlackMove = board.copy()\n",
    "    boardBlackMove.turn = chess.BLACK\n",
    "    status = boardBlackMove.status()\n",
    "    #The same board with black having the next turn\n",
    "    if status == chess.Status.VALID:\n",
    "        S.append(boardBlackMove)\n"
   ]
  },
  {
   "cell_type": "markdown",
   "metadata": {
    "pycharm": {
     "name": "#%% md\n"
    }
   },
   "source": [
    "## Find won boards and add them to S_0\n",
    "* Iterate over all boards in S.\n",
    "* Check the status information provided by the library if there is a winner.\n",
    "* If there is, add the board to the list S_0\n",
    "  Additionally add them to S_0_ASCII for easier comparison in the next step.\n",
    "* Else add the board to a temporary S (this is more efficient than removing the board from S)\n",
    "* Replace S with the temporary S"
   ]
  },
  {
   "cell_type": "code",
   "execution_count": null,
   "metadata": {
    "pycharm": {
     "name": "#%%\n"
    }
   },
   "outputs": [],
   "source": [
    "S_tmp = []\n",
    "S_ASCII = []\n",
    "S_0 = []\n",
    "S_0_ASCII = []\n",
    "\n",
    "for board in S:\n",
    "    outcome = board.outcome()\n",
    "    # If True Game has finished in a certain way\n",
    "    if outcome is not None:\n",
    "        # A winner has been determined\n",
    "        if outcome.winner is not None and board.is_valid():\n",
    "            S_0.append(board)\n",
    "            S_0_ASCII.append((board.turn,board.__str__()))\n",
    "    # Every other board\n",
    "    else:\n",
    "        S_tmp.append(board)\n",
    "        S_ASCII.append((board.turn, board.__str__()))\n",
    "S = S_tmp\n",
    "\n"
   ]
  },
  {
   "cell_type": "markdown",
   "metadata": {
    "pycharm": {
     "name": "#%% md\n"
    }
   },
   "source": [
    "## OneStepAway Function\n",
    "This function returns (given two lists of boards) all boards from the second list, that are one move away from one board from the first list.\n",
    "Additionally, it returns the second list, without the boards in the new list.\n",
    "\n",
    "Function parameters:\n",
    "* S_n: The list of boards n steps away from winning\n",
    "* S: The list of all boards to be checked against\n",
    "\n",
    "Sideeffects:\n",
    "None.\n",
    "All supplied lists stay the same, modified lists are returned in a tuple.\n",
    "\n",
    "Algorithm:\n",
    "* Store the ascii representations of all boards in S to make later comparisons easier\n",
    "* Iterate over the boards in S_n\n",
    "  * Iterate over the pseudoLegalMoves provided by the library.\n",
    "    This list contains all possible moves, even from a winning state.\n",
    "    __Important: This does not work with pawns - This needs to be fixed later__\n",
    "    * Execute the move\n",
    "    * Check if the board is in S (using S_ascii)\n",
    "    * If true, append it to s_n1_ascii (as comparisons are done using the ascii representation)\n",
    "* Iterate over S\n",
    "  * If the board is in s_n1_ascii, add it to s_n1\n",
    "  * Otherwise add it to s_tmp\n",
    "* Return s_n1 and s_tmp"
   ]
  },
  {
   "cell_type": "code",
   "execution_count": null,
   "metadata": {
    "pycharm": {
     "name": "#%%\n"
    }
   },
   "outputs": [],
   "source": [
    "def one_step_away(S_n, S, iterationCount = None):\n",
    "    #variables\n",
    "    s_n1 = []\n",
    "    s_n1_ascii = []\n",
    "    s_ascii = []\n",
    "    s_tmp = []\n",
    "\n",
    "    #create temporary list for comparison\n",
    "    for chessBoard in S:\n",
    "        s_ascii.append((chessBoard.turn, chessBoard.__str__()))\n",
    "\n",
    "    for i in range(len(S_n)):\n",
    "\n",
    "        if iterationCount is not None:\n",
    "            status = \"Calculating S\" + str(iterationCount) + \" - Board \" + str(i+1) + \" of \" + str(len(S_n)) + \" from S\" + str(iterationCount-1)\n",
    "        else:\n",
    "            status = \"Board \" + str(i+1) + \" of \" + str(len(S_n))\n",
    "        clear_output(wait=True)\n",
    "        print(status)\n",
    "\n",
    "        chessBoard = S_n[i]\n",
    "        chessBoard.turn = chessBoard.turn ^ True\n",
    "        for pLMove in chessBoard.pseudo_legal_moves:\n",
    "            chessBoard.push(pLMove)\n",
    "            if not chessBoard.is_valid():\n",
    "                chessBoard.pop()\n",
    "                continue\n",
    "            if (chessBoard.turn ^ True, chessBoard.__str__()) in s_ascii:\n",
    "                s_n1_ascii.append((chessBoard.turn ^ True, chessBoard.__str__()))\n",
    "            chessBoard.pop()\n",
    "        chessBoard.turn = chessBoard.turn ^ True\n",
    "\n",
    "    clear_output(wait=True)\n",
    "    print(\"Mapping ASCII boards to board objects\")\n",
    "    #create return lists\n",
    "    for chessBoard in S:\n",
    "        if(chessBoard.turn, chessBoard.__str__()) in s_n1_ascii:\n",
    "            s_n1.append(chessBoard)\n",
    "        else:\n",
    "            s_tmp.append(chessBoard)\n",
    "\n",
    "    clear_output(wait=True)\n",
    "    print(\"Done\")\n",
    "\n",
    "    return s_n1, s_tmp"
   ]
  },
  {
   "cell_type": "markdown",
   "metadata": {},
   "source": [
    "## Find all boards one step away from winning"
   ]
  },
  {
   "cell_type": "code",
   "execution_count": null,
   "metadata": {
    "pycharm": {
     "name": "#%%\n"
    }
   },
   "outputs": [],
   "source": [
    "print(len(S_0))\n",
    "S_1, S = one_step_away(S_0, S)\n",
    "print(len(S_1))"
   ]
  },
  {
   "cell_type": "code",
   "execution_count": null,
   "outputs": [],
   "source": [
    "S_n_squence = []\n",
    "S_n_squence.append(S_0)\n",
    "S_n_squence.append(S_1)\n",
    "while True:\n",
    "    S_n_new, S = one_step_away(S_n_squence[-1], S, len(S_n_squence))\n",
    "    if not S_n_new: #an empty list is false\n",
    "        break\n",
    "    S_n_squence.append(S_n_new)\n",
    "\n",
    "print(\"Completed\")\n",
    "print(len(S_n_squence))\n",
    "print(len(S))"
   ],
   "metadata": {
    "collapsed": false,
    "pycharm": {
     "name": "#%%\n"
    }
   }
  }
 ],
 "metadata": {
  "kernelspec": {
   "display_name": "Python 3 (ipykernel)",
   "language": "python",
   "name": "python3"
  },
  "language_info": {
   "codemirror_mode": {
    "name": "ipython",
    "version": 3
   },
   "file_extension": ".py",
   "mimetype": "text/x-python",
   "name": "python",
   "nbconvert_exporter": "python",
   "pygments_lexer": "ipython3",
   "version": "3.9.7"
  }
 },
 "nbformat": 4,
 "nbformat_minor": 1
}