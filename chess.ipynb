{
 "cells": [
  {
   "cell_type": "markdown",
   "source": [
    "# Chess retrograde analysis\n",
    "_Description_\n",
    "\n",
    "Known Issues:\n",
    "* Does not work with pawns on the board"
   ],
   "metadata": {
    "collapsed": false,
    "pycharm": {
     "name": "#%% md\n"
    }
   }
  },
  {
   "cell_type": "markdown",
   "metadata": {
    "collapsed": true,
    "pycharm": {
     "name": "#%% md\n"
    }
   },
   "source": [
    "## Imports"
   ]
  },
  {
   "cell_type": "code",
   "execution_count": 2,
   "outputs": [],
   "source": [
    "import chess\n",
    "from anytree import Node, RenderTree\n",
    "from math import factorial\n",
    "from anytree.exporter import DotExporter"
   ],
   "metadata": {
    "collapsed": false,
    "pycharm": {
     "name": "#%%\n"
    }
   }
  },
  {
   "cell_type": "markdown",
   "source": [
    "## Initial board entry\n",
    "This will be replaced by @NicoMillers board setup code"
   ],
   "metadata": {
    "collapsed": false,
    "pycharm": {
     "name": "#%% md\n"
    }
   }
  },
  {
   "cell_type": "code",
   "execution_count": 3,
   "outputs": [],
   "source": [
    "fen = \"8/8/8/8/4k3/8/8/K6R w - - 0 1\"\n",
    "board = chess.Board(fen)"
   ],
   "metadata": {
    "collapsed": false,
    "pycharm": {
     "name": "#%%\n"
    }
   }
  },
  {
   "cell_type": "markdown",
   "source": [
    "## Setting up the piece list\n",
    "The piece list contains all pieces on the board."
   ],
   "metadata": {
    "collapsed": false,
    "pycharm": {
     "name": "#%% md\n"
    }
   }
  },
  {
   "cell_type": "code",
   "execution_count": 4,
   "outputs": [],
   "source": [
    "#get the piece map from the library\n",
    "tmp_piece_map = board.piece_map()\n",
    "pieceList = []\n",
    "#iterate over the map and append the pieces to the list\n",
    "for location in tmp_piece_map:\n",
    "    pieceList.append(tmp_piece_map[location])"
   ],
   "metadata": {
    "collapsed": false,
    "pycharm": {
     "name": "#%%\n"
    }
   }
  },
  {
   "cell_type": "markdown",
   "source": [
    "## Setting up the boardList\n",
    "The board list is a list object containing 64! / (64-COUNT(Pieces))! empty boards to be filled later."
   ],
   "metadata": {
    "collapsed": false,
    "pycharm": {
     "name": "#%% md\n"
    }
   }
  },
  {
   "cell_type": "code",
   "execution_count": 5,
   "outputs": [],
   "source": [
    "tmp_board = chess.Board()\n",
    "tmp_board.clear()\n",
    "board_list = []\n",
    "list_length = factorial(64) // factorial(64 - len(pieceList))\n",
    "\n",
    "for i in range(list_length):\n",
    "    board_list.append(tmp_board.copy())"
   ],
   "metadata": {
    "collapsed": false,
    "pycharm": {
     "name": "#%%\n"
    }
   }
  },
  {
   "cell_type": "markdown",
   "source": [
    "## The placePieces helper function\n",
    "This function recursively places pieces on the board.\n",
    "It takes the following arguments:\n",
    "* boardList: A list containing empty or partially filled board objects\n",
    "* pieceList: A list containing all pieces which should end up on the board\n",
    "* pieceIndexStart: Index of the next piece to be placed\n",
    "* start: range start for where to begin placing pieces in the boardList\n",
    "* stop: range end for where to end placing pieces in the boardList\n",
    "\n",
    "//TODO: Comments"
   ],
   "metadata": {
    "collapsed": false,
    "pycharm": {
     "name": "#%% md\n"
    }
   }
  },
  {
   "cell_type": "code",
   "execution_count": 6,
   "outputs": [],
   "source": [
    "def placePieces(boardList, pieceList, pieceIndexStart, start, stop):\n",
    "    squareIndex = -1 #first Run increments to 0\n",
    "    offset = (stop - start) // (64 - (len(pieceList) - 1) + pieceIndexStart)\n",
    "    for i in range(start, stop):\n",
    "        if i % offset == 0:\n",
    "            if pieceIndexStart < (len(pieceList)-1) and i - offset > 0:\n",
    "                placePieces(boardList, pieceList, pieceIndexStart + 1, i - offset, i)\n",
    "            squareIndex = squareIndex + 1\n",
    "        square = chess.Square(squareIndex)\n",
    "        if boardList[i].piece_at(square) is not None:\n",
    "            continue\n",
    "        boardList[i].set_piece_at(square, pieceList[pieceIndexStart])"
   ],
   "metadata": {
    "collapsed": false,
    "pycharm": {
     "name": "#%%\n"
    }
   }
  },
  {
   "cell_type": "markdown",
   "source": [
    "## Create all possible combinations of pieces on the board"
   ],
   "metadata": {
    "collapsed": false,
    "pycharm": {
     "name": "#%% md\n"
    }
   }
  },
  {
   "cell_type": "code",
   "execution_count": 7,
   "outputs": [],
   "source": [
    "placePieces(board_list, pieceList, 0, 0, len(board_list))"
   ],
   "metadata": {
    "collapsed": false,
    "pycharm": {
     "name": "#%%\n"
    }
   }
  },
  {
   "cell_type": "markdown",
   "source": [
    "## Check boards for validity and filter out invalid ones"
   ],
   "metadata": {
    "collapsed": false,
    "pycharm": {
     "name": "#%% md\n"
    }
   }
  },
  {
   "cell_type": "code",
   "execution_count": 8,
   "outputs": [
    {
     "name": "stdout",
     "output_type": "stream",
     "text": [
      "468195 valid boards\n"
     ]
    }
   ],
   "source": [
    "S = []\n",
    "for board in board_list:\n",
    "    #Board with white having the next turn\n",
    "    board.turn = chess.WHITE\n",
    "    status = board.status()\n",
    "    if status == chess.Status.VALID or status == chess.Status.OPPOSITE_CHECK:\n",
    "        S.append(board)\n",
    "    boardBlackMove = board.copy()\n",
    "    boardBlackMove.turn = chess.BLACK\n",
    "    status = boardBlackMove.status()\n",
    "    #The same board with black having the next turn\n",
    "    if status == chess.Status.VALID or status == chess.Status.OPPOSITE_CHECK:\n",
    "        S.append(boardBlackMove)\n",
    "\n",
    "print(str(len(S)) + \" valid boards\")\n"
   ],
   "metadata": {
    "collapsed": false,
    "pycharm": {
     "name": "#%%\n"
    }
   }
  },
  {
   "cell_type": "markdown",
   "source": [
    "## Find won boards and add them to S_0\n",
    "Aditionally add them to S_0_ASCII for easier comparison in the next step."
   ],
   "metadata": {
    "collapsed": false,
    "pycharm": {
     "name": "#%% md\n"
    }
   }
  },
  {
   "cell_type": "code",
   "execution_count": 9,
   "outputs": [],
   "source": [
    "S_tmp = []\n",
    "S_0 = []\n",
    "S_0_ASCII = []\n",
    "\n",
    "for board in S:\n",
    "    outcome = board.outcome()\n",
    "    if outcome != None:\n",
    "        if outcome.winner is not None:\n",
    "            S_0.append(board)\n",
    "            S_0_ASCII.append((board.turn,board.__str__()))\n",
    "    else:\n",
    "        S_tmp.append(board)\n",
    "S = S_tmp"
   ],
   "metadata": {
    "collapsed": false,
    "pycharm": {
     "name": "#%%\n"
    }
   }
  },
  {
   "cell_type": "markdown",
   "source": [
    "## Find all boards one step away from winning"
   ],
   "metadata": {
    "collapsed": false,
    "pycharm": {
     "name": "#%% md\n"
    }
   }
  },
  {
   "cell_type": "code",
   "execution_count": 16,
   "outputs": [
    {
     "name": "stdout",
     "output_type": "stream",
     "text": [
      "508\n"
     ]
    }
   ],
   "source": [
    "S_1 = []\n",
    "\n",
    "for board in S_0:\n",
    "    for move in board.pseudo_legal_moves:\n",
    "        board.push(move)\n",
    "        if ((board.turn, board.__str__())) in   board.__eq__():\n",
    "            continue\n",
    "            #TODO - do Something"
   ],
   "metadata": {
    "collapsed": false,
    "pycharm": {
     "name": "#%%\n"
    }
   }
  },
  {
   "cell_type": "code",
   "execution_count": 11,
   "outputs": [
    {
     "ename": "KeyboardInterrupt",
     "evalue": "",
     "output_type": "error",
     "traceback": [
      "\u001B[1;31m---------------------------------------------------------------------------\u001B[0m",
      "\u001B[1;31mKeyboardInterrupt\u001B[0m                         Traceback (most recent call last)",
      "\u001B[1;32m~\\AppData\\Local\\Temp/ipykernel_26892/570906544.py\u001B[0m in \u001B[0;36m<module>\u001B[1;34m\u001B[0m\n\u001B[0;32m      2\u001B[0m     \u001B[1;32mfor\u001B[0m \u001B[0mmove\u001B[0m \u001B[1;32min\u001B[0m \u001B[0mboard\u001B[0m\u001B[1;33m.\u001B[0m\u001B[0mlegal_moves\u001B[0m\u001B[1;33m:\u001B[0m\u001B[1;33m\u001B[0m\u001B[1;33m\u001B[0m\u001B[0m\n\u001B[0;32m      3\u001B[0m         \u001B[0mboard\u001B[0m\u001B[1;33m.\u001B[0m\u001B[0mpush\u001B[0m\u001B[1;33m(\u001B[0m\u001B[0mmove\u001B[0m\u001B[1;33m)\u001B[0m\u001B[1;33m\u001B[0m\u001B[1;33m\u001B[0m\u001B[0m\n\u001B[1;32m----> 4\u001B[1;33m         \u001B[1;32mif\u001B[0m \u001B[1;33m(\u001B[0m\u001B[0mboard\u001B[0m\u001B[1;33m.\u001B[0m\u001B[0mturn\u001B[0m\u001B[1;33m,\u001B[0m \u001B[0mboard\u001B[0m\u001B[1;33m.\u001B[0m\u001B[0m__str__\u001B[0m\u001B[1;33m(\u001B[0m\u001B[1;33m)\u001B[0m\u001B[1;33m)\u001B[0m \u001B[1;32min\u001B[0m \u001B[0mS_0_ASCII\u001B[0m\u001B[1;33m:\u001B[0m\u001B[1;33m\u001B[0m\u001B[1;33m\u001B[0m\u001B[0m\n\u001B[0m\u001B[0;32m      5\u001B[0m             \u001B[0mboard\u001B[0m\u001B[1;33m.\u001B[0m\u001B[0mpop\u001B[0m\u001B[1;33m(\u001B[0m\u001B[1;33m)\u001B[0m\u001B[1;33m\u001B[0m\u001B[1;33m\u001B[0m\u001B[0m\n\u001B[0;32m      6\u001B[0m             \u001B[0mS_1\u001B[0m\u001B[1;33m.\u001B[0m\u001B[0mappend\u001B[0m\u001B[1;33m(\u001B[0m\u001B[0mboard\u001B[0m\u001B[1;33m)\u001B[0m\u001B[1;33m\u001B[0m\u001B[1;33m\u001B[0m\u001B[0m\n",
      "\u001B[1;32mc:\\users\\lukas\\studium\\5. semester\\studienarbeit\\projekt\\venv\\lib\\site-packages\\chess\\__init__.py\u001B[0m in \u001B[0;36m__str__\u001B[1;34m(self)\u001B[0m\n\u001B[0;32m   1192\u001B[0m \u001B[1;33m\u001B[0m\u001B[0m\n\u001B[0;32m   1193\u001B[0m             \u001B[1;32mif\u001B[0m \u001B[0mpiece\u001B[0m\u001B[1;33m:\u001B[0m\u001B[1;33m\u001B[0m\u001B[1;33m\u001B[0m\u001B[0m\n\u001B[1;32m-> 1194\u001B[1;33m                 \u001B[0mbuilder\u001B[0m\u001B[1;33m.\u001B[0m\u001B[0mappend\u001B[0m\u001B[1;33m(\u001B[0m\u001B[0mpiece\u001B[0m\u001B[1;33m.\u001B[0m\u001B[0msymbol\u001B[0m\u001B[1;33m(\u001B[0m\u001B[1;33m)\u001B[0m\u001B[1;33m)\u001B[0m\u001B[1;33m\u001B[0m\u001B[1;33m\u001B[0m\u001B[0m\n\u001B[0m\u001B[0;32m   1195\u001B[0m             \u001B[1;32melse\u001B[0m\u001B[1;33m:\u001B[0m\u001B[1;33m\u001B[0m\u001B[1;33m\u001B[0m\u001B[0m\n\u001B[0;32m   1196\u001B[0m                 \u001B[0mbuilder\u001B[0m\u001B[1;33m.\u001B[0m\u001B[0mappend\u001B[0m\u001B[1;33m(\u001B[0m\u001B[1;34m\".\"\u001B[0m\u001B[1;33m)\u001B[0m\u001B[1;33m\u001B[0m\u001B[1;33m\u001B[0m\u001B[0m\n",
      "\u001B[1;32mc:\\users\\lukas\\studium\\5. semester\\studienarbeit\\projekt\\venv\\lib\\site-packages\\chess\\__init__.py\u001B[0m in \u001B[0;36msymbol\u001B[1;34m(self)\u001B[0m\n\u001B[0;32m    463\u001B[0m         \u001B[0mpieces\u001B[0m \u001B[1;32mor\u001B[0m \u001B[0mthe\u001B[0m \u001B[0mlower\u001B[0m\u001B[1;33m-\u001B[0m\u001B[0mcase\u001B[0m \u001B[0mvariants\u001B[0m \u001B[1;32mfor\u001B[0m \u001B[0mthe\u001B[0m \u001B[0mblack\u001B[0m \u001B[0mpieces\u001B[0m\u001B[1;33m.\u001B[0m\u001B[1;33m\u001B[0m\u001B[1;33m\u001B[0m\u001B[0m\n\u001B[0;32m    464\u001B[0m         \"\"\"\n\u001B[1;32m--> 465\u001B[1;33m         \u001B[0msymbol\u001B[0m \u001B[1;33m=\u001B[0m \u001B[0mpiece_symbol\u001B[0m\u001B[1;33m(\u001B[0m\u001B[0mself\u001B[0m\u001B[1;33m.\u001B[0m\u001B[0mpiece_type\u001B[0m\u001B[1;33m)\u001B[0m\u001B[1;33m\u001B[0m\u001B[1;33m\u001B[0m\u001B[0m\n\u001B[0m\u001B[0;32m    466\u001B[0m         \u001B[1;32mreturn\u001B[0m \u001B[0msymbol\u001B[0m\u001B[1;33m.\u001B[0m\u001B[0mupper\u001B[0m\u001B[1;33m(\u001B[0m\u001B[1;33m)\u001B[0m \u001B[1;32mif\u001B[0m \u001B[0mself\u001B[0m\u001B[1;33m.\u001B[0m\u001B[0mcolor\u001B[0m \u001B[1;32melse\u001B[0m \u001B[0msymbol\u001B[0m\u001B[1;33m\u001B[0m\u001B[1;33m\u001B[0m\u001B[0m\n\u001B[0;32m    467\u001B[0m \u001B[1;33m\u001B[0m\u001B[0m\n",
      "\u001B[1;32mc:\\users\\lukas\\studium\\5. semester\\studienarbeit\\projekt\\venv\\lib\\site-packages\\chess\\__init__.py\u001B[0m in \u001B[0;36mpiece_symbol\u001B[1;34m(piece_type)\u001B[0m\n\u001B[0;32m     59\u001B[0m \u001B[1;33m\u001B[0m\u001B[0m\n\u001B[0;32m     60\u001B[0m \u001B[1;32mdef\u001B[0m \u001B[0mpiece_symbol\u001B[0m\u001B[1;33m(\u001B[0m\u001B[0mpiece_type\u001B[0m\u001B[1;33m:\u001B[0m \u001B[0mPieceType\u001B[0m\u001B[1;33m)\u001B[0m \u001B[1;33m->\u001B[0m \u001B[0mstr\u001B[0m\u001B[1;33m:\u001B[0m\u001B[1;33m\u001B[0m\u001B[1;33m\u001B[0m\u001B[0m\n\u001B[1;32m---> 61\u001B[1;33m     \u001B[1;32mreturn\u001B[0m \u001B[0mtyping\u001B[0m\u001B[1;33m.\u001B[0m\u001B[0mcast\u001B[0m\u001B[1;33m(\u001B[0m\u001B[0mstr\u001B[0m\u001B[1;33m,\u001B[0m \u001B[0mPIECE_SYMBOLS\u001B[0m\u001B[1;33m[\u001B[0m\u001B[0mpiece_type\u001B[0m\u001B[1;33m]\u001B[0m\u001B[1;33m)\u001B[0m\u001B[1;33m\u001B[0m\u001B[1;33m\u001B[0m\u001B[0m\n\u001B[0m\u001B[0;32m     62\u001B[0m \u001B[1;33m\u001B[0m\u001B[0m\n\u001B[0;32m     63\u001B[0m \u001B[1;32mdef\u001B[0m \u001B[0mpiece_name\u001B[0m\u001B[1;33m(\u001B[0m\u001B[0mpiece_type\u001B[0m\u001B[1;33m:\u001B[0m \u001B[0mPieceType\u001B[0m\u001B[1;33m)\u001B[0m \u001B[1;33m->\u001B[0m \u001B[0mstr\u001B[0m\u001B[1;33m:\u001B[0m\u001B[1;33m\u001B[0m\u001B[1;33m\u001B[0m\u001B[0m\n",
      "\u001B[1;31mKeyboardInterrupt\u001B[0m: "
     ]
    }
   ],
   "source": [
    "for board in S:\n",
    "    for move in board.legal_moves:\n",
    "        board.push(move)\n",
    "        if (board.turn, board.__str__()) in S_0_ASCII:\n",
    "            board.pop()\n",
    "            S_1.append(board)\n",
    "        else:\n",
    "            board.pop()\n",
    "    if S_1 != [] and board != S_1[-1]:\n",
    "        S_tmp.append(board)\n",
    "S = S_tmp\n",
    "\n",
    "print(len(S_1))\n",
    "print(len(S))"
   ],
   "metadata": {
    "collapsed": false,
    "pycharm": {
     "name": "#%%\n"
    }
   }
  }
 ],
 "metadata": {
  "kernelspec": {
   "display_name": "Python 3",
   "language": "python",
   "name": "python3"
  },
  "language_info": {
   "codemirror_mode": {
    "name": "ipython",
    "version": 2
   },
   "file_extension": ".py",
   "mimetype": "text/x-python",
   "name": "python",
   "nbconvert_exporter": "python",
   "pygments_lexer": "ipython2",
   "version": "2.7.6"
  }
 },
 "nbformat": 4,
 "nbformat_minor": 0
}