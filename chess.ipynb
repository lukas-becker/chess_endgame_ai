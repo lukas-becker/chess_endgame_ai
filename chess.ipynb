{
 "cells": [
  {
   "cell_type": "markdown",
   "metadata": {
    "pycharm": {
     "name": "#%% md\n"
    }
   },
   "source": [
    "# Retrograde Analyse für das Schach-Endspiel\n",
    "_Beschreibung_\n",
    "\n",
    "Bekannte Probleme:\n",
    "* Nicht optimiert für ein Spielbrett mit Bauern\n",
    "\n",
    "Mögliche Verbesserungen:\n",
    "* Das Initialisieren des Notebooks in Funktionen kapseln, um erneute Ausführungen einfacher zu gestalten."
   ]
  },
  {
   "cell_type": "markdown",
   "metadata": {
    "collapsed": true,
    "pycharm": {
     "name": "#%% md\n"
    }
   },
   "source": [
    "## Imports\n",
    "Für das Notebook benötigte Imports\n",
    "* chess: Die Python-Schach-Bibliothek, mit welcher Schachbretter dargestellt werden, Züge und Zustände ausgewertet etc.\n",
    "* Factorial aus der Math-Library: Die Fakultät (n!) wird zum Aufstellen der Board_List benötigt\n",
    "* Clear_output aus der IPython-display-Library: Eine Funktion, die für die Fortschrittsanzeige von Berechnungen verwendet wird."
   ]
  },
  {
   "cell_type": "code",
   "execution_count": 15,
   "metadata": {
    "pycharm": {
     "name": "#%%\n"
    }
   },
   "outputs": [],
   "source": [
    "import chess\n",
    "from math import factorial\n",
    "from IPython.display import clear_output\n",
    "import json"
   ]
  },
  {
   "cell_type": "markdown",
   "metadata": {
    "pycharm": {
     "name": "#%% md\n"
    }
   },
   "source": [
    "\n",
    "## Eingabe des Schachbretts, mit der Ausgangssituation\n",
    "Langfristig wird dies durch [@NicoMiller's](https://github.com/millerni) Board-Setup-Code ersetzt.\n",
    "Aktuell wird eine Fen eingegeben.\n",
    "Mit der Forsyth-Edwards-Notation kann der Zustand eines Schachbretts kompakt notiert werden. Mehr Infos zum Thema Fen finden sich [hier](https://www.chess.com/terms/fen-chess).\n",
    "\n",
    "Das gegenwärtige Beispiel `8/8/8/8/4k3/8/8/K6R w - - 0 1` beschreibt das Szenario König und Turm gegen König.\n",
    "\n",
    "Weiter wird in der folgenden Zelle das erste Board-Objekt erstellt.\n"
   ]
  },
  {
   "cell_type": "code",
   "execution_count": 12,
   "metadata": {
    "pycharm": {
     "name": "#%%\n"
    }
   },
   "outputs": [],
   "source": [
    "fen = \"8/8/8/8/4k3/8/8/K6R w - - 0 1\"\n",
    "board = chess.Board(fen)"
   ]
  },
  {
   "cell_type": "markdown",
   "metadata": {
    "pycharm": {
     "name": "#%% md\n"
    }
   },
   "source": [
    "## Erstellen der *pieceList*\n",
    "Die _Figurenliste_ enthält alle Figuren, welche sich auf dem Brett befinden in beliebiger Reihenfolge.\n",
    "\n",
    "Das Erstellen dieser Liste erfolgt in einem mehrschritten Prozess:\n",
    "\n",
    "1. Ein Dictionary mit Figuren und Positionen von der Chess-Library abfragen.\n",
    "   Beispiel-Eintrag: `{28: Piece.from_symbol('k')}`\n",
    "   Hierbei ist die 28 ein Quadrat auf dem Brett und k ein König.\n",
    "2. Über das Dictionary iterieren und die Figuren einer Liste hinzufügen.\n",
    "\n",
    "Beispielhafter Auszug aus dem Ergebnis:\n",
    "`[Piece.from_symbol('k')]`"
   ]
  },
  {
   "cell_type": "code",
   "execution_count": 13,
   "metadata": {
    "pycharm": {
     "name": "#%%\n"
    }
   },
   "outputs": [
    {
     "name": "stdout",
     "output_type": "stream",
     "text": [
      "[Piece.from_symbol('k'), Piece.from_symbol('R'), Piece.from_symbol('K')]\n"
     ]
    }
   ],
   "source": [
    "#get the piece map from the library\n",
    "tmp_piece_map = board.piece_map()\n",
    "pieceList = []\n",
    "#iterate over the map and append the pieces to the list\n",
    "for location in tmp_piece_map:\n",
    "    pieceList.append(tmp_piece_map[location])\n",
    "\n",
    "print(pieceList)"
   ]
  },
  {
   "cell_type": "markdown",
   "metadata": {
    "pycharm": {
     "name": "#%% md\n"
    }
   },
   "source": [
    "## *board_list* erstellen\n",
    "Die Brettliste ist ein Python-Listen-Objekt, welches `64! / (64-count(pieces))!` leere Schachbretter enthält.\n",
    "In einem weiteren Schritt kann auf dem ersten Quadrat die erste Figur platziert werden, die zweite Figur auf den Quadraten zwei bis 64, die dritte auf den verbleibenden 62 Quadraten etc..\n",
    "Somit gibt es (bei insgesamt drei Figuren) `63*62 = 3.906` verschiedene Bretter, mit _Figur 1_ auf dem ersten Quadrat und insgesamt `64*63*62 = 249.984` verschiedene Bretter.\n",
    "\n",
    "Dieser Zustand wird erreicht, indem ein neues Board-Objekt erstellt und alle Figuren entfernt werden.\n",
    "Dieses Objekt wird dann `64! / (64-count(pieces))!` Mal einer Liste hinzugefügt."
   ]
  },
  {
   "cell_type": "code",
   "execution_count": null,
   "metadata": {
    "pycharm": {
     "name": "#%%\n"
    }
   },
   "outputs": [],
   "source": [
    "tmp_board = chess.Board()\n",
    "tmp_board.clear()\n",
    "board_list = []\n",
    "list_length = factorial(64) // factorial(64 - len(pieceList))\n",
    "\n",
    "for i in range(list_length):\n",
    "    board_list.append(tmp_board.copy())"
   ]
  },
  {
   "cell_type": "markdown",
   "metadata": {
    "pycharm": {
     "name": "#%% md\n"
    }
   },
   "source": [
    "## Die rekursive placePieces-Hilfsfunktion\n",
    "\n",
    "Funktions-Argumente:\n",
    "* boardList: Eine Liste, mit leeren oder teilweise mit Figuren gefüllten Board-Objekten\n",
    "* pieceList: Eine Liste, welche alle Figuren, welche auf dem Board platziert werden sollen, enthält.\n",
    "* pieceIndexStart: Index der Figur, welche platziert werden soll\n",
    "* start: Index der ersten Position in *boardList*, an welcher Figuren platziert werden sollen.\n",
    "* stop: Index+1 der letzten Position in *boardList*, an welcher Figuren platziert werden sollen. (`[start,strop)`)\n",
    "\n",
    "Ergebnis der Ausführung:\n",
    "Die Funktion platziert rekursiv Figuren aus der _pieceList_ mit einem Index >= _pieceIndexStart_\n",
    "auf allen Brettern in der _boardList_ welche im Index-Bereich _start_ bis _stop - 1_ liegen.\n",
    "\n",
    "Nebeneffekte:\n",
    "Die Funktion verändert die als argument übergebene Board-Objekt-Liste _boardList_.\n",
    "\n",
    "Algorithmus:\n",
    "* Den Versatz für die aktuelle Figur berechnen.\n",
    "  Der Versatz beschreibt, auf wie vielen Boards die aktuelle Figur im selben Quadrat platziert werden muss.\n",
    "  Beispiel: Befinden sich zwei Figuren in der _FigurenListe_, dann muss die erste Figur auf allen 64 Quadraten platziert werden.\n",
    "  Die zweite Figur muss, für jede der 64 Positionen von _Figur 1_ auf den verbleibenden 63 Quadraten platziert werden.\n",
    "  ```\n",
    "  O|     O|X  O|  O|\n",
    "  --- -> ---  --- ---\n",
    "   |      |   X|   |X\n",
    "\n",
    "   |O    X|O   |O  |O\n",
    "  --- -> ---  --- ---\n",
    "   |      |   X|   |X\n",
    "  ```\n",
    "  Auf diesem 2x2 Spielbrett hat die zweite Figur drei mögliche Positionen, nachdem die erste Figur platziert wurde.\n",
    "  Bei jedem vierten Brett muss die erste Figur also auf einem anderem Quadrat platziert werden.\n",
    "  Dieser Schritt kann auf ein 64x64 Schachbrett skaliert werden.\n",
    "  In diesem simplen Beispiel wäre der Versatz drei.\n",
    "  Für größere Spielbretter, wie ein Schachbrett kann der Versatz mit der folgenden Formel berechnet werden.\n",
    "  `offset = (stop - start) // (64 - (len(pieceList) - 1) + pieceIndexStart)`\n",
    "* Über die _BrettListe_ iterieren, beginnend beim Index _start_\n",
    "    * Die Figur, welche sich in der _pieceList_ an Index _pieceIndexStart_ befindet auswählen.\n",
    "    * Die Figur auf dem ersten leeren Spielfeld platzieren. (Wiederholungen dieses Schrittes zählen)\n",
    "    * Wenn der Versatz erreicht wird:\n",
    "        * Wenn weitere Figuren platziert werden müssen (`len(pieceList) > pieceIndexStart`), die Funktion rekursiv mit\n",
    "          höherem _pieceIndexStart_ und neuem _start_ und _stop_ Werten aufrufen.\n",
    "          Der neue Wert für _stop_ ist der aktuelle Board-Index - 1.\n",
    "          Der neue Wert für _start_ ist der neue _stop_ Wert weniger des Versatzes.\n",
    "        * Das nächste Quadrat auswählen (Index erhöhen).\n",
    "\n",
    "Hinweis:\n",
    "In diesem Schritt wird __nicht__ überprüft, ob die erzeugten Boards Valide sind.\n",
    "Dies muss wird in einem nächsten Schritt getan werden.\n",
    "\n"
   ]
  },
  {
   "cell_type": "code",
   "execution_count": null,
   "metadata": {
    "pycharm": {
     "name": "#%%\n"
    }
   },
   "outputs": [],
   "source": [
    "#TODO: Comments\n",
    "def placePieces(boardList, pieceList, pieceIndexStart, start, stop):\n",
    "    squareIndex = -1 #first Run increments to 0\n",
    "    offset = (stop - start) // (64 - (len(pieceList) - 1) + pieceIndexStart)\n",
    "    for i in range(start, stop):\n",
    "        if i % offset == 0:\n",
    "            if pieceIndexStart < (len(pieceList)-1) and i - offset > 0:\n",
    "                placePieces(boardList, pieceList, pieceIndexStart + 1, i - offset, i)\n",
    "            squareIndex = squareIndex + 1\n",
    "        square = chess.Square(squareIndex)\n",
    "        if boardList[i].piece_at(square) is None:\n",
    "            boardList[i].set_piece_at(square, pieceList[pieceIndexStart])"
   ]
  },
  {
   "cell_type": "markdown",
   "metadata": {
    "pycharm": {
     "name": "#%% md\n"
    }
   },
   "source": [
    "## Alle möglichen Kombinationen der Figuren auf dem Schachbrett erzeugen\n",
    "Hierfür wird die _placePieces_ Funktion mit der zuvor erzeugten *board_list* und der _pieceList_ aufgerufen.\n",
    "Als Index für die Figur wird 0 (erste Figur in der Liste) verwendet.\n",
    "Als _start_ wird 0 (erstes Schachbrett) verwendet. Als _stop_ wird die Größe der Liste (letztes Brett) verwendet."
   ]
  },
  {
   "cell_type": "code",
   "execution_count": null,
   "metadata": {
    "pycharm": {
     "name": "#%%\n"
    }
   },
   "outputs": [],
   "source": [
    "placePieces(board_list, pieceList, 0, 0, len(board_list))"
   ]
  },
  {
   "cell_type": "markdown",
   "metadata": {
    "pycharm": {
     "name": "#%% md\n"
    }
   },
   "source": [
    "## Boards aus Einhaltung der Schachregeln überprüfen und invalide entfernen\n",
    "Über alle Schachbretter in der Liste iterieren und den Status mittels der Chess-Library überprüfen.\n",
    "Wenn das Board Valide ist, wird es einer neuen Liste hinzugefügt.\n",
    "Anschließend wird derselbe Schritt mit dem anderen Spieler am Zug durchgeführt, um wirklich alle Kombinationen abzudecken.\n",
    "Die neue Liste S enthält alle validen Kombinationen der Figuren auf einem Schachbrett."
   ]
  },
  {
   "cell_type": "code",
   "execution_count": null,
   "metadata": {
    "pycharm": {
     "name": "#%%\n"
    }
   },
   "outputs": [],
   "source": [
    "S = []\n",
    "for board in board_list:\n",
    "    #Board with white having the next turn\n",
    "    board.turn = chess.WHITE\n",
    "    status = board.status()\n",
    "    if status == chess.Status.VALID:\n",
    "        S.append(board)\n",
    "    boardBlackMove = board.copy()\n",
    "    boardBlackMove.turn = chess.BLACK\n",
    "    status = boardBlackMove.status()\n",
    "    #The same board with black having the next turn\n",
    "    if status == chess.Status.VALID:\n",
    "        S.append(boardBlackMove)\n"
   ]
  },
  {
   "cell_type": "markdown",
   "metadata": {
    "pycharm": {
     "name": "#%% md\n"
    }
   },
   "source": [
    "## Gewonnene Spielbretter finden und zu S\\_0 hinzufügen\n",
    "* Über den Inhalt von S iterieren.\n",
    "* Status-Informationen von der Bibliothek abfragen und überprüfen, ob ein Spieler gewonnen hat.\n",
    "* Wenn ja, das Objekt zu *S\\_0* hinzufügen.\n",
    "  Weiter werden die Objekte in ihrer String-Representation zu *S\\_0\\_ASCII* hinzugefügt.\n",
    "* Wenn nicht, das Objekt in *S\\_tmp* hinzufügen. (Dies ist effizienter als das Objekt aus der Liste S zu entfernen)\n",
    "* Die ursprüngliche Liste S mit *S\\_tmp* ersetzen."
   ]
  },
  {
   "cell_type": "code",
   "execution_count": null,
   "metadata": {
    "pycharm": {
     "name": "#%%\n"
    }
   },
   "outputs": [],
   "source": [
    "S_tmp = []\n",
    "S_ASCII = []\n",
    "S_0 = []\n",
    "S_0_ASCII = []\n",
    "\n",
    "for board in S:\n",
    "    outcome = board.outcome()\n",
    "    # If True Game has finished in a certain way\n",
    "    if outcome is not None:\n",
    "        # A winner has been determined\n",
    "        if outcome.winner is not None and board.is_valid():\n",
    "            S_0.append(board)\n",
    "            S_0_ASCII.append((board.turn,board.__str__()))\n",
    "    # Every other board\n",
    "    else:\n",
    "        S_tmp.append(board)\n",
    "        S_ASCII.append((board.turn, board.__str__()))\n",
    "S = S_tmp\n",
    "\n"
   ]
  },
  {
   "cell_type": "markdown",
   "metadata": {
    "pycharm": {
     "name": "#%% md\n"
    }
   },
   "source": [
    "## OneStepAway Funktion\n",
    "Diese Funktion wählt (aus zwei Listen mit Board-Objekten) die Spielbretter aus der zweiten Liste, welche einen Spielzug von einem\n",
    "Spielbrett in der ersten Liste entfernt sind.\n",
    "\n",
    "Funktionsargumente:\n",
    "* S_n: Die Liste mit Board-Objekten, deren Spielbretter sich n Züge vom Sieg entfernt befinden\n",
    "* S: Die Liste, aus welcher die nächste Stufe ausgewählt werden soll\n",
    "\n",
    "Nebeneffekte:\n",
    "Keine.\n",
    "Alle als Parameter übergebenen Listen bleiben unverändert.\n",
    "\n",
    "Algorithmus:\n",
    "* Für effizientere Vergleiche für jedes Objekt in *S* die ASCII-Representation speichern.\n",
    "* Über die Objekte in *S_n* iterieren\n",
    "  * Den Spieler, welcher am Zug ist wechseln (Da um im aktuellen Zustand anzukommen der andere Spieler einen Zug gemacht hat)\n",
    "  * pseudo legale Spielzüge von der Bibliothek berechnen Lassen\n",
    "    Ein pseudo legaler Spielzug ist ein Spielzug, welcher die grundsätzlichen Bewegungsregeln der Figur einhält,\n",
    "    aber das Schachbrett unter Umständen in einem nicht regelkonformen Zustand versetzt.\n",
    "  * Über diese Spielzüge iterieren\n",
    "    * Den Zug ausführen\n",
    "    * Überprüfen, ob das Board sich in einem erlaubten Zustand befindet.\n",
    "      Wenn nein, den Schleifendurchlauf abbrechen.\n",
    "    * Mittels der ASCII-Representation überprüfen, ob das modifizierte Spielbrett in *S* gefunden wird.\n",
    "    * Wenn es gefunden wird, die ASCII-Representation zu *s_n1_ascii* hinzufügen\n",
    "    * Den Zug rückgängig machen\n",
    "  * Den Spieler, welcher ursprünglich am Zug war wiederherstellen.\n",
    "* Über *S* iterieren\n",
    "  * Wenn sich das Spielbrett in *s_n1_ascii* befindet, wird es *s_n1* hinzugefügt.\n",
    "  * Wenn sich das Spielbrett nicht in *s_n1_ascii* befindet, wird es *s_tmp* hinzugefügt.\n",
    "* *s_n1* und *s_tmp* als Tupel zurückgeben."
   ]
  },
  {
   "cell_type": "code",
   "execution_count": null,
   "metadata": {
    "pycharm": {
     "name": "#%%\n"
    }
   },
   "outputs": [],
   "source": [
    "def one_step_away(S_n, S, iterationCount = None):\n",
    "    #variables\n",
    "    s_n1 = []\n",
    "    s_n1_ascii = []\n",
    "    s_ascii = []\n",
    "    s_tmp = []\n",
    "\n",
    "    #create temporary list for comparison\n",
    "    for chessBoard in S:\n",
    "        s_ascii.append((chessBoard.turn, chessBoard.__str__()))\n",
    "\n",
    "    for i in range(len(S_n)):\n",
    "\n",
    "        if iterationCount is not None:\n",
    "            status = \"Calculating S\" + str(iterationCount) + \" - Board \" + str(i+1) + \" of \" + str(len(S_n)) + \" from S\" + str(iterationCount-1)\n",
    "        else:\n",
    "            status = \"Board \" + str(i+1) + \" of \" + str(len(S_n))\n",
    "        clear_output(wait=True)\n",
    "        print(status)\n",
    "\n",
    "        chessBoard = S_n[i]\n",
    "        chessBoard.turn = chessBoard.turn ^ True\n",
    "        for pLMove in chessBoard.pseudo_legal_moves:\n",
    "            chessBoard.push(pLMove)\n",
    "            if not chessBoard.is_valid():\n",
    "                chessBoard.pop()\n",
    "                continue\n",
    "            if (chessBoard.turn ^ True, chessBoard.__str__()) in s_ascii:\n",
    "                s_n1_ascii.append((chessBoard.turn ^ True, chessBoard.__str__()))\n",
    "            chessBoard.pop()\n",
    "        chessBoard.turn = chessBoard.turn ^ True\n",
    "\n",
    "    clear_output(wait=True)\n",
    "    print(\"Mapping ASCII boards to board objects\")\n",
    "    #create return lists\n",
    "    for chessBoard in S:\n",
    "        if(chessBoard.turn, chessBoard.__str__()) in s_n1_ascii:\n",
    "            s_n1.append(chessBoard)\n",
    "        else:\n",
    "            s_tmp.append(chessBoard)\n",
    "\n",
    "    clear_output(wait=True)\n",
    "    print(\"Done\")\n",
    "\n",
    "    return s_n1, s_tmp"
   ]
  },
  {
   "cell_type": "markdown",
   "metadata": {},
   "source": [
    "## Alle Spielbretter finden, welche einen Zug vom Gewinn entfernt sind."
   ]
  },
  {
   "cell_type": "code",
   "execution_count": null,
   "metadata": {
    "pycharm": {
     "name": "#%%\n"
    }
   },
   "outputs": [],
   "source": [
    "S_1, S = one_step_away(S_0, S)"
   ]
  },
  {
   "cell_type": "markdown",
   "source": [
    "## In einer Schleife die Liste mit S_n berechnen\n",
    "//TODO: Kommentare"
   ],
   "metadata": {
    "collapsed": false,
    "pycharm": {
     "name": "#%% md\n"
    }
   }
  },
  {
   "cell_type": "code",
   "execution_count": null,
   "outputs": [],
   "source": [
    "S_n_squence = []\n",
    "S_n_squence.append(S_0)\n",
    "S_n_squence.append(S_1)\n",
    "while True:\n",
    "\n",
    "    S_n_new, S = one_step_away(S_n_squence[-1], S, len(S_n_squence))\n",
    "    if not S_n_new: #an empty list is false\n",
    "        break\n",
    "    S_n_squence.append(S_n_new)\n",
    "\n",
    "print(\"Completed\")\n",
    "print(len(S_n_squence))\n",
    "print(len(S))"
   ],
   "metadata": {
    "collapsed": false,
    "pycharm": {
     "name": "#%%\n"
    }
   }
  },
  {
   "cell_type": "code",
   "execution_count": null,
   "outputs": [],
   "source": [
    "S_n_seq_ascii = {}\n",
    "S_n_seq_ascii_boards = {}\n",
    "S_ascii = []\n",
    "S_ascii_boards = []\n",
    "\n",
    "for i in range(len(S_n_squence)):\n",
    "    S_n_ascii = []\n",
    "    S_n_ascii_boards = []\n",
    "    for board in S_n_squence[i]:\n",
    "        S_n_ascii.append(board.fen())\n",
    "        S_n_ascii_boards.append((board.turn, board.__str__()))\n",
    "    S_n_seq_ascii[\"S\" + str(i)] = S_n_ascii\n",
    "    S_n_seq_ascii_boards[\"S\" + str(i)] = S_n_ascii_boards\n",
    "\n",
    "for board in S:\n",
    "    S_ascii.append(board.fen())\n",
    "    S_ascii_boards.append((board.turn, board.__str__()))\n",
    "\n",
    "f = open(\"S_n_seq_named.json\", \"w\")\n",
    "f.write(json.dumps(S_n_seq_ascii))\n",
    "f.close()\n",
    "\n",
    "f = open(\"S_n_seq_named_boards.json\", \"w\")\n",
    "f.write(json.dumps(S_n_seq_ascii_boards))\n",
    "f.close()\n",
    "\n",
    "f = open(\"S_rem_2.json\", \"w\")\n",
    "f.write(json.dumps(S_ascii))\n",
    "f.close()\n",
    "\n",
    "f = open(\"S_rem_boards.json\", \"w\")\n",
    "f.write(json.dumps(S_ascii_boards))\n",
    "f.close()\n"
   ],
   "metadata": {
    "collapsed": false,
    "pycharm": {
     "name": "#%%\n"
    }
   }
  }
 ],
 "metadata": {
  "kernelspec": {
   "display_name": "Python 3 (ipykernel)",
   "language": "python",
   "name": "python3"
  },
  "language_info": {
   "codemirror_mode": {
    "name": "ipython",
    "version": 3
   },
   "file_extension": ".py",
   "mimetype": "text/x-python",
   "name": "python",
   "nbconvert_exporter": "python",
   "pygments_lexer": "ipython3",
   "version": "3.9.7"
  }
 },
 "nbformat": 4,
 "nbformat_minor": 1
}