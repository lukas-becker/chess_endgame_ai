{
 "cells": [
  {
   "cell_type": "markdown",
   "source": [
    "# Chess retrograde analysis\n",
    "_Description_\n",
    "\n",
    "Known Issues:\n",
    "* Does not work with pawns on the board\n",
    "\n",
    "Possible improvements:\n",
    "* Wrap the initialization in functions to make rerunning the notebook easier"
   ],
   "metadata": {
    "collapsed": false,
    "pycharm": {
     "name": "#%% md\n"
    }
   }
  },
  {
   "cell_type": "markdown",
   "metadata": {
    "collapsed": true,
    "pycharm": {
     "name": "#%% md\n"
    }
   },
   "source": [
    "## Imports\n",
    "Imports needed to run this notebook"
   ]
  },
  {
   "cell_type": "code",
   "execution_count": null,
   "outputs": [],
   "source": [
    "import chess\n",
    "from math import factorial"
   ],
   "metadata": {
    "collapsed": false,
    "pycharm": {
     "name": "#%%\n"
    }
   }
  },
  {
   "cell_type": "markdown",
   "source": [
    "\n",
    "## Initial board entry\n",
    "This will be replaced by @NicoMillers board setup code. For now you can enter a fen.\n",
    "You can read more about fens [here](https://www.chess.com/terms/fen-chess).\n",
    "\n",
    "The current example fen `8/8/8/8/4k3/8/8/K6R w - - 0 1` describes the scenario lone rook.\n",
    "Additionally, the first board object is created.\n"
   ],
   "metadata": {
    "collapsed": false,
    "pycharm": {
     "name": "#%% md\n"
    }
   }
  },
  {
   "cell_type": "code",
   "execution_count": null,
   "outputs": [],
   "source": [
    "fen = \"8/8/8/8/4k3/8/8/K6R w - - 0 1\"\n",
    "board = chess.Board(fen)"
   ],
   "metadata": {
    "collapsed": false,
    "pycharm": {
     "name": "#%%\n"
    }
   }
  },
  {
   "cell_type": "markdown",
   "source": [
    "## Setting up the piece list\n",
    "The piece list contains all pieces on the board.\n",
    "This list is created in a multiple step process.\n",
    "1. Get the piece map from the chess library.\n",
    "   The piece map is a dictionary containing positions as keys and symbols as values.\n",
    "   Example: `{28: Piece.from_symbol('k')}`\n",
    "2. Iterate over the piece map and add the piece object to a new list.\n",
    "\n",
    "The final piece list looks like this:\n",
    "`[Piece.from_symbol('k')]`"
   ],
   "metadata": {
    "collapsed": false,
    "pycharm": {
     "name": "#%% md\n"
    }
   }
  },
  {
   "cell_type": "code",
   "execution_count": null,
   "outputs": [],
   "source": [
    "#get the piece map from the library\n",
    "tmp_piece_map = board.piece_map()\n",
    "pieceList = []\n",
    "#iterate over the map and append the pieces to the list\n",
    "for location in tmp_piece_map:\n",
    "    pieceList.append(tmp_piece_map[location])\n",
    "\n",
    "print(pieceList)"
   ],
   "metadata": {
    "collapsed": false,
    "pycharm": {
     "name": "#%%\n"
    }
   }
  },
  {
   "cell_type": "markdown",
   "source": [
    "## Setting up the boardList\n",
    "The board list is a list object containing `64! / (64-COUNT(Pieces))!` empty boards to be filled later.\n",
    "This allows for the first piece in the piece list to be positioned on all 64 squares, the second piece on all remaining 63 (64\\*63) the third on the remaining 62 (64\\*63\\*63) et cetera.\n",
    "\n",
    "This is achieved by creating a new board and removing all default pieces.\n",
    "Then the program iterates through a loop `64! / (64-COUNT(Pieces))!` times. On each iteration a copy of the empty board is added to the list."
   ],
   "metadata": {
    "collapsed": false,
    "pycharm": {
     "name": "#%% md\n"
    }
   }
  },
  {
   "cell_type": "code",
   "execution_count": null,
   "outputs": [],
   "source": [
    "tmp_board = chess.Board()\n",
    "tmp_board.clear()\n",
    "board_list = []\n",
    "list_length = factorial(64) // factorial(64 - len(pieceList))\n",
    "\n",
    "for i in range(list_length):\n",
    "    board_list.append(tmp_board.copy())"
   ],
   "metadata": {
    "collapsed": false,
    "pycharm": {
     "name": "#%%\n"
    }
   }
  },
  {
   "cell_type": "markdown",
   "source": [
    "## The recursive placePieces helper function\n",
    "\n",
    "Function arguments:\n",
    "* boardList: A list containing empty or partially filled board objects\n",
    "* pieceList: A list containing all pieces which should end up on the board\n",
    "* pieceIndexStart: Index of the next piece to be placed\n",
    "* start: range start for where to begin placing pieces in the boardList\n",
    "* stop: range end for where to end placing pieces in the boardList\n",
    "\n",
    "Function result:\n",
    "This function recursively places the pieces in the pieceList with an index >= pieceIndexStart on the boards in the boardList.\n",
    "The boards in the boardList will be filled in all possible combinations of the pieces.\n",
    "\n",
    "Sideeffects:\n",
    "This function modifies the supplied boardList.\n",
    "\n",
    "Algorithm:\n",
    "* Calculate piece offset\n",
    "  The offset describes every how many boards the current piece needs to be placed on the next square.\n",
    "  Example: if there are two pieces in the piece list, the first piece must be on all 64 squares, and for every position the first piece takes the second piece needs to be placed on the remaining 63 squares.\n",
    "  ```\n",
    "  O|     O|X  O|  O|\n",
    "  --- -> ---  --- ---\n",
    "   |      |   X|   |X\n",
    "\n",
    "   |O    X|O   |O  |O\n",
    "  --- -> ---  --- ---\n",
    "   |      |   X|   |X\n",
    "  ```\n",
    "  In this 2x2 board the second piece has three possible positions, after the first piece was placed.\n",
    "  So every fourth board the first piece needs to be placed on the next square.\n",
    "  This can be scaled up to a 64x64 chess board.\n",
    "  The offset in this example is 3.\n",
    "  For larger boards the offset can be calculated with the following formula.\n",
    "  `offset = (stop - start) // (64 - (len(pieceList) - 1) + pieceIndexStart)`\n",
    "* Iterate over the board list, starting at *start*\n",
    "    * Place the piece from the pieceList at the position pieceIndexStart on the first (empty) square.\n",
    "    * If the offset is reached:\n",
    "        * If there are pieces remaining recursively call the function with an incremented pieceIndexStart and new start and stop values. The new range is the area the current piece was placed.\n",
    "        * Increment the square.\n",
    "    * If the square is empty place the current piece on the square.\n",
    "\n",
    "\n",
    "\n",
    "//TODO: Comments"
   ],
   "metadata": {
    "collapsed": false,
    "pycharm": {
     "name": "#%% md\n"
    }
   }
  },
  {
   "cell_type": "code",
   "execution_count": null,
   "outputs": [],
   "source": [
    "def placePieces(boardList, pieceList, pieceIndexStart, start, stop):\n",
    "    squareIndex = -1 #first Run increments to 0\n",
    "    offset = (stop - start) // (64 - (len(pieceList) - 1) + pieceIndexStart)\n",
    "    for i in range(start, stop):\n",
    "        if i % offset == 0:\n",
    "            if pieceIndexStart < (len(pieceList)-1) and i - offset > 0:\n",
    "                placePieces(boardList, pieceList, pieceIndexStart + 1, i - offset, i)\n",
    "            squareIndex = squareIndex + 1\n",
    "        square = chess.Square(squareIndex)\n",
    "        if boardList[i].piece_at(square) is None:\n",
    "            boardList[i].set_piece_at(square, pieceList[pieceIndexStart])"
   ],
   "metadata": {
    "collapsed": false,
    "pycharm": {
     "name": "#%%\n"
    }
   }
  },
  {
   "cell_type": "markdown",
   "source": [
    "## Create all possible combinations of pieces on the board"
   ],
   "metadata": {
    "collapsed": false,
    "pycharm": {
     "name": "#%% md\n"
    }
   }
  },
  {
   "cell_type": "code",
   "execution_count": null,
   "outputs": [],
   "source": [
    "placePieces(board_list, pieceList, 0, 0, len(board_list))"
   ],
   "metadata": {
    "collapsed": false,
    "pycharm": {
     "name": "#%%\n"
    }
   }
  },
  {
   "cell_type": "markdown",
   "source": [
    "## Check boards for validity and filter out invalid ones\n",
    "Iterate over all previously created boards and check the status through the library. If it's valid add it to a new list.\n",
    "Toggle the color whose turn it is and do the same.\n",
    "Afterwards the list S contains all valid combinations."
   ],
   "metadata": {
    "collapsed": false,
    "pycharm": {
     "name": "#%% md\n"
    }
   }
  },
  {
   "cell_type": "code",
   "execution_count": null,
   "outputs": [],
   "source": [
    "S = []\n",
    "for board in board_list:\n",
    "    #Board with white having the next turn\n",
    "    board.turn = chess.WHITE\n",
    "    status = board.status()\n",
    "    if status == chess.Status.VALID or status == chess.Status.OPPOSITE_CHECK:\n",
    "        S.append(board)\n",
    "    boardBlackMove = board.copy()\n",
    "    boardBlackMove.turn = chess.BLACK\n",
    "    status = boardBlackMove.status()\n",
    "    #The same board with black having the next turn\n",
    "    if status == chess.Status.VALID or status == chess.Status.OPPOSITE_CHECK:\n",
    "        S.append(boardBlackMove)\n"
   ],
   "metadata": {
    "collapsed": false,
    "pycharm": {
     "name": "#%%\n"
    }
   }
  },
  {
   "cell_type": "markdown",
   "source": [
    "## Find won boards and add them to S_0\n",
    "* Iterate over all boards in S.\n",
    "* Check the status information provided by the library if there is a winner.\n",
    "* If there is, add the board to the list S_0\n",
    "  Additionally add them to S_0_ASCII for easier comparison in the next step.\n",
    "* Else add the board to a temporary S (this is more efficient than removing the board from S)\n",
    "* Replace S with the temporary S"
   ],
   "metadata": {
    "collapsed": false,
    "pycharm": {
     "name": "#%% md\n"
    }
   }
  },
  {
   "cell_type": "code",
   "execution_count": null,
   "outputs": [],
   "source": [
    "S_tmp = []\n",
    "S_ASCII = []\n",
    "S_0 = []\n",
    "S_0_ASCII = []\n",
    "\n",
    "for board in S:\n",
    "    outcome = board.outcome()\n",
    "    # If True Game has finished in a certain way\n",
    "    if outcome != None:\n",
    "        # A winner has been determined\n",
    "        if outcome.winner is not None and board.is_valid() != False:\n",
    "            S_0.append(board)\n",
    "            S_0_ASCII.append((board.turn,board.__str__()))\n",
    "    # Every other board\n",
    "    else:\n",
    "        S_tmp.append(board)\n",
    "        S_ASCII.append((board.turn, board.__str__()))\n",
    "S = S_tmp\n",
    "\n"
   ],
   "metadata": {
    "collapsed": false,
    "pycharm": {
     "name": "#%%\n"
    }
   }
  },
  {
   "cell_type": "markdown",
   "source": [
    "## OneStepAway Function\n",
    "This function returns (given two lists of boards) all boards from the second list, that are one move away from one board from the first list.\n",
    "Additionally, it returns the second list, without the boards in the new list.\n",
    "\n",
    "Function parameters:\n",
    "* S_n: The list of boards n steps away from winning\n",
    "* S: The list of all boards to be checked against\n",
    "\n",
    "Sideeffects:\n",
    "None.\n",
    "All supplied lists stay the same, modified lists are returned in a tuple.\n",
    "\n",
    "Algorithm:\n",
    "* Store the ascii representations of all boards in S to make later comparisons easier\n",
    "* Iterate over the boards in S_n\n",
    "  * Iterate over the pseudoLegalMoves provided by the library.\n",
    "    This list contains all possible moves, even from a winning state.\n",
    "    __Important: This does not work with pawns - This needs to be fixed later__\n",
    "    * Execute the move\n",
    "    * Check if the board is in S (using S_ascii)\n",
    "    * If true, append it to s_n1_ascii (as comparisons are done using the ascii representation)\n",
    "* Iterate over S\n",
    "  * If the board is in s_n1_ascii, add it to s_n1\n",
    "  * Otherwise add it to s_tmp\n",
    "* Return s_n1 and s_tmp"
   ],
   "metadata": {
    "collapsed": false,
    "pycharm": {
     "name": "#%% md\n"
    }
   }
  },
  {
   "cell_type": "code",
   "execution_count": null,
   "outputs": [],
   "source": [
    "def one_step_away(S_n, S):\n",
    "    #variables\n",
    "    s_n1 = []\n",
    "    s_n1_ascii = []\n",
    "    s_ascii = []\n",
    "    s_tmp = []\n",
    "\n",
    "    #create temporary list for comparison\n",
    "    for chessBoard in S:\n",
    "        s_ascii.append((chessBoard.turn, chessBoard.__str__))\n",
    "\n",
    "    for chessBoard in S_n:\n",
    "        for pLMove in chessBoard.pseudo_legal_moves:\n",
    "            chessBoard.push(pLMove)\n",
    "            if (chessBoard.turn, chessBoard.__str__()) in s_ascii:\n",
    "                s_n1_ascii.append((chessBoard.turn, chessBoard.__str__()))\n",
    "            chessBoard.pop()\n",
    "\n",
    "\n",
    "    #create return lists\n",
    "    for chessBoard in S:\n",
    "        if(chessBoard.turn, chessBoard.__str__()) in s_n1_ascii:\n",
    "            s_n1.append(chessBoard)\n",
    "        else:\n",
    "            s_tmp.append(chessBoard)\n",
    "\n",
    "    return s_n1, s_tmp"
   ],
   "metadata": {
    "collapsed": false,
    "pycharm": {
     "name": "#%%\n"
    }
   }
  },
  {
   "cell_type": "markdown",
   "source": [
    "## Find all boards one step away from winning\n",
    "Validation needed"
   ],
   "metadata": {
    "collapsed": false
   }
  },
  {
   "cell_type": "code",
   "execution_count": null,
   "outputs": [],
   "source": [
    "S_1_cmp, S_cmp = one_step_away(S_0, S)\n",
    "\n",
    "S_1 = []\n",
    "S_1_ASCII = []\n",
    "counter = 0\n",
    "# print(\"WHITE: \" + str(chess.WHITE))\n",
    "# print(\"BLACK: \" + str(chess.BLACK))\n",
    "for board in S_0:\n",
    "    # print(\"Round: \" + str(counter))\n",
    "    # print(board.__str__())\n",
    "    # print(\"Turn: \" + str(board.turn))\n",
    "    board.turn = board.turn ^ True\n",
    "    for move in board.pseudo_legal_moves:\n",
    "        board.push(move)\n",
    "        if ((board.turn, board.__str__())) in S_ASCII and board.is_valid():\n",
    "            S_1_ASCII.append((board.turn, board.__str__()))\n",
    "        board.pop()\n",
    "    counter += 1"
   ],
   "metadata": {
    "collapsed": false,
    "pycharm": {
     "name": "#%%\n"
    }
   }
  },
  {
   "cell_type": "code",
   "execution_count": null,
   "outputs": [],
   "source": [
    "S_0[0]"
   ],
   "metadata": {
    "collapsed": false,
    "pycharm": {
     "name": "#%%\n"
    }
   }
  },
  {
   "cell_type": "code",
   "execution_count": null,
   "outputs": [],
   "source": [
    "S_tmp = []\n",
    "\n",
    "for board in S:\n",
    "    if((board.turn, board.__str__())) in S_1_ASCII:\n",
    "        S_1.append(board)\n",
    "    else:\n",
    "        S_tmp.append(board)\n",
    "\n",
    "S = S_tmp"
   ],
   "metadata": {
    "collapsed": false,
    "pycharm": {
     "name": "#%%\n"
    }
   }
  },
  {
   "cell_type": "code",
   "execution_count": null,
   "outputs": [],
   "source": [
    "print(len(S_0))\n",
    "for board in S_0:\n",
    "    print(board.__str__())\n",
    "    print(board.is_valid())\n",
    "    print('\\n')"
   ],
   "metadata": {
    "collapsed": false,
    "pycharm": {
     "name": "#%%\n"
    }
   }
  },
  {
   "cell_type": "code",
   "execution_count": null,
   "outputs": [],
   "source": [
    "print(len(S_1))\n",
    "for board in S_1:\n",
    "    print(board.__str__())\n",
    "    print(board.is_valid())\n",
    "    print('\\n')\n"
   ],
   "metadata": {
    "collapsed": false,
    "pycharm": {
     "name": "#%%\n"
    }
   }
  },
  {
   "cell_type": "code",
   "execution_count": null,
   "outputs": [],
   "source": [
    "from collections import defaultdict\n",
    "\n",
    "defaultdict "
   ],
   "metadata": {
    "collapsed": false,
    "pycharm": {
     "name": "#%%\n"
    }
   }
  }
 ],
 "metadata": {
  "kernelspec": {
   "display_name": "Python 3",
   "language": "python",
   "name": "python3"
  },
  "language_info": {
   "codemirror_mode": {
    "name": "ipython",
    "version": 2
   },
   "file_extension": ".py",
   "mimetype": "text/x-python",
   "name": "python",
   "nbconvert_exporter": "python",
   "pygments_lexer": "ipython2",
   "version": "2.7.6"
  }
 },
 "nbformat": 4,
 "nbformat_minor": 0
}