{
 "cells": [
  {
   "cell_type": "markdown",
   "source": [
    "# Frontend für die Berechnung\n",
    "Dieses Interface kann verwendet werden, um einen neuen Satz $S_n$ Mengen zu bestimmen.\n",
    "Eine Erklärung der $S_n$ Mengen und der verwendeten Funktionen befindet sich im Notebook `13_calculation_backend.ipynb`."
   ],
   "metadata": {
    "collapsed": false,
    "pycharm": {
     "name": "#%% md\n"
    }
   }
  },
  {
   "cell_type": "code",
   "execution_count": 1,
   "outputs": [
    {
     "data": {
      "text/plain": "<IPython.core.display.HTML object>",
      "text/html": "<link href='http://fonts.googleapis.com/css?family=Alegreya+Sans:100,300,400,500,700,800,900,100italic,300italic,400italic,500italic,700italic,800italic,900italic' rel='stylesheet' type='text/css'>\n<link href='http://fonts.googleapis.com/css?family=Arvo:400,700,400italic' rel='stylesheet' type='text/css'>\n<link href='http://fonts.googleapis.com/css?family=PT+Mono' rel='stylesheet' type='text/css'>\n<link href='http://fonts.googleapis.com/css?family=Shadows+Into+Light' rel='stylesheet' type='text/css'>\n<link href='http://fonts.googleapis.com/css?family=Philosopher:400,700,400italic,700italic' rel='stylesheet' type='text/css'>\n\n<style>\n\n@font-face {\n    font-family: \"Computer Modern\";\n    src: url('http://mirrors.ctan.org/fonts/cm-unicode/fonts/otf/cmunss.otf');\n}\n\n.container { width: 100% }\n\n/* Formatting for header cells */\n.text_cell_render h1 {\n    font-family: 'Philosopher', sans-serif;\n    font-weight: 400;\n    font-size: 2.2em;\n    line-height: 100%;\n    color: rgb(0, 80, 120);\n    margin-bottom: 0.1em;\n    margin-top: 0.1em;\n    display: block;\n}\n.text_cell_render h2 {\n    font-family: 'Philosopher', serif;\n    font-weight: 400;\n    font-size: 1.9em;\n    line-height: 100%;\n    color: rgb(200,100,0);\n    margin-bottom: 0.1em;\n    margin-top: 0.1em;\n    display: block;\n}\n\n.text_cell_render h3 {\n    font-family: 'Philosopher', serif;\n    margin-top:12px;\n    margin-bottom: 3px;\n    font-style: italic;\n    color: rgb(94,127,192);\n}\n\n.text_cell_render h4 {\n    font-family: 'Philosopher', serif;\n}\n\n.text_cell_render h5 {\n    font-family: 'Alegreya Sans', sans-serif;\n    font-weight: 300;\n    font-size: 16pt;\n    color: grey;\n    font-style: italic;\n    margin-bottom: .1em;\n    margin-top: 0.1em;\n    display: block;\n}\n\n.text_cell_render h6 {\n    font-family: 'PT Mono', sans-serif;\n    font-weight: 300;\n    font-size: 10pt;\n    color: grey;\n    margin-bottom: 1px;\n    margin-top: 1px;\n}\n\n.text_cell_render em {\n    font-family: 'Philosopher', sans-serif;\n    color:        blue;\n    background-color: rgb(255,220,180);\n    font-size:    110%;\n    margin-left:   2px;\n    margin-right:  2px;\n    font-weight:   100;\n}\n\n.text_cell_render b {\n    color:            rgb(255,195,195);\n    background-color: rgb(0,0,0);\n    font-size:    110%;\n    margin-left:   2px;\n    margin-right:  2px;\n    font-weight:   650;\n}\n\n.text_cell_render tt {\n    font-size:    120%;\n    margin-left:   2px;\n    margin-right:  2px;\n    font-weight:   150;\n}\n\n.Codemirror {\n    font-family: \"PT Mono\";\n    font-size: 100%;\n}\n\n</style>"
     },
     "execution_count": 1,
     "metadata": {},
     "output_type": "execute_result"
    }
   ],
   "source": [
    "from IPython.core.display import HTML\n",
    "with open('style.html', 'r') as file:\n",
    "     css = file.read()\n",
    "HTML(css)"
   ],
   "metadata": {
    "collapsed": false,
    "pycharm": {
     "name": "#%%\n"
    }
   }
  },
  {
   "cell_type": "code",
   "execution_count": 2,
   "outputs": [],
   "source": [
    "%run Util/00_imports.ipynb"
   ],
   "metadata": {
    "collapsed": false,
    "pycharm": {
     "name": "#%%\n"
    }
   }
  },
  {
   "cell_type": "markdown",
   "source": [
    "## Einstellungen\n",
    "\n",
    "Die folgenden Einstellungen müssen vor dem Ausführen getätigt werden:\n",
    "* `PIECE_LIST`: Die Figuren, welche Teil der Endspielsituationen sein sollen. Dies müssen in der Form `chess.Piece.from_symbol(\"Figur\")` vorliegen. Dabei entscheidet die Groß- und Kleinschreibung zu welcher Farbe die Figur gehört. Großbuchstaben stellen die Figuren von weiß dar. Kleinbuchstaben sind die Figuren der schwarzen Seite. Bei den Figuren stehen folgende Symbole zur Auswahl:\n",
    "     * `k`: Der König.\n",
    "     * `q`: Die Dame.\n",
    "     * `p`: Der Bauer.\n",
    "     * `b`: Der Läufer.\n",
    "     * `r`: Der Turm.\n",
    "     * `n`: Der Springer.\n",
    "* `FILENAME`: der Dateiname für die Ergebnisdatei.  "
   ],
   "metadata": {
    "collapsed": false,
    "pycharm": {
     "name": "#%% md\n"
    }
   }
  },
  {
   "cell_type": "code",
   "execution_count": 3,
   "outputs": [],
   "source": [
    "PIECE_LIST = [chess.Piece.from_symbol(\"K\"), chess.Piece.from_symbol(\"k\"), chess.Piece.from_symbol(\"Q\")]\n",
    "FILENAME = \"test_22_05\""
   ],
   "metadata": {
    "collapsed": false,
    "pycharm": {
     "name": "#%%\n"
    }
   }
  },
  {
   "cell_type": "markdown",
   "source": [
    "## Import"
   ],
   "metadata": {
    "collapsed": false,
    "pycharm": {
     "name": "#%% md\n"
    }
   }
  },
  {
   "cell_type": "code",
   "execution_count": 4,
   "outputs": [],
   "source": [
    "%run 13_calculation_backend.ipynb"
   ],
   "metadata": {
    "collapsed": false,
    "pycharm": {
     "name": "#%%\n"
    }
   }
  },
  {
   "cell_type": "markdown",
   "source": [
    "## Ausführen"
   ],
   "metadata": {
    "collapsed": false,
    "pycharm": {
     "name": "#%% md\n"
    }
   }
  },
  {
   "cell_type": "code",
   "execution_count": 5,
   "outputs": [
    {
     "ename": "NameError",
     "evalue": "name 'g_piece_list' is not defined",
     "output_type": "error",
     "traceback": [
      "\u001B[1;31m---------------------------------------------------------------------------\u001B[0m",
      "\u001B[1;31mNameError\u001B[0m                                 Traceback (most recent call last)",
      "File \u001B[1;32m<timed eval>:1\u001B[0m, in \u001B[0;36m<module>\u001B[1;34m\u001B[0m\n",
      "File \u001B[1;32m~\\AppData\\Local\\Temp\\1\\ipykernel_4492\\2331701392.py:3\u001B[0m, in \u001B[0;36mrun\u001B[1;34m()\u001B[0m\n\u001B[0;32m      1\u001B[0m \u001B[38;5;28;01mdef\u001B[39;00m \u001B[38;5;21mrun\u001B[39m():\n\u001B[0;32m      2\u001B[0m     store_piece_list()\n\u001B[1;32m----> 3\u001B[0m     \u001B[43mcalculate\u001B[49m\u001B[43m(\u001B[49m\u001B[43m)\u001B[49m\n\u001B[0;32m      4\u001B[0m     \u001B[38;5;28mprint\u001B[39m(\u001B[38;5;124m\"\u001B[39m\u001B[38;5;124mDone\u001B[39m\u001B[38;5;124m\"\u001B[39m)\n",
      "File \u001B[1;32m~\\AppData\\Local\\Temp\\1\\ipykernel_4492\\3419483405.py:7\u001B[0m, in \u001B[0;36mcalculate\u001B[1;34m()\u001B[0m\n\u001B[0;32m      4\u001B[0m     PIECE_LIST[PIECE_LIST\u001B[38;5;241m.\u001B[39mindex(chess\u001B[38;5;241m.\u001B[39mPiece\u001B[38;5;241m.\u001B[39mfrom_symbol(\u001B[38;5;124m'\u001B[39m\u001B[38;5;124mP\u001B[39m\u001B[38;5;124m'\u001B[39m))] \u001B[38;5;241m=\u001B[39m chess\u001B[38;5;241m.\u001B[39mPiece\u001B[38;5;241m.\u001B[39mfrom_symbol(\u001B[38;5;124m'\u001B[39m\u001B[38;5;124mQ\u001B[39m\u001B[38;5;124m'\u001B[39m)\n\u001B[0;32m      6\u001B[0m count \u001B[38;5;241m=\u001B[39m \u001B[38;5;241m0\u001B[39m\n\u001B[1;32m----> 7\u001B[0m sn \u001B[38;5;241m=\u001B[39m \u001B[43mcalculate_s0\u001B[49m\u001B[43m(\u001B[49m\u001B[43m)\u001B[49m\n\u001B[0;32m      8\u001B[0m \u001B[38;5;28mprint\u001B[39m(\u001B[38;5;124m\"\u001B[39m\u001B[38;5;124mDone with S\u001B[39m\u001B[38;5;124m\"\u001B[39m \u001B[38;5;241m+\u001B[39m \u001B[38;5;28mstr\u001B[39m(count))\n\u001B[0;32m      9\u001B[0m store_sn(sn)  \n",
      "File \u001B[1;32m~\\AppData\\Local\\Temp\\1\\ipykernel_4492\\1907747696.py:14\u001B[0m, in \u001B[0;36mcalculate_s0\u001B[1;34m()\u001B[0m\n\u001B[0;32m     11\u001B[0m s0\u001B[38;5;241m.\u001B[39madd(to_integer(empty_board, tmp_piece_list))\n\u001B[0;32m     13\u001B[0m \u001B[38;5;28;01mfor\u001B[39;00m piece \u001B[38;5;129;01min\u001B[39;00m PIECE_LIST:\n\u001B[1;32m---> 14\u001B[0m     s0 \u001B[38;5;241m=\u001B[39m \u001B[43mfill_boards_with_piece\u001B[49m\u001B[43m(\u001B[49m\u001B[43ms0\u001B[49m\u001B[43m,\u001B[49m\u001B[43m \u001B[49m\u001B[43mpiece\u001B[49m\u001B[43m,\u001B[49m\u001B[43m \u001B[49m\u001B[43mtmp_piece_list\u001B[49m\u001B[43m)\u001B[49m\n\u001B[0;32m     15\u001B[0m     tmp_piece_list\u001B[38;5;241m.\u001B[39mappend(piece)\n\u001B[0;32m     17\u001B[0m \u001B[38;5;28;01mreturn\u001B[39;00m s0\n",
      "File \u001B[1;32m~\\AppData\\Local\\Temp\\1\\ipykernel_4492\\809479763.py:22\u001B[0m, in \u001B[0;36mfill_boards_with_piece\u001B[1;34m(boards_int_set, piece, cur_piece_list)\u001B[0m\n\u001B[0;32m     20\u001B[0m     \u001B[38;5;28;01mif\u001B[39;00m board_int \u001B[38;5;129;01mnot\u001B[39;00m \u001B[38;5;129;01min\u001B[39;00m g_used_boards:\n\u001B[0;32m     21\u001B[0m         finished_boards\u001B[38;5;241m.\u001B[39madd(board_int)\n\u001B[1;32m---> 22\u001B[0m         \u001B[43madd_original_and_mirrors_to_used\u001B[49m\u001B[43m(\u001B[49m\u001B[43mboard_int\u001B[49m\u001B[43m)\u001B[49m\n\u001B[0;32m     23\u001B[0m         \u001B[38;5;28;01mcontinue\u001B[39;00m\n\u001B[0;32m     25\u001B[0m \u001B[38;5;28;01mif\u001B[39;00m \u001B[38;5;28mlen\u001B[39m(used_squares) \u001B[38;5;241m+\u001B[39m \u001B[38;5;241m1\u001B[39m \u001B[38;5;241m<\u001B[39m piece_count: \n\u001B[0;32m     26\u001B[0m     \u001B[38;5;66;03m#Board is valid, but needs more pieces\u001B[39;00m\n",
      "File \u001B[1;32m~\\AppData\\Local\\Temp\\1\\ipykernel_4492\\1533089494.py:5\u001B[0m, in \u001B[0;36madd_original_and_mirrors_to_used\u001B[1;34m(board_int)\u001B[0m\n\u001B[0;32m      3\u001B[0m g_used_boards\u001B[38;5;241m.\u001B[39madd(board_int)\n\u001B[0;32m      4\u001B[0m \u001B[38;5;28;01mif\u001B[39;00m \u001B[38;5;129;01mnot\u001B[39;00m g_user_wants_pawn:\n\u001B[1;32m----> 5\u001B[0m     \u001B[38;5;28;01mfor\u001B[39;00m reflection \u001B[38;5;129;01min\u001B[39;00m \u001B[43mmirror_all_directions\u001B[49m\u001B[43m(\u001B[49m\u001B[43mboard_int\u001B[49m\u001B[43m)\u001B[49m:\n\u001B[0;32m      6\u001B[0m         g_used_boards\u001B[38;5;241m.\u001B[39madd(reflection)\n",
      "File \u001B[1;32m~\\AppData\\Local\\Temp\\1\\ipykernel_4492\\1512381723.py:5\u001B[0m, in \u001B[0;36mmirror_all_directions\u001B[1;34m(board_int)\u001B[0m\n\u001B[0;32m      3\u001B[0m result \u001B[38;5;241m=\u001B[39m \u001B[38;5;28mset\u001B[39m()\n\u001B[0;32m      4\u001B[0m \u001B[38;5;28;01mfor\u001B[39;00m name, swap \u001B[38;5;129;01min\u001B[39;00m SWAPS\u001B[38;5;241m.\u001B[39mitems():\n\u001B[1;32m----> 5\u001B[0m     result\u001B[38;5;241m.\u001B[39madd(\u001B[43mmirror_board\u001B[49m\u001B[43m(\u001B[49m\u001B[43mboard_int\u001B[49m\u001B[43m,\u001B[49m\u001B[43m \u001B[49m\u001B[43mswap\u001B[49m\u001B[43m)\u001B[49m)\n\u001B[0;32m      6\u001B[0m \u001B[38;5;28;01mreturn\u001B[39;00m result\n",
      "File \u001B[1;32m~\\AppData\\Local\\Temp\\1\\ipykernel_4492\\633419645.py:6\u001B[0m, in \u001B[0;36mmirror_board\u001B[1;34m(board_int, mirror)\u001B[0m\n\u001B[0;32m      4\u001B[0m result \u001B[38;5;241m=\u001B[39m board_int \u001B[38;5;241m&\u001B[39m \u001B[38;5;241m1\u001B[39m\n\u001B[0;32m      5\u001B[0m \u001B[38;5;66;03m# Get count of pieces saved in int\u001B[39;00m\n\u001B[1;32m----> 6\u001B[0m n \u001B[38;5;241m=\u001B[39m \u001B[38;5;28mlen\u001B[39m(\u001B[43mg_piece_list\u001B[49m)\n\u001B[0;32m      7\u001B[0m \u001B[38;5;66;03m# Remove turn\u001B[39;00m\n\u001B[0;32m      8\u001B[0m board_int \u001B[38;5;241m=\u001B[39m board_int \u001B[38;5;241m>>\u001B[39m \u001B[38;5;241m1\u001B[39m\n",
      "\u001B[1;31mNameError\u001B[0m: name 'g_piece_list' is not defined"
     ]
    }
   ],
   "source": [
    "%%time\n",
    "run()"
   ],
   "metadata": {
    "collapsed": false,
    "pycharm": {
     "name": "#%%\n"
    }
   }
  }
 ],
 "metadata": {
  "kernelspec": {
   "display_name": "Python 3",
   "language": "python",
   "name": "python3"
  },
  "language_info": {
   "codemirror_mode": {
    "name": "ipython",
    "version": 2
   },
   "file_extension": ".py",
   "mimetype": "text/x-python",
   "name": "python",
   "nbconvert_exporter": "python",
   "pygments_lexer": "ipython2",
   "version": "2.7.6"
  }
 },
 "nbformat": 4,
 "nbformat_minor": 0
}