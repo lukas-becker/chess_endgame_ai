{
 "cells": [
  {
   "cell_type": "markdown",
   "source": [
    "# Frontend für die Berechnung\n",
    "Dieses Interface kann verwendet werden, um einen neuen Satz $S_n$ Mengen zu bestimmen.\n",
    "Eine Erklärung der $S_n$ Mengen und der verwendeten Funktionen befindet sich im Notebook `13_calculation_backend.ipynb`."
   ],
   "metadata": {
    "collapsed": false,
    "pycharm": {
     "name": "#%% md\n"
    }
   }
  },
  {
   "cell_type": "code",
   "execution_count": null,
   "outputs": [],
   "source": [
    "from IPython.core.display import HTML\n",
    "with open('style.html', 'r') as file:\n",
    "     css = file.read()\n",
    "HTML(css)"
   ],
   "metadata": {
    "collapsed": false,
    "pycharm": {
     "name": "#%%\n"
    }
   }
  },
  {
   "cell_type": "code",
   "execution_count": null,
   "outputs": [],
   "source": [
    "%run Util/00_imports.ipynb"
   ],
   "metadata": {
    "collapsed": false,
    "pycharm": {
     "name": "#%%\n"
    }
   }
  },
  {
   "cell_type": "markdown",
   "source": [
    "## Einstellungen\n",
    "\n",
    "Die folgenden Einstellungen müssen vor dem Ausführen getätigt werden:\n",
    "* `PIECE_LIST`: Die Figuren, welche Teil der Endspielsituationen sein sollen. Dies müssen in der Form `chess.Piece.from_symbol(\"Figur\")` vorliegen.\n",
    "* `FILENAME`: der Dateiname für die Ergebnisdatei.  "
   ],
   "metadata": {
    "collapsed": false,
    "pycharm": {
     "name": "#%% md\n"
    }
   }
  },
  {
   "cell_type": "code",
   "execution_count": null,
   "metadata": {
    "collapsed": true,
    "pycharm": {
     "name": "#%%\n"
    }
   },
   "outputs": [],
   "source": [
    "PIECE_LIST = [chess.Piece.from_symbol(\"K\"), chess.Piece.from_symbol(\"k\"), chess.Piece.from_symbol(\"Q\")]\n",
    "FILENAME = \"queen\""
   ]
  },
  {
   "cell_type": "markdown",
   "source": [
    "## Import"
   ],
   "metadata": {
    "collapsed": false,
    "pycharm": {
     "name": "#%% md\n"
    }
   }
  },
  {
   "cell_type": "code",
   "execution_count": null,
   "outputs": [],
   "source": [
    "%run 13_calculation_backend.ipynb"
   ],
   "metadata": {
    "collapsed": false,
    "pycharm": {
     "name": "#%%\n"
    }
   }
  },
  {
   "cell_type": "markdown",
   "source": [
    "## Ausführen"
   ],
   "metadata": {
    "collapsed": false,
    "pycharm": {
     "name": "#%% md\n"
    }
   }
  },
  {
   "cell_type": "code",
   "execution_count": null,
   "outputs": [],
   "source": [
    "%%time\n",
    "run()\n"
   ],
   "metadata": {
    "collapsed": false,
    "pycharm": {
     "name": "#%%\n"
    }
   }
  }
 ],
 "metadata": {
  "kernelspec": {
   "display_name": "Python 3",
   "language": "python",
   "name": "python3"
  },
  "language_info": {
   "codemirror_mode": {
    "name": "ipython",
    "version": 2
   },
   "file_extension": ".py",
   "mimetype": "text/x-python",
   "name": "python",
   "nbconvert_exporter": "python",
   "pygments_lexer": "ipython2",
   "version": "2.7.6"
  }
 },
 "nbformat": 4,
 "nbformat_minor": 0
}