{
 "cells": [
  {
   "cell_type": "markdown",
   "metadata": {
    "pycharm": {
     "name": "#%% md\n"
    }
   },
   "source": [
    "# Frontend für die Berechnung\n",
    "Dieses Interface kann verwendet werden, um einen neuen Satz $S_n$ Mengen zu bestimmen.\n",
    "Eine Erklärung der $S_n$ Mengen und der verwendeten Funktionen befindet sich im Notebook `13_calculation_backend.ipynb`."
   ]
  },
  {
   "cell_type": "code",
   "execution_count": null,
   "metadata": {
    "pycharm": {
     "name": "#%%\n"
    }
   },
   "outputs": [],
   "source": [
    "from IPython.core.display import HTML\n",
    "with open('style.html', 'r') as file:\n",
    "     css = file.read()\n",
    "HTML(css)"
   ]
  },
  {
   "cell_type": "code",
   "execution_count": null,
   "metadata": {
    "pycharm": {
     "name": "#%%\n"
    }
   },
   "outputs": [],
   "source": [
    "%run 11_imports.ipynb"
   ]
  },
  {
   "cell_type": "markdown",
   "metadata": {
    "pycharm": {
     "name": "#%% md\n"
    }
   },
   "source": [
    "## Einstellungen\n",
    "\n",
    "Die folgenden Einstellungen müssen vor dem Ausführen getätigt werden:\n",
    "* `g_piece_list`: Die Figuren, welche Teil der Endspielsituationen sein sollen. Dies müssen in der Form `chess.Piece.from_symbol(\"Figur\")` vorliegen. Dabei entscheidet die Groß- und Kleinschreibung zu welcher Farbe die Figur gehört. Großbuchstaben stellen die Figuren von weiß dar. Kleinbuchstaben sind die Figuren der schwarzen Seite. Bei den Figuren stehen folgende Symbole zur Auswahl:\n",
    "     * `k`: Der König.\n",
    "     * `q`: Die Dame.\n",
    "     * `p`: Der Bauer.\n",
    "     * `b`: Der Läufer.\n",
    "     * `r`: Der Turm.\n",
    "     * `n`: Der Springer.\n",
    "* `g_filename`: der Dateiname für die Ergebnisdatei.  "
   ]
  },
  {
   "cell_type": "code",
   "execution_count": null,
   "metadata": {
    "pycharm": {
     "name": "#%%\n"
    }
   },
   "outputs": [],
   "source": [
    "g_piece_list = [chess.Piece.from_symbol(\"K\"), chess.Piece.from_symbol(\"k\"), chess.Piece.from_symbol(\"Q\")]\n",
    "g_filename = \"queen\""
   ]
  },
  {
   "cell_type": "markdown",
   "metadata": {
    "pycharm": {
     "name": "#%% md\n"
    }
   },
   "source": [
    "## Import"
   ]
  },
  {
   "cell_type": "code",
   "execution_count": null,
   "metadata": {
    "pycharm": {
     "name": "#%%\n"
    }
   },
   "outputs": [],
   "source": [
    "%run 03_calculation_backend.ipynb"
   ]
  },
  {
   "cell_type": "markdown",
   "metadata": {
    "pycharm": {
     "name": "#%% md\n"
    }
   },
   "source": [
    "## Ausführen"
   ]
  },
  {
   "cell_type": "code",
   "execution_count": null,
   "metadata": {
    "pycharm": {
     "name": "#%%\n"
    }
   },
   "outputs": [],
   "source": [
    "%%time\n",
    "run()\n"
   ]
  }
 ],
 "metadata": {
  "kernelspec": {
   "display_name": "Python 3 (ipykernel)",
   "language": "python",
   "name": "python3"
  },
  "language_info": {
   "codemirror_mode": {
    "name": "ipython",
    "version": 3
   },
   "file_extension": ".py",
   "mimetype": "text/x-python",
   "name": "python",
   "nbconvert_exporter": "python",
   "pygments_lexer": "ipython3",
   "version": "3.9.13"
  }
 },
 "nbformat": 4,
 "nbformat_minor": 1
}