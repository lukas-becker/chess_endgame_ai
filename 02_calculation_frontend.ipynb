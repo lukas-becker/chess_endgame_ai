{
 "cells": [
  {
   "cell_type": "markdown",
   "metadata": {
    "pycharm": {
     "name": "#%% md\n"
    }
   },
   "source": [
    "# Frontend für die Berechnung\n",
    "Dieses Interface kann verwendet werden, um einen neuen Datensatz $S_n$ Mengen zu bestimmen.\n",
    "Eine Erklärung der $S_n$ Mengen und der verwendeten Funktionen befindet sich im Notebook `13_calculation_backend.ipynb`."
   ]
  },
  {
   "cell_type": "code",
   "execution_count": 1,
   "metadata": {
    "pycharm": {
     "name": "#%%\n"
    }
   },
   "outputs": [
    {
     "data": {
      "text/plain": "<IPython.core.display.HTML object>",
      "text/html": "<link href='http://fonts.googleapis.com/css?family=Alegreya+Sans:100,300,400,500,700,800,900,100italic,300italic,400italic,500italic,700italic,800italic,900italic' rel='stylesheet' type='text/css'>\n<link href='http://fonts.googleapis.com/css?family=Arvo:400,700,400italic' rel='stylesheet' type='text/css'>\n<link href='http://fonts.googleapis.com/css?family=PT+Mono' rel='stylesheet' type='text/css'>\n<link href='http://fonts.googleapis.com/css?family=Shadows+Into+Light' rel='stylesheet' type='text/css'>\n<link href='http://fonts.googleapis.com/css?family=Philosopher:400,700,400italic,700italic' rel='stylesheet' type='text/css'>\n\n<style>\n\n@font-face {\n    font-family: \"Computer Modern\";\n    src: url('http://mirrors.ctan.org/fonts/cm-unicode/fonts/otf/cmunss.otf');\n}\n\n.container { width: 100% }\n\n/* Formatting for header cells */\n.text_cell_render h1 {\n    font-family: 'Philosopher', sans-serif;\n    font-weight: 400;\n    font-size: 2.2em;\n    line-height: 100%;\n    color: rgb(0, 80, 120);\n    margin-bottom: 0.1em;\n    margin-top: 0.1em;\n    display: block;\n}\n.text_cell_render h2 {\n    font-family: 'Philosopher', serif;\n    font-weight: 400;\n    font-size: 1.9em;\n    line-height: 100%;\n    color: rgb(200,100,0);\n    margin-bottom: 0.1em;\n    margin-top: 0.1em;\n    display: block;\n}\n\n.text_cell_render h3 {\n    font-family: 'Philosopher', serif;\n    margin-top:12px;\n    margin-bottom: 3px;\n    font-style: italic;\n    color: rgb(94,127,192);\n}\n\n.text_cell_render h4 {\n    font-family: 'Philosopher', serif;\n}\n\n.text_cell_render h5 {\n    font-family: 'Alegreya Sans', sans-serif;\n    font-weight: 300;\n    font-size: 16pt;\n    color: grey;\n    font-style: italic;\n    margin-bottom: .1em;\n    margin-top: 0.1em;\n    display: block;\n}\n\n.text_cell_render h6 {\n    font-family: 'PT Mono', sans-serif;\n    font-weight: 300;\n    font-size: 10pt;\n    color: grey;\n    margin-bottom: 1px;\n    margin-top: 1px;\n}\n\n.text_cell_render em {\n    font-family: 'Philosopher', sans-serif;\n    color:        blue;\n    background-color: rgb(255,220,180);\n    font-size:    110%;\n    margin-left:   2px;\n    margin-right:  2px;\n    font-weight:   100;\n}\n\n.text_cell_render b {\n    color:            rgb(255,195,195);\n    background-color: rgb(0,0,0);\n    font-size:    110%;\n    margin-left:   2px;\n    margin-right:  2px;\n    font-weight:   650;\n}\n\n.text_cell_render tt {\n    font-size:    120%;\n    margin-left:   2px;\n    margin-right:  2px;\n    font-weight:   150;\n}\n\n.Codemirror {\n    font-family: \"PT Mono\";\n    font-size: 100%;\n}\n\n</style>"
     },
     "execution_count": 1,
     "metadata": {},
     "output_type": "execute_result"
    }
   ],
   "source": [
    "from IPython.core.display import HTML\n",
    "with open('style.html', 'r') as file:\n",
    "     css = file.read()\n",
    "HTML(css)"
   ]
  },
  {
   "cell_type": "code",
   "execution_count": 2,
   "metadata": {
    "pycharm": {
     "name": "#%%\n"
    }
   },
   "outputs": [],
   "source": [
    "%run 11_imports.ipynb"
   ]
  },
  {
   "cell_type": "markdown",
   "metadata": {
    "pycharm": {
     "name": "#%% md\n"
    }
   },
   "source": [
    "## Einstellungen\n",
    "\n",
    "Die folgenden Einstellungen müssen vor dem Ausführen getätigt werden:\n",
    "* `g_piece_list`: Die Figuren, welche Teil der Endspielsituationen sein sollen. Dies müssen in der Form `chess.Piece.from_symbol(\"Figur\")` vorliegen. Dabei entscheidet die Groß- und Kleinschreibung zu welcher Farbe die Figur gehört. Großbuchstaben stellen die Figuren von weiß dar. Kleinbuchstaben sind die Figuren der schwarzen Seite. Es müssen immer die Figuren chess.Piece.from_symbol(\"K\") und chess.Piece.from_symbol(\"k\") an den ersten beiden Stellen in der Liste sein. Bei den Figuren stehen folgende Symbole zur Auswahl:\n",
    "     * `k`: Der König.\n",
    "     * `q`: Die Dame.\n",
    "     * `p`: Der Bauer.\n",
    "     * `b`: Der Läufer.\n",
    "     * `r`: Der Turm.\n",
    "     * `n`: Der Springer.\n",
    "* `g_filename`: der Dateiname für die Ergebnisdatei.  "
   ]
  },
  {
   "cell_type": "code",
   "execution_count": 3,
   "metadata": {
    "pycharm": {
     "name": "#%%\n"
    }
   },
   "outputs": [],
   "source": [
    "g_piece_list = [chess.Piece.from_symbol(\"K\"), chess.Piece.from_symbol(\"k\"), chess.Piece.from_symbol(\"Q\")]\n",
    "g_filename = \"queen_30_05\""
   ]
  },
  {
   "cell_type": "markdown",
   "metadata": {
    "pycharm": {
     "name": "#%% md\n"
    }
   },
   "source": [
    "## Import"
   ]
  },
  {
   "cell_type": "code",
   "execution_count": 4,
   "metadata": {
    "pycharm": {
     "name": "#%%\n"
    }
   },
   "outputs": [],
   "source": [
    "%run 03_calculation_backend.ipynb"
   ]
  },
  {
   "cell_type": "markdown",
   "metadata": {
    "pycharm": {
     "name": "#%% md\n"
    }
   },
   "source": [
    "## Ausführen"
   ]
  },
  {
   "cell_type": "code",
   "execution_count": 5,
   "metadata": {
    "pycharm": {
     "name": "#%%\n"
    }
   },
   "outputs": [
    {
     "name": "stdout",
     "output_type": "stream",
     "text": [
      "Done with S0\n",
      "Done with S1\n",
      "Done with S2\n",
      "Done with S3\n",
      "Done with S4\n",
      "Done with S5\n",
      "Done with S6\n",
      "Done with S7\n",
      "Done with S8\n",
      "Done with S9\n",
      "Done with S10\n",
      "Done with S11\n",
      "Done with S12\n",
      "Done with S13\n",
      "Done with S14\n",
      "Done with S15\n",
      "Done with S16\n",
      "Done with S17\n",
      "Done with S18\n",
      "Done with S19\n",
      "Done with S20\n",
      "Done with S21\n",
      "Done\n",
      "CPU times: total: 1min 18s\n",
      "Wall time: 1min 21s\n"
     ]
    }
   ],
   "source": [
    "%%time\n",
    "run()\n"
   ]
  },
  {
   "cell_type": "code",
   "execution_count": 6,
   "outputs": [],
   "source": [
    "g_piece_list = [chess.Piece.from_symbol(\"K\"), chess.Piece.from_symbol(\"k\"), chess.Piece.from_symbol(\"R\")]\n",
    "g_filename = \"rook_30_05\""
   ],
   "metadata": {
    "collapsed": false,
    "pycharm": {
     "name": "#%%\n"
    }
   }
  },
  {
   "cell_type": "code",
   "execution_count": 7,
   "outputs": [
    {
     "name": "stdout",
     "output_type": "stream",
     "text": [
      "Done with S0\n",
      "Done with S1\n",
      "Done with S2\n",
      "Done with S3\n",
      "Done with S4\n",
      "Done with S5\n",
      "Done with S6\n",
      "Done with S7\n",
      "Done with S8\n",
      "Done with S9\n",
      "Done with S10\n",
      "Done with S11\n",
      "Done with S12\n",
      "Done with S13\n",
      "Done with S14\n",
      "Done with S15\n",
      "Done with S16\n",
      "Done with S17\n",
      "Done with S18\n",
      "Done with S19\n",
      "Done with S20\n",
      "Done with S21\n",
      "Done with S22\n",
      "Done with S23\n",
      "Done with S24\n",
      "Done with S25\n",
      "Done with S26\n",
      "Done with S27\n",
      "Done with S28\n",
      "Done with S29\n",
      "Done with S30\n",
      "Done with S31\n",
      "Done with S32\n",
      "Done with S33\n",
      "Done\n",
      "CPU times: total: 1min 9s\n",
      "Wall time: 1min 10s\n"
     ]
    }
   ],
   "source": [
    "%%time\n",
    "run()\n"
   ],
   "metadata": {
    "collapsed": false,
    "pycharm": {
     "name": "#%%\n"
    }
   }
  },
  {
   "cell_type": "code",
   "execution_count": 8,
   "outputs": [],
   "source": [
    "g_piece_list = [chess.Piece.from_symbol(\"K\"), chess.Piece.from_symbol(\"k\"), chess.Piece.from_symbol(\"B\"), chess.Piece.from_symbol(\"B\")]\n",
    "g_filename = \"two_bishop_30_05\""
   ],
   "metadata": {
    "collapsed": false,
    "pycharm": {
     "name": "#%%\n"
    }
   }
  },
  {
   "cell_type": "code",
   "execution_count": 9,
   "outputs": [
    {
     "name": "stdout",
     "output_type": "stream",
     "text": [
      "Done with S0\n",
      "Done with S1\n",
      "Done with S2\n",
      "Done with S3\n",
      "Done with S4\n",
      "Done with S5\n",
      "Done with S6\n",
      "Done with S7\n",
      "Done with S8\n",
      "Done with S9\n",
      "Done with S10\n",
      "Done with S11\n",
      "Done with S12\n",
      "Done with S13\n",
      "Done with S14\n",
      "Done with S15\n",
      "Done with S16\n",
      "Done with S17\n",
      "Done with S18\n",
      "Done with S19\n",
      "Done with S20\n",
      "Done with S21\n",
      "Done with S22\n",
      "Done with S23\n",
      "Done with S24\n",
      "Done with S25\n",
      "Done with S26\n",
      "Done with S27\n",
      "Done with S28\n",
      "Done with S29\n",
      "Done with S30\n",
      "Done with S31\n",
      "Done with S32\n",
      "Done with S33\n",
      "Done with S34\n",
      "Done with S35\n",
      "Done with S36\n",
      "Done with S37\n",
      "Done with S38\n",
      "Done with S39\n",
      "Done\n",
      "CPU times: total: 25min 58s\n",
      "Wall time: 26min 51s\n"
     ]
    }
   ],
   "source": [
    "%%time\n",
    "run()\n"
   ],
   "metadata": {
    "collapsed": false,
    "pycharm": {
     "name": "#%%\n"
    }
   }
  },
  {
   "cell_type": "code",
   "execution_count": 10,
   "outputs": [],
   "source": [
    "g_piece_list = [chess.Piece.from_symbol(\"K\"), chess.Piece.from_symbol(\"k\"), chess.Piece.from_symbol(\"B\"), chess.Piece.from_symbol(\"N\")]\n",
    "g_filename = \"knight_bishop_30_05\""
   ],
   "metadata": {
    "collapsed": false,
    "pycharm": {
     "name": "#%%\n"
    }
   }
  },
  {
   "cell_type": "code",
   "execution_count": 11,
   "outputs": [
    {
     "name": "stdout",
     "output_type": "stream",
     "text": [
      "Done with S0\n",
      "Done with S1\n",
      "Done with S2\n",
      "Done with S3\n",
      "Done with S4\n",
      "Done with S5\n",
      "Done with S6\n",
      "Done with S7\n",
      "Done with S8\n",
      "Done with S9\n",
      "Done with S10\n",
      "Done with S11\n",
      "Done with S12\n",
      "Done with S13\n",
      "Done with S14\n",
      "Done with S15\n",
      "Done with S16\n",
      "Done with S17\n",
      "Done with S18\n",
      "Done with S19\n",
      "Done with S20\n",
      "Done with S21\n",
      "Done with S22\n",
      "Done with S23\n",
      "Done with S24\n",
      "Done with S25\n",
      "Done with S26\n",
      "Done with S27\n",
      "Done with S28\n",
      "Done with S29\n",
      "Done with S30\n",
      "Done with S31\n",
      "Done with S32\n",
      "Done with S33\n",
      "Done with S34\n",
      "Done with S35\n",
      "Done with S36\n",
      "Done with S37\n",
      "Done with S38\n",
      "Done with S39\n",
      "Done with S40\n",
      "Done with S41\n",
      "Done with S42\n",
      "Done with S43\n",
      "Done with S44\n",
      "Done with S45\n",
      "Done with S46\n",
      "Done with S47\n",
      "Done with S48\n",
      "Done with S49\n",
      "Done with S50\n",
      "Done with S51\n",
      "Done with S52\n",
      "Done with S53\n",
      "Done with S54\n",
      "Done with S55\n",
      "Done with S56\n",
      "Done with S57\n",
      "Done with S58\n",
      "Done with S59\n",
      "Done with S60\n",
      "Done with S61\n",
      "Done with S62\n",
      "Done with S63\n",
      "Done with S64\n",
      "Done with S65\n",
      "Done with S66\n",
      "Done with S67\n",
      "Done\n",
      "CPU times: total: 1h 2min 35s\n",
      "Wall time: 1h 3min 44s\n"
     ]
    }
   ],
   "source": [
    "%%time\n",
    "run()\n"
   ],
   "metadata": {
    "collapsed": false,
    "pycharm": {
     "name": "#%%\n"
    }
   }
  },
  {
   "cell_type": "code",
   "execution_count": 12,
   "outputs": [],
   "source": [
    "g_piece_list = [chess.Piece.from_symbol(\"K\"), chess.Piece.from_symbol(\"k\"), chess.Piece.from_symbol(\"P\")]\n",
    "g_filename = \"pawn_30_05\""
   ],
   "metadata": {
    "collapsed": false,
    "pycharm": {
     "name": "#%%\n"
    }
   }
  },
  {
   "cell_type": "code",
   "execution_count": 13,
   "outputs": [
    {
     "name": "stdout",
     "output_type": "stream",
     "text": [
      "Done with S0\n",
      "Done with S1\n",
      "Done with S2\n",
      "Done with S3\n",
      "Done with S4\n",
      "Done with S5\n",
      "Done with S6\n",
      "Done with S7\n",
      "Done with S8\n",
      "Done with S9\n",
      "Done with S10\n",
      "Done with S11\n",
      "Done with S12\n",
      "Done with S13\n",
      "Done with S14\n",
      "Done with S15\n",
      "Done with S16\n",
      "Done with S17\n",
      "Done with S18\n",
      "Done with S19\n",
      "Done with S20\n",
      "Done with S21\n",
      "Done with S22\n",
      "Done with S23\n"
     ]
    },
    {
     "ename": "KeyboardInterrupt",
     "evalue": "",
     "output_type": "error",
     "traceback": [
      "\u001B[1;31m---------------------------------------------------------------------------\u001B[0m",
      "\u001B[1;31mKeyboardInterrupt\u001B[0m                         Traceback (most recent call last)",
      "File \u001B[1;32m<timed eval>:1\u001B[0m, in \u001B[0;36m<module>\u001B[1;34m\u001B[0m\n",
      "File \u001B[1;32m~\\AppData\\Local\\Temp\\1\\ipykernel_2028\\902857116.py:6\u001B[0m, in \u001B[0;36mrun\u001B[1;34m()\u001B[0m\n\u001B[0;32m      4\u001B[0m g_used_boards \u001B[38;5;241m=\u001B[39m \u001B[38;5;28mset\u001B[39m()\n\u001B[0;32m      5\u001B[0m g_user_wants_pawn \u001B[38;5;241m=\u001B[39m chess\u001B[38;5;241m.\u001B[39mPiece\u001B[38;5;241m.\u001B[39mfrom_symbol(\u001B[38;5;124m\"\u001B[39m\u001B[38;5;124mP\u001B[39m\u001B[38;5;124m\"\u001B[39m) \u001B[38;5;129;01min\u001B[39;00m g_piece_list\n\u001B[1;32m----> 6\u001B[0m \u001B[43mcalculate\u001B[49m\u001B[43m(\u001B[49m\u001B[43m)\u001B[49m\n\u001B[0;32m      7\u001B[0m \u001B[38;5;28mprint\u001B[39m(\u001B[38;5;124m\"\u001B[39m\u001B[38;5;124mDone\u001B[39m\u001B[38;5;124m\"\u001B[39m)\n",
      "File \u001B[1;32m~\\AppData\\Local\\Temp\\1\\ipykernel_2028\\959632473.py:13\u001B[0m, in \u001B[0;36mcalculate\u001B[1;34m()\u001B[0m\n\u001B[0;32m     10\u001B[0m store_sn(sn)  \n\u001B[0;32m     12\u001B[0m \u001B[38;5;28;01mwhile\u001B[39;00m \u001B[38;5;28mlen\u001B[39m(sn) \u001B[38;5;241m!=\u001B[39m \u001B[38;5;241m0\u001B[39m:\n\u001B[1;32m---> 13\u001B[0m     sn \u001B[38;5;241m=\u001B[39m \u001B[43mprevious_states\u001B[49m\u001B[43m(\u001B[49m\u001B[43msn\u001B[49m\u001B[43m)\u001B[49m\n\u001B[0;32m     14\u001B[0m     store_sn(sn)\n\u001B[0;32m     15\u001B[0m     count \u001B[38;5;241m+\u001B[39m\u001B[38;5;241m=\u001B[39m \u001B[38;5;241m1\u001B[39m\n",
      "File \u001B[1;32m~\\AppData\\Local\\Temp\\1\\ipykernel_2028\\1190637922.py:15\u001B[0m, in \u001B[0;36mprevious_states\u001B[1;34m(sn)\u001B[0m\n\u001B[0;32m     12\u001B[0m reached_boards \u001B[38;5;241m=\u001B[39m keep_if_valid(reached_boards)    \n\u001B[0;32m     14\u001B[0m \u001B[38;5;28;01mif\u001B[39;00m \u001B[38;5;129;01mnot\u001B[39;00m chess_board\u001B[38;5;241m.\u001B[39mturn:\n\u001B[1;32m---> 15\u001B[0m     reached_boards \u001B[38;5;241m=\u001B[39m \u001B[43mcheck_black_determinism\u001B[49m\u001B[43m(\u001B[49m\u001B[43mreached_boards\u001B[49m\u001B[43m)\u001B[49m          \n\u001B[0;32m     17\u001B[0m reached_integers \u001B[38;5;241m=\u001B[39m multiple_to_integer(reached_boards, g_piece_list)\n\u001B[0;32m     19\u001B[0m \u001B[38;5;66;03m# Remove unwanted mirrors\u001B[39;00m\n",
      "File \u001B[1;32m~\\AppData\\Local\\Temp\\1\\ipykernel_2028\\2177130759.py:5\u001B[0m, in \u001B[0;36mcheck_black_determinism\u001B[1;34m(chess_boards)\u001B[0m\n\u001B[0;32m      3\u001B[0m \u001B[38;5;28;01mfor\u001B[39;00m chess_board \u001B[38;5;129;01min\u001B[39;00m chess_boards:\n\u001B[0;32m      4\u001B[0m     include \u001B[38;5;241m=\u001B[39m \u001B[38;5;28;01mTrue\u001B[39;00m\n\u001B[1;32m----> 5\u001B[0m     \u001B[38;5;28;01mfor\u001B[39;00m move \u001B[38;5;129;01min\u001B[39;00m chess_board\u001B[38;5;241m.\u001B[39mlegal_moves:\n\u001B[0;32m      6\u001B[0m         chess_board\u001B[38;5;241m.\u001B[39mpush(move)\n\u001B[0;32m      7\u001B[0m         \u001B[38;5;28;01mif\u001B[39;00m \u001B[38;5;28mlen\u001B[39m(chess_board\u001B[38;5;241m.\u001B[39mpiece_map()) \u001B[38;5;241m==\u001B[39m \u001B[38;5;28mlen\u001B[39m(g_piece_list):\n",
      "File \u001B[1;32m~\\Desktop\\chess_endgame_ai\\venv\\lib\\site-packages\\chess\\__init__.py:3502\u001B[0m, in \u001B[0;36mBoard.generate_legal_moves\u001B[1;34m(self, from_mask, to_mask)\u001B[0m\n\u001B[0;32m   3500\u001B[0m             \u001B[38;5;28;01myield\u001B[39;00m move\n\u001B[0;32m   3501\u001B[0m \u001B[38;5;28;01melse\u001B[39;00m:\n\u001B[1;32m-> 3502\u001B[0m     \u001B[38;5;28;01mfor\u001B[39;00m move \u001B[38;5;129;01min\u001B[39;00m \u001B[38;5;28mself\u001B[39m\u001B[38;5;241m.\u001B[39mgenerate_pseudo_legal_moves(from_mask, to_mask):\n\u001B[0;32m   3503\u001B[0m         \u001B[38;5;28;01mif\u001B[39;00m \u001B[38;5;28mself\u001B[39m\u001B[38;5;241m.\u001B[39m_is_safe(king, blockers, move):\n\u001B[0;32m   3504\u001B[0m             \u001B[38;5;28;01myield\u001B[39;00m move\n",
      "File \u001B[1;32m~\\Desktop\\chess_endgame_ai\\venv\\lib\\site-packages\\chess\\__init__.py:1658\u001B[0m, in \u001B[0;36mBoard.generate_pseudo_legal_moves\u001B[1;34m(self, from_mask, to_mask)\u001B[0m\n\u001B[0;32m   1656\u001B[0m     moves \u001B[38;5;241m=\u001B[39m \u001B[38;5;28mself\u001B[39m\u001B[38;5;241m.\u001B[39mattacks_mask(from_square) \u001B[38;5;241m&\u001B[39m \u001B[38;5;241m~\u001B[39mour_pieces \u001B[38;5;241m&\u001B[39m to_mask\n\u001B[0;32m   1657\u001B[0m     \u001B[38;5;28;01mfor\u001B[39;00m to_square \u001B[38;5;129;01min\u001B[39;00m scan_reversed(moves):\n\u001B[1;32m-> 1658\u001B[0m         \u001B[38;5;28;01myield\u001B[39;00m \u001B[43mMove\u001B[49m\u001B[43m(\u001B[49m\u001B[43mfrom_square\u001B[49m\u001B[43m,\u001B[49m\u001B[43m \u001B[49m\u001B[43mto_square\u001B[49m\u001B[43m)\u001B[49m\n\u001B[0;32m   1660\u001B[0m \u001B[38;5;66;03m# Generate castling moves.\u001B[39;00m\n\u001B[0;32m   1661\u001B[0m \u001B[38;5;28;01mif\u001B[39;00m from_mask \u001B[38;5;241m&\u001B[39m \u001B[38;5;28mself\u001B[39m\u001B[38;5;241m.\u001B[39mkings:\n",
      "\u001B[1;31mKeyboardInterrupt\u001B[0m: "
     ]
    }
   ],
   "source": [
    "%%time\n",
    "run()"
   ],
   "metadata": {
    "collapsed": false,
    "pycharm": {
     "name": "#%%\n"
    }
   }
  }
 ],
 "metadata": {
  "kernelspec": {
   "display_name": "Python 3 (ipykernel)",
   "language": "python",
   "name": "python3"
  },
  "language_info": {
   "codemirror_mode": {
    "name": "ipython",
    "version": 3
   },
   "file_extension": ".py",
   "mimetype": "text/x-python",
   "name": "python",
   "nbconvert_exporter": "python",
   "pygments_lexer": "ipython3",
   "version": "3.9.13"
  }
 },
 "nbformat": 4,
 "nbformat_minor": 1
}