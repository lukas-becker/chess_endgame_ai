{
 "cells": [
  {
   "cell_type": "code",
   "execution_count": null,
   "metadata": {
    "pycharm": {
     "name": "#%%\n"
    }
   },
   "outputs": [],
   "source": [
    "from IPython.core.display import HTML\n",
    "with open('style.html', 'r') as file:\n",
    "     css = file.read()\n",
    "HTML(css)"
   ]
  },
  {
   "cell_type": "markdown",
   "metadata": {
    "pycharm": {
     "name": "#%% md\n"
    }
   },
   "source": [
    "# Auswerten eines Schach-Endspiels\n",
    "\n",
    "Zum Vergleich, dass die berechneten Züge der KI eine gute Lösung für das Gewinnen einer Endspielsituation sind, wird das Programm Stockfish verwendet. Es stellt eine Schach-Engine dar, die nach einem zuvor definierten Muster optimale Schachzüge berechnet."
   ]
  },
  {
   "cell_type": "markdown",
   "metadata": {
    "pycharm": {
     "name": "#%% md\n"
    }
   },
   "source": [
    "## Importe\n",
    "\n",
    "Für die Durchführung der Tests und der Auswertung eines Schach-Endspiels gegen eine andere KI werden die hier stehenden Bibliotheken benötigt:\n",
    "\n",
    "* ``chess``: Die Python-Schach-Bibliothek, mit welcher Schachbretter dargestellt werden, Züge und Zustände ausgewertet etc.\n",
    "* ``stockfish``: Bibliothek, welche eine Python Schnittstelle für die Stockfish-Enginge anbietet.\n",
    "* ``clear_output`` aus der IPython-display-Library: Eine Funktion, die für die Fortschrittsanzeige von Berechnungen\n",
    "verwendet wird.\n",
    "* ``display`` aus der IPython-display-Library: Wird zum grafischen Anzeigen der Schachbretter verwendet.\n",
    "* ``json``: Wird zum Speichern der Ergebnisse verwendet.\n",
    "* ``time``: Wird zum Verzögern von Ausgaben verwendet."
   ]
  },
  {
   "cell_type": "code",
   "execution_count": null,
   "metadata": {
    "pycharm": {
     "name": "#%%\n"
    }
   },
   "outputs": [],
   "source": [
    "import chess\n",
    "import stockfish\n",
    "from IPython.display import clear_output\n",
    "from IPython.display import display\n",
    "import json\n",
    "import time"
   ]
  },
  {
   "cell_type": "markdown",
   "metadata": {
    "pycharm": {
     "name": "#%% md\n"
    }
   },
   "source": [
    "## Konfiguration\n",
    "\n",
    "Zu Beginn müssen für den Vergleich unterschiedliche Variablen definiert werden. Diese beinhalten eine Fen, die für ein gegebenes Szenario überprüft werden soll, den Pfad zu der berechneten $S_n$ Sequenz und einen Pfad zu der Stockfish-Installation."
   ]
  },
  {
   "cell_type": "code",
   "execution_count": null,
   "metadata": {
    "pycharm": {
     "name": "#%%\n"
    }
   },
   "outputs": [],
   "source": [
    "FEN = \"4k3/8/8/8/8/8/8/R3K3 w - - 0 1\"\n",
    "S_N_FILE = \"S_n_seq_12_01.json\"\n",
    "STOCKFISH_PATH = \"./stockfish_14.1/stockfish_14.1_win_x64_avx2.exe\"\n",
    "VERBOSE = False\n",
    "\n",
    "STOCKFISH = stockfish.Stockfish(STOCKFISH_PATH)"
   ]
  },
  {
   "cell_type": "markdown",
   "metadata": {
    "pycharm": {
     "name": "#%% md\n"
    }
   },
   "source": [
    "Für die Bestimmung der Züge der KI werden die $S_n$ Mengen verwendet, die mit Hilfe des Notebooks ``calculation.ipynb`` bestimmt werden. Diese wurden bereits in einer JSON-Datei serialisiert abgespeichert. Für dieses Notebook werden alle FENs gelesen und daraus Board-Objekte erstellt. Dies geschieht mit der Funktion ``load_s_n_sequence``. Diese erhält den Dateipfad (``filepath``) als Parameter, um aus der Datei die $S_n$ Mengen auslesen zu können."
   ]
  },
  {
   "cell_type": "code",
   "execution_count": null,
   "metadata": {
    "pycharm": {
     "name": "#%%\n"
    }
   },
   "outputs": [],
   "source": [
    "def load_s_n_sequence(filepath):\n",
    "    s_n_sequence_new = []\n",
    "    f = open(filepath, \"r\")\n",
    "    tmp = json.loads(f.read())\n",
    "    for item in tmp:\n",
    "        tmp_list = []\n",
    "        for board in item:\n",
    "            tmp_list.append(chess.Board(board))\n",
    "        s_n_sequence_new.append(tmp_list)\n",
    "    f.close()\n",
    "    return s_n_sequence_new"
   ]
  },
  {
   "cell_type": "markdown",
   "metadata": {
    "pycharm": {
     "name": "#%% md\n"
    }
   },
   "source": [
    "## Die Züge für die KI ermitteln\n",
    "\n",
    "Der erste Schritt, um einen Zug für die KI zu ermitteln, liegt im Finden der momentanen Spielsituation. Dies wird mit der Funktion ``find_board_in_sequence`` erreicht. Sie dursucht eine gegebene $S_n$ Sequenz nach einem übergebenen Schachbrett. Die Parameter hierfür lauten wie folgt:\n",
    "\n",
    "* ``situation``: Das Board (als Objekt), welches gefunden werden soll.\n",
    "* sequence: Die $S_n$ Sequenz, in welcher das Board gesucht wird.\n",
    "\n",
    "Das Ergebnis der Funktion kann insgesamt zwei unterschiedliche Formen annehmen:\n",
    "* Ein Tupel mit $S_n$ Index (z.B. $S_3$) und Board-Index (z.B. 100).Dieses Tupel drückt aus, wo in der Sequenz das Board gefunden wurde.\n",
    "* Das Tupel (-1,-1). Dies drückt aus, dass das Board nicht gefunden wurde.\n",
    "\n",
    "Das Ergebniss wird mithilfe von dem anschließenden Algorithmus bestimmt:\n",
    "1. Über die $S_n$ Sequenz iterieren.\n",
    "2. Über jedes Board in einem spezifischem $S_n$ iterieren.\n",
    "3. Das Board mit dem ``situation`` Objekt vergleichen.\n",
    "    1. Wenn das Board übereinstimmt, die Indizes zurückgeben.\n",
    "    2. Wenn das Board nicht übereinstimmt, weitersuchen."
   ]
  },
  {
   "cell_type": "code",
   "execution_count": null,
   "metadata": {
    "pycharm": {
     "name": "#%%\n"
    }
   },
   "outputs": [],
   "source": [
    "def find_board_in_sequence(situation, sequence):\n",
    "    board_str = (situation.turn, situation.__str__())\n",
    "\n",
    "    for i in range(len(sequence)):\n",
    "        for j in range(len(sequence[i])):\n",
    "            item = sequence[i][j]\n",
    "            if board_str == (item.turn, item.__str__()):\n",
    "                return i, j\n",
    "    return -1,-1"
   ]
  },
  {
   "cell_type": "markdown",
   "metadata": {
    "pycharm": {
     "name": "#%% md\n"
    }
   },
   "source": [
    "Nachdem das Brett in einer $S_n$ Menge gefunden wurde, ist der nächste Schritt den passenden Zug für die KI zu bestimmen. Zu diesem Zweck wurde die Funktion ``find_next_move`` definiert. Diese berechnet für ein übergebenes Board den idealen Spielzug. Weiterhin wird aus Effizienzgründen schon die Position des nächsten Bretts in der $S_n$ Sequenz zurückgegeben. Für diese Berechnung benötigt ``find_next_move`` nachkommende Argumente:\n",
    "\n",
    "* ``curr_board``: Das Board, für welches der nächste Spielzug berechnet werden soll.\n",
    "* ``s_index``: Das $n$ eines $S_n$, in welchem sich ``curr_board`` befindet. Wird aus Effizienzgründen übergeben.\n",
    "* ``s_n_sequence``: Die Liste mit allen $S_n$\n",
    "\n",
    "Als Ergebnis liefert die Funktion den nächsten Move oder den Wert -1 als Hinweis, dass kein Spielzug berechnet werden konnte.\n",
    "\n",
    "Der Algorithmus dieser Funktion erstreckt sich folgender Art und Weise:\n",
    "* Führe alle möglichen Moves durch, bis das Ergebnis-Board in $S_{n-1}$ gefunden wurde.\n",
    "* Gebe den neuen ``s_index``, ``board_index`` und den gefundenen ``move`` zurück."
   ]
  },
  {
   "cell_type": "code",
   "execution_count": null,
   "metadata": {
    "pycharm": {
     "name": "#%%\n"
    }
   },
   "outputs": [],
   "source": [
    "def find_next_move(curr_board, s_index, s_n_sequence):\n",
    "    STOCKFISH.set_fen_position(curr_board.fen())\n",
    "    if curr_board.turn:\n",
    "        if VERBOSE:\n",
    "            print(\"---White:---\")\n",
    "            print(\"Starting in S\" + str(s_index))\n",
    "        for move in curr_board.legal_moves:\n",
    "            curr_board.push(move)\n",
    "            _tmp, board_index_tmp = find_board_in_sequence(curr_board, [s_n_sequence[s_index - 1]])\n",
    "            s_index_tmp = s_index - 1\n",
    "            if board_index_tmp != -1:\n",
    "                if VERBOSE:\n",
    "                    print(\"    Move: \" + str(move))\n",
    "                    print(\"    S\" + str(s_index_tmp) + \" - Board: \" + str(board_index_tmp))\n",
    "                    print(\"Ended in S\" + str(s_index))\n",
    "                curr_board.pop()\n",
    "                return s_index_tmp, board_index_tmp, move\n",
    "            curr_board.pop()\n",
    "\n",
    "        return -1, -1, None\n",
    "    else:\n",
    "        if VERBOSE:\n",
    "            print(\"---Black:---\")\n",
    "            print(\"Starting in S\" + str(s_index))\n",
    "        move = chess.Move.from_uci(STOCKFISH.get_best_move())\n",
    "        curr_board.push(move)\n",
    "        s_index, board_index = find_board_in_sequence(curr_board, s_n_sequence[:s_index])\n",
    "        if VERBOSE:\n",
    "            print(\"    Move: \" + str(move))\n",
    "            print(\"    S\" + str(s_index) + \" - Board: \" + str(board_index))\n",
    "            print(\"Ended in S\" + str(s_index))\n",
    "        curr_board.pop()\n",
    "        return s_index, board_index, move"
   ]
  },
  {
   "cell_type": "markdown",
   "metadata": {
    "pycharm": {
     "name": "#%% md\n"
    }
   },
   "source": [
    "## Vergleich zwischen Stockfish und KI\n",
    "\n",
    "Für den Vergleich werden die Anzahlen der Züge zwischen Stockfish und der selbstgeschriebenen KI miteinander verglichen. \n",
    "\n",
    "Bei der Berechnung der Züge für die KI wird die Funktion ``calculate_all_moves`` verwendet. Diese berechnet in einer Schleife alle Moves ausgehend von einer Fen, bis die KI gewonnen hat. Die Berechnung verwendet hierzu folgende Parameter:\n",
    "\n",
    "* ``fen``: Die Fen der Spielsituation, die berechnet werden soll.\n",
    "* ``s_n_sequence``: Die Liste der $S_n$, welche für die Figurenkonstellation berechnet wurde.\n",
    "\n",
    "Das Ergebnis der Ausführung ist eine Liste aller Moves, welche für das Board berechnet wurde oder der Wert None als Hinweis, dass kein Sieg erzielt werden konnte.\n",
    "\n",
    "Die Liste wurde durch den anschließenden Algorithmus bestimmt:\n",
    "* Einordnung der übergebenen Fen in der $S_n$ Sequenz finden.\n",
    "* Solange $n > 0$ in einer Schleife den nächsten Spielzug berechnen.\n",
    "* Die Liste der errechneten Spielzüge zurückgeben."
   ]
  },
  {
   "cell_type": "code",
   "execution_count": null,
   "metadata": {
    "pycharm": {
     "name": "#%%\n"
    }
   },
   "outputs": [],
   "source": [
    "def calculate_all_moves(fen, s_n_sequence):\n",
    "    moves = []\n",
    "\n",
    "    board = chess.Board(fen)\n",
    "\n",
    "    s_index, board_index = find_board_in_sequence(board, s_n_sequence)\n",
    "\n",
    "    while s_index > 0:\n",
    "        curr_board = s_n_sequence[s_index][board_index].copy()\n",
    "        s_index, board_index, next_move = find_next_move(curr_board, s_index, s_n_sequence)\n",
    "        moves.append(next_move)\n",
    "\n",
    "    if s_index == -1:\n",
    "        return None\n",
    "\n",
    "    return moves"
   ]
  },
  {
   "cell_type": "markdown",
   "metadata": {
    "pycharm": {
     "name": "#%% md\n"
    }
   },
   "source": [
    "Nachdem eine Liste aller Züge für die KI bestimmt wurden, gilt dies gleichermaßen für die Berechnung von Stockfish umzusetzen. Hierfür erhält die Funktion ``stockfish_movelist`` den Parameter:\n",
    "* ``fen``: Die FEN des Boardes, für welches alle Züge berechnet werden sollen.\n",
    "\n",
    "Nach der Ausführung erhält man ebenso eine List von Spielzügen.\n",
    "\n",
    "Die Liste wurde mit einem leicht abgeänderten Algorithmus bestimmt:\n",
    "* Solange das Spiel nicht beendet ist einen weiteren Zug berechnen.\n",
    "* Am Ende alle Züge zurückgeben."
   ]
  },
  {
   "cell_type": "code",
   "execution_count": null,
   "metadata": {
    "pycharm": {
     "name": "#%%\n"
    }
   },
   "outputs": [],
   "source": [
    "def stockfish_movelist(fen):\n",
    "    moves = []\n",
    "\n",
    "    board = chess.Board(fen)\n",
    "\n",
    "    while not board.is_game_over():\n",
    "        STOCKFISH.set_fen_position(board.fen())\n",
    "        next_move = chess.Move.from_uci(STOCKFISH.get_best_move())\n",
    "        board.push(next_move)\n",
    "        moves.append(next_move)\n",
    "\n",
    "    return moves"
   ]
  },
  {
   "cell_type": "markdown",
   "metadata": {
    "pycharm": {
     "name": "#%% md\n"
    }
   },
   "source": [
    "Für die visuelle Darstellung der Züge wurde die Funktion ``show_movelist`` definiert. Diese zeigt auf einem ``chess.Board`` eine mitgegebene Liste von Zügen. Die Funktionsargumente der Funktion lauten:\n",
    "* ``fen``: Die Fen des Boardes, für welches alle Züge dargestellt werden sollen.\n",
    "* ``moves``: Die Liste der Spielzüge, welche dargestellt werden sollen."
   ]
  },
  {
   "cell_type": "code",
   "execution_count": null,
   "metadata": {
    "pycharm": {
     "name": "#%%\n"
    }
   },
   "outputs": [],
   "source": [
    "def show_movelist(fen, moves):\n",
    "    presentation_board = chess.Board(fen)\n",
    "    display(presentation_board)\n",
    "    time.sleep(2)\n",
    "    for move in moves:\n",
    "        presentation_board.push(move)\n",
    "        clear_output(wait=True)\n",
    "        display(presentation_board)\n",
    "        time.sleep(2)"
   ]
  },
  {
   "cell_type": "markdown",
   "metadata": {
    "pycharm": {
     "name": "#%% md\n"
    }
   },
   "source": [
    "Der Vergleich zwischen der KI und Stockfish kann nun anhand der Länge der Listen durchgeführt werden. Außerdem können die Züge durch die Funktion ``show_movelist`` nachvollzogen werden."
   ]
  },
  {
   "cell_type": "code",
   "execution_count": null,
   "metadata": {
    "pycharm": {
     "name": "#%%\n"
    }
   },
   "outputs": [],
   "source": [
    "S_N_Sequence = load_s_n_sequence(S_N_FILE)\n",
    "Moves = calculate_all_moves(FEN, S_N_Sequence)\n",
    "Stockfish_Moves = stockfish_movelist(FEN)\n",
    "\n",
    "if Moves is not None:\n",
    "    print(\"AI needed \" + str(len(Moves)) + \" moves to beat Stockfish as Black.\")\n",
    "else:\n",
    "    print(\"AI found no way to beat Black.\")\n",
    "\n",
    "print(\"Stockfish needed \" + str(len(Stockfish_Moves)) + \" moves to win against itself.\")"
   ]
  },
  {
   "cell_type": "code",
   "execution_count": null,
   "metadata": {
    "pycharm": {
     "name": "#%%\n"
    }
   },
   "outputs": [],
   "source": [
    "show_movelist(FEN, Moves)"
   ]
  },
  {
   "cell_type": "code",
   "execution_count": null,
   "metadata": {
    "pycharm": {
     "name": "#%%\n"
    }
   },
   "outputs": [],
   "source": []
  }
 ],
 "metadata": {
  "kernelspec": {
   "display_name": "Python 3 (ipykernel)",
   "language": "python",
   "name": "python3"
  },
  "language_info": {
   "codemirror_mode": {
    "name": "ipython",
    "version": 3
   },
   "file_extension": ".py",
   "mimetype": "text/x-python",
   "name": "python",
   "nbconvert_exporter": "python",
   "pygments_lexer": "ipython3",
   "version": "3.9.5"
  }
 },
 "nbformat": 4,
 "nbformat_minor": 1
}