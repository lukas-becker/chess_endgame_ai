{
 "cells": [
  {
   "cell_type": "code",
   "execution_count": 1,
   "metadata": {
    "pycharm": {
     "name": "#%%\n"
    }
   },
   "outputs": [
    {
     "data": {
      "text/plain": "<IPython.core.display.HTML object>",
      "text/html": "<link href='http://fonts.googleapis.com/css?family=Alegreya+Sans:100,300,400,500,700,800,900,100italic,300italic,400italic,500italic,700italic,800italic,900italic' rel='stylesheet' type='text/css'>\n<link href='http://fonts.googleapis.com/css?family=Arvo:400,700,400italic' rel='stylesheet' type='text/css'>\n<link href='http://fonts.googleapis.com/css?family=PT+Mono' rel='stylesheet' type='text/css'>\n<link href='http://fonts.googleapis.com/css?family=Shadows+Into+Light' rel='stylesheet' type='text/css'>\n<link href='http://fonts.googleapis.com/css?family=Philosopher:400,700,400italic,700italic' rel='stylesheet' type='text/css'>\n\n<style>\n\n@font-face {\n    font-family: \"Computer Modern\";\n    src: url('http://mirrors.ctan.org/fonts/cm-unicode/fonts/otf/cmunss.otf');\n}\n\n.container { width: 100% }\n\n/* Formatting for header cells */\n.text_cell_render h1 {\n    font-family: 'Philosopher', sans-serif;\n    font-weight: 400;\n    font-size: 2.2em;\n    line-height: 100%;\n    color: rgb(0, 80, 120);\n    margin-bottom: 0.1em;\n    margin-top: 0.1em;\n    display: block;\n}\n.text_cell_render h2 {\n    font-family: 'Philosopher', serif;\n    font-weight: 400;\n    font-size: 1.9em;\n    line-height: 100%;\n    color: rgb(200,100,0);\n    margin-bottom: 0.1em;\n    margin-top: 0.1em;\n    display: block;\n}\n\n.text_cell_render h3 {\n    font-family: 'Philosopher', serif;\n    margin-top:12px;\n    margin-bottom: 3px;\n    font-style: italic;\n    color: rgb(94,127,192);\n}\n\n.text_cell_render h4 {\n    font-family: 'Philosopher', serif;\n}\n\n.text_cell_render h5 {\n    font-family: 'Alegreya Sans', sans-serif;\n    font-weight: 300;\n    font-size: 16pt;\n    color: grey;\n    font-style: italic;\n    margin-bottom: .1em;\n    margin-top: 0.1em;\n    display: block;\n}\n\n.text_cell_render h6 {\n    font-family: 'PT Mono', sans-serif;\n    font-weight: 300;\n    font-size: 10pt;\n    color: grey;\n    margin-bottom: 1px;\n    margin-top: 1px;\n}\n\n.text_cell_render em {\n    font-family: 'Philosopher', sans-serif;\n    color:        blue;\n    background-color: rgb(255,220,180);\n    font-size:    110%;\n    margin-left:   2px;\n    margin-right:  2px;\n    font-weight:   100;\n}\n\n.text_cell_render b {\n    color:            rgb(255,195,195);\n    background-color: rgb(0,0,0);\n    font-size:    110%;\n    margin-left:   2px;\n    margin-right:  2px;\n    font-weight:   650;\n}\n\n.text_cell_render tt {\n    font-size:    120%;\n    margin-left:   2px;\n    margin-right:  2px;\n    font-weight:   150;\n}\n\n.Codemirror {\n    font-family: \"PT Mono\";\n    font-size: 100%;\n}\n\n</style>"
     },
     "execution_count": 1,
     "metadata": {},
     "output_type": "execute_result"
    }
   ],
   "source": [
    "from IPython.core.display import HTML\n",
    "with open('style.html', 'r') as file:\n",
    "     css = file.read()\n",
    "HTML(css)"
   ]
  },
  {
   "cell_type": "markdown",
   "metadata": {
    "cell_id": "00000-9fea07bb-15d0-4062-8157-9f13e890a25b",
    "deepnote_cell_type": "markdown",
    "pycharm": {
     "name": "#%% md\n"
    }
   },
   "source": [
    "# Retrograde Analyse für das Schach-Endspiel\n",
    "\n",
    "Ein Schachspiel ist gewonnen wenn, die gegnerische Figur matt gesetzt wurde. Ein Matt wird erreicht, wenn der Gegner\n",
    "nach einem Zug, keine Möglichkeit hat seine Figuren so zu bewegen, dass sein König im nächsten Zug *nicht* geschlagen\n",
    "wird.\n",
    "\n",
    "Bei einer geringen Anzahl an Figuren $P$ im Spielzustand lassen sich alle möglichen Positionen und damit Züge berechnen.\n",
    "Aus dieser Rechnung kann eine Strategie entwickelt werden den Gegner zu schlagen.\n",
    "\n",
    "Folgend werden folgende Definitionen verwendet:\n",
    "* $board.pieces$: Liste der Figuren, welche in einem Zustand vorhanden sind.\n",
    "* $validBoards$: Alle Zustände des Schachspiels, die gegen keine Regeln verstoßen.\n",
    "* $wonBoards$: Alle Zustände des Schachspiels, in denen ein Spieler gewonnen hat.\n",
    "* $previousStates(b)$: Alle Zustände, aus denen durch Ausführen eines einzelnen Zuges der Zustand $b$ erreicht werden kann.\n",
    "\n",
    "Seien alle möglichen (validen) Kombinationen von Positionen der Figuren $P$ die Menge $S$.  \n",
    "Für $S$ gilt:  \n",
    "$$\n",
    "board \\in S \\implies \\forall p \\in P : p \\in board.pieces \\\\\n",
    "\\land \\\\\n",
    "board \\in S \\implies board \\in validBoards\n",
    "$$\n",
    "\n",
    "Aus der Menge $S$ lassen sich Zustände auswählen, welche $n$ Züge vom Sieg entfernt sind. Diese Zustände lassen sich\n",
    "in $S_n$ zusammenfassen.  \n",
    "Für alle Zustände, in denen ein Spieler matt gesetzt ist, gilt:  \n",
    "$$board \\in S_0 \\implies board \\in wonBoards \\land board \\in S$$  \n",
    "Aus dieser Definition können induktiv die verbleibenden $S_n$ hergeleitet werden:  \n",
    "$$board \\in S_{n+1} \\iff board \\in S \\land \\exists b \\in S_n: board \\in previousStates(b)$$ \n",
    "\n",
    "Dieses Notebook wird zur Berechnung der $S_n$ Mengen verwendet. Diese werden benötigt, um letztendlich ein Schach-Endspiel\n",
    "lösen zu können. "
   ]
  },
  {
   "cell_type": "markdown",
   "metadata": {
    "cell_id": "00001-8f89f9e7-5c95-48c7-bb61-ecf4ee57006b",
    "collapsed": true,
    "deepnote_cell_type": "markdown",
    "pycharm": {
     "name": "#%% md\n"
    }
   },
   "source": [
    "## Imports\n",
    "\n",
    "Im Rahmen dieses Notebooks werden für die Darstellung und Durchführung der besagten Analyse folgende drei Bibliotheken \n",
    "verwendet:\n",
    "\n",
    "* [``chess``](https://python-chess.readthedocs.io/en/latest/): Die Python-Schach-Bibliothek, mit welcher Spielzustände \n",
    "dargestellt werden, Züge und Zustände ausgewertet etc.\n",
    "* [``clear_output``](https://ipython.readthedocs.io/en/stable/api/generated/IPython.display.html) aus der \n",
    "IPython-display-Library: Eine Funktion, die für die Fortschrittsanzeige von Berechnungen verwendet wird.\n",
    "* [``pickle``](https://docs.python.org/3/library/pickle.html): Wird zum Speichern der Ergebnisse verwendet.\n",
    "* [``os``](https://docs.python.org/3/library/os.html): Wird zum Löschen einer temporären Datei verwendet."
   ]
  },
  {
   "cell_type": "code",
   "execution_count": 439,
   "metadata": {
    "cell_id": "00002-d30c901b-6df9-4cc9-aefb-720df6c6f30e",
    "deepnote_cell_type": "code",
    "deepnote_to_be_reexecuted": false,
    "execution_millis": 41,
    "execution_start": 1638464280543,
    "pycharm": {
     "name": "#%%\n"
    },
    "source_hash": "4a4bd8b4"
   },
   "outputs": [],
   "source": [
    "import chess\n",
    "from IPython.display import clear_output\n",
    "import json#import pickle\n",
    "import os"
   ]
  },
  {
   "cell_type": "markdown",
   "metadata": {
    "pycharm": {
     "name": "#%% md\n"
    }
   },
   "source": [
    "## Funktionen zur Bestimmung aller gültigen Positionen\n",
    "\n",
    "Ein Schachbrett besteht aus insgesamt acht Spalten und Zeilen. Die Spalten werden durch Buchstaben gekennzeichnet, \n",
    "die Zeilen wiederum durch Zahlen. Aus der Kombination einer Spalte (z.B. a) und einer Zahl (z.B. 1) erhält man eine \n",
    "eindeutige Kennzeichnung für ein Feld (z.B. a1).\n",
    "\n",
    "Die folgende Funktion kombiniert die Buchstaben a bis h mit den Zahlen 1 bis 8 zu Feldnamen und gibt diese zurück."
   ]
  },
  {
   "cell_type": "code",
   "execution_count": 440,
   "metadata": {
    "pycharm": {
     "name": "#%%\n"
    }
   },
   "outputs": [],
   "source": [
    "def get_all_squares():\n",
    "    columns = {\n",
    "        1 : 'a',\n",
    "        2 : 'b',\n",
    "        3 : 'c',\n",
    "        4 : 'd',\n",
    "        5 : 'e',\n",
    "        6 : 'f',\n",
    "        7 : 'g',\n",
    "        8 : 'h'\n",
    "    }\n",
    "    \n",
    "    all_squares = []\n",
    "    for row in range(1,9):\n",
    "        for col_num in range(1,9):\n",
    "            column = columns[col_num]\n",
    "            all_squares.append(chess.parse_square(column + str(row)))\n",
    "            \n",
    "    return all_squares"
   ]
  },
  {
   "cell_type": "markdown",
   "metadata": {
    "pycharm": {
     "name": "#%% md\n"
    }
   },
   "source": [
    "Das Erstellen jeglicher Boards wird mit der Funktion ``place_piece_everywhere_on_every_board`` umgesetzt. \n",
    "Diese erhält folgende Parameter: \n",
    "\n",
    "* ``piece``: Die zu platzierende Figur, als Objekt der chess-Library\n",
    "* ``list_of_boards``: Eine Liste mit Board-Objekten, auf welchen die Figur platziert werden soll\n",
    "\n",
    "Die Funktion betrachtet jede Situation in der `list_of_boards` und platziert das `piece` auf jeden freien \n",
    "Platz in dieser. Jedes Mal, wenn eine Figur platziert wird, wird eine Kopie des Board-Objektes erstellt, \n",
    "die ``list_of_boards`` wird nicht verändert.  \n",
    "Wenn der zweite König platziert wird, wird die Situation zusätzlich auf Validität überprüft.\n",
    "Wenn alle Figuren platziert wurden, werden nur Boards, in denen Schwarz matt ist zurückgegeben. \n",
    "\n",
    "\n",
    "//TODO: Brauchen wir das? Stroetmann sagte ja das ist bei simplen Funktionen nicht nötig\n",
    "* Über alle Spielbretter in der ``list_of_boards`` iterieren.\n",
    "* Die bereits verwendeten Spielfelder speichern.\n",
    "* Über alle Spielfelder iterieren.\n",
    "* Wenn das Spielfeld noch nicht benutzt ist:\n",
    "  * Das Spielbrett kopieren und die Figur auf diesem Feld platzieren.\n",
    "  * Die Kopie der Ergebnisliste anfügen.\n",
    "\n",
    "Die Funktion gibt als Ergebnis eine Liste aller generierten Zustände gespeichert in ``result_list`` zurück."
   ]
  },
  {
   "cell_type": "code",
   "execution_count": 441,
   "metadata": {
    "pycharm": {
     "name": "#%%\n"
    }
   },
   "outputs": [],
   "source": [
    "def place_figure_everywhere_on_every_board(piece, list_of_boards, piece_count):\n",
    "    result_list = []\n",
    "    all_squares = get_all_squares()\n",
    "    \n",
    "    for board in list_of_boards:\n",
    "        squares_used = list(board.piece_map().keys())\n",
    "        for square in all_squares:\n",
    "            if square not in squares_used:\n",
    "                tmp_board = board.copy()\n",
    "                tmp_board.set_piece_at(square, piece)\n",
    "                \n",
    "                if len(squares_used) >= 1 and not tmp_board.is_valid(): \n",
    "                    # Don't process invalid boards further than the second king\n",
    "                    continue\n",
    "                    \n",
    "                outcome = tmp_board.outcome()\n",
    "                if outcome is not None:\n",
    "                    if outcome.winner is not None and tmp_board.is_valid():\n",
    "                        result_list.append(tmp_board)\n",
    "                        continue\n",
    "                        \n",
    "                if len(squares_used) + 1 < piece_count: #Board is valid, but needs more pieces\n",
    "                    result_list.append(tmp_board)\n",
    "    return result_list"
   ]
  },
  {
   "cell_type": "markdown",
   "metadata": {
    "pycharm": {
     "name": "#%% md\n"
    }
   },
   "source": [
    "## Die Ursprungsmenge $S_0$ erstellen\n",
    "Als Basis der Berechnung dient die Liste $S_0$. Diese enthält alle möglichen Konstellationen der Spielfiguren auf dem\n",
    "Spielbrett, in denen Weiß Schwarz besiegt hat.\n",
    "Hierfür werden die Figuren mit der Funktion ``place_figure_everywhere_on_every_board`` auf allen \n",
    "Positionen platziert.   \n",
    "\n",
    "Die Funktion `setup_boards` übernimmt dies und gibt sowohl die Liste $S_0$ als auch eine Menge an Tupeln der Form\n",
    "`(Bool, String)` zurück, welche verwendet wird, um effizient bereits verwendete Boards zu identifizieren."
   ]
  },
  {
   "cell_type": "code",
   "execution_count": 442,
   "metadata": {
    "pycharm": {
     "name": "#%%\n"
    }
   },
   "outputs": [],
   "source": [
    "def setup_boards(user_supplied_pieces):\n",
    "    pieces_to_place = create_piece_list(user_supplied_pieces)\n",
    "    \n",
    "    empty_board = chess.Board().empty()\n",
    "    empty_board.turn = chess.BLACK\n",
    "    s_0 = [empty_board]\n",
    "    \n",
    "    piece_count = len(pieces_to_place)\n",
    "    for piece in pieces_to_place:\n",
    "        s_0 = place_figure_everywhere_on_every_board(piece, s_0, piece_count)\n",
    "        \n",
    "    used_boards = set()\n",
    "    for board in s_0:\n",
    "        used_boards.add((board.turn,board.__str__()))\n",
    "\n",
    "    print(str(len(s_0)) + \" Boards in S_0\")\n",
    "    return s_0, used_boards\n",
    "\n",
    "# A queen will automatically be replaced by a pawn\n",
    "def create_piece_list(user_supplied_pieces):\n",
    "    if chess.Piece.from_symbol(\"P\") in user_supplied_pieces:\n",
    "        user_supplied_pieces.remove(chess.Piece.from_symbol(\"P\"))\n",
    "        user_supplied_pieces.append(chess.Piece.from_symbol(\"Q\"))\n",
    "        \n",
    "    return [chess.Piece.from_symbol(\"K\"), chess.Piece.from_symbol(\"k\")] + user_supplied_pieces"
   ]
  },
  {
   "cell_type": "markdown",
   "metadata": {
    "cell_id": "00017-71dbb18a-b442-4217-96bc-991bdbbe4099",
    "deepnote_cell_type": "markdown",
    "pycharm": {
     "name": "#%% md\n"
    }
   },
   "source": [
    "Der nächste Schritt besteht darin sämtliche $S_{n}$ Mengen zu bestimmen. Hierzu werden die bereits bestimmten $S_n$\n",
    "Mengen genommen und alle Bretter aus S selektiert, die innerhalb eines Zugs in $S_n$ landen. Die Umsetzung erfolgt \n",
    "durch die Funktion ``previous_states``. Diese erhält unter anderem zwei Listen, mit denen dieses Verfahren durchgeführt\n",
    "werden soll. Alle Funktionsparameter können aus der nachfolgenden Liste entnommen werden:\n",
    "\n",
    "* ``s_n``: Die Liste mit Board-Objekten, deren Spielbretter sich $n$ Züge vom Sieg entfernt befinden.\n",
    "* ``s``: Die Liste, aus welcher die nächste Stufe ($n+1$) ausgewählt werden soll.\n",
    "* ``s_white_ascii``: Liste der ASCII Representationen aller bereits zugeordneten Spielbretter mit weiß am Zug.\n",
    "* ``iteration_count``: $m$ des $S_m$, welches gerade berechnet wird.\n",
    "\n",
    "Der Algorithmus zur Bestimmung der Menge $S_{n+1}$ wird im folgenden Abschnit beschrieben.\n",
    "\n",
    "* Für effizientere Vergleiche wird für jedes Objekt in $S$ die ASCII-Representation gespeichert.\n",
    "* Über die Objekte in $S_n$ iterieren.\n",
    "  * Den Spieler, welcher am Zug ist wechseln (Da, um im aktuellen Zustand anzukommen, der andere Spieler einen Zug\n",
    "  gemacht hat)\n",
    "  * Pseudo legale Spielzüge von der Bibliothek berechnen lassen:\n",
    "    Ein pseudo legaler Spielzug ist ein Spielzug, welcher die grundsätzlichen Bewegungsregeln der Figur einhält,\n",
    "    aber das Schachbrett unter Umständen in einen nicht regelkonformen Zustand versetzt.\n",
    "  * Über diese Spielzüge iterieren.\n",
    "    * Den Zug ausführen.\n",
    "    * Überprüfen, ob das Board sich in einem erlaubten Zustand befindet.\n",
    "      Wenn nein, den Schleifendurchlauf abbrechen.\n",
    "    * Mittels der ASCII-Representation überprüfen, ob das modifizierte Spielbrett in $S$ gefunden wird.\n",
    "    * Wenn es gefunden wird, die ASCII-Representation zu $s_{n+1-ASCII}$ hinzufügen.\n",
    "    * Den Zug rückgängig machen.\n",
    "  * Den Spieler, welcher ursprünglich am Zug war, wiederherstellen.\n",
    "* Über $S$ iterieren.\n",
    "  * Wenn sich das Spielbrett in $S_{n+1-ASCII}$ befindet, wird es $S_{n+1}$ hinzugefügt.\n",
    "    * Besonderheit für Spielbretter, bei welchen Schwarz am Zug ist: Diese werden nur zu $S_{n+1}$ hinzugefügt, wenn\n",
    "    alle Züge, welche von dieser Position möglich sind, in einem $S_m$ mit $m < n$ enden.\n",
    "    Für diese Überprüfung wird $S_{white-ASCII}$ verwendet.\n",
    "  * Wenn sich das Spielbrett nicht in $S_{n+1-ASCII}$ befindet, wird es $S_{tmp}$ hinzugefügt.\n",
    "* Wurden Positionen mit Weiß am Zug berechnet, diese $S_{white-ASCII}$ hinzufügen.\n",
    "\n",
    "Außerdem müssen bei der Durchführung des Algorithmus weitere Aspekte berücksichtig werden:\n",
    "\n",
    "* Da Bauern nur in eine Richtung laufen können, müssen die rückwärts Schritte eines Bauern manuell durchgeführt werden. Bauern werden daher im ersten Schritt ignoriert.\n",
    "* Bauern, die die oberste Reihe des Spielfeldes erreichen können zu einer anderen Figur eingetauscht werden. Dieser Schritt wird nicht durch die Pseudo-Legal-Moves abgedeckt, daher wird, sollte sich eine Königin in der obersten Reihe befinden, diese manuell durch einen Bauern ersetzt.\n",
    "\n",
    "Sobald die Funktion ausgeführt wurde, wird ein Tupel bestehend aus den Mengen $S_{n+1}$, $S_{tmp}$ und $S_{white-ASCII}$ zurückgegeben."
   ]
  },
  {
   "cell_type": "code",
   "execution_count": 443,
   "metadata": {
    "cell_id": "00018-6f30589f-4a50-41e1-aabe-3338bcbc70b9",
    "deepnote_cell_type": "code",
    "deepnote_to_be_reexecuted": false,
    "execution_millis": 1,
    "execution_start": 1638464319562,
    "pycharm": {
     "name": "#%%\n"
    },
    "source_hash": "d6bac79e"
   },
   "outputs": [],
   "source": [
    "def previous_states(s_n, used_boards, iteration_count, user_wants_pawn):\n",
    "    #variables\n",
    "    s_n1 = []\n",
    "    s_n1_tuples = set()\n",
    "\n",
    "    for i in range(len(s_n)):\n",
    "        status = \"Calculating S\" + str(iteration_count) + \" - Board \" + str(i+1) + \" of \" + str(len(s_n)) + \\\n",
    "                     \" from S\" + str(iteration_count-1)\n",
    "        clear_output(wait=True)\n",
    "        print(status)\n",
    "\n",
    "        # Copy current board and invert the player\n",
    "        chess_board = s_n[i].copy()\n",
    "        chess_board.turn = chess_board.turn ^ True\n",
    "\n",
    "        # Find all Pawns\n",
    "        pawn_positions = find_pawns(chess_board)\n",
    "        \n",
    "        # try moves and check if they lead to new boards\n",
    "        tmp_list, tmp_set = regular_moves(chess_board, used_boards, s_n1_tuples, pawn_positions)\n",
    "        s_n1 += tmp_list\n",
    "        s_n1_tuples |= tmp_set\n",
    "        \n",
    "        if user_wants_pawn:\n",
    "            # Push all pawns one row back and check if this leads to new boards\n",
    "            if len(pawn_positions) > 0:\n",
    "                tmp_list, tmp_set = pawn_moves(chess_board, used_boards, s_n1_tuples)\n",
    "                s_n1 += tmp_list\n",
    "                s_n1_tuples |= tmp_set\n",
    "            \n",
    "            # Exchange Queens with Pawns\n",
    "            queen_positions = check_top_row_for_queen(chess_board)\n",
    "            if queen_positions:\n",
    "                tmp_list, tmp_set = replace_queen_with_pawn(chess_board, used_boards, s_n1_tuples, queen_positions)\n",
    "                s_n1 += tmp_list\n",
    "                s_n1_tuples |= tmp_set\n",
    "\n",
    "\n",
    "        # Restore the original state of the board\n",
    "        chess_board.turn = chess_board.turn ^ True\n",
    "\n",
    "    # Only needed for Black-Moves\n",
    "    if iteration_count % 2 == 0:\n",
    "        clear_output(wait=True)\n",
    "        print(\"Calculating S\" + str(iteration_count) + \" - Checking Black Moves for determinism\")\n",
    "        s_n1, s_n1_tuples = check_black_determinism(s_n1, used_boards)\n",
    "\n",
    "\n",
    "    clear_output(wait=True)\n",
    "    print(\"Done with S\" + str(iteration_count))\n",
    "\n",
    "    return s_n1, used_boards | s_n1_tuples"
   ]
  },
  {
   "cell_type": "markdown",
   "metadata": {
    "pycharm": {
     "name": "#%% md\n"
    }
   },
   "source": [
    "## Hilfsfunktionen für die Berechnung"
   ]
  },
  {
   "cell_type": "code",
   "execution_count": 444,
   "metadata": {
    "pycharm": {
     "name": "#%%\n"
    }
   },
   "outputs": [],
   "source": [
    "def regular_moves(chess_board, used_boards, s_n1_tuples, pawn_positions):\n",
    "    new_boards = []\n",
    "    new_tuples = set()\n",
    "    \n",
    "    for pLMove in chess_board.pseudo_legal_moves:\n",
    "            if chess.square_name(pLMove.from_square) not in pawn_positions:\n",
    "                chess_board.push(pLMove)\n",
    "                chess_board.turn = chess_board.turn ^ True\n",
    "                if not chess_board.is_valid():\n",
    "                    chess_board.turn = chess_board.turn ^ True\n",
    "                    chess_board.pop()\n",
    "                    continue\n",
    "                # If the new board is found in S, it can be reached in one step\n",
    "                tuple_rep = (chess_board.turn,chess_board.__str__())\n",
    "                if tuple_rep not in used_boards and tuple_rep not in s_n1_tuples:\n",
    "                #if tuple_rep not in known_boards:\n",
    "                    new_boards.append(chess_board.copy())\n",
    "                    new_tuples.add(tuple_rep)\n",
    "                chess_board.turn = chess_board.turn ^ True\n",
    "                chess_board.pop()\n",
    "    \n",
    "    return new_boards, new_tuples\n",
    "\n",
    "\n",
    "'''\n",
    "* As pawns only move forward there is no backwards-step in the pseudo legal moves\n",
    "* to mitigate this the pawn is moved back one row manually\n",
    "'''\n",
    "def pawn_moves(chess_board, used_boards, s_n1_tuples):\n",
    "    new_boards = []\n",
    "    new_tuples = set()\n",
    "    \n",
    "    for pawn in chess_board.pieces(chess.PAWN, True):\n",
    "        if chess_board.piece_at(pawn - 9) is None:\n",
    "            chess_board.remove_piece_at(pawn)\n",
    "            chess_board.set_piece_at(pawn - 9, chess.Piece.from_symbol('P'))\n",
    "            if chess_board.is_valid():\n",
    "                tuple_rep = (chess_board.turn,chess_board.__str__())\n",
    "                if tuple_rep not in used_boards and tuple_rep not in s_n1_tuples:\n",
    "                    new_boards.append(chess_board.copy())\n",
    "                    new_tuples.add(tuple_rep)\n",
    "            chess_board.remove_piece_at(pawn - 9)\n",
    "            chess_board.set_piece_at(pawn, chess.Piece.from_symbol('P'))\n",
    "            \n",
    "    return new_boards, new_tuples\n",
    "\n",
    "\n",
    "'''\n",
    "* As pawns can be exchanged to other figures and this cannot be undone this exchange can also not be reversed\n",
    "* through the pseudo legal moves.\n",
    "* To mitigate this a pawn will be placed in the top row in the spot of a queen\n",
    "'''\n",
    "def replace_queen_with_pawn(chess_board, used_boards, s_n1_tuples, queen_positions):\n",
    "    new_boards = []\n",
    "    new_tuples = set()\n",
    "    \n",
    "    for square in queen_positions:\n",
    "        chess_board.remove_piece_at(square)\n",
    "        chess_board.set_piece_at(square - 9, chess.Piece.from_symbol('P'))\n",
    "        if chess_board.is_valid():\n",
    "            tuple_rep = (chess_board.turn,chess_board.__str__())\n",
    "            if tuple_rep not in used_boards and tuple_rep not in s_n1_tuples:\n",
    "                new_boards.append(chess_board.copy())\n",
    "                new_tuples.add(tuple_rep)\n",
    "        chess_board.remove_piece_at(square - 9)\n",
    "        chess_board.set_piece_at(square, chess.Piece.from_symbol('Q'))\n",
    "    return new_boards, new_tuples\n",
    "        \n",
    "\n",
    "def find_pawns(chess_board):\n",
    "    result = []\n",
    "    for pawn in chess_board.pieces(chess.PAWN, True):\n",
    "            result.append(chess.square_name(pawn))\n",
    "    return result"
   ]
  },
  {
   "cell_type": "markdown",
   "metadata": {
    "pycharm": {
     "name": "#%% md\n"
    }
   },
   "source": [
    "Ein Problem, das bei der Verwendung der rückwärts-Analyse auftritt, liegt in dem Szenario: \n",
    "\"König und Bauer gegen König\". Dieses Szenario beinhaltet nämlich die Umwandlung des Bauerns in eine andere \n",
    "Figur (Dame, Turm, Läufer, Springer). Da in den meisten Fällen die Umwandlung in eine Dame am sinnvollsten ist, \n",
    "wurde, wenn der Nutzer einen Bauern als Figur zur Berechnung eingetragen hat, dieser zuvor durch eine Dame ersetzt.\n",
    "Die sich nun in der Situation befindenden Damen müssen, wo möglich, wieder durch Bauern ersetzt werden. \n",
    "\n",
    "\n",
    "Die Funktion ``check_top_row_for_queen`` überprüft ob ein solcher Tausch möglich ist. Sie erhält als Parameter ein \n",
    "``board``, für welches die Felder der obersten Reihe (Sichtweise weiß) überprüft und jedes \n",
    "zurückgegeben wird, auf dem sich eine Dame befindet."
   ]
  },
  {
   "cell_type": "code",
   "execution_count": 445,
   "metadata": {
    "pycharm": {
     "name": "#%%\n"
    }
   },
   "outputs": [],
   "source": [
    "def check_top_row_for_queen(board):\n",
    "    return_list = []\n",
    "    for i in range(56, 64):\n",
    "        if board.piece_type_at(i) == chess.QUEEN:\n",
    "            return_list.append(i)\n",
    "\n",
    "    if len(return_list) > 0:\n",
    "        return return_list\n",
    "    else:\n",
    "        return False\n",
    "    "
   ]
  },
  {
   "cell_type": "markdown",
   "metadata": {
    "pycharm": {
     "name": "#%% md\n"
    }
   },
   "source": []
  },
  {
   "cell_type": "code",
   "execution_count": 446,
   "metadata": {
    "pycharm": {
     "name": "#%%\n"
    }
   },
   "outputs": [],
   "source": [
    "'''\n",
    "* We can choose every turn white does, but not for black.\n",
    "* If one particular move from black brings the board from S_n to S_n-1 it is not guaranteed that every move\n",
    "* black can do does so as well.\n",
    "* To mitigate this only boards where every move ends up in a lower denomination of S will be added to the currently\n",
    "* calculated one.\n",
    "* For efficiency an ascii representation is carried through all calculations.\n",
    "'''\n",
    "def check_black_determinism(s_n1, used_boards):\n",
    "    s_n1_tmp = []\n",
    "    s_n1_tuples_tmp = set()\n",
    "    \n",
    "    for chess_board in s_n1:\n",
    "        include = True\n",
    "        if not chess_board.turn:\n",
    "            for move in chess_board.legal_moves:\n",
    "                chess_board.push(move)\n",
    "                tuple_rep = (chess_board.turn,chess_board.__str__())\n",
    "                chess_board.pop()\n",
    "                if tuple_rep not in used_boards:\n",
    "                    include = False\n",
    "        if include:\n",
    "            s_n1_tmp.append(chess_board)\n",
    "            s_n1_tuples_tmp.add((chess_board.turn,chess_board.__str__()))\n",
    "    \n",
    "    return s_n1_tmp, s_n1_tuples_tmp"
   ]
  },
  {
   "cell_type": "markdown",
   "metadata": {
    "pycharm": {
     "name": "#%% md\n"
    }
   },
   "source": [
    "Export in Datei\n",
    "Nach erfolgreicher Berechnung werden die FENs der Boards in eine Datei geschrieben, um eine spätere Auswertung zu ermöglichen."
   ]
  },
  {
   "cell_type": "code",
   "execution_count": 447,
   "metadata": {
    "pycharm": {
     "name": "#%%\n"
    }
   },
   "outputs": [],
   "source": [
    "def create_empty_file(filename):\n",
    "    f = open(\"S_n_Results/\" + filename + \".preConvert\", \"w\")\n",
    "    f.write(\"\")\n",
    "    f.close()\n",
    "\n",
    "def append_to_file(s_n, filename):\n",
    "    s_n_ascii = []\n",
    "    for board in s_n:\n",
    "        s_n_ascii.append(board.fen())\n",
    "\n",
    "    f = open(\"S_n_Results/\" + filename + \".preConvert\", \"a\")\n",
    "    f.write(\"\\n\")\n",
    "    f.write(json.dumps(s_n_ascii))\n",
    "    f.close()\n",
    "\n",
    "def convert_file(filename):\n",
    "    s_n_seq_ascii = []\n",
    "    f = open(\"S_n_Results/\" + filename + \".preConvert\", \"r\")\n",
    "    lines = f.readlines()\n",
    "    first = True\n",
    "    for line in lines:\n",
    "        # First line is empty\n",
    "        if first:\n",
    "            first = False\n",
    "            continue\n",
    "\n",
    "        tmp_list = []\n",
    "        tmp = json.loads(line)\n",
    "\n",
    "        for board in tmp:\n",
    "            tmp_list.append(board)\n",
    "        s_n_seq_ascii.append(tmp_list)\n",
    "    f.close()\n",
    "\n",
    "    f = open(\"S_n_Results/\" + filename + \".chessAI\", \"w\")\n",
    "    f.write(json.dumps(s_n_seq_ascii))\n",
    "    f.close()\n",
    "\n",
    "    if os.path.exists(\"S_n_Results/\" + filename + \".preConvert\"):\n",
    "        os.remove(\"S_n_Results/\" + filename + \".preConvert\")"
   ]
  },
  {
   "cell_type": "markdown",
   "metadata": {
    "cell_id": "00021-8548a15b-c683-4b4b-8b03-fa5cd07bfdd3",
    "deepnote_cell_type": "markdown",
    "pycharm": {
     "name": "#%% md\n"
    }
   },
   "source": [
    "Mit den zuvor definierten Funktionen ist es nun möglich alle $S_n$ zu bestimmen. Hierfür wird die Funktion ``one_step_away`` solange aufgerufen, bis sich die Menge $S$ nicht mehr verändert (Kann auch leer sein)."
   ]
  },
  {
   "cell_type": "code",
   "execution_count": 448,
   "metadata": {
    "cell_id": "00022-1198b1a3-a0e9-4813-9774-182d1b5079c6",
    "deepnote_cell_type": "code",
    "deepnote_to_be_reexecuted": false,
    "execution_millis": 81020,
    "execution_start": 1638464396132,
    "pycharm": {
     "name": "#%%\n"
    },
    "source_hash": "5ee856a1"
   },
   "outputs": [],
   "source": [
    "def run(s_n, used_boards, n, user_wants_pawn, filename):\n",
    "    if n == 0:\n",
    "        append_to_file(s_n, filename)\n",
    "\n",
    "    while True:\n",
    "        n += 1\n",
    "        s_n, used_boards = previous_states(s_n, used_boards, n, user_wants_pawn)\n",
    "        if not s_n: #an empty list is false\n",
    "            break\n",
    "        append_to_file(s_n, filename)\n",
    "\n",
    "    print(\"Done\")\n",
    "    print(str(n) + \" S-Lists calculated\")\n",
    "\n",
    "    convert_file(filename)\n",
    "\n",
    "    print(\"File converted\")\n",
    "\n",
    "def run_from_start(user_supplied_pieces, filename):\n",
    "    user_wants_pawn = chess.Piece.from_symbol(\"P\") in user_supplied_pieces\n",
    "    \n",
    "    s_0, used_boards = setup_boards(user_supplied_pieces)\n",
    "\n",
    "    create_empty_file(filename)\n",
    "    run(s_0, used_boards, 0, user_wants_pawn, filename)"
   ]
  },
  {
   "cell_type": "code",
   "execution_count": 449,
   "metadata": {
    "pycharm": {
     "name": "#%%\n"
    }
   },
   "outputs": [],
   "source": [
    "def resume_from_file(filename):\n",
    "    used_boards = set()\n",
    "    s_n = []\n",
    "    count = -1\n",
    "\n",
    "    f = open(\"S_n_Results/\" + filename + \".preConvert\", \"r\")\n",
    "    lines = f.readlines()\n",
    "    first = True\n",
    "    for line in lines:\n",
    "        # First line is empty\n",
    "        if first:\n",
    "            first = False\n",
    "            continue\n",
    "\n",
    "        tmp_list = []\n",
    "        tmp_set = set()\n",
    "        tmp = json.loads(line)\n",
    "\n",
    "        for fen in tmp:\n",
    "            chess_board = chess.Board(fen)\n",
    "            tmp_list.append(chess_board)\n",
    "            tmp_set.add((chess_board.turn,chess_board.__str__()))\n",
    "        s_n = tmp_list\n",
    "        used_boards |= tmp_set\n",
    "        count += 1\n",
    "    f.close()\n",
    "    print(\"Starting at S\" + str(count) + \" (\" + str(len(s_n)) + \" Boards)\")\n",
    "    \n",
    "    # Adding a few Pawns to the result only slightly increases the file_size, and the value of user_wants_pawn is \\\n",
    "    # currently not stored\n",
    "    run(s_n, used_boards, count, True, filename)"
   ]
  },
  {
   "cell_type": "markdown",
   "metadata": {
    "pycharm": {
     "name": "#%% md\n"
    }
   },
   "source": [
    "## Konfigurations Variablen\n",
    "\n",
    "Für die Bestimmung der gewonnenen Spielbretter, müssen nun die Spielfiguren angegeben werden, für die die\n",
    "Endspiel-Datenbank berechnet werden soll. Hierfür werden in der Liste ``pieces_to_place`` alle Figuren aufgeführt.\n",
    "Die Einträge der Liste werden als Tupel bestehend aus Figur und Farbe gespeichert.\n",
    "Bsp.: ``(chess.KING, chess.WHITE)``\n",
    "Die Reihenfolge oder Position der Figur ist für die Berechnung irrelevant.\n",
    "Diese wird erst im nächsten Schritt (der Auswertung) benötigt.\n",
    "\n",
    "Der ``Filename`` wird für das Ergebnis verwendet."
   ]
  },
  {
   "cell_type": "code",
   "execution_count": 450,
   "metadata": {
    "pycharm": {
     "name": "#%%\n"
    }
   },
   "outputs": [],
   "source": [
    "WHITE_PIECES_TO_PLACE = [chess.Piece.from_symbol('R')]\n",
    "\n",
    "FILENAME = \"S_n_seq_rook_test\""
   ]
  },
  {
   "cell_type": "code",
   "execution_count": 451,
   "metadata": {
    "pycharm": {
     "name": "#%%\n"
    }
   },
   "outputs": [
    {
     "name": "stdout",
     "output_type": "stream",
     "text": [
      "Done with S33\n",
      "Done\n",
      "33 S-Lists calculated\n",
      "File converted\n"
     ]
    }
   ],
   "source": [
    "run_from_start(WHITE_PIECES_TO_PLACE, FILENAME)"
   ]
  },
  {
   "cell_type": "code",
   "execution_count": 452,
   "metadata": {
    "pycharm": {
     "name": "#%%\n"
    }
   },
   "outputs": [],
   "source": [
    "#resume_from_file(FILENAME)"
   ]
  },
  {
   "cell_type": "code",
   "execution_count": 452,
   "metadata": {
    "pycharm": {
     "name": "#%%\n"
    }
   },
   "outputs": [],
   "source": []
  }
 ],
 "metadata": {
  "deepnote": {},
  "deepnote_execution_queue": [],
  "deepnote_notebook_id": "a5659b7c-2299-4f56-8746-6a0bc95261a5",
  "kernelspec": {
   "display_name": "Python 3 (ipykernel)",
   "language": "python",
   "name": "python3"
  },
  "language_info": {
   "codemirror_mode": {
    "name": "ipython",
    "version": 3
   },
   "file_extension": ".py",
   "mimetype": "text/x-python",
   "name": "python",
   "nbconvert_exporter": "python",
   "pygments_lexer": "ipython3",
   "version": "3.9.10"
  }
 },
 "nbformat": 4,
 "nbformat_minor": 1
}