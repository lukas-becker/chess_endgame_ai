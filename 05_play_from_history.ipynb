{
 "cells": [
  {
   "cell_type": "code",
   "execution_count": null,
   "metadata": {
    "pycharm": {
     "name": "#%%\n"
    }
   },
   "outputs": [],
   "source": [
    "from IPython.core.display import HTML\n",
    "with open('style.html', 'r') as file:\n",
    "     css = file.read()\n",
    "HTML(css)"
   ]
  },
  {
   "cell_type": "code",
   "execution_count": null,
   "metadata": {
    "pycharm": {
     "name": "#%%\n"
    }
   },
   "outputs": [],
   "source": [
    "%run 11_imports.ipynb"
   ]
  },
  {
   "cell_type": "markdown",
   "metadata": {
    "pycharm": {
     "name": "#%% md\n"
    }
   },
   "source": [
    "# Wiedergeben einer bereits gespielten Partie\n",
    "\n",
    "In diesem Bereich werden Funktionen definiert, die das Wiedergeben einer Partie ermöglichen. \n",
    "Hierfür wird eine Spiel-Historie eingelesen. \n",
    "Historien werden bei der Ausführung des ``03_play_against_ai.ipynb`` Notebooks erstellt und in dem Ordner ``Played_Games`` hinterlegt. \n",
    "Am Ende dieses Notebook wird der Spielverlauf mit einem selbst festgelegten Tempo der Züge dargestellt."
   ]
  },
  {
   "cell_type": "markdown",
   "metadata": {
    "pycharm": {
     "name": "#%% md\n"
    }
   },
   "source": [
    "## Importieren des Spielverlaufs\n",
    "\n",
    "Als ersten Schritt muss eine Schach-Historie eingelesen werden. \n",
    "Hierfür wird die Funktion ``get_lines_from_file()`` definiert, die für einen angegeben Dateinamen einer Schach-Historie (``g_filename``) die Zeilen der Datei ohne Zeilenumbruch (``\"\\n\"``) zurückgibt.\n",
    "Die Datei muss hierzu im Ordner `\\Played_Games` liegen.\n",
    "Die Datei, welche unter `g_filename` zu finden ist, muss dem Format entsprechen, das in ``03_play_against_ai`` gespeichert wird.\n",
    "Diese speichert in der ersten Zeile die Fen der Spielsituation. In den folgenden Zeilen werden die Züge der Spieler (jeweils zwei Halbzüge) gespeichert.\n",
    "Die Funktion gibt die Zeilen in der Datei als Liste ``lines`` zurück."
   ]
  },
  {
   "cell_type": "code",
   "execution_count": null,
   "metadata": {
    "pycharm": {
     "name": "#%%\n"
    }
   },
   "outputs": [],
   "source": [
    "def get_lines_from_file():\n",
    "    move_file = open(\"Played_Games/\" + g_filename + \".txt\", \"r\")\n",
    "    all_lines = move_file.readlines()\n",
    "\n",
    "    # Remove '\\n' from the lines\n",
    "    lines = [all_lines[x][:-1] for x in range(len(all_lines)) if len(all_lines[x]) > 12]\n",
    "    if len(all_lines) == len(lines) + 1:\n",
    "        lines += [all_lines[-1]]\n",
    "    return lines"
   ]
  },
  {
   "cell_type": "markdown",
   "metadata": {
    "pycharm": {
     "name": "#%% md\n"
    }
   },
   "source": [
    "## Auslesen der Startposition und Züge\n",
    "\n",
    "Um den zuvor gespielten Ablauf wiedergeben zu können, wird ein `board` Objekt der `chess` Bibliothek benötigt.\n",
    "Dieses wird im Verlauf des Notebooks mit Figuren gefüllt, und modifiziert."
   ]
  },
  {
   "cell_type": "code",
   "execution_count": null,
   "metadata": {
    "pycharm": {
     "name": "#%%\n"
    }
   },
   "outputs": [],
   "source": [
    "g_board = chess.Board(None)"
   ]
  },
  {
   "cell_type": "markdown",
   "metadata": {
    "pycharm": {
     "name": "#%% md\n"
    }
   },
   "source": [
    "Mit der Funktion ``set_board(fen)`` wird das zuvor erstellte Board initialisiert.\n",
    "Für die Initialisierung wird die als Parameter (`fen`) übergebene Fen, welche in der ersten Zeile der History-Datei gespeichert ist verwendet."
   ]
  },
  {
   "cell_type": "code",
   "execution_count": null,
   "metadata": {
    "pycharm": {
     "name": "#%%\n"
    }
   },
   "outputs": [],
   "source": [
    "def setup_board(fen):\n",
    "    global g_board\n",
    "    g_board.set_fen(fen)"
   ]
  },
  {
   "cell_type": "markdown",
   "metadata": {
    "pycharm": {
     "name": "#%% md\n"
    }
   },
   "source": [
    "Um den Spielverlauf darstellen zu können, werden die Spielzüge benötigt.\n",
    "Diese können mit der Funktion ``halfmoves_from_history(fullmove_history)`` ausgewertet werden.\n",
    "Es wird über die Züge, welche in der History-Datei gespeichert waren (`fullmove_history`) iteriert.\n",
    "Diese werden in Halbzüge aufgeteilt, zu `python-chess` Objekten konvertiert, und in einer Liste `moves` gespeichert.\n",
    "Die Liste der Halbzüge wird zurückgegeben."
   ]
  },
  {
   "cell_type": "code",
   "execution_count": null,
   "metadata": {
    "pycharm": {
     "name": "#%%\n"
    }
   },
   "outputs": [],
   "source": [
    "def halfmoves_from_history(fullmove_history):\n",
    "    moves = []\n",
    "    for line in fullmove_history:\n",
    "        split_moves = line.split(' ')\n",
    "        half_moves = [chess.Move.from_uci(m) for m in split_moves[1:] if len(m)]\n",
    "        moves.extend(half_moves)\n",
    "    return moves"
   ]
  },
  {
   "cell_type": "markdown",
   "metadata": {
    "pycharm": {
     "name": "#%% md\n"
    }
   },
   "source": [
    "## Spiel wiederholen\n",
    "\n"
   ]
  },
  {
   "cell_type": "markdown",
   "source": [
    "Die Funktion `replay_moves(movelist)` bekommt eine Liste von Halbzügen als Parameter `movelist` und führt diese auf dem `g_board` mit der eingestellten Verzögerung `g_delay` aus.\n",
    "Die Zwischenschritte werden mit ``display()`` angezeigt. "
   ],
   "metadata": {
    "collapsed": false,
    "pycharm": {
     "name": "#%% md\n"
    }
   }
  },
  {
   "cell_type": "code",
   "execution_count": null,
   "metadata": {
    "pycharm": {
     "name": "#%%\n"
    }
   },
   "outputs": [],
   "source": [
    "def replay_moves(movelist):\n",
    "    global g_board\n",
    "    for move in movelist:\n",
    "        time.sleep(g_delay)\n",
    "        clear_output()\n",
    "        g_board.push(move)\n",
    "        display(g_board)"
   ]
  },
  {
   "cell_type": "markdown",
   "source": [
    "Die Wiederholung des Spiels kann nun mit der Ausführung der Funktion ``start_replay()`` begonnen werden.\n",
    "Diese liest die Daten ein, erstellt das Board und führt alle Züge aus."
   ],
   "metadata": {
    "collapsed": false,
    "pycharm": {
     "name": "#%% md\n"
    }
   }
  },
  {
   "cell_type": "code",
   "execution_count": null,
   "metadata": {
    "pycharm": {
     "name": "#%%\n"
    }
   },
   "outputs": [],
   "source": [
    "def start_replay():\n",
    "    # setup\n",
    "    history_data = get_lines_from_file()\n",
    "    fen = history_data[0]\n",
    "    halfmoves = halfmoves_from_history(history_data[1:]) \n",
    "    print(halfmoves)\n",
    "    \n",
    "    # run\n",
    "    setup_board(fen)\n",
    "    display(g_board)\n",
    "    replay_moves(halfmoves)\n",
    "    print(\"finished!\")\n",
    "    "
   ]
  },
  {
   "cell_type": "markdown",
   "metadata": {
    "pycharm": {
     "name": "#%% md\n"
    }
   },
   "source": [
    "## Einstellungen\n",
    "Der Nutzer muss vor Beginn einer Ausgabe Einstellungen über die folgenden globalen Variablen tätigen:\n",
    "* `g_filename`: Dateiname der abzuspielenden Datei (muss im Verzeichnis `Played_Games` liegen), ohne Dateiendung .txt.\n",
    "* `g_delay`: Verzögerung in Sekunden zwischen den Zügen."
   ]
  },
  {
   "cell_type": "code",
   "execution_count": null,
   "metadata": {
    "pycharm": {
     "name": "#%%\n"
    }
   },
   "outputs": [],
   "source": [
    "g_filename = \"Move-History_2022-05-23_21_56_05\"\n",
    "g_delay = 1"
   ]
  },
  {
   "cell_type": "code",
   "execution_count": null,
   "metadata": {
    "pycharm": {
     "name": "#%%\n"
    },
    "scrolled": false
   },
   "outputs": [],
   "source": [
    "start_replay()\n"
   ]
  }
 ],
 "metadata": {
  "kernelspec": {
   "display_name": "Python 3 (ipykernel)",
   "language": "python",
   "name": "python3"
  },
  "language_info": {
   "codemirror_mode": {
    "name": "ipython",
    "version": 3
   },
   "file_extension": ".py",
   "mimetype": "text/x-python",
   "name": "python",
   "nbconvert_exporter": "python",
   "pygments_lexer": "ipython3",
   "version": "3.9.13"
  }
 },
 "nbformat": 4,
 "nbformat_minor": 1
}