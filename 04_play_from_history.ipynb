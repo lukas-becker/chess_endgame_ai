{
 "cells": [
  {
   "cell_type": "code",
   "execution_count": 81,
   "metadata": {
    "pycharm": {
     "name": "#%%\n"
    }
   },
   "outputs": [
    {
     "data": {
      "text/plain": "<IPython.core.display.HTML object>",
      "text/html": "<link href='http://fonts.googleapis.com/css?family=Alegreya+Sans:100,300,400,500,700,800,900,100italic,300italic,400italic,500italic,700italic,800italic,900italic' rel='stylesheet' type='text/css'>\n<link href='http://fonts.googleapis.com/css?family=Arvo:400,700,400italic' rel='stylesheet' type='text/css'>\n<link href='http://fonts.googleapis.com/css?family=PT+Mono' rel='stylesheet' type='text/css'>\n<link href='http://fonts.googleapis.com/css?family=Shadows+Into+Light' rel='stylesheet' type='text/css'>\n<link href='http://fonts.googleapis.com/css?family=Philosopher:400,700,400italic,700italic' rel='stylesheet' type='text/css'>\n\n<style>\n\n@font-face {\n    font-family: \"Computer Modern\";\n    src: url('http://mirrors.ctan.org/fonts/cm-unicode/fonts/otf/cmunss.otf');\n}\n\n.container { width: 100% }\n\n/* Formatting for header cells */\n.text_cell_render h1 {\n    font-family: 'Philosopher', sans-serif;\n    font-weight: 400;\n    font-size: 2.2em;\n    line-height: 100%;\n    color: rgb(0, 80, 120);\n    margin-bottom: 0.1em;\n    margin-top: 0.1em;\n    display: block;\n}\n.text_cell_render h2 {\n    font-family: 'Philosopher', serif;\n    font-weight: 400;\n    font-size: 1.9em;\n    line-height: 100%;\n    color: rgb(200,100,0);\n    margin-bottom: 0.1em;\n    margin-top: 0.1em;\n    display: block;\n}\n\n.text_cell_render h3 {\n    font-family: 'Philosopher', serif;\n    margin-top:12px;\n    margin-bottom: 3px;\n    font-style: italic;\n    color: rgb(94,127,192);\n}\n\n.text_cell_render h4 {\n    font-family: 'Philosopher', serif;\n}\n\n.text_cell_render h5 {\n    font-family: 'Alegreya Sans', sans-serif;\n    font-weight: 300;\n    font-size: 16pt;\n    color: grey;\n    font-style: italic;\n    margin-bottom: .1em;\n    margin-top: 0.1em;\n    display: block;\n}\n\n.text_cell_render h6 {\n    font-family: 'PT Mono', sans-serif;\n    font-weight: 300;\n    font-size: 10pt;\n    color: grey;\n    margin-bottom: 1px;\n    margin-top: 1px;\n}\n\n.text_cell_render em {\n    font-family: 'Philosopher', sans-serif;\n    color:        blue;\n    background-color: rgb(255,220,180);\n    font-size:    110%;\n    margin-left:   2px;\n    margin-right:  2px;\n    font-weight:   100;\n}\n\n.text_cell_render b {\n    color:            rgb(255,195,195);\n    background-color: rgb(0,0,0);\n    font-size:    110%;\n    margin-left:   2px;\n    margin-right:  2px;\n    font-weight:   650;\n}\n\n.text_cell_render tt {\n    font-size:    120%;\n    margin-left:   2px;\n    margin-right:  2px;\n    font-weight:   150;\n}\n\n.Codemirror {\n    font-family: \"PT Mono\";\n    font-size: 100%;\n}\n\n</style>"
     },
     "execution_count": 81,
     "metadata": {},
     "output_type": "execute_result"
    }
   ],
   "source": [
    "from IPython.core.display import HTML\n",
    "with open('style.html', 'r') as file:\n",
    "     css = file.read()\n",
    "HTML(css)"
   ]
  },
  {
   "cell_type": "code",
   "execution_count": 82,
   "metadata": {
    "pycharm": {
     "name": "#%%\n"
    }
   },
   "outputs": [],
   "source": [
    "%run Util/00_imports.ipynb\n",
    "%run Util/01_functions.ipynb"
   ]
  },
  {
   "cell_type": "markdown",
   "source": [
    "Allgemein:\n",
    "\n",
    "Lines vielleicht global?\n",
    "Oder zumindest als Parameter?"
   ],
   "metadata": {
    "collapsed": false,
    "pycharm": {
     "name": "#%% md\n"
    }
   }
  },
  {
   "cell_type": "markdown",
   "metadata": {
    "pycharm": {
     "name": "#%% md\n"
    }
   },
   "source": [
    "# Wiedergeben einer bereits gespielten Partie\n",
    "\n",
    "In diesem Bereich werden Funktionen definiert, die das Wiedergeben einer Partie ermöglichen. \n",
    "Hierfür wird eine Spiel-Historie eingelesen. \n",
    "Historien werden bei der Ausführung des ``03_play_against_ai.ipynb`` Notebooks erstellt und in dem Ordner ``Played_Games`` hinterlegt. \n",
    "Am Ende dieses Notebook wird der Spielverlauf mit einem selbst festgelegten Tempo der Züge dargestellt."
   ]
  },
  {
   "cell_type": "markdown",
   "metadata": {
    "collapsed": true,
    "pycharm": {
     "name": "#%% md\n"
    }
   },
   "source": [
    "## Importieren des Spielverlaufs\n",
    "\n",
    "Als ersten Schritt muss eine Schach-Historie eingelesen werden. \n",
    "Hierfür wird die Funktion ``get_lines_from_file()`` definiert, die für einen mitgegebenen relativen Pfad zu einer Schach-Historie (``file_name``) die Zeilen der Datei ohne Zeilenumbruch (``\"\\n\"``) zurückgibt.\n",
    "Die Datei, welche unter `file_name` zu finden ist, muss dem Format entsprechen, dass in ``03_play_against_ai`` gespeichert wird.  \n",
    "Dieses speichert in der ersten Zeile die Fen der Spielsituation. In den folgenden Zeilen werden die Züge der Spieler (jeweils zwei Halbzüge) gespeichert.\n",
    "\n",
    "> TODO: Dateiformat beschreiben?\n",
    "> TODO: Methode beschreiben - ich verstehe nicht was hier passiert."
   ]
  },
  {
   "cell_type": "code",
   "execution_count": 83,
   "metadata": {
    "pycharm": {
     "name": "#%%\n"
    }
   },
   "outputs": [],
   "source": [
    "def get_lines_from_file():\n",
    "    move_file = open(\"Played_Games/\" + g_filename + \".txt\", \"r\")\n",
    "    all_lines = move_file.readlines()\n",
    "\n",
    "    # Remove '\\n' from the lines\n",
    "    lines = [all_lines[x][:-1] for x in range(len(all_lines)) if len(all_lines[x]) > 12]\n",
    "    if len(all_lines) == len(lines) + 1:\n",
    "        lines += [all_lines[-1]]\n",
    "    return lines"
   ]
  },
  {
   "cell_type": "markdown",
   "metadata": {
    "pycharm": {
     "name": "#%% md\n"
    }
   },
   "source": [
    "## Auslesen der Startposition und Züge\n",
    "\n",
    "Um den zuvor gespielten Ablauf wiedergeben zu können, wird ein `board` Objekt der `chess` Bibliothek benötigt.\n",
    "Dieses wird im Verlauf des Notebooks mit Figuren gefüllt, und modifiziert."
   ]
  },
  {
   "cell_type": "code",
   "execution_count": 84,
   "metadata": {
    "pycharm": {
     "name": "#%%\n"
    }
   },
   "outputs": [],
   "source": [
    "g_board = chess.Board(None)"
   ]
  },
  {
   "cell_type": "markdown",
   "metadata": {
    "pycharm": {
     "name": "#%% md\n"
    }
   },
   "source": [
    "Mit der Funktion ``set_board`` wird das zuvor erstellte Board initialisiert.\n",
    "Für die Initialisierung wird die als Parameter (`fen`) übergebene Fen, welche in der ersten Zeile der History-Datei gespeichert ist verwendet."
   ]
  },
  {
   "cell_type": "code",
   "execution_count": 85,
   "metadata": {
    "pycharm": {
     "name": "#%%\n"
    }
   },
   "outputs": [],
   "source": [
    "def setup_board(fen):\n",
    "    global g_board\n",
    "    g_board.set_fen(fen)"
   ]
  },
  {
   "cell_type": "markdown",
   "metadata": {
    "pycharm": {
     "name": "#%% md\n"
    }
   },
   "source": [
    "Um den Spielverlauf darstellen zu können, werden die Spielzüge benötigt. Diese können mit der Funktion ``get_moves_from_file`` ausgewertet werden. \n",
    "Es wird über die Züge, welche in der History-Datei gespeichert waren (`fullmove_history`) iteriert. Diese werden in Halbzüge aufgeteilt, zu `python-chess` Objekten konvertiert, und in einer Liste `moves` gespeichert.\n",
    "Die Liste der Halbzüge wird zurückgegeben."
   ]
  },
  {
   "cell_type": "code",
   "execution_count": 86,
   "metadata": {
    "pycharm": {
     "name": "#%%\n"
    }
   },
   "outputs": [],
   "source": [
    "def halfmoves_from_history(fullmove_history):\n",
    "    moves = []\n",
    "    for line in fullmove_history:\n",
    "        split_moves = line.split(' ')\n",
    "        moves = [chess.Move.from_uci(m) for m in split_moves[1:] if len(m)]\n",
    "        moves.extend(moves)\n",
    "    return moves"
   ]
  },
  {
   "cell_type": "markdown",
   "metadata": {
    "pycharm": {
     "name": "#%% md\n"
    }
   },
   "source": [
    "## Spiel wiederholen\n",
    "\n",
    "Die Wiederholung des Spiels kann nun mit der Ausführung der Funktion ``start_replay`` begonnen werden. Diese benötigt als Parameter den relativen Pfad zu einer Spielhistorie (``file_name``) und zusätzlich eine Anzahl an Sekunden, die nach der Ausführung eines Zuges gewartet werden sollen (``delay``). Das Spiel wird daraufhin in der Konsole für den Nutzer schrittweise angezeigt."
   ]
  },
  {
   "cell_type": "code",
   "execution_count": 87,
   "metadata": {
    "pycharm": {
     "name": "#%%\n"
    }
   },
   "outputs": [],
   "source": [
    "def replay_moves(movelist):\n",
    "    global g_board\n",
    "    for move in movelist:\n",
    "        time.sleep(g_delay)\n",
    "        clear_output()\n",
    "        g_board.push(move)\n",
    "        display(g_board)"
   ]
  },
  {
   "cell_type": "code",
   "execution_count": 88,
   "outputs": [],
   "source": [
    "def start_replay():\n",
    "    # setup\n",
    "    history_data = get_lines_from_file()\n",
    "    fen = history_data[0]\n",
    "    halfmoves = halfmoves_from_history(history_data[1:]) \n",
    "    print(halfmoves)\n",
    "    \n",
    "    # run\n",
    "    setup_board(fen)\n",
    "    display(g_board)\n",
    "    replay_moves(halfmoves)\n",
    "    print(\"finished!\")\n",
    "    "
   ],
   "metadata": {
    "collapsed": false,
    "pycharm": {
     "name": "#%%\n"
    }
   }
  },
  {
   "cell_type": "markdown",
   "source": [
    "## Einstellungen\n",
    "Der Nutzer muss vor Beginn einer Ausgabe Einstellungen über die folgenden globalen Variablen tätigen:\n",
    "* `g_filename`: Dateiname der abzuspielenden Datei (muss im Verzeichnis `Played_Games` liegen), ohne Dateiendung .txt\n",
    "* `g_delay`: Verzögerung in Sekunden zwischen den Zügen"
   ],
   "metadata": {
    "collapsed": false,
    "pycharm": {
     "name": "#%% md\n"
    }
   }
  },
  {
   "cell_type": "code",
   "execution_count": 89,
   "outputs": [],
   "source": [
    "g_filename = \"Move-History_2022-05-07 11_41_19\"\n",
    "g_delay = 1"
   ],
   "metadata": {
    "collapsed": false,
    "pycharm": {
     "name": "#%%\n"
    }
   }
  },
  {
   "cell_type": "code",
   "execution_count": 90,
   "metadata": {
    "pycharm": {
     "name": "#%%\n"
    }
   },
   "outputs": [
    {
     "ename": "AssertionError",
     "evalue": "push() expects move to be pseudo-legal, but got a6g6 in 8/4k3/6Q1/8/8/8/8/4K3",
     "output_type": "error",
     "traceback": [
      "\u001B[1;31m---------------------------------------------------------------------------\u001B[0m",
      "\u001B[1;31mAssertionError\u001B[0m                            Traceback (most recent call last)",
      "\u001B[1;32m~\\AppData\\Local\\Temp/ipykernel_16400/2913952596.py\u001B[0m in \u001B[0;36m<module>\u001B[1;34m\u001B[0m\n\u001B[1;32m----> 1\u001B[1;33m \u001B[0mstart_replay\u001B[0m\u001B[1;33m(\u001B[0m\u001B[1;33m)\u001B[0m\u001B[1;33m\u001B[0m\u001B[1;33m\u001B[0m\u001B[0m\n\u001B[0m",
      "\u001B[1;32m~\\AppData\\Local\\Temp/ipykernel_16400/2843152722.py\u001B[0m in \u001B[0;36mstart_replay\u001B[1;34m()\u001B[0m\n\u001B[0;32m      9\u001B[0m     \u001B[0msetup_board\u001B[0m\u001B[1;33m(\u001B[0m\u001B[0mfen\u001B[0m\u001B[1;33m)\u001B[0m\u001B[1;33m\u001B[0m\u001B[1;33m\u001B[0m\u001B[0m\n\u001B[0;32m     10\u001B[0m     \u001B[0mdisplay\u001B[0m\u001B[1;33m(\u001B[0m\u001B[0mg_board\u001B[0m\u001B[1;33m)\u001B[0m\u001B[1;33m\u001B[0m\u001B[1;33m\u001B[0m\u001B[0m\n\u001B[1;32m---> 11\u001B[1;33m     \u001B[0mreplay_moves\u001B[0m\u001B[1;33m(\u001B[0m\u001B[0mhalfmoves\u001B[0m\u001B[1;33m)\u001B[0m\u001B[1;33m\u001B[0m\u001B[1;33m\u001B[0m\u001B[0m\n\u001B[0m\u001B[0;32m     12\u001B[0m     \u001B[0mprint\u001B[0m\u001B[1;33m(\u001B[0m\u001B[1;34m\"finished!\"\u001B[0m\u001B[1;33m)\u001B[0m\u001B[1;33m\u001B[0m\u001B[1;33m\u001B[0m\u001B[0m\n\u001B[0;32m     13\u001B[0m \u001B[1;33m\u001B[0m\u001B[0m\n",
      "\u001B[1;32m~\\AppData\\Local\\Temp/ipykernel_16400/3446544894.py\u001B[0m in \u001B[0;36mreplay_moves\u001B[1;34m(movelist)\u001B[0m\n\u001B[0;32m      4\u001B[0m         \u001B[0mtime\u001B[0m\u001B[1;33m.\u001B[0m\u001B[0msleep\u001B[0m\u001B[1;33m(\u001B[0m\u001B[0mg_delay\u001B[0m\u001B[1;33m)\u001B[0m\u001B[1;33m\u001B[0m\u001B[1;33m\u001B[0m\u001B[0m\n\u001B[0;32m      5\u001B[0m         \u001B[0mclear_output\u001B[0m\u001B[1;33m(\u001B[0m\u001B[1;33m)\u001B[0m\u001B[1;33m\u001B[0m\u001B[1;33m\u001B[0m\u001B[0m\n\u001B[1;32m----> 6\u001B[1;33m         \u001B[0mg_board\u001B[0m\u001B[1;33m.\u001B[0m\u001B[0mpush\u001B[0m\u001B[1;33m(\u001B[0m\u001B[0mmove\u001B[0m\u001B[1;33m)\u001B[0m\u001B[1;33m\u001B[0m\u001B[1;33m\u001B[0m\u001B[0m\n\u001B[0m\u001B[0;32m      7\u001B[0m         \u001B[0mdisplay\u001B[0m\u001B[1;33m(\u001B[0m\u001B[0mg_board\u001B[0m\u001B[1;33m)\u001B[0m\u001B[1;33m\u001B[0m\u001B[1;33m\u001B[0m\u001B[0m\n",
      "\u001B[1;32mc:\\users\\lukas\\studium\\5. semester\\studienarbeit\\projekt\\venv\\lib\\site-packages\\chess\\__init__.py\u001B[0m in \u001B[0;36mpush\u001B[1;34m(self, move)\u001B[0m\n\u001B[0;32m   2197\u001B[0m         \u001B[0mpromoted\u001B[0m \u001B[1;33m=\u001B[0m \u001B[0mbool\u001B[0m\u001B[1;33m(\u001B[0m\u001B[0mself\u001B[0m\u001B[1;33m.\u001B[0m\u001B[0mpromoted\u001B[0m \u001B[1;33m&\u001B[0m \u001B[0mfrom_bb\u001B[0m\u001B[1;33m)\u001B[0m\u001B[1;33m\u001B[0m\u001B[1;33m\u001B[0m\u001B[0m\n\u001B[0;32m   2198\u001B[0m         \u001B[0mpiece_type\u001B[0m \u001B[1;33m=\u001B[0m \u001B[0mself\u001B[0m\u001B[1;33m.\u001B[0m\u001B[0m_remove_piece_at\u001B[0m\u001B[1;33m(\u001B[0m\u001B[0mmove\u001B[0m\u001B[1;33m.\u001B[0m\u001B[0mfrom_square\u001B[0m\u001B[1;33m)\u001B[0m\u001B[1;33m\u001B[0m\u001B[1;33m\u001B[0m\u001B[0m\n\u001B[1;32m-> 2199\u001B[1;33m         \u001B[1;32massert\u001B[0m \u001B[0mpiece_type\u001B[0m \u001B[1;32mis\u001B[0m \u001B[1;32mnot\u001B[0m \u001B[1;32mNone\u001B[0m\u001B[1;33m,\u001B[0m \u001B[1;34mf\"push() expects move to be pseudo-legal, but got {move} in {self.board_fen()}\"\u001B[0m\u001B[1;33m\u001B[0m\u001B[1;33m\u001B[0m\u001B[0m\n\u001B[0m\u001B[0;32m   2200\u001B[0m         \u001B[0mcapture_square\u001B[0m \u001B[1;33m=\u001B[0m \u001B[0mmove\u001B[0m\u001B[1;33m.\u001B[0m\u001B[0mto_square\u001B[0m\u001B[1;33m\u001B[0m\u001B[1;33m\u001B[0m\u001B[0m\n\u001B[0;32m   2201\u001B[0m         \u001B[0mcaptured_piece_type\u001B[0m \u001B[1;33m=\u001B[0m \u001B[0mself\u001B[0m\u001B[1;33m.\u001B[0m\u001B[0mpiece_type_at\u001B[0m\u001B[1;33m(\u001B[0m\u001B[0mcapture_square\u001B[0m\u001B[1;33m)\u001B[0m\u001B[1;33m\u001B[0m\u001B[1;33m\u001B[0m\u001B[0m\n",
      "\u001B[1;31mAssertionError\u001B[0m: push() expects move to be pseudo-legal, but got a6g6 in 8/4k3/6Q1/8/8/8/8/4K3"
     ]
    }
   ],
   "source": [
    "start_replay()\n"
   ]
  }
 ],
 "metadata": {
  "kernelspec": {
   "display_name": "Python 3 (ipykernel)",
   "language": "python",
   "name": "python3"
  },
  "language_info": {
   "codemirror_mode": {
    "name": "ipython",
    "version": 3
   },
   "file_extension": ".py",
   "mimetype": "text/x-python",
   "name": "python",
   "nbconvert_exporter": "python",
   "pygments_lexer": "ipython3",
   "version": "3.9.10"
  }
 },
 "nbformat": 4,
 "nbformat_minor": 1
}