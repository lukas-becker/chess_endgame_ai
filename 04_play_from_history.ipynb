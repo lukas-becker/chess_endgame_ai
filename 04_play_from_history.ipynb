{
 "cells": [
  {
   "cell_type": "code",
   "execution_count": null,
   "metadata": {},
   "outputs": [],
   "source": [
    "from IPython.core.display import HTML\n",
    "with open('style.html', 'r') as file:\n",
    "     css = file.read()\n",
    "HTML(css)"
   ]
  },
  {
   "cell_type": "code",
   "execution_count": null,
   "metadata": {},
   "outputs": [],
   "source": [
    "%run Util/00_imports.ipynb\n",
    "%run Util/01_functions.ipynb"
   ]
  },
  {
   "cell_type": "markdown",
   "metadata": {},
   "source": [
    "# Wiedergeben einer bereits gespielten Partie\n",
    "\n",
    "In diesem Bereich werden Funktionen definiert, die das Wiedergeben einer Partie ermöglichen. \n",
    "Hierfür wird eine Spiel-Historie eingelesen. \n",
    "Historien werden bei der Ausführung des ``03_play_against_ai.ipynb`` Notebooks erstellt und in dem Ordner ``Played_Games`` hinterlegt. \n",
    "Am Ende dieses Notebook wird der Spielverlauf mit einem selbst festgelegten Tempo der Züge dargestellt."
   ]
  },
  {
   "cell_type": "markdown",
   "metadata": {
    "collapsed": true,
    "pycharm": {
     "name": "#%% md\n"
    }
   },
   "source": [
    "## Importieren des Spielverlaufs\n",
    "\n",
    "Als ersten Schritt muss eine beliebige Schach-Historie eingelesen werden. \n",
    "Hierfür wird die Funktion ``get_lines_from_file`` definiert, die für einen mitgegebenen relativen Pfad zu einer Schach-Historie (``file_name``) die Zeilen der Datei ohne Zeilenumbruch (``\"\\n\"``) zurückgibt.  \n",
    "\n",
    "> TODO: Parameter + Rückgabewert besser beschreiben"
   ]
  },
  {
   "cell_type": "code",
   "execution_count": null,
   "metadata": {
    "pycharm": {
     "name": "#%%\n"
    }
   },
   "outputs": [],
   "source": [
    "def get_lines_from_file(file_name):\n",
    "    move_file = open(file_name, \"r\")\n",
    "    all_lines = move_file.readlines()\n",
    "\n",
    "    # Remove '\\n' from the lines\n",
    "    lines = [all_lines[x][:-1] for x in range(len(all_lines)) if len(all_lines[x]) > 12]\n",
    "    if len(all_lines) == len(lines) + 1:\n",
    "        lines += [all_lines[-1]]\n",
    "    return lines"
   ]
  },
  {
   "cell_type": "markdown",
   "metadata": {},
   "source": [
    "## Auslesen der Startposition und Züge\n",
    "\n",
    "Um den ausgewählten Spielverlauf darstellen zu können, muss ein neues Spielbrett erstellt werden.\n",
    "\n",
    "> TODO: Genauer beschreiben\n",
    "> TODO: Kann Board nicht auch leer sein?"
   ]
  },
  {
   "cell_type": "code",
   "execution_count": null,
   "metadata": {
    "pycharm": {
     "name": "#%%\n"
    }
   },
   "outputs": [],
   "source": [
    "BOARD = chess.Board()\n",
    "BOARD"
   ]
  },
  {
   "cell_type": "markdown",
   "metadata": {},
   "source": [
    "Mit der Funktion ``set_board`` wird für einen relativen Pfad zu einer Spielhistorie(``file_name``) der Zustand in der globalen Variable ``BOARD`` dargestellt, der zu Beginn der Datei vorherrschte. Dieser kann in der ersten Zeile der Datei vorgefunden werden."
   ]
  },
  {
   "cell_type": "code",
   "execution_count": null,
   "metadata": {},
   "outputs": [],
   "source": [
    "def set_board(file_name):\n",
    "    global BOARD\n",
    "    lines = get_lines_from_file(file_name)\n",
    "    BOARD.set_fen(lines[0])"
   ]
  },
  {
   "cell_type": "markdown",
   "metadata": {},
   "source": [
    "Um den Spielverlauf darstellen zu können, werden die Spielzüge benötigt. Diese können mit der Funktion ``get_moves_from_file`` ausgewertet werden. Hierfür wird ebenfalls der relative Pfad zu einer Spielhistorie (``file_name``) mitgegeben.\n",
    "\n",
    "> TODO: Rückgabewert beschreiben\n",
    "> TODO: Parameter nicht gut genug beschrieben"
   ]
  },
  {
   "cell_type": "code",
   "execution_count": null,
   "metadata": {
    "pycharm": {
     "name": "#%%\n"
    }
   },
   "outputs": [],
   "source": [
    "def get_moves_from_file(file_name):\n",
    "    lines = get_lines_from_file(file_name)\n",
    "    moves = []\n",
    "    for line in lines[1:]:\n",
    "        split_move = line.split(' ')\n",
    "        moves.append(split_move[1:])\n",
    "    return moves"
   ]
  },
  {
   "cell_type": "markdown",
   "metadata": {},
   "source": [
    "## Spiel wiederholen\n",
    "\n",
    "Die Wiederholung des Spiels kann nun mit der Ausführung der Funktion ``start_replay`` begonnen werden. Diese benötigt als Parameter den relativen Pfad zu einer Spielhistorie (``file_name``) und zusätzlich eine Anzahl an Sekunden, die nach der Ausführung eines Zuges gewartet werden sollen (``delay``). Das Spiel wird daraufhin in der Konsole für den Nutzer schrittweise angezeigt."
   ]
  },
  {
   "cell_type": "code",
   "execution_count": null,
   "metadata": {
    "pycharm": {
     "name": "#%%\n"
    }
   },
   "outputs": [],
   "source": [
    "def start_replay(file_name, delay):\n",
    "    set_board(file_name)\n",
    "    moves = get_moves_from_file(file_name) \n",
    "    display(board)\n",
    "    time.sleep(2)\n",
    "    for move_pair in moves:\n",
    "        for move in move_pair:\n",
    "            if move == '':\n",
    "                print(\"Finished!\")\n",
    "            else:\n",
    "                clear_output()\n",
    "                board.push(chess.Move.from_uci(move))\n",
    "                display(board)\n",
    "                time.sleep(delay)"
   ]
  },
  {
   "cell_type": "code",
   "execution_count": null,
   "metadata": {
    "pycharm": {
     "name": "#%%\n"
    }
   },
   "outputs": [],
   "source": [
    "start_replay(\"Played_Games/Move-History_2022-03-11 20_39_21.txt\", 1)"
   ]
  }
 ],
 "metadata": {
  "kernelspec": {
   "display_name": "Python 3 (ipykernel)",
   "language": "python",
   "name": "python3"
  },
  "language_info": {
   "codemirror_mode": {
    "name": "ipython",
    "version": 3
   },
   "file_extension": ".py",
   "mimetype": "text/x-python",
   "name": "python",
   "nbconvert_exporter": "python",
   "pygments_lexer": "ipython3",
   "version": "3.9.10"
  }
 },
 "nbformat": 4,
 "nbformat_minor": 1
}