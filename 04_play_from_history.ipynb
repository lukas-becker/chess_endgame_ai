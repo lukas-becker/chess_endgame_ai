{
 "cells": [
  {
   "cell_type": "code",
   "execution_count": null,
   "metadata": {},
   "outputs": [],
   "source": [
    "from IPython.core.display import HTML\n",
    "with open('style.html', 'r') as file:\n",
    "     css = file.read()\n",
    "HTML(css)"
   ]
  },
  {
   "cell_type": "code",
   "execution_count": null,
   "metadata": {},
   "outputs": [],
   "source": [
    "%run Util/00_imports.ipynb\n",
    "%run Util/01_functions.ipynb"
   ]
  },
  {
   "cell_type": "markdown",
   "metadata": {},
   "source": [
    "# Erneutes Spielen einer Partie\n",
    "\n",
    "In diesem Bereich werden Funktionen definiert, die ein erneutes Durchspielen einer Partie ermöglichen. Dies gelingt durch die Angabe einer SPiel-Historie. Diese werden bei der Ausführung des ``play_against_ai.ipynb`` Notebook erstellt und in dem Ordner ``Played_Games`` hinterlegt. Am Ende von diesem Notebook wird der Spielverlauf nochmals mit einem selbst festgelegten Zeitabstand zwischen den Zügen dargestellt."
   ]
  },
  {
   "cell_type": "markdown",
   "metadata": {
    "collapsed": true,
    "pycharm": {
     "name": "#%% md\n"
    }
   },
   "source": [
    "## Importieren der Schach-Historie\n",
    "\n",
    "Die Funktion ``get_lines_from_file`` gibt für einen mitgegebenen relativen Pfad zu einer Schachhistorie (``file_name``) die Zeilen der Datei ohne Zeilenumbruch (\"\\n\") zurück.  "
   ]
  },
  {
   "cell_type": "code",
   "execution_count": null,
   "metadata": {
    "pycharm": {
     "name": "#%%\n"
    }
   },
   "outputs": [],
   "source": [
    "def get_lines_from_file(file_name):\n",
    "    move_file = open(file_name, \"r\")\n",
    "    all_lines = move_file.readlines()\n",
    "\n",
    "    # Remove '\\n' from the lines\n",
    "    lines = [all_lines[x][:-1] for x in range(len(all_lines)) if len(all_lines[x]) > 12]\n",
    "    if len(all_lines) == len(lines) + 1:\n",
    "        lines += [all_lines[-1]]\n",
    "    return lines"
   ]
  },
  {
   "cell_type": "markdown",
   "metadata": {},
   "source": [
    "## Auslesen der Startposition und Züge\n",
    "\n",
    "Erstellen eines neuen Spielzustands."
   ]
  },
  {
   "cell_type": "code",
   "execution_count": null,
   "metadata": {
    "pycharm": {
     "name": "#%%\n"
    }
   },
   "outputs": [],
   "source": [
    "board = chess.Board()\n",
    "board"
   ]
  },
  {
   "cell_type": "markdown",
   "metadata": {},
   "source": [
    "Mit der Funktion ``set_board`` wird für einen relativen Pfad zu einer Spielhistorie(``file_name``) der Zustand in der globalen Variable ``board`` dargestellt, der zu Beginn der Datei vorherrschte. Dieser kann in der ersten Zeile der Datei vorgefunden werden."
   ]
  },
  {
   "cell_type": "code",
   "execution_count": null,
   "metadata": {},
   "outputs": [],
   "source": [
    "def set_board(file_name):\n",
    "    global board\n",
    "    lines = get_lines_from_file(file_name)\n",
    "    board.set_fen(lines[0])"
   ]
  },
  {
   "cell_type": "markdown",
   "metadata": {},
   "source": [
    "Um letztendlich den Spielverlauf darstellen zu können, werden nur noch die Spielzüge benötigt. Diese können mit der Funktion ``get_moves_from_file`` generiert werden. Hierfür wird ebenfalls der relative Pfad zu einer Spielhistorie(``file_name``) mitgegeben."
   ]
  },
  {
   "cell_type": "code",
   "execution_count": null,
   "metadata": {
    "pycharm": {
     "name": "#%%\n"
    }
   },
   "outputs": [],
   "source": [
    "def get_moves_from_file(file_name):\n",
    "    lines = get_lines_from_file(file_name)\n",
    "    moves = []\n",
    "    for line in lines[1:]:\n",
    "        split_move = line.split(' ')\n",
    "        moves.append(split_move[1:])\n",
    "    return moves"
   ]
  },
  {
   "cell_type": "markdown",
   "metadata": {},
   "source": [
    "## Spiel wiederholen\n",
    "\n",
    "Die Wiederholung des Spiels kann mit der Ausführung der Funktion ``start_replay`` begonnen werden. Diese benötigt als Parameter den relativen Pfad zu einer Spielhistorie (``file_name``) und zusätzlich eine Anzahl an Sekunden, die nach der Ausführung eines Zuges gewartet werden sollen (``delay``). Das Spiel wird daraufhin in der Konsole für den Nutzer schrittweise angezeigt."
   ]
  },
  {
   "cell_type": "code",
   "execution_count": null,
   "metadata": {
    "pycharm": {
     "name": "#%%\n"
    }
   },
   "outputs": [],
   "source": [
    "def start_replay(file_name, delay):\n",
    "    set_board(file_name)\n",
    "    moves = get_moves_from_file(file_name) \n",
    "    display(board)\n",
    "    time.sleep(2)\n",
    "    for move_pair in moves:\n",
    "        for move in move_pair:\n",
    "            clear_output()\n",
    "            board.push(chess.Move.from_uci(move))\n",
    "            display(board)\n",
    "            time.sleep(delay)"
   ]
  },
  {
   "cell_type": "code",
   "execution_count": null,
   "metadata": {
    "pycharm": {
     "name": "#%%\n"
    }
   },
   "outputs": [],
   "source": [
    "start_replay(\"Played_Games/Move-History_2021-12-06 22_08_23.txt\", 1)"
   ]
  },
  {
   "cell_type": "code",
   "execution_count": null,
   "metadata": {},
   "outputs": [],
   "source": []
  }
 ],
 "metadata": {
  "kernelspec": {
   "display_name": "Python 3 (ipykernel)",
   "language": "python",
   "name": "python3"
  },
  "language_info": {
   "codemirror_mode": {
    "name": "ipython",
    "version": 3
   },
   "file_extension": ".py",
   "mimetype": "text/x-python",
   "name": "python",
   "nbconvert_exporter": "python",
   "pygments_lexer": "ipython3",
   "version": "3.10.2"
  }
 },
 "nbformat": 4,
 "nbformat_minor": 1
}
