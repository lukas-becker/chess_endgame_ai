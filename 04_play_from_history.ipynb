{
 "cells": [
  {
   "cell_type": "code",
   "execution_count": null,
   "metadata": {
    "pycharm": {
     "name": "#%%\n"
    }
   },
   "outputs": [],
   "source": [
    "from IPython.core.display import HTML\n",
    "with open('style.html', 'r') as file:\n",
    "     css = file.read()\n",
    "HTML(css)"
   ]
  },
  {
   "cell_type": "code",
   "execution_count": null,
   "metadata": {
    "pycharm": {
     "name": "#%%\n"
    }
   },
   "outputs": [],
   "source": [
    "%run Util/00_imports.ipynb\n",
    "%run Util/01_functions.ipynb"
   ]
  },
  {
   "cell_type": "markdown",
   "metadata": {
    "pycharm": {
     "name": "#%% md\n"
    }
   },
   "source": [
    "# Wiedergeben einer bereits gespielten Partie\n",
    "\n",
    "In diesem Bereich werden Funktionen definiert, die das Wiedergeben einer Partie ermöglichen. \n",
    "Hierfür wird eine Spiel-Historie eingelesen. \n",
    "Historien werden bei der Ausführung des ``03_play_against_ai.ipynb`` Notebooks erstellt und in dem Ordner ``Played_Games`` hinterlegt. \n",
    "Am Ende dieses Notebook wird der Spielverlauf mit einem selbst festgelegten Tempo der Züge dargestellt."
   ]
  },
  {
   "cell_type": "markdown",
   "metadata": {
    "collapsed": true,
    "pycharm": {
     "name": "#%% md\n"
    }
   },
   "source": [
    "## Importieren des Spielverlaufs\n",
    "\n",
    "Als ersten Schritt muss eine beliebige Schach-Historie eingelesen werden. \n",
    "Hierfür wird die Funktion ``get_lines_from_file`` definiert, die für einen mitgegebenen relativen oder auch absoluten Pfad zu einer Schach-Historie (``file_name``) die Zeilen der Datei ohne Zeilenumbruch (``\"\\n\"``) zurückgibt.\n",
    "Der Rückgabewert wird in der Variablen `lines` hinterlegt. Dabei handelt es sich um eine Liste von Strings, die als ersten Eintrag die FEN der Spielsituation enthält.\n",
    "Darauf folgen für jede Zeile der Datei eigne Listeneinträge."
   ]
  },
  {
   "cell_type": "code",
   "execution_count": null,
   "metadata": {
    "pycharm": {
     "name": "#%%\n"
    }
   },
   "outputs": [],
   "source": [
    "def get_lines_from_file(file_name):\n",
    "    move_file = open(file_name, \"r\")\n",
    "    all_lines = move_file.readlines()\n",
    "\n",
    "    # Remove '\\n' from the lines\n",
    "    lines = [all_lines[x][:-1] for x in range(len(all_lines)) if len(all_lines[x]) > 12]\n",
    "    if len(all_lines) == len(lines) + 1:\n",
    "        lines += [all_lines[-1]]\n",
    "    return lines"
   ]
  },
  {
   "cell_type": "markdown",
   "metadata": {
    "pycharm": {
     "name": "#%% md\n"
    }
   },
   "source": [
    "## Auslesen der Startposition und Züge\n",
    "\n",
    "Um den ausgewählten Spielverlauf darstellen zu können, muss ein neues Spielbrett erstellt werden.\n",
    "Dieses wird in der globalen Variablen `BOARD` hinterlegt."
   ]
  },
  {
   "cell_type": "code",
   "execution_count": null,
   "metadata": {
    "pycharm": {
     "name": "#%%\n"
    }
   },
   "outputs": [],
   "source": [
    "BOARD = chess.Board(None)"
   ]
  },
  {
   "cell_type": "markdown",
   "metadata": {
    "pycharm": {
     "name": "#%% md\n"
    }
   },
   "source": [
    "Die Funktion `set_board(file_name)` ist für die Instanziierung der Variablen verantwortlich.\n",
    "Diese erhält einen relativen oder absoluten Pfad (`file_name`), um das `BOARD` auf die ursprüngliche Anfangssituation zu setzen.\n",
    "Die Situation kann in Form einer FEN aus der angegebenen Datei entnommen werden."
   ]
  },
  {
   "cell_type": "code",
   "execution_count": null,
   "metadata": {
    "pycharm": {
     "name": "#%%\n"
    }
   },
   "outputs": [],
   "source": [
    "def set_board(file_name):\n",
    "    global BOARD\n",
    "    lines = get_lines_from_file(file_name)\n",
    "    BOARD.set_fen(lines[0])"
   ]
  },
  {
   "cell_type": "markdown",
   "metadata": {
    "pycharm": {
     "name": "#%% md\n"
    }
   },
   "source": [
    "Um den Spielverlauf darstellen zu können, werden die Spielzüge benötigt. Diese können mit der Funktion ``get_moves_from_file(file_name)`` ausgewertet werden.\n",
    "In Form von `file_name`kann ein relativer oder auch absoluter Pfad zu einer Datei angegeben werden.\n",
    "Eine solche Datei wird bei dem Spielen einer Schachpartie in `03_play_against_ai.ipynb` erstellt.\n",
    "Aus der übergebenen Datei werden die aufgelisteten Spielzüge extrahiert.\n",
    "Diese werden in Form einer Liste von Strings (`moves`) zurückgegeben."
   ]
  },
  {
   "cell_type": "code",
   "execution_count": null,
   "metadata": {
    "pycharm": {
     "name": "#%%\n"
    }
   },
   "outputs": [],
   "source": [
    "def get_moves_from_file(file_name):\n",
    "    lines = get_lines_from_file(file_name)\n",
    "    moves = []\n",
    "    for line in lines[1:]:\n",
    "        split_move = line.split(' ')\n",
    "        moves.append(split_move[1:])\n",
    "    return moves"
   ]
  },
  {
   "cell_type": "markdown",
   "metadata": {
    "pycharm": {
     "name": "#%% md\n"
    }
   },
   "source": [
    "## Spiel wiederholen\n",
    "\n",
    "Die Wiederholung des Spiels kann nun mit der Ausführung der Funktion ``start_replay(file_name, delay)`` begonnen werden.\n",
    "Diese benötigt als Parameter den relativen Pfad zu einer Spielhistorie (``file_name``) und zusätzlich eine Anzahl an Sekunden, die nach der Ausführung eines Zuges gewartet werden sollen (``delay``).\n",
    "Das Spiel wird daraufhin in der Konsole für den Nutzer schrittweise angezeigt."
   ]
  },
  {
   "cell_type": "code",
   "execution_count": null,
   "outputs": [],
   "source": [
    "def start_replay(file_name, delay):\n",
    "    set_board(file_name)\n",
    "    moves = get_moves_from_file(file_name) \n",
    "    display(BOARD)\n",
    "    time.sleep(2)\n",
    "    for move_pair in moves:\n",
    "        for move in move_pair:\n",
    "            if move != '':\n",
    "                clear_output()\n",
    "                BOARD.push(chess.Move.from_uci(move))\n",
    "                display(BOARD)\n",
    "                time.sleep(delay)\n",
    "    print(\"Finished!\")"
   ],
   "metadata": {
    "collapsed": false,
    "pycharm": {
     "name": "#%%\n"
    }
   }
  },
  {
   "cell_type": "code",
   "execution_count": null,
   "outputs": [],
   "source": [
    "start_replay(\"Played_Games/Move-History_2022-05-23 22_00_39.txt\", 1)"
   ],
   "metadata": {
    "collapsed": false,
    "pycharm": {
     "name": "#%%\n"
    }
   }
  }
 ],
 "metadata": {
  "kernelspec": {
   "display_name": "Python 3 (ipykernel)",
   "language": "python",
   "name": "python3"
  },
  "language_info": {
   "codemirror_mode": {
    "name": "ipython",
    "version": 3
   },
   "file_extension": ".py",
   "mimetype": "text/x-python",
   "name": "python",
   "nbconvert_exporter": "python",
   "pygments_lexer": "ipython3",
   "version": "3.10.2"
  }
 },
 "nbformat": 4,
 "nbformat_minor": 1
}