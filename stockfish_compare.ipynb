{
 "cells": [
  {
   "cell_type": "code",
   "execution_count": null,
   "metadata": {
    "pycharm": {
     "name": "#%%\n"
    }
   },
   "outputs": [],
   "source": [
    "from IPython.core.display import HTML\n",
    "with open('style.html', 'r') as file:\n",
    "     css = file.read()\n",
    "HTML(css)"
   ]
  },
  {
   "cell_type": "markdown",
   "metadata": {
    "pycharm": {
     "name": "#%% md\n"
    }
   },
   "source": [
    "# Auswerten eines Schach-Endspiels\n",
    "\n",
    "Neben der Berechnung der Endspiel-Situationen, gilt es auch zu überprüfen, ob es sich bei den Zügen der KI auch um die besten Züge handelt. Hierfür werden im Rahmen von diesem Notebook Testszenarien geschrieben, die die Entscheidungen der KI bewerten. Zum Vergleich wurde die Engine Stockfish herangezogen. Dabei handelt es sich um die momentan beste Schach-Engine, die online frei zur Verfügung steht. \n",
    "\n",
    "Insgesamt können vier unterschiedliche Szenarien in dem Notebook getestet werden. Dazu muss jedoch bereits eine Berechnung mit dem Notebook ``calculation.ipynb`` stattgefunden haben, da anhand dieser berechneten Mengen die Tests durchgeführt werden. Die Struktur der Tests wird wie folgt aufgebaut sein:\n",
    "* ``compare_fen_stockfish``: Dieser Test überprüft für eine mitgegebene FEN, wie viele Züge die KI und wie viele Züge Stockfish zum Gewinnen braucht. \n",
    "* ``test_random_boards``: Dieser Test überprüft für eine angegebene Anzahl n zufälliger Boards, welche der beiden Lösungswege bessere Ergebnisse liefert.\n",
    "* ``compare_sequence_stockfish``: Dieser Test überprüft für ein mitgegebenes n alle Boards, die in der Menge $S_n$ stehen, ob Stockfish oder die KI bessere Ergebnisse erzielt.\n",
    "* ``compare_all_sequences``: Dieser Test überprüft für jegliches Board, das in den $S_n$ Mengen zu finden ist, ob Stockfish oder die KI eine bessere Lösung bestimmen kann.\n",
    "\n",
    "Die Ergebnisse der letzten drei Tests werden in dem Ordner ``/Tests`` gespeichert."
   ]
  },
  {
   "cell_type": "markdown",
   "metadata": {
    "pycharm": {
     "name": "#%% md\n"
    }
   },
   "source": [
    "## Importe\n",
    "\n",
    "Für die Durchführung der Tests und der Auswertung eines Schach-Endspiels gegen Stockfish werden die hier stehenden Bibliotheken benötigt:\n",
    "\n",
    "* ``chess``: Die Python-Schach-Bibliothek, mit welcher Schachbretter dargestellt werden, Züge und Zustände ausgewertet etc.\n",
    "* ``stockfish``: Bibliothek, welche eine Python Schnittstelle für die Stockfish-Enginge anbietet.\n",
    "* ``clear_output`` aus der IPython-display-Library: Eine Funktion, die für die Fortschrittsanzeige von Berechnungen verwendet wird.\n",
    "* ``display`` aus der IPython-display-Library: Wird zum grafischen Anzeigen der Schachbretter verwendet.\n",
    "* ``json``: Wird zum Speichern der Ergebnisse verwendet.\n",
    "* ``time``: Wird zum Verzögern von Ausgaben verwendet.\n",
    "* ``datetime``: Zur Bestimmung des aktuellen Datums, sodass der Vergleich gespeichert werden kann."
   ]
  },
  {
   "cell_type": "code",
   "execution_count": null,
   "metadata": {
    "pycharm": {
     "name": "#%%\n"
    }
   },
   "outputs": [],
   "source": [
    "import chess\n",
    "import stockfish\n",
    "from IPython.display import clear_output\n",
    "from IPython.display import display\n",
    "import json\n",
    "import time\n",
    "from datetime import datetime"
   ]
  },
  {
   "cell_type": "markdown",
   "metadata": {
    "pycharm": {
     "name": "#%% md\n"
    }
   },
   "source": [
    "## Konfiguration\n",
    "\n",
    "Zu Beginn müssen für den Vergleich unterschiedliche Variablen definiert werden. Diese beinhalten eine FEN, die für ein gegebenes Szenario überprüft werden soll, den Pfad zu der berechneten $S_n$ Sequenz und einen Pfad zu der Stockfish-Installation. Weiterhin wird eine globale Variable ``VERBOSE`` festgelegt, die ein Anzeigen von zusätzlichen Kommentaren ermöglicht."
   ]
  },
  {
   "cell_type": "code",
   "execution_count": null,
   "metadata": {
    "pycharm": {
     "name": "#%%\n"
    }
   },
   "outputs": [],
   "source": [
    "FEN = \"4k3/8/8/8/8/8/8/R3K3 w - - 0 1\"\n",
    "S_N_FILE = \"S_n_seq_12_01.json\"\n",
    "STOCKFISH_PATH = \"./stockfish_14.1/stockfish_14.1_win_x64_avx2.exe\"\n",
    "VERBOSE = False\n",
    "\n",
    "STOCKFISH = stockfish.Stockfish(STOCKFISH_PATH)"
   ]
  },
  {
   "cell_type": "markdown",
   "metadata": {},
   "source": [
    "Der Vergleich der Spielbretter findet in diesem Notebook anhand der FEN-Schreibweise statt. Diese wird in zweierlei Form verwendet, in ihrer gesamten und in einer gekürzten Schreibweise. Die gekürzte Schreibweise beinhaltet nur das momentane Spielfeld, aber auch die Farbe, die gerade am Zug ist. Zur Erstellung dieser Schreibweise wurde die Funktion ``get_board_and_turn`` geschrieben. Diese erhält als Parameter eine komplette ``fen`` und gibt in der FEN-Notation das Brett und die Farbe, die am Zug ist, als String zurück."
   ]
  },
  {
   "cell_type": "code",
   "execution_count": null,
   "metadata": {
    "pycharm": {
     "name": "#%%\n"
    }
   },
   "outputs": [],
   "source": [
    "def get_board_and_turn(fen):\n",
    "    split = fen.split()\n",
    "    short_fen = str(split[0]) + \" \" + str(split[1])\n",
    "    return short_fen"
   ]
  },
  {
   "cell_type": "markdown",
   "metadata": {
    "pycharm": {
     "name": "#%% md\n"
    }
   },
   "source": [
    "Für die Bestimmung der Züge der KI werden die $S_n$ Mengen verwendet, die mit Hilfe des Notebooks ``calculation.ipynb`` bestimmt werden. Diese wurden bereits in einer JSON-Datei serialisiert abgespeichert. Für dieses Notebook werden alle FENs gelesen und daraus Board-Objekte erstellt. Dies geschieht mit der Funktion ``load_s_n_sequence``. Diese erhält den Dateipfad (``filepath``) als Parameter, um aus der Datei die $S_n$ Mengen auslesen zu können. Als Rückgabewert gibt sie sowohl die ausgeschriebenen FENs, als auch die gekürzten FENs zurück.\n"
   ]
  },
  {
   "cell_type": "code",
   "execution_count": null,
   "metadata": {
    "pycharm": {
     "name": "#%%\n"
    }
   },
   "outputs": [],
   "source": [
    "def load_s_n_sequence(filepath):\n",
    "    s_n_sequence_fen = []\n",
    "    s_n_sequence_short_fen = []\n",
    "    f = open(filepath, \"r\")\n",
    "    tmp = json.loads(f.read())\n",
    "    for item in tmp:\n",
    "        tmp_fen = set()\n",
    "        tmp_fen_short = set()\n",
    "        for board in item:\n",
    "            tmp_fen.add(board)\n",
    "            tmp_fen_short.add(get_board_and_turn(board))\n",
    "        s_n_sequence_fen.append(tmp_fen)\n",
    "        s_n_sequence_short_fen.append(tmp_fen_short)\n",
    "    f.close()\n",
    "    return s_n_sequence_fen, s_n_sequence_short_fen"
   ]
  },
  {
   "cell_type": "code",
   "execution_count": null,
   "metadata": {
    "pycharm": {
     "name": "#%%\n"
    }
   },
   "outputs": [],
   "source": [
    "S_N_Sequence_fen, S_N_Sequence_fen_short = load_s_n_sequence(S_N_FILE)"
   ]
  },
  {
   "cell_type": "markdown",
   "metadata": {
    "pycharm": {
     "name": "#%% md\n"
    }
   },
   "source": [
    "## Vergleich zwischen Stockfish und KI\n",
    "Für den Vergleich werden die Anzahlen der Züge zwischen Stockfish und der selbstgeschriebenen KI miteinander verglichen.\n",
    "\n",
    "### Berechnung der Zuglisten\n",
    "Der erste Schritt, um eine Zugliste zu erstellen, liegt in der Ermittlung eines Spielzuges für die KI. Hierfür muss zunächst die $S_n$ Menge bestimmt werden, in der die FEN vorliegt. Dies wird mit der Funktion ``find_board_in_sequence`` erreicht. Sie durchsucht eine gegebene $S_n$ Sequenz nach einem übergebenen Schachbrett. Dieses Schachbrett wird in der FEN-Schreibweise übergeben. Zusätzlich wird eine Liste von $S_n$ Mengen übergeben (``sequence_short``), in der letztendlich die ``fen`` gefunden werden soll. Am Ende der Funktion wird der Index der $S_n$ Menge ausgegeben, in der die FEN gefunden wurde. Falls das Board nicht in den übergebenen Mengen gefunden werden kann, wird stattdessen -1 zurückgegeben."
   ]
  },
  {
   "cell_type": "code",
   "execution_count": null,
   "metadata": {
    "pycharm": {
     "name": "#%%\n"
    }
   },
   "outputs": [],
   "source": [
    "def find_fen_in_sequence(fen, sequence_short):\n",
    "    short = get_board_and_turn(fen)\n",
    "    for i in range(len(sequence_short)):\n",
    "        if short in sequence_short[i]:\n",
    "            return i\n",
    "    return -1"
   ]
  },
  {
   "cell_type": "markdown",
   "metadata": {
    "pycharm": {
     "name": "#%% md\n"
    }
   },
   "source": [
    "Nachdem das Brett in einer $S_n$ Menge gefunden wurde, ist der nächste Schritt den passenden Zug für die KI zu bestimmen. Zu diesem Zweck wurde die Funktion ``find_next_move`` definiert. Diese berechnet für eine übergebene FEN (``fen``) den idealen Spielzug. Weiterhin wird für die Berechnung des Spielzuges der ``s_index`` mitgegen, in dem die FEN gefunden werden kann. Diese wird für die Suche in den \"gekürzten\", übergebenen $S_n$ Mengen (``s_n_sequence_short``) verwendet. \n",
    "\n",
    "Die Funktion liefert als Rückgabewert einerseits den nächsten Move, der für den Test durchgeführt wird. Andererseits wird ein ``s_index`` zurückgegeben. Dieser beschreibt das n der $S_n$ Menge in der die Spielsituation liegt, die nach der Ausführung des Zuges auf dem Schachbrett anzutreffen ist. "
   ]
  },
  {
   "cell_type": "code",
   "execution_count": null,
   "metadata": {
    "pycharm": {
     "name": "#%%\n"
    }
   },
   "outputs": [],
   "source": [
    "def find_next_move(fen, s_index, s_n_sequence_short):\n",
    "    STOCKFISH.set_fen_position(fen)\n",
    "    curr_board = chess.Board(fen)\n",
    "    if curr_board.turn:\n",
    "        if VERBOSE:\n",
    "            print(\"---White:---\")\n",
    "            print(\"Starting in S\" + str(s_index))\n",
    "        for move in curr_board.legal_moves:\n",
    "            curr_board.push(move)\n",
    "            cur_fen = curr_board.fen()\n",
    "            _tmp = find_fen_in_sequence(cur_fen, [s_n_sequence_short[s_index - 1]])\n",
    "            s_index_tmp = s_index - 1\n",
    "            if _tmp != -1:\n",
    "                if VERBOSE:\n",
    "                    print(\"    Move: \" + str(move))\n",
    "                    print(\"    S\" + str(s_index_tmp))\n",
    "                    print(\"Ended in S\" + str(s_index))\n",
    "                curr_board.pop()\n",
    "                return s_index_tmp, move\n",
    "            curr_board.pop()\n",
    "\n",
    "        return -1, None\n",
    "    else:\n",
    "        if VERBOSE:\n",
    "            print(\"---Black:---\")\n",
    "            print(\"Starting in S\" + str(s_index))\n",
    "        move = chess.Move.from_uci(STOCKFISH.get_best_move())\n",
    "        curr_board.push(move)\n",
    "        cur_fen = curr_board.fen()\n",
    "        s_index = find_fen_in_sequence(cur_fen, s_n_sequence_short[:s_index])\n",
    "        if VERBOSE:\n",
    "            print(\"    Move: \" + str(move))\n",
    "            print(\"    S\" + str(s_index))\n",
    "            print(\"Ended in S\" + str(s_index))\n",
    "        curr_board.pop()\n",
    "        return s_index, move"
   ]
  },
  {
   "cell_type": "markdown",
   "metadata": {
    "pycharm": {
     "name": "#%% md\n"
    }
   },
   "source": [
    "Bei der Berechnung der Züge für die KI wird die Funktion ``calculate_all_moves`` verwendet. Diese berechnet in einer Schleife alle Moves ausgehend von einer FEN, bis die KI gewonnen hat. Die Berechnung verwendet hierzu die FEN der Spielsituation (``fen``) und die Liste der gekürzten $S_n$ Mengen (``s_n_sequence_short``). Mithilfe von diesen Parametern wird eine Liste von Zügen bestimmt, in der die Partie zwischen Stockfish und der selbstgeschriebenen KI beendet wurde."
   ]
  },
  {
   "cell_type": "code",
   "execution_count": null,
   "metadata": {
    "pycharm": {
     "name": "#%%\n"
    }
   },
   "outputs": [],
   "source": [
    "def calculate_all_moves(fen, s_n_sequence_short):\n",
    "    moves = []\n",
    "\n",
    "    s_index = find_fen_in_sequence(fen, s_n_sequence_short)\n",
    "\n",
    "    board = chess.Board(fen)\n",
    "    while s_index > 0:\n",
    "        cur_fen = board.fen()\n",
    "        s_index, next_move = find_next_move(cur_fen, s_index, s_n_sequence_short)\n",
    "        board.push(next_move)\n",
    "        moves.append(next_move)\n",
    "\n",
    "    if s_index == -1:\n",
    "        return None\n",
    "\n",
    "    return moves"
   ]
  },
  {
   "cell_type": "markdown",
   "metadata": {
    "pycharm": {
     "name": "#%% md\n"
    }
   },
   "source": [
    "Nachdem eine Liste aller Züge für die KI bestimmt wurden, gilt dies gleichermaßen für die Berechnung von Stockfish umzusetzen. Hierfür erhält die Funktion ``stockfish_movelist`` eine ``fen`` mit der aktuellen Spielsituation. In der Funktion spielt Stockfish solange die bestmöglichen Züge, bist die Partie beendet worden ist. Diese Liste von Zügen wird am Ende der Funktion zurückgegeben."
   ]
  },
  {
   "cell_type": "code",
   "execution_count": null,
   "metadata": {
    "pycharm": {
     "name": "#%%\n"
    }
   },
   "outputs": [],
   "source": [
    "def stockfish_movelist(fen):\n",
    "    moves = []\n",
    "\n",
    "    board = chess.Board(fen)\n",
    "\n",
    "    while not board.is_game_over():\n",
    "        STOCKFISH.set_fen_position(board.fen())\n",
    "        next_move = chess.Move.from_uci(STOCKFISH.get_best_move())\n",
    "        board.push(next_move)\n",
    "        moves.append(next_move)\n",
    "\n",
    "    return moves\n"
   ]
  },
  {
   "cell_type": "markdown",
   "metadata": {},
   "source": [
    "### Hilfsfunktionen für den Vergleich\n",
    "\n",
    "Der Vergleich zwischen der Stockfish Engine und der KI wird auf der Anzahl der Züge basieren, bis weiß das Spiel gewonnen hat. Hierfür werden zuerst drei Hilfsfunktionen definiert, die für die Durchführung des Vergleichs benötigt werden.\n",
    "\n",
    "Bei der ersten Funktion handelt es sich um ``compare_move_list``. Diese erhält eine Liste von 3-Tupeln(``move_count_list``), die als ersten Wert die Anzahl der Züge der KI beinhaltet und als zweiten Wert die Anzahl der Züge, die Stockfish zum Beenden der Partie benötigt hat. Der dritte Wert stellt die Differenz zwischen den beiden Anzahlen dar.\n",
    "\n",
    "Als Ergebnis liefert die Funktion drei Werte zurück, die ein erstes Abbild für die Perfomanz der KI darstellen. Der erste Wert ist die Anzahl der Spielsituationen, bei denen Stockfish und die KI gleich viele Züge benötigt haben (``equal``). Der zweite Wert ist die Anzahl der Spiele, bei denen die KI weniger Züge benötigt hat (``ki_better``) und der letzte Werte die Anzahl der Spiele, in der Stockish weniger Züge benötigt hat (``stockfish_better``)."
   ]
  },
  {
   "cell_type": "code",
   "execution_count": null,
   "metadata": {},
   "outputs": [],
   "source": [
    "def compare_move_lists(move_count_list):\n",
    "    equal = 0\n",
    "    ki_better = 0\n",
    "    stockfish_better = 0\n",
    "    for ki_move, stock_move, diff in move_count_list:\n",
    "        if diff == 0:\n",
    "            equal += 1\n",
    "        elif diff < 0:\n",
    "            ki_better += 1\n",
    "        else:\n",
    "            stockfish_better += 1\n",
    "    return equal, ki_better, stockfish_better"
   ]
  },
  {
   "cell_type": "markdown",
   "metadata": {},
   "source": [
    "Diese Werte können nun weiter genutzt werden, indem neben der Anzahl der Ergebnisse auch der Grad des Unterschieds bestimmt wird. Hierfür wurde die Funktion ``get_average_difference`` definiert. Diese nutzt ebenfalls die Liste von 3-Tupeln (``move_count_list``) als Input. Die Funktion berechnet aus dieser Liste die durchschnittliche Prozentzahl an Züge, die die bessere Version weniger benötigt hat. Diese werden für sowohl die KI(``avg_ki_better``), als auch für Stockfish zurückgegeben(``avg_stock_better``)."
   ]
  },
  {
   "cell_type": "code",
   "execution_count": null,
   "metadata": {},
   "outputs": [],
   "source": [
    "def get_average_difference(move_count_list):\n",
    "    percentual_ki = []\n",
    "    percentual_stock = []\n",
    "    avg_ki_better = 0\n",
    "    avg_stock_better = 0\n",
    "    for ki_move, stock_move, diff in move_count_list:\n",
    "        if diff < 0:\n",
    "            percentual_ki.append(round(1-(ki_move / stock_move), 4))\n",
    "        elif diff > 0:\n",
    "            percentual_stock.append(round(1-(stock_move / ki_move), 4))\n",
    "    if len(percentual_ki) != 0:\n",
    "        avg_ki_better = sum(percentual_ki) / len(percentual_ki)\n",
    "    if len(percentual_stock) != 0:\n",
    "        avg_stock_better = sum(percentual_stock) / len(percentual_stock)\n",
    "    return avg_ki_better, avg_stock_better"
   ]
  },
  {
   "cell_type": "markdown",
   "metadata": {},
   "source": [
    "Die Ergebnisse des Vergleichs sollen abschließend in einer Datei gespeichert werden. Dies hat vor allem den Grund, dass man bei einer großen Anzahl von $S_n$ Mengen nicht die Konsole überfüllt und man zusätzlich die Ergebnisse lokal auf dem Rechner zur Verfügung hat. Aus diesem Grund wurde die Funktion ``write_result_to_file`` definiert. Diese berechnet zunächst mit der ``move_count_list`` die Ergebnisse des Vergleichs. Hierzu werden die zuvor definierten Funktionen ``compare_move_lists`` und ``get_average_difference`` aufgerufen. Außerdem werden die prozentualen Ergebnisse, welche Engine/KI das Problem besser gelöst hat, innerhalb dieser Funktion berechnet. Die Ergebnisse werden letztendlich in die Datei mit dem Namen ``filename`` in den Ordner Tests geschrieben. Zur Übersicht kann ein ``sequence_index`` mitgegeben werden, der eine Unterscheidung der Tests ermöglicht."
   ]
  },
  {
   "cell_type": "code",
   "execution_count": null,
   "metadata": {},
   "outputs": [],
   "source": [
    "def write_result_to_file(filename, sequence_index, move_count_list):\n",
    "    equal, ki_better, stockfish_better = compare_move_lists(move_count_list)\n",
    "    avg_ki_better, avg_stock_better = get_average_difference(move_count_list)\n",
    "    count = ki_better + stockfish_better + equal\n",
    "    f = open(\"Tests/\" + filename, \"a+\")\n",
    "    f.write(\"S_\" + str(sequence_index) + \":\\n\")\n",
    "    f.write(\"Stockfish war zu \" + str(round((stockfish_better/count) * 100, 2)) + \"% besser.\\n\")\n",
    "    f.write(\"Die KI war zu \" + str(round((ki_better/count) * 100, 2)) + \"% besser.\\n\")\n",
    "    f.write(\"Stockfish und die KI haben zu \" + str(round((equal/count) * 100, 2)) + \"% die gleichen Ergebnisse erzielt.\\n\")\n",
    "    f.write(\"Sofern die KI besser war, hat sie durchschnittlich \" + str(round(avg_ki_better * 100, 2)) +\"% weniger Züge benötigt.\\n\")\n",
    "    f.write(\"Sofern Stockfish besser war, hat sie durchschnittlich \" + str(round(avg_stock_better * 100, 2)) +\"% weniger Züge benötigt.\\n\")\n",
    "    f.close()"
   ]
  },
  {
   "cell_type": "markdown",
   "metadata": {},
   "source": [
    "### Implementierung der Testszenarien\n",
    "In diesem Abschnitt werden die zuvor definierten Testszenarien implementiert. Diese erhalten eine Liste der $S_n$ Mengen mit der verkürzten FEN Schreibweise (``s_n_sequence_short``) und oder die Liste der $S_n$ Mengen mit der vollständigen FEN Schreibweise (``s_n_sequence_fen``). Diese werden für die Berechnungen der Züge für die KI berechnet und müssen deshalb in mindestens einer Form für die Funktion vorliegen. Dabei gilt es für den Vergleich zu beachten, dass folgende Vorgehensweise verwendet wird.\n",
    "- `Stockfish`: Für sowohl schwarz, als auch für weiß, werden die Züge mit der Funktion ``Stockfish().get_best_move()`` bestimmt.\n",
    "- `KI`: Für weiß werden die Züge anhand der $S_n$ Mengen bestimmt, die schwarzen Züge werden mit der Funktion ``Stockfish().get_best_move`` gewählt.\n",
    "\n",
    "Die Funktionen, die für den Vergleich mit Stockfish angewandt werden, bergen die Gefahr, dass durch Stockfish für schwarz nicht der beste Zug ausgewählt wird und dadurch das Ergebnis beeinflusst. Diese Gefahr erhöht sich vor allem dann, wenn sich die Anzahl der Züge bis zu einem Schachmatt erhöhen, da bei jedem Zug von schwarz die Gefahr besteht, dass nicht der beste Zug ausgewählt wird. Deshalb werden bei beiden Berechnungen die Züge für schwarz von Stockfish bestimmt, wobei das Risiko in geringem Maße bestehen bleibt.\n",
    "\n",
    "Das erste Testszenario sieht die Überprüfung eines Spielszenarios vor (``fen``). Dies geschieht in der Funktion ``compare_fen_stockfish``. Hierfür werden nur die Anzahl der Züge von der KI und Stockfish miteinander verglichen. Das Ergebnis wird am Ende der Funktion in der Konsole ausgegeben."
   ]
  },
  {
   "cell_type": "code",
   "execution_count": null,
   "metadata": {
    "pycharm": {
     "name": "#%%\n"
    }
   },
   "outputs": [],
   "source": [
    "def compare_fen_stockfish(fen, s_n_sequence_short):\n",
    "    Moves = calculate_all_moves(fen, s_n_sequence_short)\n",
    "    Stockfish_Moves = stockfish_movelist(fen)\n",
    "\n",
    "    if Moves is not None:\n",
    "        print(\"AI needed \" + str(len(Moves)) + \" moves to beat Stockfish as Black.\")\n",
    "    else:\n",
    "        print(\"AI found no way to beat Black.\")\n",
    "\n",
    "    print(\"Stockfish needed \" + str(len(Stockfish_Moves)) + \" moves to win against itself.\")"
   ]
  },
  {
   "cell_type": "markdown",
   "metadata": {},
   "source": [
    "Das zweite Szenario sieht vor eine beliebige Anzahl (``count``) zufälliger Boards zu vergleichen. Anhand der ``count``-Variable werden aus den $S_n$ Mengen zufällige Boards ausgewählt und der Vergleich zwischen der KI und Stockfish zugeführt. Das Ergebnis wird in einer Datei hinterlegt."
   ]
  },
  {
   "cell_type": "code",
   "execution_count": null,
   "metadata": {},
   "outputs": [],
   "source": [
    "import random\n",
    "\n",
    "def test_random_boards(count, s_n_sequence_fen, s_n_sequence_short):\n",
    "    count_s_n = len(s_n_sequence_fen)\n",
    "    move_count_list = []\n",
    "    ki_better = 0\n",
    "    stockfish_better = 0\n",
    "    equal = 0\n",
    "    for board_c in range(count):\n",
    "        rand_sequence = random.randint(0, count_s_n-1)\n",
    "        rand_board = random.randint(0, len(s_n_sequence_fen[rand_sequence])-1)\n",
    "        rand_fen = list(s_n_sequence_fen[rand_sequence])[rand_board]\n",
    "        ki_moves = calculate_all_moves(rand_fen, s_n_sequence_short)\n",
    "        stockfish_moves = stockfish_movelist(rand_fen)\n",
    "        move_count = len(ki_moves)\n",
    "        cmp_move_count = len(stockfish_moves)\n",
    "        move_count_list.append(tuple((move_count, cmp_move_count, move_count - cmp_move_count)))\n",
    "        clear_output()\n",
    "        print(\"Analyzed \" + str(board_c+1) + \"/\" + str(count))\n",
    "    \n",
    "    filename = \"Random_\" + str(count) + \"_Compare_\" + str(datetime.today().replace(microsecond=0)).replace(\":\",\"_\")  + \".txt\"\n",
    "    write_result_to_file(filename,  \"random\", move_count_list)"
   ]
  },
  {
   "cell_type": "code",
   "execution_count": null,
   "metadata": {},
   "outputs": [],
   "source": [
    "test_random_boards(100, S_N_Sequence_fen, S_N_Sequence_fen_short)"
   ]
  },
  {
   "cell_type": "markdown",
   "metadata": {},
   "source": [
    "Bei `compare_sequence_stockfish` wird für jedes Board einer $S_n$ Menge überprüft, ob Stockfish oder die zuvor definierten Mengen das Board effizienter lösen. In Form von ``sequence_index`` wird das $n$ der $S_n$ Menge übergeben. Zusätzlich kann ein Name für eine Datei angegeben werden, sodass mehrere Testergebnisse in einer Datei festgehalten werden können. Das Beschreiben der Datei erfolgt mit der Funktion ``write_result_to_file``."
   ]
  },
  {
   "cell_type": "code",
   "execution_count": null,
   "metadata": {
    "pycharm": {
     "name": "#%%\n"
    }
   },
   "outputs": [],
   "source": [
    "def compare_sequence_stockfish(sequence_index, s_n_sequence_fen, s_n_sequence_short, g_filename = None):\n",
    "    s_n = s_n_sequence_fen[sequence_index]\n",
    "    move_count_list = []\n",
    "    length = len(s_n)\n",
    "    cmp_board = chess.Board()\n",
    "    r = 0\n",
    "    for board_fen in s_n:\n",
    "        ai_moves = calculate_all_moves(board_fen, s_n_sequence_short)\n",
    "        stockfish_moves = stockfish_movelist(board_fen)\n",
    "        move_count = len(ai_moves)\n",
    "        cmp_move_count = len(stockfish_moves)\n",
    "        move_count_list.append(tuple((move_count, cmp_move_count, move_count - cmp_move_count)))\n",
    "        clear_output()\n",
    "        print(\"Comparing S_\" + str(sequence_index) + \":\")\n",
    "        print(\"Compared \" + str(r+1) + \"/\" + str(length))\n",
    "        r+=1\n",
    "    \n",
    "    if g_filename is None:\n",
    "        filename = \"S_\" + str(sequence_index) + \"_Compare_\" + str(datetime.today().replace(microsecond=0)).replace(\":\",\"_\")  + \".txt\"\n",
    "        write_result_to_file(filename, sequence_index, move_count_list)\n",
    "    else:\n",
    "        write_result_to_file(g_filename, sequence_index, move_count_list)"
   ]
  },
  {
   "cell_type": "markdown",
   "metadata": {
    "pycharm": {
     "name": "#%% md\n"
    }
   },
   "source": [
    "Als Beispiel wird hier der Vergleich zwischen der KI und Stockfish für die Menge S_20 vorgenommen."
   ]
  },
  {
   "cell_type": "code",
   "execution_count": null,
   "metadata": {
    "pycharm": {
     "name": "#%%\n"
    }
   },
   "outputs": [],
   "source": [
    "compare_sequence_stockfish(20, S_N_Sequence_fen, S_N_Sequence_fen_short)"
   ]
  },
  {
   "cell_type": "markdown",
   "metadata": {
    "pycharm": {
     "name": "#%% md\n"
    }
   },
   "source": [
    "Das letzte Testszenario sieht vor alle zuvor bestimmten Boards mit dem Lösungsweg von Stockfish zu vergleichen. Hierfür geht die Funktion `compare_all_sequences` alle $S_n$ Mengen durch und vergleicht diese jeweils mit der Lösung von Stockfish. Alle Ergebnisse werden in eine Datei geschrieben."
   ]
  },
  {
   "cell_type": "code",
   "execution_count": null,
   "metadata": {
    "pycharm": {
     "name": "#%%\n"
    }
   },
   "outputs": [],
   "source": [
    "def compare_all_sequences(s_n_sequence_fen, s_n_sequence_short):\n",
    "    filename = \"All_S_Compare_\" + str(datetime.today().replace(microsecond=0)).replace(\":\",\"_\")  + \".txt\"\n",
    "    for i in range(len(s_n_sequence_fen)):\n",
    "        print(\"Comparing S_\" + str(i) + \"...\")\n",
    "        compare_sequence_stockfish(i, s_n_sequence_fen, s_n_sequence_short, filename)"
   ]
  },
  {
   "cell_type": "code",
   "execution_count": null,
   "metadata": {},
   "outputs": [],
   "source": [
    "compare_all_sequences(S_N_Sequence_fen, S_N_Sequence_fen_short)"
   ]
  },
  {
   "cell_type": "markdown",
   "metadata": {},
   "source": [
    "Für die visuelle Darstellung der Züge wurde die Funktion ``show_movelist`` definiert. Diese zeigt auf einem ``chess.Board`` eine mitgegebene Liste von Zügen. Für die Darstellung erhält die Funktion die ``fen``, die die Spielsituation zu Beginn der Partie darstellt. Außerdem wird eine Liste von Spielzügen, die dargestellt werden sollen, der Funktion mitgegeben (``moves``)."
   ]
  },
  {
   "cell_type": "code",
   "execution_count": null,
   "metadata": {
    "pycharm": {
     "name": "#%%\n"
    }
   },
   "outputs": [],
   "source": [
    "def show_movelist(fen, moves):\n",
    "    presentation_board = chess.Board(fen)\n",
    "    display(presentation_board)\n",
    "    time.sleep(2)\n",
    "    for move in moves:\n",
    "        presentation_board.push(move)\n",
    "        clear_output(wait=True)\n",
    "        display(presentation_board)\n",
    "        time.sleep(2)"
   ]
  }
 ],
 "metadata": {
  "kernelspec": {
   "display_name": "Python 3 (ipykernel)",
   "language": "python",
   "name": "python3"
  },
  "language_info": {
   "codemirror_mode": {
    "name": "ipython",
    "version": 3
   },
   "file_extension": ".py",
   "mimetype": "text/x-python",
   "name": "python",
   "nbconvert_exporter": "python",
   "pygments_lexer": "ipython3",
   "version": "3.9.5"
  }
 },
 "nbformat": 4,
 "nbformat_minor": 1
}