{
 "cells": [
  {
   "cell_type": "code",
   "execution_count": 4,
   "metadata": {
    "pycharm": {
     "name": "#%%\n"
    }
   },
   "outputs": [
    {
     "data": {
      "text/html": [
       "<link href='http://fonts.googleapis.com/css?family=Alegreya+Sans:100,300,400,500,700,800,900,100italic,300italic,400italic,500italic,700italic,800italic,900italic' rel='stylesheet' type='text/css'>\n",
       "<link href='http://fonts.googleapis.com/css?family=Arvo:400,700,400italic' rel='stylesheet' type='text/css'>\n",
       "<link href='http://fonts.googleapis.com/css?family=PT+Mono' rel='stylesheet' type='text/css'>\n",
       "<link href='http://fonts.googleapis.com/css?family=Shadows+Into+Light' rel='stylesheet' type='text/css'>\n",
       "<link href='http://fonts.googleapis.com/css?family=Philosopher:400,700,400italic,700italic' rel='stylesheet' type='text/css'>\n",
       "\n",
       "<style>\n",
       "\n",
       "@font-face {\n",
       "    font-family: \"Computer Modern\";\n",
       "    src: url('http://mirrors.ctan.org/fonts/cm-unicode/fonts/otf/cmunss.otf');\n",
       "}\n",
       "\n",
       ".container { width: 100% }\n",
       "\n",
       "/* Formatting for header cells */\n",
       ".text_cell_render h1 {\n",
       "    font-family: 'Philosopher', sans-serif;\n",
       "    font-weight: 400;\n",
       "    font-size: 2.2em;\n",
       "    line-height: 100%;\n",
       "    color: rgb(0, 80, 120);\n",
       "    margin-bottom: 0.1em;\n",
       "    margin-top: 0.1em;\n",
       "    display: block;\n",
       "}\n",
       ".text_cell_render h2 {\n",
       "    font-family: 'Philosopher', serif;\n",
       "    font-weight: 400;\n",
       "    font-size: 1.9em;\n",
       "    line-height: 100%;\n",
       "    color: rgb(200,100,0);\n",
       "    margin-bottom: 0.1em;\n",
       "    margin-top: 0.1em;\n",
       "    display: block;\n",
       "}\n",
       "\n",
       ".text_cell_render h3 {\n",
       "    font-family: 'Philosopher', serif;\n",
       "    margin-top:12px;\n",
       "    margin-bottom: 3px;\n",
       "    font-style: italic;\n",
       "    color: rgb(94,127,192);\n",
       "}\n",
       "\n",
       ".text_cell_render h4 {\n",
       "    font-family: 'Philosopher', serif;\n",
       "}\n",
       "\n",
       ".text_cell_render h5 {\n",
       "    font-family: 'Alegreya Sans', sans-serif;\n",
       "    font-weight: 300;\n",
       "    font-size: 16pt;\n",
       "    color: grey;\n",
       "    font-style: italic;\n",
       "    margin-bottom: .1em;\n",
       "    margin-top: 0.1em;\n",
       "    display: block;\n",
       "}\n",
       "\n",
       ".text_cell_render h6 {\n",
       "    font-family: 'PT Mono', sans-serif;\n",
       "    font-weight: 300;\n",
       "    font-size: 10pt;\n",
       "    color: grey;\n",
       "    margin-bottom: 1px;\n",
       "    margin-top: 1px;\n",
       "}\n",
       "\n",
       ".text_cell_render em {\n",
       "    font-family: 'Philosopher', sans-serif;\n",
       "    color:        blue;\n",
       "    background-color: rgb(255,220,180);\n",
       "    font-size:    110%;\n",
       "    margin-left:   2px;\n",
       "    margin-right:  2px;\n",
       "    font-weight:   100;\n",
       "}\n",
       "\n",
       ".text_cell_render b {\n",
       "    color:            rgb(255,195,195);\n",
       "    background-color: rgb(0,0,0);\n",
       "    font-size:    110%;\n",
       "    margin-left:   2px;\n",
       "    margin-right:  2px;\n",
       "    font-weight:   650;\n",
       "}\n",
       "\n",
       ".text_cell_render tt {\n",
       "    font-size:    120%;\n",
       "    margin-left:   2px;\n",
       "    margin-right:  2px;\n",
       "    font-weight:   150;\n",
       "}\n",
       "\n",
       ".Codemirror {\n",
       "    font-family: \"PT Mono\";\n",
       "    font-size: 100%;\n",
       "}\n",
       "\n",
       "</style>"
      ],
      "text/plain": [
       "<IPython.core.display.HTML object>"
      ]
     },
     "execution_count": 4,
     "metadata": {},
     "output_type": "execute_result"
    }
   ],
   "source": [
    "from IPython.core.display import HTML\n",
    "with open('style.html', 'r') as file:\n",
    "     css = file.read()\n",
    "HTML(css)"
   ]
  },
  {
   "cell_type": "markdown",
   "metadata": {
    "pycharm": {
     "name": "#%% md\n"
    }
   },
   "source": [
    "# Auswerten eines Schach-Endspiels\n",
    "\n",
    "Zum Vergleich, dass die berechneten Züge der KI eine gute Lösung für das Gewinnen einer Endspielsituation sind, wird das Programm Stockfish verwendet. Es stellt eine Schach-Engine dar, die nach einem zuvor definierten Muster optimale Schachzüge berechnet."
   ]
  },
  {
   "cell_type": "markdown",
   "metadata": {
    "pycharm": {
     "name": "#%% md\n"
    }
   },
   "source": [
    "## Importe\n",
    "\n",
    "Für die Durchführung der Tests und der Auswertung eines Schach-Endspiels gegen eine andere KI werden die hier stehenden Bibliotheken benötigt:\n",
    "\n",
    "* ``chess``: Die Python-Schach-Bibliothek, mit welcher Schachbretter dargestellt werden, Züge und Zustände ausgewertet etc.\n",
    "* ``stockfish``: Bibliothek, welche eine Python Schnittstelle für die Stockfish-Enginge anbietet.\n",
    "* ``clear_output`` aus der IPython-display-Library: Eine Funktion, die für die Fortschrittsanzeige von Berechnungen\n",
    "verwendet wird.\n",
    "* ``display`` aus der IPython-display-Library: Wird zum grafischen Anzeigen der Schachbretter verwendet.\n",
    "* ``json``: Wird zum Speichern der Ergebnisse verwendet.\n",
    "* ``time``: Wird zum Verzögern von Ausgaben verwendet."
   ]
  },
  {
   "cell_type": "code",
   "execution_count": 5,
   "metadata": {
    "pycharm": {
     "name": "#%%\n"
    }
   },
   "outputs": [],
   "source": [
    "import chess\n",
    "import stockfish\n",
    "from IPython.display import clear_output\n",
    "from IPython.display import display\n",
    "import json\n",
    "import time"
   ]
  },
  {
   "cell_type": "markdown",
   "metadata": {
    "pycharm": {
     "name": "#%% md\n"
    }
   },
   "source": [
    "## Konfiguration\n",
    "\n",
    "Zu Beginn müssen für den Vergleich unterschiedliche Variablen definiert werden. Diese beinhalten eine Fen, die für ein gegebenes Szenario überprüft werden soll, den Pfad zu der berechneten $S_n$ Sequenz und einen Pfad zu der Stockfish-Installation. Weiterhin wird eine globale Variable ``VERBOSE`` festgelegt, die ein Anzeigen von zusätzlichen Kommentaren ermöglicht."
   ]
  },
  {
   "cell_type": "code",
   "execution_count": 6,
   "metadata": {
    "pycharm": {
     "name": "#%%\n"
    }
   },
   "outputs": [],
   "source": [
    "FEN = \"4k3/8/8/8/8/8/8/R3K3 w - - 0 1\"\n",
    "S_N_FILE = \"S_n_seq_12_01.json\"\n",
    "STOCKFISH_PATH = \"./stockfish_14.1/stockfish_14.1_win_x64_avx2.exe\"\n",
    "VERBOSE = False\n",
    "\n",
    "STOCKFISH = stockfish.Stockfish(STOCKFISH_PATH)"
   ]
  },
  {
   "cell_type": "markdown",
   "metadata": {},
   "source": [
    "Der Vergleich der Spielbretter findet in diesem Notebook anhand der FEN-Schreibweise statt. Diese wird in zweierlei Form verwendet, in ihrer gesamten und in einer gekürzten Schreibweise. Die gekürzte Schreibweise beinhaltet nur das momentane Spielfeld, aber auch die Farbe, die gerade am Zug ist. Zur Erstellung dieser Schreibweise wurde die Funktion ``get_board_and_turn`` geschrieben. Diese erhält als Parameter eine komplette ``fen`` und gibt in der FEN-Notation das Brett und die Farbe, die am Zug ist, zurück."
   ]
  },
  {
   "cell_type": "code",
   "execution_count": 7,
   "metadata": {
    "pycharm": {
     "name": "#%%\n"
    }
   },
   "outputs": [],
   "source": [
    "def get_board_and_turn(fen):\n",
    "    split = fen.split()\n",
    "    short_fen = str(split[0]) + \" \" + str(split[1])\n",
    "    return short_fen"
   ]
  },
  {
   "cell_type": "markdown",
   "metadata": {
    "pycharm": {
     "name": "#%% md\n"
    }
   },
   "source": [
    "Für die Bestimmung der Züge der KI werden die $S_n$ Mengen verwendet, die mit Hilfe des Notebooks ``calculation.ipynb`` bestimmt werden. Diese wurden bereits in einer JSON-Datei serialisiert abgespeichert. Für dieses Notebook werden alle FENs gelesen und daraus Board-Objekte erstellt. Dies geschieht mit der Funktion ``load_s_n_sequence``. Diese erhält den Dateipfad (``filepath``) als Parameter, um aus der Datei die $S_n$ Mengen auslesen zu können.\n"
   ]
  },
  {
   "cell_type": "code",
   "execution_count": 8,
   "metadata": {
    "pycharm": {
     "name": "#%%\n"
    }
   },
   "outputs": [],
   "source": [
    "def load_s_n_sequence(filepath):\n",
    "    s_n_sequence_fen = []\n",
    "    s_n_sequence_short_fen = []\n",
    "    f = open(filepath, \"r\")\n",
    "    tmp = json.loads(f.read())\n",
    "    for item in tmp:\n",
    "        tmp_fen = set()\n",
    "        tmp_fen_short = set()\n",
    "        for board in item:\n",
    "            tmp_fen.add(board)\n",
    "            tmp_fen_short.add(get_board_and_turn(board))\n",
    "        s_n_sequence_fen.append(tmp_fen)\n",
    "        s_n_sequence_short_fen.append(tmp_fen_short)\n",
    "    f.close()\n",
    "    return s_n_sequence_fen, s_n_sequence_short_fen"
   ]
  },
  {
   "cell_type": "code",
   "execution_count": 9,
   "metadata": {
    "pycharm": {
     "name": "#%%\n"
    }
   },
   "outputs": [],
   "source": [
    "S_N_Sequence_fen, S_N_Sequence_fen_short = load_s_n_sequence(S_N_FILE)"
   ]
  },
  {
   "cell_type": "markdown",
   "metadata": {
    "pycharm": {
     "name": "#%% md\n"
    }
   },
   "source": [
    "## Die Züge für die KI ermitteln\n",
    "\n",
    "Der erste Schritt, um einen Zug für die KI zu ermitteln, liegt im Finden der momentanen Spielsituation. Dies wird mit der Funktion ``find_board_in_sequence`` erreicht. Sie durchsucht eine gegebene $S_n$ Sequenz nach einem übergebenen Schachbrett. Die Parameter hierfür lauten wie folgt:\n",
    "\n",
    "* ``fen``: Das Board (als FEN), welches gefunden werden soll.\n",
    "* ``sequence_short``: Eine Liste von $S_n$ Sequenzen, in welchen das Board gesucht wird, in gekürzter FEN-Schreibweise.\n",
    "\n",
    "Das Ergebnis der Funktion kann insgesamt zwei unterschiedliche Formen annehmen:\n",
    "* Einen Integer, der den $S_n$ Index (z.B. $S_3$) darstellt.\n",
    "* Der Wert -1. Dies drückt aus, dass das Board nicht gefunden wurde.\n",
    "\n",
    "Das Ergebniss wird mithilfe von dem anschließenden Algorithmus bestimmt:\n",
    "1. Über die $S_n$ Sequenzen iterieren.\n",
    "2. Schauen, ob die FEN in der $S_N$ Menge gefunden werden kann.\n",
    "    1. Wenn das Board existiert, N zurückgeben.\n",
    "    2. Wenn das Board nicht existiert, weitersuchen.\n",
    "3. Falls das Board nicht gefunden wird, -1 zurückgeben."
   ]
  },
  {
   "cell_type": "code",
   "execution_count": 10,
   "metadata": {
    "pycharm": {
     "name": "#%%\n"
    }
   },
   "outputs": [],
   "source": [
    "def find_fen_in_sequence(fen, sequence_short):\n",
    "    short = get_board_and_turn(fen)\n",
    "    for i in range(len(sequence_short)):\n",
    "        if short in sequence_short[i]:\n",
    "            return i\n",
    "    return -1"
   ]
  },
  {
   "cell_type": "markdown",
   "metadata": {
    "pycharm": {
     "name": "#%% md\n"
    }
   },
   "source": [
    "Nachdem das Brett in einer $S_n$ Menge gefunden wurde, ist der nächste Schritt den passenden Zug für die KI zu bestimmen. Zu diesem Zweck wurde die Funktion ``find_next_move`` definiert. Diese berechnet für eine übergebene FEN den idealen Spielzug. Weiterhin wird aus Effizienzgründen schon die Position des nächsten Bretts in der $S_n$ Sequenz zurückgegeben. Für diese Berechnung benötigt ``find_next_move`` nachkommende Argumente:\n",
    "\n",
    "* ``fen``: Die FEN, für welches der nächste Spielzug berechnet werden soll.\n",
    "* ``s_index``: Das $n$ eines $S_n$, in welchem sich die ``fen`` befindet. Wird aus Effizienzgründen übergeben.\n",
    "* ``s_n_sequence_short``: Die Liste mit allen $S_n$ in kürzer FEN-Schreibweise.\n",
    "\n",
    "Als Ergebnis liefert die Funktion den nächsten Move oder den Wert -1 als Hinweis, dass kein Spielzug berechnet werden konnte.\n",
    "\n",
    "Der Algorithmus dieser Funktion erstreckt sich folgender Art und Weise:\n",
    "* Führe alle möglichen Moves durch, bis das Ergebnis-Board in $S_{m}$ mit $m < n$ gefunden wurde.\n",
    "* Gebe den neuen ``s_index`` und den gefundenen ``move`` zurück.\n",
    "* Sofern das Board nicht gefunden wird, gebe -1 zurück."
   ]
  },
  {
   "cell_type": "code",
   "execution_count": 11,
   "metadata": {
    "pycharm": {
     "name": "#%%\n"
    }
   },
   "outputs": [],
   "source": [
    "def find_next_move(fen, s_index, s_n_sequence_short):\n",
    "    STOCKFISH.set_fen_position(fen)\n",
    "    curr_board = chess.Board(fen)\n",
    "    if curr_board.turn:\n",
    "        if VERBOSE:\n",
    "            print(\"---White:---\")\n",
    "            print(\"Starting in S\" + str(s_index))\n",
    "        for move in curr_board.legal_moves:\n",
    "            curr_board.push(move)\n",
    "            cur_fen = curr_board.fen()\n",
    "            _tmp = find_fen_in_sequence(cur_fen, [s_n_sequence_short[s_index - 1]])\n",
    "            s_index_tmp = s_index - 1\n",
    "            if _tmp != -1:\n",
    "                if VERBOSE:\n",
    "                    print(\"    Move: \" + str(move))\n",
    "                    print(\"    S\" + str(s_index_tmp))\n",
    "                    print(\"Ended in S\" + str(s_index))\n",
    "                curr_board.pop()\n",
    "                return s_index_tmp, move\n",
    "            curr_board.pop()\n",
    "\n",
    "        return -1, None\n",
    "    else:\n",
    "        if VERBOSE:\n",
    "            print(\"---Black:---\")\n",
    "            print(\"Starting in S\" + str(s_index))\n",
    "        move = chess.Move.from_uci(STOCKFISH.get_best_move())\n",
    "        curr_board.push(move)\n",
    "        cur_fen = curr_board.fen()\n",
    "        s_index = find_fen_in_sequence(cur_fen, s_n_sequence_short[:s_index])\n",
    "        if VERBOSE:\n",
    "            print(\"    Move: \" + str(move))\n",
    "            print(\"    S\" + str(s_index))\n",
    "            print(\"Ended in S\" + str(s_index))\n",
    "        curr_board.pop()\n",
    "        return s_index, move"
   ]
  },
  {
   "cell_type": "markdown",
   "metadata": {
    "pycharm": {
     "name": "#%% md\n"
    }
   },
   "source": [
    "## Vergleich zwischen Stockfish und KI\n",
    "\n",
    "Für den Vergleich werden die Anzahlen der Züge zwischen Stockfish und der selbstgeschriebenen KI miteinander verglichen.\n",
    "\n",
    "Bei der Berechnung der Züge für die KI wird die Funktion ``calculate_all_moves`` verwendet. Diese berechnet in einer Schleife alle Moves ausgehend von einer FEN, bis die KI gewonnen hat. Die Berechnung verwendet hierzu folgende Parameter:\n",
    "\n",
    "* ``fen``: Die FEN der Spielsituation, die berechnet werden soll.\n",
    "* ``s_n_sequence_short``: Die Liste der $S_n$ in Kurzschreibweise, welche für die Figurenkonstellation berechnet wurde.\n",
    "\n",
    "Das Ergebnis der Ausführung ist eine Liste aller Moves, welche für das Board berechnet wurde oder der Wert None als Hinweis, dass kein Sieg erzielt werden konnte.\n",
    "\n",
    "Die Liste wurde durch den anschließenden Algorithmus bestimmt:\n",
    "* Einordnung der übergebenen FEN in der $S_n$ Sequenz finden.\n",
    "* Solange $n > 0$ in einer Schleife den nächsten Spielzug berechnen.\n",
    "* Die Liste der errechneten Spielzüge zurückgeben."
   ]
  },
  {
   "cell_type": "code",
   "execution_count": 12,
   "metadata": {
    "pycharm": {
     "name": "#%%\n"
    }
   },
   "outputs": [],
   "source": [
    "def calculate_all_moves(fen, s_n_sequence_short):\n",
    "    moves = []\n",
    "\n",
    "    s_index = find_fen_in_sequence(fen, s_n_sequence_short)\n",
    "\n",
    "    board = chess.Board(fen)\n",
    "    while s_index > 0:\n",
    "        cur_fen = board.fen()\n",
    "        s_index, next_move = find_next_move(cur_fen, s_index, s_n_sequence_short)\n",
    "        board.push(next_move)\n",
    "        moves.append(next_move)\n",
    "\n",
    "    if s_index == -1:\n",
    "        return None\n",
    "\n",
    "    return moves"
   ]
  },
  {
   "cell_type": "markdown",
   "metadata": {
    "pycharm": {
     "name": "#%% md\n"
    }
   },
   "source": [
    "Nachdem eine Liste aller Züge für die KI bestimmt wurden, gilt dies gleichermaßen für die Berechnung von Stockfish umzusetzen. Hierfür erhält die Funktion ``stockfish_movelist`` den Parameter:\n",
    "* ``fen``: Die FEN des Boardes, für welches alle Züge berechnet werden sollen.\n",
    "\n",
    "Nach der Ausführung erhält man ebenso eine List von Spielzügen.\n",
    "\n",
    "Die Liste wurde mit einem leicht abgeänderten Algorithmus bestimmt:\n",
    "* Solange das Spiel nicht beendet ist, einen weiteren Zug berechnen.\n",
    "* Am Ende alle Züge zurückgeben."
   ]
  },
  {
   "cell_type": "code",
   "execution_count": 13,
   "metadata": {
    "pycharm": {
     "name": "#%%\n"
    }
   },
   "outputs": [],
   "source": [
    "def stockfish_movelist(fen):\n",
    "    moves = []\n",
    "\n",
    "    board = chess.Board(fen)\n",
    "\n",
    "    while not board.is_game_over():\n",
    "        STOCKFISH.set_fen_position(board.fen())\n",
    "        next_move = chess.Move.from_uci(STOCKFISH.get_best_move())\n",
    "        board.push(next_move)\n",
    "        moves.append(next_move)\n",
    "\n",
    "    return moves\n"
   ]
  },
  {
   "cell_type": "markdown",
   "metadata": {
    "pycharm": {
     "name": "#%% md\n"
    }
   },
   "source": [
    "Bei `compare_sequence_stockfish` wird für jedes Board einer $S_n$ Menge überprüft, ob Stockfish oder die zuvor definierten Mengen das Board effizienter lösen. Dabei gilt es für den Vergleich zu beachten, dass folgende Vorgehensweise verwendet wird.\n",
    "- `Stockfish`: Für sowohl schwarz, als auch für weiß, werden die Züge mit der Funktion ``Stockfish().get_best_move()`` bestimmt.\n",
    "- `KI`: Für weiß werden die Züge anhand der $S_n$ Mengen bestimmt, die schwarzen Züge werden mit der Funktion ``Stockfish().get_best_move`` gewählt.\n",
    "\n",
    "Die Funktion, die für den Vergleich mit Stockfish angewandt wurde, birgt die Gefahr, dass durch Stockfish für schwarz\n",
    "nicht der beste Zug ausgewählt wird und dadurch das Ergebnis beeinflusst. Diese Gefahr erhöht sich vor allem dann, wenn\n",
    "sich die Züge bis zu einem Schachmatt erhöhen, da bei jedem Zug von schwarz die Gefahr besteht, dass nicht der beste Zug\n",
    "ausgewählt wird. Deshalb werden bei beiden Berechnungen die Züge für schwarz von Stockfish bestimmt, wobei das Risiko in geringem Maße bestehen bleibt.\n",
    "\n",
    "Die Funktion erhält als Parameter:\n",
    "- ``sequence_index``: Das N der Menge, für die alle Bretter überprüft werden sollen.\n",
    "(Bsp.: S_10 -> ``sequence_index = 10``)\n",
    "- ``s_n_sequence_fen``: Alle $S_n$ Mengen in FEN-Schreibweise.\n",
    "- ``s_n_sequence_short``: Alle $S_n$ Mengen in verkürzter FEN-Schreibweise.\n",
    "\n",
    "In der Datei ``stockfish_compare.txt`` wird nach den Berechnungen festgehalten, zu wie viel % Stockfish und zu wie viel % die selbstgeschriebene KI bessere Ergebnisse erzielt hat. Außerdem wird noch notiert zu welchem Teil sowohl Stockfish, als auch die KI gleiche\n",
    "Ergebnisse erzielt haben. Zum Nachvollziehen wird dem Nutzer in der Konsole der aktuelle Rechenstand angezeigt."
   ]
  },
  {
   "cell_type": "code",
   "execution_count": 16,
   "metadata": {
    "pycharm": {
     "name": "#%%\n"
    }
   },
   "outputs": [],
   "source": [
    "def compare_sequence_stockfish(sequence_index, s_n_sequence_fen, s_n_sequence_short):\n",
    "    s_n = s_n_sequence_fen[sequence_index]\n",
    "    move_count_list = []\n",
    "    diff_list = []\n",
    "    length = len(s_n)\n",
    "    r = 0\n",
    "    for board_fen in s_n:\n",
    "        seq_index = sequence_index\n",
    "        cmp_board = chess.Board(board_fen)\n",
    "        move_count = 0\n",
    "        if board_fen in s_n:\n",
    "            cur_fen = board_fen\n",
    "            while seq_index > 0:\n",
    "                board_to_use = chess.Board(cur_fen)\n",
    "                if board_to_use.turn:\n",
    "                    # White\n",
    "                    for p_move in board_to_use.legal_moves:\n",
    "                        board_to_use.push(p_move)\n",
    "                        tmp_fen = board_to_use.fen()\n",
    "                        s_tmp = find_fen_in_sequence(tmp_fen, [s_n_sequence_short[seq_index-1]])\n",
    "                        if s_tmp != -1:\n",
    "                            seq_index -= 1\n",
    "                            move_count += 1\n",
    "                            cur_fen = board_to_use.fen()\n",
    "                            break\n",
    "                        board_to_use.pop()\n",
    "                else:\n",
    "                    # Black\n",
    "                    STOCKFISH.set_fen_position(board_to_use.fen())\n",
    "                    nxt_move = chess.Move.from_uci(STOCKFISH.get_best_move())\n",
    "                    board_to_use.push(nxt_move)\n",
    "                    move_count += 1\n",
    "                    tmp_fen = board_to_use.fen()\n",
    "                    seq_index = find_fen_in_sequence(tmp_fen, s_n_sequence_short[:seq_index])\n",
    "                    cur_fen = board_to_use.fen()\n",
    "        else:\n",
    "            print(\"Couldn't find board!\")\n",
    "\n",
    "        cmp_move_count = 0\n",
    "        while not cmp_board.is_game_over():\n",
    "            STOCKFISH.set_fen_position(cmp_board.fen())\n",
    "            nxt_move = chess.Move.from_uci(STOCKFISH.get_best_move())\n",
    "            cmp_board.push(nxt_move)\n",
    "            cmp_move_count += 1\n",
    "        move_count_list.append((move_count, cmp_move_count, move_count - cmp_move_count))\n",
    "        diff_list.append(move_count - cmp_move_count)\n",
    "        clear_output()\n",
    "        print(\"Comparing S_\" + str(sequence_index) + \":\")\n",
    "        print(\"Compared \" + str(r+1) + \"/\" + str(length))\n",
    "        r+=1\n",
    "    ki_better = 0\n",
    "    stockfish_better = 0\n",
    "    equal = 0\n",
    "    for value in diff_list:\n",
    "        if value == 0:\n",
    "            equal += 1\n",
    "        elif value < 0:\n",
    "            ki_better += 1\n",
    "        else:\n",
    "            stockfish_better += 1\n",
    "    cmp_values = len(diff_list)\n",
    "    f = open(\"Stockfish_compare.txt\", \"a+\")\n",
    "    f.write(\"S_\" + str(sequence_index) + \":\\n\")\n",
    "    f.write(\"Stockfish war zu \" + str(round((stockfish_better/cmp_values) * 100, 2)) + \"% besser\\n\")\n",
    "    f.write(\"Die KI war zu \" + str(round((ki_better/cmp_values) * 100, 2)) + \"% besser\\n\")\n",
    "    f.write(\"Stockfish und die KI haben zu \" + str(round((equal/cmp_values) * 100, 2)) + \"% die gleichen Ergebnisse erzielt\\n\")\n",
    "    f.close()"
   ]
  },
  {
   "cell_type": "markdown",
   "metadata": {
    "pycharm": {
     "name": "#%% md\n"
    }
   },
   "source": [
    "Als Beispiel wird hier der Vergleich zwischen der KI und Stockfish für die Menge S_20 vorgenommen."
   ]
  },
  {
   "cell_type": "code",
   "execution_count": 18,
   "metadata": {
    "pycharm": {
     "name": "#%%\n"
    }
   },
   "outputs": [
    {
     "name": "stdout",
     "output_type": "stream",
     "text": [
      "Comparing S_0:\n",
      "Compared 216/216\n"
     ]
    }
   ],
   "source": [
    "compare_sequence_stockfish(20, S_N_Sequence_fen, S_N_Sequence_fen_short)"
   ]
  },
  {
   "cell_type": "markdown",
   "metadata": {
    "pycharm": {
     "name": "#%% md\n"
    }
   },
   "source": [
    "Ein Testszenario sieht auch vor alle zuvor bestimmten Boards mit dem Lösungsweg von Stockfish zu vergleichen. Hierfür\n",
    "geht die Funktion `compare_all_sequences` alle S_n-Mengen durch und vergleicht diese jeweils mit der Lösung von\n",
    "Stockfish."
   ]
  },
  {
   "cell_type": "code",
   "execution_count": null,
   "metadata": {
    "pycharm": {
     "name": "#%%\n"
    }
   },
   "outputs": [],
   "source": [
    "def compare_all_sequences(s_n_sequence_fen, s_n_short):\n",
    "    for i in range(len(s_n_sequence_fen)):\n",
    "        print(\"Comparing S_\" + str(i) + \"...\")\n",
    "        compare_sequence_stockfish(i, s_n_sequence_fen, s_n_short)"
   ]
  },
  {
   "cell_type": "code",
   "execution_count": null,
   "metadata": {
    "pycharm": {
     "name": "#%%\n"
    }
   },
   "outputs": [],
   "source": [
    "compare_all_sequences(S_N_Sequence_fen, S_N_Sequence_fen_short)"
   ]
  },
  {
   "cell_type": "markdown",
   "metadata": {},
   "source": [
    "Für die visuelle Darstellung der Züge wurde die Funktion ``show_movelist`` definiert. Diese zeigt auf einem ``chess.Board`` eine mitgegebene Liste von Zügen. Die Funktionsargumente der Funktion lauten:\n",
    "* ``fen``: Die Fen des Boardes, für welches alle Züge dargestellt werden sollen.\n",
    "* ``moves``: Die Liste der Spielzüge, welche dargestellt werden sollen."
   ]
  },
  {
   "cell_type": "code",
   "execution_count": null,
   "metadata": {
    "pycharm": {
     "name": "#%%\n"
    }
   },
   "outputs": [],
   "source": [
    "def show_movelist(fen, moves):\n",
    "    presentation_board = chess.Board(fen)\n",
    "    display(presentation_board)\n",
    "    time.sleep(2)\n",
    "    for move in moves:\n",
    "        presentation_board.push(move)\n",
    "        clear_output(wait=True)\n",
    "        display(presentation_board)\n",
    "        time.sleep(2)"
   ]
  },
  {
   "cell_type": "markdown",
   "metadata": {},
   "source": [
    "Der Vergleich zwischen der KI und Stockfish kann nun anhand der Länge der Listen durchgeführt werden. Außerdem können die Züge durch die Funktion ``show_movelist`` nachvollzogen werden."
   ]
  },
  {
   "cell_type": "code",
   "execution_count": null,
   "metadata": {
    "pycharm": {
     "name": "#%%\n"
    }
   },
   "outputs": [],
   "source": [
    "Moves = calculate_all_moves(FEN, S_N_Sequence_fen_short)\n",
    "Stockfish_Moves = stockfish_movelist(FEN)\n",
    "\n",
    "if Moves is not None:\n",
    "    print(\"AI needed \" + str(len(Moves)) + \" moves to beat Stockfish as Black.\")\n",
    "else:\n",
    "    print(\"AI found no way to beat Black.\")\n",
    "\n",
    "print(\"Stockfish needed \" + str(len(Stockfish_Moves)) + \" moves to win against itself.\")"
   ]
  },
  {
   "cell_type": "code",
   "execution_count": null,
   "metadata": {
    "pycharm": {
     "name": "#%%\n"
    }
   },
   "outputs": [],
   "source": [
    "show_movelist(FEN, Moves)"
   ]
  }
 ],
 "metadata": {
  "kernelspec": {
   "display_name": "Python 3 (ipykernel)",
   "language": "python",
   "name": "python3"
  },
  "language_info": {
   "codemirror_mode": {
    "name": "ipython",
    "version": 3
   },
   "file_extension": ".py",
   "mimetype": "text/x-python",
   "name": "python",
   "nbconvert_exporter": "python",
   "pygments_lexer": "ipython3",
   "version": "3.9.5"
  }
 },
 "nbformat": 4,
 "nbformat_minor": 1
}