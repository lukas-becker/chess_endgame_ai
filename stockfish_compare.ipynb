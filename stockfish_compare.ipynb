{
 "cells": [
  {
   "cell_type": "markdown",
   "source": [
    "# Auswerten eines Schach-Endspiels"
   ],
   "metadata": {
    "collapsed": false,
    "pycharm": {
     "name": "#%% md\n"
    }
   }
  },
  {
   "cell_type": "markdown",
   "source": [
    "## Imports, die für dieses Notebook benötigt werden"
   ],
   "metadata": {
    "collapsed": false,
    "pycharm": {
     "name": "#%% md\n"
    }
   }
  },
  {
   "cell_type": "code",
   "execution_count": null,
   "metadata": {
    "pycharm": {
     "name": "#%%\n"
    }
   },
   "outputs": [],
   "source": [
    "import chess\n",
    "import stockfish\n",
    "from IPython.display import clear_output\n",
    "from IPython.display import display\n",
    "import json\n",
    "from stockfish import Stockfish\n",
    "import time"
   ]
  },
  {
   "cell_type": "markdown",
   "source": [
    "## Konfiguration und globale Variablen\n",
    "\n",
    "An dieser Stelle kann eine FEN eingegeben werden, welche die Figuren enthält, mit welcher die $S_n$ Sequenz aus der\n",
    "ebenfalls einzugebenden Datei berechnet wurde.\n",
    "\n",
    "Weiter muss der Pfad zu einer Stockfish-Installation angegeben werden."
   ],
   "metadata": {
    "collapsed": false,
    "pycharm": {
     "name": "#%% md\n"
    }
   }
  },
  {
   "cell_type": "code",
   "execution_count": null,
   "metadata": {
    "pycharm": {
     "name": "#%%\n"
    }
   },
   "outputs": [],
   "source": [
    "FEN = \"4k3/8/8/8/8/8/8/R3K3 w - - 0 1\"\n",
    "S_N_FILE = \"S_n_seq_12_01.json\"\n",
    "STOCKFISH_PATH = \"./stockfish_14.1/stockfish_14.1_win_x64_avx2.exe\"\n",
    "VERBOSE = False\n",
    "\n",
    "STOCKFISH = stockfish.Stockfish(STOCKFISH_PATH)"
   ]
  },
  {
   "cell_type": "markdown",
   "source": [
    "## Import der Daten\n",
    "\n",
    "Die Daten wurden als FEN in der JSON-Datei Serialisiert.\n",
    "Zum Initialisieren der Liste werden alle FENs gelesen und Board-Objekte erstellt."
   ],
   "metadata": {
    "collapsed": false,
    "pycharm": {
     "name": "#%% md\n"
    }
   }
  },
  {
   "cell_type": "code",
   "execution_count": null,
   "metadata": {
    "pycharm": {
     "name": "#%%\n"
    }
   },
   "outputs": [],
   "source": [
    "def load_s_n_sequence(filepath):\n",
    "    s_n_sequence_new = []\n",
    "    f = open(filepath, \"r\")\n",
    "    tmp = json.loads(f.read())\n",
    "    for item in tmp:\n",
    "        tmp_list = []\n",
    "        for board in item:\n",
    "            tmp_list.append(chess.Board(board))\n",
    "        s_n_sequence_new.append(tmp_list)\n",
    "    f.close()\n",
    "    return s_n_sequence_new"
   ]
  },
  {
   "cell_type": "markdown",
   "source": [
    "## die *find_board_in_sequence* Hilfsfunktion\n",
    "\n",
    "Diese Funktion durchsucht eine $S_n$ Sequenz nach dem ersten Vorkommen eines übergebenen Board-Objekts.\n",
    "\n",
    "Funktionsargumente:\n",
    "* situation: Das Board (als Objekt), welches gefunden werden soll\n",
    "* sequence: Die $S_n$ Sequenz, in welcher das Board gesucht wird\n",
    "\n",
    "Ergebnis der Ausführung:\n",
    "* Die Funktion hat zwei mögliche Rückgaben:\n",
    "  * Ein Tupel mit $S_n$ Index (z.B. $S_3$) und Board-Index (z.B. 100).\n",
    "    Dieses Tupel drückt aus, wo in der Sequenz das Board gefunden wurde.\n",
    "  * Das Tupel (-1,-1). Dies drückt aus, dass das Board nicht gefunden wurde.\n",
    "\n",
    "Nebeneffekte:\n",
    "Die Funktion verändert keinen der übergebenen Parameter.\n",
    "\n",
    "Algorithmus:\n",
    "1. Über die $S_n$ Sequenz iterieren.\n",
    "2. Über jedes Board in einem spezifischem $S_n$ iterieren.\n",
    "3. Das Board mit dem _situation_ Objekt vergleichen.\n",
    "    1. Wenn das Board übereinstimmt, die Indizes zurückgeben.\n",
    "    2. Wenn das Board nicht übereinstimmt, weitersuchen."
   ],
   "metadata": {
    "collapsed": false,
    "pycharm": {
     "name": "#%% md\n"
    }
   }
  },
  {
   "cell_type": "code",
   "execution_count": null,
   "metadata": {
    "pycharm": {
     "name": "#%%\n"
    }
   },
   "outputs": [],
   "source": [
    "def find_board_in_sequence(situation, sequence):\n",
    "    board_str = (situation.turn, situation.__str__())\n",
    "\n",
    "    for i in range(len(sequence)):\n",
    "        for j in range(len(sequence[i])):\n",
    "            item = sequence[i][j]\n",
    "            if board_str == (item.turn, item.__str__()):\n",
    "                return i, j\n",
    "    return -1,-1"
   ]
  },
  {
   "cell_type": "markdown",
   "source": [
    "## Die *find_next_move* Hilfsfunktion\n",
    "Diese Funktion berechnet aus einem übergebenen Board den idealen Spielzug.\n",
    "Aus Effizienzgründen gibt sie auch die Position des nächsten Boards in der $S_n$ Sequenz zurück.\n",
    "\n",
    "Funktionsparameter:\n",
    "* *curr_board*: Das Board, für welches der nächste Spielzug berechnet werden soll.\n",
    "* *s_index*: Das $n$ eines $S_n$, in welchem sich *curr_board* befindet.\n",
    "Wird aus effizienz Gründen übergeben.\n",
    "* *s_n_sequence*: Die Liste mit allen $S_n$\n",
    "\n",
    "Ergebnis der Ausführung:\n",
    "* Rückgabe: Der nächsten Move oder der Wert -1 als Hinweis, dass kein Spielzug berechnet werden konnte\n",
    "\n",
    "Nebeneffekte:\n",
    "* Keine.\n",
    "\n",
    "Algorithmus:\n",
    "* Überprüfe, ob Weiß oder Schwarz am Zug ist.\n",
    "* Wenn Weiß:\n",
    "  * Führe alle möglichen moves durch, bis das Ergebnis-Board in $S_{n-1}$ gefunden wurde.\n",
    "* Wenn Schwarz:\n",
    "  * Nutze die *get_best_move* Funktion der Stockfish-Engine.\n",
    "  * Berechne den s_index und board_index des Boards, nach dem Zug.\n",
    "* Gebe den neuen s_index, board_index und den gefundenen move zurück."
   ],
   "metadata": {
    "collapsed": false,
    "pycharm": {
     "name": "#%% md\n"
    }
   }
  },
  {
   "cell_type": "code",
   "execution_count": null,
   "outputs": [],
   "source": [
    "STOCKFISH = Stockfish(STOCKFISH_PATH)\n",
    "\n",
    "def find_next_move(curr_board, s_index, s_n_sequence):\n",
    "    STOCKFISH.set_fen_position(curr_board.fen())\n",
    "    if curr_board.turn:\n",
    "        if VERBOSE:\n",
    "            print(\"---White:---\")\n",
    "            print(\"Starting in S\" + str(s_index))\n",
    "        for move in curr_board.legal_moves:\n",
    "            curr_board.push(move)\n",
    "            _tmp, board_index_tmp = find_board_in_sequence(curr_board, [s_n_sequence[s_index - 1]])\n",
    "            s_index_tmp = s_index - 1\n",
    "            if board_index_tmp != -1:\n",
    "                if VERBOSE:\n",
    "                    print(\"    Move: \" + str(move))\n",
    "                    print(\"    S\" + str(s_index_tmp) + \" - Board: \" + str(board_index_tmp))\n",
    "                    print(\"Ended in S\" + str(s_index))\n",
    "                curr_board.pop()\n",
    "                return s_index_tmp, board_index_tmp, move\n",
    "            curr_board.pop()\n",
    "\n",
    "        return -1, -1, None\n",
    "    else:\n",
    "        if VERBOSE:\n",
    "            print(\"---Black:---\")\n",
    "            print(\"Starting in S\" + str(s_index))\n",
    "        move = chess.Move.from_uci(STOCKFISH.get_best_move())\n",
    "        curr_board.push(move)\n",
    "        s_index, board_index = find_board_in_sequence(curr_board, s_n_sequence[:s_index])\n",
    "        if VERBOSE:\n",
    "            print(\"    Move: \" + str(move))\n",
    "            print(\"    S\" + str(s_index) + \" - Board: \" + str(board_index))\n",
    "            print(\"Ended in S\" + str(s_index))\n",
    "        curr_board.pop()\n",
    "        return s_index, board_index, move"
   ],
   "metadata": {
    "collapsed": false,
    "pycharm": {
     "name": "#%%\n"
    }
   }
  },
  {
   "cell_type": "markdown",
   "source": [
    "## Die *calculate_all_moves* Hilfsfunktion\n",
    "Diese Funktion berechnet in einer Schleife alle Moves ausgehend von einer Fen, bis zu einem Gewinn.\n",
    "\n",
    "Funktionsargumente:\n",
    "* *fen*: Die FEN der Spielsituation, die berechnet werden soll.\n",
    "* *s_n_sequence*: Die Liste der $S_n$, welche für die Figurenkonstellation berechnet wurde.\n",
    "\n",
    "Ergebnis der Ausführung:\n",
    "* Die Liste aller Moves, welche für das Board berechnet wurde oder der Wert None als Hinweis, dass kein Sieg erzielt\n",
    "werden konnte.\n",
    "\n",
    "Nebeneffekte:\n",
    "* Keine.\n",
    "\n",
    "Algorithmus:\n",
    "* Einordnung der übergebenen FEN in der $S_n$ Sequenz finden.\n",
    "* Solange $n > 0$ in einer Schleife den nächsten Spielzug berechnen.\n",
    "* Die Liste der errechneten Spielzüge zurückgeben."
   ],
   "metadata": {
    "collapsed": false,
    "pycharm": {
     "name": "#%% md\n"
    }
   }
  },
  {
   "cell_type": "code",
   "execution_count": null,
   "outputs": [],
   "source": [
    "def calculate_all_moves(fen, s_n_sequence):\n",
    "    moves = []\n",
    "\n",
    "    board = chess.Board(fen)\n",
    "\n",
    "    s_index, board_index = find_board_in_sequence(board, s_n_sequence)\n",
    "\n",
    "    while s_index > 0:\n",
    "        curr_board = s_n_sequence[s_index][board_index].copy()\n",
    "        s_index, board_index, next_move = find_next_move(curr_board, s_index, s_n_sequence)\n",
    "        moves.append(next_move)\n",
    "\n",
    "    if s_index == -1:\n",
    "        return None\n",
    "\n",
    "    return moves"
   ],
   "metadata": {
    "collapsed": false,
    "pycharm": {
     "name": "#%%\n"
    }
   }
  },
  {
   "cell_type": "markdown",
   "source": [
    "## Die *stockfish_movelist* Hilfsfunktion\n",
    "Diese Funktion sammelt alle Züge, welche Stockfish bis zum Sieg durchführt.\n",
    "\n",
    "Funktionsparameter:\n",
    "* *fen*: Die FEN des Boardes, für welches alle Züge berechnet werden sollen.\n",
    "\n",
    "Ergebnis der Ausführung:\n",
    "* Eine Liste an Spielzügen\n",
    "\n",
    "Nebeneffekte:\n",
    "* Keine.\n",
    "\n",
    "Algorithmus:\n",
    "* Solange das Spiel nicht beendet ist einen weiteren Zug berechnen\n",
    "* Am Ende alle Züge zurückgeben."
   ],
   "metadata": {
    "collapsed": false,
    "pycharm": {
     "name": "#%% md\n"
    }
   }
  },
  {
   "cell_type": "code",
   "execution_count": null,
   "outputs": [],
   "source": [
    "def stockfish_movelist(fen):\n",
    "    moves = []\n",
    "\n",
    "    board = chess.Board(fen)\n",
    "\n",
    "    while not board.is_game_over():\n",
    "        STOCKFISH.set_fen_position(board.fen())\n",
    "        next_move = chess.Move.from_uci(STOCKFISH.get_best_move())\n",
    "        board.push(next_move)\n",
    "        moves.append(next_move)\n",
    "\n",
    "    return moves"
   ],
   "metadata": {
    "collapsed": false,
    "pycharm": {
     "name": "#%%\n"
    }
   }
  },
  {
   "cell_type": "markdown",
   "source": [
    "## Sie *show_movelist* Hilfsfunktion\n",
    "Diese Funktion zeigt Spielzüge in einer Liste visuell auf dem Schachbrett.\n",
    "\n",
    "Funktionsparameter:\n",
    "* *fen*: Die FEN des Boardes, für welches alle Züge dargestellt werden sollen.\n",
    "* *moves*: Die Liste der Spielzüge, welche dargestellt werden sollen.\n",
    "\n",
    "Nebeneffekte:\n",
    "* Keine."
   ],
   "metadata": {
    "collapsed": false,
    "pycharm": {
     "name": "#%% md\n"
    }
   }
  },
  {
   "cell_type": "code",
   "execution_count": null,
   "metadata": {
    "pycharm": {
     "name": "#%%\n"
    }
   },
   "outputs": [],
   "source": [
    "def show_movelist(fen, moves):\n",
    "    presentation_board = chess.Board(fen)\n",
    "    display(presentation_board)\n",
    "    time.sleep(2)\n",
    "    for move in moves:\n",
    "        presentation_board.push(move)\n",
    "        clear_output(wait=True)\n",
    "        display(presentation_board)\n",
    "        time.sleep(2)"
   ]
  },
  {
   "cell_type": "markdown",
   "source": [
    "## Berechnen der Züge, anzeigen dieser und ein Vergleich mit Stockfish"
   ],
   "metadata": {
    "collapsed": false,
    "pycharm": {
     "name": "#%% md\n"
    }
   }
  },
  {
   "cell_type": "code",
   "execution_count": null,
   "outputs": [],
   "source": [
    "S_N_Sequence = load_s_n_sequence(S_N_FILE)\n",
    "Moves = calculate_all_moves(FEN, S_N_Sequence)\n",
    "Stockfish_Moves = stockfish_movelist(FEN)\n",
    "\n",
    "if Moves is not None:\n",
    "    print(\"AI needed \" + str(len(Moves)) + \" moves to beat Stockfish as Black.\")\n",
    "else:\n",
    "    print(\"AI found no way to beat Black.\")\n",
    "\n",
    "print(\"Stockfish needed \" + str(len(Stockfish_Moves)) + \" moves to win against itself.\")"
   ],
   "metadata": {
    "collapsed": false,
    "pycharm": {
     "name": "#%%\n"
    }
   }
  },
  {
   "cell_type": "code",
   "execution_count": null,
   "outputs": [],
   "source": [
    "show_movelist(FEN, Moves)"
   ],
   "metadata": {
    "collapsed": false,
    "pycharm": {
     "name": "#%%\n"
    }
   }
  },
  {
   "cell_type": "code",
   "execution_count": null,
   "outputs": [],
   "source": [],
   "metadata": {
    "collapsed": false,
    "pycharm": {
     "name": "#%%\n"
    }
   }
  }
 ],
 "metadata": {
  "kernelspec": {
   "display_name": "Python 3 (ipykernel)",
   "language": "python",
   "name": "python3"
  },
  "language_info": {
   "codemirror_mode": {
    "name": "ipython",
    "version": 3
   },
   "file_extension": ".py",
   "mimetype": "text/x-python",
   "name": "python",
   "nbconvert_exporter": "python",
   "pygments_lexer": "ipython3",
   "version": "3.9.8"
  }
 },
 "nbformat": 4,
 "nbformat_minor": 1
}