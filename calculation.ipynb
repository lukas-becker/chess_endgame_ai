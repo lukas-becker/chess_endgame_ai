{
 "cells": [
  {
   "cell_type": "code",
   "execution_count": 46,
   "metadata": {
    "pycharm": {
     "name": "#%%\n"
    }
   },
   "outputs": [
    {
     "data": {
      "text/plain": "<IPython.core.display.HTML object>",
      "text/html": "<link href='http://fonts.googleapis.com/css?family=Alegreya+Sans:100,300,400,500,700,800,900,100italic,300italic,400italic,500italic,700italic,800italic,900italic' rel='stylesheet' type='text/css'>\n<link href='http://fonts.googleapis.com/css?family=Arvo:400,700,400italic' rel='stylesheet' type='text/css'>\n<link href='http://fonts.googleapis.com/css?family=PT+Mono' rel='stylesheet' type='text/css'>\n<link href='http://fonts.googleapis.com/css?family=Shadows+Into+Light' rel='stylesheet' type='text/css'>\n<link href='http://fonts.googleapis.com/css?family=Philosopher:400,700,400italic,700italic' rel='stylesheet' type='text/css'>\n\n<style>\n\n@font-face {\n    font-family: \"Computer Modern\";\n    src: url('http://mirrors.ctan.org/fonts/cm-unicode/fonts/otf/cmunss.otf');\n}\n\n.container { width: 100% }\n\n/* Formatting for header cells */\n.text_cell_render h1 {\n    font-family: 'Philosopher', sans-serif;\n    font-weight: 400;\n    font-size: 2.2em;\n    line-height: 100%;\n    color: rgb(0, 80, 120);\n    margin-bottom: 0.1em;\n    margin-top: 0.1em;\n    display: block;\n}\n.text_cell_render h2 {\n    font-family: 'Philosopher', serif;\n    font-weight: 400;\n    font-size: 1.9em;\n    line-height: 100%;\n    color: rgb(200,100,0);\n    margin-bottom: 0.1em;\n    margin-top: 0.1em;\n    display: block;\n}\n\n.text_cell_render h3 {\n    font-family: 'Philosopher', serif;\n    margin-top:12px;\n    margin-bottom: 3px;\n    font-style: italic;\n    color: rgb(94,127,192);\n}\n\n.text_cell_render h4 {\n    font-family: 'Philosopher', serif;\n}\n\n.text_cell_render h5 {\n    font-family: 'Alegreya Sans', sans-serif;\n    font-weight: 300;\n    font-size: 16pt;\n    color: grey;\n    font-style: italic;\n    margin-bottom: .1em;\n    margin-top: 0.1em;\n    display: block;\n}\n\n.text_cell_render h6 {\n    font-family: 'PT Mono', sans-serif;\n    font-weight: 300;\n    font-size: 10pt;\n    color: grey;\n    margin-bottom: 1px;\n    margin-top: 1px;\n}\n\n.text_cell_render em {\n    font-family: 'Philosopher', sans-serif;\n    color:        blue;\n    background-color: rgb(255,220,180);\n    font-size:    110%;\n    margin-left:   2px;\n    margin-right:  2px;\n    font-weight:   100;\n}\n\n.text_cell_render b {\n    color:            rgb(255,195,195);\n    background-color: rgb(0,0,0);\n    font-size:    110%;\n    margin-left:   2px;\n    margin-right:  2px;\n    font-weight:   650;\n}\n\n.text_cell_render tt {\n    font-size:    120%;\n    margin-left:   2px;\n    margin-right:  2px;\n    font-weight:   150;\n}\n\n.Codemirror {\n    font-family: \"PT Mono\";\n    font-size: 100%;\n}\n\n</style>"
     },
     "execution_count": 46,
     "metadata": {},
     "output_type": "execute_result"
    }
   ],
   "source": [
    "from IPython.core.display import HTML\n",
    "with open('style.html', 'r') as file:\n",
    "     css = file.read()\n",
    "HTML(css)"
   ]
  },
  {
   "cell_type": "markdown",
   "metadata": {
    "cell_id": "00000-9fea07bb-15d0-4062-8157-9f13e890a25b",
    "deepnote_cell_type": "markdown",
    "pycharm": {
     "name": "#%% md\n"
    }
   },
   "source": [
    "# Retrograde Analyse für das Schach-Endspiel\n",
    "\n",
    "Dieses Notebook wird zur Berechnung der $S_n$ Mengen verwendet. Diese werden benötigt, um letztendlich ein Schach-Endspiel\n",
    "lösen zu können. Die $S_n$ Mengen werden mihilfe der Retrograde Analyse bestimmt."
   ]
  },
  {
   "cell_type": "markdown",
   "metadata": {
    "cell_id": "00001-8f89f9e7-5c95-48c7-bb61-ecf4ee57006b",
    "collapsed": true,
    "deepnote_cell_type": "markdown",
    "pycharm": {
     "name": "#%% md\n"
    }
   },
   "source": [
    "## Imports\n",
    "\n",
    "Im Rahmen dieses Notebooks werden für die Darstellung und Durchführung der besagten Analyse folgende drei Bibliotheken verwendet:\n",
    "\n",
    "* ``chess``: Die Python-Schach-Bibliothek, mit welcher Schachbretter dargestellt werden, Züge und Zustände ausgewertet etc.\n",
    "* ``clear_output`` aus der IPython-display-Library: Eine Funktion, die für die Fortschrittsanzeige von Berechnungen\n",
    "verwendet wird.\n",
    "* ``json``: Wird zum Speichern der Ergebnisse verwendet."
   ]
  },
  {
   "cell_type": "code",
   "execution_count": 47,
   "metadata": {
    "cell_id": "00002-d30c901b-6df9-4cc9-aefb-720df6c6f30e",
    "deepnote_cell_type": "code",
    "deepnote_to_be_reexecuted": false,
    "execution_millis": 41,
    "execution_start": 1638464280543,
    "pycharm": {
     "name": "#%%\n"
    },
    "source_hash": "4a4bd8b4"
   },
   "outputs": [],
   "source": [
    "import chess\n",
    "from IPython.display import clear_output\n",
    "import json"
   ]
  },
  {
   "cell_type": "markdown",
   "metadata": {
    "pycharm": {
     "name": "#%% md\n"
    }
   },
   "source": [
    "## Funktionen zur Bestimmung aller gültigen Positionen\n",
    "\n",
    "Ein Schachbrett besteht aus insgesamt acht Spalten und Zeilen. Die Spalten werden durch Buchstaben gekennzeichnet, die Zeilen wiederum durch Zahlen. Aus der Kombination einer Spalte (z.B. a) und einer Zahl (z.B. 1) erhält man eine eindeutige\n",
    "Kennzeichnung für ein Feld (z.B. a1).\n",
    "\n",
    "Im folgenden Code werden die Buchstaben a bis h mit den Zahlen 1 bis 8 zu diesen Feldnamen konvertiert und in\n",
    "``all_squares`` gespeichert."
   ]
  },
  {
   "cell_type": "code",
   "execution_count": 48,
   "metadata": {
    "pycharm": {
     "name": "#%%\n"
    }
   },
   "outputs": [],
   "source": [
    "column_convert = {\n",
    "    1 : 'a',\n",
    "    2 : 'b',\n",
    "    3 : 'c',\n",
    "    4 : 'd',\n",
    "    5 : 'e',\n",
    "    6 : 'f',\n",
    "    7 : 'g',\n",
    "    8 : 'h'\n",
    "}\n",
    "\n",
    "all_squares = []\n",
    "for row in range(1,9):\n",
    "    for col_num in range(1,9):\n",
    "        column = column_convert[col_num]\n",
    "        all_squares.append(column + str(row))\n",
    "# print(all_squares)"
   ]
  },
  {
   "cell_type": "markdown",
   "metadata": {
    "pycharm": {
     "name": "#%% md\n"
    }
   },
   "source": [
    "Da nun soweit alle möglichen Positionen auf dem Schachfeld bestimmt worden sind, müssen nun die Spielfiguren angegeben werden, für die die Endspiel-Datenbank berechnet werden soll. Hierfür werden in der Liste ``figures_to_place`` alle Figuren aufgeführt. Die Einträge der Liste werden als Tupel bestehend aus Figur und Farbe gespeichert.\n",
    "Bsp.: ``(chess.KING, chess.WHITE)``\n",
    "\n",
    "Die Reihenfolge oder Position der Figur ist für die Berechnung irrelevant.\n",
    "Diese wird erst im nächsten Schritt (der Auswertung) benötigt."
   ]
  },
  {
   "cell_type": "code",
   "execution_count": 49,
   "metadata": {
    "pycharm": {
     "name": "#%%\n"
    }
   },
   "outputs": [],
   "source": [
    "figures_to_place = [(chess.ROOK, chess.WHITE), (chess.KING, chess.WHITE), (chess.KING, chess.BLACK)]"
   ]
  },
  {
   "cell_type": "markdown",
   "metadata": {
    "pycharm": {
     "name": "#%% md\n"
    }
   },
   "source": [
    "Das Erstellen jeglicher Boards wird mit der Funktion ``place_figure_everywhere_on_every_board`` umgesetzt. Diese erhält folgende Parameter: \n",
    "\n",
    "* ``figure``: Die zu platzierende Figur, als Objekt der chess-Library\n",
    "* ``list_of_boards``: Eine Liste mit Boards, auf welchen die Figur platziert werden soll\n",
    "\n",
    "Die Liste ``list_of_boards`` wird bei dieser Funktion nur per Call by Value aufgerufen, weshalb auch keine Annomalien beim Ausführen der Funktion auftreten. Der hier verwendete Algorithmus kann anhand folgender Punkte nachvollzogen werden:\n",
    "\n",
    "* Über alle Spielbretter in der ``list_of_boards`` iterieren.\n",
    "* Die bereits verwendeten Spielfelder speichern.\n",
    "* Über alle Spielfelder iterieren.\n",
    "* Wenn das Spielfeld noch nicht benutzt ist:\n",
    "  * Das Spielbrett kopieren und die Figur auf diesem Feld platzieren.\n",
    "  * Die Kopie der Ergebnisliste anfügen.\n",
    "\n",
    "Die Funktion gibt als Ergebnis eine Liste aller Spielbretter gespeichert in ``result_list`` zurück."
   ]
  },
  {
   "cell_type": "code",
   "execution_count": 50,
   "metadata": {
    "pycharm": {
     "name": "#%%\n"
    }
   },
   "outputs": [],
   "source": [
    "def place_figure_everywhere_on_every_board(figure, list_of_boards):\n",
    "    result_list = []\n",
    "    for board in list_of_boards:\n",
    "        cur_piece_map = board.piece_map()\n",
    "        squares_used = list(cur_piece_map.keys())\n",
    "        for square in all_squares:\n",
    "            parsed_square = chess.parse_square(square)\n",
    "            if parsed_square not in squares_used:\n",
    "                tmp_board = board.copy()\n",
    "                tmp_board.set_piece_at(parsed_square, figure)\n",
    "                result_list.append(tmp_board)\n",
    "    return result_list"
   ]
  },
  {
   "cell_type": "markdown",
   "metadata": {
    "pycharm": {
     "name": "#%% md\n"
    }
   },
   "source": [
    "Da aber nicht automatisch alle Spielsituationen, die mit der Funktion ``place_figure_everywhere_on_every_board`` generiert werden, den Schachregeln folgen, wurde eine weitere Hilfsfunktion definiert, die für eine gegebene Liste an Spielbrettern (``board_list``) überprüft, ob diese valide sind. In der Funktion ``check_boards`` wird über jedes Spielbrett der Liste iteriert und nur die Bretter zurückgegeben, die auch wirklich den Schachregeln entsprechen. "
   ]
  },
  {
   "cell_type": "code",
   "execution_count": 51,
   "metadata": {
    "pycharm": {
     "name": "#%%\n"
    }
   },
   "outputs": [],
   "source": [
    "def check_boards(board_list):\n",
    "    result_list = []\n",
    "    for board in board_list:\n",
    "        if board.is_valid():\n",
    "            result_list.append(board)\n",
    "    return result_list"
   ]
  },
  {
   "cell_type": "markdown",
   "metadata": {
    "pycharm": {
     "name": "#%% md\n"
    }
   },
   "source": [
    "## Die Ursprungsmenge S erstellen\n",
    "Als Basis der Analyse dient die Liste S. Diese enthält alle möglichen Konstellationen der Spielfiguren auf dem Spielbrett.\n",
    "Hierfür werden zuerst die Figuren mit der Funktion ``place_figure_everywhere_on_every_board`` auf allen Positionen platziert.\n",
    "Pro Farbe am Zug (schwarz und weiß) werden somit\n",
    "\n",
    "$$\n",
    "\\frac{64!}{(64-count(pieces))!}\n",
    "$$\n",
    "\n",
    "verschiedene Boards erstellt.\n",
    "Diese werden anschließend mit der Funktion ``check_boards`` auf Validität überprüft und in einer Liste zusammengeführt."
   ]
  },
  {
   "cell_type": "code",
   "execution_count": 52,
   "metadata": {
    "pycharm": {
     "name": "#%%\n"
    }
   },
   "outputs": [
    {
     "name": "stdout",
     "output_type": "stream",
     "text": [
      "399112 Boards in S\n"
     ]
    }
   ],
   "source": [
    "empty_board = chess.Board().empty()\n",
    "white_boards = [empty_board]\n",
    "for fig in figures_to_place:\n",
    "    white_boards = place_figure_everywhere_on_every_board(chess.Piece(fig[0], fig[1]), white_boards)\n",
    "    #print(len(white_boards))\n",
    "\n",
    "# All checked boards board.turn = White\n",
    "S_White = check_boards(white_boards)\n",
    "#print(len(S_White))\n",
    "\n",
    "empty_board.turn = chess.BLACK\n",
    "black_boards = [empty_board]\n",
    "for fig in figures_to_place:\n",
    "    black_boards = place_figure_everywhere_on_every_board(chess.Piece(fig[0], fig[1]), black_boards)\n",
    "    #print(len(black_boards))\n",
    "\n",
    "# All checked boards board.turn = White\n",
    "S_Black = check_boards(black_boards)\n",
    "#print(len(S_Black))\n",
    "\n",
    "S = S_White + S_Black\n",
    "print(str(len(S)) + \" Boards in S\")"
   ]
  },
  {
   "cell_type": "markdown",
   "metadata": {
    "cell_id": "00015-f0f22380-8c49-4daa-8458-bbb6ae7fa221",
    "deepnote_cell_type": "markdown",
    "pycharm": {
     "name": "#%% md\n"
    }
   },
   "source": [
    "## Bestimmung aller $S_n$ Mengen\n",
    "\n",
    "Als erster Schritt wird die Menge $S_0$ generiert. Diese enthält alle Schachbretter, bei denen die Farbe, die gerade am Zug ist auch im Schachmatt steht. Die anschließenden Schritte beschreiben das Vorgehen zur Bestimmung der Menge $S_0$.\n",
    "\n",
    "* Über den Inhalt von $S$ iterieren.\n",
    "* Status-Informationen von der Bibliothek abfragen und überprüfen, ob ein Spieler gewonnen hat.\n",
    "* Wenn ja, das Objekt zu $S_0$ hinzufügen.\n",
    "  Weiter werden die Objekte in ihrer String-Representation zu $S_{0-ASCII}$ hinzugefügt.\n",
    "* Wenn nicht, das Objekt in $S_{tmp}$ hinzufügen. (Dies ist effizienter als das Objekt aus der Liste $S$ zu entfernen)\n",
    "* Die ursprüngliche Liste S mit $S_{tmp}$ ersetzen."
   ]
  },
  {
   "cell_type": "code",
   "execution_count": 53,
   "metadata": {
    "cell_id": "00016-55697476-08c1-459e-989e-b457c3240a09",
    "deepnote_cell_type": "code",
    "deepnote_to_be_reexecuted": false,
    "execution_millis": 25121,
    "execution_start": 1638464294399,
    "pycharm": {
     "name": "#%%\n"
    },
    "source_hash": "11c2b8f1"
   },
   "outputs": [],
   "source": [
    "S_tmp = []\n",
    "S_0 = []\n",
    "\n",
    "for board in S:\n",
    "    outcome = board.outcome()\n",
    "    # If True Game has finished in a certain way\n",
    "    if outcome is not None:\n",
    "        # A winner has been determined\n",
    "        if outcome.winner is not None and board.is_valid():\n",
    "            S_0.append(board)\n",
    "    # Every other board\n",
    "    else:\n",
    "        S_tmp.append(board)\n",
    "S = S_tmp"
   ]
  },
  {
   "cell_type": "markdown",
   "metadata": {
    "cell_id": "00017-71dbb18a-b442-4217-96bc-991bdbbe4099",
    "deepnote_cell_type": "markdown",
    "pycharm": {
     "name": "#%% md\n"
    }
   },
   "source": [
    "Der nächste Schritt besteht darin die weiteren $S_{n+1}$ Mengen zu bestimmen. Hierzu werden die bereits bestimmten $S_n$ Mengen genommen und alle Bretter aus S selektiert, die innerhalb eines Zugs in $S_n$ landen. Die Umsetzung erfolgt durch die Funktion ``one_step_away``. Diese erhält unter anderem zwei Listen, mit denen dieses Verfahren durchgeführt werden soll. Alle Funktionsparameter können aus der nachfolgenden Liste entnommen werden:\n",
    "\n",
    "* ``s_n``: Die Liste mit Board-Objekten, deren Spielbretter sich $n$ Züge vom Sieg entfernt befinden.\n",
    "* ``s``: Die Liste, aus welcher die nächste Stufe ($n+1$) ausgewählt werden soll.\n",
    "* ``s_white_tuples``: Menge der ASCII-Representationen aller bereits zugeordneten Spielbretter mit weiß am Zug.\n",
    "* ``iteration_count``: $m$ des $S_m$, welches gerade berechnet wird.\n",
    "\n",
    "Der Algorithmus zur Bestimmung der Menge $S_{n+1}$ wird im folgenden Abschnit beschrieben.\n",
    "\n",
    "* Für effizientere Vergleiche wird für jedes Objekt in $S$ die ASCII-Representation gespeichert.\n",
    "* Über die Objekte in $S_n$ iterieren.\n",
    "  * Den Spieler, welcher am Zug ist wechseln (Da, um im aktuellen Zustand anzukommen, der andere Spieler einen Zug\n",
    "  gemacht hat)\n",
    "  * Pseudo legale Spielzüge von der Bibliothek berechnen lassen:\n",
    "    Ein pseudo legaler Spielzug ist ein Spielzug, welcher die grundsätzlichen Bewegungsregeln der Figur einhält,\n",
    "    aber das Schachbrett unter Umständen in einen nicht regelkonformen Zustand versetzt.\n",
    "  * Über diese Spielzüge iterieren.\n",
    "    * Den Zug ausführen.\n",
    "    * Überprüfen, ob das Board sich in einem erlaubten Zustand befindet.\n",
    "      Wenn nein, den Schleifendurchlauf abbrechen.\n",
    "    * Mittels der ASCII-Representation überprüfen, ob das modifizierte Spielbrett in $S$ gefunden wird.\n",
    "    * Wenn es gefunden wird, die ASCII-Representation zu $s_{n+1-ASCII}$ hinzufügen.\n",
    "    * Den Zug rückgängig machen.\n",
    "  * Den Spieler, welcher ursprünglich am Zug war, wiederherstellen.\n",
    "* Über $S$ iterieren.\n",
    "  * Wenn sich das Spielbrett in $S_{n+1-ASCII}$ befindet, wird es $S_{n+1}$ hinzugefügt.\n",
    "    * Besonderheit für Spielbretter, bei welchen Schwarz am Zug ist: Diese werden nur zu $S_{n+1}$ hinzugefügt, wenn\n",
    "    alle Züge, welche von dieser Position möglich sind, in einem $S_m$ mit $m < n$ enden.\n",
    "    Für diese Überprüfung wird $S_{white-ASCII}$ verwendet.\n",
    "  * Wenn sich das Spielbrett nicht in $S_{n+1-ASCII}$ befindet, wird es $S_{tmp}$ hinzugefügt.\n",
    "* Wurden Positionen mit Weiß am Zug berechnet, diese $S_{white-ASCII}$ hinzufügen.\n",
    "\n",
    "Außerdem müssen bei der Durchführung des Algorithmus weitere Aspekte berücksichtig werden:\n",
    "\n",
    "* Da Bauern nur in eine Richtung laufen können, müssen die rückwärts Schritte eines Bauern manuell durchgeführt werden. Bauern werden daher im ersten Schritt ignoriert.\n",
    "* Bauern, die die oberste Reihe des Spielfeldes erreichen können zu einer anderen Figur eingetauscht werden. Dieser Schritt wird nicht durch die Pseudo-Legal-Moves abgedeckt, daher wird, sollte sich eine Königin in der obersten Reihe befinden, diese manuell durch einen Bauern ersetzt.\n",
    "\n",
    "Sobald die Funktion ausgeführt wurde, wird ein Tupel bestehend aus den Mengen $S_{n+1}$, $S_{tmp}$ und $S_{white-TUPLE}$ zurückgegeben."
   ]
  },
  {
   "cell_type": "code",
   "execution_count": 54,
   "metadata": {
    "cell_id": "00018-6f30589f-4a50-41e1-aabe-3338bcbc70b9",
    "deepnote_cell_type": "code",
    "deepnote_to_be_reexecuted": false,
    "execution_millis": 1,
    "execution_start": 1638464319562,
    "pycharm": {
     "name": "#%%\n"
    },
    "source_hash": "d6bac79e"
   },
   "outputs": [],
   "source": [
    "def next_states(s_n, s, s_white_tuples, iteration_count):\n",
    "    #variables\n",
    "    s_n1 = []\n",
    "    s_n1_tmp = []\n",
    "    s_n1_tuples = set()\n",
    "    s_tuples = set()\n",
    "    s_n_tuples = set()\n",
    "    s_tmp = []\n",
    "\n",
    "    #create temporary list for comparison\n",
    "    for chess_board in s:\n",
    "        s_tuples.add((chess_board.turn, chess_board.__str__()))\n",
    "\n",
    "    for chess_board in s_n:\n",
    "        s_n_tuples.add((chess_board.turn, chess_board.__str__()))\n",
    "\n",
    "    for i in range(len(s_n)):\n",
    "\n",
    "        if iteration_count is not None:\n",
    "            status = \"Calculating S\" + str(iteration_count) + \" - Board \" + str(i+1) + \" of \" + str(len(s_n)) + \\\n",
    "                     \" from S\" + str(iteration_count-1)\n",
    "        else:\n",
    "            status = \"Board \" + str(i+1) + \" of \" + str(len(s_n))\n",
    "        clear_output(wait=True)\n",
    "        print(status)\n",
    "\n",
    "        # Get current board and invert the player\n",
    "        chess_board = s_n[i]\n",
    "        chess_board.turn = chess_board.turn ^ True\n",
    "\n",
    "        # Find all Pawns\n",
    "        pawn_at = []\n",
    "        for pawn in chess_board.pieces(chess.PAWN, True):\n",
    "            pawn_at.append(chess.square_name(pawn))\n",
    "\n",
    "        # try moves and check if they remain in S\n",
    "        for pLMove in chess_board.pseudo_legal_moves:\n",
    "            if chess.square_name(pLMove.from_square) not in pawn_at:\n",
    "                chess_board.push(pLMove)\n",
    "                chess_board.turn = chess_board.turn ^ True\n",
    "                if not chess_board.is_valid():\n",
    "                    chess_board.turn = chess_board.turn ^ True\n",
    "                    chess_board.pop()\n",
    "                    continue\n",
    "                # If the new board is found in S, it can be reached in one step\n",
    "                if (chess_board.turn, chess_board.__str__()) in s_tuples:\n",
    "                    s_n1_tuples.add((chess_board.turn, chess_board.__str__()))\n",
    "                    chess_board.turn = chess_board.turn ^ True\n",
    "                chess_board.pop()\n",
    "        '''\n",
    "        * As pawns only move forward their move cannot cannot be reversed through the pseudo legal moves\n",
    "        * to mitigate this the pawn is moved back one row manually\n",
    "        '''\n",
    "        for pawn in chess_board.pieces(chess.PAWN, True):\n",
    "            if chess_board.piece_at(pawn - 9) is None:\n",
    "                chess_board.remove_piece_at(pawn)\n",
    "                chess_board.set_piece_at(pawn - 9, chess.Piece.from_symbol('P'))\n",
    "                if chess_board.is_valid():\n",
    "                    if (chess_board.turn ^ True, chess_board.__str__()) in s_tuples:\n",
    "                        s_n1_tuples.add((chess_board.turn ^ True, chess_board.__str__()))\n",
    "                chess_board.remove_piece_at(pawn - 9)\n",
    "                chess_board.set_piece_at(pawn, chess.Piece.from_symbol('P'))\n",
    "        '''\n",
    "        * As pawns can be exchanged to other figures and this cannot be undone this exchange can also not be reversed\n",
    "        * through the pseudo legal moves.\n",
    "        * To mitigate this a pawn will be placed in the top row in the spot of a queen\n",
    "        '''\n",
    "        queen = check_top_row(chess_board)\n",
    "        if queen:\n",
    "            for square in queen:\n",
    "                chess_board.remove_piece_at(square)\n",
    "                chess_board.set_piece_at(square, chess.Piece.from_symbol('P'))\n",
    "                if chess_board.is_valid():\n",
    "                    if (chess_board.turn ^ True, chess_board.__str__()) in s_tuples:\n",
    "                        s_n1_tuples.add((chess_board.turn ^ True, chess_board.__str__()))\n",
    "                chess_board.remove_piece_at(square)\n",
    "                chess_board.set_piece_at(square, chess.Piece.from_symbol('Q'))\n",
    "\n",
    "        # Restore the original state of the board\n",
    "        chess_board.turn = chess_board.turn ^ True\n",
    "\n",
    "    clear_output(wait=True)\n",
    "    if iteration_count is not None:\n",
    "        print(\"Calculating S\" + str(iteration_count) + \" - Mapping ASCII boards to board objects\")\n",
    "    else:\n",
    "        print(\"Mapping ASCII boards to board objects\")\n",
    "    #create return lists\n",
    "    for chess_board in s:\n",
    "        if(chess_board.turn, chess_board.__str__()) in s_n1_tuples:\n",
    "            s_n1.append(chess_board)\n",
    "        else:\n",
    "            s_tmp.append(chess_board)\n",
    "\n",
    "\n",
    "    clear_output(wait=True)\n",
    "    if iteration_count is not None:\n",
    "        print(\"Calculating S\" + str(iteration_count) + \" - Checking Black Moves for determinism\")\n",
    "    else:\n",
    "        print(\"Checking Black Moves for determinism\")\n",
    "\n",
    "    '''\n",
    "    * We can choose every turn white does, but not for black.\n",
    "    * If one particular move from black brings the board from S_n to S_n-1 it is not guaranteed that every move\n",
    "    * black can do does so as well.\n",
    "    * To mitigate this only boards where every move ends up in a lower denomination of S will be added to the currently\n",
    "    * calculated one.\n",
    "    * For efficiency an ascii representation is carried through all calculations.\n",
    "    '''\n",
    "    # Only needed for Black-Moves\n",
    "    for chess_board in s_n1:\n",
    "        include = True\n",
    "        if not chess_board.turn:\n",
    "            for move in chess_board.legal_moves:\n",
    "                chess_board.push(move)\n",
    "                str_rep = (chess_board.turn, chess_board.__str__())\n",
    "                chess_board.pop()\n",
    "                if str_rep not in s_white_tuples:\n",
    "                    include = False\n",
    "        if include:\n",
    "            s_n1_tmp.append(chess_board)\n",
    "        else:\n",
    "            s_tmp.append(chess_board)\n",
    "    s_n1 = s_n1_tmp\n",
    "\n",
    "    # Only needed for White-Moves\n",
    "    if iteration_count % 2 == 1:\n",
    "        s_white_tuples = s_white_tuples | s_n1_tuples\n",
    "\n",
    "\n",
    "    clear_output(wait=True)\n",
    "    print(\"Done with S\" + str(iteration_count) + \" - \" + str(len(s_tmp)) + \" Boards remaining in S\")\n",
    "\n",
    "\n",
    "\n",
    "    return s_n1, s_tmp, s_white_tuples"
   ]
  },
  {
   "cell_type": "markdown",
   "metadata": {
    "pycharm": {
     "name": "#%% md\n"
    }
   },
   "source": [
    "Ein Problem, das bei der Verwendung der rückwärts-Analyse auftritt, liegt in dem Szenario: \"König und Bauer gegen König\". Dieses Szenario beinhaltet nämlich die Umwandlung des Bauerns in eine andere Figur (Dame, Turm, Läufer, Springer). Da in den meisten Fällen die Umwandlung in eine Dame am sinnvollsten ist, wurde eine Funktion geschrieben, die potentielle Umwandlungen ausfindig machen soll.\n",
    "\n",
    "Bei dieser Funktion handelt es sich um die Funktion ``check_top_row``. Diese erhält als Parameter ein ``board``. Bei diesem Spielbrett wird für die oberste Reihe (Sichtweise weiß, da diese Seite nur eine Dame in den Szenario erhalten kann) jedes Feld überprüft und jedes Feld zurückgegeben, auf dem sich eine Dame befindet."
   ]
  },
  {
   "cell_type": "code",
   "execution_count": 55,
   "metadata": {
    "pycharm": {
     "name": "#%%\n"
    }
   },
   "outputs": [],
   "source": [
    "def check_top_row(board):\n",
    "    return_list = []\n",
    "    for i in range(56, 64):\n",
    "        if board.piece_type_at(i) == chess.QUEEN:\n",
    "            return_list.append(i)\n",
    "\n",
    "    if len(return_list) > 0:\n",
    "        return return_list\n",
    "    else:\n",
    "        return False"
   ]
  },
  {
   "cell_type": "markdown",
   "metadata": {
    "cell_id": "00021-8548a15b-c683-4b4b-8b03-fa5cd07bfdd3",
    "deepnote_cell_type": "markdown",
    "pycharm": {
     "name": "#%% md\n"
    }
   },
   "source": [
    "Mit den zuvor definierten Funktionen ist es nun möglich alle $S_n$ zu bestimmen. Hierfür wird die Funktion ``one_step_away`` solange aufgerufen, bis sich die Menge $S$ nicht mehr verändert (Kann auch leer sein)."
   ]
  },
  {
   "cell_type": "code",
   "execution_count": 56,
   "metadata": {
    "cell_id": "00022-1198b1a3-a0e9-4813-9774-182d1b5079c6",
    "deepnote_cell_type": "code",
    "deepnote_to_be_reexecuted": false,
    "execution_millis": 81020,
    "execution_start": 1638464396132,
    "pycharm": {
     "name": "#%%\n"
    },
    "source_hash": "5ee856a1"
   },
   "outputs": [
    {
     "name": "stdout",
     "output_type": "stream",
     "text": [
      "Done with S33 - 22176 Boards remaining in S\n",
      "Done\n",
      "33 S-Lists calculated\n",
      "22176 Boards could not be matched into an n.\n"
     ]
    }
   ],
   "source": [
    "S_n_sequence = [S_0]\n",
    "S_White_Tuples = set()\n",
    "\n",
    "while True:\n",
    "    S_n_new, S, S_White_Tuples = next_states(S_n_sequence[-1], S, S_White_Tuples, len(S_n_sequence))\n",
    "    if not S_n_new: #an empty list is false\n",
    "        break\n",
    "    S_n_sequence.append(S_n_new)\n",
    "\n",
    "print(\"Done\")\n",
    "print(str(len(S_n_sequence)) + \" S-Lists calculated\")\n",
    "print(str(len(S)) + \" Boards could not be matched into an n.\")"
   ]
  },
  {
   "cell_type": "markdown",
   "metadata": {
    "cell_id": "00025-dd6a92e5-0b6d-4783-8028-273683c5b1fa",
    "deepnote_cell_type": "markdown",
    "pycharm": {
     "name": "#%% md\n"
    }
   },
   "source": [
    "Nach erfolgreicher Berechnung werden die FENs der Boards in eine Datei geschrieben, um eine spätere Auswertung zu ermöglichen."
   ]
  },
  {
   "cell_type": "code",
   "execution_count": 57,
   "metadata": {
    "cell_id": "00026-34a1af37-624a-4ffc-88e1-b53a4b00ef59",
    "deepnote_cell_type": "code",
    "deepnote_to_be_reexecuted": true,
    "execution_millis": 19649,
    "execution_start": 1638463916638,
    "pycharm": {
     "name": "#%%\n"
    },
    "source_hash": "7d95bfec"
   },
   "outputs": [],
   "source": [
    "S_n_seq_ascii = []\n",
    "S_ascii = []\n",
    "\n",
    "for i in range(len(S_n_sequence)):\n",
    "    S_n_ascii = []\n",
    "    for board in S_n_sequence[i]:\n",
    "        S_n_ascii.append(board.fen())\n",
    "    S_n_seq_ascii.append(S_n_ascii)\n",
    "\n",
    "for board in S:\n",
    "    S_ascii.append(board.fen())\n",
    "\n",
    "f = open(\"S_n_seq.json\", \"w\")\n",
    "f.write(json.dumps(S_n_seq_ascii))\n",
    "f.close()\n",
    "\n",
    "f = open(\"S_rem.json\", \"w\")\n",
    "f.write(json.dumps(S_ascii))\n",
    "f.close()"
   ]
  }
 ],
 "metadata": {
  "deepnote": {},
  "deepnote_execution_queue": [],
  "deepnote_notebook_id": "a5659b7c-2299-4f56-8746-6a0bc95261a5",
  "kernelspec": {
   "display_name": "Python 3 (ipykernel)",
   "language": "python",
   "name": "python3"
  },
  "language_info": {
   "codemirror_mode": {
    "name": "ipython",
    "version": 3
   },
   "file_extension": ".py",
   "mimetype": "text/x-python",
   "name": "python",
   "nbconvert_exporter": "python",
   "pygments_lexer": "ipython3",
   "version": "3.9.5"
  }
 },
 "nbformat": 4,
 "nbformat_minor": 1
}