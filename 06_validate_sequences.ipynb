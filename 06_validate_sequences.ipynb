{
 "cells": [
  {
   "cell_type": "code",
   "execution_count": null,
   "outputs": [],
   "source": [
    "import chess.gaviota\n",
    "from IPython.core.display import HTML\n",
    "with open('style.html', 'r') as file:\n",
    "     css = file.read()\n",
    "HTML(css)"
   ],
   "metadata": {
    "collapsed": false,
    "pycharm": {
     "name": "#%%\n"
    }
   }
  },
  {
   "cell_type": "code",
   "execution_count": null,
   "outputs": [],
   "source": [
    "%run Util/00_imports.ipynb\n",
    "%run Util/01_functions.ipynb"
   ],
   "metadata": {
    "collapsed": false,
    "pycharm": {
     "name": "#%%\n"
    }
   }
  },
  {
   "cell_type": "markdown",
   "source": [
    "# Überprüfen der $S_n$ Mengen\n",
    "\n",
    "> Potentielles TODO: Noch die anderen Tabellen von Python-Chess als Referenz / Vergleich aufführen\n",
    "\n",
    "Bei der Bestimmung der $S_n$ Mengen wurden alle möglichen Züge rückwärts durchgeführt.\n",
    "Damit die Retrograde Analyse erfolgreich zum Gewinnen von Endspielsituationen angewandt werden kann, muss diese Berechnung erfolgreich gewesen sein.\n",
    "Um sicherzustellen, dass die Situationen, die z. B. in $S_{10}$ zu finden sind, auch wirklich in $<=10$ Zügen beendet werden, wurden in diesem Notebook Funktionen definiert, die diesen Aspekt überprüfen. Hierfür werden zuerst die berechneten $S_n$ Mengen aus der Datei geladen."
   ],
   "metadata": {
    "collapsed": false,
    "pycharm": {
     "name": "#%% md\n"
    }
   }
  },
  {
   "cell_type": "code",
   "execution_count": null,
   "outputs": [],
   "source": [
    "S_N_Sequence_fen, S_N_Sequence_fen_short = load_s_n_fens(\"S_n_seq_rook\")"
   ],
   "metadata": {
    "collapsed": false,
    "pycharm": {
     "name": "#%%\n"
    }
   }
  },
  {
   "cell_type": "markdown",
   "source": [
    "Die erste Funktion zur Überprüfung, ist ``fen_in_lower_sequence``. Diese überprüft für eine mitgegebene ``fen``, ob diese in einer $S_n$ Menge liegt, für die gilt: \n",
    "$$\n",
    "n < sequence\\_index\n",
    "$$ \n",
    "\n",
    "Die Funktion gibt hierfür einen booleschen Wert zurück."
   ],
   "metadata": {
    "collapsed": false,
    "pycharm": {
     "name": "#%% md\n"
    }
   }
  },
  {
   "cell_type": "code",
   "execution_count": null,
   "outputs": [],
   "source": [
    "def fen_in_lower_sequence(fen, sequence_index, s_n_short):\n",
    "    for s in s_n_short[:sequence_index]:\n",
    "        if fen in s:\n",
    "            return True\n",
    "    return False"
   ],
   "metadata": {
    "collapsed": false,
    "pycharm": {
     "name": "#%%\n"
    }
   }
  },
  {
   "cell_type": "markdown",
   "source": [
    "Eine weitere Überprüfung liegt darin, dass keine der Schachbretter in eine zu niedrige $S_n$ Menge eingeordnet wurde. Dies wird mit der Funktion ``every_move_of_sequence_in_lower`` umgesetzt. Hierfür erhält sie eine ``sequence_index``, die überprüft werden soll. Für jede Spielsituation wird Folgendes überprüft:\n",
    "\n",
    "$$\n",
    "\\forall board \\in S_n : move \\in board.legal\\_moves \\implies board.push(move) \\in S_m \\land m<n\n",
    "$$\n",
    "\n",
    "Als Ergebnis gibt die Funktion eine boolesche Variable zurück, die ``True`` zurückgibt, falls die Bedingung erfüllt ist, ansonsten ``False``."
   ],
   "metadata": {
    "collapsed": false,
    "pycharm": {
     "name": "#%% md\n"
    }
   }
  },
  {
   "cell_type": "code",
   "execution_count": null,
   "outputs": [],
   "source": [
    "def every_move_of_sequence_in_lower(sequence_index, s_n_fen, s_n_short):\n",
    "    print(\"Checking S_\" + str(sequence_index) + \"...\")\n",
    "    sequence_fen = s_n_fen[sequence_index]\n",
    "    for fen in sequence_fen:\n",
    "        cur_board = chess.Board(fen)\n",
    "        if not cur_board.turn:\n",
    "            for move in cur_board.legal_moves:\n",
    "                cur_board.push(move)\n",
    "                cur_short = get_board_and_turn(cur_board.fen())\n",
    "                if not fen_in_lower_sequence(cur_short, sequence_index, s_n_short):\n",
    "                    print(\"Fen: \" + cur_short + \" not in lower S\")\n",
    "                    return False\n",
    "                cur_board.pop()\n",
    "            return True\n",
    "        else:\n",
    "            in_lower = False\n",
    "            for move in cur_board.legal_moves:\n",
    "                cur_board.push(move)\n",
    "                cur_short = get_board_and_turn(cur_board.fen())\n",
    "                if fen_in_lower_sequence(cur_short, sequence_index, s_n_short):\n",
    "                    in_lower = True\n",
    "                cur_board.pop()\n",
    "            return in_lower\n"
   ],
   "metadata": {
    "collapsed": false,
    "pycharm": {
     "name": "#%%\n"
    }
   }
  },
  {
   "cell_type": "markdown",
   "source": [
    "Die folgende Zelle führt diesen Test durch."
   ],
   "metadata": {
    "collapsed": false,
    "pycharm": {
     "name": "#%% md\n"
    }
   }
  },
  {
   "cell_type": "code",
   "execution_count": null,
   "outputs": [],
   "source": [
    "for i in range(len(S_N_Sequence_fen)):\n",
    "    every_move_of_sequence_in_lower(i, S_N_Sequence_fen, S_N_Sequence_fen_short)"
   ],
   "metadata": {
    "collapsed": false,
    "pycharm": {
     "name": "#%%\n"
    }
   }
  },
  {
   "cell_type": "markdown",
   "source": [
    "## Syzygy\n",
    "\n",
    "Zusätzlich zum rechnerischen Überprüfen der Ergebnisse kann eine andere Methode zum Verifizieren verwendet werden. \n",
    "Schach-Endspieldatenbanken sind keine neue Erfindung und wurden bereits von anderen Forschern entwickelt.\n",
    "Ein lang anhaltendes Projekt, welches gegenwärtig Datenbanken für Situationen mit bis zu 7 Figuren auf dem Spielfeld anbietet ist [Syzygy](https://syzygy-tables.info/).\n",
    "Das Projekt hält zwei Datentypen für alle Spielsituationen vor:\n",
    "WDL Daten und DTZ Daten.\n",
    "\n",
    "WDL steht für Win / Draw / Loss und gibt dem Nutzer eine Information über den Wert einer Spielsituation. \n",
    "Eine Anfrage an die Datenbank mit einer Situation wird mit einem der folgenden Werte beantwortet: -2, -1, 0, 1, 2.\n",
    "Positive Werte implizieren, dass bei perfektem Spiel der aktuelle Spieler gewinnt, negative Werte bedeuten, dass der aktuelle Spieler verliert.\n",
    "Die 0 bedeutet, dass das Spiel (wenn beide Seiten perfekt spielen) in einem Unentschieden endet.\n",
    "Eine Zwei ist ein sicherer Sieg / Verlust, während eine Eins in einem Gewinn oder unentschieden mittels der 50-Zug Regel enden kann.\n",
    "\n",
    "Die Interessantere der Dateien ist die DTZ-Datei.\n",
    "DTZ steht für Distance to Zero. Die DTZ Tabelle enthält Werte von -100 bis 100. \n",
    "Positiv, Negativ und Null kann genau wie WDL interpretiert werden.\n",
    "Die Zahlen von -100 bis -1 und 1 bis 100 geben die Anzahl der Halbzüge bis zu einem Gewinn (oder Reset der 50-Züge Regel) an.\n",
    "Stetiges verringern einer positiven DTZ führt also zu einem Gewinn.\n",
    "\n",
    "Die DTZ-Zahl einer Spielsituation kann mit dem $n$ verglichen werden, in welcher Menge $S_n$ diese Situation in der `.chessAI` eingeordnet wurde.\n",
    "Stimmen diese Zahlen überein, war die Berechnung korrekt.\n",
    "\n",
    "*Hinweis: Je nach Ausführung der Syzygy-Tabellen werden halbe oder ganze Züge gespeichert, es muss daher beim Vergleich eine Toleranz von einem $n$ akzeptiert werden.*    \n",
    "\n",
    "Die Funktion `compare_with_syzygy()` führt diesen Vergleich durch und gibt die Anzahl falsch eingeordneter Situationen zurück. \n",
    "\n",
    "> TODO: Parameter + Rückgabewert angeben"
   ],
   "metadata": {
    "collapsed": false,
    "pycharm": {
     "name": "#%% md\n"
    }
   }
  },
  {
   "cell_type": "code",
   "execution_count": null,
   "outputs": [],
   "source": [
    "def compare_with_syzygy(syzygy, s_n_sequence):\n",
    "    counter = 0\n",
    "    \n",
    "    for n in range(len(s_n_sequence)):\n",
    "        count = 0\n",
    "        for int in s_n_sequence[n]:\n",
    "            chess_board = to_board(int, PIECE_LIST)\n",
    "            if n != abs(syzygy.probe_dtz(chess_board)) != n + 1:\n",
    "                count += 1\n",
    "        print(f\"S{n}: Syzygy believes {count} of {len(s_n_sequence[n])} Situations are wrongly placed in the sequence.\")\n",
    "        counter += count\n",
    "    print(f\"Syzygy believes {counter} Situations are wrongly placed in the sequence.\")\n",
    "    return count"
   ],
   "metadata": {
    "collapsed": false,
    "pycharm": {
     "name": "#%%\n"
    }
   }
  },
  {
   "cell_type": "markdown",
   "source": [
    "Die Syzygy-Dateien müssen sich entweder im Ordner `./syzygy` befinden oder der Pfad angepasst werden.\n",
    "\n",
    "> TODO: Wenn das in der globalen Schreibweise definiert wird, wieso dann überhaupt übergeben?\n",
    "> TODO: Zumindest einen Teil der Tabellen in Github bereitstellen"
   ],
   "metadata": {
    "collapsed": false,
    "pycharm": {
     "name": "#%% md\n"
    }
   }
  },
  {
   "cell_type": "code",
   "execution_count": null,
   "outputs": [],
   "source": [
    "SYZYGY = chess.syzygy.Tablebase()\n",
    "SYZYGY.add_directory(\"./syzygy\")"
   ],
   "metadata": {
    "collapsed": false,
    "pycharm": {
     "name": "#%%\n"
    }
   }
  },
  {
   "cell_type": "code",
   "execution_count": null,
   "outputs": [],
   "source": [
    "compare_with_syzygy(SYZYGY, S_N_SEQ)\n"
   ],
   "metadata": {
    "collapsed": false,
    "pycharm": {
     "name": "#%%\n"
    }
   }
  },
  {
   "cell_type": "markdown",
   "source": [
    "## Gaviota\n"
   ],
   "metadata": {
    "collapsed": false,
    "pycharm": {
     "name": "#%% md\n"
    }
   }
  },
  {
   "cell_type": "code",
   "execution_count": null,
   "outputs": [],
   "source": [
    "SWAPS = {\n",
    "        \"vertical\" : {x:x^56 for x in range(64)},\n",
    "        \"horizontal\" : {x:x^7 for x in range(64)},\n",
    "        \"rotate_right\" : {x:(((x >> 3) | (x << 3)) & 63) ^ 56 for x in range(64)},\n",
    "        \"rotate_180\" : {x : x ^ 63 for x in range(64)},\n",
    "        \"rotate_left\" : {x : (((x >> 3) | (x << 3)) & 63) ^ 7 for x in range(64)},\n",
    "        \"diagonal\" : {x : ((x >> 3) | (x << 3)) & 63 for x in range(64)},\n",
    "        \"anti_diagonal\" : {x : (((x >> 3) | (x << 3)) & 63) ^ 63 for x in range(64)}\n",
    "    }"
   ],
   "metadata": {
    "collapsed": false,
    "pycharm": {
     "name": "#%%\n"
    }
   }
  },
  {
   "cell_type": "code",
   "execution_count": null,
   "outputs": [],
   "source": [
    "# Mirroring mit 7 Bit Darstellung\n",
    "def mirror_board(board_int, mirror : dict):\n",
    "    # Save turn\n",
    "    result = board_int & 1\n",
    "    # Get count of pieces saved in int\n",
    "    n = len(PIECE_LIST)\n",
    "    # Remove turn\n",
    "    board_int = board_int >> 1\n",
    "\n",
    "    for i in range(n):\n",
    "        result |= mirror[board_int & 127] << 7 * i + 1\n",
    "        board_int = board_int >> 7\n",
    "    return result"
   ],
   "metadata": {
    "collapsed": false,
    "pycharm": {
     "name": "#%%\n"
    }
   }
  },
  {
   "cell_type": "code",
   "execution_count": null,
   "outputs": [],
   "source": [
    "def mirror_all_directions(board_int):\n",
    "    result = set()\n",
    "    for name, swap in SWAPS.items():\n",
    "        result.add(mirror_board(board_int, swap))\n",
    "    return result"
   ],
   "metadata": {
    "collapsed": false,
    "pycharm": {
     "name": "#%%\n"
    }
   }
  },
  {
   "cell_type": "code",
   "execution_count": null,
   "outputs": [],
   "source": [
    "def gen_all_integers(s_n_integers):\n",
    "    result = []\n",
    "    for sequence in s_n_integers:\n",
    "        int_set = set()\n",
    "        for int_board in sequence:\n",
    "            int_set.add(int_board)\n",
    "            int_set |= mirror_all_directions(int_board)\n",
    "        result.append(int_set)\n",
    "    return result"
   ],
   "metadata": {
    "collapsed": false,
    "pycharm": {
     "name": "#%%\n"
    }
   }
  },
  {
   "cell_type": "code",
   "execution_count": null,
   "outputs": [],
   "source": [
    "def compare_with_gaviota(gaviota, s_n_sequence):\n",
    "    counter = 0\n",
    "    \n",
    "    for n in range(len(s_n_sequence)):\n",
    "        count = 0\n",
    "        for int in s_n_sequence[n]:\n",
    "            chess_board = to_board(int, PIECE_LIST)\n",
    "            if n != abs(gaviota.probe_dtm(chess_board)):\n",
    "                count += 1\n",
    "        print(f\"S{n}: Gaviota believes {count} of {len(s_n_sequence[n])} Situations are wrongly placed in the sequence.\")\n",
    "        counter += count\n",
    "    print(f\"Gaviota believes {counter} Situations are wrongly placed in the sequence.\")\n",
    "    return count\n"
   ],
   "metadata": {
    "collapsed": false,
    "pycharm": {
     "name": "#%%\n"
    }
   }
  },
  {
   "cell_type": "code",
   "execution_count": null,
   "outputs": [],
   "source": [
    "PIECE_LIST, S_N_SEQ = load_data(\"two_rooks_27_05\")\n",
    "S_N_SEQ = gen_all_integers(S_N_SEQ)\n",
    "gaviota = chess.gaviota.open_tablebase(\"./gaviota\")\n",
    "compare_with_gaviota(gaviota, S_N_SEQ)"
   ],
   "metadata": {
    "collapsed": false,
    "pycharm": {
     "name": "#%%\n"
    }
   }
  },
  {
   "cell_type": "markdown",
   "source": [
    "## Matching Rate"
   ],
   "metadata": {
    "collapsed": false,
    "pycharm": {
     "name": "#%% md\n"
    }
   }
  },
  {
   "cell_type": "code",
   "execution_count": null,
   "outputs": [],
   "source": [
    "def matchrate_for_player(turn):\n",
    "    # TODO: Hier muss noch irgendwo eine Berücksichtigug rein, dass der Bauer durch die Queen beim Erstellen von s0  ersetzt wird, dies muss dazu noch rückgängi gemacht werden, wenn die Queen durch den Pawn ersetzt wird.\n",
    "    global PIECE_LIST\n",
    "\n",
    "    s0 = set()\n",
    "    empty_board = chess.Board(None)\n",
    "    empty_board.turn = turn\n",
    "    tmp_piece_list = []\n",
    "    s0.add(to_integer(empty_board, tmp_piece_list))\n",
    "    \n",
    "    total = 0\n",
    "    not_matched = 0\n",
    "   \n",
    "    for piece in PIECE_LIST:\n",
    "        s0, total, not_matched = fill_boards_with_piece(s0, piece, tmp_piece_list, total, not_matched)\n",
    "        tmp_piece_list.append(piece)\n",
    "        \n",
    "    return total, not_matched"
   ],
   "metadata": {
    "collapsed": false,
    "pycharm": {
     "name": "#%%\n"
    }
   }
  },
  {
   "cell_type": "code",
   "execution_count": null,
   "outputs": [],
   "source": [
    "def fill_boards_with_piece(int_boards_set, piece, cur_piece_list, total, not_matched):\n",
    "    finished_boards = set()\n",
    "    all_squares = set(range(64))\n",
    "    piece_count = len(PIECE_LIST)\n",
    "    for int_board in int_boards_set:\n",
    "        board_o = to_board(int_board, cur_piece_list)\n",
    "        used_squares = set(board_o.piece_map().keys())\n",
    "        for square in all_squares:\n",
    "            if square not in used_squares:\n",
    "                tmp_piece_list = cur_piece_list.copy()\n",
    "                board_object = board_o.copy()\n",
    "                board_object.set_piece_at(square, piece)\n",
    "                tmp_piece_list.append(piece)\n",
    "                board_int = to_integer(board_object, tmp_piece_list)\n",
    "                if len(used_squares) > 1 and not board_object.is_valid():\n",
    "                    continue\n",
    "\n",
    "                if len(used_squares) + 1 < piece_count: #Board is valid, but needs more pieces\n",
    "                    finished_boards.add(board_int)\n",
    "                    continue\n",
    "                \n",
    "                total += 1\n",
    "                if board_int not in ALL_BOARDS:\n",
    "                    if gaviota.probe_dtm(board_object) != 0: #0 is a draw and not thus relevant for this check\n",
    "                        not_matched += 1\n",
    "                    \n",
    "    return finished_boards, total, not_matched\n"
   ],
   "metadata": {
    "collapsed": false,
    "pycharm": {
     "name": "#%%\n"
    }
   }
  },
  {
   "cell_type": "code",
   "execution_count": null,
   "outputs": [],
   "source": [
    "def matchrate():\n",
    "    total = 0\n",
    "    not_matched = 0\n",
    "    tmp_total, tmp_not_matched = matchrate_for_player(chess.WHITE)\n",
    "    total += tmp_total\n",
    "    not_matched += tmp_not_matched\n",
    "    tmp_total, tmp_not_matched = matchrate_for_player(chess.BLACK)\n",
    "    total += tmp_total\n",
    "    not_matched += tmp_not_matched\n",
    "    \n",
    "    return total, not_matched"
   ],
   "metadata": {
    "collapsed": false,
    "pycharm": {
     "name": "#%%\n"
    }
   }
  },
  {
   "cell_type": "code",
   "execution_count": null,
   "outputs": [],
   "source": [
    "PIECE_LIST, S_N_SEQ = load_data(\"s_n_knight_bishop_24_05\")\n",
    "S_N_SEQ = gen_all_integers(S_N_SEQ)\n",
    "ALL_BOARDS = set.union(*S_N_SEQ)\n",
    "total, not_matched = matchrate()\n",
    "matching_rate = (total - not_matched)/total * 100\n",
    "print(\"Matching Rate:\" +  str(matching_rate) + \"%\")\n"
   ],
   "metadata": {
    "collapsed": false,
    "pycharm": {
     "name": "#%%\n"
    }
   }
  },
  {
   "cell_type": "code",
   "execution_count": null,
   "outputs": [],
   "source": [
    "def compare_with_gaviota(gaviota, s_n_sequence):\n",
    "    counter = 0\n",
    "    \n",
    "    for n in range(len(s_n_sequence)):\n",
    "        count = 0\n",
    "        for int in s_n_sequence[n]:\n",
    "            chess_board = to_board(int, PIECE_LIST)\n",
    "            if n != abs(gaviota.probe_dtm(chess_board)):\n",
    "                count += 1\n",
    "                print(chess_board)\n",
    "        print(f\"S{n}: Gaviota believes {count} of {len(s_n_sequence[n])} Situations are wrongly placed in the sequence.\")\n",
    "        counter += count\n",
    "    print(f\"Gaviota believes {counter} Situations are wrongly placed in the sequence.\")\n",
    "    return count\n"
   ],
   "metadata": {
    "collapsed": false,
    "pycharm": {
     "name": "#%%\n"
    }
   }
  },
  {
   "cell_type": "code",
   "execution_count": null,
   "outputs": [],
   "source": [
    "PIECE_LIST, S_N_SEQ = load_data(\"s_n_two_bishop_24_05\")\n",
    "S_N_SEQ = gen_all_integers(S_N_SEQ)\n",
    "\n",
    "gaviota = chess.gaviota.open_tablebase(\"./gaviota\")\n",
    "\n",
    "\n",
    "compare_with_gaviota(gaviota, S_N_SEQ)\n"
   ],
   "metadata": {
    "collapsed": false,
    "pycharm": {
     "name": "#%%\n"
    }
   }
  },
  {
   "cell_type": "code",
   "execution_count": null,
   "outputs": [],
   "source": [
    "to_integer(chess.Board(\"8/8/8/8/8/B7/2K3B1/k7 w - - 0 1\"), PIECE_LIST) in S_N_SEQ[5]\n",
    "\n",
    "chess.Board(\"8/8/8/8/8/8/1BK3B1/k7 w - - 1 1\").pseudo_legal_moves\n"
   ],
   "metadata": {
    "collapsed": false,
    "pycharm": {
     "name": "#%%\n"
    }
   }
  }
 ],
 "metadata": {
  "deepnote": {},
  "deepnote_execution_queue": [],
  "deepnote_notebook_id": "c0d8ccfa-ab76-4e6a-a6ac-5e86ac83d6bd",
  "kernelspec": {
   "display_name": "Python 3 (ipykernel)",
   "language": "python",
   "name": "python3"
  },
  "language_info": {
   "codemirror_mode": {
    "name": "ipython",
    "version": 3
   },
   "file_extension": ".py",
   "mimetype": "text/x-python",
   "name": "python",
   "nbconvert_exporter": "python",
   "pygments_lexer": "ipython3",
   "version": "3.10.2"
  }
 },
 "nbformat": 4,
 "nbformat_minor": 1
}