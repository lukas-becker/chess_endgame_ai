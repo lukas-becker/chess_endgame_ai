{
 "cells": [
  {
   "cell_type": "code",
   "execution_count": 54,
   "outputs": [
    {
     "data": {
      "text/plain": "<IPython.core.display.HTML object>",
      "text/html": "<link href='http://fonts.googleapis.com/css?family=Alegreya+Sans:100,300,400,500,700,800,900,100italic,300italic,400italic,500italic,700italic,800italic,900italic' rel='stylesheet' type='text/css'>\n<link href='http://fonts.googleapis.com/css?family=Arvo:400,700,400italic' rel='stylesheet' type='text/css'>\n<link href='http://fonts.googleapis.com/css?family=PT+Mono' rel='stylesheet' type='text/css'>\n<link href='http://fonts.googleapis.com/css?family=Shadows+Into+Light' rel='stylesheet' type='text/css'>\n<link href='http://fonts.googleapis.com/css?family=Philosopher:400,700,400italic,700italic' rel='stylesheet' type='text/css'>\n\n<style>\n\n@font-face {\n    font-family: \"Computer Modern\";\n    src: url('http://mirrors.ctan.org/fonts/cm-unicode/fonts/otf/cmunss.otf');\n}\n\n.container { width: 100% }\n\n/* Formatting for header cells */\n.text_cell_render h1 {\n    font-family: 'Philosopher', sans-serif;\n    font-weight: 400;\n    font-size: 2.2em;\n    line-height: 100%;\n    color: rgb(0, 80, 120);\n    margin-bottom: 0.1em;\n    margin-top: 0.1em;\n    display: block;\n}\n.text_cell_render h2 {\n    font-family: 'Philosopher', serif;\n    font-weight: 400;\n    font-size: 1.9em;\n    line-height: 100%;\n    color: rgb(200,100,0);\n    margin-bottom: 0.1em;\n    margin-top: 0.1em;\n    display: block;\n}\n\n.text_cell_render h3 {\n    font-family: 'Philosopher', serif;\n    margin-top:12px;\n    margin-bottom: 3px;\n    font-style: italic;\n    color: rgb(94,127,192);\n}\n\n.text_cell_render h4 {\n    font-family: 'Philosopher', serif;\n}\n\n.text_cell_render h5 {\n    font-family: 'Alegreya Sans', sans-serif;\n    font-weight: 300;\n    font-size: 16pt;\n    color: grey;\n    font-style: italic;\n    margin-bottom: .1em;\n    margin-top: 0.1em;\n    display: block;\n}\n\n.text_cell_render h6 {\n    font-family: 'PT Mono', sans-serif;\n    font-weight: 300;\n    font-size: 10pt;\n    color: grey;\n    margin-bottom: 1px;\n    margin-top: 1px;\n}\n\n.text_cell_render em {\n    font-family: 'Philosopher', sans-serif;\n    color:        blue;\n    background-color: rgb(255,220,180);\n    font-size:    110%;\n    margin-left:   2px;\n    margin-right:  2px;\n    font-weight:   100;\n}\n\n.text_cell_render b {\n    color:            rgb(255,195,195);\n    background-color: rgb(0,0,0);\n    font-size:    110%;\n    margin-left:   2px;\n    margin-right:  2px;\n    font-weight:   650;\n}\n\n.text_cell_render tt {\n    font-size:    120%;\n    margin-left:   2px;\n    margin-right:  2px;\n    font-weight:   150;\n}\n\n.Codemirror {\n    font-family: \"PT Mono\";\n    font-size: 100%;\n}\n\n</style>"
     },
     "execution_count": 54,
     "metadata": {},
     "output_type": "execute_result"
    }
   ],
   "source": [
    "import chess.gaviota\n",
    "from IPython.core.display import HTML\n",
    "with open('style.html', 'r') as file:\n",
    "     css = file.read()\n",
    "HTML(css)"
   ],
   "metadata": {
    "collapsed": false,
    "pycharm": {
     "name": "#%%\n"
    }
   }
  },
  {
   "cell_type": "code",
   "execution_count": 55,
   "outputs": [],
   "source": [
    "%run Util/00_imports.ipynb\n",
    "%run Util/01_functions.ipynb\n",
    "%run 11_integer_management.ipynb\n",
    "%run 12_mirroring.ipynb"
   ],
   "metadata": {
    "collapsed": false,
    "pycharm": {
     "name": "#%%\n"
    }
   }
  },
  {
   "cell_type": "markdown",
   "source": [
    "# Überprüfen der $S_n$ Mengen\n",
    "\n",
    "> Potentielles TODO: Noch die anderen Tabellen von Python-Chess als Referenz / Vergleich aufführen\n",
    "\n",
    "Bei der Bestimmung der $S_n$ Mengen wurden alle möglichen Züge rückwärts durchgeführt.\n",
    "Damit die Retrograde Analyse erfolgreich zum Gewinnen von Endspielsituationen angewandt werden kann, muss diese Berechnung erfolgreich gewesen sein.\n",
    "Um sicherzustellen, dass die Situationen, die z. B. in $S_{10}$ zu finden sind, auch wirklich in $<=10$ Zügen beendet werden, wurden in diesem Notebook Funktionen definiert, die diesen Aspekt überprüfen. Hierfür werden zuerst die berechneten $S_n$ Mengen aus der Datei geladen."
   ],
   "metadata": {
    "collapsed": false,
    "pycharm": {
     "name": "#%% md\n"
    }
   }
  },
  {
   "cell_type": "code",
   "execution_count": 66,
   "outputs": [
    {
     "name": "stdout",
     "output_type": "stream",
     "text": [
      "Wall time: 2.45 s\n"
     ]
    }
   ],
   "source": [
    "%%time\n",
    "g_piece_list, g_s_n_sequence = load_data(\"b_b_new_mirror\")\n",
    "g_s_n_sequence = gen_all_integers(g_s_n_sequence, g_piece_list)"
   ],
   "metadata": {
    "collapsed": false,
    "pycharm": {
     "name": "#%%\n"
    }
   }
  },
  {
   "cell_type": "markdown",
   "source": [
    "Die erste Funktion zur Überprüfung, ist ``fen_in_lower_sequence``. Diese überprüft für eine mitgegebene ``fen``, ob diese in einer $S_n$ Menge liegt, für die gilt: \n",
    "$$\n",
    "n < sequence\\_index\n",
    "$$ \n",
    "\n",
    "Die Funktion gibt hierfür einen booleschen Wert zurück."
   ],
   "metadata": {
    "collapsed": false,
    "pycharm": {
     "name": "#%% md\n"
    }
   }
  },
  {
   "cell_type": "code",
   "execution_count": 57,
   "outputs": [],
   "source": [
    "def int_in_lower_sequence(board_int, sequence, sequence_index):\n",
    "    for s in sequence[:sequence_index]:\n",
    "        if board_int in s:\n",
    "            return True\n",
    "    return False"
   ],
   "metadata": {
    "collapsed": false,
    "pycharm": {
     "name": "#%%\n"
    }
   }
  },
  {
   "cell_type": "markdown",
   "source": [
    "Eine weitere Überprüfung liegt darin, dass keine der Schachbretter in eine zu niedrige $S_n$ Menge eingeordnet wurde. Dies wird mit der Funktion ``every_move_of_sequence_in_lower`` umgesetzt. Hierfür erhält sie eine ``sequence_index``, die überprüft werden soll. Für jede Spielsituation wird Folgendes überprüft:\n",
    "\n",
    "$$\n",
    "\\forall board \\in S_n : move \\in board.legal\\_moves \\implies board.push(move) \\in S_m \\land m<n\n",
    "$$\n",
    "\n",
    "Als Ergebnis gibt die Funktion eine boolesche Variable zurück, die ``True`` zurückgibt, falls die Bedingung erfüllt ist, ansonsten ``False``."
   ],
   "metadata": {
    "collapsed": false,
    "pycharm": {
     "name": "#%% md\n"
    }
   }
  },
  {
   "cell_type": "code",
   "execution_count": 58,
   "outputs": [],
   "source": [
    "def every_move_of_sequence_in_lower(sequence_index, s_n_sequence):\n",
    "    print(\"Checking S_\" + str(sequence_index) + \"...\")\n",
    "    n_integers = s_n_sequence[sequence_index]\n",
    "    cur_int = 0\n",
    "    for board_int in n_integers:\n",
    "        cur_board = to_board(board_int, g_piece_list)\n",
    "        if not cur_board.turn:\n",
    "            for move in cur_board.legal_moves:\n",
    "                cur_board.push(move)\n",
    "                cur_int = to_integer(cur_board, g_piece_list)\n",
    "                cur_board.pop()\n",
    "                if not int_in_lower_sequence(cur_int, s_n_sequence, sequence_index):\n",
    "                    print(\"Int: \" + str(cur_int) + \" not in S lower than \" + str(sequence_index))\n",
    "                    return False\n",
    "                \n",
    "        else:\n",
    "            in_lower = False\n",
    "            for move in cur_board.legal_moves:\n",
    "                cur_board.push(move)\n",
    "                try:\n",
    "                    cur_int = to_integer(cur_board, g_piece_list)\n",
    "                    if int_in_lower_sequence(cur_int, s_n_sequence, sequence_index):\n",
    "                        in_lower = True\n",
    "                except ValueError:\n",
    "                    # Catch wrong pawn conversions\n",
    "                    pass\n",
    "                cur_board.pop()\n",
    "            if not in_lower:\n",
    "                print(cur_board)\n",
    "                print(to_integer(cur_board, g_piece_list))\n",
    "                print(\"Cannot reach lower S_n\")\n",
    "                return False\n",
    "    return True"
   ],
   "metadata": {
    "collapsed": false,
    "pycharm": {
     "name": "#%%\n"
    }
   }
  },
  {
   "cell_type": "markdown",
   "source": [
    "Die folgende Zelle führt diesen Test durch."
   ],
   "metadata": {
    "collapsed": false,
    "pycharm": {
     "name": "#%% md\n"
    }
   }
  },
  {
   "cell_type": "code",
   "execution_count": 59,
   "outputs": [
    {
     "name": "stdout",
     "output_type": "stream",
     "text": [
      "Checking S_0...\n",
      "Checking S_1...\n",
      "Checking S_2...\n",
      "Checking S_3...\n",
      "Checking S_4...\n",
      "Checking S_5...\n",
      "Checking S_6...\n",
      "Checking S_7...\n",
      "Checking S_8...\n",
      "Checking S_9...\n",
      "Checking S_10...\n",
      "Checking S_11...\n",
      "Checking S_12...\n"
     ]
    }
   ],
   "source": [
    "for i in range(len(g_s_n_sequence)):\n",
    "    every_move_of_sequence_in_lower(i, g_s_n_sequence)"
   ],
   "metadata": {
    "collapsed": false,
    "pycharm": {
     "name": "#%%\n"
    }
   }
  },
  {
   "cell_type": "markdown",
   "source": [
    "## Syzygy\n",
    "\n",
    "Zusätzlich zum rechnerischen Überprüfen der Ergebnisse kann eine andere Methode zum Verifizieren verwendet werden. \n",
    "Schach-Endspieldatenbanken sind keine neue Erfindung und wurden bereits von anderen Forschern entwickelt.\n",
    "Ein lang anhaltendes Projekt, welches gegenwärtig Datenbanken für Situationen mit bis zu 7 Figuren auf dem Spielfeld anbietet ist [Syzygy](https://syzygy-tables.info/).\n",
    "Das Projekt hält zwei Datentypen für alle Spielsituationen vor:\n",
    "WDL Daten und DTZ Daten.\n",
    "\n",
    "WDL steht für Win / Draw / Loss und gibt dem Nutzer eine Information über den Wert einer Spielsituation. \n",
    "Eine Anfrage an die Datenbank mit einer Situation wird mit einem der folgenden Werte beantwortet: -2, -1, 0, 1, 2.\n",
    "Positive Werte implizieren, dass bei perfektem Spiel der aktuelle Spieler gewinnt, negative Werte bedeuten, dass der aktuelle Spieler verliert.\n",
    "Die 0 bedeutet, dass das Spiel (wenn beide Seiten perfekt spielen) in einem Unentschieden endet.\n",
    "Eine Zwei ist ein sicherer Sieg / Verlust, während eine Eins in einem Gewinn oder unentschieden mittels der 50-Zug Regel enden kann.\n",
    "\n",
    "Die Interessantere der Dateien ist die DTZ-Datei.\n",
    "DTZ steht für Distance to Zero. Die DTZ Tabelle enthält Werte von -100 bis 100. \n",
    "Positiv, Negativ und Null kann genau wie WDL interpretiert werden.\n",
    "Die Zahlen von -100 bis -1 und 1 bis 100 geben die Anzahl der Halbzüge bis zu einem Gewinn (oder Reset der 50-Züge Regel) an.\n",
    "Stetiges verringern einer positiven DTZ führt also zu einem Gewinn.\n",
    "\n",
    "Die DTZ-Zahl einer Spielsituation kann mit dem $n$ verglichen werden, in welcher Menge $S_n$ diese Situation in der `.chessAI` eingeordnet wurde.\n",
    "Stimmen diese Zahlen überein, war die Berechnung korrekt.\n",
    "\n",
    "*Hinweis: Je nach Ausführung der Syzygy-Tabellen werden halbe oder ganze Züge gespeichert, es muss daher beim Vergleich eine Toleranz von einem $n$ akzeptiert werden.*    "
   ],
   "metadata": {
    "collapsed": false,
    "pycharm": {
     "name": "#%% md\n"
    }
   }
  },
  {
   "cell_type": "markdown",
   "source": [
    "Die Funktion `compare_with_syzygy()` führt den Vergleich zwischen der Endspieldaten und Syzygy durch und gibt die Anzahl falsch eingeordneter Situationen zurück.\n",
    "Sie erhält dafür ein Objekt vom Type `chess.syzygy` und die Liste von $S_n$-Mengen `s_n_sequence`.\n",
    "Als Ergebnis, gibt sie die Anzahl der falschen Situationen `total_count` zurück. "
   ],
   "metadata": {
    "collapsed": false,
    "pycharm": {
     "name": "#%% md\n"
    }
   }
  },
  {
   "cell_type": "code",
   "execution_count": 60,
   "outputs": [],
   "source": [
    "def compare_with_syzygy(syzygy):\n",
    "    total_count = 0\n",
    "    \n",
    "    for n in range(len(g_s_n_sequence)):\n",
    "        n_count = 0\n",
    "        for int in g_s_n_sequence[n]:\n",
    "            chess_board = to_board(int, g_piece_list)\n",
    "            if n != abs(syzygy.probe_dtz(chess_board)) != n + 1:\n",
    "                n_count += 1\n",
    "        print(f\"S{n}: Syzygy believes {n_count} of {len(g_s_n_sequence[n])} Situations are wrongly placed in the sequence.\")\n",
    "        total_count += n_count\n",
    "    print(f\"Syzygy believes {total_count} Situations are wrongly placed in the sequence.\")\n",
    "    return total_count"
   ],
   "metadata": {
    "collapsed": false,
    "pycharm": {
     "name": "#%%\n"
    }
   }
  },
  {
   "cell_type": "markdown",
   "source": [
    "Die Syzygy-Dateien müssen sich entweder im Ordner `./syzygy` befinden oder der Pfad angepasst werden.\n",
    "Die folgende Zelle initialisiert das Objekt."
   ],
   "metadata": {
    "collapsed": false,
    "pycharm": {
     "name": "#%% md\n"
    }
   }
  },
  {
   "cell_type": "code",
   "execution_count": 61,
   "outputs": [
    {
     "data": {
      "text/plain": "290"
     },
     "execution_count": 61,
     "metadata": {},
     "output_type": "execute_result"
    }
   ],
   "source": [
    "syzygy = chess.syzygy.Tablebase()\n",
    "syzygy.add_directory(\"./syzygy\")"
   ],
   "metadata": {
    "collapsed": false,
    "pycharm": {
     "name": "#%%\n"
    }
   }
  },
  {
   "cell_type": "markdown",
   "source": [
    "Durch einen Funktionsaufruf von `compare_with_syzygy` kann der Vergleich gestartet werden."
   ],
   "metadata": {
    "collapsed": false,
    "pycharm": {
     "name": "#%% md\n"
    }
   }
  },
  {
   "cell_type": "code",
   "execution_count": 62,
   "outputs": [
    {
     "name": "stdout",
     "output_type": "stream",
     "text": [
      "S0: Syzygy believes 0 of 1552 Situations are wrongly placed in the sequence.\n",
      "S1: Syzygy believes 0 of 6312 Situations are wrongly placed in the sequence.\n",
      "S2: Syzygy believes 1072 of 1072 Situations are wrongly placed in the sequence.\n"
     ]
    },
    {
     "ename": "KeyboardInterrupt",
     "evalue": "",
     "output_type": "error",
     "traceback": [
      "\u001B[1;31m---------------------------------------------------------------------------\u001B[0m",
      "\u001B[1;31mKeyboardInterrupt\u001B[0m                         Traceback (most recent call last)",
      "\u001B[1;32m~\\AppData\\Local\\Temp/ipykernel_24172/342588260.py\u001B[0m in \u001B[0;36m<module>\u001B[1;34m\u001B[0m\n\u001B[1;32m----> 1\u001B[1;33m \u001B[0mcompare_with_syzygy\u001B[0m\u001B[1;33m(\u001B[0m\u001B[0msyzygy\u001B[0m\u001B[1;33m)\u001B[0m\u001B[1;33m\u001B[0m\u001B[1;33m\u001B[0m\u001B[0m\n\u001B[0m",
      "\u001B[1;32m~\\AppData\\Local\\Temp/ipykernel_24172/1064707859.py\u001B[0m in \u001B[0;36mcompare_with_syzygy\u001B[1;34m(syzygy)\u001B[0m\n\u001B[0;32m      6\u001B[0m         \u001B[1;32mfor\u001B[0m \u001B[0mint\u001B[0m \u001B[1;32min\u001B[0m \u001B[0mg_s_n_sequence\u001B[0m\u001B[1;33m[\u001B[0m\u001B[0mn\u001B[0m\u001B[1;33m]\u001B[0m\u001B[1;33m:\u001B[0m\u001B[1;33m\u001B[0m\u001B[1;33m\u001B[0m\u001B[0m\n\u001B[0;32m      7\u001B[0m             \u001B[0mchess_board\u001B[0m \u001B[1;33m=\u001B[0m \u001B[0mto_board\u001B[0m\u001B[1;33m(\u001B[0m\u001B[0mint\u001B[0m\u001B[1;33m,\u001B[0m \u001B[0mg_piece_list\u001B[0m\u001B[1;33m)\u001B[0m\u001B[1;33m\u001B[0m\u001B[1;33m\u001B[0m\u001B[0m\n\u001B[1;32m----> 8\u001B[1;33m             \u001B[1;32mif\u001B[0m \u001B[0mn\u001B[0m \u001B[1;33m!=\u001B[0m \u001B[0mabs\u001B[0m\u001B[1;33m(\u001B[0m\u001B[0msyzygy\u001B[0m\u001B[1;33m.\u001B[0m\u001B[0mprobe_dtz\u001B[0m\u001B[1;33m(\u001B[0m\u001B[0mchess_board\u001B[0m\u001B[1;33m)\u001B[0m\u001B[1;33m)\u001B[0m \u001B[1;33m!=\u001B[0m \u001B[0mn\u001B[0m \u001B[1;33m+\u001B[0m \u001B[1;36m1\u001B[0m\u001B[1;33m:\u001B[0m\u001B[1;33m\u001B[0m\u001B[1;33m\u001B[0m\u001B[0m\n\u001B[0m\u001B[0;32m      9\u001B[0m                 \u001B[0mn_count\u001B[0m \u001B[1;33m+=\u001B[0m \u001B[1;36m1\u001B[0m\u001B[1;33m\u001B[0m\u001B[1;33m\u001B[0m\u001B[0m\n\u001B[0;32m     10\u001B[0m         \u001B[0mprint\u001B[0m\u001B[1;33m(\u001B[0m\u001B[1;34mf\"S{n}: Syzygy believes {n_count} of {len(g_s_n_sequence[n])} Situations are wrongly placed in the sequence.\"\u001B[0m\u001B[1;33m)\u001B[0m\u001B[1;33m\u001B[0m\u001B[1;33m\u001B[0m\u001B[0m\n",
      "\u001B[1;32mc:\\users\\lukas\\studium\\5. semester\\studienarbeit\\projekt\\venv\\lib\\site-packages\\chess\\syzygy.py\u001B[0m in \u001B[0;36mprobe_dtz\u001B[1;34m(self, board)\u001B[0m\n\u001B[0;32m   1902\u001B[0m             \u001B[0mNote\u001B[0m \u001B[0mthat\u001B[0m \u001B[0mprobing\u001B[0m \u001B[0mcorrupted\u001B[0m \u001B[0mtable\u001B[0m \u001B[0mfiles\u001B[0m \u001B[1;32mis\u001B[0m \u001B[0mundefined\u001B[0m \u001B[0mbehavior\u001B[0m\u001B[1;33m.\u001B[0m\u001B[1;33m\u001B[0m\u001B[1;33m\u001B[0m\u001B[0m\n\u001B[0;32m   1903\u001B[0m         \"\"\"\n\u001B[1;32m-> 1904\u001B[1;33m         \u001B[0mv\u001B[0m \u001B[1;33m=\u001B[0m \u001B[0mself\u001B[0m\u001B[1;33m.\u001B[0m\u001B[0mprobe_dtz_no_ep\u001B[0m\u001B[1;33m(\u001B[0m\u001B[0mboard\u001B[0m\u001B[1;33m)\u001B[0m\u001B[1;33m\u001B[0m\u001B[1;33m\u001B[0m\u001B[0m\n\u001B[0m\u001B[0;32m   1905\u001B[0m \u001B[1;33m\u001B[0m\u001B[0m\n\u001B[0;32m   1906\u001B[0m         \u001B[1;32mif\u001B[0m \u001B[1;32mnot\u001B[0m \u001B[0mboard\u001B[0m\u001B[1;33m.\u001B[0m\u001B[0mep_square\u001B[0m \u001B[1;32mor\u001B[0m \u001B[0mself\u001B[0m\u001B[1;33m.\u001B[0m\u001B[0mvariant\u001B[0m\u001B[1;33m.\u001B[0m\u001B[0mcaptures_compulsory\u001B[0m\u001B[1;33m:\u001B[0m\u001B[1;33m\u001B[0m\u001B[1;33m\u001B[0m\u001B[0m\n",
      "\u001B[1;32mc:\\users\\lukas\\studium\\5. semester\\studienarbeit\\projekt\\venv\\lib\\site-packages\\chess\\syzygy.py\u001B[0m in \u001B[0;36mprobe_dtz_no_ep\u001B[1;34m(self, board)\u001B[0m\n\u001B[0;32m   1802\u001B[0m                 \u001B[0mboard\u001B[0m\u001B[1;33m.\u001B[0m\u001B[0mpush\u001B[0m\u001B[1;33m(\u001B[0m\u001B[0mmove\u001B[0m\u001B[1;33m)\u001B[0m\u001B[1;33m\u001B[0m\u001B[1;33m\u001B[0m\u001B[0m\n\u001B[0;32m   1803\u001B[0m                 \u001B[1;32mtry\u001B[0m\u001B[1;33m:\u001B[0m\u001B[1;33m\u001B[0m\u001B[1;33m\u001B[0m\u001B[0m\n\u001B[1;32m-> 1804\u001B[1;33m                     \u001B[0mv\u001B[0m \u001B[1;33m=\u001B[0m \u001B[1;33m-\u001B[0m\u001B[0mself\u001B[0m\u001B[1;33m.\u001B[0m\u001B[0mprobe_dtz\u001B[0m\u001B[1;33m(\u001B[0m\u001B[0mboard\u001B[0m\u001B[1;33m)\u001B[0m\u001B[1;33m\u001B[0m\u001B[1;33m\u001B[0m\u001B[0m\n\u001B[0m\u001B[0;32m   1805\u001B[0m \u001B[1;33m\u001B[0m\u001B[0m\n\u001B[0;32m   1806\u001B[0m                     \u001B[1;32mif\u001B[0m \u001B[0mv\u001B[0m \u001B[1;33m==\u001B[0m \u001B[1;36m1\u001B[0m \u001B[1;32mand\u001B[0m \u001B[0mboard\u001B[0m\u001B[1;33m.\u001B[0m\u001B[0mis_checkmate\u001B[0m\u001B[1;33m(\u001B[0m\u001B[1;33m)\u001B[0m\u001B[1;33m:\u001B[0m\u001B[1;33m\u001B[0m\u001B[1;33m\u001B[0m\u001B[0m\n",
      "\u001B[1;32mc:\\users\\lukas\\studium\\5. semester\\studienarbeit\\projekt\\venv\\lib\\site-packages\\chess\\syzygy.py\u001B[0m in \u001B[0;36mprobe_dtz\u001B[1;34m(self, board)\u001B[0m\n\u001B[0;32m   1902\u001B[0m             \u001B[0mNote\u001B[0m \u001B[0mthat\u001B[0m \u001B[0mprobing\u001B[0m \u001B[0mcorrupted\u001B[0m \u001B[0mtable\u001B[0m \u001B[0mfiles\u001B[0m \u001B[1;32mis\u001B[0m \u001B[0mundefined\u001B[0m \u001B[0mbehavior\u001B[0m\u001B[1;33m.\u001B[0m\u001B[1;33m\u001B[0m\u001B[1;33m\u001B[0m\u001B[0m\n\u001B[0;32m   1903\u001B[0m         \"\"\"\n\u001B[1;32m-> 1904\u001B[1;33m         \u001B[0mv\u001B[0m \u001B[1;33m=\u001B[0m \u001B[0mself\u001B[0m\u001B[1;33m.\u001B[0m\u001B[0mprobe_dtz_no_ep\u001B[0m\u001B[1;33m(\u001B[0m\u001B[0mboard\u001B[0m\u001B[1;33m)\u001B[0m\u001B[1;33m\u001B[0m\u001B[1;33m\u001B[0m\u001B[0m\n\u001B[0m\u001B[0;32m   1905\u001B[0m \u001B[1;33m\u001B[0m\u001B[0m\n\u001B[0;32m   1906\u001B[0m         \u001B[1;32mif\u001B[0m \u001B[1;32mnot\u001B[0m \u001B[0mboard\u001B[0m\u001B[1;33m.\u001B[0m\u001B[0mep_square\u001B[0m \u001B[1;32mor\u001B[0m \u001B[0mself\u001B[0m\u001B[1;33m.\u001B[0m\u001B[0mvariant\u001B[0m\u001B[1;33m.\u001B[0m\u001B[0mcaptures_compulsory\u001B[0m\u001B[1;33m:\u001B[0m\u001B[1;33m\u001B[0m\u001B[1;33m\u001B[0m\u001B[0m\n",
      "\u001B[1;32mc:\\users\\lukas\\studium\\5. semester\\studienarbeit\\projekt\\venv\\lib\\site-packages\\chess\\syzygy.py\u001B[0m in \u001B[0;36mprobe_dtz_no_ep\u001B[1;34m(self, board)\u001B[0m\n\u001B[0;32m   1792\u001B[0m                     \u001B[1;32mreturn\u001B[0m \u001B[1;36m1\u001B[0m \u001B[1;32mif\u001B[0m \u001B[0mv\u001B[0m \u001B[1;33m==\u001B[0m \u001B[1;36m2\u001B[0m \u001B[1;32melse\u001B[0m \u001B[1;36m101\u001B[0m\u001B[1;33m\u001B[0m\u001B[1;33m\u001B[0m\u001B[0m\n\u001B[0;32m   1793\u001B[0m \u001B[1;33m\u001B[0m\u001B[0m\n\u001B[1;32m-> 1794\u001B[1;33m         \u001B[0mdtz\u001B[0m\u001B[1;33m,\u001B[0m \u001B[0msuccess\u001B[0m \u001B[1;33m=\u001B[0m \u001B[0mself\u001B[0m\u001B[1;33m.\u001B[0m\u001B[0mprobe_dtz_table\u001B[0m\u001B[1;33m(\u001B[0m\u001B[0mboard\u001B[0m\u001B[1;33m,\u001B[0m \u001B[0mwdl\u001B[0m\u001B[1;33m)\u001B[0m\u001B[1;33m\u001B[0m\u001B[1;33m\u001B[0m\u001B[0m\n\u001B[0m\u001B[0;32m   1795\u001B[0m         \u001B[1;32mif\u001B[0m \u001B[0msuccess\u001B[0m \u001B[1;33m>=\u001B[0m \u001B[1;36m0\u001B[0m\u001B[1;33m:\u001B[0m\u001B[1;33m\u001B[0m\u001B[1;33m\u001B[0m\u001B[0m\n\u001B[0;32m   1796\u001B[0m             \u001B[1;32mreturn\u001B[0m \u001B[0mdtz_before_zeroing\u001B[0m\u001B[1;33m(\u001B[0m\u001B[0mwdl\u001B[0m\u001B[1;33m)\u001B[0m \u001B[1;33m+\u001B[0m \u001B[1;33m(\u001B[0m\u001B[0mdtz\u001B[0m \u001B[1;32mif\u001B[0m \u001B[0mwdl\u001B[0m \u001B[1;33m>\u001B[0m \u001B[1;36m0\u001B[0m \u001B[1;32melse\u001B[0m \u001B[1;33m-\u001B[0m\u001B[0mdtz\u001B[0m\u001B[1;33m)\u001B[0m\u001B[1;33m\u001B[0m\u001B[1;33m\u001B[0m\u001B[0m\n",
      "\u001B[1;32mc:\\users\\lukas\\studium\\5. semester\\studienarbeit\\projekt\\venv\\lib\\site-packages\\chess\\syzygy.py\u001B[0m in \u001B[0;36mprobe_dtz_table\u001B[1;34m(self, board, wdl)\u001B[0m\n\u001B[0;32m   1761\u001B[0m         \u001B[0mself\u001B[0m\u001B[1;33m.\u001B[0m\u001B[0m_bump_lru\u001B[0m\u001B[1;33m(\u001B[0m\u001B[0mtable\u001B[0m\u001B[1;33m)\u001B[0m\u001B[1;33m\u001B[0m\u001B[1;33m\u001B[0m\u001B[0m\n\u001B[0;32m   1762\u001B[0m \u001B[1;33m\u001B[0m\u001B[0m\n\u001B[1;32m-> 1763\u001B[1;33m         \u001B[1;32mreturn\u001B[0m \u001B[0mtable\u001B[0m\u001B[1;33m.\u001B[0m\u001B[0mprobe_dtz_table\u001B[0m\u001B[1;33m(\u001B[0m\u001B[0mboard\u001B[0m\u001B[1;33m,\u001B[0m \u001B[0mwdl\u001B[0m\u001B[1;33m)\u001B[0m\u001B[1;33m\u001B[0m\u001B[1;33m\u001B[0m\u001B[0m\n\u001B[0m\u001B[0;32m   1764\u001B[0m \u001B[1;33m\u001B[0m\u001B[0m\n\u001B[0;32m   1765\u001B[0m     \u001B[1;32mdef\u001B[0m \u001B[0mprobe_dtz_no_ep\u001B[0m\u001B[1;33m(\u001B[0m\u001B[0mself\u001B[0m\u001B[1;33m,\u001B[0m \u001B[0mboard\u001B[0m\u001B[1;33m:\u001B[0m \u001B[0mchess\u001B[0m\u001B[1;33m.\u001B[0m\u001B[0mBoard\u001B[0m\u001B[1;33m)\u001B[0m \u001B[1;33m->\u001B[0m \u001B[0mint\u001B[0m\u001B[1;33m:\u001B[0m\u001B[1;33m\u001B[0m\u001B[1;33m\u001B[0m\u001B[0m\n",
      "\u001B[1;32mc:\\users\\lukas\\studium\\5. semester\\studienarbeit\\projekt\\venv\\lib\\site-packages\\chess\\syzygy.py\u001B[0m in \u001B[0;36mprobe_dtz_table\u001B[1;34m(self, board, wdl)\u001B[0m\n\u001B[0;32m   1372\u001B[0m             \u001B[1;32mwith\u001B[0m \u001B[0mself\u001B[0m\u001B[1;33m.\u001B[0m\u001B[0mread_condition\u001B[0m\u001B[1;33m:\u001B[0m\u001B[1;33m\u001B[0m\u001B[1;33m\u001B[0m\u001B[0m\n\u001B[0;32m   1373\u001B[0m                 \u001B[0mself\u001B[0m\u001B[1;33m.\u001B[0m\u001B[0mread_count\u001B[0m \u001B[1;33m+=\u001B[0m \u001B[1;36m1\u001B[0m\u001B[1;33m\u001B[0m\u001B[1;33m\u001B[0m\u001B[0m\n\u001B[1;32m-> 1374\u001B[1;33m             \u001B[1;32mreturn\u001B[0m \u001B[0mself\u001B[0m\u001B[1;33m.\u001B[0m\u001B[0m_probe_dtz_table\u001B[0m\u001B[1;33m(\u001B[0m\u001B[0mboard\u001B[0m\u001B[1;33m,\u001B[0m \u001B[0mwdl\u001B[0m\u001B[1;33m)\u001B[0m\u001B[1;33m\u001B[0m\u001B[1;33m\u001B[0m\u001B[0m\n\u001B[0m\u001B[0;32m   1375\u001B[0m         \u001B[1;32mfinally\u001B[0m\u001B[1;33m:\u001B[0m\u001B[1;33m\u001B[0m\u001B[1;33m\u001B[0m\u001B[0m\n\u001B[0;32m   1376\u001B[0m             \u001B[1;32mwith\u001B[0m \u001B[0mself\u001B[0m\u001B[1;33m.\u001B[0m\u001B[0mread_condition\u001B[0m\u001B[1;33m:\u001B[0m\u001B[1;33m\u001B[0m\u001B[1;33m\u001B[0m\u001B[0m\n",
      "\u001B[1;32mc:\\users\\lukas\\studium\\5. semester\\studienarbeit\\projekt\\venv\\lib\\site-packages\\chess\\syzygy.py\u001B[0m in \u001B[0;36m_probe_dtz_table\u001B[1;34m(self, board, wdl)\u001B[0m\n\u001B[0;32m   1416\u001B[0m \u001B[1;33m\u001B[0m\u001B[0m\n\u001B[0;32m   1417\u001B[0m             \u001B[0midx\u001B[0m \u001B[1;33m=\u001B[0m \u001B[0mself\u001B[0m\u001B[1;33m.\u001B[0m\u001B[0mencode_piece\u001B[0m\u001B[1;33m(\u001B[0m\u001B[0mself\u001B[0m\u001B[1;33m.\u001B[0m\u001B[0mnorm\u001B[0m\u001B[1;33m,\u001B[0m \u001B[0mp\u001B[0m\u001B[1;33m,\u001B[0m \u001B[0mself\u001B[0m\u001B[1;33m.\u001B[0m\u001B[0mfactor\u001B[0m\u001B[1;33m)\u001B[0m\u001B[1;33m\u001B[0m\u001B[1;33m\u001B[0m\u001B[0m\n\u001B[1;32m-> 1418\u001B[1;33m             \u001B[0mres\u001B[0m \u001B[1;33m=\u001B[0m \u001B[0mself\u001B[0m\u001B[1;33m.\u001B[0m\u001B[0mdecompress_pairs\u001B[0m\u001B[1;33m(\u001B[0m\u001B[0mself\u001B[0m\u001B[1;33m.\u001B[0m\u001B[0mprecomp\u001B[0m\u001B[1;33m,\u001B[0m \u001B[0midx\u001B[0m\u001B[1;33m)\u001B[0m\u001B[1;33m\u001B[0m\u001B[1;33m\u001B[0m\u001B[0m\n\u001B[0m\u001B[0;32m   1419\u001B[0m \u001B[1;33m\u001B[0m\u001B[0m\n\u001B[0;32m   1420\u001B[0m             \u001B[1;32mif\u001B[0m \u001B[0mself\u001B[0m\u001B[1;33m.\u001B[0m\u001B[0mflags\u001B[0m \u001B[1;33m&\u001B[0m \u001B[1;36m2\u001B[0m\u001B[1;33m:\u001B[0m\u001B[1;33m\u001B[0m\u001B[1;33m\u001B[0m\u001B[0m\n",
      "\u001B[1;32mc:\\users\\lukas\\studium\\5. semester\\studienarbeit\\projekt\\venv\\lib\\site-packages\\chess\\syzygy.py\u001B[0m in \u001B[0;36mdecompress_pairs\u001B[1;34m(self, d, idx)\u001B[0m\n\u001B[0;32m    994\u001B[0m             \u001B[1;32mwhile\u001B[0m \u001B[0mcode\u001B[0m \u001B[1;33m<\u001B[0m \u001B[0md\u001B[0m\u001B[1;33m.\u001B[0m\u001B[0mbase\u001B[0m\u001B[1;33m[\u001B[0m\u001B[0mbase_idx\u001B[0m \u001B[1;33m+\u001B[0m \u001B[0ml\u001B[0m\u001B[1;33m]\u001B[0m\u001B[1;33m:\u001B[0m\u001B[1;33m\u001B[0m\u001B[1;33m\u001B[0m\u001B[0m\n\u001B[0;32m    995\u001B[0m                 \u001B[0ml\u001B[0m \u001B[1;33m+=\u001B[0m \u001B[1;36m1\u001B[0m\u001B[1;33m\u001B[0m\u001B[1;33m\u001B[0m\u001B[0m\n\u001B[1;32m--> 996\u001B[1;33m             \u001B[0msym\u001B[0m \u001B[1;33m=\u001B[0m \u001B[0mself\u001B[0m\u001B[1;33m.\u001B[0m\u001B[0mread_uint16\u001B[0m\u001B[1;33m(\u001B[0m\u001B[0md\u001B[0m\u001B[1;33m.\u001B[0m\u001B[0moffset\u001B[0m \u001B[1;33m+\u001B[0m \u001B[0ml\u001B[0m \u001B[1;33m*\u001B[0m \u001B[1;36m2\u001B[0m\u001B[1;33m)\u001B[0m\u001B[1;33m\u001B[0m\u001B[1;33m\u001B[0m\u001B[0m\n\u001B[0m\u001B[0;32m    997\u001B[0m             \u001B[0msym\u001B[0m \u001B[1;33m+=\u001B[0m \u001B[1;33m(\u001B[0m\u001B[0mcode\u001B[0m \u001B[1;33m-\u001B[0m \u001B[0md\u001B[0m\u001B[1;33m.\u001B[0m\u001B[0mbase\u001B[0m\u001B[1;33m[\u001B[0m\u001B[0mbase_idx\u001B[0m \u001B[1;33m+\u001B[0m \u001B[0ml\u001B[0m\u001B[1;33m]\u001B[0m\u001B[1;33m)\u001B[0m \u001B[1;33m>>\u001B[0m \u001B[1;33m(\u001B[0m\u001B[1;36m64\u001B[0m \u001B[1;33m-\u001B[0m \u001B[0ml\u001B[0m\u001B[1;33m)\u001B[0m\u001B[1;33m\u001B[0m\u001B[1;33m\u001B[0m\u001B[0m\n\u001B[0;32m    998\u001B[0m             \u001B[1;32mif\u001B[0m \u001B[0mlitidx\u001B[0m \u001B[1;33m<\u001B[0m \u001B[0md\u001B[0m\u001B[1;33m.\u001B[0m\u001B[0msymlen\u001B[0m\u001B[1;33m[\u001B[0m\u001B[0msymlen_idx\u001B[0m \u001B[1;33m+\u001B[0m \u001B[0msym\u001B[0m\u001B[1;33m]\u001B[0m \u001B[1;33m+\u001B[0m \u001B[1;36m1\u001B[0m\u001B[1;33m:\u001B[0m\u001B[1;33m\u001B[0m\u001B[1;33m\u001B[0m\u001B[0m\n",
      "\u001B[1;32mc:\\users\\lukas\\studium\\5. semester\\studienarbeit\\projekt\\venv\\lib\\site-packages\\chess\\syzygy.py\u001B[0m in \u001B[0;36mread_uint16\u001B[1;34m(self, data_ptr)\u001B[0m\n\u001B[0;32m   1035\u001B[0m \u001B[1;33m\u001B[0m\u001B[0m\n\u001B[0;32m   1036\u001B[0m     \u001B[1;32mdef\u001B[0m \u001B[0mread_uint16\u001B[0m\u001B[1;33m(\u001B[0m\u001B[0mself\u001B[0m\u001B[1;33m,\u001B[0m \u001B[0mdata_ptr\u001B[0m\u001B[1;33m:\u001B[0m \u001B[0mint\u001B[0m\u001B[1;33m)\u001B[0m \u001B[1;33m->\u001B[0m \u001B[0mint\u001B[0m\u001B[1;33m:\u001B[0m\u001B[1;33m\u001B[0m\u001B[1;33m\u001B[0m\u001B[0m\n\u001B[1;32m-> 1037\u001B[1;33m         \u001B[1;32mreturn\u001B[0m \u001B[0mUINT16\u001B[0m\u001B[1;33m.\u001B[0m\u001B[0munpack_from\u001B[0m\u001B[1;33m(\u001B[0m\u001B[0mself\u001B[0m\u001B[1;33m.\u001B[0m\u001B[0mdata\u001B[0m\u001B[1;33m,\u001B[0m \u001B[0mdata_ptr\u001B[0m\u001B[1;33m)\u001B[0m\u001B[1;33m[\u001B[0m\u001B[1;36m0\u001B[0m\u001B[1;33m]\u001B[0m  \u001B[1;31m# type: ignore\u001B[0m\u001B[1;33m\u001B[0m\u001B[1;33m\u001B[0m\u001B[0m\n\u001B[0m\u001B[0;32m   1038\u001B[0m \u001B[1;33m\u001B[0m\u001B[0m\n\u001B[0;32m   1039\u001B[0m     \u001B[1;32mdef\u001B[0m \u001B[0mclose\u001B[0m\u001B[1;33m(\u001B[0m\u001B[0mself\u001B[0m\u001B[1;33m)\u001B[0m \u001B[1;33m->\u001B[0m \u001B[1;32mNone\u001B[0m\u001B[1;33m:\u001B[0m\u001B[1;33m\u001B[0m\u001B[1;33m\u001B[0m\u001B[0m\n",
      "\u001B[1;31mKeyboardInterrupt\u001B[0m: "
     ]
    }
   ],
   "source": [
    "compare_with_syzygy(syzygy)"
   ],
   "metadata": {
    "collapsed": false,
    "pycharm": {
     "name": "#%%\n"
    }
   }
  },
  {
   "cell_type": "markdown",
   "source": [
    "## Gaviota\n",
    "\n",
    "Als Alternative für Syzygy gibt es die Gaviota Endspieltabellen.\n",
    "Diese können nach ihrer DTM Information ausgewertet werden. DTM steht hierbei für Depth to Mate und gibt an, wie viele Halbzüge eine Situation von einem Schach-Matt entfernt ist.\n",
    "Ist die Situation unentschieden, ist die DTM Null. \n",
    "Für den Vergleich der KI mit Gaviota wird die Funktion `compare_with_gaviota` definiert.\n",
    "Diese erhält als Parameter ein Objekt vom Typ `chess.Gaviota` und führt den Vergleich mit der globalen Liste von $S_n$ Mengen `g_s_n_sequence` durch.\n",
    "Sie gibt in der Konsole eine Auswertung aus, und liefert die Anzahl falsch zugeordneter Boards als Rückgabewert zurück."
   ],
   "metadata": {
    "collapsed": false,
    "pycharm": {
     "name": "#%% md\n"
    }
   }
  },
  {
   "cell_type": "code",
   "execution_count": 63,
   "outputs": [],
   "source": [
    "def compare_with_gaviota(gaviota):\n",
    "    total_count = 0\n",
    "    \n",
    "    for n in range(len(g_s_n_sequence)):\n",
    "        n_count = 0\n",
    "        for int_rep in g_s_n_sequence[n]:\n",
    "            chess_board = to_board(int_rep, g_piece_list)\n",
    "            if n != abs(gaviota.probe_dtm(chess_board)):\n",
    "                n_count += 1\n",
    "                if False:\n",
    "                    print(\"Wrong match in S\" + str(n) + \" - Gaviota says: \" + str(abs(gaviota.probe_dtm(chess_board))))\n",
    "                    print(str(int_rep) + \" - \" + chess_board.fen())\n",
    "                    print(chess_board)\n",
    "        print(f\"S{n}: Gaviota believes {n_count} of {len(g_s_n_sequence[n])} Situations are wrongly placed in the sequence.\")\n",
    "        total_count += n_count\n",
    "    print(f\"Gaviota believes {total_count} Situations are wrongly placed in the sequence.\")\n",
    "    return total_count\n"
   ],
   "metadata": {
    "collapsed": false,
    "pycharm": {
     "name": "#%%\n"
    }
   }
  },
  {
   "cell_type": "markdown",
   "source": [
    "Die Gaviota-Dateien müssen sich entweder im Ordner `./gaviota` befinden oder der Pfad angepasst werden.\n",
    "Die folgende Zelle initialisiert das Objekt."
   ],
   "metadata": {
    "collapsed": false,
    "pycharm": {
     "name": "#%% md\n"
    }
   }
  },
  {
   "cell_type": "code",
   "execution_count": 64,
   "outputs": [],
   "source": [
    "gaviota = chess.gaviota.open_tablebase(\"./gaviota\")"
   ],
   "metadata": {
    "collapsed": false,
    "pycharm": {
     "name": "#%%\n"
    }
   }
  },
  {
   "cell_type": "markdown",
   "source": [
    "Durch einen Funktionsaufruf von ``compare_with_gaviota`` kann der Vergleich gestartet werden"
   ],
   "metadata": {
    "collapsed": false,
    "pycharm": {
     "name": "#%% md\n"
    }
   }
  },
  {
   "cell_type": "code",
   "execution_count": 67,
   "outputs": [
    {
     "name": "stdout",
     "output_type": "stream",
     "text": [
      "S0: Gaviota believes 0 of 1552 Situations are wrongly placed in the sequence.\n",
      "S1: Gaviota believes 0 of 6312 Situations are wrongly placed in the sequence.\n",
      "S2: Gaviota believes 0 of 1072 Situations are wrongly placed in the sequence.\n",
      "S3: Gaviota believes 0 of 2608 Situations are wrongly placed in the sequence.\n",
      "S4: Gaviota believes 0 of 2344 Situations are wrongly placed in the sequence.\n",
      "S5: Gaviota believes 0 of 14936 Situations are wrongly placed in the sequence.\n",
      "S6: Gaviota believes 0 of 3432 Situations are wrongly placed in the sequence.\n",
      "S7: Gaviota believes 0 of 18432 Situations are wrongly placed in the sequence.\n",
      "S8: Gaviota believes 0 of 9336 Situations are wrongly placed in the sequence.\n",
      "S9: Gaviota believes 0 of 30672 Situations are wrongly placed in the sequence.\n",
      "S10: Gaviota believes 0 of 9320 Situations are wrongly placed in the sequence.\n",
      "S11: Gaviota believes 0 of 37512 Situations are wrongly placed in the sequence.\n",
      "S12: Gaviota believes 0 of 21000 Situations are wrongly placed in the sequence.\n",
      "Gaviota believes 0 Situations are wrongly placed in the sequence.\n"
     ]
    },
    {
     "data": {
      "text/plain": "0"
     },
     "execution_count": 67,
     "metadata": {},
     "output_type": "execute_result"
    }
   ],
   "source": [
    "compare_with_gaviota(gaviota)"
   ],
   "metadata": {
    "collapsed": false,
    "pycharm": {
     "name": "#%%\n"
    }
   }
  },
  {
   "cell_type": "markdown",
   "source": [
    "## Matching Rate\n",
    "Eine weitere Betrachtung, welche über die Qualität der berechneten $S_n$ Mengen Auskunft gibt, ist der Anteil der Situationen, welche abgedeckt werden.\n",
    "Für diesen Vergleich werden alle validen Stellungen mit den angegebenen Figuren betrachtet, und überprüft wie viele davon sich in einer $S_n$ Menge befinden.\n",
    "Da nicht alle Stellungen zu einem Sieg geführt werden können, werden die zuvor erklärten Gaviota-Tabellen verwendet, um unentschiedene Situationen herauszufiltern.\n",
    "Diese werden für den Anteil nicht beachtet."
   ],
   "metadata": {
    "collapsed": false,
    "pycharm": {
     "name": "#%% md\n"
    }
   }
  },
  {
   "cell_type": "markdown",
   "source": [
    "Zunächst werden globale Variablen für den Vergleich definiert."
   ],
   "metadata": {
    "collapsed": false,
    "pycharm": {
     "name": "#%% md\n"
    }
   }
  },
  {
   "cell_type": "code",
   "execution_count": null,
   "outputs": [],
   "source": [
    "g_total = 0\n",
    "g_not_matched = 0\n",
    "g_all_boards = set()"
   ],
   "metadata": {
    "collapsed": false,
    "pycharm": {
     "name": "#%%\n"
    }
   }
  },
  {
   "cell_type": "markdown",
   "source": [
    "Anschließend wird die Funktion `fill_boards_with_piece`, welche bereits im Notebook `13_calculation_backend.ipynb` erklärt wurde angepasst.\n",
    "Diese Version fügt für Stellungen, welche alle Figuren beinhalten, einen Vergleich durch, ob sich die Integer-Repräsentation in der globalen Variable `g_all_boards` befindet.\n",
    "Diese enthält alle Stellungen.\n",
    "Ist dies nicht der Fall, wird überprüft, ob Gaviota einen DTM-Wert, welcher nicht 0 ist liefert.\n",
    "Ist dies der Fall, zählt das Board als falsch nicht eingeordnet. "
   ],
   "metadata": {
    "collapsed": false,
    "pycharm": {
     "name": "#%% md\n"
    }
   }
  },
  {
   "cell_type": "code",
   "execution_count": null,
   "outputs": [],
   "source": [
    "def fill_boards_with_piece(int_boards_set, piece, cur_piece_list, total, not_matched):\n",
    "    finished_boards = set()\n",
    "    all_squares = set(range(64))\n",
    "    piece_count = len(g_piece_list)\n",
    "    for int_board in int_boards_set:\n",
    "        board_o = to_board(int_board, cur_piece_list)\n",
    "        used_squares = set(board_o.piece_map().keys())\n",
    "        for square in all_squares:\n",
    "            if square not in used_squares:\n",
    "                tmp_piece_list = cur_piece_list.copy()\n",
    "                board_object = board_o.copy()\n",
    "                board_object.set_piece_at(square, piece)\n",
    "                tmp_piece_list.append(piece)\n",
    "                board_int = to_integer(board_object, tmp_piece_list)\n",
    "                if len(used_squares) > 1 and not board_object.is_valid():\n",
    "                    continue\n",
    "\n",
    "                if len(used_squares) + 1 < piece_count: #Board is valid, but needs more pieces\n",
    "                    finished_boards.add(board_int)\n",
    "                    continue\n",
    "                \n",
    "                total += 1\n",
    "                if board_int not in g_all_boards:\n",
    "                    if gaviota.probe_dtm(board_object) != 0: #0 is a draw and not thus relevant for this check\n",
    "                        if False:\n",
    "                            print(\"Board not matched:\")\n",
    "                            print(str(board_int) + \" - \" + board_object.fen())\n",
    "                            print(board_object)\n",
    "                        not_matched += 1\n",
    "                    \n",
    "    return finished_boards, total, not_matched\n"
   ],
   "metadata": {
    "collapsed": false,
    "pycharm": {
     "name": "#%%\n"
    }
   }
  },
  {
   "cell_type": "markdown",
   "source": [
    "Die Funktion `matchrate_for_player` bestimmt die Abweichungen für den im Parameter `turn` übergebenen Spieler.\n",
    "Da eine Stellung sich unterscheidet, abhängig welcher Spieler am Zug ist, müssen diese Rechnungen für beide Spieler durchgeführt werden.\n",
    "Die Funktion funktioniert, wie die bereits in `13_calculation_backend.ipynb` erklärte Funktion `calculate_s0`."
   ],
   "metadata": {
    "collapsed": false,
    "pycharm": {
     "name": "#%% md\n"
    }
   }
  },
  {
   "cell_type": "code",
   "execution_count": null,
   "outputs": [],
   "source": [
    "def matchrate_for_player(turn):\n",
    "    global g_piece_list, g_total, g_not_matched\n",
    "\n",
    "    boards = set()\n",
    "    empty_board = chess.Board(None)\n",
    "    empty_board.turn = turn\n",
    "    tmp_piece_list = []\n",
    "    boards.add(to_integer(empty_board, tmp_piece_list))\n",
    "    \n",
    "    total = 0\n",
    "    not_matched = 0\n",
    "   \n",
    "    for piece in g_piece_list:\n",
    "        boards, total, not_matched = fill_boards_with_piece(boards, piece, tmp_piece_list, total, not_matched)\n",
    "        tmp_piece_list.append(piece)\n",
    "    \n",
    "    g_total += total\n",
    "    g_not_matched += not_matched"
   ],
   "metadata": {
    "collapsed": false,
    "pycharm": {
     "name": "#%%\n"
    }
   }
  },
  {
   "cell_type": "markdown",
   "source": [
    "Die Funktion `matchrate` führt die Rechnung für beide Spieler durch."
   ],
   "metadata": {
    "collapsed": false,
    "pycharm": {
     "name": "#%% md\n"
    }
   }
  },
  {
   "cell_type": "code",
   "execution_count": null,
   "outputs": [],
   "source": [
    "def matchrate():\n",
    "    matchrate_for_player(chess.WHITE)\n",
    "    matchrate_for_player(chess.BLACK)\n",
    "    percentage = (g_total - g_not_matched) / g_total * 100\n",
    "    print(\"Matching Rate:\" + str(percentage) + \"%\")"
   ],
   "metadata": {
    "collapsed": false,
    "pycharm": {
     "name": "#%%\n"
    }
   }
  },
  {
   "cell_type": "markdown",
   "source": [
    "Die folgende Zelle füllt die Variable `g_all_boards` und führt die Rechnung durch. "
   ],
   "metadata": {
    "collapsed": false,
    "pycharm": {
     "name": "#%% md\n"
    }
   }
  },
  {
   "cell_type": "code",
   "execution_count": null,
   "outputs": [],
   "source": [
    "g_all_boards = set.union(*g_s_n_sequence)\n",
    "matchrate()\n"
   ],
   "metadata": {
    "collapsed": false,
    "pycharm": {
     "name": "#%%\n"
    }
   }
  },
  {
   "cell_type": "markdown",
   "source": [
    "## Ergebnis der Validierung\n",
    "\n",
    "Durch Nutzung dieses Notebooks kann festgestellt werden, dass die Enspieldaten für drei Figuren (König, König und Dame sowie König, König und Turm) optimal sind.\n",
    "Es werden 100% der gewinnbaren Situationen abgedeckt (`matching rate`) und diese mit derselben Genauigkeit, wie die Endspieldaten von Syzygy und Gaviota.\n",
    "Dasselbe gilt auch für die Situationen mit König, König, Läufer und Springer.\n",
    "\n",
    "Die Validierung liefert von der Erwartung abweichende Ergebnisse für die Situation König und zwei Läufer gegen König.\n",
    "Die Abdeckung der gewinnbaren Situationen liegt in 40 $S_n$ Mengen bei 98,98%. Das bedeutet, dass ca. 1680 valide und gewinnbare Situationen nicht durch die KI gelöst werden können.\n",
    "Weiter zeigen die anderen Tests, dass Situationen im Vergleich zu Gaviota in einem zu hohem $S_n$ eingeordnet wurden. Da es nur 40 Mengen gibt, werden maximal 20 Züge bis zu einem Sieg durchgeführt. Es können also auch unter Betrachtung der 50-Züge Regel alle Situationen zu einem Sieg geführt werden.\n",
    "Auch der erste Test schlägt fehl. Dies führt Ebenfalls zu Ineffizienzen beim Spiel gegen die KI.\n",
    "Eine weitere Besonderheit lässt sich beim Vergleich des Syzygy Tests mit dem Gaviota Test erkennen. Ab $S_2$ betrachtet Syzygy alle Situationen als falsch eingeordnet. Da Situationen aus $S_3$ in drei Halbzügen zum Sieg geführt werden können, ist diese Information offensichtlich Falsch.\n",
    "TODO: Beispiel\n",
    "Dieses Phänomen wurde nicht genauer untersucht und stattdessen der Vergleich mit Gaviota bevorzugt. \n",
    "\n",
    "Im Rahmen der Optimierung und Fehlersuche wird festgestellt, dass eine Berechnung mit den Spiegelungen deaktiviert keine falschen Zuordnungen für die Situationen mit König gegen König und zwei Läufer liefert.\n",
    "Hieraus folgt die Vermutung, dass mit dem Code für Spiegelungen ein Problem vorliegt. Um diese These zu überprüfen, wird der Spiegelungs-Code angepasst, die Funktionen der `chess` Bibliothek für die horizontale, vertikale und diagonale Spiegelung zu verwenden. Die Bibliothek bietet keine Funktionen für die Rotation von Situationen.\n",
    "Als Ergebnis dieses Tests wurde festgestellt, das weniger aber weiterhin falsche Zuordnungen stattfinden. Es wird daher die These aufgestellt, dass die Verwendung von Spiegelungen eine negative Auswirkung auf die Ergebnisse hat. Der Grund hierfür ist nicht bekannt. Da die Performance geringer ist, werden die Spiegelungsfunktionen der Bibliothek nicht verwendet.    \n",
    "\n",
    "Der Sonderfall König, König Bauer, welcher als Einziger eine Änderung der Figuren auf dem Spielfeld enthält, kann von diesem Notebook nicht komplett validiert werden.\n",
    "Da die Spielzüge nach einer Wandlung des Bauerns zur Dame optimal berechnet sind, wurde dieses Notebook nicht angepasst, um die Schritte des Bauerns bis zur Umwandlung zu validieren.\n"
   ],
   "metadata": {
    "collapsed": false,
    "pycharm": {
     "name": "#%% md\n"
    }
   }
  },
  {
   "cell_type": "code",
   "execution_count": null,
   "outputs": [],
   "source": [
    "b = chess.Board(\"8/6B1/8/8/2B5/6K1/8/6k1 w - - 0 1\")\n",
    "print(b)\n",
    "print(b.piece_map())\n",
    "b.set_piece_map({26: chess.Piece.from_symbol('B'), 54: chess.Piece.from_symbol('B'), 22: chess.Piece.from_symbol('K'), 6: chess.Piece.from_symbol('k')})\n",
    "print(b.piece_map())\n"
   ],
   "metadata": {
    "collapsed": false,
    "pycharm": {
     "name": "#%%\n"
    }
   }
  }
 ],
 "metadata": {
  "deepnote": {},
  "deepnote_execution_queue": [],
  "deepnote_notebook_id": "c0d8ccfa-ab76-4e6a-a6ac-5e86ac83d6bd",
  "kernelspec": {
   "display_name": "Python 3 (ipykernel)",
   "language": "python",
   "name": "python3"
  },
  "language_info": {
   "codemirror_mode": {
    "name": "ipython",
    "version": 3
   },
   "file_extension": ".py",
   "mimetype": "text/x-python",
   "name": "python",
   "nbconvert_exporter": "python",
   "pygments_lexer": "ipython3",
   "version": "3.10.2"
  }
 },
 "nbformat": 4,
 "nbformat_minor": 1
}