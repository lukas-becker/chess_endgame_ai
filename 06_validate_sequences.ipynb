{
 "cells": [
  {
   "cell_type": "code",
   "execution_count": 1,
   "metadata": {},
   "outputs": [
    {
     "data": {
      "text/html": [
       "<link href='http://fonts.googleapis.com/css?family=Alegreya+Sans:100,300,400,500,700,800,900,100italic,300italic,400italic,500italic,700italic,800italic,900italic' rel='stylesheet' type='text/css'>\n",
       "<link href='http://fonts.googleapis.com/css?family=Arvo:400,700,400italic' rel='stylesheet' type='text/css'>\n",
       "<link href='http://fonts.googleapis.com/css?family=PT+Mono' rel='stylesheet' type='text/css'>\n",
       "<link href='http://fonts.googleapis.com/css?family=Shadows+Into+Light' rel='stylesheet' type='text/css'>\n",
       "<link href='http://fonts.googleapis.com/css?family=Philosopher:400,700,400italic,700italic' rel='stylesheet' type='text/css'>\n",
       "\n",
       "<style>\n",
       "\n",
       "@font-face {\n",
       "    font-family: \"Computer Modern\";\n",
       "    src: url('http://mirrors.ctan.org/fonts/cm-unicode/fonts/otf/cmunss.otf');\n",
       "}\n",
       "\n",
       ".container { width: 100% }\n",
       "\n",
       "/* Formatting for header cells */\n",
       ".text_cell_render h1 {\n",
       "    font-family: 'Philosopher', sans-serif;\n",
       "    font-weight: 400;\n",
       "    font-size: 2.2em;\n",
       "    line-height: 100%;\n",
       "    color: rgb(0, 80, 120);\n",
       "    margin-bottom: 0.1em;\n",
       "    margin-top: 0.1em;\n",
       "    display: block;\n",
       "}\n",
       ".text_cell_render h2 {\n",
       "    font-family: 'Philosopher', serif;\n",
       "    font-weight: 400;\n",
       "    font-size: 1.9em;\n",
       "    line-height: 100%;\n",
       "    color: rgb(200,100,0);\n",
       "    margin-bottom: 0.1em;\n",
       "    margin-top: 0.1em;\n",
       "    display: block;\n",
       "}\n",
       "\n",
       ".text_cell_render h3 {\n",
       "    font-family: 'Philosopher', serif;\n",
       "    margin-top:12px;\n",
       "    margin-bottom: 3px;\n",
       "    font-style: italic;\n",
       "    color: rgb(94,127,192);\n",
       "}\n",
       "\n",
       ".text_cell_render h4 {\n",
       "    font-family: 'Philosopher', serif;\n",
       "}\n",
       "\n",
       ".text_cell_render h5 {\n",
       "    font-family: 'Alegreya Sans', sans-serif;\n",
       "    font-weight: 300;\n",
       "    font-size: 16pt;\n",
       "    color: grey;\n",
       "    font-style: italic;\n",
       "    margin-bottom: .1em;\n",
       "    margin-top: 0.1em;\n",
       "    display: block;\n",
       "}\n",
       "\n",
       ".text_cell_render h6 {\n",
       "    font-family: 'PT Mono', sans-serif;\n",
       "    font-weight: 300;\n",
       "    font-size: 10pt;\n",
       "    color: grey;\n",
       "    margin-bottom: 1px;\n",
       "    margin-top: 1px;\n",
       "}\n",
       "\n",
       ".text_cell_render em {\n",
       "    font-family: 'Philosopher', sans-serif;\n",
       "    color:        blue;\n",
       "    background-color: rgb(255,220,180);\n",
       "    font-size:    110%;\n",
       "    margin-left:   2px;\n",
       "    margin-right:  2px;\n",
       "    font-weight:   100;\n",
       "}\n",
       "\n",
       ".text_cell_render b {\n",
       "    color:            rgb(255,195,195);\n",
       "    background-color: rgb(0,0,0);\n",
       "    font-size:    110%;\n",
       "    margin-left:   2px;\n",
       "    margin-right:  2px;\n",
       "    font-weight:   650;\n",
       "}\n",
       "\n",
       ".text_cell_render tt {\n",
       "    font-size:    120%;\n",
       "    margin-left:   2px;\n",
       "    margin-right:  2px;\n",
       "    font-weight:   150;\n",
       "}\n",
       "\n",
       ".Codemirror {\n",
       "    font-family: \"PT Mono\";\n",
       "    font-size: 100%;\n",
       "}\n",
       "\n",
       "</style>"
      ],
      "text/plain": [
       "<IPython.core.display.HTML object>"
      ]
     },
     "execution_count": 1,
     "metadata": {},
     "output_type": "execute_result"
    }
   ],
   "source": [
    "from IPython.core.display import HTML\n",
    "with open('style.html', 'r') as file:\n",
    "     css = file.read()\n",
    "HTML(css)"
   ]
  },
  {
   "cell_type": "code",
   "execution_count": 2,
   "metadata": {},
   "outputs": [],
   "source": [
    "%run Util/00_imports.ipynb"
   ]
  },
  {
   "cell_type": "markdown",
   "metadata": {
    "cell_id": "15fcf482-70e1-4eb2-95b8-c84b474a336d",
    "deepnote_cell_type": "markdown",
    "pycharm": {
     "name": "#%% md\n"
    }
   },
   "source": [
    "# Überprüfen der $S_n$ Mengen\n",
    "\n",
    "Bei der Bestimmung der $S_n$ Mengen wurde die Retrograde Analyse verwendet.\n",
    "Um sicherzustellen, dass die Bretter die bspw. in $S_{10}$ zu finden sind, auch wirklich in <=10 Zügen beendet werden, wurden in diesem Notebook Funktionen definiert, die diesen Aspekt überprüfen"
   ]
  },
  {
   "cell_type": "markdown",
   "metadata": {},
   "source": [
    "Der Vergleich der Spielbretter findet in diesem Notebook anhand der FEN-Schreibweise statt. Diese wird in zweierlei Form verwendet, in ihrer gesamten und in einer gekürzten Schreibweise. Die gekürzte Schreibweise beinhaltet nur das momentane Spielfeld, aber auch die Farbe, die gerade am Zug ist. Zur Erstellung dieser Schreibweise wurde die Funktion ``get_board_and_turn`` geschrieben. Diese erhält als Parameter eine komplette ``fen`` und gibt in der FEN-Notation das Brett und die Farbe, die am Zug ist, zurück."
   ]
  },
  {
   "cell_type": "code",
   "execution_count": 3,
   "metadata": {
    "cell_id": "14a6f264-4763-4bb3-bde2-e67ce60c9b62",
    "deepnote_cell_type": "code",
    "deepnote_to_be_reexecuted": false,
    "execution_millis": 1,
    "execution_start": 1642957225117,
    "source_hash": "2f0fd4b6",
    "tags": []
   },
   "outputs": [],
   "source": [
    "def get_board_and_turn(fen):\n",
    "    split = fen.split()\n",
    "    short_fen = str(split[0]) + \" \" + str(split[1])\n",
    "    return short_fen"
   ]
  },
  {
   "cell_type": "markdown",
   "metadata": {},
   "source": [
    "Für die Bestimmung der Züge der KI werden die $S_n$ Mengen verwendet, die mit Hilfe des Notebooks ``calculation.ipynb`` bestimmt werden. Diese wurden bereits in einer JSON-Datei serialisiert abgespeichert. Für dieses Notebook werden alle FENs gelesen und daraus Board-Objekte erstellt. Dies geschieht mit der Funktion ``load_s_n_sequence``. Diese erhält den Dateipfad (``filepath``) als Parameter, um aus der Datei die $S_n$ Mengen auslesen zu können."
   ]
  },
  {
   "cell_type": "code",
   "execution_count": 4,
   "metadata": {
    "cell_id": "00001-33fd4e9c-8795-4f06-9a41-5a0c8fdd243f",
    "deepnote_cell_type": "code",
    "deepnote_to_be_reexecuted": false,
    "execution_millis": 1,
    "execution_start": 1642957225118,
    "pycharm": {
     "name": "#%%\n"
    },
    "source_hash": "8f0a5bfa"
   },
   "outputs": [],
   "source": [
    "def load_s_n_sequence(filepath):\n",
    "    s_n_sequence_fen = []\n",
    "    s_n_sequence_short_fen = []\n",
    "    f = open(filepath, \"r\")\n",
    "    tmp = json.loads(f.read())\n",
    "    for item in tmp:\n",
    "        tmp_fen = set()\n",
    "        tmp_fen_short = set()\n",
    "        for board in item:\n",
    "            tmp_fen.add(board)\n",
    "            tmp_fen_short.add(get_board_and_turn(board))\n",
    "        s_n_sequence_fen.append(tmp_fen)\n",
    "        s_n_sequence_short_fen.append(tmp_fen_short)\n",
    "    f.close()\n",
    "    return s_n_sequence_fen, s_n_sequence_short_fen"
   ]
  },
  {
   "cell_type": "code",
   "execution_count": 5,
   "metadata": {
    "cell_id": "00002-233a9f8f-ee9f-4f2d-9a40-0dc3af6c165a",
    "deepnote_cell_type": "code",
    "deepnote_output_heights": [
     611
    ],
    "deepnote_to_be_reexecuted": false,
    "execution_millis": 454,
    "execution_start": 1642957225119,
    "pycharm": {
     "name": "#%%\n"
    },
    "source_hash": "ec78bfa0"
   },
   "outputs": [
    {
     "ename": "FileNotFoundError",
     "evalue": "[Errno 2] No such file or directory: 'S_n_seq_12_01.json'",
     "output_type": "error",
     "traceback": [
      "\u001b[1;31m---------------------------------------------------------------------------\u001b[0m",
      "\u001b[1;31mFileNotFoundError\u001b[0m                         Traceback (most recent call last)",
      "\u001b[1;32m~\\AppData\\Local\\Temp/ipykernel_29836/646587695.py\u001b[0m in \u001b[0;36m<module>\u001b[1;34m\u001b[0m\n\u001b[1;32m----> 1\u001b[1;33m \u001b[0mS_N_Sequence_fen\u001b[0m\u001b[1;33m,\u001b[0m \u001b[0mS_N_Sequence_fen_short\u001b[0m \u001b[1;33m=\u001b[0m \u001b[0mload_s_n_sequence\u001b[0m\u001b[1;33m(\u001b[0m\u001b[1;34m\"S_n_seq_12_01.json\"\u001b[0m\u001b[1;33m)\u001b[0m\u001b[1;33m\u001b[0m\u001b[1;33m\u001b[0m\u001b[0m\n\u001b[0m",
      "\u001b[1;32m~\\AppData\\Local\\Temp/ipykernel_29836/3631893758.py\u001b[0m in \u001b[0;36mload_s_n_sequence\u001b[1;34m(filepath)\u001b[0m\n\u001b[0;32m      2\u001b[0m     \u001b[0ms_n_sequence_fen\u001b[0m \u001b[1;33m=\u001b[0m \u001b[1;33m[\u001b[0m\u001b[1;33m]\u001b[0m\u001b[1;33m\u001b[0m\u001b[1;33m\u001b[0m\u001b[0m\n\u001b[0;32m      3\u001b[0m     \u001b[0ms_n_sequence_short_fen\u001b[0m \u001b[1;33m=\u001b[0m \u001b[1;33m[\u001b[0m\u001b[1;33m]\u001b[0m\u001b[1;33m\u001b[0m\u001b[1;33m\u001b[0m\u001b[0m\n\u001b[1;32m----> 4\u001b[1;33m     \u001b[0mf\u001b[0m \u001b[1;33m=\u001b[0m \u001b[0mopen\u001b[0m\u001b[1;33m(\u001b[0m\u001b[0mfilepath\u001b[0m\u001b[1;33m,\u001b[0m \u001b[1;34m\"r\"\u001b[0m\u001b[1;33m)\u001b[0m\u001b[1;33m\u001b[0m\u001b[1;33m\u001b[0m\u001b[0m\n\u001b[0m\u001b[0;32m      5\u001b[0m     \u001b[0mtmp\u001b[0m \u001b[1;33m=\u001b[0m \u001b[0mjson\u001b[0m\u001b[1;33m.\u001b[0m\u001b[0mloads\u001b[0m\u001b[1;33m(\u001b[0m\u001b[0mf\u001b[0m\u001b[1;33m.\u001b[0m\u001b[0mread\u001b[0m\u001b[1;33m(\u001b[0m\u001b[1;33m)\u001b[0m\u001b[1;33m)\u001b[0m\u001b[1;33m\u001b[0m\u001b[1;33m\u001b[0m\u001b[0m\n\u001b[0;32m      6\u001b[0m     \u001b[1;32mfor\u001b[0m \u001b[0mitem\u001b[0m \u001b[1;32min\u001b[0m \u001b[0mtmp\u001b[0m\u001b[1;33m:\u001b[0m\u001b[1;33m\u001b[0m\u001b[1;33m\u001b[0m\u001b[0m\n",
      "\u001b[1;31mFileNotFoundError\u001b[0m: [Errno 2] No such file or directory: 'S_n_seq_12_01.json'"
     ]
    }
   ],
   "source": [
    "S_N_Sequence_fen, S_N_Sequence_fen_short = load_s_n_sequence(\"S_n_seq_12_01.json\")"
   ]
  },
  {
   "cell_type": "markdown",
   "metadata": {},
   "source": [
    "Die erste Funktion, die zur Überprüfung definiert wurde, lautet ``fen_in_lower_sequence``. Diese überprüft für eine mitgegebene ``fen``, ob diese in einer $S_n$ Menge liegt, für die gilt: ``n < sequence_index``. Die Funktion gibt hierfür einen booleschen Wert zurück."
   ]
  },
  {
   "cell_type": "code",
   "execution_count": null,
   "metadata": {
    "cell_id": "6681e547-10d4-4b7f-ac85-c01220411017",
    "deepnote_cell_type": "code",
    "deepnote_to_be_reexecuted": false,
    "execution_millis": 44,
    "execution_start": 1642957225580,
    "source_hash": "26c3f439",
    "tags": []
   },
   "outputs": [],
   "source": [
    "def fen_in_lower_sequence(fen, sequence_index, s_n_short):\n",
    "    for s in s_n_short[:sequence_index]:\n",
    "        if fen in s:\n",
    "            return True\n",
    "    return False"
   ]
  },
  {
   "cell_type": "markdown",
   "metadata": {},
   "source": [
    "Als ersten Schritt wird überprüft, dass keine der Schachbretter in eine zu niedrige $S_n$ Menge eingeordnet wurde. Dies wird mit der Funktion ``every_move_of_sequence_in_lower`` umgesetzt. Hierfür erhält sie eine ``sequence_index``, die überprüft werden soll. Für jede Spielsiuation wird folgendes überprüft:\n",
    "\n",
    "$\\forall board \\in S_n : move \\in board.legal\\_moves \\implies board.push(move) \\in S_m, m<n$\n",
    "\n",
    "Als Ergebnis gibt die Funktion eine boolesche Variable zurück, die ``True`` zurückgibt, falls die Bedingung erfüllt ist, ansonsten ``False``."
   ]
  },
  {
   "cell_type": "code",
   "execution_count": null,
   "metadata": {
    "cell_id": "00003-8c8899e2-aac2-4fa3-a915-726462bd404c",
    "deepnote_cell_type": "code",
    "deepnote_to_be_reexecuted": false,
    "execution_millis": 0,
    "execution_start": 1642957225672,
    "source_hash": "e6680570"
   },
   "outputs": [],
   "source": [
    "def every_move_of_sequence_in_lower(sequence_index, s_n_fen, s_n_short):\n",
    "    print(\"Checking S_\" + str(sequence_index) + \"...\")\n",
    "    sequence_fen = s_n_fen[sequence_index]\n",
    "    for fen in sequence_fen:\n",
    "        cur_board = chess.Board(fen)\n",
    "        if not cur_board.turn:\n",
    "            for move in cur_board.legal_moves:\n",
    "                cur_board.push(move)\n",
    "                cur_short = get_board_and_turn(cur_board.fen())\n",
    "                if not fen_in_lower_sequence(cur_short, sequence_index, s_n_short):\n",
    "                    print(\"Fen: \" + cur_short + \" not in lower S\")\n",
    "                    return False\n",
    "                cur_board.pop()\n",
    "            return True\n",
    "        else:\n",
    "            in_lower = False\n",
    "            for move in cur_board.legal_moves:\n",
    "                cur_board.push(move)\n",
    "                cur_short = get_board_and_turn(cur_board.fen())\n",
    "                if fen_in_lower_sequence(cur_short, sequence_index, s_n_short):\n",
    "                    in_lower = True\n",
    "                cur_board.pop()\n",
    "            return in_lower\n"
   ]
  },
  {
   "cell_type": "code",
   "execution_count": null,
   "metadata": {
    "cell_id": "989260a7-adea-48a5-89e0-d42a9f8911ef",
    "deepnote_cell_type": "code",
    "deepnote_output_heights": [
     21.1875,
     21.1875
    ],
    "deepnote_to_be_reexecuted": false,
    "execution_millis": 38,
    "execution_start": 1642957225672,
    "source_hash": "5cfc8204",
    "tags": []
   },
   "outputs": [],
   "source": [
    "for i in range(len(S_N_Sequence_fen)):\n",
    "    every_move_of_sequence_in_lower(i, S_N_Sequence_fen, S_N_Sequence_fen_short)"
   ]
  },
  {
   "cell_type": "markdown",
   "metadata": {},
   "source": [
    "Für die Bestimmung der Züge, die für eine Spielsituation benötigt werden, bis es beendet ist, müssen jegliche Spielzüge durchgegangen werden. Zur Berechnung wurde dazu die Funktion ``find_fen_in_sequence`` definiert, die in einer mitgegeben Liste von gekürzten $S_n$ Mengen (``s_n_short``) den Mengenindex zurück gibt, in der die gekürzte ``fen`` gefunden wurde."
   ]
  },
  {
   "cell_type": "code",
   "execution_count": null,
   "metadata": {
    "cell_id": "b085eea1-bca9-46e8-aa10-087aa6d14f29",
    "deepnote_cell_type": "code",
    "deepnote_to_be_reexecuted": false,
    "execution_millis": 0,
    "execution_start": 1642957225707,
    "source_hash": "c97671c3",
    "tags": []
   },
   "outputs": [],
   "source": [
    "def find_fen_in_sequence(fen, s_n_short):\n",
    "    short = get_board_and_turn(fen)\n",
    "    for i in range(len(s_n_short)):\n",
    "        if short in s_n_short[i]:\n",
    "            return i"
   ]
  },
  {
   "cell_type": "markdown",
   "metadata": {},
   "source": [
    "Die Funktion ``find_move_count`` kann nun für folgende Überprüfung verwendet werden:\n",
    "\n",
    "$ \\forall board \\in S_n \\implies max(find\\_move\\_count(board)) = n $\n",
    "\n",
    "Hierbei berechnet ``find_move_count()`` jeden Ablauf einer Schach-Partie bis ein Schachmatt erzielt worden ist. Da aber die Spielsituation in die Menge $S_n$ zugeordnet wurde, muss auf jeden Fall eine dieser Zahlen den Wert n betragen, da ansonsten das Schachbrett der falschen $S_n$ Menge zugeordnet wurde.\n",
    "\n",
    "Die Implementierung der Funktion ``find_move_count`` erfolgt rekursiv. Die Funktion ruft sich nämlich solange selbst auf, bis ein Schachmatt erzielt worden ist. Für einen derartigen Aufruf wird die ``sequence_index``, in der sich die ``fen`` befindet, mitgegeben. Außerdem muss das ``move_set``, das auch als Rückgabewert fungiert, mitgegeben werden, da darin die Anzahl der Züge gespeichert werden, die zum Lösen jeglicher Spielabläufe benötigt werden. Der Parameter ``move_count`` resultiert ebenfalls durch die Rekursion, da in ihr die aktuelle Anzahl an ausgeführten Spielzügen gespeichert wird. Aufgrund des Aufrufs der Funktion ``find_fen_in_sequence`` wird zusätzlich noch die Liste der gekürzten $S_n$ Mengen benötigt (``s_n_short``). Die Funktion gibt letztendlich eine Menge an Spielzügen zurück, die für die unterschiedlichen Abläufe der Spielsituation benötigt wurden."
   ]
  },
  {
   "cell_type": "code",
   "execution_count": null,
   "metadata": {
    "cell_id": "0bb87d08-f8b2-415e-ba13-ce655d791235",
    "deepnote_cell_type": "code",
    "deepnote_to_be_reexecuted": false,
    "execution_millis": 0,
    "execution_start": 1642957225712,
    "source_hash": "f04dfefc",
    "tags": []
   },
   "outputs": [],
   "source": [
    "def find_move_count(sequence_index, fen, move_count, move_set, s_n_short):\n",
    "    cur_board = chess.Board(fen)\n",
    "    moves = cur_board.legal_moves\n",
    "    if moves.count() == 0 and sequence_index == 0:\n",
    "        move_set.add(move_count)\n",
    "        return move_set\n",
    "    if not cur_board.turn:\n",
    "        # print(\"Black:\")\n",
    "        for move in cur_board.legal_moves:\n",
    "            cur_board.push(move)\n",
    "            move_count += 1\n",
    "            cur_fen = cur_board.fen()\n",
    "            new_seq = find_fen_in_sequence(cur_fen, s_n_short)\n",
    "            # print(new_seq, \";\" , cur_fen)\n",
    "            move_set = find_move_count(new_seq, cur_fen, move_count, move_set, s_n_short)\n",
    "            move_count -= 1\n",
    "            cur_board.pop()\n",
    "    else: \n",
    "        # print(\"White:\")\n",
    "        for move in cur_board.legal_moves:\n",
    "            cur_board.push(move)\n",
    "            cur_fen = get_board_and_turn(cur_board.fen())\n",
    "            if fen_in_lower_sequence(cur_fen, sequence_index, s_n_short):\n",
    "                new_seq = find_fen_in_sequence(cur_fen, s_n_short)\n",
    "                move_count += 1\n",
    "                move_set = find_move_count(new_seq, cur_fen, move_count, move_set, s_n_short)\n",
    "                move_count -= 1\n",
    "            cur_board.pop()\n",
    "    return move_set"
   ]
  },
  {
   "cell_type": "code",
   "execution_count": null,
   "metadata": {
    "cell_id": "a27ca83a-011e-4c1b-8e98-9d20f2846bb1",
    "deepnote_cell_type": "code",
    "deepnote_output_heights": [
     21.1875,
     1
    ],
    "deepnote_to_be_reexecuted": false,
    "execution_millis": 67612,
    "execution_start": 1642957225714,
    "source_hash": "64ecf584",
    "tags": []
   },
   "outputs": [],
   "source": [
    "find_move_count(20, \"8/8/8/3K4/8/5R2/2k5/8 b - - 0 1\", 0, set(), S_N_Sequence_fen_short)"
   ]
  },
  {
   "cell_type": "markdown",
   "metadata": {
    "cell_id": "238dd697-3c31-4183-b6ab-fa9914cc01d4",
    "deepnote_cell_type": "code",
    "deepnote_to_be_reexecuted": false,
    "execution_millis": 1,
    "execution_start": 1642957293320,
    "source_hash": "a37241de",
    "tags": []
   },
   "source": [
    "Zur Überprüfung, dass nun kein Board der falschen $S_n$ Menge zugeordnet wurde, wurde die Funktion ``check_boards_in_correct_sequence`` definiert. Diese überprüft für einen ``sequence_index`` in einer mitgegebenen Liste von $S_n$ Mengen (``s_n_fen``), ob die Spielsituationen der Menge an dem Index ``sequence_index`` auch maximal $n$ Züge bis zum Ende der Partie benötigen. Dies gelingt mit der Funktion ``find_move_count``, die zusätzlich noch die gekürzte Schreibweise der $S_n$ Mengen benötigt (``s_n_short``). Die Funktion gibt in Form einer Konsolenausgabe an, welche der FENs in eine falsche $S_n$ Menge zugeordnet worden sind."
   ]
  },
  {
   "cell_type": "code",
   "execution_count": null,
   "metadata": {
    "cell_id": "5013f573-98fb-4ab4-ac8e-26d26c43905b",
    "deepnote_cell_type": "code",
    "deepnote_output_heights": [
     21.1875
    ],
    "deepnote_to_be_reexecuted": false,
    "execution_millis": 12999,
    "execution_start": 1642957448545,
    "source_hash": "1d4560db",
    "tags": []
   },
   "outputs": [],
   "source": [
    "def check_boards_in_correct_sequence(sequence_index, s_n_fen, s_n_short):\n",
    "    invalid = 0\n",
    "    print(\"Comparing S_\" + str(sequence_index) + \"...\")\n",
    "    for fen in s_n_fen[sequence_index]:\n",
    "        move_set = find_move_count(sequence_index, fen, 0, set(), s_n_short)\n",
    "        if max(move_set) != sequence_index:\n",
    "            invalid += 1\n",
    "            print(fen)\n",
    "    print(\"Invalid boards: \" + str(invalid))"
   ]
  },
  {
   "cell_type": "code",
   "execution_count": null,
   "metadata": {},
   "outputs": [],
   "source": [
    "check_boards_in_correct_sequence(4, S_N_Sequence_fen, S_N_Sequence_fen_short)"
   ]
  },
  {
   "cell_type": "code",
   "execution_count": null,
   "metadata": {},
   "outputs": [],
   "source": []
  }
 ],
 "metadata": {
  "deepnote": {},
  "deepnote_execution_queue": [],
  "deepnote_notebook_id": "c0d8ccfa-ab76-4e6a-a6ac-5e86ac83d6bd",
  "kernelspec": {
   "display_name": "Python 3 (ipykernel)",
   "language": "python",
   "name": "python3"
  },
  "language_info": {
   "codemirror_mode": {
    "name": "ipython",
    "version": 3
   },
   "file_extension": ".py",
   "mimetype": "text/x-python",
   "name": "python",
   "nbconvert_exporter": "python",
   "pygments_lexer": "ipython3",
   "version": "3.10.2"
  }
 },
 "nbformat": 4,
 "nbformat_minor": 1
}
