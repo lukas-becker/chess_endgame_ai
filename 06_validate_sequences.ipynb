{
 "cells": [
  {
   "cell_type": "code",
   "execution_count": null,
   "metadata": {},
   "outputs": [],
   "source": [
    "from IPython.core.display import HTML\n",
    "with open('style.html', 'r') as file:\n",
    "     css = file.read()\n",
    "HTML(css)"
   ]
  },
  {
   "cell_type": "code",
   "execution_count": null,
   "metadata": {},
   "outputs": [],
   "source": [
    "%run Util/00_imports.ipynb\n",
    "%run Util/01_functions.ipynb"
   ]
  },
  {
   "cell_type": "markdown",
   "metadata": {
    "cell_id": "15fcf482-70e1-4eb2-95b8-c84b474a336d",
    "deepnote_cell_type": "markdown",
    "pycharm": {
     "name": "#%% md\n"
    }
   },
   "source": [
    "# Überprüfen der $S_n$ Mengen\n",
    "\n",
    "Bei der Bestimmung der $S_n$ Mengen wurde die Retrograde Analyse verwendet.\n",
    "Um sicherzustellen, dass die Bretter die bspw. in $S_{10}$ zu finden sind, auch wirklich in <=10 Zügen beendet werden, wurden in diesem Notebook Funktionen definiert, die diesen Aspekt überprüfen. Hierfür werden zuerst die berechneten $S_n$ Mengen aus der Datei geladen."
   ]
  },
  {
   "cell_type": "code",
   "execution_count": null,
   "metadata": {
    "cell_id": "00002-233a9f8f-ee9f-4f2d-9a40-0dc3af6c165a",
    "deepnote_cell_type": "code",
    "deepnote_output_heights": [
     611
    ],
    "deepnote_to_be_reexecuted": false,
    "execution_millis": 454,
    "execution_start": 1642957225119,
    "pycharm": {
     "name": "#%%\n"
    },
    "source_hash": "ec78bfa0"
   },
   "outputs": [],
   "source": [
    "S_N_Sequence_fen, S_N_Sequence_fen_short = load_s_n_fens(\"S_n_seq_rook\")"
   ]
  },
  {
   "cell_type": "markdown",
   "metadata": {},
   "source": [
    "Die erste Funktion, die zur Überprüfung definiert wurde, lautet ``fen_in_lower_sequence``. Diese überprüft für eine mitgegebene ``fen``, ob diese in einer $S_n$ Menge liegt, für die gilt: \n",
    "\n",
    "$n < sequence\\_index$. \n",
    "\n",
    "Die Funktion gibt hierfür einen booleschen Wert zurück."
   ]
  },
  {
   "cell_type": "code",
   "execution_count": null,
   "metadata": {
    "cell_id": "6681e547-10d4-4b7f-ac85-c01220411017",
    "deepnote_cell_type": "code",
    "deepnote_to_be_reexecuted": false,
    "execution_millis": 44,
    "execution_start": 1642957225580,
    "source_hash": "26c3f439",
    "tags": []
   },
   "outputs": [],
   "source": [
    "def fen_in_lower_sequence(fen, sequence_index, s_n_short):\n",
    "    for s in s_n_short[:sequence_index]:\n",
    "        if fen in s:\n",
    "            return True\n",
    "    return False"
   ]
  },
  {
   "cell_type": "markdown",
   "metadata": {},
   "source": [
    "Als ersten Schritt wird überprüft, dass keine der Schachbretter in eine zu niedrige $S_n$ Menge eingeordnet wurde. Dies wird mit der Funktion ``every_move_of_sequence_in_lower`` umgesetzt. Hierfür erhält sie eine ``sequence_index``, die überprüft werden soll. Für jede Spielsituation wird folgendes überprüft:\n",
    "\n",
    "$$\\forall board \\in S_n : move \\in board.legal\\_moves \\implies board.push(move) \\in S_m, m<n$$\n",
    "\n",
    "Als Ergebnis gibt die Funktion eine boolesche Variable zurück, die ``True`` zurückgibt, falls die Bedingung erfüllt ist, ansonsten ``False``."
   ]
  },
  {
   "cell_type": "code",
   "execution_count": null,
   "metadata": {
    "cell_id": "00003-8c8899e2-aac2-4fa3-a915-726462bd404c",
    "deepnote_cell_type": "code",
    "deepnote_to_be_reexecuted": false,
    "execution_millis": 0,
    "execution_start": 1642957225672,
    "source_hash": "e6680570"
   },
   "outputs": [],
   "source": [
    "def every_move_of_sequence_in_lower(sequence_index, s_n_fen, s_n_short):\n",
    "    print(\"Checking S_\" + str(sequence_index) + \"...\")\n",
    "    sequence_fen = s_n_fen[sequence_index]\n",
    "    for fen in sequence_fen:\n",
    "        cur_board = chess.Board(fen)\n",
    "        if not cur_board.turn:\n",
    "            for move in cur_board.legal_moves:\n",
    "                cur_board.push(move)\n",
    "                cur_short = get_board_and_turn(cur_board.fen())\n",
    "                if not fen_in_lower_sequence(cur_short, sequence_index, s_n_short):\n",
    "                    print(\"Fen: \" + cur_short + \" not in lower S\")\n",
    "                    return False\n",
    "                cur_board.pop()\n",
    "            return True\n",
    "        else:\n",
    "            in_lower = False\n",
    "            for move in cur_board.legal_moves:\n",
    "                cur_board.push(move)\n",
    "                cur_short = get_board_and_turn(cur_board.fen())\n",
    "                if fen_in_lower_sequence(cur_short, sequence_index, s_n_short):\n",
    "                    in_lower = True\n",
    "                cur_board.pop()\n",
    "            return in_lower\n"
   ]
  },
  {
   "cell_type": "code",
   "execution_count": null,
   "metadata": {
    "cell_id": "989260a7-adea-48a5-89e0-d42a9f8911ef",
    "deepnote_cell_type": "code",
    "deepnote_output_heights": [
     21.1875,
     21.1875
    ],
    "deepnote_to_be_reexecuted": false,
    "execution_millis": 38,
    "execution_start": 1642957225672,
    "source_hash": "5cfc8204",
    "tags": []
   },
   "outputs": [],
   "source": [
    "for i in range(len(S_N_Sequence_fen)):\n",
    "    every_move_of_sequence_in_lower(i, S_N_Sequence_fen, S_N_Sequence_fen_short)"
   ]
  },
  {
   "cell_type": "markdown",
   "metadata": {},
   "source": [
    "Die Funktion ``find_move_count`` kann für folgende Überprüfung verwendet werden:\n",
    "\n",
    "$ \\forall board \\in S_n \\implies max(find\\_move\\_count(board)) = n $\n",
    "\n",
    "Hierbei berechnet ``find_move_count()`` jeden Ablauf einer Schach-Partie bis ein Schachmatt erzielt worden ist. Da aber die Spielsituation in die Menge $S_n$ zugeordnet wurde, muss auf jeden Fall eine dieser Zahlen den Wert n betragen, da ansonsten das Schachbrett der falschen $S_n$ Menge zugeordnet wurde.\n",
    "\n",
    "Die Implementierung der Funktion ``find_move_count`` erfolgt rekursiv. Die Funktion ruft sich nämlich solange selbst auf, bis ein Schachmatt erzielt worden ist. Für einen derartigen Aufruf wird die ``sequence_index``, in der sich die ``fen`` befindet, mitgegeben. Außerdem muss das ``move_set``, das auch als Rückgabewert fungiert, mitgegeben werden, da darin die Anzahl der Züge gespeichert werden, die zum Lösen jeglicher Spielabläufe benötigt werden. Der Parameter ``move_count`` resultiert ebenfalls durch die Rekursion, da in ihr die aktuelle Anzahl an ausgeführten Spielzügen gespeichert wird. Aufgrund des Aufrufs der Funktion ``find_situation_in_sequence`` wird zusätzlich noch die Liste der gekürzten $S_n$ Mengen beigefügt (``s_n_short``). Die Funktion gibt letztendlich eine Menge an Spielzügen zurück, die für die unterschiedlichen Abläufe der Spielsituation benötigt wurden."
   ]
  },
  {
   "cell_type": "code",
   "execution_count": null,
   "metadata": {
    "cell_id": "0bb87d08-f8b2-415e-ba13-ce655d791235",
    "deepnote_cell_type": "code",
    "deepnote_to_be_reexecuted": false,
    "execution_millis": 0,
    "execution_start": 1642957225712,
    "source_hash": "f04dfefc",
    "tags": []
   },
   "outputs": [],
   "source": [
    "def find_move_count(sequence_index, fen, move_count, move_set, s_n_short):\n",
    "    cur_board = chess.Board(fen)\n",
    "    moves = cur_board.legal_moves\n",
    "    if moves.count() == 0 and sequence_index == 0:\n",
    "        move_set.add(move_count)\n",
    "        return move_set\n",
    "    if not cur_board.turn:\n",
    "        # print(\"Black:\")\n",
    "        for move in cur_board.legal_moves:\n",
    "            cur_board.push(move)\n",
    "            move_count += 1\n",
    "            cur_fen = cur_board.fen()\n",
    "            new_seq = find_situation_in_sequence(cur_fen, s_n_short)\n",
    "            # print(new_seq, \";\" , cur_fen)\n",
    "            move_set = find_move_count(new_seq, cur_fen, move_count, move_set, s_n_short)\n",
    "            move_count -= 1\n",
    "            cur_board.pop()\n",
    "    else: \n",
    "        # print(\"White:\")\n",
    "        for move in cur_board.legal_moves:\n",
    "            cur_board.push(move)\n",
    "            cur_fen = get_board_and_turn(cur_board.fen())\n",
    "            if fen_in_lower_sequence(cur_fen, sequence_index, s_n_short):\n",
    "                new_seq = find_situation_in_sequence(cur_fen, s_n_short)\n",
    "                move_count += 1\n",
    "                move_set = find_move_count(new_seq, cur_fen, move_count, move_set, s_n_short)\n",
    "                move_count -= 1\n",
    "            cur_board.pop()\n",
    "    return move_set"
   ]
  },
  {
   "cell_type": "code",
   "execution_count": null,
   "metadata": {
    "cell_id": "a27ca83a-011e-4c1b-8e98-9d20f2846bb1",
    "deepnote_cell_type": "code",
    "deepnote_output_heights": [
     21.1875,
     1
    ],
    "deepnote_to_be_reexecuted": false,
    "execution_millis": 67612,
    "execution_start": 1642957225714,
    "source_hash": "64ecf584",
    "tags": []
   },
   "outputs": [],
   "source": [
    "find_move_count(20, \"8/8/8/3K4/8/5R2/2k5/8 b - - 0 1\", 0, set(), S_N_Sequence_fen_short)"
   ]
  },
  {
   "cell_type": "markdown",
   "metadata": {
    "cell_id": "238dd697-3c31-4183-b6ab-fa9914cc01d4",
    "deepnote_cell_type": "code",
    "deepnote_to_be_reexecuted": false,
    "execution_millis": 1,
    "execution_start": 1642957293320,
    "source_hash": "a37241de",
    "tags": []
   },
   "source": [
    "Zur Überprüfung, dass nun kein Board der falschen $S_n$ Menge zugeordnet wurde, wurde die Funktion ``check_boards_in_correct_sequence`` definiert. Diese überprüft für einen ``sequence_index`` in einer mitgegebenen Liste von $S_n$ Mengen (``s_n_fen``), ob die Spielsituationen der Menge an dem Index ``sequence_index`` auch maximal $n$ Züge bis zum Ende der Partie benötigen. Dies gelingt mit der Funktion ``find_move_count``, die zusätzlich noch die gekürzte Schreibweise der $S_n$ Mengen benötigt (``s_n_short``). Die Funktion gibt in Form einer Konsolenausgabe an, welche der FENs in eine falsche $S_n$ Menge zugeordnet worden sind."
   ]
  },
  {
   "cell_type": "code",
   "execution_count": null,
   "metadata": {
    "cell_id": "5013f573-98fb-4ab4-ac8e-26d26c43905b",
    "deepnote_cell_type": "code",
    "deepnote_output_heights": [
     21.1875
    ],
    "deepnote_to_be_reexecuted": false,
    "execution_millis": 12999,
    "execution_start": 1642957448545,
    "source_hash": "1d4560db",
    "tags": []
   },
   "outputs": [],
   "source": [
    "def check_boards_in_correct_sequence(sequence_index, s_n_fen, s_n_short):\n",
    "    invalid = 0\n",
    "    print(\"Comparing S_\" + str(sequence_index) + \"...\")\n",
    "    for fen in s_n_fen[sequence_index]:\n",
    "        move_set = find_move_count(sequence_index, fen, 0, set(), s_n_short)\n",
    "        if max(move_set) != sequence_index:\n",
    "            invalid += 1\n",
    "            print(fen)\n",
    "    print(\"Invalid boards: \" + str(invalid))"
   ]
  },
  {
   "cell_type": "code",
   "execution_count": null,
   "metadata": {},
   "outputs": [],
   "source": [
    "check_boards_in_correct_sequence(4, S_N_Sequence_fen, S_N_Sequence_fen_short)"
   ]
  },
  {
   "cell_type": "markdown",
   "source": [
    "Zusätzlich zum rechnerischen überprüfen der Ergebnisse kann eine andere Methode zum verifizieren verwendet werden. \n",
    "Schach-Endspieldatenbanken sind keine neue Erfindung und wurden bereits von anderen Forschern entwickelt.\n",
    "Ein langanhaltendes Projekt, welches gegenwärtig Datenbanken für Situationen mit bis zu 7 Figuren auf dem Spielfeld anbietet ist [Syzygy](https://syzygy-tables.info/).\n",
    "Das Projekt hält zwei Datentypen für alle Spielsituationen for:\n",
    "WDL Daten und DTZ Daten.\n",
    "\n",
    "WDL steht für Win / Draw / Loss und gibt dem Nutzer eine Information über den Wert einer Spielsituation. \n",
    "Eine Anfrage an die Datenbank mit einer Situation wird mit einem der folgenden Werte beantwortet: -2, -1, 0, 1, 2.\n",
    "Positive Werte implizieren, dass bei perfektem Spiel der aktuelle Spieler gewinnnt, negative Werte bedeuten, dass der aktuelle Spieler verliert.\n",
    "Die 0 bedeutet, dass das Spiel (wenn beide Seiten perfekt spielen) in einem Unentschieden endet.\n",
    "Eine Zwei ist ein sicherer Sieg / Verlust, während eine Eins in einem Gewinn oder unentschieden mittels der 50-Zug Regel enden kann.\n",
    "\n",
    "Die interessantere der Dateien ist die DTZ-Datei.\n",
    "DTZ steht für Distance to Zero. Die DTZ Tabelle enthält Werte von -100 bis 100. \n",
    "Positiv, Negativ und Null kann genau wie WDL interpretiert werden.\n",
    "Die Zahlen von -100 bis -1 und 1 bis 100 geben die Anzahl der Halbzüge bis zu einem Gewinn (oder Reset der 50-Züge Regel) an.\n",
    "Stetiges verringern einer positiven DTZ führt also zu einem Gewinn.\n",
    "\n",
    "Die DTZ-Zahl einer Spielsituation kann mit dem $n$ verglichen werden, in welcher Menge $S_n$, diese Situation in der `.chessAI` eingeordnet wurde.\n",
    "Stimmen diese Zahlen überein, war die Berechnung korrekt.\n",
    "\n",
    "*Hinweis: Je nach Ausführung der Syzygy-Tabellen werden halbe oder ganze Züge gespeichert, es muss daher beim Vergleich eine Toleranz von einem $n$ akzeptiert werden.*    \n",
    "\n",
    "Die Funktion `compare_with_syzygy()` führt diesen Vergleich durch und gibt die Anzahl falsch eingeordneter Situationen zurück. "
   ],
   "metadata": {
    "collapsed": false,
    "pycharm": {
     "name": "#%% md\n"
    }
   }
  },
  {
   "cell_type": "code",
   "execution_count": null,
   "outputs": [],
   "source": [
    "def compare_with_syzygy(syzygy, s_n_sequence):\n",
    "    count = 0\n",
    "    \n",
    "    for n in range(len(s_n_sequence)):\n",
    "        for fen in s_n_sequence[n]:\n",
    "            chess_board = chess.Board(fen)\n",
    "            if n != abs(syzygy.probe_dtz(chess_board)) != n + 1:\n",
    "                count += 1\n",
    "    print(f\"Syzygy believes {count} Situations are wrongly placed in the sequence.\")\n",
    "    return count"
   ],
   "metadata": {
    "collapsed": false,
    "pycharm": {
     "name": "#%%\n"
    }
   }
  },
  {
   "cell_type": "markdown",
   "source": [
    "Die Syzygy-Dateien müssen sich entweder im Ordner `./syzygy` befinden oder der Pfad angepasst werden."
   ],
   "metadata": {
    "collapsed": false,
    "pycharm": {
     "name": "#%% md\n"
    }
   }
  },
  {
   "cell_type": "code",
   "execution_count": null,
   "outputs": [],
   "source": [
    "SYZYGY = chess.syzygy.Tablebase()\n",
    "SYZYGY.add_directory(\"./syzygy\")\n",
    "compare_with_syzygy(SYZYGY, S_N_Sequence_fen)\n"
   ],
   "metadata": {
    "collapsed": false,
    "pycharm": {
     "name": "#%%\n"
    }
   }
  }
 ],
 "metadata": {
  "deepnote": {},
  "deepnote_execution_queue": [],
  "deepnote_notebook_id": "c0d8ccfa-ab76-4e6a-a6ac-5e86ac83d6bd",
  "kernelspec": {
   "display_name": "Python 3 (ipykernel)",
   "language": "python",
   "name": "python3"
  },
  "language_info": {
   "codemirror_mode": {
    "name": "ipython",
    "version": 3
   },
   "file_extension": ".py",
   "mimetype": "text/x-python",
   "name": "python",
   "nbconvert_exporter": "python",
   "pygments_lexer": "ipython3",
   "version": "3.10.2"
  }
 },
 "nbformat": 4,
 "nbformat_minor": 1
}