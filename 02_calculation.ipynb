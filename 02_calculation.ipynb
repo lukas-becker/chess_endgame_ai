{
 "cells": [
  {
   "cell_type": "code",
   "execution_count": null,
   "metadata": {
    "pycharm": {
     "name": "#%%\n"
    }
   },
   "outputs": [],
   "source": [
    "from IPython.core.display import HTML\n",
    "with open('style.html', 'r') as file:\n",
    "     css = file.read()\n",
    "HTML(css)"
   ]
  },
  {
   "cell_type": "code",
   "execution_count": null,
   "metadata": {},
   "outputs": [],
   "source": [
    "%run Util/00_imports.ipynb\n",
    "%run Util/01_functions.ipynb"
   ]
  },
  {
   "cell_type": "markdown",
   "metadata": {
    "cell_id": "00000-9fea07bb-15d0-4062-8157-9f13e890a25b",
    "deepnote_cell_type": "markdown",
    "pycharm": {
     "name": "#%% md\n"
    }
   },
   "source": [
    "# Berechnung der Endspieldatenbank\n",
    "\n",
    "Wie in TODO: Kapitel bereits erklärt ist ein Schachspiel gewonnen, wenn die gegnerische Figur mattgesetzt wurde. \n",
    "\n",
    "Bei einer geringen Anzahl an Figuren $P$ im Spielzustand lassen sich alle möglichen Positionen berechnen.\n",
    "Aus diesen kann eine Strategie entwickelt werden, den Gegner zu schlagen.\n",
    "\n",
    "Folgend werden folgende Definitionen verwendet:\n",
    "* $board.pieces$: Liste der Figuren, welche in einem Zustand vorhanden sind.\n",
    "* $validBoards$: Alle Zustände des Schachspiels, die gegen keine Regeln verstoßen.\n",
    "* $wonBoards$: Alle Zustände des Schachspiels, in denen ein Spieler gewonnen hat.\n",
    "* $previousStates(b)$: Alle Zustände, aus denen durch Ausführen eines einzelnen Zuges der Zustand $b$ erreicht werden kann.\n",
    "\n",
    "Seien alle möglichen (validen) Kombinationen von Positionen der Figuren $P$ die Menge $S$.  \n",
    "Für $S$ gilt:  \n",
    "$$\n",
    "board \\in S \\implies \\forall p \\in P : p \\in board.pieces \\\\\n",
    "\\land \\\\\n",
    "board \\in S \\implies board \\in validBoards\n",
    "$$\n",
    "\n",
    "Aus der Menge $S$ lassen sich Zustände auswählen, welche $n$ Züge vom Sieg entfernt sind. \n",
    "Diese Zustände lassen sich in $S_n$ zusammenfassen. Ist das Spiel gewonnen, verbleiben 0 Züge bis zum Sieg.  \n",
    "Für alle diese Zustände, in denen ein Spieler mattgesetzt ist, gilt:  \n",
    "$$board \\in S_0 \\implies board \\in wonBoards \\land board \\in S$$  \n",
    "Aus dieser Definition können induktiv die verbleibenden $S_n$ hergeleitet werden:  \n",
    "$$board \\in S_{n+1} \\iff board \\in S \\land \\exists b \\in S_n: board \\in previousStates(b)$$ \n",
    "\n",
    "Für die Berechnungen in diesem Notebook gilt da für den schwarzen Spieler immer nur der König auf dem Feld steht weiter Folgendes:\n",
    "* $board.turn$: Der Spieler, welcher am Zug ist\n",
    "\n",
    "$$\n",
    "n \\equiv 0 \\mod 2 \\implies \\forall b \\in S_n : b.turn = schwarz \\\\\n",
    "\\land \\\\\n",
    "n \\equiv 1 \\mod 2 \\implies \\forall b \\in S_n : b.turn = weiß \\\\\n",
    "$$\n",
    "\n",
    "Dieses Notebook wird zur Berechnung der $S_n$ Mengen verwendet. Diese werden benötigt, um letztendlich ein Schach-Endspiel lösen zu können. "
   ]
  },
  {
   "cell_type": "markdown",
   "source": [
    "## Ein Hinweis zu Spiegelungen\n",
    "In diesem Notebook werden Spiegelungen der Situationen verwendet. Die technische Umsetzung \n",
    "dieser Spiegelungen werden im Verlauf des Dokuments erklärt, an dieser Stelle soll lediglich\n",
    "eine Einführung in die Theorie hinter dem Spiegeln von Situationen erklärt werden.\n",
    "\n",
    "Durch die zuvor erklärten Bewegungsmuster der Figuren sind Schachbretter in vielen Fällen symmetrisch.\n",
    "\n",
    "Eine Position mit dem Turm in \"a8\", der Dame in \"g6\" und dem gegnerischen König in \"h8\" ist genauso verloren wie \n",
    "dieselbe Position nur mit dem Turm in \"a1\", der Dame in \"g3\" und dem König in \"h1\".\n",
    "Dies wäre eine Spiegelung entlang der horizontalen zwischen den Zeilen 4 und 5.\n",
    "Weiter sind auch Spiegelungen entlang der vertikalen (Zwischen Reihe e und f), den Diagonalen und Rotationen \n",
    "(jeweils um 90°, 180° und 270°) möglich.\n",
    "\n",
    "Durch das simple Spiegeln der Spielsituationen, können aus einer validen Spielsituation bis zu sieben weitere ohne\n",
    "großen Rechenaufwand erstellen. Aus diesem Grund werden in diesem Dokument bei jeder Berechnung neuer Situationen diese\n",
    "gespiegelt und die Spiegelungen ebenfalls überprüft und abgespeichert. \n",
    "\n",
    "Spiegelungen entlang der Diagonalen erfordern eine Überprüfung, wo sich diagonal bewegende Figuren (Dame, Läufer, Springer) auf dem Spielfeld befinden.\n",
    "Da diese Überprüfung den Geschwindigkeitsvorteil der Spiegelung negiert, werden sie nicht durchgeführt.\n",
    "\n",
    "Da Bauern sich nur in eine Richtung bewegen können, lassen sich nur Spielsituationen spiegeln, welche keine Bauern enthalten."
   ],
   "metadata": {
    "collapsed": false,
    "pycharm": {
     "name": "#%% md\n"
    }
   }
  },
  {
   "cell_type": "markdown",
   "source": [
    "## Ein Hinweis zur effizienten Ergebnisverwaltung\n",
    "Im Verlauf der Berechnung muss mehrfach überprüft werden, ob eine Situation bereits bekannt und einem $S_n$ zugeordnet ist.\n",
    "Da der Abgleich mit einer Liste in Python ineffizient ist, findet dieser Abgleich mit Mengen statt.\n",
    "Mengen werden in Python als Hash-Tabellen umgesetzt und haben damit eine Zeitkomplexität bei der Überprüfung, ob sie ein bestimmtes\n",
    "Element enthalten von $\\mathcal{O}(1)$.\n",
    "`board` Objekte der `chess` Library unterstützen jedoch nicht \n"
   ],
   "metadata": {
    "collapsed": false
   }
  },
  {
   "cell_type": "markdown",
   "metadata": {
    "pycharm": {
     "name": "#%% md\n"
    }
   },
   "source": [
    "## Funktionen zur Bestimmung aller gültigen Positionen\n",
    "\n",
    "Ein Schachbrett besteht aus insgesamt acht Spalten und Zeilen. Die Spalten werden durch Buchstaben gekennzeichnet, \n",
    "die Zeilen durch Zahlen. Aus der Kombination einer Spalte (z.B. a) und einer Zahl (z.B. 1) erhält man eine \n",
    "eindeutige Kennzeichnung für ein Feld (z.B. a1).  \n",
    "Die folgende Funktion kombiniert die Buchstaben a bis h mit den Zahlen 1 bis 8 zu Feldnamen und gibt diese zurück."
   ]
  },
  {
   "cell_type": "code",
   "execution_count": null,
   "metadata": {
    "pycharm": {
     "name": "#%%\n"
    }
   },
   "outputs": [],
   "source": [
    "def get_all_squares():\n",
    "    columns = {\n",
    "        1 : 'a',\n",
    "        2 : 'b',\n",
    "        3 : 'c',\n",
    "        4 : 'd',\n",
    "        5 : 'e',\n",
    "        6 : 'f',\n",
    "        7 : 'g',\n",
    "        8 : 'h'\n",
    "    }\n",
    "    \n",
    "    all_squares = []\n",
    "    for row in range(1,9):\n",
    "        for col_num in range(1,9):\n",
    "            column = columns[col_num]\n",
    "            all_squares.append(chess.parse_square(column + str(row)))\n",
    "            \n",
    "    return all_squares"
   ]
  },
  {
   "cell_type": "markdown",
   "metadata": {
    "pycharm": {
     "name": "#%% md\n"
    }
   },
   "source": [
    "Das Erstellen jeglicher Boards wird mit der Funktion ``place_piece_everywhere_on_every_board`` umgesetzt. \n",
    "Diese erhält folgende Parameter: \n",
    "\n",
    "* ``piece``: Die zu platzierende Figur als Objekt der chess-Library\n",
    "* ``list_of_boards``: Eine Liste mit Board-Objekten, auf welchen die Figur platziert werden soll\n",
    "\n",
    "Die Funktion betrachtet jede Situation in der `list_of_boards`. Das übergebene `piece` wird auf jeden freien \n",
    "Platz dieser Situation platziert. Jedes Mal, wenn eine Figur platziert wird, wird eine Kopie des Board-Objektes erstellt, \n",
    "die ``list_of_boards`` wird folglich nicht verändert.  \n",
    "Wenn der zweite König platziert wird, wird die Situation zusätzlich auf Validität überprüft.\n",
    "Wenn alle Figuren platziert wurden, werden nur Boards, in denen Schwarz matt ist, zurückgegeben. \n",
    "\n",
    "Um die Effizienz der Berechnung zu erhöhen werden die Schachbretter gespiegelt.\n",
    "Damit bei folgenden Berechnungen Situationen nicht einmal durch Spiegelung und einmal durch\n",
    "Bewegung von Figuren erreicht werden, werden die ungespiegelten Situationen in der Liste `uniques`\n",
    "gespeichert.\n",
    "\n",
    "Die Funktion gibt als Ergebnis eine Liste aller generierten Zustände als ``result_list``, \n",
    "die Menge der bereits verwendeten Situationen `used_boards` und alle ungespiegelten-Boards (vor Spiegelungen) `uniques` zurück."
   ]
  },
  {
   "cell_type": "code",
   "execution_count": null,
   "metadata": {
    "pycharm": {
     "name": "#%%\n"
    }
   },
   "outputs": [],
   "source": [
    "def place_figure_everywhere_on_every_board(piece, list_of_boards, piece_count, user_wants_pawn):\n",
    "    result_list = []\n",
    "    uniques = []\n",
    "    all_squares = get_all_squares()\n",
    "    used_boards = set()\n",
    "    \n",
    "    for board in list_of_boards:\n",
    "        squares_used = list(board.piece_map().keys())\n",
    "        for square in all_squares:\n",
    "            if square not in squares_used:\n",
    "                tmp_board = board.copy()\n",
    "                tmp_board.set_piece_at(square, piece)\n",
    "                \n",
    "                if len(squares_used) >= 1 and not tmp_board.is_valid(): \n",
    "                    # Don't process invalid boards further \n",
    "                    # than the second king\n",
    "                    continue\n",
    "                    \n",
    "                outcome = tmp_board.outcome()\n",
    "                if outcome is not None:\n",
    "                    rep = (tmp_board.turn, tmp_board.__str__())\n",
    "                    if outcome.winner is not None \\\n",
    "                            and tmp_board.is_valid() \\\n",
    "                            and rep not in used_boards:\n",
    "                        \n",
    "                        uniques.append(tmp_board)\n",
    "                        result_list.append(tmp_board)\n",
    "                        used_boards.add((tmp_board.turn,tmp_board.__str__()))\n",
    "                        if not user_wants_pawn:\n",
    "                            for swt in Swap_Type:\n",
    "                                mir_board = mirror(tmp_board, swt)\n",
    "                                if (mir_board.turn, mir_board.__str__()) not in used_boards:\n",
    "                                    result_list.append(mir_board)\n",
    "                                    used_boards.add((mir_board.turn,mir_board.__str__()))\n",
    "                        continue\n",
    "                        \n",
    "                if len(squares_used) + 1 < piece_count: #Board is valid, but needs more pieces\n",
    "                    result_list.append(tmp_board)\n",
    "    return result_list, used_boards, uniques"
   ]
  },
  {
   "cell_type": "markdown",
   "metadata": {
    "pycharm": {
     "name": "#%% md\n"
    }
   },
   "source": [
    "## Die Ursprungsmenge $S_0$ erstellen\n",
    "Als Basis der Berechnung dient die Liste $S_0$. Diese enthält alle möglichen Konstellationen der Spielfiguren auf dem\n",
    "Spielbrett, in denen Weiß Schwarz besiegt hat.\n",
    "Hierfür werden die Figuren mit der Funktion ``place_figure_everywhere_on_every_board`` auf allen \n",
    "Positionen platziert.   \n",
    "\n",
    "Die Funktion `setup_boards` automatisiert dies und gibt die Liste $S_0$, eine Menge der bereits bekannten Situationen \n",
    "`used_boards` und die Menge der ungespiegelten Situationen `uniques` zurück."
   ]
  },
  {
   "cell_type": "code",
   "execution_count": null,
   "metadata": {
    "pycharm": {
     "name": "#%%\n"
    }
   },
   "outputs": [],
   "source": [
    "def setup_boards(user_supplied_pieces, user_wants_pawn):\n",
    "    pieces_to_place = create_piece_list(user_supplied_pieces)\n",
    "    \n",
    "    empty_board = chess.Board().empty()\n",
    "    empty_board.turn = chess.BLACK\n",
    "    s_0 = [empty_board]\n",
    "    \n",
    "    piece_count = len(pieces_to_place)\n",
    "    for piece in pieces_to_place:\n",
    "        s_0, used_boards, uniques = place_figure_everywhere_on_every_board(piece, s_0, piece_count, user_wants_pawn)\n",
    "\n",
    "    print(str(len(s_0)) + \" Boards in S_0\")\n",
    "    return s_0, used_boards, uniques\n",
    "\n",
    "# A queen will automatically be replaced by a pawn\n",
    "def create_piece_list(user_supplied_pieces):\n",
    "    if chess.Piece.from_symbol(\"P\") in user_supplied_pieces:\n",
    "        user_supplied_pieces.remove(chess.Piece.from_symbol(\"P\"))\n",
    "        user_supplied_pieces.append(chess.Piece.from_symbol(\"Q\"))\n",
    "        \n",
    "    return [chess.Piece.from_symbol(\"K\"), chess.Piece.from_symbol(\"k\")] \\\n",
    "           + user_supplied_pieces"
   ]
  },
  {
   "cell_type": "markdown",
   "metadata": {
    "cell_id": "00017-71dbb18a-b442-4217-96bc-991bdbbe4099",
    "deepnote_cell_type": "markdown",
    "pycharm": {
     "name": "#%% md\n"
    }
   },
   "source": [
    "## Rückwärts neue Situationen bestimmen\n",
    "\n",
    "Der nächste Schritt besteht darin, sämtliche $S_{n}$ Mengen zu bestimmen. Hierzu wird eine bereits bestimmte $S_n$\n",
    "Menge genommen und alle Situationen berechnet, die durch Durchführen eines Zugs zu einer Situation aus $S_n$ werden.\n",
    "\n",
    "Besonders muss bei dieser Art der Bestimmung auf die Einordnung der Situationen, bei welchen Schwarz am Zug ist geachtet werden.\n",
    "Da beim späteren Verwenden der KI die Züge des schwarzen Spielers nicht beeinflusst werden können, muss jeder mögliche\n",
    "Zug einer Situation in $S_{n+1}$ mit $n \\% 2 = 0$ zu einer Situation aus $S_n$ führen. Diese Überprüfung wird mit der Funktion\n",
    "`check_black_determinism` durchgeführt.\n",
    "Da die Züge von Weiß gezielt gewählt werden können, ist diese Überprüfung bei $n \\% 2 = 1$ nicht nötig. \n",
    "\n",
    "Außerdem müssen bei der Durchführung des Algorithmus weitere Aspekte berücksichtigt werden:\n",
    "* Da Bauern nur in eine Richtung laufen können, müssen die rückwärts Schritte eines Bauern manuell durchgeführt werden. Bauern werden daher im ersten Schritt ignoriert.\n",
    "* Bauern, die die oberste Reihe des Spielfeldes erreichen, können zu einer anderen Figur eingetauscht werden. Dieser Schritt wird nicht durch die Pseudo-Legal-Moves abgedeckt, daher wird, sollte sich eine Königin in der obersten Reihe befinden, diese manuell durch einen Bauern ersetzt.\n",
    " \n",
    "Die Umsetzung erfolgt durch die Funktion ``previous_states``. \n",
    "Alle Funktionsparameter können aus der nachfolgenden Liste entnommen werden:\n",
    "\n",
    "* ``used_boards``: Die Menge aller bereits einem $n$ zugeordneten Situationen, welche nicht nocheinmal beachtet werden sollen.\n",
    "* ``iteration_count``: $m$ des $S_m$, welches gerade berechnet wird.\n",
    "* ``user_wants_pawn``: Ein Flag, welches steuert, ob spezifische Bewegungen des Bauern berechnet werden sollen.\n",
    "* ``uniques``: Die Situationen, welche als Urpsrung der Spiegelung verwendet werden.\n",
    "\n",
    "Der Algorithmus zur Bestimmung der Menge $S_{n+1}$ wird im folgenden Abschnitt beschrieben.\n",
    "\n",
    "* Über die Uniques (ungespiegelte Situationen) iterieren.\n",
    "  * Den Spieler, welcher am Zug ist, wechseln (Da, um im aktuellen Zustand anzukommen, der andere Spieler einen Zug\n",
    "  gemacht hat)\n",
    "  * Alle Positionen mit Bauern berechnen \n",
    "  * Alle pseudo-legalen Bewegungen mittels der funktion `regular_moves` durchführen. \n",
    "    Hierbei werden keine Züge der Bauern beachtet. Die technische Umsetzung wird in der Dokumentation der Funktion erklärt.\n",
    "  * Wenn die Bewegungen von Bauern abgebildet werden müssen:\n",
    "    * Bauern manuell einen Schritt \"nach hinten\" setzen.\n",
    "    * Überprüfen, ob eine Dame in der obersten Reihe durch einen Bauern in der vorletzten ersetzt werden muss.\n",
    "    * Die technische Umsetzung dieser Aktionen wird in der Dokumentation der Funktionen `pawn_moves` und \n",
    "      `replace_queen_with_pawn` erklärt.\n",
    "  * Den Spieler, welcher ursprünglich am Zug war, wiederherstellen.\n",
    "  * Wenn $(n+1) \\% 2 = 0$ überprüfen, ob alle zuvor berechneten Boards mit allen Moves in $S_n$ enden. \n",
    "\n",
    "Außerdem müssen bei der Durchführung des Algorithmus weitere Aspekte berücksichtigt werden:\n",
    "\n",
    "* Da Bauern nur in eine Richtung laufen können, müssen die rückwärts Schritte eines Bauern manuell durchgeführt werden. Bauern werden daher im ersten Schritt ignoriert.\n",
    "* Bauern, die die oberste Reihe des Spielfeldes erreichen, können zu einer anderen Figur eingetauscht werden. Dieser Schritt wird nicht durch die Pseudo-Legal-Moves abgedeckt, daher wird, sollte sich eine Königin in der obersten Reihe befinden, diese manuell durch einen Bauern ersetzt.\n",
    "\n",
    "Die Funktion bestimmt die Menge $S_{n+1}$, die Menge der bekannten Boards als Tupel `used_boards` und die ungespiegelten Origniale \n",
    "aus $n+1$ `s_n1_uniques`"
   ]
  },
  {
   "cell_type": "code",
   "execution_count": null,
   "metadata": {
    "cell_id": "00018-6f30589f-4a50-41e1-aabe-3338bcbc70b9",
    "deepnote_cell_type": "code",
    "deepnote_to_be_reexecuted": false,
    "execution_millis": 1,
    "execution_start": 1638464319562,
    "pycharm": {
     "name": "#%%\n"
    },
    "source_hash": "d6bac79e"
   },
   "outputs": [],
   "source": [
    "def previous_states(used_boards, iteration_count, user_wants_pawn, uniques):\n",
    "    #variables\n",
    "    s_n1 = []\n",
    "    s_n1_tuples = set()\n",
    "    s_n1_uniques = []\n",
    "    s_n1_uniques_tuples = set()\n",
    "\n",
    "    for i in range(len(uniques)):\n",
    "        status = \"Calculating S\" + str(iteration_count) + \" - Board \" + str(i+1) + \" of \" + str(len(uniques)) + \" from S\" + str(iteration_count-1)\n",
    "        clear_output(wait=True)\n",
    "        print(status)\n",
    "\n",
    "        # Copy current board and invert the player\n",
    "        chess_board = uniques[i].copy()\n",
    "        chess_board.turn = chess_board.turn ^ True\n",
    "\n",
    "        # Find all Pawns\n",
    "        pawn_positions = find_pawns(chess_board)\n",
    "        \n",
    "        # try moves and check if they lead to new boards\n",
    "        tmp_n1, tmp_n1_tuples, tmp_uniques, tmp_uniques_tuples = regular_moves(chess_board, used_boards, s_n1_tuples, pawn_positions, user_wants_pawn)\n",
    "        s_n1 += tmp_n1\n",
    "        s_n1_tuples |= tmp_n1_tuples\n",
    "        s_n1_uniques += tmp_uniques\n",
    "        s_n1_uniques_tuples |= tmp_uniques_tuples\n",
    "\n",
    "        if user_wants_pawn and chess_board.turn:\n",
    "            # Push all pawns one row back and check if this leads to new boards\n",
    "            if len(pawn_positions) > 0:\n",
    "                tmp_list, tmp_set = pawn_moves(chess_board, used_boards, s_n1_tuples)\n",
    "                s_n1 += tmp_list\n",
    "                s_n1_tuples |= tmp_set\n",
    "                s_n1_uniques += tmp_list\n",
    "                s_n1_uniques_tuples |= tmp_set\n",
    "            \n",
    "            # Exchange Queens with Pawns\n",
    "            queen_positions = check_top_row_for_queen(chess_board)\n",
    "            if queen_positions:\n",
    "                tmp_list, tmp_set = replace_queen_with_pawn(chess_board, used_boards, s_n1_tuples, queen_positions)\n",
    "                s_n1 += tmp_list\n",
    "                s_n1_tuples |= tmp_set\n",
    "                s_n1_uniques += tmp_list\n",
    "                s_n1_uniques_tuples |= tmp_set\n",
    "            \n",
    "\n",
    "        # Restore the original state of the board\n",
    "        chess_board.turn = chess_board.turn ^ True\n",
    "\n",
    "    # Only needed for Black-Moves\n",
    "    if iteration_count % 2 == 0:\n",
    "        clear_output(wait=True)\n",
    "        print(\"Calculating S\" + str(iteration_count) + \" - Checking Black Moves for determinism\")\n",
    "        s_n1, s_n1_tuples, s_n1_uniques = check_black_determinism(s_n1, used_boards, s_n1_uniques_tuples)\n",
    "\n",
    "    clear_output(wait=True)\n",
    "    print(\"Done with S\" + str(iteration_count))\n",
    "    return s_n1, used_boards | s_n1_tuples, s_n1_uniques"
   ]
  },
  {
   "cell_type": "markdown",
   "metadata": {
    "pycharm": {
     "name": "#%% md\n"
    }
   },
   "source": [
    "## Hilfsfunktionen für die Berechnung\n",
    "\n",
    "Die folgenden Funktionen werden zur Berechnung der previous_states verwendet. \n",
    "Sie übernehmen dabei diverse Aufgaben wie das Durchführen von regulären Moves oder das \"manuelle\" Versetzen von Figuren, um eine andere Situation zu generieren. \n"
   ]
  },
  {
   "cell_type": "markdown",
   "metadata": {
    "pycharm": {
     "name": "#%% md\n"
    }
   },
   "source": [
    "Die Funktion ``regular_moves`` führt für eine übergebene Situation `chess_board` alle `pseudo_legal_moves` durch, um mögliche vorhergehende Situationen zu berechnen.  \n",
    "Pseudo-Legale-Züge sind Züge, welche die Figuren auf eine Art bewegen, die der Figur gestattet ist, aber unter Umständen in eine nicht legale Spielsituation führt. \n",
    "Diese werden verwendet, da nur weil der Move von $S_{n+1}$ zu $S_n$ legal ist, der Zug umgekehrt dies nicht sein muss.\n",
    "\n",
    "Ein simples Beispiel:\n",
    "Situation $S_n$: Ein König befindet sich ein Feld von einem Schach entfernt.  \n",
    "Diese Position kann erreicht worden sein, da der König von einer Position in $S_{n+1}$ sich aus diesem Schach herausbewegt hat.\n",
    "Der Zug \"in das Schach\", wäre jedoch nicht legal, weshalb ein Move aus der Liste der `pseudo_legal_moves` zur Berechnung genommen werden muss.\n",
    "Dies funktioniert nicht für Bauern, da ein Schritt nach \"hinten\" keine Bewegung ist, welche der Figur zusteht.\n",
    "\n",
    "Die Funktion überprüft jeden Zug, welcher in der Situation möglich ist. Wenn die errechnete Situation valide und noch nicht verwendet (überprüft durch Einträge in `used_boards` und `s_n1_tuples`) ist, wird sie den Rückgabe-Variablen angefügt.\n",
    "Wenn sich keine Bauern auf dem Spielfeld befinden (`user_wants_pawn`), dann können die Situationen gespiegelt werden, um weiteren Rechenaufwand zu reduzieren.\n",
    "Diese Spiegelung findet durch eine Iteration über die später definierten Swap_Types statt. Anschließend wird mit der Funktion `mirror` die Spiegelung bestimmt,\n",
    "die Validität der Situation überprüft und ebenfalls an das Ergebnis angefügt."
   ]
  },
  {
   "cell_type": "code",
   "execution_count": null,
   "metadata": {
    "pycharm": {
     "name": "#%%\n"
    }
   },
   "outputs": [],
   "source": [
    "def regular_moves(chess_board, used_boards, s_n1_tuples, pawn_positions, user_wants_pawn):\n",
    "    new_boards = []\n",
    "    new_tuples = set()\n",
    "    new_uniques = []\n",
    "    new_uniques_tuples = set()\n",
    "    for pLMove in chess_board.pseudo_legal_moves:\n",
    "        if chess.square_name(pLMove.from_square) not in pawn_positions:\n",
    "            chess_board.push(pLMove)\n",
    "            chess_board.turn = chess_board.turn ^ True\n",
    "            if not chess_board.is_valid():\n",
    "                chess_board.turn = chess_board.turn ^ True\n",
    "                chess_board.pop()\n",
    "                continue\n",
    "            # If the new board is found in S, it can be reached in one step\n",
    "            tuple_rep = (chess_board.turn,chess_board.__str__())\n",
    "            if tuple_rep not in used_boards and tuple_rep not in s_n1_tuples and tuple_rep not in new_tuples:\n",
    "                new_uniques.append(chess_board.copy())\n",
    "                new_uniques_tuples.add(tuple_rep)\n",
    "                \n",
    "                new_boards.append(chess_board.copy())\n",
    "                new_tuples.add(tuple_rep)\n",
    "                \n",
    "                if not user_wants_pawn:\n",
    "                    for swtype in Swap_Type:\n",
    "                        mirrored_board = mirror(chess_board, swtype)\n",
    "                        tuple_rep_mir = (mirrored_board.turn,mirrored_board.__str__())\n",
    "                        if tuple_rep_mir not in used_boards and tuple_rep_mir not in s_n1_tuples and tuple_rep_mir not in new_tuples:\n",
    "                            new_boards.append(mirrored_board.copy())\n",
    "                            new_tuples.add(tuple_rep_mir)\n",
    "            chess_board.turn = chess_board.turn ^ True\n",
    "            chess_board.pop()\n",
    "    \n",
    "    return new_boards, new_tuples, new_uniques, new_uniques_tuples"
   ]
  },
  {
   "cell_type": "markdown",
   "metadata": {},
   "source": [
    "\n",
    "Wie zuvor bereits erwähnt, ermöglicht die quadratische Natur des Schachbrettes es das Spielbrett zu spiegeln / rotieren und weitere Situationen zu erhalten. \n",
    "\n",
    "Zunächst wird ein Enum erstellt, welches es ermöglicht über die Arten der Figurenvertauschungen zu iterieren.\n",
    "`Swap_Type` übersetzt zu einem String, welcher im nächsten Schritt als Key für ein Dictionary verwendet wird."
   ]
  },
  {
   "cell_type": "code",
   "execution_count": null,
   "metadata": {
    "pycharm": {
     "name": "#%%\n"
    }
   },
   "outputs": [],
   "source": [
    "class Swap_Type(Enum):\n",
    "    VERTICAL = \"vertical\"\n",
    "    HORIZONTAL = \"horizontal\"\n",
    "    ROTATE_RIGHT = \"rotate_right\"\n",
    "    ROTATE_180 = \"rotate_180\"\n",
    "    ROTATE_LEFT = \"rotate_left\"\n",
    "\n",
    "Für den Tausch wird über jede Figur iteriert und diese an die entsprechende Position gesetzt.\n",
    "Das Ergebnis wird als `Board-Objekt` zurückgegeben."
   ],
   "metadata": {
    "collapsed": false,
    "pycharm": {
     "name": "#%% md\n"
    }
   }
  },
  {
   "cell_type": "code",
   "execution_count": null,
   "outputs": [],
   "source": [
    "def mirror(board, sw_type : Swap_Type):\n",
    "    swaps = {\n",
    "        \"vertical\" : {x:x^56 for x in range(64)},\n",
    "        \"horizontal\" : {x:x^7 for x in range(64)},\n",
    "        \"rotate_right\" : {x:(((x >> 3) | (x << 3)) & 63) ^ 56 for x in range(64)},\n",
    "        \"rotate_180\" : {x : x ^ 63 for x in range(64)},\n",
    "        \"rotate_left\" : {x : (((x >> 3) | (x << 3)) & 63) ^ 7 for x in range(64)}\n",
    "    }\n",
    "    \n",
    "    swapped_board = chess.Board()\n",
    "    swapped_board.clear()\n",
    "    swapped_board.turn = board.turn\n",
    "\n",
    "    for position, piece in board.piece_map().items():\n",
    "        swapped_board.set_piece_at(swaps[sw_type.value][position], piece)\n",
    "    \n",
    "    return swapped_board"
   ],
   "metadata": {
    "collapsed": false,
    "pycharm": {
     "name": "#%%\n"
    }
   }
  },
  {
   "cell_type": "markdown",
   "metadata": {},
   "source": [
    "Befinden sich Bauern in der Situation, müssen diese manuell platziert werden, da für diese auch in den `pseudo_legal_moves` nur die Züge $S_n \\rightarrow S_{(n+1)}$ aufgeführt sind.\n",
    "Die Funktion `pawn_moves` erfüllt diese Anforderung.\n",
    "Ähnlich wie die Funktion `regular_moves` werden für eine Situation `chess_b oard` alle Situationen berechnet, welche durch Bewegung eines Bauerns zu `chess_board` werden. \n",
    "Hierfür wird über alle Bauern auf dem Spielfeld iteriert, diese Entfernt und auf das Feld mit dem Index $n-9$ wieder gesetzt. Da eine Reihe\n",
    "8 Felder hat, hat das Feld in derselben Linie aber vorherigen Reihe den Index 9 geringer. \n",
    "Auch diese Situationen werden sowohl auf Validität als auch bisheriges Vorkommen überprüft, bevor sie den Rückgabevariablen angefügt werden.\n",
    "Das übergebene Objekt wird zu seinem Ursprungszustand zurückgeführt."
   ]
  },
  {
   "cell_type": "code",
   "execution_count": null,
   "metadata": {
    "pycharm": {
     "name": "#%%\n"
    }
   },
   "outputs": [],
   "source": [
    "def pawn_moves(chess_board, used_boards, s_n1_tuples):\n",
    "    new_boards = []\n",
    "    new_tuples = set()\n",
    "    chess_board = chess_board.copy()\n",
    "    chess_board.turn = chess_board.turn ^ True\n",
    "    \n",
    "    for pawn in chess_board.pieces(chess.PAWN, True):\n",
    "        if chess_board.piece_at(pawn - 8) is None:\n",
    "            chess_board.remove_piece_at(pawn)\n",
    "            chess_board.set_piece_at(pawn - 8, chess.Piece.from_symbol('P'))\n",
    "            if chess_board.is_valid():\n",
    "                tuple_rep = (chess_board.turn,chess_board.__str__())\n",
    "                if tuple_rep not in used_boards and tuple_rep not in s_n1_tuples:\n",
    "                    new_boards.append(chess_board.copy())\n",
    "                    new_tuples.add(tuple_rep)\n",
    "            \n",
    "    return new_boards, new_tuples\n"
   ]
  },
  {
   "cell_type": "markdown",
   "metadata": {
    "pycharm": {
     "name": "#%% md\n"
    }
   },
   "source": [
    "Ein Problem, das bei der Verwendung der Rückwärts-Analyse auftritt, liegt in dem Szenario: \n",
    "\"König und Bauer gegen König\". Dieses Szenario beinhaltet die Umwandlung des Bauerns, welcher die oberste Zeile erreicht hat, in eine andere Figur (Dame, Turm, Läufer, Springer). \n",
    "Da die Dame die stärkste Figur im Spiel ist, wird immer dieser Tausch gewählt.\n",
    "Hat der Nutzer bei den weißen Figuren, welche sich in der Situation sollen, einen Bauern angegeben, wurde dieser beim Errechnen der Menge $S_0$ durch eine Königin ersetzt.\n",
    "\n",
    "Für die Berechnung der idealen Züge muss der Bauer wieder in die Situationen, welche sich in den $S_n$ Mengen befinden, eingeführt werden.\n",
    "Der Tausch eines Bauerns zu einer Dame kann nicht durch die `pseudo_legal_moves` umgekehrt werden.\n",
    "\n",
    "Die Funktion ``check_top_row_for_queen`` überprüft, ob ein solcher Tausch möglich ist. Sie erhält als Parameter eine Situation `board`, für welches die Felder der obersten Zeile überprüft und jedes zurückgegeben wird, auf dem sich eine Dame befindet."
   ]
  },
  {
   "cell_type": "code",
   "execution_count": null,
   "metadata": {
    "pycharm": {
     "name": "#%%\n"
    }
   },
   "outputs": [],
   "source": [
    "def check_top_row_for_queen(board):\n",
    "    return_list = []\n",
    "    for i in range(56, 64):\n",
    "        if board.piece_type_at(i) == chess.QUEEN:\n",
    "            return_list.append(i)\n",
    "\n",
    "    if len(return_list) > 0:\n",
    "        return return_list\n",
    "    else:\n",
    "        return False"
   ]
  },
  {
   "cell_type": "markdown",
   "metadata": {
    "pycharm": {
     "name": "#%% md\n"
    }
   },
   "source": [
    "Wurden mittels der vorhergehenden Funktion Damen in der obersten Zeile gefunden, ersetzt `replace_queen_with_pawn` alle diese Positionen (`toprow_queen_positions`) durch einen \n",
    "Bauern in der vorletzten Zeile.\n",
    "Es wird über die übergebenen Positionen von Damen in der obersten Reihe iteriert, diese entfernt und in der Reihe davor (Feld Index um 9 verringert) ein Bauer platziert.\n",
    "Wenn die Situation ein valides Schachbrett darstellt, wird sie an die Rückgabeliste angefügt."
   ]
  },
  {
   "cell_type": "code",
   "execution_count": null,
   "metadata": {
    "pycharm": {
     "name": "#%%\n"
    }
   },
   "outputs": [],
   "source": [
    "def replace_queen_with_pawn(chess_board, used_boards, s_n1_tuples, toprow_queen_positions):\n",
    "    new_boards = []\n",
    "    new_tuples = set()\n",
    "    \n",
    "    for square in toprow_queen_positions:\n",
    "        chess_board.remove_piece_at(square)\n",
    "        chess_board.set_piece_at(square - 8, chess.Piece.from_symbol('P'))\n",
    "        if chess_board.is_valid():\n",
    "            tuple_rep = (chess_board.turn,chess_board.__str__())\n",
    "            if tuple_rep not in used_boards and tuple_rep not in s_n1_tuples:\n",
    "                new_boards.append(chess_board.copy())\n",
    "                new_tuples.add(tuple_rep)\n",
    "        chess_board.remove_piece_at(square - 8)\n",
    "        chess_board.set_piece_at(square, chess.Piece.from_symbol('Q'))\n",
    "    return new_boards, new_tuples"
   ]
  },
  {
   "cell_type": "markdown",
   "metadata": {},
   "source": [
    "Da Bauern mittels der Funktion `pawn_moves` gesondert behandelt werden müssen, muss in `regular_moves` verhindert werden, dass Züge mit Bauern durchgeführt werden.\n",
    "Hierfür wird die Information benötigt, auf welchen Feldern sich ein Bauer befindet. Diese Information wird durch die Funktion `find_pawns` generiert.  "
   ]
  },
  {
   "cell_type": "code",
   "execution_count": null,
   "metadata": {
    "pycharm": {
     "name": "#%%\n"
    }
   },
   "outputs": [],
   "source": [
    "def find_pawns(chess_board):\n",
    "    result = []\n",
    "    for pawn in chess_board.pieces(chess.PAWN, True):\n",
    "            result.append(chess.square_name(pawn))\n",
    "    return result"
   ]
  },
  {
   "cell_type": "markdown",
   "metadata": {},
   "source": [
    "Wenn mittels der Ki eine Spielsituation ausgewertet wird, kann für jeden Zug des weißen Spielers ein Zug ausgewählt werden.\n",
    "Für die Situationen, bei denen Schwarz am Zug ist, muss die Ki alle möglichen Züge auswerten können.\n",
    "Da jedoch für einen spezifischen Zug, welcher eine Situation von $S_n$ in $S_{n-1}$ führt, dasselbe nicht für alle Züge, welche in der Situation möglich sind gilt,\n",
    "müssen die Situationen, bei welchen Schwarz am Zug ist, besonders gefiltert werden.\n",
    "Für jede Situation $b$ aus einem $S_n$ mit $n \\% 2 = 0$ muss folglich gelten:  \n",
    "$$\n",
    "b \\in S_n \\implies \\forall m \\in valid\\_moves(b): b.push(m) \\in S_{m} \\land m < n\n",
    "$$\n",
    "Wobei `valid_moves` die Liste der legalen Züge für eine Situation ist und `b.push(m)` die Situation beschreibt, welche durch Ausführen des Zuges $m$ entsteht. \n",
    "\n",
    "Die Funktion `check_black_determinism` stellt dies sicher.\n",
    "Für jede Situation in `s_n1` wird jeder mögliche legale Zug ausgeführt und überprüft, ob die entstehende Situation in einer Menge\n",
    "$S_m$ mit $m <= n$ auffindbar ist. Nur wenn alle Züge diese Bedingung erfüllen, wird das Objekt in die Liste `s_n1_tmp`, welche in der\n",
    "funktion `previous_states` die eigentliche Liste `s_n1` ersetzen wird, auf genommen."
   ]
  },
  {
   "cell_type": "code",
   "execution_count": null,
   "metadata": {
    "pycharm": {
     "name": "#%%\n"
    }
   },
   "outputs": [],
   "source": [
    "def check_black_determinism(s_n1, used_boards, uniques_n1_tuples):\n",
    "    s_n1_tmp = []\n",
    "    s_n1_tuples_tmp = set()\n",
    "    uniques_n1_tmp = []\n",
    "    \n",
    "    \n",
    "    for chess_board in s_n1:\n",
    "        include = True\n",
    "        if not chess_board.turn:\n",
    "            for move in chess_board.legal_moves:\n",
    "                chess_board.push(move)\n",
    "                tuple_rep = (chess_board.turn,chess_board.__str__())\n",
    "                chess_board.pop()\n",
    "                if tuple_rep not in used_boards:\n",
    "                    include = False\n",
    "        if include:\n",
    "            s_n1_tmp.append(chess_board)\n",
    "            s_n1_tuples_tmp.add((chess_board.turn,chess_board.__str__()))\n",
    "            tuple_rep = (chess_board.turn,chess_board.__str__())\n",
    "            if tuple_rep in uniques_n1_tuples:    \n",
    "                uniques_n1_tmp.append(chess_board)\n",
    "    \n",
    "    return s_n1_tmp, s_n1_tuples_tmp, uniques_n1_tmp"
   ]
  },
  {
   "cell_type": "markdown",
   "metadata": {
    "pycharm": {
     "name": "#%% md\n"
    }
   },
   "source": [
    "## Export in Datei\n",
    "Nach erfolgreicher Berechnung einer $S_n$ Menge werden die FENs der Situationen in eine temporäre `.preConvert` Datei geschrieben.\n",
    "Wurden alle $S_n$ berechnet, wird die temporäre Datei in eine `.chessAI` Datei für die Verwendung in der Ki und eine `.chessTest` für das \n",
    "Testen der Ergebnisse konvertiert."
   ]
  },
  {
   "cell_type": "markdown",
   "metadata": {},
   "source": [
    "Damit keine Werte einer vergangenen Berechnung in der temporären Datei vorliegen, muss zuerst eine leere `.preConvert` Datei erstellt werden. "
   ]
  },
  {
   "cell_type": "code",
   "execution_count": null,
   "metadata": {
    "pycharm": {
     "name": "#%%\n"
    }
   },
   "outputs": [],
   "source": [
    "def create_empty_file(filename):\n",
    "    f = open(\"S_n_Results/\" + filename + \".preConvert\", \"w\")\n",
    "    f.write(\"\")\n",
    "    f.close()"
   ]
  },
  {
   "cell_type": "markdown",
   "metadata": {
    "pycharm": {
     "name": "#%% md\n"
    }
   },
   "source": [
    "Die Zwischenergebnisse werden stetig mittels der `append_to_file` Funktion an die zuvor erstellte `.preConvert` Datei angehängt.\n",
    "Jede Zeile entspricht hierbei einem $n$ aus den $S_n$ Mengen.\n",
    "Für die Zwischenergebnisse werden die FENs als JSON gespeichert."
   ]
  },
  {
   "cell_type": "code",
   "execution_count": null,
   "metadata": {
    "pycharm": {
     "name": "#%%\n"
    }
   },
   "outputs": [],
   "source": [
    "def append_to_file(s_n, filename):\n",
    "    s_n_ascii = []\n",
    "    for board in s_n:\n",
    "        s_n_ascii.append(board.fen())\n",
    "\n",
    "    f = open(\"S_n_Results/\" + filename + \".preConvert\", \"a\")\n",
    "    f.write(\"\\n\")\n",
    "    f.write(json.dumps(s_n_ascii))\n",
    "    f.close()"
   ]
  },
  {
   "cell_type": "markdown",
   "metadata": {
    "pycharm": {
     "name": "#%% md\n"
    }
   },
   "source": [
    "Nachdem die gesamte Sequenz aller $n$ berechnet wurde, muss die temporäre Datei in zwei Dateien zur Auswertung konvertiert werden.\n",
    "Die `.chessAI` Datei enthält Mengen von Tupeln.\n",
    "Die `.chessTest` Datei enthält die FENs, um in den Test-Szenarien wieder Board-Objekte erstellen zu können.\n",
    "\n",
    "Zuerst müssen die Informationen über die berechneten $S_n$ Mengen aus der `.preConvert` Datei gelesen werden. Die darin gespeicherten FENs werden in einer Liste gespeichert\n",
    "und zusätzlich zu Board-Objekten instanziiert. Die Objekte werden in die zuvor bereits verwendete Tupel-Darstellung gewandelt und in eine Menge eingefügt. \n",
    "\n",
    "Zum Speichern der Dateien wird aus Effizienzgründen das Modul Pickle verwendet, welches die Daten in Binärdateien speichert. \n",
    "Da die `.chessAI` Dateien gegebenenfalls an Nutzer der KI verteilt werden müssen, werden diese zusätzlich mit dem Modul `ZipFile` komprimiert. Die `.chessTest` Dateien werden\n",
    "nur zum Evaluieren der Ergebnisse verwendet und nicht an Nutzer verteilt. Damit sie schneller eingelesen werden können, werden sie nicht komprimiert.\n",
    "\n",
    " "
   ]
  },
  {
   "cell_type": "code",
   "execution_count": null,
   "metadata": {
    "pycharm": {
     "name": "#%%\n"
    }
   },
   "outputs": [],
   "source": [
    "def convert_file(filename):\n",
    "    s_n_seq_fens = []\n",
    "    s_n_seq_tuples = []\n",
    "    f = open(\"S_n_Results/\" + filename + \".preConvert\", \"r\")\n",
    "    lines = f.readlines()\n",
    "    first = True\n",
    "    for line in lines:\n",
    "        # First line is empty\n",
    "        if first:\n",
    "            first = False\n",
    "            continue\n",
    "\n",
    "        tmp_list = []\n",
    "        tmp_set = set()\n",
    "        tmp = json.loads(line)\n",
    "\n",
    "        for fen in tmp:\n",
    "            tmp_list.append(fen)\n",
    "            tmp_board = chess.Board(fen)\n",
    "            tmp_set.add((tmp_board.turn,tmp_board.__str__()))\n",
    "        s_n_seq_fens.append(tmp_list)\n",
    "        s_n_seq_tuples.append(tmp_set)\n",
    "    f.close()\n",
    "\n",
    "    f = open(\"S_n_Results/\" + filename + \".pickle\", \"wb\")\n",
    "    f.write(pickle.dumps(s_n_seq_tuples))\n",
    "    f.close()\n",
    "    \n",
    "    f = open(\"S_n_Results/\" + filename + \".chessTest\", \"wb\")\n",
    "    f.write(pickle.dumps(s_n_seq_fens))\n",
    "    f.close()\n",
    "    \n",
    "    with ZipFile(\"S_n_Results/\" + filename + '.chessAI', 'w', compression=ZIP_DEFLATED) as zipped:\n",
    "        zipped.write(\"S_n_Results/\" + filename + \".pickle\", filename+\".pickle\")\n",
    "    if os.path.exists(\"S_n_Results/\" + filename + \".chessAI\") and os.path.exists(\"S_n_Results/\" + filename + \".pickle\"):\n",
    "        os.remove(\"S_n_Results/\" + filename + \".pickle\") \n",
    "\n",
    "    if os.path.exists(\"S_n_Results/\" + filename + \".preConvert\"):\n",
    "        os.remove(\"S_n_Results/\" + filename + \".preConvert\")"
   ]
  },
  {
   "cell_type": "markdown",
   "metadata": {
    "cell_id": "00021-8548a15b-c683-4b4b-8b03-fa5cd07bfdd3",
    "deepnote_cell_type": "markdown",
    "pycharm": {
     "name": "#%% md\n"
    }
   },
   "source": [
    "Mit den zuvor definierten Funktionen ist es nun möglich, alle $S_n$ zu bestimmen. Hierfür wird die Funktion ``previous_states`` solange aufgerufen, bis keine Situationen\n",
    "für ein $n+1$ mehr gefunden werden und die Liste $S_{n+1}$ leer ist.\n",
    "\n",
    "Die Funktion `run` geht hierbei von einem `s_n`, welches zuvor bestimmt wurde, aus und durchläuft diesen Prozess in einer Schleife.\n",
    "Nach abgeschlossener Rechnung wird das Konvertieren der Datei gestartet."
   ]
  },
  {
   "cell_type": "code",
   "execution_count": null,
   "metadata": {
    "cell_id": "00022-1198b1a3-a0e9-4813-9774-182d1b5079c6",
    "deepnote_cell_type": "code",
    "deepnote_to_be_reexecuted": false,
    "execution_millis": 81020,
    "execution_start": 1638464396132,
    "pycharm": {
     "name": "#%%\n"
    },
    "source_hash": "5ee856a1"
   },
   "outputs": [],
   "source": [
    "def run(s_n, used_boards, n, user_wants_pawn, filename, uniques):\n",
    "    if n == 0:\n",
    "        append_to_file(s_n, filename)\n",
    "\n",
    "    while True:\n",
    "        n += 1\n",
    "        s_n, used_boards, uniques = previous_states(used_boards, n, user_wants_pawn, uniques)\n",
    "        print(\"S \" + str(n) + \": \" + str(len(s_n)))\n",
    "        if not s_n: #an empty list is false\n",
    "           break\n",
    "        append_to_file(s_n, filename)\n",
    "        del s_n\n",
    "\n",
    "    print(\"Done\")\n",
    "    print(str(n) + \" S-Lists calculated\")\n",
    "\n",
    "    convert_file(filename)\n",
    "\n",
    "    print(\"File converted\")"
   ]
  },
  {
   "cell_type": "markdown",
   "metadata": {
    "pycharm": {
     "name": "#%% md\n"
    }
   },
   "source": [
    "Die Funktion `run_from_start` berechnet $S_0$ und startet anschließend die Berechnung aller $S_n$"
   ]
  },
  {
   "cell_type": "code",
   "execution_count": null,
   "metadata": {
    "pycharm": {
     "name": "#%%\n"
    }
   },
   "outputs": [],
   "source": [
    "def run_from_start(user_supplied_pieces, filename):\n",
    "    user_wants_pawn = chess.Piece.from_symbol(\"P\") in user_supplied_pieces\n",
    "    \n",
    "    s_0, used_boards, uniques = setup_boards(user_supplied_pieces, user_wants_pawn)\n",
    "    print(len(used_boards))\n",
    "    print(len(uniques))\n",
    "    create_empty_file(filename)\n",
    "    run(s_0, used_boards, 0, user_wants_pawn, filename, uniques)"
   ]
  },
  {
   "cell_type": "markdown",
   "metadata": {},
   "source": [
    "Wurde die Berechnung abgebrochen (z.B. durch einen Neustart des Computers) kann die Funktion `resume_from_file` den Zustand, welcher in einer `.preConvert` Datei gespeichert wurde\n",
    "wiederherstellen, und die Berechnung beim nächsten $n$ fortsetzen.\n",
    "Hierfür werden alle bereits berechneten $n$ in Objekte instanziiert und die Tupel Repräsentationen als bereits verwendete Situationen (`used_boards`) gespeichert.\n",
    "Für das höchste $n$, werden die Objekte behalten und der `run` Funktion übergeben."
   ]
  },
  {
   "cell_type": "code",
   "execution_count": null,
   "metadata": {
    "pycharm": {
     "name": "#%%\n"
    }
   },
   "outputs": [],
   "source": [
    "def resume_from_file(filename):\n",
    "    used_boards = set()\n",
    "    s_n = []\n",
    "    count = -1\n",
    "\n",
    "    f = open(\"S_n_Results/\" + filename + \".preConvert\", \"r\")\n",
    "    lines = f.readlines()\n",
    "    first = True\n",
    "    for line in lines:\n",
    "        # First line is empty\n",
    "        if first:\n",
    "            first = False\n",
    "            continue\n",
    "\n",
    "        tmp_list = []\n",
    "        tmp_set = set()\n",
    "        tmp = json.loads(line)\n",
    "\n",
    "        for fen in tmp:\n",
    "            chess_board = chess.Board(fen)\n",
    "            tmp_list.append(chess_board)\n",
    "            tmp_set.add((chess_board.turn,chess_board.__str__()))\n",
    "        s_n = tmp_list\n",
    "        used_boards |= tmp_set\n",
    "        count += 1\n",
    "    f.close()\n",
    "    print(\"Starting at S\" + str(count) + \" (\" + str(len(s_n)) + \" Boards)\")\n",
    "    \n",
    "    # Adding a few Pawns to the result only slightly increases the file_size, and the value of user_wants_pawn is \\\n",
    "    # currently not stored\n",
    "    run(s_n, used_boards, count, True, filename, s_n)"
   ]
  },
  {
   "cell_type": "markdown",
   "metadata": {
    "pycharm": {
     "name": "#%% md\n"
    }
   },
   "source": [
    "## Konfigurations Variablen\n",
    "\n",
    "Für die Bestimmung der gewonnenen Spielbretter müssen nun die Spielfiguren angegeben werden, für die die Endspiel-Datenbank berechnet werden soll. Hierfür werden in der Liste ``pieces_to_place`` alle Figuren aufgeführt.\n",
    "Die Einträge der Liste werden als Tupel bestehend aus Figur und Farbe gespeichert.\n",
    "Bsp.: ``(chess.KING, chess.WHITE)``\n",
    "Die Reihenfolge oder Position der Figur ist für die Berechnung irrelevant.\n",
    "Diese wird erst im nächsten Schritt (der Auswertung) benötigt.\n",
    "\n",
    "Der ``Filename`` wird für das Speichern der Ergebnisse verwendet."
   ]
  },
  {
   "cell_type": "code",
   "execution_count": null,
   "metadata": {
    "pycharm": {
     "name": "#%%\n"
    }
   },
   "outputs": [],
   "source": [
    "WHITE_PIECES_TO_PLACE = [chess.Piece.from_symbol('P')]\n",
    "\n",
    "FILENAME = \"S_n_seq_pawn_15_03\""
   ]
  },
  {
   "cell_type": "markdown",
   "metadata": {},
   "source": [
    "## Start der Rechnung"
   ]
  },
  {
   "cell_type": "code",
   "execution_count": null,
   "metadata": {
    "pycharm": {
     "name": "#%%\n"
    }
   },
   "outputs": [],
   "source": [
    "%%time\n",
    "run_from_start(WHITE_PIECES_TO_PLACE, FILENAME)\n",
    "#resume_from_file(FILENAME)"
   ]
  }
 ],
 "metadata": {
  "deepnote": {},
  "deepnote_execution_queue": [],
  "deepnote_notebook_id": "a5659b7c-2299-4f56-8746-6a0bc95261a5",
  "kernelspec": {
   "display_name": "Python 3 (ipykernel)",
   "language": "python",
   "name": "python3"
  },
  "language_info": {
   "codemirror_mode": {
    "name": "ipython",
    "version": 3
   },
   "file_extension": ".py",
   "mimetype": "text/x-python",
   "name": "python",
   "nbconvert_exporter": "python",
   "pygments_lexer": "ipython3",
   "version": "3.10.2"
  }
 },
 "nbformat": 4,
 "nbformat_minor": 1
}