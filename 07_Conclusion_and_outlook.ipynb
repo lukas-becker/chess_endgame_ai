{
 "cells": [
  {
   "cell_type": "markdown",
   "source": [
    "# Fazit\n",
    "\n",
    "Zuletzt wird ein Fazit zu der entwickelten Schach-Endspieldatenbank gezogen werden.\n",
    "Hierzu wird sich erneut die Umsetzung anhand der Retrograde-Analyse näher betrachtet.\n",
    "Weiterhin werden auch nochmal einzelne Aspekte der Implementierung genauer analysiert, um in diesem Hinblick die Berechnung der Endspieldatenbank effizienter zu gestalten.\n",
    "\n",
    "## Implementierung anhand der Retrograde-Analyse\n",
    "\n",
    "Das Ergebnis der Studienarbeit hat gezeigt, dass man mithilfe der Retrograde Analyse eine Berechnung der Schachtabellen für Endspielsituationen umsetzen kann.\n",
    "Jedoch hat sich im Verlauf der Arbeit herausgestellt, dass diese Methode nur beschränkt für beliebige Situationen angewendet werden kann.\n",
    "Beispielhaft wurden in dieser Arbeit Endspieltabellen für folgende Szenarien berechnet:\n",
    "1. König und Dame vs. König.\n",
    "2. König und Turm vs. König.\n",
    "3. König und zwei Läufer vs. König.\n",
    "4. König, Springer und Läufer vs. König.\n",
    "5. König und Bauer vs. König.\n",
    "\n",
    "Diese Berechnungen fanden nicht anhand der beschriebenen Methodik in `README.md` statt, sondern wurden aus Effizienzgründen \"rückwärts\" berechnet.\n",
    "Unter dieser Rückwärts-Berechnung fiel vor allem die Erstellung der Menge $S%, da diese nicht zu Beginn erstellt wurde, sondern sie sich mit den fortlaufenden $S_n$-Mengen aufgebaut hat.\n",
    "Dementsprechend wurden nicht aus der Menge $S$ die Elemente für die $S_n$ gesucht, sondern basierend auf der Menge $S_n$ wurde die Menge $S_(n+1)$ generiert.\n",
    "Die neue Methodik führte zu folgenden Berechnungszeiten für die vorgegebenen Szenarien:\n",
    "1. 0s\n",
    "2. 1s\n",
    "3. 2s\n",
    "4. 3s\n",
    "5. 4s\n",
    "\n",
    "Diese Zeiten deuten schon an, dass die Retrograde Analyse für die Berechnung größerer Endspielszenarien ungeeignet ist, da sich dadurch der Berechnungsaufwand immens erhöhen würde.\n",
    "Ausnahmen können jedoch Szenarien sein bei denen man weiß, dass die Partie in X Zügen beendet sein wird, man aber nicht die Züge zum Beenden der Partie kennt.\n",
    "Außerdem gilt es zu beachten, dass die hier verwendete Methodik kein Schlagen der Figuren berücksichtigt.\n",
    "Dies würde aber auch den Rahmen der Arbeit übersteigen, da das Schlagen einer Figur zur Folge hat, dass kein Spieler mehr die Partie gewinnen kann.\n",
    "Dennoch liegt die Empfehlung bei komplexeren Szenarien auf die Retrograde Analyse zu verzichten und stattdessen andere Methoden, wie sie bspw. bei Stockfish verwendet werden, in Betracht zu ziehen."
   ],
   "metadata": {
    "collapsed": false,
    "pycharm": {
     "name": "#%% md\n"
    }
   },
   "outputs": []
  },
  {
   "cell_type": "markdown",
   "source": [
    "## Ausblick\n",
    "\n",
    "Die entwickelte Endspieldatenbank ist in der Lage vorgegebene Spielszenarien zu lösen.\n",
    "Dies kann einerseits durch das Spielen gegen die KI, andererseits durch den Vergleich mit anderen Endspieldatenbanken bestätigt werden.\n",
    "Eine Bewertung der Berechnung wurde bereits im vorhergehenden Kapitel vorgenommen.\n",
    "Nun sollen Möglichkeiten aufgeführt werden, inwiefern die Performance der Berechnung optimiert werden kann.\n",
    "\n",
    "Eine Möglichkeit liegt in der Verbesserung der Spiegelungen der Schachbretter.\n",
    "Im aktuellen Stand werden die Spiegelungen über die Generierung eines `chess.Board` abgewickelt und in dessen `chess.Board.piece_map()` die `chess.Piece`-Objekte neu gesetzt mit den gespiegelten Spielpositionen.\n",
    "Dabei stellt die Erstellung und Änderung des `chess.Board`-Objekts eine aufwendige Operation dar, die für viele Bereiche der Berechnung und Auswertung benötigt wird.\n",
    "Durch die Integer-Darstellungsweise ist bereits eine Alternative-Umsetzung der Spiegelungen gegeben.\n",
    "Bei genauerer Betrachtung des `g_swaps` Dictionary fällt auf, dass es sich beim Tauschen nur um die Zuordnung von neuen Spielpositionen handelt.\n",
    "Die aktuellen Positionen der Figuren werden aktuell in der Integer-Darstellung gespeichert.\n",
    "Aus diesem Grund liegt die Überlegung nahe, die Spiegelung direkt an der Integer-Darstellung durchzuführen, anstatt zuerst ein `chess.Board` zu erstellen und auf diesem die Spiegelungen durchzuführen.\n",
    "\n",
    "> TODO: Sollen Änderungen / Erweiterungen ebenfalls erwähnt werden? Denke bspw. an das Schlagen von Figuren in anderen Situationen.\n",
    "> TODO: Gibt es noch andere Verbesserungen?\n",
    "\n",
    "Abschließend ist zu sagen, dass eine Erweiterung und Verbesserung der Endspieldatenbank möglich sind, dies aber unter Abwägung der Vor- und Nachteile umgesetzt werden sollte."
   ],
   "metadata": {
    "collapsed": false,
    "pycharm": {
     "name": "#%% md\n"
    }
   }
  }
 ],
 "metadata": {
  "kernelspec": {
   "display_name": "Python 3",
   "language": "python",
   "name": "python3"
  },
  "language_info": {
   "codemirror_mode": {
    "name": "ipython",
    "version": 2
   },
   "file_extension": ".py",
   "mimetype": "text/x-python",
   "name": "python",
   "nbconvert_exporter": "python",
   "pygments_lexer": "ipython2",
   "version": "2.7.6"
  }
 },
 "nbformat": 4,
 "nbformat_minor": 0
}