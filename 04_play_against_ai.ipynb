{
 "cells": [
  {
   "cell_type": "code",
   "execution_count": null,
   "metadata": {
    "pycharm": {
     "name": "#%%\n"
    }
   },
   "outputs": [],
   "source": [
    "import chess\n",
    "from IPython.core.display import HTML, Javascript\n",
    "with open('style.html', 'r') as file:\n",
    "     css = file.read()\n",
    "HTML(css)"
   ]
  },
  {
   "cell_type": "code",
   "execution_count": null,
   "metadata": {
    "pycharm": {
     "name": "#%%\n"
    }
   },
   "outputs": [],
   "source": [
    "%run 11_imports.ipynb\n",
    "%run 12_integer_management.ipynb"
   ]
  },
  {
   "cell_type": "markdown",
   "metadata": {
    "pycharm": {
     "name": "#%% md\n"
    }
   },
   "source": [
    "# Spielen gegen die KI"
   ]
  },
  {
   "cell_type": "markdown",
   "metadata": {
    "pycharm": {
     "name": "#%% md\n"
    }
   },
   "source": [
    "## Vom Nutzer zu tätigende Einstellungen\n",
    "Zur Erstellung eines individuellen Spielfeldes werden Dictionaries verwendet. Diese verwenden jeweils als `key` die Figur,\n",
    "die auf dem Spielfeld platziert werden soll. Als `value` nutzen die Einträge jeweils eine Liste, \n",
    "die vom Nutzer mit den String-Bezeichnern der Felder gefüllt werden müssen, auf denen die jeweilige Figur steht.\n",
    "Diese Feldbezeichnungen folgen dem Format, welches in Notebook `01_chess_introduction.ipynb` erklärt wurde."
   ]
  },
  {
   "cell_type": "code",
   "execution_count": null,
   "metadata": {
    "pycharm": {
     "name": "#%%\n"
    }
   },
   "outputs": [],
   "source": [
    "g_white_positions = {chess.KING:['b4'],\n",
    "                     chess.QUEEN:[],\n",
    "                     chess.ROOK:[],\n",
    "                     chess.BISHOP:['a2', 'a3'],\n",
    "                     chess.KNIGHT:[],\n",
    "                     chess.PAWN:[]}\n",
    "\n",
    "g_black_positions = {chess.KING:['h8'],\n",
    "                     chess.QUEEN:[],\n",
    "                     chess.ROOK:[],\n",
    "                     chess.BISHOP:[],\n",
    "                     chess.KNIGHT:[],\n",
    "                     chess.PAWN:[]}\n",
    "\n",
    "g_user_wants_pawn = len(g_white_positions[chess.PAWN]) > 0"
   ]
  },
  {
   "cell_type": "markdown",
   "metadata": {
    "pycharm": {
     "name": "#%% md\n"
    }
   },
   "source": [
    "Weiter muss der Nutzer angeben, welche vorher berechnete Spielsituation er laden möchte.\n",
    "Hierfür muss der Dateiname in einer globalen Variable (ohne Dateiendung `.chessAI`) angegeben werden.\n",
    "Bei dieser Variablen handelt es sich um ``g_filename``.\n",
    "Die Datei muss im Ordner `S_n_Results` vorliegen."
   ]
  },
  {
   "cell_type": "code",
   "execution_count": null,
   "metadata": {
    "pycharm": {
     "name": "#%%\n"
    }
   },
   "outputs": [],
   "source": [
    "g_filename = \"two_bishop_03_06\""
   ]
  },
  {
   "cell_type": "markdown",
   "metadata": {
    "pycharm": {
     "name": "#%% md\n"
    }
   },
   "source": [
    "In dieser Datei wird unter anderem auch die `g_piece_list` gespeichert.\n",
    "Für ein erfolgreiches Spiel gegen die KI müssen die eingegebenen Felder des Nutzers mit der `g_piece_list` der Berechnung übereinstimmen.\n",
    "Dies gilt für die Anzahl der verwendeten Spielfiguren und der Art der Figuren.\n",
    "Für den Vergleich wurde zunächst die Funktion `get_pieces_entered()` definiert.\n",
    "Diese generiert eine Liste von `chess.Pieces` aus den Dictionaries `g_white_positions` und `g_black_positions`.\n",
    "Dabei werden nur die keys der Dictionaries berücksichtigt deren Liste Elemente enthalten."
   ]
  },
  {
   "cell_type": "code",
   "execution_count": null,
   "metadata": {
    "pycharm": {
     "name": "#%%\n"
    }
   },
   "outputs": [],
   "source": [
    "def get_pieces_entered():\n",
    "    user_entered_pieces = []\n",
    "    for key, value in g_white_positions.items():\n",
    "        if len(value) > 0:\n",
    "            for square in value:\n",
    "                user_entered_pieces.append(chess.Piece(key, chess.WHITE))\n",
    "    for key, value in g_black_positions.items():\n",
    "        if len(value) > 0:\n",
    "            for square in value:\n",
    "                user_entered_pieces.append(chess.Piece(key, chess.BLACK))\n",
    "    return user_entered_pieces"
   ]
  },
  {
   "cell_type": "markdown",
   "metadata": {
    "pycharm": {
     "name": "#%% md\n"
    }
   },
   "source": [
    "Der Vergleich findet mit der Funktion `check_piece_list()` statt.\n",
    "Mit der Rückgabe eines Booleschen Werts wird die Gleichheit der Listen dargestellt."
   ]
  },
  {
   "cell_type": "code",
   "execution_count": null,
   "metadata": {
    "pycharm": {
     "name": "#%%\n"
    }
   },
   "outputs": [],
   "source": [
    "def check_piece_list():\n",
    "    user_entered_pieces = get_pieces_entered()\n",
    "    try:\n",
    "        for element in g_piece_list:\n",
    "            user_entered_pieces.remove(element)\n",
    "        return len(user_entered_pieces) == 0\n",
    "    # More or different elements in g_piece_list\n",
    "    except ValueError:\n",
    "        return False"
   ]
  },
  {
   "cell_type": "markdown",
   "metadata": {
    "pycharm": {
     "name": "#%% md\n"
    }
   },
   "source": [
    "## Logik für die Interaktion mit der Spielsituation\n",
    "Im folgenden Abschnitt sollen einige Hilfsfunktionen erklärt werden, welche für die Interaktion zwischen dem Nutzer über ein Jupyter Notebook und \n",
    "der Spielsituation benötigt werden.  \n",
    "\n",
    "Die Funktion `get_occupied_cells()` übersetzt die zuvor erstellten und vom Nutzer veränderten `Position-Dictionaries` (`g_white_positions`, `g_black_positions`) in eine Liste, die alle ``values`` der Dictionaries, also alle besetzten Felder, enthält.\n",
    "Diese Liste wird benötigt, um zu überprüfen, ob die Eingaben des Nutzers korrekte Zellen sind. Sie stellt den Rückgabewert der Funktion dar."
   ]
  },
  {
   "cell_type": "code",
   "execution_count": null,
   "metadata": {
    "pycharm": {
     "name": "#%%\n"
    }
   },
   "outputs": [],
   "source": [
    "def get_occupied_cells():\n",
    "    cells = []\n",
    "    for values in g_white_positions.values():\n",
    "        for value in values:\n",
    "            cells.append(value)\n",
    "    for values in g_black_positions.values():\n",
    "        for value in values:\n",
    "            cells.append(value)\n",
    "    return cells"
   ]
  },
  {
   "cell_type": "markdown",
   "metadata": {
    "pycharm": {
     "name": "#%% md\n"
    }
   },
   "source": [
    "Mit dem Rückgabewert von der vorherigen Funktion übernimmt die Funktion `check_for_correct_cells()` die Überprüfung.\n",
    "Hierzu wird jeder Wert in den eingegebenen Feldern in den Dictionaries `g_white_positions` und `g_black_positions` auf Einhaltung\n",
    "eines regulären Ausdrucks, welcher auf eine Kombination aus Buchstabe und Zahl kontrolliert, überprüft.\n",
    "Der reguläre Ausdruck `[a-h][1-8]` beschreibt ein Symbol im Bereich a-h (`[a-h]`) sowie ein weiteres Symbol im Bereich 1-8 (`[1-8]`).\n",
    "Das Ergebnis wird in Form eines booleschen Werts zurückgegeben."
   ]
  },
  {
   "cell_type": "code",
   "execution_count": null,
   "metadata": {
    "pycharm": {
     "name": "#%%\n"
    }
   },
   "outputs": [],
   "source": [
    "def check_for_correct_cells():\n",
    "    cells = get_occupied_cells()\n",
    "    for cell in cells:\n",
    "        x = re.search(\"[a-h][1-8]\", cell)\n",
    "        if x is None:\n",
    "            print(cell)\n",
    "            print(\"Value incorrect!\")\n",
    "            return False\n",
    "    return True"
   ]
  },
  {
   "cell_type": "markdown",
   "metadata": {
    "pycharm": {
     "name": "#%% md\n"
    }
   },
   "source": [
    "Bevor die Figuren dem Objekt hinzugefügt werden, werden sie in einem Dictionary gesammelt, welches als `piece_map` verwendet wird.\n",
    "\n",
    "Die Funktion `collect_cells(color, pieces)` erstellt diese `piece_map`.\n",
    "Diese erhält folgende Parameter:\n",
    "* ``color``: Ein boolescher-Wert, der die Farbe der Pieces repräsentiert. Kann auch in Form von `chess.Color` übergeben werden.\n",
    "* ``pieces``: Ein Dictionary, das als `key` einen `chess.PieceType` nimmt. Der `value` ist eine Liste von Strings, die die besetzten Felder repräsentieren.\n",
    "\n",
    "\n",
    "Das Dictionary entsteht durch Iteration über `pieces`. Das zurückgegebene Dictionary nutzt als `key` ein `chess.Square`. Der `value` des Dictionaries ist nun ein `chess.Piece`."
   ]
  },
  {
   "cell_type": "code",
   "execution_count": null,
   "metadata": {
    "pycharm": {
     "name": "#%%\n"
    }
   },
   "outputs": [],
   "source": [
    "def collect_cells(color, pieces):\n",
    "    occupied_cells = {}\n",
    "    for piece_type, values in pieces.items():\n",
    "            piece = chess.Piece(piece_type, color)\n",
    "            for value in values:\n",
    "                square = chess.parse_square(value)\n",
    "                occupied_cells[square] = piece\n",
    "            \n",
    "    return occupied_cells"
   ]
  },
  {
   "cell_type": "markdown",
   "metadata": {
    "pycharm": {
     "name": "#%% md\n"
    }
   },
   "source": [
    "Die Funktion `create_board()` füllt das Schachbrett letztlich mit den Figuren, die vom Nutzer in den Dictionaries angegeben wurden.\n",
    "Als Rückgabewert gibt die Funktion das gefüllte Schachbrett als `chess.Board` zurück.\n",
    "\n",
    "Zunächst werden die vorherigen Funktionen verwendet, um die `piece_map` zu erstellen. Diese \n",
    "wird auf das Board-Objekt angewandt und die entstehende Stellung auf Validität überprüft.\n",
    "Ist das Board nicht valide, wird ein Fehler ausgegeben und ein neues, leeres `chess.Board` wird erstellt.\n",
    "\n",
    "Ein Problem, welches in Spielsituationen mit dem Turm auftritt, ist die Berechtigung zu einer Rochade.\n",
    "Damit das Board als valide anerkannt wird, werden die entsprechenden Flags mit der Funktion\n",
    "`clean_castling_rights` den Regeln entsprechend gesetzt.\n"
   ]
  },
  {
   "cell_type": "code",
   "execution_count": null,
   "metadata": {
    "pycharm": {
     "name": "#%%\n"
    }
   },
   "outputs": [],
   "source": [
    "def create_board():\n",
    "    local_board = chess.Board(None)\n",
    "    occupied_cells = {}\n",
    "    if check_for_correct_cells():\n",
    "        occupied_cells |= collect_cells(chess.WHITE, g_white_positions)\n",
    "        occupied_cells |= collect_cells(chess.BLACK, g_black_positions)\n",
    "\n",
    "        local_board.set_piece_map(occupied_cells)\n",
    "        local_board.castling_rights = local_board.clean_castling_rights()\n",
    "        \n",
    "        if not local_board.is_valid():\n",
    "            display(local_board)\n",
    "            print(\"Specified lineup is invalid\")\n",
    "            local_board = chess.Board(None)\n",
    "    return local_board"
   ]
  },
  {
   "cell_type": "markdown",
   "metadata": {
    "pycharm": {
     "name": "#%% md\n"
    }
   },
   "source": [
    "## Import der Daten\n",
    "\n",
    "Das Einlesen der Daten erfolgt mit der Funktion `load_data(filename)`. Diese wird im Notebook `14_functions.ipynb` definiert und näher beschrieben."
   ]
  },
  {
   "cell_type": "code",
   "execution_count": null,
   "metadata": {
    "pycharm": {
     "name": "#%%\n"
    }
   },
   "outputs": [],
   "source": [
    "%run 14_functions.ipynb"
   ]
  },
  {
   "cell_type": "markdown",
   "metadata": {
    "pycharm": {
     "name": "#%% md\n"
    }
   },
   "source": [
    "Für die Erstellung der gesamten $S_n$ Mengen werden Funktionen zum Spiegeln der vorhandenen Spielsituationen verwendet. Diese können aus dem Notebook `13_mirroring.ipynb` entnommen werden."
   ]
  },
  {
   "cell_type": "code",
   "execution_count": null,
   "metadata": {
    "pycharm": {
     "name": "#%%\n"
    }
   },
   "outputs": [],
   "source": [
    "%run 13_mirroring.ipynb"
   ]
  },
  {
   "cell_type": "markdown",
   "metadata": {
    "pycharm": {
     "name": "#%% md\n"
    }
   },
   "source": [
    "## Den besten Halbzug für die KI ermitteln\n",
    "Um mit den berechneten Endspieldaten gegen einen Spieler zu gewinnen, muss jeder Halbzug, den Weiß zieht, optimal sein.\n",
    "Ein passender Halbzug für die KI besteht darin die Situation von $S_n$ in einen Zustand zu überführen, in dem sie sich in $S_{n-1}$ befindet.\n",
    "\n",
    "Die Funktion `find_next_move(curr_board, s_index, s_n_sequence)` bestimmt für ein übergebenes Board-Objekt einen solchen Spielzug.\n",
    "Aus Effizienzgründen wird zusätzlich zum gefundenen Spielzug (`move`) der neue Wert für $n$ zurückgegeben.\n",
    "\n",
    "Für diese Berechnung benötigt ``find_next_move(curr_board, s_index, s_n_sequence)`` nachkommende Argumente:\n",
    "* ``curr_board``: Das Board, für welches der nächste Spielzug berechnet werden soll.\n",
    "* ``s_index``: Das $n$ eines $S_n$, in welchem sich ``curr_board`` befindet. Wird aus Effizienzgründen übergeben.\n",
    "* ``s_n_sequence``: Die Liste mit allen $S_n$.\n",
    "\n",
    "Kann kein Spielzug gefunden werden, gibt die Funktion den Wert -1 zurück.\n",
    "\n",
    "Die für diesen Ablauf benötigte Funktion `find_situation_in_sequence` wird ebenfalls im Notebook `14_functions.ipynb` definiert und erklärt."
   ]
  },
  {
   "cell_type": "code",
   "execution_count": null,
   "metadata": {
    "pycharm": {
     "name": "#%%\n"
    }
   },
   "outputs": [],
   "source": [
    "def find_next_move(curr_board, s_index, s_n_sequence):\n",
    "    s_index_new = s_index - 1\n",
    "    for move in curr_board.legal_moves:\n",
    "        curr_board.push(move)\n",
    "        curr_integer = to_integer(curr_board, g_piece_list)\n",
    "        _tmp = find_situation_in_sequence(curr_integer, [s_n_sequence[s_index_new]])\n",
    "        if _tmp != -1:\n",
    "            curr_board.pop()\n",
    "            return s_index_new, move\n",
    "        curr_board.pop()\n",
    "\n",
    "    return -1, None"
   ]
  },
  {
   "cell_type": "markdown",
   "metadata": {
    "pycharm": {
     "name": "#%% md\n"
    }
   },
   "source": [
    "## Globale Variablen für die Anzeige\n",
    "\n",
    "Nachdem alle Funktionen für die Bestimmung eines Halbzugs definiert worden sind, gilt es die bereitgestellte UI der ``python-chess`` Bibliothek zu erweitern.\n",
    "In Form von globalen Variablen werden UI-Elemente definiert, die für die Eingabe eines neuen Halbzugs benötigt werden:\n",
    "\n",
    "- `g_input_field`: Ein Eingabefeld, in dem der nächste Halbzug von Schwarz eingetragen werden soll.\n",
    "- `g_execute_button`: Ein Button, der nach der Eingabe des Halbzugs diesen auch auf dem Schachbrett ausführt."
   ]
  },
  {
   "cell_type": "code",
   "execution_count": null,
   "metadata": {
    "pycharm": {
     "name": "#%%\n"
    }
   },
   "outputs": [],
   "source": [
    "g_input_field = widgets.Text()\n",
    "\n",
    "g_execute_button = widgets.Button(\n",
    "    description='Execute Move',\n",
    "    disabled=False,\n",
    "    button_style='',\n",
    "    tooltip='Executes the move entered in the input field.',\n",
    "    icon='check'\n",
    ")"
   ]
  },
  {
   "cell_type": "markdown",
   "metadata": {
    "pycharm": {
     "name": "#%% md\n"
    }
   },
   "source": [
    "## Globale Variablen für den aktuellen Spielzustand\n",
    "Damit der aktuelle Stand des Spiels auch ohne eine lineare Kette von Funktionsaufrufen verfügbar ist,\n",
    "werden diese Informationen in globalen Variablen gespeichert.\n",
    "Bei den Variablen handelt es sich um:\n",
    "* `g_piece_list`: Liste der verwendeten Figuren. Wird für die Integer Konversion verwendet.\n",
    "* `g_s_n_sequence`: Die berechnete Endspieltabelle.\n",
    "* `g_s_index`: $n$, in welchem $S_n$ sich die aktuelle Stellung befindet."
   ]
  },
  {
   "cell_type": "code",
   "execution_count": null,
   "metadata": {
    "pycharm": {
     "name": "#%%\n"
    }
   },
   "outputs": [],
   "source": [
    "g_piece_list, g_s_n_sequence = load_data(g_filename)\n",
    "if not g_user_wants_pawn:\n",
    "    g_s_n_sequence = gen_all_integers(g_s_n_sequence, g_piece_list)\n",
    "g_s_index = 0"
   ]
  },
  {
   "cell_type": "markdown",
   "metadata": {
    "pycharm": {
     "name": "#%% md\n"
    }
   },
   "source": [
    "## Hilfsfunktionen\n",
    "\n",
    "Zum Definieren der globalen Variablen `g_filename` wird die Funktion `update_filename(new_value)` definiert."
   ]
  },
  {
   "cell_type": "code",
   "execution_count": null,
   "metadata": {
    "pycharm": {
     "name": "#%%\n"
    }
   },
   "outputs": [],
   "source": [
    "def update_filename(new_value):\n",
    "    global g_filename\n",
    "    g_filename = new_value"
   ]
  },
  {
   "cell_type": "markdown",
   "metadata": {
    "pycharm": {
     "name": "#%% md\n"
    }
   },
   "source": [
    "Weiter werden für den Spielbeginn (`reset_board()`) und auch für ausgeführte Spielzüge (`reset_input_field()`) Funktionen geschrieben,\n",
    "die die UI Elemente auf ihren Standardwert zurücksetzen."
   ]
  },
  {
   "cell_type": "markdown",
   "metadata": {
    "pycharm": {
     "name": "#%% md\n"
    }
   },
   "source": [
    "`reset_input_field()` setzt hierbei nur den Value des `g_input_field` auf einen leeren String."
   ]
  },
  {
   "cell_type": "code",
   "execution_count": null,
   "metadata": {
    "pycharm": {
     "name": "#%%\n"
    }
   },
   "outputs": [],
   "source": [
    "def reset_input_field():\n",
    "    global g_input_field\n",
    "    g_input_field.value = ''"
   ]
  },
  {
   "cell_type": "markdown",
   "metadata": {
    "pycharm": {
     "name": "#%% md\n"
    }
   },
   "source": [
    "`reset_board()` setzt das `g_board` Objekt auf den Ausgangszustand zurück und passt dementsprechend die globalen Variablen an."
   ]
  },
  {
   "cell_type": "code",
   "execution_count": null,
   "metadata": {
    "pycharm": {
     "name": "#%%\n"
    }
   },
   "outputs": [],
   "source": [
    "def reset_board():\n",
    "    global g_board\n",
    "    global g_s_index\n",
    "    g_board = create_board()\n",
    "    integer = to_integer(g_board, g_piece_list)\n",
    "    g_s_index = find_situation_in_sequence(integer, g_s_n_sequence)"
   ]
  },
  {
   "cell_type": "markdown",
   "metadata": {
    "pycharm": {
     "name": "#%% md\n"
    }
   },
   "source": [
    "Zum Durchführen der Spielzüge im Board-Objekt wird die Hilfsfunktion `execute_move(move)` verwendet.\n",
    "Die Funktion erhält als Parameter:\n",
    " * `move`: Ein `chess.Move`, der ausgeführt werden soll.\n",
    "\n",
    "Zusätzlich wird in der Datei, die in unter dem Namen `g_filename` zu finden ist, für den Halbzug ein Eintrag hinterlegt."
   ]
  },
  {
   "cell_type": "code",
   "execution_count": null,
   "metadata": {
    "pycharm": {
     "name": "#%%\n"
    }
   },
   "outputs": [],
   "source": [
    "def execute_move(move):\n",
    "    global g_board\n",
    "    global g_s_index\n",
    "    global g_s_n_sequence\n",
    "    turn = g_board.turn\n",
    "    move_file = open(\"Played_Games/\" + g_filename, \"a\")\n",
    "    if turn:\n",
    "        move_file.write(str(g_board.fullmove_number) + \". \" + move.uci() + \" \")\n",
    "    else:\n",
    "        move_file.write(move.uci() + \"\\n\")\n",
    "    move_file.close()\n",
    "    g_board.push(move)\n",
    "    integer = to_integer(g_board, g_piece_list)\n",
    "    g_s_index = find_situation_in_sequence(integer, g_s_n_sequence)"
   ]
  },
  {
   "cell_type": "markdown",
   "metadata": {
    "pycharm": {
     "name": "#%% md\n"
    }
   },
   "source": [
    "Gleichermaßen wurde eine Funktion zum Durchführen der Spielzüge der KI definiert.\n",
    "Die Funktion `execute_ai_move()` nutzt hierfür sowohl die Funktion `find_next_move(curr_board, s_index, s_n_sequence)` als auch `exeucute_move(move)` verwendet.\n",
    "Dadurch ist mit der Funktion `execute_ai_move()` die Bestimmung und die Durchführung eines Halbzugs der KI gegeben."
   ]
  },
  {
   "cell_type": "code",
   "execution_count": null,
   "metadata": {
    "pycharm": {
     "name": "#%%\n"
    }
   },
   "outputs": [],
   "source": [
    "def execute_ai_move():\n",
    "    global g_s_index\n",
    "    g_s_index, next_move = find_next_move(g_board, g_s_index, g_s_n_sequence)\n",
    "    if g_s_index == -1:\n",
    "        print(\"No Move for white found\")\n",
    "    else:\n",
    "        execute_move(next_move)\n",
    "        reload_screen()"
   ]
  },
  {
   "cell_type": "markdown",
   "metadata": {
    "pycharm": {
     "name": "#%% md\n"
    }
   },
   "source": [
    "Da die Anzeige des UI auf Notebook-Zellenausgaben basiert, muss diese auch nach einem neuen Halbzug geleert werden, sodass die Zelle nicht mit den Elementen überflutet wird.\n",
    "Hierfür aktualisiert die Funktion `reload_screen()` die Ausgabe und zeigt erneut das Schachbrett, das Eingabefeld für den nächsten Halbzug und den Knopf zum Ausführen des Halbzugs an."
   ]
  },
  {
   "cell_type": "code",
   "execution_count": null,
   "metadata": {
    "pycharm": {
     "name": "#%%\n"
    }
   },
   "outputs": [],
   "source": [
    "def reload_screen():\n",
    "    clear_output()\n",
    "    display(g_board, g_input_field, g_execute_button)\n",
    "    display(Javascript(\"setTimeout(function focus() {document.querySelector('input').focus()}, 100);\"))"
   ]
  },
  {
   "cell_type": "markdown",
   "metadata": {
    "pycharm": {
     "name": "#%% md\n"
    }
   },
   "source": [
    "Die Funktion `show_end_screen()` hingegen zeigt nur das Schachbrett an."
   ]
  },
  {
   "cell_type": "code",
   "execution_count": null,
   "metadata": {
    "pycharm": {
     "name": "#%%\n"
    }
   },
   "outputs": [],
   "source": [
    "def show_end_screen():\n",
    "    clear_output()\n",
    "    display(g_board)"
   ]
  },
  {
   "cell_type": "markdown",
   "metadata": {
    "pycharm": {
     "name": "#%% md\n"
    }
   },
   "source": [
    "Die `game_result()` Funktion gibt den Grund, weshalb das Spiel beendet wurde, als String zurück.\n",
    "Hierzu wird nur abgefragt, ob die Partie mit einem Schachmatt beendet wurde.\n",
    "Dies würde bedeuten, dass die Schach-Endspiel-KI gewonnen hat und demnach die Aufgabe der Studienarbeit erfolgreich bearbeitet wurde.\n",
    "In jeglichem anderen Fall wurde die Aufgabe nicht erfüllt.\n",
    "Aus diesem Grund müssen andere Spielausgänge nicht überprüft werden.\n",
    "Für die Ausgabe wird die in `14_functions.ipynb` definierte Funktion `get_color(turn)` verwendet."
   ]
  },
  {
   "cell_type": "code",
   "execution_count": null,
   "metadata": {
    "pycharm": {
     "name": "#%%\n"
    }
   },
   "outputs": [],
   "source": [
    "def game_result():\n",
    "    if g_board.is_checkmate():\n",
    "        return get_color(g_board.turn) + \" has lost because of Checkmate!\"\n",
    "    else:\n",
    "        return \"Something went wrong!\""
   ]
  },
  {
   "cell_type": "markdown",
   "metadata": {
    "pycharm": {
     "name": "#%% md\n"
    }
   },
   "source": [
    "Für den `g_execute_button` und das `g_input_field` wird eine Funktion geschrieben, die für das Ausführen des Halbzugs verantwortlich ist.\n",
    "Diese wird entweder durch Klicken des Buttons oder Drücken der Enter-Taste aufgerufen. \n",
    "Das zuvor beschriebene Verhalten löst die Funktion `execute_entered_move(change)` aus.\n",
    "Für die Definition dieser Funktion werden zuvor jedoch zwei Hilfsfunktionen definiert."
   ]
  },
  {
   "cell_type": "markdown",
   "metadata": {
    "pycharm": {
     "name": "#%% md\n"
    }
   },
   "source": [
    "Die Funktion `evaluate_upcoming_board_situation()` überprüft, ob das `g_board` Objekt sich in einem beendeten Zustand befindet. Dieser wird mithilfe von `game_result()` ausgewertet."
   ]
  },
  {
   "cell_type": "code",
   "execution_count": null,
   "metadata": {
    "pycharm": {
     "name": "#%%\n"
    }
   },
   "outputs": [],
   "source": [
    "def evaluate_upcoming_board_situation():\n",
    "    if g_board.legal_moves.count() == 0:\n",
    "        show_end_screen()\n",
    "        print(game_result())"
   ]
  },
  {
   "cell_type": "markdown",
   "metadata": {
    "pycharm": {
     "name": "#%% md\n"
    }
   },
   "source": [
    "Die Eingabe, die der Nutzer in Form des `g_input_field` tätigt, wird mit der Funktion `evaluate_input_field()`  ausgewertet.\n",
    "Sofern es sich bei der Eingabe um einen Spielzug handelt, wird dieser auf Validität überprüft.\n",
    "Ein valider Halbzug wird ausgeführt. Anschließend wird der nächste Halbzug der KI durchgeführt.\n",
    "Andernfalls wird der Nutzer zur erneuten Eingabe aufgefordert."
   ]
  },
  {
   "cell_type": "code",
   "execution_count": null,
   "metadata": {
    "pycharm": {
     "name": "#%%\n"
    }
   },
   "outputs": [],
   "source": [
    "def evaluate_input_field():\n",
    "    black_move = chess.Move.from_uci(g_input_field.value)\n",
    "    if black_move in list(g_board.legal_moves):\n",
    "        execute_move(black_move)\n",
    "        reset_input_field()\n",
    "        execute_ai_move()\n",
    "        evaluate_upcoming_board_situation()\n",
    "    else:\n",
    "        print(\"Entered an invalid move. Please try again!\")\n",
    "        print(g_input_field.value)\n",
    "        time.sleep(2)\n",
    "        reload_screen()"
   ]
  },
  {
   "cell_type": "markdown",
   "metadata": {
    "pycharm": {
     "name": "#%% md\n"
    }
   },
   "source": [
    "Die Funktion `execute_entered_move(change)` wird mit der Betätigung des Buttons oder dem Drücken der Enter-Taste aufgerufen. Diese nutzt die Funktionen `evaluate_upcoming_board_situation()` und `evaluate_input_field()` zur Auswertung der Eingabe. Bei einer invaliden Eingabe (kein Spielzug) wird auch hier der Nutzer zur erneuten Eingabe aufgefordert."
   ]
  },
  {
   "cell_type": "code",
   "execution_count": null,
   "metadata": {
    "pycharm": {
     "name": "#%%\n"
    }
   },
   "outputs": [],
   "source": [
    "def execute_entered_move(change):\n",
    "    try:\n",
    "        if g_input_field.value != '':\n",
    "            evaluate_input_field()\n",
    "        else:\n",
    "            print(\"Enter a move!\")\n",
    "            time.sleep(2)\n",
    "            reload_screen()\n",
    "    except ValueError:\n",
    "        print(\"Entered a wrong move. Please try again!\")\n",
    "        print(g_input_field.value)\n",
    "        time.sleep(2)\n",
    "        reload_screen()"
   ]
  },
  {
   "cell_type": "markdown",
   "metadata": {
    "pycharm": {
     "name": "#%% md\n"
    }
   },
   "source": [
    "Damit die Funktion beim Klicken des `g_execute_button` oder durch Drücken der Enter-Taste ausgeführt wird, muss diese den `on_click` und `on_submit` Events zugewiesen werden."
   ]
  },
  {
   "cell_type": "code",
   "execution_count": null,
   "metadata": {
    "pycharm": {
     "name": "#%%\n"
    }
   },
   "outputs": [],
   "source": [
    "g_execute_button.on_click(execute_entered_move)\n",
    "g_input_field.on_submit(execute_entered_move)"
   ]
  },
  {
   "cell_type": "markdown",
   "metadata": {
    "pycharm": {
     "name": "#%% md\n"
    }
   },
   "source": [
    "Für eine Wiederholung einer Partie wurden Funktionen im Notebook `05_play_from_history.ipynb` definiert. Diese nutzen eine angegebene Datei, die sich im Ordner `\\Played_Games` befindet. Diese Dateien sind wie folgt aufgebaut:\n",
    "1. Die erste Zeile des Dokuments beinhaltet die FEN der Ausgangssituation.\n",
    "2. Die nachstehenden Zeilen haben folgendes Format:\n",
    "    * \\[Zugnummer\\] \\[Halbzug weiß\\] \\[Halbzug schwarz\\]\n",
    "    * Die Züge werden in Form von zwei aufeinander folgenden Feldern beschrieben. Beispiel: `e2e4`\n",
    "\n",
    "Zur Erstellung dieser Datei wurde die Funktion `create_move_history()` definiert.\n",
    "Sie fügt außerdem in die erste Zeile die FEN, die die Spielsituation beschreibt, ein.\n",
    "Die Datei trägt den Namen gespeichert in `g_filename`."
   ]
  },
  {
   "cell_type": "code",
   "execution_count": null,
   "metadata": {
    "pycharm": {
     "name": "#%%\n"
    }
   },
   "outputs": [],
   "source": [
    "def create_move_history():\n",
    "    update_filename(\"Move-History_\" + str(datetime.today().replace(microsecond=0)).replace(\":\",\"_\") + \".txt\")\n",
    "    move_file = open(\"Played_Games/\" + g_filename, \"a\")\n",
    "    move_file.write(g_board.fen() + \"\\n\")\n",
    "    move_file.close()"
   ]
  },
  {
   "cell_type": "markdown",
   "metadata": {
    "pycharm": {
     "name": "#%% md\n"
    }
   },
   "source": [
    "Die Funktion `start_game()` bereitet alle Parameter für einen Spielverlauf vor. Dazu gehört:\n",
    "- Erstellung eines neuen Boards.\n",
    "- Das Erstellen einer neuen Historie für das neu begonnene Spiel.\n",
    "- Anzeigen der neuen Spielsituation.\n",
    "\n",
    "Die Implementierung sieht dabei vor, dass Weiß (also die KI) immer den ersten Halbzug hat."
   ]
  },
  {
   "cell_type": "code",
   "execution_count": null,
   "metadata": {
    "pycharm": {
     "name": "#%%\n"
    }
   },
   "outputs": [],
   "source": [
    "def start_game():\n",
    "    global g_board\n",
    "    if check_piece_list():\n",
    "        reset_board()\n",
    "        create_move_history()\n",
    "        execute_ai_move()\n",
    "    else:\n",
    "        print(\"Change position dictionaries. They don't match to the saved piece_list\")\n",
    "        print(get_pieces_entered())\n",
    "        print(g_piece_list)"
   ]
  },
  {
   "cell_type": "markdown",
   "metadata": {
    "pycharm": {
     "name": "#%% md\n"
    }
   },
   "source": [
    "Mit dem Aufruf der Funktion `start_game()` kann nun ein Spiel gegen die KI gestartet werden."
   ]
  },
  {
   "cell_type": "code",
   "execution_count": null,
   "metadata": {
    "pycharm": {
     "name": "#%%\n"
    },
    "scrolled": true
   },
   "outputs": [],
   "source": [
    "start_game()"
   ]
  }
 ],
 "metadata": {
  "kernelspec": {
   "display_name": "Python 3 (ipykernel)",
   "language": "python",
   "name": "python3"
  },
  "language_info": {
   "codemirror_mode": {
    "name": "ipython",
    "version": 3
   },
   "file_extension": ".py",
   "mimetype": "text/x-python",
   "name": "python",
   "nbconvert_exporter": "python",
   "pygments_lexer": "ipython3",
   "version": "3.10.2"
  }
 },
 "nbformat": 4,
 "nbformat_minor": 1
}