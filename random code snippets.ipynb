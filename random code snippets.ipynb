{
 "cells": [
  {
   "cell_type": "code",
   "execution_count": null,
   "metadata": {
    "collapsed": true
   },
   "outputs": [],
   "source": [
    "'''\n",
    "S_1 = []\n",
    "S_1_ASCII = []\n",
    "counter = 0\n",
    "# print(\"WHITE: \" + str(chess.WHITE))\n",
    "# print(\"BLACK: \" + str(chess.BLACK))\n",
    "for board in S_0:\n",
    "    # print(\"Round: \" + str(counter))\n",
    "    # print(board.__str__())\n",
    "    # print(\"Turn: \" + str(board.turn))\n",
    "    #board.turn = board.turn ^ True\n",
    "    for move in board.pseudo_legal_moves:\n",
    "        board.push(move)\n",
    "        if ((board.turn, board.__str__())) in S_ASCII and board.is_valid():\n",
    "            S_1_ASCII.append((board.turn, board.__str__()))\n",
    "        board.pop()\n",
    "    counter += 1\n",
    "\n",
    "S_tmp = []\n",
    "\n",
    "for board in S:\n",
    "    if((board.turn, board.__str__())) in S_1_ASCII:\n",
    "        S_1.append(board)\n",
    "    else:\n",
    "        S_tmp.append(board)\n",
    "\n",
    "S = S_tmp\n",
    "'''\n"
   ]
  }
 ],
 "metadata": {
  "kernelspec": {
   "display_name": "Python 3",
   "language": "python",
   "name": "python3"
  },
  "language_info": {
   "codemirror_mode": {
    "name": "ipython",
    "version": 2
   },
   "file_extension": ".py",
   "mimetype": "text/x-python",
   "name": "python",
   "nbconvert_exporter": "python",
   "pygments_lexer": "ipython2",
   "version": "2.7.6"
  }
 },
 "nbformat": 4,
 "nbformat_minor": 0
}