{
 "cells": [
  {
   "cell_type": "markdown",
   "source": "# Überprüfen der $S_n$ Mengen\n\nBei der Bestimmung der $S_n$ Mengen wurde die Retrograde Analyse verwendet.\nUm sicherzustellen, dass die Bretter die bspw. in $S_{10}$ zu finden sind, auch wirklich in <=10 Zügen beendet werden.",
   "metadata": {
    "collapsed": false,
    "pycharm": {
     "name": "#%% md\n"
    },
    "cell_id": "15fcf482-70e1-4eb2-95b8-c84b474a336d",
    "deepnote_cell_type": "markdown"
   }
  },
  {
   "cell_type": "code",
   "metadata": {
    "cell_id": "7e153a78-83bc-4bb1-a54b-58e7cc766ef5",
    "tags": [],
    "deepnote_to_be_reexecuted": false,
    "source_hash": "cb6b5ec2",
    "execution_start": 1642957225002,
    "execution_millis": 71,
    "deepnote_cell_type": "code"
   },
   "source": "import json\nimport chess",
   "outputs": [],
   "execution_count": null
  },
  {
   "cell_type": "code",
   "metadata": {
    "cell_id": "14a6f264-4763-4bb3-bde2-e67ce60c9b62",
    "tags": [],
    "deepnote_to_be_reexecuted": false,
    "source_hash": "2f0fd4b6",
    "execution_start": 1642957225117,
    "execution_millis": 1,
    "deepnote_cell_type": "code"
   },
   "source": "def get_board_and_turn(fen):\n    split = fen.split()\n    short_fen = str(split[0]) + \" \" + str(split[1])\n    return short_fen",
   "outputs": [],
   "execution_count": null
  },
  {
   "cell_type": "code",
   "metadata": {
    "collapsed": false,
    "pycharm": {
     "name": "#%%\n"
    },
    "cell_id": "00001-33fd4e9c-8795-4f06-9a41-5a0c8fdd243f",
    "deepnote_to_be_reexecuted": false,
    "source_hash": "8f0a5bfa",
    "execution_start": 1642957225118,
    "execution_millis": 1,
    "deepnote_cell_type": "code"
   },
   "source": "def load_s_n_sequence(filepath):\n    s_n_sequence_fen = []\n    s_n_sequence_short_fen = []\n    f = open(filepath, \"r\")\n    tmp = json.loads(f.read())\n    for item in tmp:\n        tmp_fen = set()\n        tmp_fen_short = set()\n        for board in item:\n            tmp_fen.add(board)\n            tmp_fen_short.add(get_board_and_turn(board))\n        s_n_sequence_fen.append(tmp_fen)\n        s_n_sequence_short_fen.append(tmp_fen_short)\n    f.close()\n    return s_n_sequence_fen, s_n_sequence_short_fen",
   "outputs": [],
   "execution_count": null
  },
  {
   "cell_type": "code",
   "metadata": {
    "collapsed": false,
    "pycharm": {
     "name": "#%%\n"
    },
    "cell_id": "00002-233a9f8f-ee9f-4f2d-9a40-0dc3af6c165a",
    "deepnote_to_be_reexecuted": false,
    "source_hash": "ec78bfa0",
    "execution_start": 1642957225119,
    "execution_millis": 454,
    "deepnote_output_heights": [
     611
    ],
    "deepnote_cell_type": "code"
   },
   "source": "S_N_Sequence_fen, S_N_Sequence_fen_short = load_s_n_sequence(\"S_n_seq_12_01.json\")",
   "outputs": [],
   "execution_count": null
  },
  {
   "cell_type": "code",
   "metadata": {
    "cell_id": "6681e547-10d4-4b7f-ac85-c01220411017",
    "tags": [],
    "deepnote_to_be_reexecuted": false,
    "source_hash": "26c3f439",
    "execution_start": 1642957225580,
    "execution_millis": 44,
    "deepnote_cell_type": "code"
   },
   "source": "def fen_in_lower_sequence(fen, sequence_index, s_n_short):\n    for s in s_n_short[:sequence_index]:\n        if fen in s:\n            return True\n    return False",
   "outputs": [],
   "execution_count": null
  },
  {
   "cell_type": "code",
   "metadata": {
    "collapsed": true,
    "cell_id": "00003-8c8899e2-aac2-4fa3-a915-726462bd404c",
    "deepnote_to_be_reexecuted": false,
    "source_hash": "e6680570",
    "execution_start": 1642957225672,
    "execution_millis": 0,
    "deepnote_cell_type": "code"
   },
   "source": "def every_move_of_sequence_in_lower(sequence_index, s_n_fen, s_n_short):\n    print(\"Checking S_\" + str(sequence_index) + \"...\")\n    sequence_fen = s_n_fen[sequence_index]\n    for fen in sequence_fen:\n        cur_board = chess.Board(fen)\n        if not cur_board.turn:\n            for move in cur_board.legal_moves:\n                cur_board.push(move)\n                cur_short = get_board_and_turn(cur_board.fen())\n                if not fen_in_lower_sequence(cur_short, sequence_index, s_n_short):\n                    print(\"Fen: \" + cur_short + \" not in lower S\")\n                    return False\n                cur_board.pop()\n            return True\n        else:\n            in_lower = False\n            for move in cur_board.legal_moves:\n                cur_board.push(move)\n                cur_short = get_board_and_turn(cur_board.fen())\n                if fen_in_lower_sequence(cur_short, sequence_index, s_n_short):\n                    in_lower = True\n                cur_board.pop()\n            return False\n",
   "outputs": [],
   "execution_count": null
  },
  {
   "cell_type": "code",
   "metadata": {
    "cell_id": "989260a7-adea-48a5-89e0-d42a9f8911ef",
    "tags": [],
    "deepnote_to_be_reexecuted": false,
    "source_hash": "5cfc8204",
    "execution_start": 1642957225672,
    "execution_millis": 38,
    "deepnote_output_heights": [
     21.1875,
     21.1875
    ],
    "deepnote_cell_type": "code"
   },
   "source": "for i in range(len(S_N_Sequence_fen)):\n    every_move_of_sequence_in_lower(i, S_N_Sequence_fen, S_N_Sequence_fen_short)",
   "outputs": [
    {
     "name": "stdout",
     "text": "Checking S_0...\nChecking S_1...\nChecking S_2...\nChecking S_3...\nChecking S_4...\nChecking S_5...\nChecking S_6...\nChecking S_7...\nChecking S_8...\nChecking S_9...\nChecking S_10...\nChecking S_11...\nChecking S_12...\nChecking S_13...\nChecking S_14...\nChecking S_15...\nChecking S_16...\nChecking S_17...\nChecking S_18...\nChecking S_19...\nChecking S_20...\nChecking S_21...\nChecking S_22...\nChecking S_23...\nChecking S_24...\nChecking S_25...\nChecking S_26...\nChecking S_27...\nChecking S_28...\nChecking S_29...\nChecking S_30...\nChecking S_31...\nChecking S_32...\nChecking S_33...\nChecking S_34...\n",
     "output_type": "stream"
    }
   ],
   "execution_count": null
  },
  {
   "cell_type": "code",
   "metadata": {
    "cell_id": "b085eea1-bca9-46e8-aa10-087aa6d14f29",
    "tags": [],
    "deepnote_to_be_reexecuted": false,
    "source_hash": "c97671c3",
    "execution_start": 1642957225707,
    "execution_millis": 0,
    "deepnote_cell_type": "code"
   },
   "source": "def find_fen_in_sequence(fen, s_n_short):\n    short = get_board_and_turn(fen)\n    for i in range(len(s_n_short)):\n        if short in s_n_short[i]:\n            return i",
   "outputs": [],
   "execution_count": null
  },
  {
   "cell_type": "code",
   "metadata": {
    "cell_id": "4c63c4b4-0cd3-418b-b142-f664dc7e7114",
    "tags": [],
    "deepnote_to_be_reexecuted": false,
    "source_hash": "f13f6cd9",
    "execution_start": 1642957225708,
    "execution_millis": 2,
    "deepnote_output_heights": [
     21.1875
    ],
    "deepnote_cell_type": "code"
   },
   "source": "find_fen_in_sequence(\"8/8/8/2K5/k7/6R1/8/8 b - - 0 1\", S_N_Sequence_fen_short)",
   "outputs": [
    {
     "output_type": "execute_result",
     "execution_count": 9,
     "data": {
      "text/plain": "2"
     },
     "metadata": {}
    }
   ],
   "execution_count": null
  },
  {
   "cell_type": "code",
   "metadata": {
    "cell_id": "0bb87d08-f8b2-415e-ba13-ce655d791235",
    "tags": [],
    "deepnote_to_be_reexecuted": false,
    "source_hash": "f04dfefc",
    "execution_start": 1642957225712,
    "execution_millis": 0,
    "deepnote_cell_type": "code"
   },
   "source": "def find_move_count(sequence_index, fen, move_count, move_set, s_n_short):\n    cur_board = chess.Board(fen)\n    moves = cur_board.legal_moves\n    if moves.count() == 0 and sequence_index == 0:\n        move_set.add(move_count)\n        return move_set\n    if not cur_board.turn:\n        # print(\"Black:\")\n        for move in cur_board.legal_moves:\n            cur_board.push(move)\n            move_count += 1\n            cur_fen = cur_board.fen()\n            new_seq = find_fen_in_sequence(cur_fen, s_n_short)\n            # print(new_seq, \";\" , cur_fen)\n            move_set = find_move_count(new_seq, cur_fen, move_count, move_set, s_n_short)\n            move_count -= 1\n            cur_board.pop()\n    else: \n        # print(\"White:\")\n        for move in cur_board.legal_moves:\n            cur_board.push(move)\n            cur_fen = get_board_and_turn(cur_board.fen())\n            if fen_in_lower_sequence(cur_fen, sequence_index, s_n_short):\n                new_seq = find_fen_in_sequence(cur_fen, s_n_short)\n                move_count += 1\n                move_set = find_move_count(new_seq, cur_fen, move_count, move_set, s_n_short)\n                move_count -= 1\n            cur_board.pop()\n    return move_set",
   "outputs": [],
   "execution_count": null
  },
  {
   "cell_type": "code",
   "metadata": {
    "cell_id": "a27ca83a-011e-4c1b-8e98-9d20f2846bb1",
    "tags": [],
    "deepnote_to_be_reexecuted": false,
    "source_hash": "64ecf584",
    "execution_start": 1642957225714,
    "execution_millis": 67612,
    "deepnote_output_heights": [
     21.1875,
     1
    ],
    "deepnote_cell_type": "code"
   },
   "source": "find_move_count(20, \"8/8/8/3K4/8/5R2/2k5/8 b - - 0 1\", 0, set(), S_N_Sequence_fen_short)",
   "outputs": [
    {
     "output_type": "execute_result",
     "execution_count": 11,
     "data": {
      "text/plain": "{6, 8, 10, 12, 14, 16, 18, 20}"
     },
     "metadata": {}
    }
   ],
   "execution_count": null
  },
  {
   "cell_type": "code",
   "metadata": {
    "cell_id": "238dd697-3c31-4183-b6ab-fa9914cc01d4",
    "tags": [],
    "deepnote_to_be_reexecuted": false,
    "source_hash": "a37241de",
    "execution_start": 1642957293320,
    "execution_millis": 1,
    "deepnote_cell_type": "code"
   },
   "source": "",
   "outputs": [
    {
     "name": "stdout",
     "text": "8/8/8/8/2R5/1K1k4/8/8 b - - 0 1\n",
     "output_type": "stream"
    }
   ],
   "execution_count": null
  },
  {
   "cell_type": "code",
   "metadata": {
    "cell_id": "923fb256-e1c1-41af-bb80-26f6d45d188a",
    "tags": [],
    "deepnote_to_be_reexecuted": false,
    "source_hash": "b623e53d",
    "execution_start": 1642963728221,
    "execution_millis": 31,
    "deepnote_output_heights": [
     392
    ],
    "deepnote_cell_type": "code"
   },
   "source": "",
   "execution_count": 0,
   "outputs": []
  },
  {
   "cell_type": "code",
   "metadata": {
    "cell_id": "5013f573-98fb-4ab4-ac8e-26d26c43905b",
    "tags": [],
    "deepnote_to_be_reexecuted": false,
    "source_hash": "1d4560db",
    "execution_start": 1642957448545,
    "execution_millis": 12999,
    "deepnote_output_heights": [
     21.1875
    ],
    "deepnote_cell_type": "code"
   },
   "source": "# for i in range(len(S_N_Sequence_fen)):\ninvalid = 0\nprint(\"Comparing S_\" + str(4) + \"...\")\nprint( len (S_N_Sequence_fen[4]))\nfor fen in S_N_Sequence_fen[4]:\n    move_set = find_move_count(5, fen, 0, set(), S_N_Sequence_fen_short)\n    # print(move_set)\n    if max(move_set) != 5:\n        invalid += 1\n        # print(fen)\nprint(\"Invalid boards: \" + str(invalid))",
   "outputs": [
    {
     "name": "stdout",
     "text": "Comparing S_4...\n1804\nInvalid boards: 1804\n",
     "output_type": "stream"
    }
   ],
   "execution_count": null
  },
  {
   "cell_type": "markdown",
   "source": "<a style='text-decoration:none;line-height:16px;display:flex;color:#5B5B62;padding:10px;justify-content:end;' href='https://deepnote.com?utm_source=created-in-deepnote-cell&projectId=994ae29f-d329-421f-8622-e5bdbf81795f' target=\"_blank\">\n<img alt='Created in deepnote.com' style='display:inline;max-height:16px;margin:0px;margin-right:7.5px;' src='data:image/svg+xml;base64,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' > </img>\nCreated in <span style='font-weight:600;margin-left:4px;'>Deepnote</span></a>",
   "metadata": {
    "tags": [],
    "created_in_deepnote_cell": true,
    "deepnote_cell_type": "markdown"
   }
  }
 ],
 "nbformat": 4,
 "nbformat_minor": 0,
 "metadata": {
  "kernelspec": {
   "display_name": "Python 3",
   "language": "python",
   "name": "python3"
  },
  "language_info": {
   "codemirror_mode": {
    "name": "ipython",
    "version": 2
   },
   "file_extension": ".py",
   "mimetype": "text/x-python",
   "name": "python",
   "nbconvert_exporter": "python",
   "pygments_lexer": "ipython2",
   "version": "2.7.6"
  },
  "deepnote_notebook_id": "c0d8ccfa-ab76-4e6a-a6ac-5e86ac83d6bd",
  "deepnote": {},
  "deepnote_execution_queue": []
 }
}