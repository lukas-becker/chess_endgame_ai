{
 "cells": [
  {
   "cell_type": "markdown",
   "source": [
    "# Funktionen\n",
    "\n",
    "Dieses Notebook definiert insgesamt drei Funktionen, die über Notebooks hinweg benötigt werden.\n",
    "Hierbei handelt es sich um eine einfache Suchfunktion, eine Funktion im Rahmen der Dokumentation und eine Funktion zum Laden der berechneten Daten."
   ],
   "metadata": {
    "collapsed": false,
    "pycharm": {
     "name": "#%% md\n"
    }
   }
  },
  {
   "cell_type": "markdown",
   "source": [
    "## Darstellung der Farbe, die am Zug ist\n",
    "### Anwendungen: `04_play_against_ai.ipynb`, `06_stockfish_compare.ipynb`\n",
    "\n",
    "Innerhalb der python-chess library werden die Farben des Schachbretts `chess.WHITE` und `chess.BLACK` als boolesche Variablen definiert.\n",
    "Deswegen wurde zur späteren Dokumentation eine Funktion geschrieben, die die Farbe, die gerade am Spielzug ist, als String zurückgibt.\n",
    "Bei dieser Funktion handelt es sich um `get_color(turn)`, die für einen übergebenen `turn` einen String zurückgibt, der den Namen der Farbe, die am Zug ist, zurückgibt."
   ],
   "metadata": {
    "collapsed": false,
    "pycharm": {
     "name": "#%% md\n"
    }
   }
  },
  {
   "cell_type": "code",
   "execution_count": null,
   "outputs": [],
   "source": [
    "def get_color(turn):\n",
    "    if turn:\n",
    "        return \"White\"\n",
    "    else:\n",
    "        return \"Black\""
   ],
   "metadata": {
    "collapsed": false,
    "pycharm": {
     "name": "#%%\n"
    }
   }
  },
  {
   "cell_type": "markdown",
   "source": [
    "## Finden einer Spielsituation\n",
    "### Anwendungen: `04_play_against_ai.ipynb`, `06_stockfish_compare.ipynb`\n",
    "\n",
    "Zum Verwenden der Daten wird eine Funktion definiert, die die Suche innerhalb einer Liste von $S_n$-Mengen (`sequence`) ermöglicht. Innerhalb der Sequence liegt das Ziel in dem Finden einer übergebenen Spielsituation (`board_int`).  Sofern die Funktion ``find_situation_in_sequence(board_int, sequence)`` die Spielsituation in einer der Mengen findet, wird der Mengenindex der Liste zurückgegeben. Andernfalls lautet der Rückgabewert -1."
   ],
   "metadata": {
    "collapsed": false,
    "pycharm": {
     "name": "#%% md\n"
    }
   }
  },
  {
   "cell_type": "code",
   "execution_count": null,
   "outputs": [],
   "source": [
    "def find_situation_in_sequence(board_int, sequence):\n",
    "    for i in range(len(sequence)):\n",
    "        if board_int in sequence[i]:\n",
    "            return i\n",
    "    return -1"
   ],
   "metadata": {
    "collapsed": false,
    "pycharm": {
     "name": "#%%\n"
    }
   }
  },
  {
   "cell_type": "markdown",
   "source": [
    "## Import der Daten\n",
    "### Anwendungen: `04_play_against_ai.ipynb`, `06_stockfish_compare.ipynb`, `07_validate_sequences.ipynb`\n",
    "\n",
    "Für die Bestimmung der Züge der KI werden die $S_n$ Mengen verwendet, die im Notebook ``03_calculation_backend.ipynb`` berechnet werden.\n",
    "Eine Erklärung worum es sich hierbei handelt, findet sich in diesem Notebook.\n",
    "Die Ergebnisse der Berechnung werden mittels `pickle` serialisiert und in einer ZIP-Datei komprimiert abgespeichert. Zur Verwendung wird das Archiv entpackt und die Daten eingelesen.\n",
    "Weitere Informationen zum Inhalt der Datei befinden sich ebenfalls im Notebook ``03_calculation_backend.ipynb``.\n",
    "\n",
    "Die Funktion `load_data(filename)` erhält den Dateinamen (``filename``) als Parameter und gibt die Endspieldaten zurück.\n",
    "Die Rückgabe besteht aus einer Liste von verwendeten Figuren `piece_list` und einer Liste von Mengen `s_n_sequence_integers`, welche die Situationen als Integer enthalten. \n",
    "Diese Mengen enthalten jedoch nur die einzigartigen (ungespiegelten) Spielsituationen, für eine Auswertung, müssen sie noch gespiegelt werden."
   ],
   "metadata": {
    "collapsed": false,
    "pycharm": {
     "name": "#%% md\n"
    }
   }
  },
  {
   "cell_type": "code",
   "execution_count": null,
   "outputs": [],
   "source": [
    "def load_data(filename):\n",
    "    s_n_sequence_integers = []\n",
    "\n",
    "    with ZipFile(\"S_n_Results/\" + filename + \".chessAI\", \"r\") as zipped:\n",
    "        with zipped.open(\"piece_list.pickle\") as piece_list_file:\n",
    "            piece_list = pickle.loads(piece_list_file.read())\n",
    "            piece_list_file.close()\n",
    "\n",
    "        file_list = zipped.namelist()\n",
    "        file_list.remove(\"piece_list.pickle\")\n",
    "        for file in file_list:\n",
    "            with zipped.open(file) as s_n:\n",
    "                s_n_sequence_integers.append(pickle.loads(s_n.read()))\n",
    "                s_n.close()\n",
    "        zipped.close()\n",
    "    return piece_list, s_n_sequence_integers\n"
   ],
   "metadata": {
    "pycharm": {
     "name": "#%%\n"
    }
   }
  }
 ],
 "metadata": {
  "kernelspec": {
   "display_name": "Python 3 (ipykernel)",
   "language": "python",
   "name": "python3"
  },
  "language_info": {
   "codemirror_mode": {
    "name": "ipython",
    "version": 3
   },
   "file_extension": ".py",
   "mimetype": "text/x-python",
   "name": "python",
   "nbconvert_exporter": "python",
   "pygments_lexer": "ipython3",
   "version": "3.9.10"
  }
 },
 "nbformat": 4,
 "nbformat_minor": 1
}