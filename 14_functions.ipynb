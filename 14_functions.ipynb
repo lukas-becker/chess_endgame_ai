{
 "cells": [
  {
   "cell_type": "markdown",
   "source": [
    "## Funktionen\n",
    "\n",
    "> Potenzielles TODO: Zu jeder hier definierten Funktion schreiben in welchem Notebook sie verwendet werden.\n",
    "\n",
    "Neben den Importen werden auch Funktionen definiert, die über die verwendeten Notebooks hinweg benötigt werden. Für die Verwendung muss ebenfalls dieses Notebook zuerst ausgeführt werden."
   ],
   "metadata": {
    "collapsed": false,
    "pycharm": {
     "name": "#%% md\n"
    }
   }
  },
  {
   "cell_type": "markdown",
   "source": [
    "> TODO: Darstellungsweise der Parameter und Rückgabewerte evtl. anpassen\n",
    "> TODO: Begriff \"situation\" hat ihm im Verlauf der Arbeit nicht verstanden\n",
    "\n",
    "Als Nächstes wird eine Funktion definiert, die die Suche innerhalb einer ``sequence`` ermöglicht. Diese ``sequence`` ist eine Liste bestehend aus Mengen. In diesen Mengen stehen die Spielsituationen in einer der drei zuvor erwähnten Darstellungsweisen. Bei der ``situation`` muss darauf geachtet werden, dass sie die gleiche Darstellung besitzt wie die Elemente in der ``sequence``. Sofern die Funktion ``find_situation_in_sequence`` die Spielsituation in einer der Mengen findet, wird der Mengenindex der Liste zurückgegeben. Andernfalls lautet der Rückgabewert -1."
   ],
   "metadata": {
    "collapsed": false,
    "pycharm": {
     "name": "#%% md\n"
    }
   }
  },
  {
   "cell_type": "code",
   "execution_count": null,
   "outputs": [],
   "source": [
    "def find_situation_in_sequence(situation, sequence):\n",
    "    for i in range(len(sequence)):\n",
    "        if situation in sequence[i]:\n",
    "            return i\n",
    "    return -1"
   ],
   "metadata": {
    "collapsed": false,
    "pycharm": {
     "name": "#%%\n"
    }
   }
  },
  {
   "cell_type": "markdown",
   "source": [
    "## Import der Daten\n",
    "\n",
    "Für die Bestimmung der Züge der KI werden die $S_n$ Mengen verwendet, die im Notebook ``02_calculation.ipynb`` berechnet werden.\n",
    "Eine Erklärung worum es sich hierbei handelt, findet sich in diesem Notebook.\n",
    "Die Ergebnisse der Berechnung werden mittels `pickle` serialisiert und in einer ZIP-Datei komprimiert abgespeichert. Zur Verwendung wird das Archiv entpackt und \n",
    "die Daten eingelesen. \n",
    "Weitere Informationen zum Inhalt der Datei befinden sich ebenfalls im Notebook ``calculation.ipynb``.   \n",
    "\n",
    "Die Funktion `load_data(filename)` erhält den Dateinamen (``filename``) als Parameter und gibt die Endspieldaten zurück.\n",
    "Die Rückgabe besteht aus einer Liste von verwendeten Figuren `piece_list` und einer Liste von Mengen `s_n_sequence_integers`, welche die Situationen als Integer enthalten. \n",
    "Diese Mengen enthalten jedoch nur die einzigartigen (ungespiegelten) Spielsituationen, für eine Auswertung, müssen sie noch gespiegelt werden."
   ],
   "metadata": {
    "collapsed": false,
    "pycharm": {
     "name": "#%% md\n"
    }
   }
  },
  {
   "cell_type": "code",
   "execution_count": null,
   "outputs": [],
   "source": [
    "def load_data(filename):\n",
    "    s_n_sequence_integers = []\n",
    "\n",
    "    with ZipFile(\"S_n_Results/\" + filename + \".chessAI\", \"r\") as zipped:\n",
    "        with zipped.open(\"piece_list.pickle\") as piece_list_file:\n",
    "            piece_list = pickle.loads(piece_list_file.read())\n",
    "            piece_list_file.close()\n",
    "\n",
    "        file_list = zipped.namelist()\n",
    "        file_list.remove(\"piece_list.pickle\")\n",
    "        for file in file_list:\n",
    "            with zipped.open(file) as s_n:\n",
    "                s_n_sequence_integers.append(pickle.loads(s_n.read()))\n",
    "                s_n.close()\n",
    "        zipped.close()\n",
    "    return piece_list, s_n_sequence_integers\n"
   ],
   "metadata": {
    "pycharm": {
     "name": "#%%\n"
    }
   }
  }
 ],
 "metadata": {
  "kernelspec": {
   "display_name": "Python 3 (ipykernel)",
   "language": "python",
   "name": "python3"
  },
  "language_info": {
   "codemirror_mode": {
    "name": "ipython",
    "version": 3
   },
   "file_extension": ".py",
   "mimetype": "text/x-python",
   "name": "python",
   "nbconvert_exporter": "python",
   "pygments_lexer": "ipython3",
   "version": "3.9.10"
  }
 },
 "nbformat": 4,
 "nbformat_minor": 1
}