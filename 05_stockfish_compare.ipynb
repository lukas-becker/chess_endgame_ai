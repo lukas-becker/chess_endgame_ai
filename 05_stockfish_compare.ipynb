{
 "cells": [
  {
   "cell_type": "code",
   "execution_count": null,
   "metadata": {
    "pycharm": {
     "name": "#%%\n"
    }
   },
   "outputs": [],
   "source": [
    "from IPython.core.display import HTML\n",
    "\n",
    "with open('style.html', 'r') as file:\n",
    "    css = file.read()\n",
    "HTML(css)"
   ]
  },
  {
   "cell_type": "code",
   "execution_count": null,
   "metadata": {},
   "outputs": [],
   "source": [
    "%run Util/00_imports.ipynb\n",
    "%run Util/01_functions.ipynb"
   ]
  },
  {
   "cell_type": "markdown",
   "metadata": {
    "pycharm": {
     "name": "#%% md\n"
    }
   },
   "source": [
    "# Auswerten eines Schach-Endspiels\n",
    "\n",
    "Neben der Berechnung der Endspiel-Situationen gilt es zu überprüfen, ob es sich bei den Zügen der KI auch um optimale Züge handelt. Hierfür werden im Rahmen von diesem Notebook Testszenarien geschrieben, welche die Entscheidungen der KI bewerten. Zum Vergleich wurde die Stockfish-Engine herangezogen. Stockfish ist die momentan (stand 2022) beste Schach-Engine, die frei zur Verfügung steht. \n",
    "\n",
    "Insgesamt können vier unterschiedliche Szenarien in dem Notebook getestet werden. Die Struktur der Tests ist wie folgt aufgebaut:\n",
    "* ``compare_fen_stockfish``: Dieser Test überprüft für eine mitgegebene FEN jeweils, wie viele Züge die Endspiel-Tabellen und Stockfish zum Gewinnen brauchen. \n",
    "* ``test_random_boards``: Dieser Test überprüft für eine gegebene Anzahl n zufälliger Situationen, ob Stockfish bessere Ergebnisse liefert.\n",
    "* ``compare_sequence_stockfish``: Dieser Test überprüft für ein mitgegebenes $n$ alle Situationen, die sich in der Menge $S_n$ befinden, ob Stockfish oder die KI bessere Ergebnisse erzielt.\n",
    "* ``compare_all_sequences``: Dieser Test überprüft für jegliche Situationen, die einer $S_n$ Menge zugeordnet wurden, ob Stockfish eine Lösung in weniger Zügen bestimmen kann.\n",
    "\n",
    "Die Ergebnisse der letzten drei Tests werden im Ordner ``/Tests`` gespeichert."
   ]
  },
  {
   "cell_type": "markdown",
   "metadata": {
    "pycharm": {
     "name": "#%% md\n"
    }
   },
   "source": [
    "## Konfiguration\n",
    "\n",
    "Zu Beginn müssen für den Vergleich unterschiedliche Variablen definiert werden. Diese beinhalten den Namen der ``.chessTest`` Datei zu den berechneten $S_n$ Sequenzen und einen Pfad zur Stockfish-Installation. Weiterhin wird eine globale Variable ``VERBOSE`` festgelegt, die das Anzeigen von zusätzlichen Ausgaben ein oder ausschaltet."
   ]
  },
  {
   "cell_type": "code",
   "execution_count": null,
   "metadata": {
    "pycharm": {
     "name": "#%%\n"
    }
   },
   "outputs": [],
   "source": [
    "STOCKFISH_PATH = \"./stockfish/stockfish.exe\"\n",
    "VERBOSE = False\n",
    "\n",
    "STOCKFISH = stockfish.Stockfish(STOCKFISH_PATH)"
   ]
  },
  {
   "cell_type": "code",
   "execution_count": null,
   "metadata": {
    "pycharm": {
     "name": "#%%\n"
    }
   },
   "outputs": [],
   "source": [
    "S_N_FILE = \"S_n_seq_queen\"\n",
    "\n",
    "S_N_Sequence_fen, S_N_Sequence_fen_short = load_s_n_fens(S_N_FILE)"
   ]
  },
  {
   "cell_type": "markdown",
   "metadata": {
    "pycharm": {
     "name": "#%% md\n"
    }
   },
   "source": [
    "## Vergleich zwischen Stockfish und KI\n",
    "Für den Vergleich einer Situation wird die Anzahl der Züge zwischen Stockfish und der selbst geschriebenen KI miteinander verglichen. Eine geringere Anzahl ist hierbei besser."
   ]
  },
  {
   "cell_type": "markdown",
   "metadata": {
    "pycharm": {
     "name": "#%% md\n"
    }
   },
   "source": [
    "### Berechnung der Zuglisten\n",
    "Um die Anzahl der benötigten Züge zu bestimmen, muss eine Liste angelegt werden, welche Züge durchgeführt werden. Dafür muss immer ein optimaler Zug bestimmt werden.\n",
    "Diese Aufgabe wird von der Funktion ``find_next_move`` erfüllt. Diese berechnet für eine übergebene FEN (``fen``) den idealen Spielzug. Für die Berechnung wird der ``s_index`` mitgegeben, in dem die FEN gefunden werden kann. Diese wird für die Suche in den \"gekürzten\" übergebenen $S_n$ Mengen (``s_n_sequence_short``) verwendet. Die Suche findet mithilfe der bereits definierten Funktion ``find_situation_in_sequence`` statt.\n",
    "\n",
    "Die Züge werden wie folgt bestimmt:\n",
    "- `Stockfish`: Für sowohl schwarz als auch für weiß, werden die Züge mit der Funktion ``Stockfish().get_best_move()`` bestimmt.\n",
    "- `KI`: Für Weiß werden die Züge anhand der $S_n$ Mengen bestimmt, die schwarzen Züge werden mit der Funktion ``Stockfish().get_best_move()`` gewählt.\n",
    "\n",
    "Ein gegnerischer Spieler macht nicht immer einen im Sinne der KI optimalen Zug, und das Auswählen zufälliger Züge entspräche einem unerfahrenen Spieler. Um die Effizienz der KI gegen einen guten Spieler zu demonstrieren werden die Züge von Schwarz beim Bestimmen der Zuganzahl von Stockfish übernommen. Aus demselben Grund spielt Stockfish beim Bestimmen der Engine-Anzahl an Zügen in der folgenden Funktion `stockfish_movelist` gegen sich selbst. \n",
    "\n",
    "Die Funktion liefert als Rückgabewert den besten Zug ``move`` und der neue ``s_index``, welcher beschreibt, in welcher $S_n$ Menge die Spielsituation zu finden ist."
   ]
  },
  {
   "cell_type": "code",
   "execution_count": null,
   "metadata": {
    "pycharm": {
     "name": "#%%\n"
    }
   },
   "outputs": [],
   "source": [
    "def find_next_move(fen, s_index, s_n_sequence_short):\n",
    "    STOCKFISH.set_fen_position(fen)\n",
    "    curr_board = chess.Board(fen)\n",
    "    if curr_board.turn:\n",
    "        if VERBOSE:\n",
    "            print(\"---White:---\")\n",
    "            print(\"Starting in S\" + str(s_index))\n",
    "        for move in curr_board.legal_moves:\n",
    "            curr_board.push(move)\n",
    "            cur_fen = curr_board.fen()\n",
    "            _tmp = find_situation_in_sequence(get_board_and_turn(cur_fen), [s_n_sequence_short[s_index - 1]])\n",
    "            s_index_tmp = s_index - 1\n",
    "            if _tmp != -1:\n",
    "                if VERBOSE:\n",
    "                    print(\"    Move: \" + str(move))\n",
    "                    print(\"    S\" + str(s_index_tmp))\n",
    "                    print(\"Ended in S\" + str(s_index))\n",
    "                curr_board.pop()\n",
    "                return s_index_tmp, move\n",
    "            curr_board.pop()\n",
    "\n",
    "        return -1, None\n",
    "    else:\n",
    "        if VERBOSE:\n",
    "            print(\"---Black:---\")\n",
    "            print(\"Starting in S\" + str(s_index))\n",
    "        move = chess.Move.from_uci(STOCKFISH.get_best_move())\n",
    "        curr_board.push(move)\n",
    "        cur_fen = curr_board.fen()\n",
    "        s_index = find_situation_in_sequence(get_board_and_turn(cur_fen), s_n_sequence_short[:s_index])\n",
    "        if VERBOSE:\n",
    "            print(\"    Move: \" + str(move))\n",
    "            print(\"    S\" + str(s_index))\n",
    "            print(\"Ended in S\" + str(s_index))\n",
    "        curr_board.pop()\n",
    "        return s_index, move"
   ]
  },
  {
   "cell_type": "markdown",
   "metadata": {
    "pycharm": {
     "name": "#%% md\n"
    }
   },
   "source": [
    "Bei der Berechnung der Züge für die KI wird die Funktion ``calculate_all_moves`` verwendet. Diese berechnet in einer Schleife alle Moves ausgehend von einer FEN, bis die KI gewonnen hat. Die Berechnung verwendet hierzu die FEN der Spielsituation (``fen``) und die Liste der gekürzten $S_n$ Mengen (``s_n_sequence_short``). Mithilfe von diesen Parametern wird eine Liste von Zügen bestimmt, in der die Partie zwischen Stockfish und der selbst geschriebenen KI beendet wurde."
   ]
  },
  {
   "cell_type": "code",
   "execution_count": null,
   "metadata": {
    "pycharm": {
     "name": "#%%\n"
    }
   },
   "outputs": [],
   "source": [
    "def calculate_all_moves(fen, s_n_sequence_short):\n",
    "    moves = []\n",
    "\n",
    "    s_index = find_situation_in_sequence(get_board_and_turn(fen), s_n_sequence_short)\n",
    "\n",
    "    board = chess.Board(fen)\n",
    "    while s_index > 0:\n",
    "        cur_fen = board.fen()\n",
    "        s_index, next_move = find_next_move(cur_fen, s_index, s_n_sequence_short)\n",
    "        board.push(next_move)\n",
    "        moves.append(next_move)\n",
    "\n",
    "    if s_index == -1:\n",
    "        return None\n",
    "\n",
    "    return moves"
   ]
  },
  {
   "cell_type": "markdown",
   "metadata": {
    "pycharm": {
     "name": "#%% md\n"
    }
   },
   "source": [
    "Nachdem eine Liste aller Züge für die KI bestimmt wurden, gilt dies gleichermaßen für die Berechnung von Stockfish umzusetzen. Hierfür erhält die Funktion ``stockfish_movelist`` eine ``fen`` mit der aktuellen Spielsituation. In der Funktion bestimmt Stockfish solange die bestmöglichen Züge, bis die Partie beendet worden ist. Diese Liste von Zügen wird am Ende der Funktion zurückgegeben."
   ]
  },
  {
   "cell_type": "code",
   "execution_count": null,
   "metadata": {
    "pycharm": {
     "name": "#%%\n"
    }
   },
   "outputs": [],
   "source": [
    "def stockfish_movelist(fen):\n",
    "    moves = []\n",
    "\n",
    "    board = chess.Board(fen)\n",
    "\n",
    "    while not board.is_game_over():\n",
    "        STOCKFISH.set_fen_position(board.fen())\n",
    "        next_move = chess.Move.from_uci(STOCKFISH.get_best_move())\n",
    "        board.push(next_move)\n",
    "        moves.append(next_move)\n",
    "\n",
    "    return moves\n"
   ]
  },
  {
   "cell_type": "markdown",
   "metadata": {},
   "source": [
    "### Hilfsfunktionen für den Vergleich\n",
    "\n",
    "Der Vergleich zwischen der Stockfish Engine und der KI basiert auf der Anzahl der Züge, bis weiß das Spiel gewonnen hat. \n",
    "Hierfür werden drei Hilfsfunktionen definiert, die für den Vergleich benötigt werden.\n",
    "\n",
    "Bei der ersten Funktion handelt es sich um ``compare_move_list``. Diese erhält eine Liste von 3-Tupeln(``move_count_list``), die als ersten Wert die Anzahl der Züge der KI beinhaltet und als zweiten Wert die Anzahl der Züge, die Stockfish zum Beenden der Partie benötigt hat. Der dritte Wert stellt die Differenz zwischen den beiden Anzahlen dar.\n",
    "\n",
    "Als Ergebnis liefert die Funktion drei Werte zurück, die ein erstes Abbild für die Performanz der KI darstellen. Der erste Wert ist die Anzahl der Spielsituationen, bei denen Stockfish und die KI gleich viele Züge benötigt haben (``equal``). Der zweite Wert ist die Anzahl der Spiele, bei denen die KI weniger Züge benötigt hat (``ki_better``) und der letzte Werte die Anzahl der Spiele, in der Stockish weniger Züge benötigt hat (``stockfish_better``)."
   ]
  },
  {
   "cell_type": "code",
   "execution_count": null,
   "metadata": {},
   "outputs": [],
   "source": [
    "def compare_move_lists(move_count_list):\n",
    "    equal = 0\n",
    "    ki_better = 0\n",
    "    stockfish_better = 0\n",
    "    for ki_move, stock_move, diff in move_count_list:\n",
    "        if diff == 0:\n",
    "            equal += 1\n",
    "        elif diff < 0:\n",
    "            ki_better += 1\n",
    "        else:\n",
    "            stockfish_better += 1\n",
    "    return equal, ki_better, stockfish_better"
   ]
  },
  {
   "cell_type": "markdown",
   "metadata": {},
   "source": [
    "Diese Werte können nun weiter genutzt werden, indem neben der Anzahl der Ergebnisse auch der Grad des Unterschieds bestimmt wird. Hierfür wurde die Funktion ``get_average_difference`` definiert. Diese nutzt ebenfalls die Liste von 3-Tupeln (``move_count_list``) als Input. Die Funktion berechnet aus dieser Liste die durchschnittliche Prozentzahl an Zügen, welche von Stockfish oder der KI weniger benötigt werden. Diese werden für sowohl die KI(``avg_ki_better``), als auch für Stockfish zurückgegeben(``avg_stock_better``)."
   ]
  },
  {
   "cell_type": "code",
   "execution_count": null,
   "metadata": {},
   "outputs": [],
   "source": [
    "def get_average_difference(move_count_list):\n",
    "    percentual_ki = []\n",
    "    percentual_stock = []\n",
    "    avg_ki_better = 0\n",
    "    avg_stock_better = 0\n",
    "    for ki_move, stock_move, diff in move_count_list:\n",
    "        if diff < 0:\n",
    "            percentual_ki.append(round(1 - (ki_move / stock_move), 4))\n",
    "        elif diff > 0:\n",
    "            percentual_stock.append(round(1 - (stock_move / ki_move), 4))\n",
    "    if len(percentual_ki) != 0:\n",
    "        avg_ki_better = sum(percentual_ki) / len(percentual_ki)\n",
    "    if len(percentual_stock) != 0:\n",
    "        avg_stock_better = sum(percentual_stock) / len(percentual_stock)\n",
    "    return avg_ki_better, avg_stock_better"
   ]
  },
  {
   "cell_type": "markdown",
   "metadata": {},
   "source": [
    "Die Ergebnisse des Vergleichs sollen abschließend in einer Datei gespeichert werden. Dies hat den Grund, dass bei einer großen Anzahl von $S_n$ Mengen die Auswertung nicht in einem unübersichtlichen Konsolenfenster durchgeführt werden muss und man die Ergebnisse mehrfach betrachten kann. \n",
    "Hierfür wird die Funktion ``write_result_to_file`` definiert. Diese berechnet zunächst mit der ``move_count_list`` die Ergebnisse des Vergleichs. Hierzu werden die zuvor definierten Funktionen ``compare_move_lists`` und ``get_average_difference`` aufgerufen. Außerdem werden die prozentualen Ergebnisse, welche Engine/KI das Problem besser gelöst hat, innerhalb dieser Funktion berechnet. Die Ergebnisse werden letztendlich in die Datei mit dem Namen ``filename``.txt in den Ordner ``Tests`` geschrieben. Zur Übersicht wird ein ``sequence_index`` mitgegeben werden, der eine Unterscheidung der Tests ermöglicht."
   ]
  },
  {
   "cell_type": "code",
   "execution_count": null,
   "metadata": {},
   "outputs": [],
   "source": [
    "def write_result_to_file(filename, sequence_index, move_count_list):\n",
    "    equal, ki_better, stockfish_better = compare_move_lists(move_count_list)\n",
    "    avg_ki_better, avg_stock_better = get_average_difference(move_count_list)\n",
    "    count = ki_better + stockfish_better + equal\n",
    "    f = open(\"Tests/\" + filename + \".txt\", \"a+\")\n",
    "    f.write(\"S_\" + str(sequence_index) + \":\\n\")\n",
    "    f.write(\"Stockfish war zu \" + str(round((stockfish_better / count) * 100, 2)) + \"% besser.\\n\")\n",
    "    f.write(\"Die KI war zu \" + str(round((ki_better / count) * 100, 2)) + \"% besser.\\n\")\n",
    "    f.write(\"Stockfish und die KI haben zu \" + str(\n",
    "        round((equal / count) * 100, 2)) + \"% die gleichen Ergebnisse erzielt.\\n\")\n",
    "    f.write(\"Sofern die KI besser war, hat sie durchschnittlich \" + str(\n",
    "        round(avg_ki_better * 100, 2)) + \"% weniger Züge benötigt.\\n\")\n",
    "    f.write(\"Sofern Stockfish besser war, hat sie durchschnittlich \" + str(\n",
    "        round(avg_stock_better * 100, 2)) + \"% weniger Züge benötigt.\\n\")\n",
    "    f.close()"
   ]
  },
  {
   "cell_type": "markdown",
   "metadata": {},
   "source": [
    "### Implementierung der Testszenarien\n",
    "In diesem Abschnitt werden die zuvor definierten Testszenarien implementiert. Diese erhalten eine Liste der $S_n$ Mengen mit der verkürzten FEN Schreibweise (``s_n_sequence_short``) oder die Liste der $S_n$ Mengen mit der vollständigen FEN Schreibweise (``s_n_sequence_fen``). Diese werden für die Berechnungen der Züge für die KI benötigt und müssen deshalb in mindestens einer Form für die Funktion vorliegen. \n",
    "\n",
    "Das erste Testszenario sieht die Überprüfung eines Spielszenarios vor (``fen``). Dies geschieht in der Funktion ``compare_fen_stockfish``. Das Ergebnis wird am Ende der Funktion in der Konsole ausgegeben."
   ]
  },
  {
   "cell_type": "code",
   "execution_count": null,
   "metadata": {
    "pycharm": {
     "name": "#%%\n"
    }
   },
   "outputs": [],
   "source": [
    "def compare_fen_stockfish(fen, s_n_sequence_short):\n",
    "    moves = calculate_all_moves(fen, s_n_sequence_short)\n",
    "    stockfish_moves = stockfish_movelist(fen)\n",
    "\n",
    "    if Moves is not None:\n",
    "        print(\"AI needed \" + str(len(moves)) + \" moves to beat Stockfish as Black.\")\n",
    "    else:\n",
    "        print(\"AI found no way to beat Black.\")\n",
    "\n",
    "    print(\"Stockfish needed \" + str(len(stockfish_moves)) + \" moves to win against itself.\")"
   ]
  },
  {
   "cell_type": "markdown",
   "metadata": {},
   "source": [
    "Das zweite Szenario sieht vor, eine beliebige Anzahl (``count``) zufälliger Boards zu vergleichen. Anhand der ``count``-Variable werden aus den $S_n$ Mengen zufällige Boards ausgewählt und der Vergleich zwischen der KI und Stockfish durchgeführt. Das Ergebnis wird mit ``write_result_to_file`` in einer Datei hinterlegt."
   ]
  },
  {
   "cell_type": "code",
   "execution_count": null,
   "metadata": {},
   "outputs": [],
   "source": [
    "import random\n",
    "\n",
    "\n",
    "def test_random_boards(count, s_n_sequence_fen, s_n_sequence_short):\n",
    "    count_s_n = len(s_n_sequence_fen)\n",
    "    move_count_list = []\n",
    "    for board_c in range(count):\n",
    "        rand_sequence = random.randint(0, count_s_n - 1)\n",
    "        rand_board = random.randint(0, len(s_n_sequence_fen[rand_sequence]) - 1)\n",
    "        rand_fen = list(s_n_sequence_fen[rand_sequence])[rand_board]\n",
    "        ki_moves = calculate_all_moves(rand_fen, s_n_sequence_short)\n",
    "        stockfish_moves = stockfish_movelist(rand_fen)\n",
    "        move_count = len(ki_moves)\n",
    "        cmp_move_count = len(stockfish_moves)\n",
    "        move_count_list.append(tuple((move_count, cmp_move_count, move_count - cmp_move_count)))\n",
    "        clear_output()\n",
    "        print(\"Analyzed \" + str(board_c + 1) + \"/\" + str(count))\n",
    "\n",
    "    filename = \"Random_\" + str(count) + \"_Compare_\" + str(datetime.today().replace(microsecond=0)).replace(\":\",\n",
    "                                                                                                           \"_\") + \".txt\"\n",
    "    write_result_to_file(filename, \"random\", move_count_list)"
   ]
  },
  {
   "cell_type": "markdown",
   "metadata": {},
   "source": [
    "In diesem Beispiel werden 100 zufällige Spielsituationen miteinander verglichen:"
   ]
  },
  {
   "cell_type": "code",
   "execution_count": null,
   "metadata": {},
   "outputs": [],
   "source": [
    "test_random_boards(100, S_N_Sequence_fen, S_N_Sequence_fen_short)"
   ]
  },
  {
   "cell_type": "markdown",
   "metadata": {},
   "source": [
    "Bei `compare_sequence_stockfish` wird für jedes Board einer $S_n$ Menge überprüft, ob Stockfish oder die zuvor definierten Mengen die Situation effizienter lösen. In Form des ``sequence_index`` wird das $n$ der $S_n$ Menge übergeben. Zusätzlich kann ein Name für eine Datei angegeben werden, sodass mehrere Testergebnisse in einer Datei festgehalten werden können. Das Beschreiben der Datei erfolgt mit der Funktion ``write_result_to_file``."
   ]
  },
  {
   "cell_type": "code",
   "execution_count": null,
   "metadata": {
    "pycharm": {
     "name": "#%%\n"
    }
   },
   "outputs": [],
   "source": [
    "def compare_sequence_stockfish(sequence_index, s_n_sequence_fen, s_n_sequence_short, g_filename=None):\n",
    "    s_n = s_n_sequence_fen[sequence_index]\n",
    "    move_count_list = []\n",
    "    length = len(s_n)\n",
    "    r = 0\n",
    "    for board_fen in s_n:\n",
    "        ai_moves = calculate_all_moves(board_fen, s_n_sequence_short)\n",
    "        stockfish_moves = stockfish_movelist(board_fen)\n",
    "        move_count = len(ai_moves)\n",
    "        cmp_move_count = len(stockfish_moves)\n",
    "        move_count_list.append(tuple((move_count, cmp_move_count, move_count - cmp_move_count)))\n",
    "        clear_output()\n",
    "        print(\"Comparing S_\" + str(sequence_index) + \":\")\n",
    "        print(\"Compared \" + str(r + 1) + \"/\" + str(length))\n",
    "        r += 1\n",
    "\n",
    "    if g_filename is None:\n",
    "        filename = \"S_\" + str(sequence_index) + \"_Compare_\" + str(datetime.today().replace(microsecond=0)).replace(\":\",\n",
    "                                                                                                                   \"_\") + \".txt\"\n",
    "        write_result_to_file(filename, sequence_index, move_count_list)\n",
    "    else:\n",
    "        write_result_to_file(g_filename, sequence_index, move_count_list)"
   ]
  },
  {
   "cell_type": "markdown",
   "metadata": {
    "pycharm": {
     "name": "#%% md\n"
    }
   },
   "source": [
    "Als Beispiel wird hier der Vergleich zwischen der KI und Stockfish für die Menge $S_{20}$ vorgenommen:"
   ]
  },
  {
   "cell_type": "code",
   "execution_count": null,
   "metadata": {
    "pycharm": {
     "name": "#%%\n"
    }
   },
   "outputs": [],
   "source": [
    "compare_sequence_stockfish(20, S_N_Sequence_fen, S_N_Sequence_fen_short)"
   ]
  },
  {
   "cell_type": "markdown",
   "metadata": {
    "pycharm": {
     "name": "#%% md\n"
    }
   },
   "source": [
    "Das letzte Testszenario sieht vor, alle zuvor bestimmten Boards mit dem Lösungsweg von Stockfish zu vergleichen. Hierfür geht die Funktion `compare_all_sequences` alle $S_n$ Mengen durch und vergleicht diese jeweils mit der Lösung von Stockfish. Alle Ergebnisse werden in eine Datei geschrieben."
   ]
  },
  {
   "cell_type": "code",
   "execution_count": null,
   "metadata": {
    "pycharm": {
     "name": "#%%\n"
    }
   },
   "outputs": [],
   "source": [
    "def compare_all_sequences(s_n_sequence_fen, s_n_sequence_short):\n",
    "    filename = \"All_S_Compare_\" + str(datetime.today().replace(microsecond=0)).replace(\":\", \"_\") + \".txt\"\n",
    "    for i in range(len(s_n_sequence_fen)):\n",
    "        print(\"Comparing S_\" + str(i) + \"...\")\n",
    "        compare_sequence_stockfish(i, s_n_sequence_fen, s_n_sequence_short, filename)"
   ]
  },
  {
   "cell_type": "code",
   "execution_count": null,
   "metadata": {},
   "outputs": [],
   "source": [
    "compare_all_sequences(S_N_Sequence_fen, S_N_Sequence_fen_short)"
   ]
  },
  {
   "cell_type": "markdown",
   "metadata": {},
   "source": [
    "Für die visuelle Darstellung der Züge wird die Funktion ``show_movelist`` definiert. Diese zeigt auf einem ``chess.Board`` Objekt eine mitgegebene Liste von Zügen zeitverzögert an. Für die Darstellung erhält die Funktion die ``fen``, die die Spielsituation zu Beginn der Partie darstellt. Weiter muss eine Liste von Spielzügen (``moves``), die dargestellt werden sollen, der Funktion mitgegeben werden."
   ]
  },
  {
   "cell_type": "code",
   "execution_count": null,
   "metadata": {
    "pycharm": {
     "name": "#%%\n"
    }
   },
   "outputs": [],
   "source": [
    "def show_movelist(fen, moves):\n",
    "    presentation_board = chess.Board(fen)\n",
    "    display(presentation_board)\n",
    "    time.sleep(2)\n",
    "    for move in moves:\n",
    "        presentation_board.push(move)\n",
    "        clear_output(wait=True)\n",
    "        display(presentation_board)\n",
    "        time.sleep(2)\n"
   ]
  }
 ],
 "metadata": {
  "kernelspec": {
   "display_name": "Python 3 (ipykernel)",
   "language": "python",
   "name": "python3"
  },
  "language_info": {
   "codemirror_mode": {
    "name": "ipython",
    "version": 3
   },
   "file_extension": ".py",
   "mimetype": "text/x-python",
   "name": "python",
   "nbconvert_exporter": "python",
   "pygments_lexer": "ipython3",
   "version": "3.9.10"
  }
 },
 "nbformat": 4,
 "nbformat_minor": 1
}