{
 "cells": [
  {
   "cell_type": "code",
   "execution_count": null,
   "metadata": {
    "pycharm": {
     "name": "#%%\n"
    }
   },
   "outputs": [],
   "source": [
    "import chess.gaviota\n",
    "from IPython.core.display import HTML\n",
    "with open('style.html', 'r') as file:\n",
    "     css = file.read()\n",
    "HTML(css)"
   ]
  },
  {
   "cell_type": "code",
   "execution_count": null,
   "metadata": {
    "pycharm": {
     "name": "#%%\n"
    }
   },
   "outputs": [],
   "source": [
    "%run 11_imports.ipynb\n",
    "%run 12_integer_management.ipynb\n",
    "%run 13_mirroring.ipynb\n",
    "%run 14_functions.ipynb"
   ]
  },
  {
   "cell_type": "markdown",
   "metadata": {
    "pycharm": {
     "name": "#%% md\n"
    }
   },
   "source": [
    "# Überprüfen der $S_n$ Mengen\n",
    "\n",
    "Bei der Bestimmung der $S_n$ Mengen wurden alle möglichen Züge rückwärts durchgeführt.\n",
    "Damit die Retrograde Analysis erfolgreich zum Gewinnen von Endspielsituationen angewandt werden kann, muss diese Berechnung erfolgreich gewesen sein.\n",
    "Um sicherzustellen, dass die Situationen, die z. B. in $S_{10}$ zu finden sind, auch wirklich in $<=10$ Zügen beendet werden, wurden in diesem Notebook Funktionen definiert, die diesen Aspekt überprüfen. Hierfür werden zuerst die berechneten $S_n$ Mengen aus der Datei geladen und in nachkommenden Variablen gespeichert:\n",
    "* `g_piece_list`: Die Piece List, die zur Berechnung der Mengen verwendet worden ist.\n",
    "* `g_s_n_sequence` Die $S_n$-Mengen mit sowohl einzigartigen, als auch gespiegelten Stellungen."
   ]
  },
  {
   "cell_type": "code",
   "execution_count": null,
   "metadata": {
    "pycharm": {
     "name": "#%%\n"
    }
   },
   "outputs": [],
   "source": [
    "%%time\n",
    "g_piece_list, g_s_n_sequence = load_data(\"queen_03_06\")\n",
    "print(\"Read File\")\n",
    "g_s_n_sequence = gen_all_integers(g_s_n_sequence, g_piece_list)"
   ]
  },
  {
   "cell_type": "markdown",
   "metadata": {
    "pycharm": {
     "name": "#%% md\n"
    }
   },
   "source": [
    "Die erste Funktion zur Überprüfung, ist ``int_in_lower_sequence(board_int, sequence, sequence_index)``. Diese überprüft für ein mitgegebenes Spielbrett in Integer-Repräsentation (``board_int``), ob diese in einer $S_n$ Menge liegt, für die gilt:\n",
    "$$\n",
    "\\mathtt{n} < \\mathtt{sequence\\_index}\n",
    "$$\n",
    "\n",
    "Hierbei stellen die möglichen $S_n$-Mengen die Kombination aus den Parametern `sequence` und `sequence_index` dar ($S_n$ =  `sequence[sequence_index]`).\n",
    "\n",
    "Die Funktion gibt hierfür einen booleschen Wert zurück."
   ]
  },
  {
   "cell_type": "code",
   "execution_count": null,
   "metadata": {
    "pycharm": {
     "name": "#%%\n"
    }
   },
   "outputs": [],
   "source": [
    "def int_in_lower_sequence(board_int, sequence, sequence_index):\n",
    "    for s in sequence[:sequence_index]:\n",
    "        if board_int in s:\n",
    "            return True\n",
    "    return False"
   ]
  },
  {
   "cell_type": "markdown",
   "metadata": {
    "pycharm": {
     "name": "#%% md\n"
    }
   },
   "source": [
    "Eine weitere Überprüfung liegt darin, dass keine der Schachbretter in eine zu niedrige $S_n$ Menge eingeordnet wurde. Dies wird mit der Funktion ``every_move_of_sequence_in_lower(sequence_index, s_n_sequence)`` umgesetzt. Hierfür erhält sie einen ``sequence_index``, die für die zu überprüfende $S_n$ Menge den Index bereitstellt. Die $S_n$-Menge kann daraufhin aus dem Parameter `s_n_sequence` entnommen werden. Für jede Spielsituation wird Folgendes überprüft:\n",
    "\n",
    "$$\n",
    "\\forall \\mathtt{board} \\in \\mathtt{S_n} : \\mathtt{move} \\in \\mathtt{board.legal\\_moves} \\implies \\mathtt{board.push(move)} \\in \\mathtt{S_m} \\land m<n\n",
    "$$\n",
    "\n",
    "Als Ergebnis gibt die Funktion eine boolesche Variable zurück, die ``True`` zurückgibt, falls die Bedingung erfüllt ist, ansonsten ``False``."
   ]
  },
  {
   "cell_type": "code",
   "execution_count": null,
   "metadata": {
    "pycharm": {
     "name": "#%%\n"
    }
   },
   "outputs": [],
   "source": [
    "def every_move_of_sequence_in_lower(sequence_index):\n",
    "    print(\"Checking S_\" + str(sequence_index) + \"...\")\n",
    "    n_integers = g_s_n_sequence[sequence_index]\n",
    "    for board_int in n_integers:\n",
    "        cur_board = to_board(board_int, g_piece_list)\n",
    "        if not cur_board.turn:\n",
    "            for move in cur_board.legal_moves:\n",
    "                cur_board.push(move)\n",
    "                cur_int = to_integer(cur_board, g_piece_list)\n",
    "                cur_board.pop()\n",
    "                if not int_in_lower_sequence(cur_int, g_s_n_sequence, sequence_index):\n",
    "                    print(\"Int: \" + str(cur_int) + \" not in S lower than \" + str(sequence_index))\n",
    "                    return False\n",
    "                \n",
    "        else:\n",
    "            in_lower = False\n",
    "            for move in cur_board.legal_moves:\n",
    "                cur_board.push(move)\n",
    "                try:\n",
    "                    cur_int = to_integer(cur_board, g_piece_list)\n",
    "                    if int_in_lower_sequence(cur_int, g_s_n_sequence, sequence_index):\n",
    "                        in_lower = True\n",
    "                        cur_board.pop()\n",
    "                        break\n",
    "                except ValueError:\n",
    "                    # Catch wrong pawn conversions\n",
    "                    pass\n",
    "                cur_board.pop()\n",
    "            if not in_lower:\n",
    "                print(cur_board)\n",
    "                print(to_integer(cur_board, g_piece_list))\n",
    "                print(\"Cannot reach lower S_n\")\n",
    "                return False\n",
    "    return True"
   ]
  },
  {
   "cell_type": "markdown",
   "metadata": {
    "pycharm": {
     "name": "#%% md\n"
    }
   },
   "source": [
    "Die folgende Zelle überprüft für jede $S_n$-Menge, ob sie den zuvor beschriebenen Test besteht."
   ]
  },
  {
   "cell_type": "code",
   "execution_count": null,
   "metadata": {
    "pycharm": {
     "name": "#%%\n"
    }
   },
   "outputs": [],
   "source": [
    "for i in range(len(g_s_n_sequence)):\n",
    "    every_move_of_sequence_in_lower(i)"
   ]
  },
  {
   "cell_type": "markdown",
   "metadata": {
    "pycharm": {
     "name": "#%% md\n"
    }
   },
   "source": [
    "## Syzygy\n",
    "\n",
    "Zusätzlich zum rechnerischen Überprüfen der Ergebnisse kann eine andere Methode zum Verifizieren verwendet werden. \n",
    "Schach-Endspieldatenbanken sind keine neue Erfindung und wurden bereits von anderen Forschern entwickelt.\n",
    "Ein lang anhaltendes Projekt, welches gegenwärtig Datenbanken für Situationen mit bis zu 7 Figuren auf dem Spielfeld anbietet, ist [Syzygy](https://syzygy-tables.info/).\n",
    "Das Projekt hält zwei Datentypen für alle Spielsituationen vor:\n",
    "WDL Daten und DTZ Daten.\n",
    "\n",
    "WDL steht für Win / Draw / Loss und gibt dem Nutzer eine Information über den Wert einer Spielsituation. \n",
    "Eine Anfrage an die Datenbank mit einer Situation wird mit einem der folgenden Werte beantwortet: -2, -1, 0, 1, 2.\n",
    "Positive Werte implizieren, dass bei perfektem Spiel der aktuelle Spieler gewinnt, negative Werte bedeuten, dass der aktuelle Spieler verliert.\n",
    "Die 0 bedeutet, dass das Spiel (wenn beide Seiten perfekt spielen) in einem Unentschieden endet.\n",
    "Eine Zwei ist ein sicherer Sieg / Verlust, während eine Eins in einem Gewinn oder unentschieden mittels der 50-Zug Regel enden kann.\n",
    "\n",
    "Die Interessantere der Dateien ist die DTZ-Datei.\n",
    "DTZ steht für Distance to Zero. Die DTZ Tabelle enthält Werte von -100 bis 100. \n",
    "Positiv, Negativ und Null kann genau wie WDL interpretiert werden.\n",
    "Die Zahlen von -100 bis -1 und 1 bis 100 geben die Anzahl der Halbzüge bis zu einem Gewinn (oder Reset der 50-Züge Regel) an.\n",
    "Stetiges verringern einer positiven DTZ führt also zu einem Gewinn.\n",
    "\n",
    "Die DTZ-Zahl einer Spielsituation kann mit dem $n$ verglichen werden, in welcher Menge $S_n$ diese Situation in der `.chessAI` eingeordnet wurde.\n",
    "Stimmen diese Zahlen überein, war die Berechnung korrekt.\n",
    "\n",
    "*Hinweis: Je nach Ausführung der Syzygy-Tabellen werden halbe oder ganze Züge gespeichert, es muss daher beim Vergleich eine Toleranz von einem $n$ akzeptiert werden.*    "
   ]
  },
  {
   "cell_type": "markdown",
   "metadata": {
    "pycharm": {
     "name": "#%% md\n"
    }
   },
   "source": [
    "Die Funktion `compare_with_syzygy(syzygy)` führt den Vergleich zwischen der Endspieldaten und Syzygy durch und gibt die Anzahl falsch eingeordneter Situationen zurück.\n",
    "Sie erhält dafür ein Objekt vom Type `chess.syzygy` und die Liste von $S_n$-Mengen `s_n_sequence`.\n",
    "Als Ergebnis, gibt sie die Anzahl der falschen Situationen `total_count` zurück. "
   ]
  },
  {
   "cell_type": "code",
   "execution_count": null,
   "metadata": {
    "pycharm": {
     "name": "#%%\n"
    }
   },
   "outputs": [],
   "source": [
    "def compare_with_syzygy(syzygy):\n",
    "    total_count = 0\n",
    "    \n",
    "    for n in range(len(g_s_n_sequence)):\n",
    "        n_count = 0\n",
    "        for int in g_s_n_sequence[n]:\n",
    "            chess_board = to_board(int, g_piece_list)\n",
    "            if n != abs(syzygy.probe_dtz(chess_board)) != n + 1:\n",
    "                n_count += 1\n",
    "        print(f\"S{n}: Syzygy believes {n_count} of {len(g_s_n_sequence[n])} Situations are wrongly placed in the sequence.\")\n",
    "        total_count += n_count\n",
    "    print(f\"Syzygy believes {total_count} Situations are wrongly placed in the sequence.\")\n",
    "    return total_count"
   ]
  },
  {
   "cell_type": "markdown",
   "metadata": {
    "pycharm": {
     "name": "#%% md\n"
    }
   },
   "source": [
    "Die Syzygy-Dateien müssen sich entweder im Ordner `./syzygy` befinden oder der Pfad angepasst werden.\n",
    "Die folgende Zelle initialisiert das Objekt."
   ]
  },
  {
   "cell_type": "code",
   "execution_count": null,
   "metadata": {
    "pycharm": {
     "name": "#%%\n"
    }
   },
   "outputs": [],
   "source": [
    "syzygy = chess.syzygy.Tablebase()\n",
    "syzygy.add_directory(\"./syzygy\")"
   ]
  },
  {
   "cell_type": "markdown",
   "metadata": {
    "pycharm": {
     "name": "#%% md\n"
    }
   },
   "source": [
    "Durch einen Funktionsaufruf von `compare_with_syzygy(syzygy)` kann der Vergleich gestartet werden."
   ]
  },
  {
   "cell_type": "code",
   "execution_count": null,
   "metadata": {
    "pycharm": {
     "name": "#%%\n"
    }
   },
   "outputs": [],
   "source": [
    "compare_with_syzygy(syzygy)"
   ]
  },
  {
   "cell_type": "markdown",
   "metadata": {
    "pycharm": {
     "name": "#%% md\n"
    }
   },
   "source": [
    "## Gaviota\n",
    "\n",
    "Als Alternative für Syzygy gibt es die Gaviota Endspieltabellen.\n",
    "Diese können nach ihrer DTM Information ausgewertet werden. DTM steht hierbei für Depth to Mate und gibt an, wie viele Halbzüge eine Situation von einem Schach-Matt entfernt ist.\n",
    "Ist die Situation unentschieden, ist die DTM Null. \n",
    "Für den Vergleich der KI mit Gaviota wird die Funktion `compare_with_gaviota(gaviota)` definiert.\n",
    "Diese erhält als Parameter ein Objekt vom Typ `chess.Gaviota` und führt den Vergleich mit der globalen Liste von $S_n$ Mengen `g_s_n_sequence` durch.\n",
    "Sie gibt in der Konsole eine Auswertung aus, und liefert die Anzahl falsch zugeordneter Boards als Rückgabewert zurück."
   ]
  },
  {
   "cell_type": "code",
   "execution_count": null,
   "metadata": {
    "pycharm": {
     "name": "#%%\n"
    }
   },
   "outputs": [],
   "source": [
    "def compare_with_gaviota(gaviota):\n",
    "    total_count = 0\n",
    "    \n",
    "    for n in range(len(g_s_n_sequence)):\n",
    "        n_count = 0\n",
    "        for int_rep in g_s_n_sequence[n]:\n",
    "            chess_board = to_board(int_rep, g_piece_list)\n",
    "            if n != abs(gaviota.probe_dtm(chess_board)):\n",
    "                n_count += 1\n",
    "        print(f\"S{n}: Gaviota believes {n_count} of {len(g_s_n_sequence[n])} Situations are wrongly placed in the sequence.\")\n",
    "        total_count += n_count\n",
    "    print(f\"Gaviota believes {total_count} Situations are wrongly placed in the sequence.\")\n",
    "    return total_count\n"
   ]
  },
  {
   "cell_type": "markdown",
   "metadata": {
    "pycharm": {
     "name": "#%% md\n"
    }
   },
   "source": [
    "Die Gaviota-Dateien müssen sich entweder im Ordner `./gaviota` befinden oder der Pfad angepasst werden.\n",
    "Die folgende Zelle initialisiert das Objekt."
   ]
  },
  {
   "cell_type": "code",
   "execution_count": null,
   "metadata": {
    "pycharm": {
     "name": "#%%\n"
    }
   },
   "outputs": [],
   "source": [
    "gaviota = chess.gaviota.open_tablebase(\"./gaviota\")"
   ]
  },
  {
   "cell_type": "markdown",
   "metadata": {
    "pycharm": {
     "name": "#%% md\n"
    }
   },
   "source": [
    "Durch einen Funktionsaufruf von ``compare_with_gaviota(gaviota)`` kann der Vergleich gestartet werden"
   ]
  },
  {
   "cell_type": "code",
   "execution_count": null,
   "metadata": {
    "pycharm": {
     "name": "#%%\n"
    }
   },
   "outputs": [],
   "source": [
    "compare_with_gaviota(gaviota)"
   ]
  },
  {
   "cell_type": "markdown",
   "metadata": {
    "pycharm": {
     "name": "#%% md\n"
    }
   },
   "source": [
    "## Matching Rate\n",
    "Eine weitere Betrachtung, welche über die Qualität der berechneten $S_n$ Mengen Auskunft gibt, ist der Anteil der Situationen, die mit den $S_n$-Mengen abgedeckt werden.\n",
    "Für diesen Vergleich werden alle validen Stellungen mit den angegebenen Figuren betrachtet, und überprüft wie viele davon sich in einer $S_n$ Menge befinden.\n",
    "Da nicht alle Stellungen zu einem Sieg geführt werden können, werden die zuvor erklärten Gaviota-Tabellen verwendet, um unentschiedene Situationen herauszufiltern.\n",
    "Diese werden für den Anteil nicht beachtet."
   ]
  },
  {
   "cell_type": "markdown",
   "metadata": {
    "pycharm": {
     "name": "#%% md\n"
    }
   },
   "source": [
    "Zunächst werden globale Variablen für den Vergleich definiert:\n",
    "* `g_total`: Ein Integer, der die Anzahl aller möglichen validen Spielsituationen darstellt.\n",
    "* `g_not_matched`: Ein Integer, der die Anzahl an nicht zugeordneten Spielsituationen darstellt.\n",
    "* `g_all_boards`: Eine Menge von Integer-Repräsentationen, die im Rahmen der $S_n$-Berechnung bestimmt worden sind."
   ]
  },
  {
   "cell_type": "code",
   "execution_count": null,
   "metadata": {
    "pycharm": {
     "name": "#%%\n"
    }
   },
   "outputs": [],
   "source": [
    "g_total = 0\n",
    "g_not_matched = 0\n",
    "g_all_boards = set()"
   ]
  },
  {
   "cell_type": "markdown",
   "metadata": {
    "pycharm": {
     "name": "#%% md\n"
    }
   },
   "source": [
    "Anschließend wird die Funktion `fill_boards_with_piece(int_boards_set, piece, cur_piece_list, total, not_matched)`, welche bereits im Notebook `02_calculation_backend.ipynb` erklärt wurde, angepasst.\n",
    "Diese Version fügt für Stellungen, welche alle Figuren beinhalten, zusätzlich einen Vergleich durch, ob sich die Integer-Repräsentation in der globalen Variable `g_all_boards` befindet.\n",
    "Diese enthält alle Stellungen.\n",
    "Ist dies nicht der Fall, wird überprüft, ob Gaviota einen DTM-Wert, welcher nicht 0 ist liefert.\n",
    "Ist dies der Fall, zählt das Board als nicht eingeordnet und deutet auf einen Fehler der Berechnung hin."
   ]
  },
  {
   "cell_type": "code",
   "execution_count": null,
   "metadata": {
    "pycharm": {
     "name": "#%%\n"
    }
   },
   "outputs": [],
   "source": [
    "def fill_boards_with_piece(int_boards_set, piece, cur_piece_list, total, not_matched):\n",
    "    finished_boards = set()\n",
    "    all_squares = set(range(64))\n",
    "    piece_count = len(g_piece_list)\n",
    "    for int_board in int_boards_set:\n",
    "        board_o = to_board(int_board, cur_piece_list)\n",
    "        used_squares = set(board_o.piece_map().keys())\n",
    "        for square in all_squares:\n",
    "            if square not in used_squares:\n",
    "                tmp_piece_list = cur_piece_list.copy()\n",
    "                board_object = board_o.copy()\n",
    "                board_object.set_piece_at(square, piece)\n",
    "                tmp_piece_list.append(piece)\n",
    "                board_int = to_integer(board_object, tmp_piece_list)\n",
    "                if len(used_squares) > 1 and not board_object.is_valid():\n",
    "                    continue\n",
    "\n",
    "                if len(used_squares) + 1 < piece_count: #Board is valid, but needs more pieces\n",
    "                    finished_boards.add(board_int)\n",
    "                    continue\n",
    "                \n",
    "                total += 1\n",
    "                if board_int not in g_all_boards:\n",
    "                    if gaviota.probe_dtm(board_object) != 0: #0 is a draw and not thus relevant for this check\n",
    "                        not_matched += 1\n",
    "                    \n",
    "    return finished_boards, total, not_matched\n"
   ]
  },
  {
   "cell_type": "markdown",
   "metadata": {
    "pycharm": {
     "name": "#%% md\n"
    }
   },
   "source": [
    "Die Funktion `matchrate_for_player(turn)` bestimmt die Abweichungen für den im Parameter `turn` übergebenen Spieler.\n",
    "Da eine Stellung sich unterscheidet, abhängig welcher Spieler am Zug ist, müssen diese Rechnungen für beide Spieler durchgeführt werden.\n",
    "Die Funktion baut sich wie die bereits in `02_calculation_backend.ipynb` erklärte Funktion `calculate_s0` auf."
   ]
  },
  {
   "cell_type": "code",
   "execution_count": null,
   "metadata": {
    "pycharm": {
     "name": "#%%\n"
    }
   },
   "outputs": [],
   "source": [
    "def matchrate_for_player(turn):\n",
    "    global g_piece_list, g_total, g_not_matched\n",
    "\n",
    "    boards = set()\n",
    "    empty_board = chess.Board(None)\n",
    "    empty_board.turn = turn\n",
    "    tmp_piece_list = []\n",
    "    boards.add(to_integer(empty_board, tmp_piece_list))\n",
    "    \n",
    "    total = 0\n",
    "    not_matched = 0\n",
    "   \n",
    "    for piece in g_piece_list:\n",
    "        boards, total, not_matched = fill_boards_with_piece(boards, piece, tmp_piece_list, total, not_matched)\n",
    "        tmp_piece_list.append(piece)\n",
    "    \n",
    "    g_total += total\n",
    "    g_not_matched += not_matched"
   ]
  },
  {
   "cell_type": "markdown",
   "metadata": {
    "pycharm": {
     "name": "#%% md\n"
    }
   },
   "source": [
    "Die Funktion `matchrate()` führt die Rechnung für beide Spieler durch und gibt die Matchrate als Konsolenausgabe zurück."
   ]
  },
  {
   "cell_type": "code",
   "execution_count": null,
   "metadata": {
    "pycharm": {
     "name": "#%%\n"
    }
   },
   "outputs": [],
   "source": [
    "def matchrate():\n",
    "    matchrate_for_player(chess.WHITE)\n",
    "    matchrate_for_player(chess.BLACK)\n",
    "    percentage = (g_total - g_not_matched) / g_total * 100\n",
    "    print(\"Matching Rate:\" + str(percentage) + \"%\")"
   ]
  },
  {
   "cell_type": "markdown",
   "metadata": {
    "pycharm": {
     "name": "#%% md\n"
    }
   },
   "source": [
    "Die folgende Zelle füllt die Variable `g_all_boards` und führt die Rechnung durch. "
   ]
  },
  {
   "cell_type": "code",
   "execution_count": null,
   "metadata": {
    "pycharm": {
     "name": "#%%\n"
    }
   },
   "outputs": [],
   "source": [
    "g_all_boards = set.union(*g_s_n_sequence)\n",
    "matchrate()"
   ]
  },
  {
   "cell_type": "markdown",
   "metadata": {
    "pycharm": {
     "name": "#%% md\n"
    }
   },
   "source": [
    "## Ergebnis der Validierung\n",
    "\n",
    "Durch Nutzung dieses Notebooks kann festgestellt werden, dass die Endspieldaten für alle Situationen ohne Bauern optimal sind. Es werden 100% der gewinnbaren Situationen abgedeckt (`matching rate`). Die Genauigkeit (Züge zum Sieg) sind gleich zu den Endspieldaten von Syzygy und Gaviota.\n",
    "\n",
    "Eine Besonderheit lässt sich beim Vergleich des Syzygy Tests mit dem Gaviota Test erkennen. Ab $S_2$ betrachtet Syzygy in der Situation \"König gegen König und zwei Läufer\" alle Situationen als falsch eingeordnet. Da Situationen aus $S_3$ jedoch in drei Halbzügen zum Sieg geführt werden können, ist diese Information offensichtlich falsch. Dieses Phänomen wurde nicht genauer untersucht und stattdessen der Vergleich mit Gaviota bevorzugt.\n",
    "\n",
    "Der Sonderfall König, König Bauer, welcher als Einziger eine Änderung der Figuren auf dem Spielfeld enthält, kann von diesem Notebook nicht komplett validiert werden. Da die Spielzüge nach einer Wandlung des Bauern zur Dame optimal berechnet sind, wurde dieses Notebook nicht angepasst, um die Schritte des Bauern bis zur Umwandlung zu validieren.\n"
   ]
  }
 ],
 "metadata": {
  "deepnote": {},
  "deepnote_execution_queue": [],
  "deepnote_notebook_id": "c0d8ccfa-ab76-4e6a-a6ac-5e86ac83d6bd",
  "kernelspec": {
   "display_name": "Python 3 (ipykernel)",
   "language": "python",
   "name": "python3"
  },
  "language_info": {
   "codemirror_mode": {
    "name": "ipython",
    "version": 3
   },
   "file_extension": ".py",
   "mimetype": "text/x-python",
   "name": "python",
   "nbconvert_exporter": "python",
   "pygments_lexer": "ipython3",
   "version": "3.10.2"
  }
 },
 "nbformat": 4,
 "nbformat_minor": 1
}
