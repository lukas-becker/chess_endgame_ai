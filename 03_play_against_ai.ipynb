{
 "cells": [
  {
   "cell_type": "code",
   "execution_count": null,
   "metadata": {
    "pycharm": {
     "name": "#%%\n"
    }
   },
   "outputs": [],
   "source": [
    "from IPython.core.display import HTML, Javascript\n",
    "with open('style.html', 'r') as file:\n",
    "     css = file.read()\n",
    "HTML(css)"
   ]
  },
  {
   "cell_type": "code",
   "execution_count": null,
   "metadata": {
    "pycharm": {
     "name": "#%%\n"
    }
   },
   "outputs": [],
   "source": [
    "%run Util/00_imports.ipynb\n",
    "%run Util/01_functions.ipynb"
   ]
  },
  {
   "cell_type": "markdown",
   "metadata": {
    "pycharm": {
     "name": "#%% md\n"
    }
   },
   "source": [
    "# Spielen gegen die KI\n",
    "\n",
    "> TODO: Referenzen richtig setzen"
   ]
  },
  {
   "cell_type": "markdown",
   "metadata": {
    "pycharm": {
     "name": "#%% md\n"
    }
   },
   "source": [
    "## Vom Nutzer zu tätigende Einstellungen\n",
    "Zur Erstellung eines individuellen Spielfeldes werden Dictionaries verwendet. Diese verwenden jeweils als `key` die Figur, \n",
    "die auf dem Spielfeld platziert werden soll. Als `value` nutzen die Einträge jeweils eine Liste, \n",
    "die vom Nutzer mit den String-Bezeichnern der Felder gefüllt werden sollen, auf denen die jeweilige Figur steht.\n",
    "Die Bezeichner\n",
    "\n",
    "> TODO: Welche Bezeichner sind gemeint? Von Spielfeldern?\n",
    "\n",
    "folgen hierbei dem Format, welches in Notebook `01_chess_introduction` erklärt wurde.\n",
    "\n",
    "> TODO: Mögliche Formatierung der Beschreibung der globalen Variablen"
   ]
  },
  {
   "cell_type": "code",
   "execution_count": null,
   "metadata": {
    "pycharm": {
     "name": "#%%\n"
    }
   },
   "outputs": [],
   "source": [
    "WHITE_POSITIONS = {chess.KING:['e1'],\n",
    "                   chess.QUEEN:['a6'],\n",
    "                   chess.ROOK:[],\n",
    "                   chess.BISHOP:[],\n",
    "                   chess.KNIGHT:[],\n",
    "                   chess.PAWN:[]}\n",
    "\n",
    "BLACK_POSITIONS = {chess.KING:['e7'],\n",
    "                   chess.QUEEN:[],\n",
    "                   chess.ROOK:[],\n",
    "                   chess.BISHOP:[],\n",
    "                   chess.KNIGHT:[],\n",
    "                   chess.PAWN:[]}"
   ]
  },
  {
   "cell_type": "markdown",
   "metadata": {
    "pycharm": {
     "name": "#%% md\n"
    }
   },
   "source": [
    "Weiter muss der Nutzer angeben, welche vorher berechnete Spielsituation er laden möchte.\n",
    "Hierfür muss der Dateiname in einer globalen Variable (ohne Dateiendung `.chessAI`) angegeben werden.\n",
    "\n",
    "> TODO: Sagen, dass diese in FILE gespeichert wird. Außerdem angeben wo die bezeichnete Datei liegt."
   ]
  },
  {
   "cell_type": "code",
   "execution_count": null,
   "metadata": {
    "pycharm": {
     "name": "#%%\n"
    }
   },
   "outputs": [],
   "source": [
    "FILE = \"S_n_seq_queen_07_05\""
   ]
  },
  {
   "cell_type": "markdown",
   "metadata": {
    "pycharm": {
     "name": "#%% md\n"
    }
   },
   "source": [
    "## Logik für die Interaktion mit der Spielsituation\n",
    "Im folgenden Abschnitt sollen einige Hilfsfunktionen erklärt werden, welche für die Interaktion zwischen dem Nutzer über ein Jupyter Notebook und \n",
    "der Spielsituation benötigt werden.  \n",
    "\n",
    "Die Funktion `get_occupied_cells()` übersetzt die zuvor erstellten und vom Nutzer veränderten `Position-Dictionaries` in eine Liste, die alle ``values`` der\n",
    "Dictionaries, also besetzte Felder enthält. Diese Liste wird benötigt, um zu überprüfen, ob die Eingaben des Nutzers korrekte Zellen sind. "
   ]
  },
  {
   "cell_type": "code",
   "execution_count": null,
   "metadata": {
    "pycharm": {
     "name": "#%%\n"
    }
   },
   "outputs": [],
   "source": [
    "def get_occupied_cells():\n",
    "    cells = []\n",
    "    for values in WHITE_POSITIONS.values():\n",
    "        for value in values:\n",
    "            cells.append(value)\n",
    "    for values in BLACK_POSITIONS.values():\n",
    "        for value in values:\n",
    "            cells.append(value)\n",
    "    return cells"
   ]
  },
  {
   "cell_type": "markdown",
   "metadata": {
    "pycharm": {
     "name": "#%% md\n"
    }
   },
   "source": [
    "Mit der Information von der vorherigen Funktion übernimmt die Funktion `check_for_correct_cells()` die Überprüfung. \n",
    "Hierzu wird jeder Wert in den eingegebenen Feldern in den Dictionaries `WHITE_POSITIONS` und `BLACK_POSITIONS` auf Einhaltung\n",
    "eines regulären Ausdrucks, welcher auf eine Kombination aus Buchstabe und Zahl überprüft. \n",
    "Das Ergebnis wird in Form eines booleschen Werts zurückgegeben.\n",
    "\n",
    "> TODO: Regulären Ausdruck erklären? Bzw. nicht so offen lassen?"
   ]
  },
  {
   "cell_type": "code",
   "execution_count": null,
   "metadata": {
    "pycharm": {
     "name": "#%%\n"
    }
   },
   "outputs": [],
   "source": [
    "def check_for_correct_cells():\n",
    "    cells = get_occupied_cells()\n",
    "    for cell in cells:\n",
    "        x = re.search(\"[a-h][1-8]\", cell)\n",
    "        if x is None:\n",
    "            print(cell)\n",
    "            print(\"Value incorrect!\")\n",
    "            return False\n",
    "        else:\n",
    "            pass\n",
    "    return True"
   ]
  },
  {
   "cell_type": "markdown",
   "metadata": {
    "pycharm": {
     "name": "#%% md\n"
    }
   },
   "source": [
    "Bevor die Figuren dem Objekt hinzugefügt werden, werden sie in einem Dictionary gesammelt, welches als `Piece-Map` verwendet wird.\n",
    "\n",
    "Die Funktion `collect_cells(color, pieces)` erstellt aus einem Booleschen-Wert für die Spielerfarbe und einem Dictionary mit\n",
    "Figuren und Spielfeldern eine Liste mit `Piece` \n",
    "Objekten, welche als Index den Index des Spielfeldes verwendet. Diese Liste entspricht dem Format, mit welchem Formationen von der Bibliothek geladen werden können.  \n",
    "\n",
    "> TODO: Nochmal explizit angeben, dass dieses Dictionary Rückgabewert ist\n",
    "> TODO: Mit wird aus dem Lesen nicht direkt klar, wie pieces aussieht\n",
    "> TODO: Wird wirklich eine Liste generiert? Kein Dictionary?"
   ]
  },
  {
   "cell_type": "code",
   "execution_count": null,
   "metadata": {
    "pycharm": {
     "name": "#%%\n"
    }
   },
   "outputs": [],
   "source": [
    "def collect_cells(color, pieces):\n",
    "    occupied_cells = {}\n",
    "    for piece_type, values in pieces:\n",
    "            piece = chess.Piece(piece_type, color)\n",
    "            for value in values:\n",
    "                square = chess.parse_square(value)\n",
    "                occupied_cells[square] = piece\n",
    "            \n",
    "    return occupied_cells"
   ]
  },
  {
   "cell_type": "markdown",
   "metadata": {
    "pycharm": {
     "name": "#%% md\n"
    }
   },
   "source": [
    "Die Funktion `create_board()` füllt das Schachbrett letztlich mit den Figuren, die in den Dictionaries angegeben wurden. Als\n",
    "Rückgabewert gibt die Funktion das gefüllte Schachbrett als Objekt der `chess` Library zurück.\n",
    "Hierzu werden die vorherigen Funktionen verwendet, um die `Piece-Map` zu erstellen, diese \n",
    "auf das Board-Objekt angewandt und auf Validität überprüft.\n",
    "Ist das Board nicht valide, wird ein Fehler ausgegeben.\n",
    "\n",
    "Ein Problem, welches in Spielsituationen mit dem Turm auftritt, ist die Berechtigung zu einer Rochade.\n",
    "Damit das Board als valide anerkannt wird, werden die entsprechenden Flags mit der Funktion\n",
    "`clean_castling_rights` korrekt gesetzt.\n",
    "\n",
    "> TODO: Was ist mit \"korrekt gesetzt\" gemeint?\n",
    "> TODO: Problem entweder vor Funktionsdefinition schreiben oder nach Codezelle, dass Bezug nicht verloren geht"
   ]
  },
  {
   "cell_type": "code",
   "execution_count": null,
   "metadata": {
    "pycharm": {
     "name": "#%%\n"
    }
   },
   "outputs": [],
   "source": [
    "def create_board():\n",
    "    local_board = chess.Board()\n",
    "    occupied_cells = {}\n",
    "    if check_for_correct_cells():\n",
    "        occupied_cells |= collect_cells(chess.WHITE, WHITE_POSITIONS.items())\n",
    "        occupied_cells |= collect_cells(chess.BLACK, BLACK_POSITIONS.items())\n",
    "\n",
    "        local_board.set_piece_map(occupied_cells)\n",
    "        local_board.castling_rights = local_board.clean_castling_rights()\n",
    "        \n",
    "        # Herausfinden, weshalb momentan angegebenes Board invalid ist\n",
    "        if not local_board.is_valid():\n",
    "            display(local_board)\n",
    "            print(\"Specified lineup is invalid\")\n",
    "            print(\"Default board created instead\")\n",
    "            local_board = chess.Board()\n",
    "    return local_board"
   ]
  },
  {
   "cell_type": "markdown",
   "metadata": {
    "pycharm": {
     "name": "#%% md\n"
    }
   },
   "source": [
    "## Import der Daten\n",
    "\n",
    "Für die Bestimmung der Züge der KI werden die $S_n$ Mengen verwendet, die im Notebook ``calculation.ipynb`` berechnet werden.   \n",
    "Eine Erklärung worum es sich hierbei handelt, findet sich in diesem Notebook.\n",
    "Die Ergebnisse der Berechnung werden mittels `pickle` serialisiert und in einer ZIP-Datei komprimiert abgespeichert. Zur Verwendung wird das Archiv entpackt und \n",
    "die Liste deserialisiert. \n",
    "Weitere Informationen zum Inhalt der Datei befinden sich ebenfalls im Notebook ``calculation.ipynb``.   \n",
    "\n",
    "Die Funktion `load_s_n_sequence(filename)` erhält den Dateinamen (``filename``) als Parameter und gibt die Endspieldaten zurück.\n",
    "\n",
    "> TODO: Pfadnamen ist doch hier die falsche Beschreibung, oder? Und wenn Pfad, dann sagen, ob absolut oder relativ\n",
    "> TODO: Rückgabewert beschreiben"
   ]
  },
  {
   "cell_type": "code",
   "execution_count": null,
   "metadata": {
    "pycharm": {
     "name": "#%%\n"
    }
   },
   "outputs": [],
   "source": [
    "def load_data(filename):\n",
    "    s_n_sequence_integers = []\n",
    "    with ZipFile(\"S_n_Results/\" + filename + \".chessAI\") as zipped:\n",
    "        with zipped.open(filename + \".pickle\") as calculation:\n",
    "            tmp = pickle.loads(calculation.read())\n",
    "            piece_list = tmp[0]\n",
    "            for item in tmp[1:]:\n",
    "                s_n_sequence_integers.append(item)\n",
    "    return piece_list, s_n_sequence_integers"
   ]
  },
  {
   "cell_type": "markdown",
   "metadata": {
    "pycharm": {
     "name": "#%% md\n"
    }
   },
   "source": [
    "## Den besten Zug für die KI ermitteln\n",
    "Um mit den berechneten Endspieldaten gegen einen Spieler zu gewinnen, muss jeder Zug, den Weiß macht, optimal sein.\n",
    "Ein passender Zug für die KI besteht darin die Situation von $S_n$ in einen Zustand zu überführen, in dem sie sich in $S_{n-1}$ befindet.  \n",
    "\n",
    "Die Funktion `find_next_move(curr_board, s_index, s_n_sequence)` bestimmt für ein übergebenes Board-Objekt einen solchen Spielzug. \n",
    "Aus Effizienzgründen wird zusätzlich zum gefundenen Spielzug (`move`) der neue Wert für $n$ zurückgegeben. \n",
    "\n",
    "Für diese Berechnung benötigt ``find_next_move`` nachkommende Argumente:\n",
    "* ``curr_board``: Das Board, für welches der nächste Spielzug berechnet werden soll.\n",
    "* ``s_index``: Das $n$ eines $S_n$, in welchem sich ``curr_board`` befindet. Wird aus Effizienzgründen übergeben.\n",
    "* ``s_n_sequence``: Die Liste mit allen $S_n$.\n",
    "\n",
    "Kann kein Spielzug gefunden werden, gibt die Funktion den Wert -1 zurück.\n",
    "\n",
    "Die für diesen Ablauf benötigte Funktion `find_situation_in_sequence` wird im Notebook `functions.ipynb` definiert und erklärt."
   ]
  },
  {
   "cell_type": "code",
   "execution_count": null,
   "metadata": {
    "pycharm": {
     "name": "#%%\n"
    }
   },
   "outputs": [],
   "source": [
    "def find_next_move(curr_board, s_index, s_n_sequence):\n",
    "    s_index_new = s_index - 1\n",
    "    for move in curr_board.legal_moves:\n",
    "        curr_board.push(move)\n",
    "        curr_integer = to_integer(curr_board, PIECE_LIST)\n",
    "        _tmp = find_situation_in_sequence(curr_integer, [s_n_sequence[s_index_new]])\n",
    "        if _tmp != -1:\n",
    "            curr_board.pop()\n",
    "            return s_index_new, move\n",
    "        curr_board.pop()\n",
    "\n",
    "    return -1, None"
   ]
  },
  {
   "cell_type": "markdown",
   "metadata": {
    "pycharm": {
     "name": "#%% md\n"
    }
   },
   "source": [
    "## Globale Variablen für die Anzeige\n",
    "\n",
    "Nachdem alle Funktionen für die Bestimmung eines Zugs definiert worden sind, gilt es die bereitgestellte UI der ``python-chess`` Bibliothek zu erweitern. \n",
    "In Form von globalen Variablen werden UI-Elemente definiert, die für die Eingabe eines neuen Zugs benötigt werden:\n",
    "\n",
    "- `input_field` = Ein Eingabefeld, in dem der nächste Zug von Weiß eingetragen werden soll.\n",
    "- `execute_button` = Ein Button, der nach der Auswahl des Zuges diesen auch auf dem Schachbrett ausführt."
   ]
  },
  {
   "cell_type": "code",
   "execution_count": null,
   "metadata": {
    "pycharm": {
     "name": "#%%\n"
    }
   },
   "outputs": [],
   "source": [
    "# Sollten diese nicht ebenfalls in caps geschrieben werden?\n",
    "# TODO: Tooltip anpassen\n",
    "input_field = widgets.Text()\n",
    "\n",
    "execute_button = widgets.Button(\n",
    "    description='Execute Move',\n",
    "    disabled=False,\n",
    "    button_style='',\n",
    "    tooltip='Executes the move selected with the dropdowns \"Piece:\" and \"Move:\"',\n",
    "    icon='check'\n",
    ")"
   ]
  },
  {
   "cell_type": "markdown",
   "metadata": {
    "pycharm": {
     "name": "#%% md\n"
    }
   },
   "source": [
    "## Globale Variablen für den aktuellen Spielzustand\n",
    "Damit der aktuelle Stand des Spiels auch ohne eine lineare Kette von Funktionsaufrufen verfügbar ist, \n",
    "werden diese Informationen in globalen Variablen gespeichert.\n",
    "\n",
    "> TODO: Globale Variablen beschreiben und nennen"
   ]
  },
  {
   "cell_type": "code",
   "execution_count": null,
   "metadata": {
    "pycharm": {
     "name": "#%%\n"
    }
   },
   "outputs": [],
   "source": [
    "PIECE_LIST, S_N_INTEGERS = load_data(FILE)\n",
    "S_INDEX = 0\n",
    "BOARD_INDEX = 0"
   ]
  },
  {
   "cell_type": "markdown",
   "metadata": {
    "pycharm": {
     "name": "#%% md\n"
    }
   },
   "source": [
    "Weiterhin werden weitere globale Variablen definiert, die einerseits den Dateinamen für die Spielzüge (`filename`), \n",
    "andererseits das Spielbrett zum Spielen gegen die KI innehalten (`board`).\n",
    "\n",
    "> TODO: Filename wurde schon vorher definiert und board wird hier noch gar nicht definiert"
   ]
  },
  {
   "cell_type": "markdown",
   "metadata": {
    "pycharm": {
     "name": "#%% md\n"
    }
   },
   "source": [
    "Innerhalb der python-chess library werden die Farben des Schachbretts `chess.WHITE` und `chess.BLACK` als boolesche Variablen definiert. \n",
    "Deswegen wurde zur späteren Dokumentation, aber auch zum Debuggen eine Funktion geschrieben, \n",
    "die die Farbe, die gerade am Zug ist, als String zurückgibt."
   ]
  },
  {
   "cell_type": "code",
   "execution_count": null,
   "metadata": {
    "pycharm": {
     "name": "#%%\n"
    }
   },
   "outputs": [],
   "source": [
    "def get_color(turn):\n",
    "    if turn:\n",
    "        return \"White\"\n",
    "    else:\n",
    "        return \"Black\""
   ]
  },
  {
   "cell_type": "markdown",
   "metadata": {
    "pycharm": {
     "name": "#%% md\n"
    }
   },
   "source": [
    "Zum Definieren der globalen Variablen `FILENAME` wird die Funktion `update_filename` definiert.\n",
    "\n",
    "> TODO: Wird FILENAME in diesem Kontext wirklich global benötigt?"
   ]
  },
  {
   "cell_type": "code",
   "execution_count": null,
   "metadata": {
    "pycharm": {
     "name": "#%%\n"
    }
   },
   "outputs": [],
   "source": [
    "def update_filename(new_value):\n",
    "    global FILENAME\n",
    "    FILENAME = new_value"
   ]
  },
  {
   "cell_type": "markdown",
   "metadata": {
    "pycharm": {
     "name": "#%% md\n"
    }
   },
   "source": [
    "Weiter werden für den Spielbeginn (`reset_board`) und auch für ausgeführte Spielzüge (`reset_input_field`) Funktionen geschrieben, \n",
    "die die UI Elemente auf ihren Standardwert zurücksetzen.\n",
    "\n",
    "> TODO: Reicht diese Beschreibung?"
   ]
  },
  {
   "cell_type": "code",
   "execution_count": null,
   "metadata": {
    "pycharm": {
     "name": "#%%\n"
    }
   },
   "outputs": [],
   "source": [
    "def reset_input_field():\n",
    "    global input_field\n",
    "    input_field.value = ''"
   ]
  },
  {
   "cell_type": "code",
   "execution_count": null,
   "metadata": {
    "pycharm": {
     "name": "#%%\n"
    }
   },
   "outputs": [],
   "source": [
    "def reset_board():\n",
    "    global BOARD\n",
    "    BOARD = create_board()\n",
    "    global S_INDEX\n",
    "    global BOARD_INDEX\n",
    "    integer = to_integer(BOARD, PIECE_LIST)\n",
    "    S_INDEX = find_situation_in_sequence(integer, S_N_INTEGERS)\n",
    "    if BOARD.turn:\n",
    "        S_INDEX, move = find_next_move(BOARD, S_INDEX, S_N_INTEGERS)\n",
    "        if S_INDEX == -1:\n",
    "            print(\"No Move for white found\")\n",
    "        else:\n",
    "            execute_move(move, BOARD.turn)\n",
    "            reload_screen()"
   ]
  },
  {
   "cell_type": "markdown",
   "metadata": {
    "pycharm": {
     "name": "#%% md\n"
    }
   },
   "source": [
    "Zum Durchführen der Spielzüge im Board-Objekt wird die Hilfsfunktion `execute_move` verwendet.\n",
    "Die Funktion erhält als Parameter einen `chess.Move` und führt diesen auf dem globalen `BOARD` für die Farbe `chess.turn` durch. \n",
    "Zusätzlich wird in der Datei, die in unter dem Namen `filename` zu finden ist, für den Zug ein Eintrag hinterlegt.\n",
    "\n",
    "> TODO: Variablen zu den im Text beschriebenen Parametern mappen"
   ]
  },
  {
   "cell_type": "code",
   "execution_count": null,
   "metadata": {
    "pycharm": {
     "name": "#%%\n"
    }
   },
   "outputs": [],
   "source": [
    "def execute_move(move, turn):\n",
    "    global BOARD\n",
    "    global S_INDEX\n",
    "    global BOARD_INDEX\n",
    "    move_file = open(\"Played_Games/\" + FILENAME, \"a\")\n",
    "    if turn:\n",
    "        move_file.write(str(BOARD.fullmove_number) + \". \" + move.uci() + \" \")\n",
    "    else:\n",
    "        move_file.write(move.uci() + \"\\n\")\n",
    "    move_file.close()\n",
    "    BOARD.push(move)\n",
    "    integer = to_integer(BOARD, PIECE_LIST)\n",
    "    S_INDEX = find_situation_in_sequence(integer, S_N_INTEGERS)"
   ]
  },
  {
   "cell_type": "markdown",
   "metadata": {
    "pycharm": {
     "name": "#%% md\n"
    }
   },
   "source": [
    "## Weitere Hilfsfunktionen\n",
    "\n",
    "Das Ziel der Funktion `get_pieces_placed_on_board` besteht darin, von einer mitgegebenen `chess.Color` die Figuren zu bestimmen, die noch auf dem Schachbrett stehen. Zurück gibt sie ein Dictionary, das als `key` die Schachfiguren und als `value` eine Liste mit den Positionen der Figuren besitzt.\n",
    "\n",
    "> TODO: Überprüfung, ob beide Dictionaries notwendig sind\n",
    "> TODO: Rückgabewerte genauer beschreiben"
   ]
  },
  {
   "cell_type": "code",
   "execution_count": null,
   "metadata": {
    "pycharm": {
     "name": "#%%\n"
    }
   },
   "outputs": [],
   "source": [
    "def get_pieces_placed_on_board(color):\n",
    "    piece_type_to_string = {\n",
    "        1 : \"Pawn\",\n",
    "        2 : \"Knight\",\n",
    "        3 : \"Bishop\",\n",
    "        4 : \"Rook\",\n",
    "        5 : \"Queen\",\n",
    "        6 : \"King\"\n",
    "    }\n",
    "    pieces_with_position = {\n",
    "        \"Pawn\" : [],\n",
    "        \"Knight\" : [],\n",
    "        \"Bishop\" : [],\n",
    "        \"Rook\" : [],\n",
    "        \"Queen\" : [],\n",
    "        \"King\" : []\n",
    "    }\n",
    "    for piece_square, color_piece in BOARD.piece_map().items():\n",
    "        if color_piece.color == color:\n",
    "            pieces_with_position[piece_type_to_string[color_piece.piece_type]].append(chess.square_name(piece_square))\n",
    "    return pieces_with_position"
   ]
  },
  {
   "cell_type": "markdown",
   "metadata": {
    "pycharm": {
     "name": "#%% md\n"
    }
   },
   "source": [
    "Bei der Funktion `get_moves_from_square` werden anhand der mitgegebenen `legal_moves` für ein vorgegebenes Feld die Züge selektiert, die man von diesem Feld aus ziehen kann.\n",
    "\n",
    "> TODO: Parameter werden nicht genügend definiert"
   ]
  },
  {
   "cell_type": "code",
   "execution_count": null,
   "metadata": {
    "pycharm": {
     "name": "#%%\n"
    }
   },
   "outputs": [],
   "source": [
    "def get_moves_from_square(square, legal_moves):\n",
    "    moves = []\n",
    "    for possible_move in legal_moves:\n",
    "        if square == chess.square_name(possible_move.from_square):\n",
    "            moves.append(possible_move)\n",
    "    return moves"
   ]
  },
  {
   "cell_type": "markdown",
   "metadata": {
    "pycharm": {
     "name": "#%% md\n"
    }
   },
   "source": [
    "Da die Anzeige des UI auf Konsolenausgaben basiert, muss diese auch nach einem neuen Zug geleert werden, \n",
    "sodass die Konsole nicht mit den Elementen überflutet wird. Hierfür aktualisiert die Funktion `reload_screen` \n",
    "die Ausgabe und zeigt erneut das Schachbrett, die beiden Dropdowns und den Knopf zum Ausführen des Zugs an.\n",
    "\n",
    "> TODO: Werden keine Dropdowns mehr angezeigt"
   ]
  },
  {
   "cell_type": "code",
   "execution_count": null,
   "metadata": {
    "pycharm": {
     "name": "#%%\n"
    }
   },
   "outputs": [],
   "source": [
    "def reload_screen():\n",
    "    clear_output()\n",
    "    display(BOARD, input_field, execute_button)\n",
    "    display(Javascript(\"setTimeout(function focus() {document.querySelector('input').focus()}, 100);\"))"
   ]
  },
  {
   "cell_type": "markdown",
   "metadata": {
    "pycharm": {
     "name": "#%% md\n"
    }
   },
   "source": [
    "Die Funktion `show_end_screen` hingegen zeigt nur das Schachbrett an."
   ]
  },
  {
   "cell_type": "code",
   "execution_count": null,
   "metadata": {
    "pycharm": {
     "name": "#%%\n"
    }
   },
   "outputs": [],
   "source": [
    "def show_end_screen():\n",
    "    clear_output()\n",
    "    display(BOARD)"
   ]
  },
  {
   "cell_type": "markdown",
   "metadata": {
    "pycharm": {
     "name": "#%% md\n"
    }
   },
   "source": [
    "Die `game_result(result)` Funktion gibt den Grund, weshalb das Spiel beendet wurde zurück.\n",
    "\n",
    "> TODO: Gibt nicht den Grund an, hat als Rückgabewert den Grund in String-Form\n",
    "> TODO: Kann man anstatt der Berechnung mit dem Outcome nicht wieder die Abfragen machen mit is_checkmate() etc.?"
   ]
  },
  {
   "cell_type": "code",
   "execution_count": null,
   "metadata": {
    "pycharm": {
     "name": "#%%\n"
    }
   },
   "outputs": [],
   "source": [
    "def game_result(result):\n",
    "    if result == Termination.CHECKMATE:\n",
    "        return get_color(BOARD.turn) + \" has lost because of Checkmate!\"\n",
    "    elif result == Termination.STALEMATE:\n",
    "        return \"It's a draw!\"\n",
    "    elif result == Termination.INSUFFICIENT_MATERIAL:\n",
    "        return \"No side can win the game anymore!\"\n",
    "    elif result == Termination.SEVENTYFIVE_MOVES:\n",
    "        return \"The game is drawn because half-move clock is greater than 150 since a capture or a pwn has been moved.\"\n",
    "    elif result == Termination.FIVEFOLD_REPETITION:\n",
    "        return \"The game is drawn because the current position occurred the fifth time!\"\n",
    "    elif result == Termination.FIFTY_MOVES:\n",
    "        return \"The game is drawn because half-move clock is greater than 100 since a capture or a pwn has been moved.\"\n",
    "    elif result == Termination.THREEFOLD_REPETITION:\n",
    "        return \"The game is drawn because the current position occurred the third time!\"\n",
    "    elif result == Termination.VARIANT_WIN:\n",
    "        return get_color(BOARD.turn) + \" has won because of variant-specific conditions\"\n",
    "    elif result == Termination.VARIANT_LOSS:\n",
    "        return get_color(BOARD.turn) + \" has lost because of variant-specific conditions\"\n",
    "    elif result == Termination.VARIANT_DRAW:\n",
    "        return \"Game is drawn because of variant-specific conditions!\"\n",
    "    else:\n",
    "        return \"Something went wrong!\""
   ]
  },
  {
   "cell_type": "markdown",
   "metadata": {
    "pycharm": {
     "name": "#%% md\n"
    }
   },
   "source": [
    "Für den `execute_button` und das `input_field` wird eine Funktion geschrieben, die für das Ausführen des Zuges verantwortlich ist.\n",
    "Diese wird entweder durch Klicken des Buttons oder Drücken der Enter-Taste aufgerufen. \n",
    "Sobald der eingegebene Zug ausgeführt wurde, wird mithilfe der eingelesenen $S_n$ Mengen der Zug für die KI bestimmt. \n",
    "Weiterhin wird auch in dieser Funktion überprüft, ob das Spiel bereits beendet wurde.\n",
    "\n",
    "> TODO: Funktion nochmal kleiner teilen"
   ]
  },
  {
   "cell_type": "code",
   "execution_count": null,
   "metadata": {
    "pycharm": {
     "name": "#%%\n"
    }
   },
   "outputs": [],
   "source": [
    "def execute_entered_move(change):\n",
    "    global BOARD\n",
    "    global S_INDEX\n",
    "    global BOARD_INDEX\n",
    "    try:\n",
    "        if input_field.value != '':\n",
    "            black_move = chess.Move.from_uci(input_field.value)\n",
    "            if black_move in list(BOARD.legal_moves):\n",
    "                execute_move(black_move, BOARD.turn)\n",
    "                reset_input_field()\n",
    "                # Next AI move executed by white\n",
    "                S_INDEX, next_move = find_next_move(BOARD, S_INDEX, S_N_INTEGERS)\n",
    "                if S_INDEX == -1:\n",
    "                    print(\"No Move for white found\")\n",
    "                else:\n",
    "                    execute_move(next_move, BOARD.turn)\n",
    "                    reload_screen()\n",
    "                if BOARD.legal_moves.count() == 0:\n",
    "                    # If wanted add different endings\n",
    "                    show_end_screen()\n",
    "                    result = BOARD.outcome().termination\n",
    "                    print(game_result(result))\n",
    "            else:\n",
    "                print(\"Entered a wrong move. Please try again!\")\n",
    "                print(input_field.value)\n",
    "                time.sleep(2)\n",
    "                reload_screen()\n",
    "        else:\n",
    "            print(\"Enter a move!\")\n",
    "            time.sleep(2)\n",
    "            reload_screen()\n",
    "    except ValueError:\n",
    "        print(\"Entered a wrong move. Please try again!\")\n",
    "        print(input_field.value)\n",
    "        time.sleep(2)\n",
    "        reload_screen()"
   ]
  },
  {
   "cell_type": "markdown",
   "metadata": {
    "pycharm": {
     "name": "#%% md\n"
    }
   },
   "source": [
    "Damit die Funktion beim Klicken des `execute_button` oder durch Drücken der Enter-Taste ausgeführt wird, muss diese den `on_click` Events zugewiesen werden."
   ]
  },
  {
   "cell_type": "code",
   "execution_count": null,
   "metadata": {
    "pycharm": {
     "name": "#%%\n"
    }
   },
   "outputs": [],
   "source": [
    "execute_button.on_click(execute_entered_move)\n",
    "input_field.on_submit(execute_entered_move)"
   ]
  },
  {
   "cell_type": "markdown",
   "metadata": {
    "pycharm": {
     "name": "#%% md\n"
    }
   },
   "source": [
    "Die Funktion `start_game` bereitet alle Parameter für einen Spielverlauf vor. Dazu gehört:\n",
    "- Erstellung eines neuen Boards.\n",
    "- Das Erstellen einer neuen Historie für das neu begonnene Spiel.\n",
    "- Anzeigen der neuen Spielsituation."
   ]
  },
  {
   "cell_type": "code",
   "execution_count": null,
   "metadata": {
    "pycharm": {
     "name": "#%%\n"
    }
   },
   "outputs": [],
   "source": [
    "def start_game():\n",
    "    global BOARD\n",
    "    BOARD = create_board()\n",
    "    update_filename(\"Move-History_\" + str(datetime.today().replace(microsecond=0)).replace(\":\",\"_\") + \".txt\")\n",
    "    move_file = open(\"Played_Games/\" + FILENAME, \"a\")\n",
    "    move_file.write(BOARD.fen() + \"\\n\")\n",
    "    move_file.close()\n",
    "    reset_board()"
   ]
  },
  {
   "cell_type": "markdown",
   "metadata": {
    "pycharm": {
     "name": "#%% md\n"
    }
   },
   "source": [
    "Mit dem Aufruf der Funktion `start_game` kann nun ein Spiel gegen die KI gestartet werden."
   ]
  },
  {
   "cell_type": "code",
   "execution_count": null,
   "metadata": {
    "pycharm": {
     "name": "#%%\n"
    },
    "scrolled": false
   },
   "outputs": [],
   "source": [
    "start_game()\n"
   ]
  }
 ],
 "metadata": {
  "kernelspec": {
   "display_name": "Python 3 (ipykernel)",
   "language": "python",
   "name": "python3"
  },
  "language_info": {
   "codemirror_mode": {
    "name": "ipython",
    "version": 3
   },
   "file_extension": ".py",
   "mimetype": "text/x-python",
   "name": "python",
   "nbconvert_exporter": "python",
   "pygments_lexer": "ipython3",
   "version": "3.9.12"
  }
 },
 "nbformat": 4,
 "nbformat_minor": 1
}