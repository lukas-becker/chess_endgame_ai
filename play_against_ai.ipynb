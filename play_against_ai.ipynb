{
 "cells": [
  {
   "cell_type": "code",
   "execution_count": null,
   "metadata": {
    "pycharm": {
     "name": "#%%\n"
    }
   },
   "outputs": [],
   "source": [
    "from IPython.core.display import HTML, Javascript\n",
    "with open('style.html', 'r') as file:\n",
    "     css = file.read()\n",
    "HTML(css)"
   ]
  },
  {
   "cell_type": "markdown",
   "metadata": {},
   "source": [
    "# Spielen gegen die KI"
   ]
  },
  {
   "cell_type": "markdown",
   "metadata": {
    "pycharm": {
     "name": "#%% md\n"
    }
   },
   "source": [
    "## Importe\n",
    "\n",
    "Zum Spielen gegen die KI werden die folgenden Bibliotheken verwendet:\n",
    "\n",
    "* ``ipywidgets``: Wird zur Darstellung der Eingabefelder verwendet.\n",
    "* ``clear_output`` aus der IPython-display-Library: Eine Funktion, die für die Fortschrittsanzeige von Berechnungen verwendet wird.\n",
    "* ``display`` aus der IPython-display-Library: Wird zum grafischen Anzeigen der Schachbretter verwendet.\n",
    "* ``chess``: Die Python-Schach-Bibliothek, mit welcher Schachbretter dargestellt werden, Züge und Zustände ausgewertet etc.\n",
    "* ``time``: Wird zum Verzögern von Ausgaben verwendet.\n",
    "* ``datetime``: Zur Bestimmung des aktuellen Datums, sodass die Historie der Züge gespeichert werden kann.\n",
    "* ``json``: Wird zum Lesen der berechneten Ergebnisse verwendet."
   ]
  },
  {
   "cell_type": "code",
   "execution_count": null,
   "metadata": {},
   "outputs": [],
   "source": [
    "import ipywidgets as widgets\n",
    "from IPython.display import clear_output\n",
    "from IPython.display import display\n",
    "import chess\n",
    "import time\n",
    "from datetime import datetime\n",
    "from chess import Termination\n",
    "import pickle"
   ]
  },
  {
   "cell_type": "markdown",
   "metadata": {},
   "source": [
    "## Erstellung eines eigenen Spielfeldes"
   ]
  },
  {
   "cell_type": "markdown",
   "metadata": {},
   "source": [
    "Zur Erstellung eines individuellen Spielfeldes wurde sich dazu entschieden zwei Dictionaries zu verwenden. Diese\n",
    "besitzen jeweils als `key` die Figur, die auf dem Spielfeld platziert werden soll. Als `value` besitzen die Einträge jeweils\n",
    "eine Liste, die mit Strings von den Feldern gefüllt werden sollen, auf denen die jeweilige Figur steht."
   ]
  },
  {
   "cell_type": "code",
   "execution_count": null,
   "metadata": {
    "pycharm": {
     "name": "#%%\n"
    }
   },
   "outputs": [],
   "source": [
    "WHITE_POSITIONS = {'king':['e1'],\n",
    "                   'queen':[],\n",
    "                   'rooks':['a1'],\n",
    "                   'bishops':[],\n",
    "                   'knights':[],\n",
    "                   'pawns':[]}\n",
    "\n",
    "BLACK_POSITIONS = {'king':['e8'],\n",
    "                   'queen':[],\n",
    "                   'rooks':[],\n",
    "                   'bishops':[],\n",
    "                   'knights':[],\n",
    "                   'pawns':[]}\n",
    "\n",
    "FILE = \"S_n_Results/S_n_seq_rook.chessAI\""
   ]
  },
  {
   "cell_type": "markdown",
   "metadata": {},
   "source": [
    "Die Funktion `get_occupied_cells()` übersetzt die zuvor erstellten Dictionaries in eine Liste, die alle ``values`` des\n",
    "Dictionaries enthält."
   ]
  },
  {
   "cell_type": "code",
   "execution_count": null,
   "metadata": {
    "pycharm": {
     "name": "#%%\n"
    }
   },
   "outputs": [],
   "source": [
    "def get_occupied_cells():\n",
    "    cells = []\n",
    "    for values in WHITE_POSITIONS.values():\n",
    "        for value in values:\n",
    "            cells.append(value)\n",
    "    for values in BLACK_POSITIONS.values():\n",
    "        for value in values:\n",
    "            cells.append(value)\n",
    "    return cells"
   ]
  },
  {
   "cell_type": "markdown",
   "metadata": {},
   "source": [
    "Die Funktion `check_for_correct_cells()` überprüft die eingegebenen Felder in den Dictionaries `WHITE_POSITIONS` und\n",
    "`BLACK_POSITIONS` auf deren Korrektheit. Diese wird in Form eines booleschen Werts angegeben."
   ]
  },
  {
   "cell_type": "code",
   "execution_count": null,
   "metadata": {
    "pycharm": {
     "name": "#%%\n"
    }
   },
   "outputs": [],
   "source": [
    "import re\n",
    "def check_for_correct_cells():\n",
    "    cells = get_occupied_cells()\n",
    "    for cell in cells:\n",
    "        x = re.search(\"[a-h][1-8]\", cell)\n",
    "        if x is None:\n",
    "            print(cell)\n",
    "            print(\"Value incorrect!\")\n",
    "            return False\n",
    "        else:\n",
    "            pass\n",
    "    return True"
   ]
  },
  {
   "cell_type": "markdown",
   "metadata": {},
   "source": [
    "Die Funktion `create_board()` füllt das Schachbrett mit den Figuren, die in den Dictionaries angegeben wurden. Als\n",
    "Rückgabewert gibt die Funktion das gefüllte Schachbrett zurück."
   ]
  },
  {
   "cell_type": "code",
   "execution_count": null,
   "metadata": {
    "pycharm": {
     "name": "#%%\n"
    }
   },
   "outputs": [],
   "source": [
    "def create_board():\n",
    "    local_board = chess.Board()\n",
    "    occupied_cells = {}\n",
    "    if check_for_correct_cells():\n",
    "        for key, values in WHITE_POSITIONS.items():\n",
    "            if key == 'king':\n",
    "                piece_type = chess.KING\n",
    "            elif key == 'queen':\n",
    "                piece_type = chess.QUEEN\n",
    "            elif key == 'rooks':\n",
    "                piece_type = chess.ROOK\n",
    "            elif key == 'bishops':\n",
    "                piece_type = chess.BISHOP\n",
    "            elif key == 'knights':\n",
    "                piece_type = chess.KNIGHT\n",
    "            else:\n",
    "                piece_type = chess.PAWN\n",
    "            piece = chess.Piece(piece_type, chess.WHITE)\n",
    "            for value in values:\n",
    "                square = chess.parse_square(value)\n",
    "                occupied_cells[square] = piece\n",
    "        for key, values in BLACK_POSITIONS.items():\n",
    "            if key == 'king':\n",
    "                piece_type = chess.KING\n",
    "            elif key == 'queen':\n",
    "                piece_type = chess.QUEEN\n",
    "            elif key == 'rooks':\n",
    "                piece_type = chess.ROOK\n",
    "            elif key == 'bishops':\n",
    "                piece_type = chess.BISHOP\n",
    "            elif key == 'knights':\n",
    "                piece_type = chess.KNIGHT\n",
    "            else:\n",
    "                piece_type = chess.PAWN\n",
    "            piece = chess.Piece(piece_type, chess.BLACK)\n",
    "            for value in values:\n",
    "                square = chess.parse_square(value)\n",
    "                occupied_cells[square] = piece\n",
    "\n",
    "        local_board.set_piece_map(occupied_cells)\n",
    "        local_board.castling_rights = local_board.clean_castling_rights()\n",
    "        \n",
    "        # Herausfinden, weshalb momentan angegebenes Board invalid ist\n",
    "        if not local_board.is_valid():\n",
    "            display(local_board)\n",
    "            print(\"Specified lineup is invalid\")\n",
    "            print(\"Instead standard board created\")\n",
    "            local_board = chess.Board()\n",
    "    return local_board"
   ]
  },
  {
   "cell_type": "markdown",
   "metadata": {
    "pycharm": {
     "name": "#%% md\n"
    }
   },
   "source": [
    "## Import der Daten\n",
    "\n",
    "Für die Bestimmung der Züge der KI werden die $S_n$ Mengen verwendet, die mit Hilfe des Notebooks ``calculation.ipynb`` bestimmt werden. Diese wurden bereits in einer JSON-Datei serialisiert abgespeichert. Für dieses Notebook werden alle FENs gelesen und daraus Board-Objekte erstellt. Dies geschieht mit der Funktion ``load_s_n_sequence``. Diese erhält den Dateipfad (``filepath``) als Parameter, um aus der Datei die $S_n$ Mengen auslesen zu können."
   ]
  },
  {
   "cell_type": "code",
   "execution_count": null,
   "metadata": {
    "pycharm": {
     "name": "#%%\n"
    }
   },
   "outputs": [],
   "source": [
    "def load_s_n_sequence(filepath):\n",
    "    s_n_sequence_tuples = []\n",
    "    f = open(filepath, \"rb\")\n",
    "    tmp = pickle.loads(f.read())\n",
    "    for item in tmp:\n",
    "        s_n_sequence_tuples.append(item)\n",
    "    f.close()\n",
    "    return s_n_sequence_tuples"
   ]
  },
  {
   "cell_type": "markdown",
   "metadata": {},
   "source": [
    "## Die Züge für die KI ermitteln\n",
    "\n",
    "Der erste Schritt, um einen Zug für die KI zu ermitteln, liegt im Finden der momentanen Spielsituation. Dies wird mit der Funktion ``find_board_in_sequence`` erreicht. Sie dursucht eine gegebene $S_n$ Sequenz nach einem übergebenen Schachbrett. Die Parameter hierfür lauten wie folgt:\n",
    "\n",
    "* ``situation``: Das Board (als Objekt), welches gefunden werden soll.\n",
    "* sequence: Die $S_n$ Sequenz, in welcher das Board gesucht wird.\n",
    "\n",
    "Das Ergebnis der Funktion kann insgesamt zwei unterschiedliche Formen annehmen:\n",
    "* Ein Tupel mit $S_n$ Index (z.B. $S_3$) und Board-Index (z.B. 100).Dieses Tupel drückt aus, wo in der Sequenz das Board gefunden wurde.\n",
    "* Das Tupel (-1,-1). Dies drückt aus, dass das Board nicht gefunden wurde.\n",
    "\n",
    "Das Ergebniss wird mithilfe von dem anschließenden Algorithmus bestimmt:\n",
    "1. Über die $S_n$ Sequenz iterieren.\n",
    "2. Über jedes Board in einem spezifischem $S_n$ iterieren.\n",
    "3. Das Board mit dem ``situation`` Objekt vergleichen.\n",
    "    1. Wenn das Board übereinstimmt, die Indizes zurückgeben.\n",
    "    2. Wenn das Board nicht übereinstimmt, weitersuchen."
   ]
  },
  {
   "cell_type": "code",
   "execution_count": null,
   "metadata": {
    "pycharm": {
     "name": "#%%\n"
    }
   },
   "outputs": [],
   "source": [
    "def find_board_in_sequence(situation, sequence):\n",
    "    board_tuple = (situation.turn, situation.__str__())\n",
    "\n",
    "    for i in range(len(sequence)):\n",
    "        if board_tuple in sequence[i]:\n",
    "            return i\n",
    "    return -1"
   ]
  },
  {
   "cell_type": "markdown",
   "metadata": {
    "pycharm": {
     "name": "#%% md\n"
    }
   },
   "source": [
    "Nachdem das Brett in einer $S_n$ Menge gefunden wurde, ist der nächste Schritt den passenden Zug für die KI zu bestimmen. Zu diesem Zweck wurde die Funktion ``find_next_move`` definiert. Diese berechnet für ein übergebenes Board den idealen Spielzug. Weiterhin wird aus Effizienzgründen schon die Position des nächsten Bretts in der $S_n$ Sequenz zurückgegeben. Für diese Berechnung benötigt ``find_next_move`` nachkommende Argumente:\n",
    "\n",
    "* ``curr_board``: Das Board, für welches der nächste Spielzug berechnet werden soll.\n",
    "* ``s_index``: Das $n$ eines $S_n$, in welchem sich ``curr_board`` befindet. Wird aus Effizienzgründen übergeben.\n",
    "* ``s_n_sequence``: Die Liste mit allen $S_n$\n",
    "\n",
    "Als Ergebnis liefert die Funktion den nächsten Move oder den Wert -1 als Hinweis, dass kein Spielzug berechnet werden konnte.\n",
    "\n",
    "Der Algorithmus dieser Funktion erstreckt sich folgender Art und Weise:\n",
    "* Führe alle möglichen Moves durch, bis das Ergebnis-Board in $S_{n-1}$ gefunden wurde.\n",
    "* Gebe den neuen ``s_index``, ``board_index`` und den gefundenen ``move`` zurück.\n"
   ]
  },
  {
   "cell_type": "code",
   "execution_count": null,
   "metadata": {
    "pycharm": {
     "name": "#%%\n"
    }
   },
   "outputs": [],
   "source": [
    "def find_next_move(curr_board, s_index, s_n_sequence):\n",
    "    for move in curr_board.legal_moves:\n",
    "        curr_board.push(move)\n",
    "        _tmp = find_board_in_sequence(curr_board, [s_n_sequence[s_index - 1]])\n",
    "        s_index_tmp = s_index - 1\n",
    "        if _tmp != -1:\n",
    "            curr_board.pop()\n",
    "            return s_index_tmp, move\n",
    "        curr_board.pop()\n",
    "\n",
    "    return -1, None"
   ]
  },
  {
   "cell_type": "markdown",
   "metadata": {},
   "source": [
    "## Globale Variablen\n",
    "\n",
    "Nachdem alle Funktionen für die Bestimmung eines Zugs definiert worden sind, gilt es die bereitgestellte UI der ``python-chess`` Bibliothek zu erweitern. In Form von globalen Variablen werden UI-Elemente definiert, die für die Eingabe eines neuen Zugs benötigt werden:\n",
    "\n",
    "- `input_field` = Ein Eingabefeld, in dem der nächste zug von weiß eingetragen werden soll.\n",
    "- `execute_button` = Ein Button, der nach der Auswahl des Zuges diesen auch auf dem Schachbrett ausführt."
   ]
  },
  {
   "cell_type": "code",
   "execution_count": null,
   "metadata": {
    "pycharm": {
     "name": "#%%\n"
    }
   },
   "outputs": [],
   "source": [
    "input_field = widgets.Text()\n",
    "\n",
    "execute_button = widgets.Button(\n",
    "    description='Execute Move',\n",
    "    disabled=False,\n",
    "    button_style='',\n",
    "    tooltip='Executes the move selected with the dropdowns \"Piece:\" and \"Move:\"',\n",
    "    icon='check'\n",
    ")\n",
    "\n",
    "S_N_TUPLES = load_s_n_sequence(FILE)\n",
    "\n",
    "S_INDEX = 0\n",
    "BOARD_INDEX = 0"
   ]
  },
  {
   "cell_type": "markdown",
   "metadata": {},
   "source": [
    "Innerhalb der python-chess library werden die Farben des Schachbretts `chess.WHITE` und `chess.BLACK` als boolesche Variablen definiert. Deswegen wurde zur späteren Dokumentation, aber auch zum Debuggen eine Funktion geschrieben, die die Farbe , die gerade am Zug ist, als String zurück gibt."
   ]
  },
  {
   "cell_type": "code",
   "execution_count": null,
   "metadata": {
    "pycharm": {
     "name": "#%%\n"
    }
   },
   "outputs": [],
   "source": [
    "def get_color(turn):\n",
    "    if turn:\n",
    "        return \"White\"\n",
    "    else:\n",
    "        return \"Black\""
   ]
  },
  {
   "cell_type": "markdown",
   "metadata": {},
   "source": [
    "Weiterhin wurden zwei weitere globale Variablen definiert, die einerseits den Dateinamen für die Spielzüge (`filename`), andererseits das Spielbrett zum Spielen gegen die KI innehalten (`board`)."
   ]
  },
  {
   "cell_type": "code",
   "execution_count": null,
   "metadata": {
    "pycharm": {
     "name": "#%%\n"
    }
   },
   "outputs": [],
   "source": [
    "board = create_board()\n",
    "filename = ''\n",
    "board"
   ]
  },
  {
   "cell_type": "markdown",
   "metadata": {
    "pycharm": {
     "name": "#%% md\n"
    }
   },
   "source": [
    "Zum Beschreiben der globalen Variablen `filename` wurde die Funktion `update_filename` definiert."
   ]
  },
  {
   "cell_type": "code",
   "execution_count": null,
   "metadata": {
    "pycharm": {
     "name": "#%%\n"
    }
   },
   "outputs": [],
   "source": [
    "def update_filename(new_value):\n",
    "    global filename\n",
    "    filename = new_value"
   ]
  },
  {
   "cell_type": "markdown",
   "metadata": {
    "pycharm": {
     "name": "#%% md\n"
    }
   },
   "source": [
    "Außerdem wurden für den Spielbeginn (`reset_board`) und auch für ausgeführte Spielzüge (`reset_input_field`) Funktionen geschrieben, die das UI Element auf ihren Standardwert zurücksetzen."
   ]
  },
  {
   "cell_type": "code",
   "execution_count": null,
   "metadata": {},
   "outputs": [],
   "source": [
    "def reset_input_field():\n",
    "    global input_field\n",
    "    input_field.value = ''"
   ]
  },
  {
   "cell_type": "code",
   "execution_count": null,
   "metadata": {},
   "outputs": [],
   "source": [
    "def reset_board():\n",
    "    global board\n",
    "    board = create_board()\n",
    "    global S_INDEX\n",
    "    global BOARD_INDEX\n",
    "    S_INDEX = find_board_in_sequence(board, S_N_TUPLES)\n",
    "    if board.turn:\n",
    "        S_INDEX, move = find_next_move(board, S_INDEX, S_N_TUPLES)\n",
    "        execute_move(move, board.turn)\n",
    "        reload_screen()\n"
   ]
  },
  {
   "cell_type": "markdown",
   "metadata": {},
   "source": [
    "Die globale Variable `board` hingegen besitzt zwei Funktionen:\n",
    "- Die Funktion `execute_move` erhält als Parameter einen `chess.Move` und führt diesen auf dem globalen `board` für die Farbe `chess.turn` aus. Zusätzlich wird in der Datei, die in der globalen Variablen `filename` zu finden ist, für den Zug ein Eintrag hinterlegt."
   ]
  },
  {
   "cell_type": "code",
   "execution_count": null,
   "metadata": {
    "pycharm": {
     "name": "#%%\n"
    }
   },
   "outputs": [],
   "source": [
    "def execute_move(move, turn):\n",
    "    global board\n",
    "    global S_INDEX\n",
    "    global BOARD_INDEX\n",
    "    move_file = open(\"Played_Games/\" + filename, \"a\")\n",
    "    if turn:\n",
    "        move_file.write(str(board.fullmove_number) + \". \" + move.uci() + \" \")\n",
    "    else:\n",
    "        move_file.write(move.uci() + \"\\n\")\n",
    "    move_file.close()\n",
    "    board.push(move)\n",
    "    S_INDEX = find_board_in_sequence(board, S_N_TUPLES)"
   ]
  },
  {
   "cell_type": "markdown",
   "metadata": {},
   "source": [
    "## Hilfsfunktionen\n",
    "\n",
    "Das Ziel der Funktion `get_pieces_placed_on_board` besteht darin von einer mitgegebenen `chess.Color` die Figuren zu bestimmen, die noch auf dem Schachbrett stehen. Zurück gibt sie ein Dictionary, das als `key` die Schachfiguren und als `value` eine Liste mit den Positionen der Figuren besitzt."
   ]
  },
  {
   "cell_type": "code",
   "execution_count": null,
   "metadata": {
    "pycharm": {
     "name": "#%%\n"
    }
   },
   "outputs": [],
   "source": [
    "def get_pieces_placed_on_board(color):\n",
    "    piece_type_to_string = {\n",
    "        1 : \"Pawn\",\n",
    "        2 : \"Knight\",\n",
    "        3 : \"Bishop\",\n",
    "        4 : \"Rook\",\n",
    "        5 : \"Queen\",\n",
    "        6 : \"King\"\n",
    "    }\n",
    "    pieces_with_position = {\n",
    "        \"Pawn\" : [],\n",
    "        \"Knight\" : [],\n",
    "        \"Bishop\" : [],\n",
    "        \"Rook\" : [],\n",
    "        \"Queen\" : [],\n",
    "        \"King\" : []\n",
    "    }\n",
    "    for piece_square ,color_piece in board.piece_map().items():\n",
    "        if color_piece.color == color:\n",
    "            pieces_with_position[piece_type_to_string[color_piece.piece_type]].append(chess.square_name(piece_square))\n",
    "    return pieces_with_position"
   ]
  },
  {
   "cell_type": "markdown",
   "metadata": {},
   "source": [
    "Bei der Funktion `get_moves_from_square` werden anhand der mitgegebenen `legal_moves` für ein vorgegebenes Feld die Züge selektiert, die man von diesem Feld aus ziehen kann."
   ]
  },
  {
   "cell_type": "code",
   "execution_count": null,
   "metadata": {
    "pycharm": {
     "name": "#%%\n"
    }
   },
   "outputs": [],
   "source": [
    "def get_moves_from_square(square, legal_moves):\n",
    "    moves = []\n",
    "    for possible_move in legal_moves:\n",
    "        if square == chess.square_name(possible_move.from_square):\n",
    "            moves.append(possible_move)\n",
    "    return moves"
   ]
  },
  {
   "cell_type": "markdown",
   "metadata": {},
   "source": [
    "Da die Anzeige des UI auf Konsolenausgaben basiert, muss diese auch nach einem neuen Zug geleert werden, sodass die Konsole nicht mit den Elementen überflutet wird. Hierfür aktualisiert die Funktion `reload_screen` die Ausgabe und zeigt erneut das Schachbrett, die beiden Dropdowns und den Knopf zum Ausführen des Zugs erneut an. Die Funktion `show_end_screen` hingegen zeigt nur das Schachbrett an."
   ]
  },
  {
   "cell_type": "code",
   "execution_count": null,
   "metadata": {
    "pycharm": {
     "name": "#%%\n"
    }
   },
   "outputs": [],
   "source": [
    "def reload_screen():\n",
    "    clear_output()\n",
    "    display(board, input_field, execute_button)\n",
    "    display(Javascript(\"setTimeout(function focus() {document.querySelector('input').focus()}, 100);\"))"
   ]
  },
  {
   "cell_type": "code",
   "execution_count": null,
   "metadata": {},
   "outputs": [],
   "source": [
    "def show_end_screen():\n",
    "    clear_output()\n",
    "    display(board)"
   ]
  },
  {
   "cell_type": "markdown",
   "metadata": {},
   "source": [
    "Für den `execute_button` und das `input_field` wurde eine Funktion geschrieben, die für das Ausführen des Zuges verantwortlich ist (Entweder durch Klicken des Buttons oder Drücken der Enter-Taste). Sobald der eingegebene Zug ausgeführt wurde, wird mit Hilfe der eingelesenen $S_n$ Mengen der Zug für die KI bestimmt. Weiterhin wird auch in dieser Funktion überprüft, ob das Spiel bereits beendet wurde."
   ]
  },
  {
   "cell_type": "code",
   "execution_count": null,
   "metadata": {
    "pycharm": {
     "name": "#%%\n"
    }
   },
   "outputs": [],
   "source": [
    "def execute_entered_move(change):\n",
    "    global board\n",
    "    global S_INDEX\n",
    "    global BOARD_INDEX\n",
    "    try:\n",
    "        if input_field.value != '':\n",
    "            black_move = chess.Move.from_uci(input_field.value)\n",
    "            if black_move in list(board.legal_moves):\n",
    "                execute_move(black_move, board.turn)\n",
    "                reset_input_field()\n",
    "                # Next AI move executed by white\n",
    "                S_INDEX, next_move = find_next_move(board, S_INDEX, S_N_TUPLES)\n",
    "                if S_INDEX == -1:\n",
    "                    print(\"No Move for white found\")\n",
    "                else:\n",
    "                    execute_move(next_move, board.turn)\n",
    "                    reload_screen()\n",
    "                if board.legal_moves.count() == 0:\n",
    "                    # If wanted add different endings\n",
    "                    show_end_screen()\n",
    "                    result = board.outcome().termination\n",
    "                    if result == Termination.CHECKMATE:\n",
    "                        print(get_color(board.turn) + \" has lost because of Checkmate!\")\n",
    "                    elif result == Termination.STALEMATE:\n",
    "                        print(\"It's a draw!\")\n",
    "                    elif result == Termination.INSUFFICIENT_MATERIAL:\n",
    "                        print(\"No side can win the game anymore!\")\n",
    "                    elif result == Termination.SEVENTYFIVE_MOVES:\n",
    "                        print(\"The game is drawn because half-move clock is greater than 150 since a capture or a pwn has been moved.\")\n",
    "                    elif result == Termination.FIVEFOLD_REPETITION:\n",
    "                        print(\"The game is drawn because the current position occurred the fifth time!\")\n",
    "                    elif result == Termination.FIFTY_MOVES:\n",
    "                        print(\"The game is drawn because half-move clock is greater than 100 since a capture or a pwn has been moved.\")\n",
    "                    elif result == Termination.THREEFOLD_REPETITION:\n",
    "                        print(\"The game is drawn because the current position occurred the third time!\")\n",
    "                    elif result == Termination.VARIANT_WIN:\n",
    "                        print(get_color(board.turn) + \" has won because of variant-specific conditions\")\n",
    "                    elif result == Termination.VARIANT_LOSS:\n",
    "                        print(get_color(board.turn) + \" has lost because of variant-specific conditions\")\n",
    "                    elif result == Termination.VARIANT_DRAW:\n",
    "                        print(\"Game is drawn because of variant-specific conditions!\")\n",
    "                    else:\n",
    "                        print(\"Something went wrong!\")\n",
    "            else:\n",
    "                print(\"Entered a wrong move. Please try again!\")\n",
    "                print(input_field.value)\n",
    "                time.sleep(2)\n",
    "                reload_screen()\n",
    "        else:\n",
    "            print(\"Enter a move!\")\n",
    "            time.sleep(2)\n",
    "            reload_screen()\n",
    "    except ValueError:\n",
    "        print(\"Entered a wrong move. Please try again!\")\n",
    "        print(input_field.value)\n",
    "        time.sleep(2)\n",
    "        reload_screen()"
   ]
  },
  {
   "cell_type": "markdown",
   "metadata": {},
   "source": [
    "Sodass die Funktionen letztendlich auch an die UI-Elemente gebunden werden, werden im folgenden Codeabschnitt die Funktionen den Objekten zugewiesen."
   ]
  },
  {
   "cell_type": "code",
   "execution_count": null,
   "metadata": {
    "pycharm": {
     "name": "#%%\n"
    }
   },
   "outputs": [],
   "source": [
    "execute_button.on_click(execute_entered_move)\n",
    "input_field.on_submit(execute_entered_move)"
   ]
  },
  {
   "cell_type": "markdown",
   "metadata": {},
   "source": [
    "Die Funktion `start_game` bereitet jegliche Parameter für einen Spielverlauf vor. Dazu gehört:\n",
    "- Erstellung eines neuen Boards.\n",
    "- Das Erstellen einer neuen Historie für das neu begonnene Spiel"
   ]
  },
  {
   "cell_type": "code",
   "execution_count": null,
   "metadata": {
    "pycharm": {
     "name": "#%%\n"
    }
   },
   "outputs": [],
   "source": [
    "def start_game():\n",
    "    update_filename(\"Move-History_\" + str(datetime.today().replace(microsecond=0)).replace(\":\",\"_\") + \".txt\")\n",
    "    move_file = open(\"Played_Games/\" + filename, \"a\")\n",
    "    reset_board()\n",
    "    move_file.write(board.fen() + \"\\n\")\n",
    "    reload_screen()"
   ]
  },
  {
   "cell_type": "markdown",
   "metadata": {},
   "source": [
    "Mit dem Aufruf der Funktion `start_game` kann nun ein Spiel gegen die KI gestartet werden."
   ]
  },
  {
   "cell_type": "code",
   "execution_count": null,
   "metadata": {
    "pycharm": {
     "name": "#%%"
    },
    "scrolled": false
   },
   "outputs": [],
   "source": [
    "start_game()"
   ]
  },
  {
   "cell_type": "code",
   "execution_count": null,
   "metadata": {},
   "outputs": [],
   "source": []
  }
 ],
 "metadata": {
  "kernelspec": {
   "display_name": "Python 3 (ipykernel)",
   "language": "python",
   "name": "python3"
  },
  "language_info": {
   "codemirror_mode": {
    "name": "ipython",
    "version": 3
   },
   "file_extension": ".py",
   "mimetype": "text/x-python",
   "name": "python",
   "nbconvert_exporter": "python",
   "pygments_lexer": "ipython3",
   "version": "3.9.10"
  }
 },
 "nbformat": 4,
 "nbformat_minor": 1
}