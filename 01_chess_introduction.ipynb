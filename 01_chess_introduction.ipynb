{
 "cells": [
  {
   "cell_type": "code",
   "execution_count": 1,
   "metadata": {
    "pycharm": {
     "name": "#%%\n"
    }
   },
   "outputs": [
    {
     "data": {
      "text/plain": "<IPython.core.display.HTML object>",
      "text/html": "<link href='http://fonts.googleapis.com/css?family=Alegreya+Sans:100,300,400,500,700,800,900,100italic,300italic,400italic,500italic,700italic,800italic,900italic' rel='stylesheet' type='text/css'>\n<link href='http://fonts.googleapis.com/css?family=Arvo:400,700,400italic' rel='stylesheet' type='text/css'>\n<link href='http://fonts.googleapis.com/css?family=PT+Mono' rel='stylesheet' type='text/css'>\n<link href='http://fonts.googleapis.com/css?family=Shadows+Into+Light' rel='stylesheet' type='text/css'>\n<link href='http://fonts.googleapis.com/css?family=Philosopher:400,700,400italic,700italic' rel='stylesheet' type='text/css'>\n\n<style>\n\n@font-face {\n    font-family: \"Computer Modern\";\n    src: url('http://mirrors.ctan.org/fonts/cm-unicode/fonts/otf/cmunss.otf');\n}\n\n.container { width: 100% }\n\n/* Formatting for header cells */\n.text_cell_render h1 {\n    font-family: 'Philosopher', sans-serif;\n    font-weight: 400;\n    font-size: 2.2em;\n    line-height: 100%;\n    color: rgb(0, 80, 120);\n    margin-bottom: 0.1em;\n    margin-top: 0.1em;\n    display: block;\n}\n.text_cell_render h2 {\n    font-family: 'Philosopher', serif;\n    font-weight: 400;\n    font-size: 1.9em;\n    line-height: 100%;\n    color: rgb(200,100,0);\n    margin-bottom: 0.1em;\n    margin-top: 0.1em;\n    display: block;\n}\n\n.text_cell_render h3 {\n    font-family: 'Philosopher', serif;\n    margin-top:12px;\n    margin-bottom: 3px;\n    font-style: italic;\n    color: rgb(94,127,192);\n}\n\n.text_cell_render h4 {\n    font-family: 'Philosopher', serif;\n}\n\n.text_cell_render h5 {\n    font-family: 'Alegreya Sans', sans-serif;\n    font-weight: 300;\n    font-size: 16pt;\n    color: grey;\n    font-style: italic;\n    margin-bottom: .1em;\n    margin-top: 0.1em;\n    display: block;\n}\n\n.text_cell_render h6 {\n    font-family: 'PT Mono', sans-serif;\n    font-weight: 300;\n    font-size: 10pt;\n    color: grey;\n    margin-bottom: 1px;\n    margin-top: 1px;\n}\n\n.text_cell_render em {\n    font-family: 'Philosopher', sans-serif;\n    color:        blue;\n    background-color: rgb(255,220,180);\n    font-size:    110%;\n    margin-left:   2px;\n    margin-right:  2px;\n    font-weight:   100;\n}\n\n.text_cell_render b {\n    color:            rgb(255,195,195);\n    background-color: rgb(0,0,0);\n    font-size:    110%;\n    margin-left:   2px;\n    margin-right:  2px;\n    font-weight:   650;\n}\n\n.text_cell_render tt {\n    font-size:    120%;\n    margin-left:   2px;\n    margin-right:  2px;\n    font-weight:   150;\n}\n\n.Codemirror {\n    font-family: \"PT Mono\";\n    font-size: 100%;\n}\n\n</style>"
     },
     "execution_count": 1,
     "metadata": {},
     "output_type": "execute_result"
    }
   ],
   "source": [
    "from IPython.core.display import HTML\n",
    "\n",
    "with open('style.html', 'r') as file:\n",
    "    css = file.read()\n",
    "HTML(css)"
   ]
  },
  {
   "cell_type": "markdown",
   "metadata": {},
   "source": [
    "# Einleitung"
   ]
  },
  {
   "cell_type": "markdown",
   "metadata": {},
   "source": [
    "Bevor in die Umsetzung der Aufgabe eingestiegen wird, werden einige Grundlagen des Schachspiels für den ungeschulten Spieler erklärt. Dadurch können die Schritte zur Berechnung eines optimalen Endspiels besser nachvollzogen werden. "
   ]
  },
  {
   "cell_type": "markdown",
   "metadata": {},
   "source": [
    "# Schach"
   ]
  },
  {
   "cell_type": "markdown",
   "metadata": {},
   "source": [
    "Bei Schach handelt es sich um ein Brettspiel, das insgesamt von zwei Spielern gespielt werden kann.\n",
    "Im folgenden Abschnitt soll eine Einführung in den Spielablauf gegeben werden. Diese wird benötigt, um die im Verlauf dieses Dokuments vorgestellten Konzepte zu verstehen."
   ]
  },
  {
   "cell_type": "markdown",
   "metadata": {},
   "source": [
    "## Spielbrett und Spielfiguren\n",
    "Ein Schachbrett besteht aus insgesamt 64 Feldern, die in einer 8x8 Matrix angeordnet sind. Dabei werden die Spalten mit\n",
    "den Buchstaben a-h und die Zeilen mit den Zahlen 1-8 beschriftet. Das typische Schachmuster entsteht durch einen regelmäßigen Wechsel\n",
    "zwischen weißen und schwarzen bzw. dunklen und hellen Feldern. Dementsprechend sind insgesamt 32 weiße und 32 schwarze Felder\n",
    "auf dem Schachbrett zu finden. Alle Felder können mithilfe der zuvor genannten Beschriftung eindeutig identifiziert\n",
    "werden. Wenn in diesem Dokument Felder durch ein Kürzel, wie beispielsweise \"c5\", spezifiziert werden, ist das Feld\n",
    "gemeint, das in der Spalte \"*Buchstabe*\" und der Zeile \"*Zahl*\" zu finden ist. Das vorherige Beispiel befindet sich also in der dritten (c) Spalte und der fünften (5) Zeile.\n",
    "\n",
    "Im Folgenden werden die Spalten des Schachbretts als Linien und die Zeilen als Reihen bezeichnet.\n",
    "\n",
    "Dieses Schachbrett wird maximal von 32 Figuren besetzt (16 weiße und 16 schwarze Figuren). Eine Seite besteht aus\n",
    "insgesamt sechs unterschiedlichen Figuren. Bei diesen Figuren handelt es sich um:\n",
    "\n",
    "- Bauern (8)\n",
    "- Springer (2)\n",
    "- Läufer (2)\n",
    "- Türme (2)\n",
    "- Dame (1)\n",
    "- König (1)\n",
    "\n",
    "Die Zahl in den Klammern steht hierbei für die Anzahl an Figuren pro Spieler. Die Aufstellung zu Beginn des Spiels kann\n",
    "aus der folgenden Abbildung entnommen werden:\n",
    "\n",
    "![Grundaufstellung](Abbildungen/Grundaufstellung.png)"
   ]
  },
  {
   "cell_type": "markdown",
   "metadata": {},
   "source": [
    "### Bewegungsmöglichkeiten der Figuren  \n",
    "Jede der bereits genannten Figuren hat einen Wert und ein Bewegungsmuster. \n",
    "Figuren können im Rahmen dieses Bewegungsmuster bewegt werden, werden aber durch andere Figuren blockiert. Eine Figur kann nur \n",
    "in Ausnahmefällen übersprungen werden und blockiert grundsätzlich die Bewegungen aller anderen Figuren. \n",
    "Figuren des Gegners (der anderen Farbe), können geschlagen werden, indem eine eigene Figur auf dasselbe Feld gestellt wird. \n",
    "Eine geschlagene Figur wird vom Spielfeld entfernt. Zwei Figuren derselben Farbe können nicht auf demselben Feld platziert werden.\n",
    "TODO: Quelle für Werte\n",
    "Diese lauten wie folgt:  \n",
    "- **König** (unendlich): Der König gehört zu den unbeweglichsten Figuren auf dem Spielfeld. Er kann pro Zug nur ein Feld entlang\n",
    "einer Reihe, Linie oder Diagonalen bewegt werden. Dadurch besitzt er jedoch die Möglichkeit in jede Richtung eine gegnerische Figur\n",
    "zu schlagen. Als weitere Einschränkung muss beim Ziehen mit dem König beachtet werden, dass das angestrebte Feld nicht durch eine\n",
    "gegnerische Figur abgedeckt wird. Ein Feld gilt als abgedeckt, wenn eine gegnerische Figur es in einem Zug betreten und die darauf \n",
    "stehende Figur schlagen kann. Ist dies der Fall, darf der König nicht auf dieses Feld gesetzt werden.\n",
    "![König-Bewegungsmuster](Abbildungen/König.png)\n",
    "- **Turm** (5): Der Turm besitzt die Möglichkeit in einer Reihe oder Linie beliebig viele Felder zu überqueren\n",
    "(maximal bis zum Ende des Spielfeldes). Dabei gilt zu beachten, dass er durch Figuren derselben Farbe blockiert wird.\n",
    "Gegnerische Figuren kann er schlagen, indem er auf das entsprechende Feld gesetzt wird.\n",
    "![Turm-Bewegungsmuster](Abbildungen/Turm.png)\n",
    "- **Läufer** (3): Der Läufer kann, wie ein Turm, in geraden Linien bewegt werden. Er unterscheidet dadurch,\n",
    "dass er nur diagonal bewegt werden kann. Ein Läufer auf dem Feld \"a1\", kann folglich nur nach \"b2\", oder entlang der Diagonale\n",
    "bewegt werden.\n",
    "![Läufer-Bewegungsmuster](Abbildungen/Läufer.png)\n",
    "- **Dame** (9): Die Dame zählt zu den beweglichsten Figuren auf dem Spielfeld. Sie kombiniert die Bewegungsmuster des\n",
    "Läufers und des Turms. Das bedeutet, dass sie horizontal (entlang der Reihen), vertikal (entlang der Linien) und diagonal bewegt werden kann.\n",
    "![Dame-Bewegungsmuster](Abbildungen/Dame.png)\n",
    "- **Bauer** (1): Der Bauer ist die Figur, mit der geringsten Beweglichkeit. Dieser kann nur entlang der Spalte nach vorne bewegt werden.\n",
    "Die erste Bewegung jedes Bauern kann ein oder zwei Felder weit sein, folgende Bewegungen sind immer genau ein Feld weit. \n",
    "Eine Besonderheit des Bauerns, liegt in der Richtung, in die ein Bauer gegnerische Figuren schlagen darf. \n",
    "Dieser darf nur diagonal nach vorne schlagen. Weiter wird der Bauer in eine\n",
    "beliebige Spielfigur (außer einem Bauern und einem zweiten König) gewandelt, sobald er die Grundlinie des Gegners erreicht hat.\n",
    "![Bauer-Bewegungsmuster](Abbildungen/Bauer.png)\n",
    "- **Springer** (3): Der Springer besitzt im Gegensatz zu allen bereits beschriebenen Figuren keine lineare Bewegungsrichtung.\n",
    "Er kann um zwei Felder nach vorne und ein Feld zur Seite versetzt werden. Dieses Verfahren gilt in jede Richtung, \n",
    "sodass der Springer im Optimalfall acht Felder erreichen kann. Der Name des Springers kommt dadurch\n",
    "zustande, dass er die einzige Figur ist, die andere Figuren überspringen kann. Nur das \"Zielfeld\" kann durch eine eigene\n",
    "Figur blockiert werden. \n",
    "![Springer-Bewegungsmuster](Abbildungen/Springer.png)"
   ]
  },
  {
   "cell_type": "markdown",
   "metadata": {
    "collapsed": true,
    "pycharm": {
     "name": "#%% md\n"
    }
   },
   "source": [
    "## Spielablauf"
   ]
  },
  {
   "cell_type": "markdown",
   "metadata": {},
   "source": [
    "In einem Spiel ziehen die Spieler immer abwechselnd eine Figur ihrer Farbe. Den ersten Zug hat dabei immer weiß. \n",
    "\n",
    "Beide Spieler verfolgen während der ganzen Partie das Ziel den gegnerischen Spieler Schach-Matt zu setzen. Ein Spieler ist Schach-Matt, wenn folgende Bedingungen erfüllt sind:\n",
    "1. Der König wird durch eine gegnerische Figur bedroht.\n",
    "2. Der König kann dieser Bedrohung nicht ausweichen.\n",
    "\n",
    "Eine solche Bedrohung liegt vor, wenn der gegnerische Spieler, im nächsten Zug den König schlagen kann. Dies kann auf drei unterschiedliche Weisen pariert werden:\n",
    "1. Der König bewegt sich aus dem \"Schach\" \n",
    "2. Der Spieler schlägt die Schach-gebende Figur\n",
    "3. Eine Figur stellt sich zwischen die Schach-gebende Figur und den König\n",
    "\n",
    "Ein anderer Spielausgang neben dem Schach-Matt liegt in dem Patt. Ein Patt ist dann gegeben, wenn der Spieler, der am Zug ist, keine Figur mehr ziehen kann und der König des ziehenden nicht im Schach steht."
   ]
  },
  {
   "cell_type": "markdown",
   "metadata": {
    "pycharm": {
     "name": "#%% md\n"
    }
   },
   "source": [
    "Da diese Studienarbeit nicht vorsieht, das komplette Schachspiel zu erklären, werden die restlichen Spielregeln nicht näher erläutert. \n",
    "Diese werden aber in der [python-chess](https://python-chess.readthedocs.io/en/latest/) Bibliothek, welche für die Abbildung des Schachspiels im Code verwendet wird, umgesetzt und berücksichtigt."
   ]
  },
  {
   "cell_type": "markdown",
   "metadata": {
    "pycharm": {
     "name": "#%% md\n"
    }
   },
   "source": [
    "TODO:\n",
    "Anhand der Nummerierung der Notebooks können nun die einzelnen Schritte zur Erstellung und Validierung einer Schach-Endspiel-KI nachvollzogen werden. Die hierfür notwendigen Notebooks sind:\n",
    "Die einzelnen Notebooks begleiten chronologisch die Erstellung, Validierung und Verwendung einer Endspiel-KI. Die hierfür notwendigen Notebooks sind:\n",
    "\n",
    "1. 02_calculation.ipynb\n",
    "2. 03_play_against_ai.ipynb\n",
    "3. 04_play_from_history.ipynb\n",
    "4. 05_stockfish_compare.ipynb\n",
    "5. 06_validate_sequences.ipynb\n",
    "\n",
    "In Form des Util-Ordners werden zusätzlich allgemeine Importe und Funktionen aufgelistet, die für die Ausführung der aufgelisteten Notebooks benötigt werden.\n"
   ]
  }
 ],
 "metadata": {
  "kernelspec": {
   "display_name": "Python 3 (ipykernel)",
   "language": "python",
   "name": "python3"
  },
  "language_info": {
   "codemirror_mode": {
    "name": "ipython",
    "version": 3
   },
   "file_extension": ".py",
   "mimetype": "text/x-python",
   "name": "python",
   "nbconvert_exporter": "python",
   "pygments_lexer": "ipython3",
   "version": "3.10.2"
  }
 },
 "nbformat": 4,
 "nbformat_minor": 1
}