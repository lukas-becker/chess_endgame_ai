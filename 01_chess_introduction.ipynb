{
 "cells": [
  {
   "cell_type": "code",
   "execution_count": null,
   "metadata": {
    "pycharm": {
     "name": "#%%\n"
    }
   },
   "outputs": [],
   "source": [
    "%%HTML\n",
    "<style>\n",
    ".container { width:100% }\n",
    "</style>"
   ]
  },
  {
   "cell_type": "code",
   "execution_count": null,
   "metadata": {},
   "outputs": [],
   "source": [
    "%run Util/00_imports.ipynb"
   ]
  },
  {
   "cell_type": "markdown",
   "metadata": {},
   "source": [
    "# Einleitung"
   ]
  },
  {
   "cell_type": "markdown",
   "metadata": {},
   "source": [
    "Bei Schach handelt es sich um ein Brettspiel, das insgesamt von zwei Spielern gespielt werden kann."
   ]
  },
  {
   "cell_type": "markdown",
   "metadata": {},
   "source": [
    "## Aufgabenstellung"
   ]
  },
  {
   "cell_type": "markdown",
   "metadata": {},
   "source": [
    "Das Ziel dieser Arbeit besteht in der Implementierung einer künstlichen Intelligenz, die in der Lage ist, für einfache\n",
    "Spielsituationen den optimalen Zug und daraufhin den optimalen Spielverlauf anzugeben. Für die Implementierung wird die\n",
    "Programmiersprache Python verwendet. Mithilfe der Bibliothek python-chess und einem Jupyter-Notebook soll es möglich\n",
    "sein, die momentane Situation des Spiels einzutragen und für folgende Situationen einen Vorschlag für den nächsten Zug\n",
    "zu erhalten:\n",
    "1. König und Turm gegen König\n",
    "2. König und zwei Läufer gegen König\n",
    "3. König, Läufer und Springer gegen König\n",
    "4. König und Bauer gegen König"
   ]
  },
  {
   "cell_type": "markdown",
   "metadata": {},
   "source": [
    "# Schach"
   ]
  },
  {
   "cell_type": "markdown",
   "metadata": {},
   "source": []
  },
  {
   "cell_type": "markdown",
   "metadata": {},
   "source": [
    "## Spielbrett und Spielfiguren\n",
    "Ein Schachbrett besteht aus insgesamt 64 Feldern, die in einer 8x8 Matrix angeordnet sind. Dabei werden die Spalten mit\n",
    "den Buchstaben a-h und die Zeilen mit den Zahlen 1-8 beschriftet. Das typische Schachmuster entsteht durch einen Wechsel\n",
    "der weißen und schwarzen bzw dunklen und hellen Felder. Dementsprechend sind insgesamt 32 weiße und 32 schwarze Felder\n",
    "auf dem Schachbrett zu finden. Die Felder können mithilfe der zuvor genannten Beschriftung auch eindeutig identifiziert\n",
    "werden. Sofern in dem folgenden Dokument Felder durch beispielsweise \"c5\" angesprochen werden, ist hiermit das Feld\n",
    "gemeint, das in der Spalte \"C\" und der Zeile \"5\" zu finden ist.\n",
    "\n",
    "Im Folgenden werden die Spalten des Schachbretts als Linien und die Zeilen als Reihen bezeichnet.\n",
    "\n",
    "Dieses Schachbrett wird grundsätzlich von 32 Figuren besetzt (16 weiße und 16 schwarze Figuren). Eine Seite besteht aus\n",
    "insgesamt sechs unterschiedlichen Figuren. Bei diesen Figuren handelt es sich um:\n",
    "\n",
    "- Bauern (8)\n",
    "- Springer (2)\n",
    "- Läufer (2)\n",
    "- Türme (2)\n",
    "- Dame (1)\n",
    "- König (1)\n",
    "\n",
    "Die Zahl in den Klammern steht hierbei für die Anzahl an Figuren pro Seite. Die Aufstellung zu Beginn des Spiels kann\n",
    "aus der folgenden Zelle entnommen werden:"
   ]
  },
  {
   "cell_type": "code",
   "execution_count": null,
   "metadata": {
    "pycharm": {
     "name": "#%%\n"
    }
   },
   "outputs": [],
   "source": [
    "board = chess.Board()\n",
    "board"
   ]
  },
  {
   "cell_type": "markdown",
   "metadata": {},
   "source": [
    "#### Bewegungsmöglichkeiten der Figuren\n",
    "Jeder der bereits genannten Figuren besitzt einerseits einen eigenen Wert, aber auch ein eigenes Bewegungsmuster.\n",
    "Diese lauten wie folgt:\n",
    "- **König** (unendlich): Der König gehört mit zu den unbeweglichsten Figuren auf dem Spielfeld. Er kann pro Zug nur ein Feld entlang\n",
    "einer Reihe, Linie oder Diagonalen gehen. Jedoch besitzt dieser die Möglichkeit in jede Richtung eine gegnerische Figur\n",
    "zu schlagen. Weiterhin gilt bei dem Ziehen mit dem König zu beachten, dass das angestrebte Feld nicht durch eine\n",
    "gegnerische Figur abgedeckt wird. Sofern dies der Fall ist, darf der König dieses Feld nicht betreten.\n",
    "- **Türme** (5): Der Turm besitzt die Möglichkeit entlang einer Reihe oder Linie so viele Felder zu überqueren wie man\n",
    "möchte (maximal bis zum Ende des Spielfeldes. Dabei gilt es aber zu beachten, dass er durch seine eigenen Figuren\n",
    "blockiert wird. Gegnerische Figuren kann er jedoch schlagen.\n",
    "- **Läufer** (3): Der Läufer ähnelt dem Bewegungsmuster eines Turmes mit dem Unterschied, dass dieser sich nur über die\n",
    "Diagonalen bewegen kann. Er kann jedoch selbst von den eigenen Figuren blockiert werden, aber auch gegnerische Figuren\n",
    "schlagen.\n",
    "- **Dame** (9): Die Dame zählt zu den beweglichsten Figuren auf dem Spielfeld. Sie kombiniert die Bewegungsmuster des\n",
    "Läufers und des Turms. Sie kann dennoch von eigenen Figuren ebenfalls blockiert werden, gleichermaßen aber auch\n",
    "gegnerische Figuren schlagen.\n",
    "- **Bauer** (1): Der Bauer ist die erste Figur, die ein ungewöhnlicheres Bewegungsmuster besitzt. Dieser kann nur,\n",
    "sofern er noch nicht bewegt wurde, zwei Schritte entlang der Spalte nach vorne machen. Ansonsten kann er immer nur einen\n",
    "Schritt nach vorne machen. Die Besonderheit, die mit dem Bauern eingeht, liegt in der Richtung, in die ein Bauer\n",
    "schlagen darf. Dieser darf nämlich nur diagonal nach vorne schlagen. Weiterhin verwandelt sich der Bauer in eine\n",
    "beliebige Spielfigur (außer dem Bauern selbst und einem zweiten König) sobald er die Grundlinie des Gegners erreicht hat.\n",
    "- **Springer** (3): Der Springer besitzt im Gegensatz zu den bereits beschriebenen Figuren keine lineare Bewegungsrichtung.\n",
    "Diese spiegelt sich in der Bewegung um zwei Felder nach vorne und einem Feld zur Seite wider. Dieses Verfahren gilt in\n",
    "jede Richtung, sodass der Springer im Optimalfall acht Felder erreichen kann. Der Name des Springers kommt dadurch\n",
    "zustande, dass er die einzige Figur ist, die andere Figuren überspringen darf. Nur das \"Zielfeld\" kann durch eine eigene\n",
    "Figur blockiert werden. Auf diesem Feld kann aber genauso eine gegnerische Figur stehen, die durch den Springer\n",
    "geschlagen werden kann.\n",
    "\n",
    "Weiterhin besitzen die Figuren auch Werte, die die Bedeutung der Figuren im Verhältnis zu den anderen aufzeigt. Diese\n",
    "werden in Form der Werte in den Klammern gekennzeichnet."
   ]
  },
  {
   "cell_type": "markdown",
   "metadata": {
    "collapsed": true,
    "pycharm": {
     "name": "#%% md\n"
    }
   },
   "source": [
    "## Spielablauf"
   ]
  },
  {
   "cell_type": "markdown",
   "metadata": {},
   "source": [
    "In einem Spiel ziehen die Spieler immer abwechselnd eine Figur ihrer Farbe. Den ersten Zug hat dabei immer weiß. \n",
    "\n",
    "Beide Spieler verfolgen während der ganzen Partie das Ziel den gegnerischen Spieler Schach-Matt zu setzen. Ein Spieler ist Schach-Matt, wenn folgende Bedingungen erfüllt sind:\n",
    "1. Der König wird durch eine gegnerische Figur bedroht.\n",
    "2. Der König kann dieser Bedrohung nicht mehr ausweichen.\n",
    "\n",
    "Eine solche Bedrohung liegt genau dann vor, wenn dem Spieler droht, im nächsten Zug seinen König geschlagen zu bekommen. Dies kann aber auch auf drei unterschiedliche Weisen pariert werden:\n",
    "1. Der König bewegt sich aus dem \"Schach\" \n",
    "2. Der Spieler schlägt die Schach-gebende Figur\n",
    "3. Eine Figur stellt sich zwischen die Schach-gebende Figur und den König\n",
    "\n",
    "Ein anderer Spielausgang neben dem Schach-Matt liegt in dem Patt. Ein Patt ist dann gegeben, wenn der Spieler, der am Zug ist, keine Figur mehr ziehen kann und zusätzlich der König nicht im Schach steht."
   ]
  },
  {
   "cell_type": "markdown",
   "metadata": {
    "pycharm": {
     "name": "#%% md"
    }
   },
   "source": [
    "## Besondere Spielzüge\n",
    "\n",
    "### \"En passent\" schlagen\n",
    "\n",
    "### Rochade"
   ]
  },
  {
   "cell_type": "markdown",
   "metadata": {},
   "source": [
    "## Spielregeln\n",
    "\n",
    "### Dreifache Stellungswiederholung\n",
    "\n",
    "### 50-Züge Regeln\n",
    "\n",
    "### Remisangebot"
   ]
  },
  {
   "cell_type": "markdown",
   "metadata": {},
   "source": [
    "## Spielphasen"
   ]
  }
 ],
 "metadata": {
  "kernelspec": {
   "display_name": "Python 3 (ipykernel)",
   "language": "python",
   "name": "python3"
  },
  "language_info": {
   "codemirror_mode": {
    "name": "ipython",
    "version": 3
   },
   "file_extension": ".py",
   "mimetype": "text/x-python",
   "name": "python",
   "nbconvert_exporter": "python",
   "pygments_lexer": "ipython3",
   "version": "3.9.5"
  }
 },
 "nbformat": 4,
 "nbformat_minor": 1
}