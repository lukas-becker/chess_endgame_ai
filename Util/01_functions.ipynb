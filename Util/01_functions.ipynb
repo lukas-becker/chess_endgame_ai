{
 "cells": [
  {
   "cell_type": "markdown",
   "source": [
    "## Funktionen\n",
    "\n",
    "> Potenzielles TODO: Zu jeder hier definierten Funktion schreiben in welchem Notebook sie verwendet werden.\n",
    "\n",
    "Neben den Importen werden auch drei Funktionen definiert, die über die verwendeten Notebooks hinweg benötigt werden. Für die Verwendung muss ebenfalls dieses Notebook zuerst ausgeführt werden.\n",
    "\n",
    "> %run Util/01_functions.ipynb"
   ],
   "metadata": {
    "collapsed": false,
    "pycharm": {
     "name": "#%% md\n"
    }
   }
  },
  {
   "cell_type": "markdown",
   "source": [
    "> TODO: Darstellungsweise der Parameter und Rückgabewerte evtl. anpassen\n",
    "> TODO: Begriff \"situation\" hat ihm im Verlauf der Arbeit nicht verstanden\n",
    "\n",
    "Als Nächstes wird eine Funktion definiert, die die Suche innerhalb einer ``sequence`` ermöglicht. Diese ``sequence`` ist eine Liste bestehend aus Mengen. In diesen Mengen stehen die Spielsituationen in einer der drei zuvor erwähnten Darstellungsweisen. Bei der ``situation`` muss darauf geachtet werden, dass sie die gleiche Darstellung besitzt wie die Elemente in der ``sequence``. Sofern die Funktion ``find_situation_in_sequence`` die Spielsituation in einer der Mengen findet, wird der Mengenindex der Liste zurückgegeben. Andernfalls lautet der Rückgabewert -1."
   ],
   "metadata": {
    "collapsed": false,
    "pycharm": {
     "name": "#%% md\n"
    }
   }
  },
  {
   "cell_type": "code",
   "execution_count": null,
   "outputs": [],
   "source": [
    "def find_situation_in_sequence(situation, sequence):\n",
    "    for i in range(len(sequence)):\n",
    "        if situation in sequence[i]:\n",
    "            return i\n",
    "    return -1"
   ],
   "metadata": {
    "collapsed": false,
    "pycharm": {
     "name": "#%%\n"
    }
   }
  },
  {
   "cell_type": "markdown",
   "source": [
    "## Import der Daten\n",
    "\n",
    "Für die Bestimmung der Züge der KI werden die $S_n$ Mengen verwendet, die im Notebook ``02_calculation.ipynb`` berechnet werden.\n",
    "Eine Erklärung worum es sich hierbei handelt, findet sich in diesem Notebook.\n",
    "Die Ergebnisse der Berechnung werden mittels `pickle` serialisiert und in einer ZIP-Datei komprimiert abgespeichert. Zur Verwendung wird das Archiv entpackt und \n",
    "die Daten eingelesen. \n",
    "Weitere Informationen zum Inhalt der Datei befinden sich ebenfalls im Notebook ``calculation.ipynb``.   \n",
    "\n",
    "Die Funktion `load_data(filename)` erhält den Dateinamen (``filename``) als Parameter und gibt die Endspieldaten zurück.\n",
    "Die Rückgabe besteht aus einer Liste von verwendeten Figuren `piece_list` und einer Liste von Mengen `s_n_sequence_integers`, welche die Situationen als Integer enthalten. \n",
    "Diese Mengen enthalten jedoch nur die einzigartigen (ungespiegelten) Spielsituationen, für eine Auswertung, müssen sie noch gespiegelt werden."
   ],
   "metadata": {
    "collapsed": false,
    "pycharm": {
     "name": "#%% md\n"
    }
   }
  },
  {
   "cell_type": "code",
   "execution_count": null,
   "outputs": [],
   "source": [
    "def load_data(filename):\n",
    "    s_n_sequence_integers = []\n",
    "\n",
    "    with ZipFile(\"S_n_Results/\" + filename + \".chessAI\", \"r\") as zipped:\n",
    "        with zipped.open(\"piece_list.pickle\") as piece_list_file:\n",
    "            piece_list = pickle.loads(piece_list_file.read())\n",
    "            piece_list_file.close()\n",
    "\n",
    "        file_list = zipped.namelist()\n",
    "        file_list.remove(\"piece_list.pickle\")\n",
    "        for file in file_list:\n",
    "            with zipped.open(file) as s_n:\n",
    "                s_n_sequence_integers.append(pickle.loads(s_n.read()))\n",
    "                s_n.close()\n",
    "        zipped.close()\n",
    "    return piece_list, s_n_sequence_integers"
   ],
   "metadata": {
    "pycharm": {
     "name": "#%%\n"
    }
   }
  },
  {
   "cell_type": "markdown",
   "source": [
    "## Effiziente Speichernutzung\n",
    "Um den Arbeitsspeicher effizient zu nutzen, können Spielsituationen nicht als Objekte der ``chess`` Bibliothek gespeichert werden.\n",
    "Einer ausgabe von `sys.getsizeof` zufolge benötigt ein Board-Objekt 48 Byte Speicher. Das ist bereits doppelt so viel, wie die 24 Byte eines Standard-Integers.\n",
    "`sys.getsizeof` bestimmt jedoch nur die Größe des eigentlichen Objektes. Verwaltet dieses Pointer auf andere Objekte, ist die tatsächliche Größe höher.\n",
    "Um nicht pro Stellung ein Objekt mit >=48 Byte zu benötigen werden die Positionen der Figuren als Binärer-Wert kodiert und als Integer gespeichert. \n",
    "\n",
    "Die Funktion `to_integer` berechnet für ein `board` und eine Liste der darauf befindlichen Figuren `piece_list` diese Zahl.\n",
    "Es ist wichtig die Liste der Figuren als Übergabeparameter zu erhalten und nicht zu berechnen, da die Position einer Figur in der Liste mit der Position im Binärcode übereinstimmt.\n",
    "Bei der Dekodierung wird aus dieser Position die Figur bestimmt. \n",
    "Das geringwertigste Bit speichert die Information, welcher Spieler am Zug ist.\n",
    "Die folgenden (pro Figur 6) Bits kodieren die Zahl, welche der Position einer Figur auf dem Spielfeld entspricht.\n",
    "Die Reihenfolge der Figuren entspricht deren Reihenfolge in der `piece_list`.\n",
    "  \n",
    "Die Funktion gibt einen Integer mit 24 oder 32 Byte Größe (32 Byte bei Bauern in der Stellung) zurück, welcher die Spielsituation repräsentiert.\n",
    "\n",
    "### Beispiel der Kodierung:\n",
    "Für das Board:\n",
    "```\n",
    ". . . . k . . .\n",
    ". . . . . . . .\n",
    ". . . . . . . .\n",
    ". . . . . . . .\n",
    ". . . . . . . .\n",
    ". . . . . . . .\n",
    ". . . . . Q . .\n",
    ". . . . K . . .\n",
    "```\n",
    "Mit der zugehörigen piece_list:\n",
    "`[chess.Piece.from_symbol('k'), chess.Piece.from_symbol('K'), chess.Piece.from_symbol('Q')]`\n",
    "\n",
    "Wird zuerst die `piece_map` bestimmt:\n",
    "`{4: Piece.from_symbol('K'), 60: Piece.from_symbol('k'), 13: Piece.from_symbol('Q')}`\n",
    "(Hinweis: Für dieses Beispiel wurde die Reihenfolge der Elemente in der ``piece_map`` vertauscht)\n",
    "\n",
    "Anschließend wird der Spieler am Zug in das erste Bit kodiert.\n",
    "Dieses ist somit `0` oder `1`.\n",
    "\n",
    "Zum Kodieren der Positionen wird über die Inhalte der Piece Map iteriert. \n",
    "Das erste Element ist der weiße König `K`.\n",
    "Für dieses wird der Index in der `piece_list` bestimmt. Dieser ist `0`.\n",
    "Die Position 4 (aus der `piece_map`) wird nun an die Positionen 1 bis 7 (Index 0 in `piece_list`) der Binärzahl zu `0000100` kodiert.\n",
    "Für das nächste Element (`k`) wird die Position (`60`) an die Stellen 8 bis 14 (Index 1  in `piece_list`) zu `0111100` kodiert.\n",
    "Für das letzt Element (`Q`) wird die Position (`13`) an die Stellen 15 bis 21 (Index 2  in `piece_list`) zu `0001101` kodiert.\n",
    "\n",
    "Daraus entsteht die folgende Binärzahl: `001101011110000001001`, welche von der Funktion als Integer `441353` zurückgegeben wird.\n"
   ],
   "metadata": {
    "collapsed": false,
    "pycharm": {
     "name": "#%% md\n"
    }
   }
  },
  {
   "cell_type": "markdown",
   "source": [
    "Die Funktion `to_board` wandelt einen Integer und eine Liste von Figuren `piece_list` in einer Spielsituation in ein Board-Objekt.\n",
    "Das geringwertigste Bit, wird in die Information welcher Spieler am Zug ist konvertiert.\n",
    "Die verbleibenden Bits werden nacheinander zu einer Zahl gewandelt, welche einem Spielfeld (`square`) entspricht. \n",
    "\n",
    "Die bestimmten Informationen über Zug und Piece-Map werden einem neuen Board-Objekt hinzugefügt, welches von der Funktion zurückgegeben wird.\n"
   ],
   "metadata": {
    "collapsed": false,
    "pycharm": {
     "name": "#%% md\n"
    }
   }
  }
 ],
 "metadata": {
  "kernelspec": {
   "display_name": "Python 3 (ipykernel)",
   "language": "python",
   "name": "python3"
  },
  "language_info": {
   "codemirror_mode": {
    "name": "ipython",
    "version": 3
   },
   "file_extension": ".py",
   "mimetype": "text/x-python",
   "name": "python",
   "nbconvert_exporter": "python",
   "pygments_lexer": "ipython3",
   "version": "3.9.10"
  }
 },
 "nbformat": 4,
 "nbformat_minor": 1
}