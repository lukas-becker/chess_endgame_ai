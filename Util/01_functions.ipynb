{
 "cells": [
  {
   "cell_type": "markdown",
   "metadata": {
    "collapsed": true,
    "pycharm": {
     "name": "#%% md\n"
    }
   },
   "source": [
    "## Funktionen\n",
    "\n",
    "> Potenzielles TODO: Zu jeder hier definierten Funktion schreiben in welchem Notebook sie verwendet werden.\n",
    "\n",
    "Neben den Importen werden auch drei Funktionen definiert, die über die verwendeten Notebooks hinweg benötigt werden. Für die Verwendung muss ebenfalls dieses Notebook zuerst ausgeführt werden.\n",
    "\n",
    "> %run Util/01_functions.ipynb"
   ]
  },
  {
   "cell_type": "markdown",
   "metadata": {
    "pycharm": {
     "name": "#%% md\n"
    }
   },
   "source": [
    "Die erste Funktion, die innerhalb dieses Notebooks definiert wird, befasst sich mit der Umwandlung von einer der drei genutzten Darstellungsweisen in eine andere. Bei diesen Darstellungsweisen handelt es sich um:\n",
    "\n",
    "> TODO: Für jede Darstellungsweise ein Beispiel aufführen\n",
    "> TODO: Darstellungsweisen updaten\n",
    "> TODO: Darstellung in ganzen Sätzen beschreiben\n",
    "\n",
    "* Die Forsyth-Edward-Notation (FEN). Diese besteht aus insgesamt sechs Teilstrings, die zur Beschreibung einer Schachpartie benötigt werden. Eine FEN besteht aus folgenden Elementen:\n",
    "    * Die Platzierung der Spielfiguren auf dem Schachbrett.\n",
    "    * Die Farbe, die gerade am Zug ist.\n",
    "    * Die Möglichkeiten, noch eine Rochade durchzuführen.\n",
    "    * Die Felder hinter einem Bauern, der per En Passant geschlagen werden können.\n",
    "    * Die Anzahl an Halbzügen, seitdem die letzte Figur geschlagen wurde oder ein Bauer vorgestoßen ist.\n",
    "    * Die Anzahl an durchgeführten Zügen.\n",
    "* Die gekürzte FEN-Schreibweise. Diese besteht im Gegensatz zur klassischen FEN-Schreibweise nur aus der Platzierung der Spielfiguren und der Farbe, die aktuell am Zug ist.\n",
    "* Und ein Zwei-Tupel. Dieses Tupel besitzt als ersten Wert einen booleschen Wert, der die aktuelle Farbe darstellt, die am Zug ist. Der zweite Eintrag stellt eine ASCII-Repräsentation eines gesamten Schachbretts dar."
   ]
  },
  {
   "cell_type": "markdown",
   "source": [
    "> TODO: Stroetmann hat nicht verstanden welche Parameter mitgegeben werden und welche zurückgegeben wird, muss gegeben sein\n",
    "> TODO: Stroetmann hat den Zusammenhang zu Absatz vorher nicht verstanden\n",
    "\n",
    "Die Funktion ``get_board_and_turn`` erstellt nun für eine mitgegebene ``fen`` die gekürzte FEN-Schreibweise und gibt diese zurück."
   ],
   "metadata": {
    "collapsed": false,
    "pycharm": {
     "name": "#%% md\n"
    }
   }
  },
  {
   "cell_type": "code",
   "execution_count": null,
   "metadata": {
    "pycharm": {
     "name": "#%%\n"
    }
   },
   "outputs": [],
   "source": [
    "def get_board_and_turn(fen):\n",
    "    split = fen.split()\n",
    "    short_fen = str(split[0]) + \" \" + str(split[1])\n",
    "    return short_fen"
   ]
  },
  {
   "cell_type": "markdown",
   "metadata": {
    "pycharm": {
     "name": "#%% md\n"
    }
   },
   "source": [
    "> TODO: Darstellungsweise der Parameter und Rückgabewerte evtl. anpassen\n",
    "> TODO: Begriff \"situation\" hat ihm im Verlauf der Arbeit nicht verstanden\n",
    "\n",
    "Als Nächstes wird eine Funktion definiert, die die Suche innerhalb einer ``sequence`` ermöglicht. Diese ``sequence`` ist eine Liste bestehend aus Mengen. In diesen Mengen stehen die Spielsituationen in einer der drei zuvor erwähnten Darstellungsweisen. Bei der ``situation`` muss darauf geachtet werden, dass sie die gleiche Darstellung besitzt wie die Elemente in der ``sequence``. Sofern die Funktion ``find_situation_in_sequence`` die Spielsituation in einer der Mengen findet, wird der Mengenindex der Liste zurückgegeben. Andernfalls lautet der Rückgabewert -1."
   ]
  },
  {
   "cell_type": "code",
   "execution_count": null,
   "metadata": {
    "pycharm": {
     "name": "#%%\n"
    }
   },
   "outputs": [],
   "source": [
    "def find_situation_in_sequence(situation, sequence):\n",
    "    for i in range(len(sequence)):\n",
    "        if situation in sequence[i]:\n",
    "            return i\n",
    "    return -1"
   ]
  },
  {
   "cell_type": "markdown",
   "metadata": {
    "pycharm": {
     "name": "#%% md\n"
    }
   },
   "source": [
    "Im weiteren Verlauf dieser Studienarbeit werden in dem Notebook ``02_calculation.ipynb`` Ergebnisse berechnet, die für eine spätere Validierung benötigt werden. Da die Ergebnisse eine beachtliche Größe besitzen, werden diese lokal abgespeichert und müssen für eine spätere Verwendung erneut geladen werden. Hiermit wird verhindert, dass der Nutzer vor jeder Verwendung der KI warten muss, bis die Endspielsituation berechnet wurde.\n",
    "Hierfür wird die Funktion ``load_data`` definiert. Diese nimmt den Dateinamen (``filename``) einer ``.chessTest`` entgegen, die in dem Ordner ``S_n_Results`` gespeichert werden. \n",
    "Aus dieser Datei wird die ``piece_list`` sowie eine Liste von Mengen generiert, die Spielsituation in der Integer-Repräsentation (``s_n_sequence_integers``) speichern. Diese werden zurückgegeben."
   ]
  },
  {
   "cell_type": "code",
   "execution_count": null,
   "metadata": {
    "pycharm": {
     "name": "#%%\n"
    }
   },
   "outputs": [],
   "source": [
    "def load_data(filename):\n",
    "    s_n_sequence_integers = []\n",
    "    with ZipFile(\"S_n_Results/\" + filename + \".chessAI\") as zipped:\n",
    "        with zipped.open(filename + \".pickle\") as calculation:\n",
    "            tmp = pickle.loads(calculation.read())\n",
    "            piece_list = tmp[0]\n",
    "            for item in tmp[1:]:\n",
    "                s_n_sequence_integers.append(item)\n",
    "    return piece_list, s_n_sequence_integers"
   ]
  },
  {
   "cell_type": "markdown",
   "source": [
    "> TODO: Kommentare mit Parameter und Rückgabewerte schreiben\n",
    "> TODO: Konzept mit dem Integer beschreiben"
   ],
   "metadata": {
    "collapsed": false,
    "pycharm": {
     "name": "#%% md\n"
    }
   }
  },
  {
   "cell_type": "code",
   "execution_count": null,
   "outputs": [],
   "source": [
    "def to_integer(board, piece_list):\n",
    "    tmp_list = piece_list.copy()\n",
    "    piece_map = board.piece_map()\n",
    "    int_rep = 1 if board.turn else 0\n",
    "\n",
    "    pawn = chess.Piece.from_symbol(\"P\")\n",
    "    if pawn in piece_map.values():\n",
    "        tmp_list.append(pawn)\n",
    "        # Pawn and Queen will not be on the same board\n",
    "        # This is in line with the tasks in readme.md\n",
    "        piece_map[127] = chess.Piece.from_symbol('Q')\n",
    "\n",
    "    for piece in piece_map:\n",
    "        index = tmp_list.index(piece_map[piece])\n",
    "        tmp_list[index] = None\n",
    "        int_rep |= piece << index * 7 + 1 \n",
    "        \n",
    "    return int_rep"
   ],
   "metadata": {
    "collapsed": false,
    "pycharm": {
     "name": "#%%\n"
    }
   }
  },
  {
   "cell_type": "markdown",
   "source": [
    "> TODO: Kommentare mit Parameter und Rückgabewerte schreiben"
   ],
   "metadata": {
    "collapsed": false,
    "pycharm": {
     "name": "#%% md\n"
    }
   }
  },
  {
   "cell_type": "code",
   "execution_count": null,
   "outputs": [],
   "source": [
    "def to_board(int_rep, piece_list):\n",
    "    tmp_list = piece_list.copy()\n",
    "    pawn = chess.Piece.from_symbol(\"P\")\n",
    "    tmp_list.append(pawn)\n",
    "\n",
    "    n = len(piece_list)\n",
    "    new_piece_map = {}\n",
    "\n",
    "    turn = int_rep & 1\n",
    "    int_rep = int_rep >> 1\n",
    "\n",
    "    for i in range(len(piece_list)):\n",
    "        pos = int_rep & 127\n",
    "        if pos > 63:\n",
    "            continue\n",
    "        new_piece_map[pos] = tmp_list[i]\n",
    "        int_rep = int_rep >> 7\n",
    "\n",
    "    res = chess.Board(None)\n",
    "    res.turn = bool(turn)\n",
    "    res.set_piece_map(new_piece_map)\n",
    "    return res\n"
   ],
   "metadata": {
    "collapsed": false,
    "pycharm": {
     "name": "#%%\n"
    }
   }
  }
 ],
 "metadata": {
  "kernelspec": {
   "display_name": "Python 3 (ipykernel)",
   "language": "python",
   "name": "python3"
  },
  "language_info": {
   "codemirror_mode": {
    "name": "ipython",
    "version": 3
   },
   "file_extension": ".py",
   "mimetype": "text/x-python",
   "name": "python",
   "nbconvert_exporter": "python",
   "pygments_lexer": "ipython3",
   "version": "3.9.10"
  }
 },
 "nbformat": 4,
 "nbformat_minor": 1
}