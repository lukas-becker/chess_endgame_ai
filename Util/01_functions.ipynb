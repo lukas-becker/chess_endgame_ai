{
 "cells": [
  {
   "cell_type": "markdown",
   "metadata": {
    "collapsed": true,
    "pycharm": {
     "name": "#%% md\n"
    }
   },
   "source": [
    "## Funktionen\n",
    "\n",
    "Neben den Importen werden auch mehrere(Zahl) Funktionen zuvor definiert, die über die verwendeten Notebooks hinweg benötigt werden"
   ]
  },
  {
   "cell_type": "markdown",
   "metadata": {},
   "source": [
    "Der erste Schritt, um einen Zug für die KI zu ermitteln, liegt im Finden der momentanen Spielsituation. Dies wird mit der Funktion ``find_situation_in_sequence`` erreicht. Sie dursucht eine gegebene $S_n$ Sequenz nach einem übergebenen Schachbrett. Die Parameter hierfür lauten wie folgt:\n",
    "\n",
    "* ``situation``: Das Board (als Objekt), welches gefunden werden soll.\n",
    "* sequence: Die $S_n$ Sequenz, in welcher das Board gesucht wird.\n",
    "\n",
    "Das Ergebnis der Funktion kann insgesamt zwei unterschiedliche Formen annehmen:\n",
    "* Ein Tupel mit $S_n$ Index (z.B. $S_3$) und Board-Index (z.B. 100).Dieses Tupel drückt aus, wo in der Sequenz das Board gefunden wurde.\n",
    "* Das Tupel (-1,-1). Dies drückt aus, dass das Board nicht gefunden wurde.\n",
    "\n",
    "Das Ergebniss wird mithilfe von dem anschließenden Algorithmus bestimmt:\n",
    "1. Über die $S_n$ Sequenz iterieren.\n",
    "2. Über jedes Board in einem spezifischem $S_n$ iterieren.\n",
    "3. Das Board mit dem ``situation`` Objekt vergleichen.\n",
    "    1. Wenn das Board übereinstimmt, die Indizes zurückgeben.\n",
    "    2. Wenn das Board nicht übereinstimmt, weitersuchen."
   ]
  },
  {
   "cell_type": "markdown",
   "metadata": {},
   "source": [
    "Der erste Schritt, um eine Zugliste zu erstellen, liegt in der Ermittlung eines Spielzuges für die KI. Hierfür muss zunächst die $S_n$ Menge bestimmt werden, in der die FEN vorliegt. Dies wird mit der Funktion ``find_board_in_sequence`` erreicht. Sie durchsucht eine gegebene $S_n$ Sequenz nach einem übergebenen Schachbrett. Dieses Schachbrett wird in der FEN-Schreibweise übergeben. Zusätzlich wird eine Liste von $S_n$ Mengen übergeben (``sequence_short``), in der letztendlich die ``fen`` gefunden werden soll. Am Ende der Funktion wird der Index der $S_n$ Menge ausgegeben, in der die FEN gefunden wurde. Falls das Board nicht in den übergebenen Mengen gefunden werden kann, wird stattdessen -1 zurückgegeben."
   ]
  },
  {
   "cell_type": "code",
   "execution_count": 1,
   "metadata": {
    "pycharm": {
     "name": "#%%\n"
    }
   },
   "outputs": [],
   "source": [
    "def find_situation_in_sequence(situation, sequence):\n",
    "    for i in range(len(sequence)):\n",
    "        if situation in sequence[i]:\n",
    "            return i\n",
    "    return -1"
   ]
  },
  {
   "cell_type": "markdown",
   "metadata": {},
   "source": [
    "Der Vergleich der Spielbretter findet in diesem Notebook anhand der FEN-Schreibweise statt. Diese wird in zweierlei Form verwendet, in ihrer gesamten und in einer gekürzten Schreibweise. Die gekürzte Schreibweise beinhaltet nur das momentane Spielfeld, aber auch die Farbe, die gerade am Zug ist. Zur Erstellung dieser Schreibweise wurde die Funktion ``get_board_and_turn`` geschrieben. Diese erhält als Parameter eine komplette ``fen`` und gibt in der FEN-Notation das Brett und die Farbe, die am Zug ist, als String zurück."
   ]
  },
  {
   "cell_type": "code",
   "execution_count": null,
   "metadata": {},
   "outputs": [],
   "source": [
    "def get_board_and_turn(fen):\n",
    "    split = fen.split()\n",
    "    short_fen = str(split[0]) + \" \" + str(split[1])\n",
    "    return short_fen"
   ]
  },
  {
   "cell_type": "markdown",
   "metadata": {},
   "source": [
    "Für die Bestimmung der Züge der KI werden die $S_n$ Mengen verwendet, die mit Hilfe des Notebooks ``calculation.ipynb`` bestimmt werden. Diese wurden bereits in einer JSON-Datei serialisiert abgespeichert. Für dieses Notebook werden alle FENs gelesen und daraus Board-Objekte erstellt. Dies geschieht mit der Funktion ``load_s_n_sequence``. Diese erhält den Dateipfad (``filepath``) als Parameter, um aus der Datei die $S_n$ Mengen auslesen zu können. Als Rückgabewert gibt sie sowohl die ausgeschriebenen FENs, als auch die gekürzten FENs zurück.\n"
   ]
  },
  {
   "cell_type": "code",
   "execution_count": null,
   "metadata": {},
   "outputs": [],
   "source": [
    "def load_s_n_fens(filename):\n",
    "    s_n_sequence_fen = []\n",
    "    s_n_sequence_short_fen = []\n",
    "    with (open(\"S_n_Results/\" + filename + \".chessTest\", \"rb\")) as test_fens:\n",
    "        tmp = pickle.loads(test_fens.read())\n",
    "        for item in tmp:\n",
    "            tmp_set_fen = set()\n",
    "            tmp_set_short = set()\n",
    "            for fen in item:\n",
    "                tmp_set_fen.add(fen)\n",
    "                tmp_set_short.add(get_board_and_turn(fen))\n",
    "            s_n_sequence_fen.append(tmp_set_fen)\n",
    "            s_n_sequence_short_fen.append(tmp_set_short)\n",
    "    return s_n_sequence_fen, s_n_sequence_short_fen"
   ]
  }
 ],
 "metadata": {
  "kernelspec": {
   "display_name": "Python 3 (ipykernel)",
   "language": "python",
   "name": "python3"
  },
  "language_info": {
   "codemirror_mode": {
    "name": "ipython",
    "version": 3
   },
   "file_extension": ".py",
   "mimetype": "text/x-python",
   "name": "python",
   "nbconvert_exporter": "python",
   "pygments_lexer": "ipython3",
   "version": "3.10.2"
  }
 },
 "nbformat": 4,
 "nbformat_minor": 1
}