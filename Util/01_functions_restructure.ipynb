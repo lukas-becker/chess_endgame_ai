{
 "cells": [
  {
   "cell_type": "markdown",
   "metadata": {
    "collapsed": true,
    "pycharm": {
     "name": "#%% md\n"
    }
   },
   "source": [
    "## Funktionen\n",
    "\n",
    "> Potenzielles TODO: Zu jeder hier definierten Funktion schreiben in welchem Notebook sie verwendet werden.\n",
    "\n",
    "Neben den Importen werden auch drei Funktionen definiert, die über die verwendeten Notebooks hinweg benötigt werden. Für die Verwendung muss ebenfalls dieses Notebook zuerst ausgeführt werden.\n",
    "\n",
    "> %run Util/01_functions.ipynb"
   ]
  },
  {
   "cell_type": "markdown",
   "source": [
    "> TODO: Konzept mit dem Integer beschreiben\n",
    "> TODO: Kommentare mit Parameter und Rückgabewerte von to_integer() schreiben\n",
    "> TODO: Momentane Methode funktioniert nicht mit 2 Läufern, muss angepasst werden!\n"
   ],
   "metadata": {
    "collapsed": false,
    "pycharm": {
     "name": "#%% md\n"
    }
   }
  },
  {
   "cell_type": "code",
   "execution_count": null,
   "outputs": [],
   "source": [
    "# Version Nico\n",
    "def to_integer(board, piece_list):\n",
    "    piece_map = board.piece_map()\n",
    "    int_rep = 1 if board.turn else 0\n",
    "    for piece in piece_map:\n",
    "        # Problem: Two equal pieces!\n",
    "        index = piece_list.index(piece_map[piece])\n",
    "        int_rep |= piece << index * 6 + 1\n",
    "    return int_rep"
   ],
   "metadata": {
    "collapsed": false,
    "pycharm": {
     "name": "#%%\n"
    }
   }
  },
  {
   "cell_type": "markdown",
   "source": [
    "> TODO: Beschreibung von to_board()\n",
    "> TODO: Methode funktioniert noch nicht mit 2 Läufern, muss angepasst werden!"
   ],
   "metadata": {
    "collapsed": false,
    "pycharm": {
     "name": "#%% md\n"
    }
   }
  },
  {
   "cell_type": "code",
   "execution_count": null,
   "outputs": [],
   "source": [
    "def to_board(int_rep, piece_list):\n",
    "    turn = int_rep & 1\n",
    "    int_rep = int_rep >> 1\n",
    "    piece_map = {}\n",
    "    for i in range (len(piece_list)):\n",
    "        pos = int_rep & 63\n",
    "        piece_map[pos] = piece_list[i]\n",
    "        int_rep = int_rep >> 6\n",
    "    result_board = chess.Board(None)\n",
    "    result_board.turn = turn\n",
    "    result_board.set_piece_map(piece_map)\n",
    "    return result_board"
   ],
   "metadata": {
    "collapsed": false,
    "pycharm": {
     "name": "#%%\n"
    }
   }
  },
  {
   "cell_type": "code",
   "execution_count": null,
   "outputs": [],
   "source": [
    "# POC\n",
    "'''\n",
    "import chess\n",
    "board = chess.Board(None)\n",
    "map = {20: chess.Piece.from_symbol(\"Q\"), 5: chess.Piece.from_symbol(\"k\") }\n",
    "plist = [chess.Piece.from_symbol(\"Q\"), chess.Piece.from_symbol(\"k\")]\n",
    "board.set_piece_map(map)\n",
    "display(board)\n",
    "to_board(to_integer(board, plist), plist)\n",
    "'''"
   ],
   "metadata": {
    "collapsed": false,
    "pycharm": {
     "name": "#%%\n"
    }
   }
  }
 ],
 "metadata": {
  "kernelspec": {
   "display_name": "Python 3 (ipykernel)",
   "language": "python",
   "name": "python3"
  },
  "language_info": {
   "codemirror_mode": {
    "name": "ipython",
    "version": 3
   },
   "file_extension": ".py",
   "mimetype": "text/x-python",
   "name": "python",
   "nbconvert_exporter": "python",
   "pygments_lexer": "ipython3",
   "version": "3.9.10"
  }
 },
 "nbformat": 4,
 "nbformat_minor": 1
}