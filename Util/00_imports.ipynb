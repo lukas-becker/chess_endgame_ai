{
 "cells": [
  {
   "cell_type": "markdown",
   "source": [
    "> TODO: Einleitung schreiben, weil Stroetmann das zuerst liest.\n",
    "> Potenzielles TODO: Auf die README.md verweisen, dass auch alles berücksichtigt wird."
   ],
   "metadata": {
    "collapsed": false,
    "pycharm": {
     "name": "#%% md\n"
    }
   }
  },
  {
   "cell_type": "markdown",
   "metadata": {},
   "source": [
    "## Imports\n",
    "\n",
    "Zu Beginn dieser Studienarbeit werden allgemeine Funktionalitäten definiert, die für alle anschließenden Notebooks benötigt werden. Dabei spiegeln die verwendeten Bibliotheken die erste große Gemeinsamkeit wider.\n",
    "Im Rahmen dieses Notebooks werden hierzu alle Bibliotheken beschrieben, die für die Ausführung des ganzen Projekts benötigt werden. Hierfür muss zunächst in jedem Notebook dieses Notebook zuerst ausgeführt werden. \n",
    "\n",
    "> %run Util/00_imports.ipynb\n",
    "\n",
    "Die Bibliotheken, die für die ganze Studienarbeit benötigt werden, sind Folgende:\n",
    "\n",
    "* [``chess``](https://python-chess.readthedocs.io/en/latest/): Die Python-Schach-Bibliothek, mit welcher Spielzustände dargestellt werden, Züge und Zustände ausgewertet und alle Regeln des Schach-Spiels hinterlegt sind.\n",
    "* [``clear_output``](https://ipython.readthedocs.io/en/stable/api/generated/IPython.display.html) aus der IPython-display-Library: Eine Funktion, die für das Leeren der Konsolenausgabe verwendet wird.\n",
    "* [``display``](https://ipython.readthedocs.io/en/stable/api/generated/IPython.display.html) aus der IPython-display-Library: Eine Funktion, die zum grafischen Anzeigen der Schachbretter verwendet wird.\n",
    "* [``pickle``](https://docs.python.org/3/library/pickle.html): Die pickle-Bibliothek, die zum Speichern der berechneten Mengen verwendet wird.\n",
    "* [``os``](https://docs.python.org/3/library/os.html): Die os-Bibliothek, die zum Löschen einer temporären Datei verwendet wird.\n",
    "* [``ipywidgets``](https://ipywidgets.readthedocs.io/en/latest/index.html) aus der widgets-Library: Das Modul ipywidgets, die zur Darstellung der Eingabefelder verwendet wird.\n",
    "* [``time``](https://docs.python.org/3/library/time.html): Die time-Bibliothek, die zum Verzögern von Ausgaben verwendet wird.\n",
    "* [``datetime``](https://docs.python.org/3/library/datetime.html) aus der datetime-Library: Das Modul datetime, das zur Bestimmung des aktuellen Datums verwendet wird, sodass die Historie der Züge und auch die Zeitpunkte der durchgeführten Tests gespeichert werden können.\n",
    "* [``json``](https://docs.python.org/3/library/json.html): Wird zum Lesen und Schreiben der berechneten Ergebnisse verwendet als PreConvert Format.\n",
    "* [``stockfish``](https://pypi.org/project/stockfish/): Die stockfish-Bibliothek, welche eine Python Schnittstelle für die Stockfish-Enginge bereitstellt.\n",
    "* [``ZipFile``](https://docs.python.org/3/library/zipfile.html) aus der zipfile-Library: Die Klasse ZipFile, die zum Schreiben und Auslesen einer ZIP-Datei verwendet wird.\n",
    "* [``ZIP_DEFLATED``](https://docs.python.org/3/library/zipfile.html) aus der zipfile-Library: Die Konstante ZIP_DEFLATED, die die Kompressionsmethode zum Zippen der Datei beschreibt.\n",
    "* [``random``](https://docs.python.org/3/library/random.html): Die random-Bibliothek, die zur Generierung von zwei unterschiedlichen, zufälligen Zahlen verwendet wird, um letztendlich eine zufällige Spielsituation für den Test auszuwählen.\n",
    "* [``Enum``](https://docs.python.org/3/library/enum.html) aus der enum-Library: Die Basisklasse Enum, die die Benutzung des Datentyp Enum ermöglicht. \n",
    "* [``re``](https://docs.python.org/3/library/re.html): Bibliothek, welche das Verwenden regulärer Ausdrücke ermöglicht."
   ]
  },
  {
   "cell_type": "code",
   "execution_count": null,
   "metadata": {},
   "outputs": [],
   "source": [
    "import chess\n",
    "from chess import Termination\n",
    "from chess import syzygy\n",
    "from IPython.display import clear_output\n",
    "from IPython.display import display\n",
    "import pickle\n",
    "import os\n",
    "import ipywidgets as widgets\n",
    "import time\n",
    "from datetime import datetime\n",
    "import json\n",
    "import stockfish\n",
    "from zipfile import ZipFile\n",
    "from zipfile import ZIP_DEFLATED\n",
    "import random\n",
    "from enum import Enum\n",
    "import re\n",
    "import math\n"
   ]
  }
 ],
 "metadata": {
  "kernelspec": {
   "display_name": "Python 3 (ipykernel)",
   "language": "python",
   "name": "python3"
  },
  "language_info": {
   "codemirror_mode": {
    "name": "ipython",
    "version": 3
   },
   "file_extension": ".py",
   "mimetype": "text/x-python",
   "name": "python",
   "nbconvert_exporter": "python",
   "pygments_lexer": "ipython3",
   "version": "3.9.10"
  }
 },
 "nbformat": 4,
 "nbformat_minor": 1
}