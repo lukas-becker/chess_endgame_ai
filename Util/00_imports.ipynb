{
 "cells": [
  {
   "cell_type": "markdown",
   "metadata": {},
   "source": [
    "## Imports\n",
    "\n",
    "Im Rahmen dieses Notebooks werden alle Bibliotheken beschrieben, die für die Ausführung des ganzen Projekts benötigt werden. Hierfür muss zu Beginn von jedem Notebook dieses zuerst ausgeführt werden. \n",
    "\n",
    "* [``chess``](https://python-chess.readthedocs.io/en/latest/): Die Python-Schach-Bibliothek, mit welcher Spielzustände dargestellt werden, Züge und Zustände ausgewertet etc.\n",
    "* [``clear_output``](https://ipython.readthedocs.io/en/stable/api/generated/IPython.display.html) aus der IPython-display-Library: Eine Funktion, die für das Leeren der Konsolenausgabe verwendet wird.\n",
    "* [``display``](https://ipython.readthedocs.io/en/stable/api/generated/IPython.display.html) aus der IPython-display-Library: Wird zum grafischen Anzeigen der Schachbretter verwendet.\n",
    "* [``pickle``](https://docs.python.org/3/library/pickle.html): Wird zum Speichern der Ergebnisse verwendet.\n",
    "* [``os``](https://docs.python.org/3/library/os.html): Wird zum Löschen einer temporären Datei verwendet.\n",
    "* [``ipywidgets``](https://ipywidgets.readthedocs.io/en/latest/index.html) aus der widgets-Library: Wird zur Darstellung der Eingabefelder verwendet.\n",
    "* [``time``](https://docs.python.org/3/library/time.html): Wird zum Verzögern von Ausgaben verwendet.\n",
    "* [``datetime``](https://docs.python.org/3/library/datetime.html) aus der datetime-Library: Zur Bestimmung des aktuellen Datums, sodass die Historie der Züge und auch die Zeitpunkte der durchgeführten Tests gespeichert werden kann.\n",
    "* [``json``](https://docs.python.org/3/library/json.html): Wird zum Lesen und Schreiben der berechneten Ergebnisse verwendet als PreConvert Format. (TODO: Auf lange Sicht entfernen)\n",
    "* [``stockfish``](https://pypi.org/project/stockfish/): Eine Bibliothek, welche eine Python Schnittstelle für die Stockfish-Enginge anbietet.\n",
    "* [``ZipFile``](https://docs.python.org/3/library/zipfile.html) aus der zipfile-Library: Wird zum Schreiben und Auslesen einer ZIP-Datei verwendet.\n",
    "* [``ZIP_DEFLATED``](https://docs.python.org/3/library/zipfile.html) aus der zipfile-Library: Beschreibt die Kompressionsmethode zum Zippen der Datei.\n",
    "* [``random``](https://docs.python.org/3/library/random.html): Wird zur Generierung von zwei unterschiedlichen, zufälligen Zahlen verwendet. Diese dienen zum Auswählen von zufälligen Boards aus den $S_n$ Mengen."
   ]
  },
  {
   "cell_type": "code",
   "execution_count": null,
   "metadata": {
    "collapsed": true,
    "pycharm": {
     "is_executing": true
    }
   },
   "outputs": [],
   "source": [
    "import chess\n",
    "from chess import Termination\n",
    "from IPython.display import clear_output\n",
    "from IPython.display import display\n",
    "import pickle\n",
    "import os\n",
    "import ipywidgets as widgets\n",
    "import time\n",
    "from datetime import datetime\n",
    "import json\n",
    "import stockfish\n",
    "from zipfile import ZipFile\n",
    "from zipfile import ZIP_DEFLATED\n",
    "import random"
   ]
  }
 ],
 "metadata": {
  "kernelspec": {
   "display_name": "Python 3 (ipykernel)",
   "language": "python",
   "name": "python3"
  },
  "language_info": {
   "codemirror_mode": {
    "name": "ipython",
    "version": 3
   },
   "file_extension": ".py",
   "mimetype": "text/x-python",
   "name": "python",
   "nbconvert_exporter": "python",
   "pygments_lexer": "ipython3",
   "version": "3.9.5"
  }
 },
 "nbformat": 4,
 "nbformat_minor": 1
}
