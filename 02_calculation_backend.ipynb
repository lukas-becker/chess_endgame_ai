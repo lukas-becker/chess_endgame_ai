{
 "cells": [
  {
   "cell_type": "code",
   "execution_count": null,
   "outputs": [],
   "source": [
    "from IPython.core.display import HTML\n",
    "with open('style.html', 'r') as file:\n",
    "     css = file.read()\n",
    "HTML(css)"
   ],
   "metadata": {
    "collapsed": false,
    "pycharm": {
     "name": "#%%\n"
    }
   }
  },
  {
   "cell_type": "markdown",
   "metadata": {
    "pycharm": {
     "name": "#%% md\n"
    }
   },
   "source": [
    "### Globale Variablen\n",
    "\n",
    "Diese Variablen werden im Verlauf des Notebooks über den Scope einzelner Funktionen hinweg benötigt. Um Parameter- und Rückgabelisten kompakt zu halten, werden sie global definiert. Die Erklärung der Verwendung befindet sich im weiteren Verlauf des Notebooks.\n",
    "* `g_used_boards`: Die Menge der bereits in einem $S_n$ verwendeten Situationen.\n",
    "* `g_user_wants_pawn`: Flag, ob der Nutzer einen Bauern konfiguriert hat."
   ]
  },
  {
   "cell_type": "code",
   "execution_count": null,
   "outputs": [],
   "source": [
    "g_used_boards = set()\n",
    "g_user_wants_pawn = chess.Piece.from_symbol(\"P\") in g_piece_list"
   ],
   "metadata": {
    "pycharm": {
     "name": "#%%\n"
    }
   }
  },
  {
   "cell_type": "markdown",
   "source": [
    "# Berechnung der Endspieldatenbank\n",
    "\n",
    "Wie in Notebook ``01_chess_introduction`` bereits erklärt, ist ein Schachspiel gewonnen, wenn die gegnerische Figur mattgesetzt wurde. \n",
    "\n",
    "Bei einer geringen Anzahl an Figuren (in einer Menge $P$) im Spielzustand lassen sich alle möglichen Positionen berechnen.\n",
    "Ausgehend von allen Positionen mit einem Schachmatt, können Zugfolgen bestimmt werden, welche zu einer Spielsituation $n$ Halbzüge vom Sieg entfernt führen.\n",
    "\n",
    "Im weiteren Verlauf werden folgende Definitionen verwendet:\n",
    "* $\\mathtt{board.pieces}$: Liste der Figuren, welche in einem Zustand vorhanden sind.\n",
    "* $\\mathtt{valid\\_boards}$: Alle Zustände des Schachspiels, die gegen keine Regeln verstoßen.  \n",
    "  Relevante Regeln sind:\n",
    "  * Zwei Könige auf dem Spielfeld.\n",
    "  * Die Könige nicht auf benachbarten Spielfeldern.\n",
    "  * Keine Bauern auf der 1. und 8. Zeile.\n",
    "* $\\mathtt{won\\_boards}$: Alle Zustände des Schachspiels, in denen ein Spieler gewonnen hat.\n",
    "* $\\mathtt{previous\\_states(b)}$: Alle Zustände, aus denen durch Ausführen eines einzelnen Zugs der Zustand $b$ erreicht werden kann.\n",
    "\n",
    "Seien alle möglichen (validen) Kombinationen von Positionen der Figuren in $P$ die Menge $S$.\n",
    "Für $S$ gilt:  \n",
    "* $board \\in S \\implies \\forall p \\in P : p \\in \\mathtt{board.pieces}$\n",
    "* $board \\in S \\implies board \\in \\mathtt{valid\\_boards}$\n",
    "\n",
    "In einem regulären Schachspiel müssen auch Stellungen mit geschlagenen Figuren betrachtet werden.  \n",
    "Demnach wäre die Anforderung $board \\in S \\implies \\forall p \\in P : p \\in \\mathtt{board.pieces}$ nicht immer gegeben.\n",
    "Aus der Aufgabenstellung (Aufgeführt in `01_introduction.ipynb`) folgt jedoch, dass in den Spielsituationen keine Figur geschlagen und das Spiel noch gewonnen werden kann. Aus diesem Grund werden Szenarien, in welchen Figuren geschlagen werden können, nicht unterstützt.\n",
    "\n",
    "Aus der Menge $S$ mit allen möglichen Stellungen lassen sich die Zustände auswählen, welche $n$ Halbzüge vom Sieg entfernt sind. \n",
    "Diese Zustände werden als die Menge $S_n$ bezeichnet. \n",
    "Ist das Spiel gewonnen, verbleiben 0 Züge bis zum Sieg. Für alle diese Zustände, in denen ein Spieler mattgesetzt ist, gilt:  \n",
    "  \n",
    "$$board \\in S \\land board \\in won\\_boards \\implies board \\in S_0$$  \n",
    "\n",
    "Aus dieser Definition können induktiv die verbleibenden $S_n$ hergeleitet werden:  \n",
    "$$board \\in S_{n+1} \\iff board \\in S \\land \\forall b \\in \\mathtt{next\\_states(board)}: b \\in S_{m} \\land m < n+1$$\n",
    "\n",
    "Durch die vielen unterschiedlichen Möglichkeiten, ein Spiel zu beenden, kann eine Situation in mehreren $S_n$ Mengen sein.\n",
    "Es gibt jedoch immer einen optimalen Weg, mit der geringsten nötigen Anzahl an Zügen $n$.\n",
    "Da die Mengen aufsteigend ($n \\rightarrow n+1$) bestimmt werden, ist die erste Zuordnung in ein $S_n$ die Optimale.\n",
    "Um Dopplungen zu vermeiden, können Situationen, welche einem $S_n$ zugeordnet wurden, aus $S$ entfernt werden.\n",
    "\n",
    "Aus der Aufgabenstellung folgt, dass die Tabellen nur für Weiß als Gewinner des Spiels bestimmt werden.\n",
    "Folglich wird die KI bei der Auswertung die Züge für Weiß vorgeben.\n",
    "Die Züge von Schwarz bleiben unvorhersehbar.\n",
    "Die vorher genannten Definitionen können daher wie folgt angepasst werden:\n",
    " * $board \\in S \\land board \\in won\\_boards \\implies board \\in S_0 \\land board \\notin S$  \n",
    " * $board \\in S \\land \\exists b \\in S_n: board \\in \\mathtt{previous\\_states(b)} \\implies board \\in S_{n+1} \\land board \\notin S$\n",
    " * $board \\in S \\land \\forall b \\in \\mathtt{next\\_states(board)}: b \\in S_{m} \\land m < 2n \\implies board \\in S_{2n} \\land board \\notin S$\n",
    "\n",
    "Um die Effizienz der Rechnung zu steigern, berechnet dieses Notebook nicht alle Stellungen $S$ und entfernt daraus die Stellungen für ein $S_n$ wie zuvor beschrieben.\n",
    "Stattdessen werden alle bekannten Stellungen in `g_used_boards` gespeichert.\n",
    "Dopplungen werden also nicht vermieden, indem Stellungen aus einer großen Liste entfernt werden, sondern eine Liste der entfernten Stellungen geführt und neue Stellungen mit dieser abgeglichen werden.\n",
    "\n",
    "Bevor die eigentliche Berechnung der Endspieltabellen durchgeführt werden kann, müssen einige Hilfsfunktionen definiert werden."
   ],
   "metadata": {
    "pycharm": {
     "name": "#%% md\n"
    }
   }
  },
  {
   "cell_type": "markdown",
   "metadata": {
    "pycharm": {
     "name": "#%% md\n"
    }
   },
   "source": [
    "## Allgemeines Konzept der konkreten Berechnung\n",
    "Die zuvor definierte Bestimmung der $S_n$ findet in diesem Notebook in mehreren Schritten statt.\n",
    "Zuerst werden die Figuren iterativ auf einem Schachbrett positioniert, um alle möglichen Kombinationen zu erhalten.\n",
    "Die so entstehenden Situationen, in welchen Schwarz schachmatt ist, werden als $S_0$ gespeichert.\n",
    "Anschließend werden iterativ für jede Situation in einem $S_n$ alle noch unbekannten (nicht in der Menge `g_used_boards`) Situationen bestimmt, welche einen Halbzug entfernt sind.\n",
    "Nach jeder Berechnung eines $S_n$ wird das Ergebnis in einer temporären Datei zwischengespeichert.\n"
   ]
  },
  {
   "cell_type": "markdown",
   "metadata": {
    "pycharm": {
     "name": "#%% md\n"
    }
   },
   "source": [
    "## Ergebnisverwaltung\n",
    "Für die Verwendung als Endspiel-KI, müssen die $S_n$ Mengen in einer Form gespeichert werden, in welcher eine spezifische Situation gefunden werden kann, und anschließend ein Pfad zu $S_0$ bestimmt werden.\n",
    "\n",
    "Im Verlauf der Berechnung und Verwendung müssen mehrfach Vergleiche einer Situation mit einer großen Menge anderer Situationen durchgeführt werden.\n",
    "Da der Abgleich mit Listen in Python ineffizient ist, werden Mengen verwendet.\n",
    "\n",
    "Mengen werden in Python als Hash-Tabellen umgesetzt. Dies ist im [Quellcode](https://github.com/python/cpython/blob/main/Objects/setobject.c) zu erkennen. Daraus folgt eine Zeitkomplexität bei der Überprüfung, ob sie ein bestimmtes Element enthalten, von $\\mathcal{O}(1)$. Listen hingegen haben für den gleichen Abgleich eine Komplexität von $\\mathcal{O}(n)$. Die Zeitkomplexitäten können im [Python-Wiki](https://wiki.python.org/moin/TimeComplexity) nachgelesen werden.\n",
    "\n",
    "Die `chess.Board` Objekte der `chess` Library sind nicht \"Hashbar\".\n",
    "Weiter benötigt einer Ausgabe von ``sys.getsizeof`` zufolge ein Board-Objekt 48 Byte Speicher. Das ist bereits doppelt so viel, wie die 24 Byte eines Standard-Integers. ``sys.getsizeof`` bestimmt jedoch nur die Größe des eigentlichen Objektes. Verwaltet ein Objekt Referenzen auf andere Objekte, ist die tatsächliche Größe höher.\n",
    "\n",
    "Im Sinne von geringer Laufzeit und Speicherauslastung wird daher für die Verwendung in Python-Mengen mit einer Integer-Repräsentation der Stellungen gearbeitet. \n",
    "\n",
    "Diese Repräsentationen werden bestimmt, indem die Positionen der Figuren, welche in der globalen Variable `g_piece_list` aufgeführt werden, binär zusammengefügt werden. Weiter wird ein Bit gesetzt, um darzustellen, welcher Spieler am Zug ist.\n",
    "So wird aus der folgenden Stellung:\n",
    "```\n",
    ". . . . k . . .\n",
    ". . . . . . . .\n",
    ". . . . . . . .\n",
    ". . . . . . . .\n",
    ". . . . . . . .\n",
    ". . . . . . . .\n",
    ". . . . . Q . .\n",
    ". . . . K . . .\n",
    "```\n",
    "Der Integer: `460155`.\n",
    "\n",
    "Eine detaillierte Erklärung der (De-)Kodierung und Hilfsfunktionen befindet sich im Notebook `12_integer_management.ipynb`."
   ]
  },
  {
   "cell_type": "code",
   "execution_count": null,
   "metadata": {
    "pycharm": {
     "name": "#%%\n"
    }
   },
   "outputs": [],
   "source": [
    "%run 12_integer_management.ipynb"
   ]
  },
  {
   "cell_type": "markdown",
   "metadata": {
    "pycharm": {
     "name": "#%% md\n"
    }
   },
   "source": [
    "## Spiegelungen von Situationen\n",
    "In diesem Notebook werden Spiegelungen der Stellungen verwendet.\n",
    "\n",
    "Durch die zuvor in `01_introduction.ipynb` erklärten Bewegungsmuster der Figuren sind Schachbretter in vielen Fällen symmetrisch.\n",
    "\n",
    "Eine Position mit dem Turm in \"a8\", der Dame in \"g6\" und dem gegnerischen König in \"h8\" ist genauso verloren wie \n",
    "dieselbe Position nur mit dem Turm in \"a1\", der Dame in \"g3\" und dem König in \"h1\".\n",
    "![Mirroring_Example_1](Images/Mirroring_Example_1.png)\n",
    "![Mirroring_Example_2](Images/Mirroring_Example_2.png)\n",
    "Dies wäre eine Spiegelung entlang der horizontalen zwischen den Zeilen 4 und 5.\n",
    "Weiter sind auch Spiegelungen entlang der vertikalen (Zwischen Reihe e und f), den Diagonalen und Rotationen \n",
    "(jeweils um 90°, 180° und 270°) möglich.\n",
    "\n",
    "Durch das simple Spiegeln der Spielsituationen können aus einer validen Spielsituation bis zu sieben weitere ohne\n",
    "großen Rechenaufwand bestimmt werden. Aus diesem Grund werden in diesem Dokument bei jeder Berechnung neuer Stellungen diese gespiegelt und die Spiegelungen ebenfalls abgespeichert. \n",
    "\n",
    "Da Bauern sich nur in eine Richtung bewegen können, gelten für diese andere Regeln beim Spiegeln. \n",
    "Insbesondere kann für diese Spielsituationen nur eine Spiegelung durchgeführt werden.\n",
    "Um die Komplexität der Anwendung nicht weiter zu steigern, werden Spielsituationen mit Bauern nicht gespiegelt.\n",
    "\n",
    "Die zum Spiegeln verwendeten Funktionen und deren Erklärung befinden sich im Notebook `13_mirroring.ipynb`."
   ]
  },
  {
   "cell_type": "code",
   "execution_count": null,
   "metadata": {
    "pycharm": {
     "name": "#%%\n"
    }
   },
   "outputs": [],
   "source": [
    "%run 13_mirroring.ipynb"
   ]
  },
  {
   "cell_type": "markdown",
   "metadata": {
    "pycharm": {
     "name": "#%% md\n"
    }
   },
   "source": [
    "## Hilfsfunktionen für die Ergebnisverwaltung\n",
    "\n",
    "Zuvor wurden bereits das Konzept der globalen Menge `g_used_boards`, der Integer-Repräsentationen und der Spiegelung von Situationen beschrieben. Um den Umgang mit diesen in der Berechnung zu vereinfachen, sollen zwei Funktionen definiert werden."
   ]
  },
  {
   "cell_type": "markdown",
   "metadata": {
    "pycharm": {
     "name": "#%% md\n"
    }
   },
   "source": [
    "Die Funktion `add_original_and_mirrors_to_used(board_int)` fügt die Integer-Repräsentation einer Stellung, sowie alle Spiegelungen in die globale Variable `g_used_boards` ein.\n",
    "Hierfür werden die zuvor beschrieben Hilfsfunktionen zum Spiegeln verwendet."
   ]
  },
  {
   "cell_type": "code",
   "execution_count": null,
   "metadata": {
    "pycharm": {
     "name": "#%%\n"
    }
   },
   "outputs": [],
   "source": [
    "def add_original_and_mirrors_to_used(board_int):\n",
    "    global g_used_boards\n",
    "    g_used_boards.add(board_int)\n",
    "    if not g_user_wants_pawn:\n",
    "        for reflection in mirror_all_directions(board_int, g_piece_list):\n",
    "            g_used_boards.add(reflection)"
   ]
  },
  {
   "cell_type": "markdown",
   "metadata": {
    "collapsed": false,
    "pycharm": {
     "name": "#%% md\n"
    }
   },
   "source": [
    "Die Funktion `add_all_to_used(boards_int)` fügt die Originale und Spiegelungen aller Stellungen in der Menge `boards_int` zur globalen Variable `g_used_boards` hinzu.\n",
    "Nachdem die eindeutigen Spielsituationen für eine $S_n$ Menge berechnet wurden, kann der zuvor beschriebene Prozess mit der Funktion eingeleitet werden. \n",
    "Die Funktion überprüft, ob Spiegelungen durchgeführt werden sollen.\n",
    "Wenn Spiegelungen durchgeführt werden, wird hierzu die Funktion `add_original_and_mirrors_to_used(boards_int)` verwendet."
   ]
  },
  {
   "cell_type": "code",
   "execution_count": null,
   "outputs": [],
   "source": [
    "def add_all_to_used(boards_int):\n",
    "    global g_used_boards\n",
    "    \n",
    "    if not g_user_wants_pawn:\n",
    "        for board_int in boards_int:\n",
    "            add_original_and_mirrors_to_used(board_int)\n",
    "    else:\n",
    "        for board_int in boards_int:\n",
    "            g_used_boards.add(board_int)"
   ],
   "metadata": {
    "collapsed": false,
    "pycharm": {
     "name": "#%%\n"
    }
   }
  },
  {
   "cell_type": "markdown",
   "metadata": {
    "pycharm": {
     "name": "#%% md\n"
    }
   },
   "source": [
    "## Berechnung der $S_n$ Mengen\n",
    "Mit den zuvor beschriebenen Konzepten können die Endspieltabellen berechnet werden.\n",
    "\n",
    "Der Prozess zur Bestimmung aller Mengen lautet wie folgt:\n",
    "1. Bestimmen von $S_0$.\n",
    "2. Solange weitere Mengen gefunden werden, werden alle Spielsituationen, die in einem Halbzug in $S_n$ enden, bestimmt.\n",
    "3. Die bestimmten Situationen werden zu $S_n+1$ hinzufügt."
   ]
  },
  {
   "cell_type": "markdown",
   "metadata": {
    "pycharm": {
     "name": "#%% md\n"
    }
   },
   "source": [
    "### Bestimmung von $S_0$\n",
    "\n",
    "$S_0$ ist die Menge der Situationen, welche keinen Zug von einem Sieg entfernt sind. Sie sind also bereits gewonnen.\n",
    "Diese erste Menge wird bestimmt, indem alle möglichen Kombinationen der eingestellten Figuren erstellt und auf ein Schachmatt überprüft werden.\n",
    "Die Kombinationen werden mit der Funktion `fill_boards_with_piece(boards_int_set, piece, cur_piece_list)` erstellt, welche später in ``calculate_s0()`` eingesetzt wird."
   ]
  },
  {
   "cell_type": "markdown",
   "metadata": {
    "collapsed": false,
    "pycharm": {
     "name": "#%% md\n"
    }
   },
   "source": [
    "Die Funktion ``fill_boards_with_piece(boards_int_set, piece, cur_piece_list)`` erstellt aus einer Menge an Stellungen (in Integer-Representation) `int_boards_set` und einer Figur `piece` eine Menge von Stellungen, welche die Positionen in `int_board_sets` an jeder freien Stelle um `piece` ergänzen.\n",
    "Jedes Mal, wenn eine Figur platziert wird, wird eine Kopie des Board-Objektes erstellt.\n",
    "\n",
    "Wenn der zweite König platziert wird, wird die Stellung zusätzlich auf Validität überprüft.\n",
    "Wenn alle Figuren platziert wurden, werden nur Boards, in denen Schwarz Schachmatt ist, zurückgegeben.\n",
    "\n",
    "Die Funktion benötigt als weiteren Parameter die Piece List (`cur_piece_list`), welche die Figuren enthält, die in `boards_int_set` verwendet werden.\n",
    "Diese Liste wird für das Erstellen von Board-Objekten aus Integern und dem Erstellen von Integern verwendet."
   ]
  },
  {
   "cell_type": "code",
   "execution_count": null,
   "metadata": {
    "pycharm": {
     "name": "#%%\n"
    }
   },
   "outputs": [],
   "source": [
    "def fill_boards_with_piece(boards_int_set, piece, cur_piece_list):\n",
    "    finished_boards = set()\n",
    "    all_squares = set(range(64))\n",
    "    piece_count = len(g_piece_list)\n",
    "    for int_board in boards_int_set:\n",
    "        board_o = to_board(int_board, cur_piece_list)\n",
    "        used_squares = set(board_o.piece_map().keys())\n",
    "        for square in all_squares:\n",
    "            if square not in used_squares:\n",
    "                tmp_piece_list = cur_piece_list.copy()\n",
    "                board_object = board_o.copy()\n",
    "                board_object.set_piece_at(square, piece)\n",
    "                tmp_piece_list.append(piece)\n",
    "                board_int = to_integer(board_object, tmp_piece_list)\n",
    "                if len(used_squares) > 1 and not board_object.is_valid():\n",
    "                    # Don't process invalid boards further than the second king\n",
    "                    continue\n",
    "\n",
    "                if board_object.is_checkmate():\n",
    "                    if board_int not in g_used_boards:\n",
    "                        finished_boards.add(board_int)\n",
    "                        add_original_and_mirrors_to_used(board_int)\n",
    "                        continue\n",
    "\n",
    "                if len(used_squares) + 1 < piece_count: \n",
    "                    #Board is valid, but needs more pieces\n",
    "                    finished_boards.add(board_int)\n",
    "    return finished_boards"
   ]
  },
  {
   "cell_type": "markdown",
   "metadata": {
    "pycharm": {
     "name": "#%% md\n"
    }
   },
   "source": [
    "Die Funktion `calculate_s0()` berechnet die Menge aller Stellungen, welche von Weiß gewonnen wurden.\n",
    "Hierfür wird ein leeres Schachbrett erstellt (`empty_board`) und jede Figur in der `g_piece_list` mit der `fill_boards_with_piece(boards_int_set, piece, cur_piece_list)` Funktion in allen Konstellationen auf Board-Objekten verteilt.\n",
    "Die Funktion liefert eine Menge von Integer Repräsentationen der Stellungen in $S_0$. "
   ]
  },
  {
   "cell_type": "code",
   "execution_count": null,
   "metadata": {
    "pycharm": {
     "name": "#%%\n"
    }
   },
   "outputs": [],
   "source": [
    "def calculate_s0():\n",
    "    global g_piece_list\n",
    "\n",
    "    s0 = set()\n",
    "    empty_board = chess.Board(None)\n",
    "    # Turn has to be black while checkmate\n",
    "    empty_board.turn = chess.BLACK\n",
    "\n",
    "    # Create tmp_piece_list for conversion between board_object and integer\n",
    "    tmp_piece_list = []\n",
    "    s0.add(to_integer(empty_board, tmp_piece_list))\n",
    "\n",
    "    for piece in g_piece_list:\n",
    "        s0 = fill_boards_with_piece(s0, piece, tmp_piece_list)\n",
    "        tmp_piece_list.append(piece)\n",
    "        \n",
    "    return s0"
   ]
  },
  {
   "cell_type": "markdown",
   "metadata": {
    "pycharm": {
     "name": "#%% md\n"
    }
   },
   "source": [
    "### Bestimmung aller weiteren $S_n$ Mengen\n",
    "\n",
    "Die weiteren $S_n$ Mengen werden iterativ erzeugt. Jede Iteration erhält hierbei eine zuvor bestimmte Menge $S_n$ und bestimmt die folgende Menge $S_{n+1}$.\n",
    "Die Mengen (welche je einen Halbzug entfernt sind) werden bestimmt, indem all diese Halbzüge durchgeführt werden, welche für den jeweils anderen Spieler möglich sind.\n",
    "Eine Ausnahme zu dieser Methode sind alle Situationen, welche Bauern beinhalten. Bauern können sich nur in eine Richtung bewegen und werden daher nicht über Züge, sondern Versetzen der Figuren bewegt.\n",
    "  "
   ]
  },
  {
   "cell_type": "markdown",
   "metadata": {
    "pycharm": {
     "name": "#%% md\n"
    }
   },
   "source": [
    "#### Berechnung der Spielzüge für Stellungen ohne Bauern\n",
    "\n",
    "Die Funktion `moves_without_pawns(chess_board)` führt für ein Objekt `chess_board` alle möglichen Züge der Figuren aus.\n",
    "\n",
    "Da die Rechnungen rückwärts (von $S_n$ zu $S_{n+1}$) durchgeführt werden, muss der Spieler am Zug vor dem Hinzufügen zur Ergebnisliste `reached_boards` gewechselt werden.\n",
    "\n",
    "Der erste Wechsel findet bereits in der `previous_states(sn)` Funktion statt.\n",
    "Nach Durchführen eines Halbzuges, wird automatisch der Spieler gewechselt, jedoch soll die Funktion Situationen mit dem Spieler ursprünglich am Zug zurückgeben. Aus diesem Grund wird der Zug zweimal getauscht.\n",
    "\n",
    "Die Funktion gibt alle entstehenden Situationen als `reached_boards` zurück."
   ]
  },
  {
   "cell_type": "code",
   "execution_count": null,
   "metadata": {
    "pycharm": {
     "name": "#%%\n"
    }
   },
   "outputs": [],
   "source": [
    "def moves_without_pawns(chess_board):\n",
    "    reached_boards = []\n",
    "    for pLMove in chess_board.pseudo_legal_moves:\n",
    "        # Backwards-execution of Move\n",
    "        chess_board.push(pLMove)\n",
    "        chess_board.turn = chess_board.turn ^ True\n",
    "        reached_boards.append(chess_board.copy())\n",
    "        chess_board.turn = chess_board.turn ^ True\n",
    "        chess_board.pop()\n",
    "\n",
    "    return reached_boards"
   ]
  },
  {
   "cell_type": "markdown",
   "source": [
    "#### Berechnung der Spielzüge für Stellungen mit Bauern"
   ],
   "metadata": {
    "pycharm": {
     "name": "#%% md\n"
    }
   }
  },
  {
   "cell_type": "markdown",
   "metadata": {
    "pycharm": {
     "name": "#%% md\n"
    }
   },
   "source": [
    "Die Funktion `check_for_pawn(chess_board)` überprüft, ob sich Bauern auf einer Stellung `chess_board` befinden."
   ]
  },
  {
   "cell_type": "code",
   "execution_count": null,
   "metadata": {
    "pycharm": {
     "name": "#%%\n"
    }
   },
   "outputs": [],
   "source": [
    "def check_for_pawn(chess_board):\n",
    "    return len(chess_board.pieces(chess.PAWN, chess.WHITE)) > 0"
   ]
  },
  {
   "cell_type": "markdown",
   "metadata": {
    "pycharm": {
     "name": "#%% md\n"
    }
   },
   "source": [
    "Die Funktion `find_pawn(chess_board)` gibt die Nummer des Feldes zurück, in welchem sich ein Bauer auf der Stellung in `chess_board` befindet."
   ]
  },
  {
   "cell_type": "code",
   "execution_count": null,
   "metadata": {
    "pycharm": {
     "name": "#%%\n"
    }
   },
   "outputs": [],
   "source": [
    "def find_pawn(chess_board):\n",
    "    return chess_board.pieces(chess.PAWN, chess.WHITE).pop()"
   ]
  },
  {
   "cell_type": "markdown",
   "metadata": {
    "pycharm": {
     "name": "#%% md\n"
    }
   },
   "source": [
    "Die Funktion `move_pawn(chess_board)` setzt einen Bauern in der Situation `chess_board` auf ein Feld in einer niedrigeren Reihe.\n",
    "\n",
    "Befindet sich der Bauer in der vierten Reihe, wird er sowohl in die dritte als auch zweite Reihe gesetzt.\n",
    "In den Reihen 3,5,6 und 7 wird er jeweils eine Reihe zurückgesetzt.\n",
    "\n",
    "Die Rückgabe `res` enthält demnach 0 - 2 Board Objekte."
   ]
  },
  {
   "cell_type": "code",
   "execution_count": null,
   "metadata": {
    "pycharm": {
     "name": "#%%\n"
    }
   },
   "outputs": [],
   "source": [
    "def move_pawn(chess_board):\n",
    "    res = []\n",
    "    position = find_pawn(chess_board)\n",
    "    if position in range(24,31):\n",
    "        tmp_board = chess_board.copy()\n",
    "        tmp_board.remove_piece_at(position)\n",
    "        tmp_board.set_piece_at(position - 16, chess.Piece.from_symbol('P'))\n",
    "        res.append(tmp_board)\n",
    "    \n",
    "    if position in range(16,63): \n",
    "        chess_board.remove_piece_at(position)\n",
    "        chess_board.set_piece_at(position - 8, chess.Piece.from_symbol('P'))\n",
    "        res.append(chess_board)\n",
    "        \n",
    "    return res"
   ]
  },
  {
   "cell_type": "markdown",
   "metadata": {
    "pycharm": {
     "name": "#%% md\n"
    }
   },
   "source": [
    "Die Funktion `check_top_row_for_queen(chess_board)` überprüft für eine Situation `chess_board`, ob sich in der 8. Reihe eine Dame befindet.\n",
    "Die Rückgabe erfolgt als boolescher Wert."
   ]
  },
  {
   "cell_type": "code",
   "execution_count": null,
   "metadata": {
    "pycharm": {
     "name": "#%%\n"
    }
   },
   "outputs": [],
   "source": [
    "def check_top_row_for_queen(chess_board):\n",
    "    square_with_queen = chess_board.pieces(chess.QUEEN, chess.WHITE).pop()\n",
    "    return square_with_queen in range(56,64)"
   ]
  },
  {
   "cell_type": "markdown",
   "metadata": {
    "pycharm": {
     "name": "#%% md\n"
    }
   },
   "source": [
    "Die Funktion `replace_queen(chess_board)` ersetzt in einer Situation `chess_board` eine Dame in der obersten Reihe durch einen Bauern in Reihe 7."
   ]
  },
  {
   "cell_type": "code",
   "execution_count": null,
   "metadata": {
    "pycharm": {
     "name": "#%%\n"
    }
   },
   "outputs": [],
   "source": [
    "def replace_queen(chess_board):\n",
    "    queen_square = chess_board.pieces(chess.QUEEN, chess.WHITE).pop()\n",
    "    chess_board.remove_piece_at(queen_square)\n",
    "    chess_board.set_piece_at(queen_square - 8, chess.Piece.from_symbol('P'))\n",
    "    \n",
    "    return chess_board"
   ]
  },
  {
   "cell_type": "markdown",
   "metadata": {
    "collapsed": false,
    "pycharm": {
     "name": "#%% md\n"
    }
   },
   "source": [
    "Die Funktion ``need_pawn_moves(chess_board)`` überprüft, ob Bauern-Züge für eine Situation `chess_board` beachtet werden müssen.\n",
    "Hierfür verwendet sie das `g_user_wants_pawn` Flag, die Farbe am Zug, und ob sich Bauern in der Stellung oder eine Dame in der obersten Reihe befinden."
   ]
  },
  {
   "cell_type": "code",
   "execution_count": null,
   "metadata": {
    "collapsed": false,
    "pycharm": {
     "name": "#%%\n"
    }
   },
   "outputs": [],
   "source": [
    "def need_pawn_moves(chess_board):\n",
    "    return g_user_wants_pawn \\\n",
    "           and chess_board.turn \\\n",
    "           and (check_for_pawn(chess_board) or check_top_row_for_queen(chess_board))"
   ]
  },
  {
   "cell_type": "markdown",
   "source": [
    "Die Funktion `moves_with_pawns(chess_board)` überprüft, ob eine Dame ersetzt oder ein Bauer gezogen werden muss, und führt den benötigten Schritt durch."
   ],
   "metadata": {
    "pycharm": {
     "name": "#%% md\n"
    }
   }
  },
  {
   "cell_type": "code",
   "execution_count": null,
   "metadata": {
    "collapsed": false,
    "pycharm": {
     "name": "#%%\n"
    }
   },
   "outputs": [],
   "source": [
    "def moves_with_pawns(chess_board):\n",
    "    if check_for_pawn(chess_board):\n",
    "        reached_boards = move_pawn(chess_board)\n",
    "    else:\n",
    "        reached_boards = [replace_queen(chess_board)]\n",
    "\n",
    "    return reached_boards"
   ]
  },
  {
   "cell_type": "markdown",
   "metadata": {
    "pycharm": {
     "name": "#%% md\n"
    }
   },
   "source": [
    "## Hilfsfunktionen für die Rechnung\n",
    "\n",
    "Die folgenden Funktionen werden bei der Berechnung von $S_n$-Mengen verwendet."
   ]
  },
  {
   "cell_type": "markdown",
   "metadata": {
    "pycharm": {
     "name": "#%% md\n"
    }
   },
   "source": [
    "Die Funktion `keep_if_valid(chess_boards)` sortiert aus einer Liste `chess_boards` die nicht validen Stellungen aus und gibt die validen als `res` zurück."
   ]
  },
  {
   "cell_type": "code",
   "execution_count": null,
   "metadata": {
    "pycharm": {
     "name": "#%%\n"
    }
   },
   "outputs": [],
   "source": [
    "def keep_if_valid(chess_boards):\n",
    "    res = []\n",
    "    for board in chess_boards:\n",
    "        if board.is_valid():\n",
    "            res.append(board)    \n",
    "    return res"
   ]
  },
  {
   "cell_type": "markdown",
   "metadata": {
    "collapsed": false,
    "pycharm": {
     "name": "#%% md\n"
    }
   },
   "source": [
    "Wenn mittels der KI eine Spielsituation ausgewertet wird, kann für jede Aktion des weißen Spielers ein Halbzug ausgewählt werden.\n",
    "Für die Stellungen, bei denen Schwarz am Zug ist, muss die KI alle möglichen Züge auswerten können.\n",
    "Da jedoch für einen spezifischen Zug, welcher eine Stellung von $S_n$ in $S_{n-1}$ führt, dasselbe nicht für alle Züge gilt, welche in der Stellung möglich sind, müssen die Stellungen, bei welchen Schwarz am Zug ist, besonders gefiltert werden.\n",
    "Für jede Stellung $b$ aus einem $S_n$ mit $n = 2i$ muss folglich gelten:  \n",
    "$$\n",
    "b \\in S_n \\implies \\forall m \\in valid\\_moves(b): b.push(m) \\in S_{j} \\land j < n\n",
    "$$\n",
    "Wobei `valid_moves` die Liste der legalen Züge für eine Stellung ist und `b.push(m)` die Stellung beschreibt, welche durch Ausführen des Zuges $m$ entsteht. \n",
    "\n",
    "Die Funktion `check_black_determinism(chess_boards)` stellt dies sicher.\n",
    "Für jede Stellung in `chess_boards` (Teilmenge von $S_n$) wird jeder mögliche legale Halbzug ausgeführt und überprüft, ob die entstehende Stellung in einer Menge\n",
    "$S_j$ mit $j < n$ auffindbar ist. Nur wenn alle Halbzüge diese Bedingung erfüllen, wird das Objekt in die Liste `deterministic` aufgenommen und zurückgegeben."
   ]
  },
  {
   "cell_type": "code",
   "execution_count": null,
   "metadata": {
    "pycharm": {
     "name": "#%%\n"
    }
   },
   "outputs": [],
   "source": [
    "def check_black_determinism(chess_boards):\n",
    "    deterministic = []\n",
    "    for chess_board in chess_boards:\n",
    "        include = True\n",
    "        for move in chess_board.legal_moves:\n",
    "            chess_board.push(move)\n",
    "            if len(chess_board.piece_map()) == len(g_piece_list):\n",
    "                rep = to_integer(chess_board, g_piece_list)\n",
    "            else:\n",
    "                rep = -1\n",
    "            chess_board.pop()\n",
    "            if rep not in g_used_boards:\n",
    "                include = False\n",
    "                break\n",
    "        \n",
    "        if include:\n",
    "            deterministic.append(chess_board)\n",
    "            \n",
    "    return deterministic"
   ]
  },
  {
   "cell_type": "markdown",
   "source": [
    "Nachdem die erste Menge $S_0$ berechnet wurde, müssen iterativ alle verbleibenden $n$ bestimmt werden.\n",
    "Diese Aufgabe übernimmt die Funktion `previous_states(sn)`. Ausgehend von einer Menge an Integern `sn` wird die Menge $S_{n+1}$ (`sn_p_1`) bestimmt.\n",
    "\n",
    "Hierfür wird über jede Stellung in der Menge `sn` iteriert, relevante Spielzüge ausgeführt (unterschieden zwischen Situationen mit Bauern und ohne), Duplikate entfernt und die erreichten Situationen der Menge $S_{n+1}$ hinzugefügt.\n",
    "Die Situationen sowie alle Spiegelungen dieser werden ebenfalls der globalen Variable `g_used_boards` hinzugefügt.\n",
    "Ist $n$ gerade ($n = 2i$), wird mit der Funktion `check_black_determinism(chess_boards)` weiter überprüft, ob alle Spielzüge in einer Menge $S_m$ mit $m < n$ enden."
   ],
   "metadata": {
    "collapsed": false,
    "pycharm": {
     "name": "#%% md\n"
    }
   }
  },
  {
   "cell_type": "code",
   "execution_count": null,
   "outputs": [],
   "source": [
    "def previous_states(sn):\n",
    "    sn_p_1 = set()\n",
    "    for board_int in sn:\n",
    "        chess_board = to_board(board_int, g_piece_list)\n",
    "        chess_board.turn = chess_board.turn ^ True\n",
    "        \n",
    "        if need_pawn_moves(chess_board):\n",
    "            reached_boards = moves_with_pawns(chess_board)\n",
    "        else:\n",
    "            reached_boards = moves_without_pawns(chess_board)\n",
    "        \n",
    "        reached_boards = keep_if_valid(reached_boards)    \n",
    "        \n",
    "        if not chess_board.turn:\n",
    "            reached_boards = check_black_determinism(reached_boards)          \n",
    "        \n",
    "        reached_integers = multiple_to_integer(reached_boards, g_piece_list)\n",
    "        \n",
    "        # Remove unwanted mirrors\n",
    "        reached_integers = reached_integers - g_used_boards\n",
    "        \n",
    "        sn_p_1 |= reached_integers\n",
    "        add_all_to_used(reached_integers)\n",
    "\n",
    "    return sn_p_1"
   ],
   "metadata": {
    "collapsed": false,
    "pycharm": {
     "name": "#%%\n"
    }
   }
  },
  {
   "cell_type": "markdown",
   "source": [
    "### Funktionen für die Ergebnispersistierung\n",
    "\n",
    "Damit die bestimmten Endspieltabellen später verwendet werden können, müssen sie abgespeichert werden. Zunächst wird die `g_piece_list` mit `pickle` in eine Zip-Datei geschrieben.\n",
    "Während der Berechnung wird, damit die Anwendung weniger Arbeitsspeicher benötigt, jede vollständig bestimmte $S_n$ Menge als Pickle-File in dieselbe Zip-Datei geschrieben. Es werden hierbei nur die \"ungespiegelten\" Situationen gespeichert, da dies speichereffizienter ist. Spiegelungen können bei der Auswertung erneut bestimmt werden."
   ],
   "metadata": {
    "collapsed": false,
    "pycharm": {
     "name": "#%% md\n"
    }
   }
  },
  {
   "cell_type": "markdown",
   "metadata": {
    "pycharm": {
     "name": "#%% md\n"
    }
   },
   "source": [
    "Beim Speichern der `g_piece_list` sowie der $S_n$ Mengen entstehen temporäre Daten.\n",
    "Diese werden von der Funktion `delete_temp_file(filename)` gelöscht.\n",
    "Die temporären Daten enden alle in `.pickle`, weswegen nur der Dateiname und nicht die Endung übergeben werden muss."
   ]
  },
  {
   "cell_type": "code",
   "execution_count": null,
   "metadata": {
    "pycharm": {
     "name": "#%%\n"
    }
   },
   "outputs": [],
   "source": [
    "def delete_temp_file(filename):\n",
    "    if os.path.exists(\"S_n_Results/\" + filename + \".pickle\"):\n",
    "            os.remove(\"S_n_Results/\" + filename + \".pickle\")"
   ]
  },
  {
   "cell_type": "markdown",
   "metadata": {
    "pycharm": {
     "name": "#%% md\n"
    }
   },
   "source": [
    "Die Funktion `store_piece_list()` wird immer als erste speichernde Funktion aufgerufen.\n",
    "Sie erstellt eine Zip-Datei mit der Dateiendung `.chessAI` und speichert die gepickelte `g_piece_list` in dieser.\n",
    "Da die Funktion eine neue Datei erstellt, muss der Zähler für die Anzahl der gespeicherten $S_n$ Mengen zurückgesetzt werden."
   ]
  },
  {
   "cell_type": "code",
   "execution_count": null,
   "metadata": {
    "pycharm": {
     "name": "#%%\n"
    }
   },
   "outputs": [],
   "source": [
    "g_stored_set_counter = 0\n",
    "\n",
    "def store_piece_list():\n",
    "    global g_stored_set_counter\n",
    "    g_stored_set_counter = 0\n",
    "    filename = \"piece_list\"\n",
    "    with open(\"S_n_Results/\" + filename + \".pickle\", \"wb\") as pickleFile:\n",
    "        pickleFile.write(pickle.dumps(g_piece_list))\n",
    "        pickleFile.close()\n",
    "        \n",
    "    with ZipFile(\"S_n_Results/\" + g_filename + '.chessAI', 'w', compression=ZIP_DEFLATED) as zipped:\n",
    "        zipped.write(\"S_n_Results/\" + filename + \".pickle\", filename + \".pickle\")\n",
    "        zipped.close()\n",
    "        \n",
    "    delete_temp_file(filename)"
   ]
  },
  {
   "cell_type": "markdown",
   "metadata": {
    "pycharm": {
     "name": "#%% md\n"
    }
   },
   "source": [
    "Die Funktion `store_sn(sn)` fügt die Inhalte der Menge `sn` als `pickle` Datei in die `.chessAI` Datei ein.\n",
    "Die temporäre `.pickle` Datei wird anschließend gelöscht.\n",
    "Der Dateiname der Menge hängt vom globalen Zähler der gespeicherten Mengen ab."
   ]
  },
  {
   "cell_type": "code",
   "execution_count": null,
   "metadata": {
    "pycharm": {
     "name": "#%%\n"
    }
   },
   "outputs": [],
   "source": [
    "def store_sn(sn):\n",
    "    global g_stored_set_counter\n",
    "    filename = \"S_\" + str(g_stored_set_counter)\n",
    "    \n",
    "    with open(\"S_n_Results/\" + filename + \".pickle\", \"wb\") as pickleFile:\n",
    "        pickleFile.write(pickle.dumps(sn))\n",
    "        pickleFile.close()\n",
    "    \n",
    "    with ZipFile(\"S_n_Results/\" + g_filename + '.chessAI', 'a', compression=ZIP_DEFLATED) as zipped:\n",
    "        zipped.write(\"S_n_Results/\" + filename + \".pickle\", filename + \".pickle\")\n",
    "        zipped.close()\n",
    "    \n",
    "    g_stored_set_counter += 1\n",
    "    \n",
    "    delete_temp_file(filename)"
   ]
  },
  {
   "cell_type": "markdown",
   "metadata": {
    "pycharm": {
     "name": "#%% md\n"
    }
   },
   "source": [
    "### Orchestrierung der zuvor definierten Funktionen zum Berechnen der Endspieltabellen"
   ]
  },
  {
   "cell_type": "markdown",
   "metadata": {
    "pycharm": {
     "name": "#%% md\n"
    }
   },
   "source": [
    "\n",
    "Die Funktion `calculate()` kann aufgerufen werden, um mit den oben angegebenen Einstellungen eine neue Berechnung durchzuführen. \n",
    "\n",
    "Die Funktion berechnet zuerst die Ausgangssituation $S_0$ und speichert sie.\n",
    "Anschließend werden weitere $n$ in einer Schleife bestimmt.\n",
    "Nach jeder Berechnung eines $n$, werden die bestimmten Spielsituationen in der `.chessAI` gespeichert.\n",
    "Die Funktionen, welche für die Berechnung nötig sind, wurden im Verlauf dieses Notebooks aufgeführt und erklärt.\n",
    "\n",
    "Wenn der Nutzer einen Bauern in die `g_piece_list` eingetragen hat, wird dieser durch eine Dame ersetzt.\n",
    "Dies passiert, da die Dame der mächtigste Tausch ist, und alle gewonnenen Situationen für $S_0$ diese Dame enthalten müssen. Durch das `g_user_wants_pawn` Flag wird sichergestellt, dass der Bauer in den Tabellen vorkommt.  \n"
   ]
  },
  {
   "cell_type": "code",
   "execution_count": null,
   "metadata": {
    "pycharm": {
     "name": "#%%\n"
    }
   },
   "outputs": [],
   "source": [
    "def calculate():\n",
    "    global g_piece_list\n",
    "    if g_user_wants_pawn:\n",
    "        g_piece_list[g_piece_list.index(chess.Piece.from_symbol('P'))] = chess.Piece.from_symbol('Q')\n",
    "    store_piece_list()\n",
    "    \n",
    "    count = 0\n",
    "    sn = calculate_s0()\n",
    "    print(\"Done with S\" + str(count))\n",
    "    store_sn(sn)  \n",
    "    \n",
    "    while len(sn) != 0:\n",
    "        sn = previous_states(sn)\n",
    "        store_sn(sn)\n",
    "        count += 1\n",
    "        print(\"Done with S\" + str(count))"
   ]
  },
  {
   "cell_type": "markdown",
   "metadata": {
    "pycharm": {
     "name": "#%% md\n"
    }
   },
   "source": [
    "Die Funktion `run()` aggregiert die zur Berechnung und Speicherung benötigten Funktionen und führt sie in benötigter Reihenfolge aus.\n",
    "Zusätzlich werden die globalen Variablen `g_used_boards` und `g_user_wants_pawn` zurückgesetzt."
   ]
  },
  {
   "cell_type": "code",
   "execution_count": null,
   "metadata": {
    "pycharm": {
     "name": "#%%\n"
    }
   },
   "outputs": [],
   "source": [
    "def run():\n",
    "    global g_used_boards\n",
    "    global g_user_wants_pawn\n",
    "    g_used_boards = set()\n",
    "    g_user_wants_pawn = chess.Piece.from_symbol(\"P\") in g_piece_list\n",
    "    calculate()\n",
    "    print(\"Done\")\n"
   ]
  }
 ],
 "metadata": {
  "kernelspec": {
   "display_name": "Python 3 (ipykernel)",
   "language": "python",
   "name": "python3"
  },
  "language_info": {
   "codemirror_mode": {
    "name": "ipython",
    "version": 3
   },
   "file_extension": ".py",
   "mimetype": "text/x-python",
   "name": "python",
   "nbconvert_exporter": "python",
   "pygments_lexer": "ipython3",
   "version": "3.9.13"
  }
 },
 "nbformat": 4,
 "nbformat_minor": 1
}