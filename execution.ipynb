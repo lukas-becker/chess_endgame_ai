{
 "cells": [
  {
   "cell_type": "markdown",
   "source": [
    "# Auswerten eines Schach-Endspiels"
   ],
   "metadata": {
    "collapsed": false,
    "pycharm": {
     "name": "#%% md\n"
    }
   }
  },
  {
   "cell_type": "markdown",
   "source": [
    "## Imports, die für dieses Notebook benötigt werden"
   ],
   "metadata": {
    "collapsed": false,
    "pycharm": {
     "name": "#%% md\n"
    }
   }
  },
  {
   "cell_type": "code",
   "execution_count": null,
   "metadata": {
    "pycharm": {
     "name": "#%%\n"
    }
   },
   "outputs": [],
   "source": [
    "import chess\n",
    "from IPython.display import clear_output\n",
    "from IPython.display import display\n",
    "import json\n",
    "from stockfish import Stockfish\n",
    "import time"
   ]
  },
  {
   "cell_type": "markdown",
   "source": [
    "## Ausgangssituation\n",
    "\n",
    "An dieser Stelle kann eine FEN eingegeben werden, welche die Figuren enthält, mit welcher die $S_n$ Sequenz aus der\n",
    "ebenfalls einzugebenden Datei berechnet wurde.\n",
    "\n",
    "Weiter muss der Pfad zu einer Stockfish-Installation angegeben werden."
   ],
   "metadata": {
    "collapsed": false,
    "pycharm": {
     "name": "#%% md\n"
    }
   }
  },
  {
   "cell_type": "code",
   "execution_count": null,
   "metadata": {
    "pycharm": {
     "name": "#%%\n"
    }
   },
   "outputs": [],
   "source": [
    "fen = \"4k3/8/8/8/8/8/8/R3K3 w - - 0 1\"\n",
    "file = \"S_n_seq_12_01.json\"\n",
    "STOCKFISH_PATH = \"./stockfish_14.1/stockfish_14.1_win_x64_avx2.exe\"\n",
    "original_board = chess.Board(fen)"
   ]
  },
  {
   "cell_type": "markdown",
   "source": [
    "## Import der Daten\n",
    "\n",
    "Die Daten wurden als FEN in der JSON-Datei Serialisiert.\n",
    "Zum Initialisieren der Liste werden alle FENs gelesen und Board-Objekte erstellt."
   ],
   "metadata": {
    "collapsed": false,
    "pycharm": {
     "name": "#%% md\n"
    }
   }
  },
  {
   "cell_type": "code",
   "execution_count": null,
   "metadata": {
    "pycharm": {
     "name": "#%%\n"
    }
   },
   "outputs": [],
   "source": [
    "S_n_sequence_new = []\n",
    "f = open(file, \"r\")\n",
    "tmp = json.loads(f.read())\n",
    "for item in tmp:\n",
    "    tmp_list = []\n",
    "    for board in item:\n",
    "        tmp_list.append(chess.Board(board))\n",
    "    S_n_sequence_new.append(tmp_list)\n",
    "f.close()"
   ]
  },
  {
   "cell_type": "markdown",
   "source": [
    "## findBoardInSequence Hilfsfunktion\n",
    "\n",
    "Diese Funktion durchsucht eine $S_n$ Sequenz nach dem ersten Vorkommen eines übergebenen Board-Objekts.\n",
    "\n",
    "Funktions-Argumente:\n",
    "* situation: Das Board (als Objekt), welches gefunden werden soll\n",
    "* sequence: Die $S_n$ Sequenz, in welcher das Board gesucht wird\n",
    "\n",
    "Ergebnis der Ausführung:\n",
    "* Die Funktion hat zwei mögliche Rückgaben:\n",
    "  * Ein Tupel mit $S_n$ Index (z.B. $S_3$) und Board-Index (z.B. 100).\n",
    "    Dieses Tupel drückt aus, wo in der Sequenz das Board gefunden wurde.\n",
    "  * Das Tupel (-1,-1). Dies drückt aus, dass das Board nicht gefunden wurde.\n",
    "\n",
    "Nebeneffekte:\n",
    "Die Funktion verändert keinen der übergebenen Parameter.\n",
    "\n",
    "Algorithmus:\n",
    "1. Über die $S_n$ Sequenz iterieren.\n",
    "2. Über jedes Board in einem spezifischem $S_n$ iterieren.\n",
    "3. Das Board mit dem _situation_ Objekt vergleichen.\n",
    "    1. Wenn das Board übereinstimmt, die Indizes zurückgeben.\n",
    "    2. Wenn das Board nicht übereinstimmt, weitersuchen."
   ],
   "metadata": {
    "collapsed": false,
    "pycharm": {
     "name": "#%% md\n"
    }
   }
  },
  {
   "cell_type": "code",
   "execution_count": null,
   "metadata": {
    "pycharm": {
     "name": "#%%\n"
    }
   },
   "outputs": [],
   "source": [
    "def findBoardInSequence(situation, sequence):\n",
    "    board_str = (situation.turn, situation.__str__())\n",
    "\n",
    "    for i in range(len(sequence)):\n",
    "        for j in range(len(sequence[i])):\n",
    "            item = sequence[i][j]\n",
    "            if board_str == (item.turn, item.__str__()):\n",
    "                return i, j\n",
    "    return -1,-1"
   ]
  },
  {
   "cell_type": "markdown",
   "source": [
    "## Finden des ersten Boards in der $S_n$ Sequenz\n",
    "\n",
    "Mithilfe der zuvor definierten _findBoardInSequence_ Funktion wird das *original_board* in der *S_n_sequence* gesucht."
   ],
   "metadata": {
    "collapsed": false,
    "pycharm": {
     "name": "#%% md\n"
    }
   }
  },
  {
   "cell_type": "code",
   "execution_count": null,
   "outputs": [],
   "source": [
    "s_index = 0\n",
    "board_index = 0\n",
    "\n",
    "s_index, board_index = findBoardInSequence(original_board, S_n_sequence_new)\n",
    "\n",
    "#Print search result\n",
    "print(\"S\" + str(s_index) + \" - Board: \" + str(board_index))"
   ],
   "metadata": {
    "collapsed": false,
    "pycharm": {
     "name": "#%%\n"
    }
   }
  },
  {
   "cell_type": "markdown",
   "source": [
    "## Berechnen der Züge bis zum Spielende\n",
    "Diese Berechnung nutzt die Stockfish-Engine zum Berechnen der Spielzüge für den schwarzen Spieler.\n",
    "\n",
    "Voraussetzungen:\n",
    "  * Die vorherige Zelle muss ausgeführt worden sein; Es müssen ein s_index und ein board_index gesetzt sein.\n",
    "\n",
    "Ablauf:\n",
    "  * Das aktuelle Board kopieren (Auswählen aus $S_n$ und kopieren)\n",
    "  * Überprüfen ob Weiß oder Schwarz am Zug ist:\n",
    "    * Wenn Weiß:\n",
    "      * Alle legal moves ausprobieren, bis ein Spielzug gefunden wird, welcher das Board in einen Zustand aus $S_{n-1}$\n",
    "      bringt.\n",
    "    * Wenn Schwarz:\n",
    "      * Stockfish einen Zug berechnen lassen.\n",
    "      * Überprüfen in welcher $S_n$ Menge das Board sich nun befindet.\n",
    "  * s_index und board_index aktualisieren\n",
    "  * Wiederholen bis, das Board in $S_0$ ist (s_index = 0) oder kein Move gefunden wurde (s_index = -1)"
   ],
   "metadata": {
    "collapsed": false,
    "pycharm": {
     "name": "#%% md\n"
    }
   }
  },
  {
   "cell_type": "code",
   "execution_count": null,
   "outputs": [],
   "source": [
    "stockfish = Stockfish(STOCKFISH_PATH)\n",
    "\n",
    "moves = []\n",
    "moves = []\n",
    "while s_index > 0:\n",
    "    curr_board = S_n_sequence_new[s_index][board_index].copy()\n",
    "    stockfish.set_fen_position(curr_board.fen())\n",
    "    if curr_board.turn:\n",
    "        print(\"---White:---\")\n",
    "        print(\"Starting in S\" + str(s_index))\n",
    "        placement_dict = {}\n",
    "        for move in curr_board.legal_moves:\n",
    "            curr_board.push(move)\n",
    "            _tmp, board_index_tmp = findBoardInSequence(curr_board, [S_n_sequence_new[s_index - 1]])\n",
    "            s_index_tmp = s_index - 1\n",
    "            if board_index_tmp != -1:\n",
    "                print(\"    Move: \" + str(move))\n",
    "                print(\"    S\" + str(s_index_tmp) + \" - Board: \" + str(board_index_tmp))\n",
    "\n",
    "                moves.append(move)\n",
    "                curr_board.pop()\n",
    "                s_index = s_index_tmp\n",
    "                board_index = board_index_tmp\n",
    "                break\n",
    "            curr_board.pop()\n",
    "        print(\"Ended in S\" + str(s_index))\n",
    "\n",
    "    else:\n",
    "        print(\"---Black:---\")\n",
    "        print(\"Starting in S\" + str(s_index))\n",
    "        #move_list = list(curr_board.legal_moves)\n",
    "        #move_index = random.randint(0, len(move_list) - 1)\n",
    "        move = chess.Move.from_uci(stockfish.get_best_move())\n",
    "        curr_board.push(move)\n",
    "        s_index, board_index = findBoardInSequence(curr_board, S_n_sequence_new[:s_index])\n",
    "        print(\"    Move: \" + str(move))\n",
    "        print(\"    S\" + str(s_index) + \" - Board: \" + str(board_index))\n",
    "        if s_index == -1:\n",
    "            print(\"No solution\")\n",
    "            break\n",
    "        moves.append(move)\n",
    "        print(\"Ended in S\" + str(s_index))\n",
    "\n",
    "\n",
    "print(\"Found \" + str(len(moves)) + \" moves to win\")"
   ],
   "metadata": {
    "collapsed": false,
    "pycharm": {
     "name": "#%%\n"
    }
   }
  },
  {
   "cell_type": "markdown",
   "source": [
    "## Ergebnis mit Stockfish Ergebnis vergleichen\n",
    "Als Benchmark für die Berechnung werden alle Spielzüge für sowohl Weiß als auch Schwarz mit der Stockfish Enginge berechnet.\n",
    "Anschließend kann verglichen werden, wie viele Züge beide Ansätze benötigt haben."
   ],
   "metadata": {
    "collapsed": false,
    "pycharm": {
     "name": "#%% md\n"
    }
   }
  },
  {
   "cell_type": "code",
   "execution_count": null,
   "outputs": [],
   "source": [
    "compare_board = chess.Board()\n",
    "compare_board.set_fen(fen)\n",
    "compare_moves = []\n",
    "\n",
    "while not compare_board.is_game_over():\n",
    "    stockfish.set_fen_position(compare_board.fen())\n",
    "    next_move = chess.Move.from_uci(stockfish.get_best_move())\n",
    "    compare_board.push(next_move)\n",
    "    compare_moves.append(next_move)\n",
    "\n",
    "print(\"Stockfish ended the Game in \" + str(len(compare_moves)) + \" turns.\")"
   ],
   "metadata": {
    "collapsed": false,
    "pycharm": {
     "name": "#%%\n"
    }
   }
  },
  {
   "cell_type": "markdown",
   "source": [
    "## Anzeigen des Ergebnisses\n",
    "Ergebnisse anzeigen, in dem mit 2 Sekunden Verzögerung alle Moves durchgeführt werden."
   ],
   "metadata": {
    "collapsed": false,
    "pycharm": {
     "name": "#%% md\n"
    }
   }
  },
  {
   "cell_type": "code",
   "execution_count": null,
   "metadata": {
    "pycharm": {
     "name": "#%%\n"
    }
   },
   "outputs": [],
   "source": [
    "presentation_board = original_board.copy()\n",
    "display(presentation_board)\n",
    "time.sleep(2)\n",
    "for move in moves:\n",
    "    presentation_board.push(move)\n",
    "    clear_output(wait=True)\n",
    "    display(presentation_board)\n",
    "    time.sleep(2)"
   ]
  },
  {
   "cell_type": "code",
   "execution_count": null,
   "outputs": [],
   "source": [],
   "metadata": {
    "collapsed": false,
    "pycharm": {
     "name": "#%%\n"
    }
   }
  }
 ],
 "metadata": {
  "kernelspec": {
   "display_name": "Python 3 (ipykernel)",
   "language": "python",
   "name": "python3"
  },
  "language_info": {
   "codemirror_mode": {
    "name": "ipython",
    "version": 3
   },
   "file_extension": ".py",
   "mimetype": "text/x-python",
   "name": "python",
   "nbconvert_exporter": "python",
   "pygments_lexer": "ipython3",
   "version": "3.9.8"
  }
 },
 "nbformat": 4,
 "nbformat_minor": 1
}