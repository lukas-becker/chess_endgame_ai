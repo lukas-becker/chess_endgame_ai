{
 "cells": [
  {
   "cell_type": "markdown",
   "source": [
    "# Fazit\n",
    "\n",
    "Zuletzt wird ein Fazit zu der entwickelten Schach-Endspieldatenbank gezogen werden.\n",
    "Hierzu wird sich erneut die Umsetzung anhand der Retrograde-Analyse näher betrachtet.\n",
    "Weiterhin werden auch nochmal einzelne Aspekte der Implementierung genauer analysiert, um in diesem Hinblick die Berechnung der Endspieldatenbank effizienter zu gestalten.\n",
    "\n",
    "## Implementierung anhand der Retrograde-Analyse\n",
    "\n",
    "Das Ergebnis der Studienarbeit hat gezeigt, dass man mithilfe der Retrograde Analyse eine Berechnung der Schachtabellen für Endspielsituationen umsetzen kann.\n",
    "Jedoch hat sich im Verlauf der Arbeit herausgestellt, dass diese Methode nur beschränkt für beliebige Situationen angewendet werden kann.\n",
    "Beispielhaft wurden in dieser Arbeit Endspieltabellen für folgende Szenarien berechnet:\n",
    "1. König und Dame vs. König.\n",
    "2. König und Turm vs. König.\n",
    "3. König und zwei Läufer vs. König.\n",
    "4. König, Springer und Läufer vs. König.\n",
    "5. König und Bauer vs. König.\n",
    "\n",
    "Diese Berechnungen fanden nicht anhand der beschriebenen Methodik in `README.md` statt, sondern wurden aus Effizienzgründen \"rückwärts\" berechnet.\n",
    "Unter dieser Rückwärts-Berechnung fiel vor allem die Erstellung der Menge $S$, da diese nicht zu Beginn erstellt wurde, sondern sie sich mit den fortlaufenden $S_n$-Mengen aufgebaut hat.\n",
    "Dementsprechend wurden nicht aus der Menge $S$ die Elemente für die $S_n$ gesucht, sondern basierend auf der Menge $S_n$ wurde die Menge $S_(n+1)$ generiert.\n",
    "Die neue Methodik führte zu folgenden Berechnungszeiten für die vorgegebenen Szenarien:\n",
    "1. 53.8s\n",
    "2. 50.8s\n",
    "3. 19min 7s\n",
    "4. 53min 54s\n",
    "5. 6min 35s\n",
    "\n",
    "Für diese Berechnungen wurde ein HP Elitebook 840 G5 mit einer Intel Core(TM) i5-8350U CPU verwendet.\n",
    "\n",
    "Diese Zeiten deuten schon an, dass die Retrograde Analyse für die Berechnung größerer Endspielszenarien ungeeignet ist, da sich dadurch der Berechnungsaufwand immens erhöhen würde.\n",
    "Ausnahmen können jedoch Szenarien sein bei denen man weiß, dass die Partie in X Zügen beendet sein wird, man aber nicht die Züge zum Beenden der Partie kennt.\n",
    "Außerdem gilt es zu beachten, dass die hier verwendete Methodik kein Schlagen der Figuren berücksichtigt.\n",
    "Dies würde aber auch den Rahmen der Arbeit übersteigen, da das Schlagen einer Figur zur Folge hat, dass kein Spieler mehr die Partie gewinnen kann.\n",
    "Dennoch liegt die Empfehlung bei komplexeren Szenarien auf die Retrograde Analyse zu verzichten und stattdessen andere Methoden, wie sie bspw. bei Stockfish verwendet werden, in Betracht zu ziehen."
   ],
   "metadata": {
    "collapsed": false,
    "pycharm": {
     "name": "#%% md\n"
    }
   },
   "outputs": []
  },
  {
   "cell_type": "markdown",
   "source": [
    "## Ausblick\n",
    "\n",
    "Die entwickelte Endspieldatenbank ist in der Lage vorgegebene Spielszenarien zu lösen.\n",
    "Dies kann einerseits durch das Spielen gegen die KI, andererseits durch den Vergleich mit anderen Endspieldatenbanken bestätigt werden.\n",
    "Eine Bewertung der Berechnung wurde bereits im vorhergehenden Kapitel vorgenommen.\n",
    "Nun sollen Möglichkeiten aufgeführt werden, inwiefern die Performance der Berechnung optimiert werden kann.\n",
    "\n",
    "Eine Möglichkeit liegt in der Verbesserung der Spiegelungen der Schachbretter.\n",
    "Im aktuellen Stand werden die Spiegelungen über die Generierung eines `chess.Board` abgewickelt und in dessen `chess.Board.piece_map()` die `chess.Piece`-Objekte neu gesetzt mit den gespiegelten Spielpositionen.\n",
    "Dabei stellt die Erstellung und Änderung des `chess.Board`-Objekts eine aufwendige Operation dar, die für viele Bereiche der Berechnung und Auswertung benötigt wird.\n",
    "Durch die Integer-Darstellungsweise ist bereits eine Alternative-Umsetzung der Spiegelungen gegeben.\n",
    "In dem Notebook `13_mirroring.ipynb` wird bereits erläutert, dass es sich beim Tauschen im Dictionary `g_swaps` nur um die Zuordnung von neuen Spielpositionen handelt.\n",
    "Die aktuellen Positionen der Figuren werden aktuell in der Integer-Darstellung gespeichert.\n",
    "Aus diesem Grund liegt die Überlegung nahe, die Spiegelung direkt an der Integer-Darstellung durchzuführen, anstatt zuerst ein `chess.Board` zu erstellen und auf diesem die Spiegelungen durchzuführen.\n",
    "\n",
    "Weiter ist die Projektstruktur sehr stark an die Aufgabenstellung angepasst, weshalb die Retrograde Analysis auch nur für die beschriebenen Szenarien durchgeführt werden kann.\n",
    "Dabei liegt die größte Hürde in den Algorithmen, die in `03_calculation_backend.ipynb` zur Berechnung der $S_n$-Mengen verwendet wurden.\n",
    "Diese haben zur Folge, dass keine Spielsituationen berücksichtigt werden können, in denen Figuren geschlagen werden.\n",
    "Dadurch würde einerseits die Überführung in die Integer-Repräsentation nicht mehr in dieser Art möglich sein, andererseits wäre bereits die Berechnung der Menge $S_0$ nicht mehr in dieser Form möglich.\n",
    "Falls es jedoch gewünscht ist, dass weitere Szenarien nach dem Prinzip der Retrograde Analysis bestimmt werden, müsste das hier verwendete Verfahren zur Bestimmung der $S_n$-Mengen angepasst werden.\n",
    "Dennoch wären Teile der Optimierungen (wie beispielsweise die Rückwärts-Rechnung oder die Spiegelungen) beschränkt wiederverwendbar.\n",
    "\n",
    "Abschließend ist zu sagen, dass eine Erweiterung und Verbesserung der Endspieldatenbank möglich sind, dies aber nur unter Abwägung der Vor- und Nachteile umgesetzt werden sollte."
   ],
   "metadata": {
    "collapsed": false,
    "pycharm": {
     "name": "#%% md\n"
    }
   }
  }
 ],
 "metadata": {
  "kernelspec": {
   "display_name": "Python 3",
   "language": "python",
   "name": "python3"
  },
  "language_info": {
   "codemirror_mode": {
    "name": "ipython",
    "version": 2
   },
   "file_extension": ".py",
   "mimetype": "text/x-python",
   "name": "python",
   "nbconvert_exporter": "python",
   "pygments_lexer": "ipython2",
   "version": "2.7.6"
  }
 },
 "nbformat": 4,
 "nbformat_minor": 0
}