{
 "cells": [
  {
   "cell_type": "code",
   "execution_count": null,
   "outputs": [],
   "source": [
    "from IPython.core.display import HTML\n",
    "with open('style.html', 'r') as file:\n",
    "     css = file.read()\n",
    "HTML(css)"
   ],
   "metadata": {
    "collapsed": false,
    "pycharm": {
     "name": "#%%\n"
    }
   }
  },
  {
   "cell_type": "code",
   "execution_count": null,
   "outputs": [],
   "source": [
    "%run Util/00_imports.ipynb\n",
    "%run Util/01_functions.ipynb"
   ],
   "metadata": {
    "collapsed": false,
    "pycharm": {
     "name": "#%%\n"
    }
   }
  },
  {
   "cell_type": "code",
   "execution_count": null,
   "outputs": [],
   "source": [
    "S_N_Sequence_fen, S_N_Sequence_fen_short = load_s_n_fens(\"S_n_seq_rook\")"
   ],
   "metadata": {
    "collapsed": false,
    "pycharm": {
     "name": "#%%\n"
    }
   }
  },
  {
   "cell_type": "markdown",
   "source": [
    "> Potentielles TODO: Noch die anderen Tabellen von Python-Chess als Referenz / Vergleich aufführen (Gaviota)\n",
    "> TODO: Beschreibung der Funktion\n",
    "> TODO: Überlegung, ob Funktion noch notwendig ist"
   ],
   "metadata": {
    "collapsed": false,
    "pycharm": {
     "name": "#%% md\n"
    }
   }
  },
  {
   "cell_type": "code",
   "execution_count": null,
   "outputs": [],
   "source": [
    "def fen_in_lower_sequence(fen, sequence_index, s_n_short):\n",
    "    for s in s_n_short[:sequence_index]:\n",
    "        if fen in s:\n",
    "            return True\n",
    "    return False"
   ],
   "metadata": {
    "collapsed": false,
    "pycharm": {
     "name": "#%%\n"
    }
   }
  },
  {
   "cell_type": "markdown",
   "source": [
    "> TODO: Beschreibung der Funktion\n",
    "> TODO: Funktion wieder in weiß und schwarz teilen, möglicherweise hierzu nochmal loop teilen"
   ],
   "metadata": {
    "collapsed": false,
    "pycharm": {
     "name": "#%% md\n"
    }
   }
  },
  {
   "cell_type": "code",
   "execution_count": null,
   "outputs": [],
   "source": [
    "def every_move_of_sequence_in_lower(sequence_index, s_n_fen, s_n_short):\n",
    "    print(\"Checking S_\" + str(sequence_index) + \"...\")\n",
    "    sequence_fen = s_n_fen[sequence_index]\n",
    "    for fen in sequence_fen:\n",
    "        cur_board = chess.Board(fen)\n",
    "        if not cur_board.turn:\n",
    "            for move in cur_board.legal_moves:\n",
    "                cur_board.push(move)\n",
    "                cur_short = get_board_and_turn(cur_board.fen())\n",
    "                if not fen_in_lower_sequence(cur_short, sequence_index, s_n_short):\n",
    "                    print(\"Fen: \" + cur_short + \" not in lower S\")\n",
    "                    return False\n",
    "                cur_board.pop()\n",
    "            return True\n",
    "        else:\n",
    "            in_lower = False\n",
    "            for move in cur_board.legal_moves:\n",
    "                cur_board.push(move)\n",
    "                cur_short = get_board_and_turn(cur_board.fen())\n",
    "                if fen_in_lower_sequence(cur_short, sequence_index, s_n_short):\n",
    "                    in_lower = True\n",
    "                cur_board.pop()\n",
    "            return in_lower\n"
   ],
   "metadata": {
    "collapsed": false,
    "pycharm": {
     "name": "#%%\n"
    }
   }
  },
  {
   "cell_type": "code",
   "execution_count": null,
   "outputs": [],
   "source": [
    "for i in range(len(S_N_Sequence_fen)):\n",
    "    every_move_of_sequence_in_lower(i, S_N_Sequence_fen, S_N_Sequence_fen_short)"
   ],
   "metadata": {
    "collapsed": false,
    "pycharm": {
     "name": "#%%\n"
    }
   }
  },
  {
   "cell_type": "markdown",
   "source": [
    "> TODO: Beschreibung der Funktion\n",
    "> TODO: Fragwürdig wie sinnig die Fkt. ist, wenn sie in 99% der Fälle nicht zum Ende kommt, Überlegung noch anderen Test zu berücksichtigen\n",
    "> TODO: Alternative finden (entweder Gaviota oder doch eine Methode, wie man abschätzen kann, ob es falsch zugeordnet worden ist)"
   ],
   "metadata": {
    "collapsed": false,
    "pycharm": {
     "name": "#%% md\n"
    }
   }
  },
  {
   "cell_type": "code",
   "execution_count": null,
   "outputs": [],
   "source": [
    "def find_move_count(sequence_index, fen, move_count, move_set, s_n_short):\n",
    "    cur_board = chess.Board(fen)\n",
    "    moves = cur_board.legal_moves\n",
    "    if moves.count() == 0 and sequence_index == 0:\n",
    "        move_set.add(move_count)\n",
    "        return move_set\n",
    "    if not cur_board.turn:\n",
    "        # print(\"Black:\")\n",
    "        for move in cur_board.legal_moves:\n",
    "            cur_board.push(move)\n",
    "            move_count += 1\n",
    "            cur_fen = cur_board.fen()\n",
    "            new_seq = find_situation_in_sequence(cur_fen, s_n_short)\n",
    "            # print(new_seq, \";\" , cur_fen)\n",
    "            move_set = find_move_count(new_seq, cur_fen, move_count, move_set, s_n_short)\n",
    "            move_count -= 1\n",
    "            cur_board.pop()\n",
    "    else:\n",
    "        # print(\"White:\")\n",
    "        for move in cur_board.legal_moves:\n",
    "            cur_board.push(move)\n",
    "            cur_fen = get_board_and_turn(cur_board.fen())\n",
    "            if fen_in_lower_sequence(cur_fen, sequence_index, s_n_short):\n",
    "                new_seq = find_situation_in_sequence(cur_fen, s_n_short)\n",
    "                move_count += 1\n",
    "                move_set = find_move_count(new_seq, cur_fen, move_count, move_set, s_n_short)\n",
    "                move_count -= 1\n",
    "            cur_board.pop()\n",
    "    return move_set"
   ],
   "metadata": {
    "collapsed": false,
    "pycharm": {
     "name": "#%%\n"
    }
   }
  },
  {
   "cell_type": "code",
   "execution_count": null,
   "outputs": [],
   "source": [
    "find_move_count(20, \"8/8/8/3K4/8/5R2/2k5/8 b - - 0 1\", 0, set(), S_N_Sequence_fen_short)"
   ],
   "metadata": {
    "collapsed": false,
    "pycharm": {
     "name": "#%%\n"
    }
   }
  },
  {
   "cell_type": "markdown",
   "source": [
    "> TODO: Beschreibung der Funktion\n",
    "> Überlegung: Auch sinnfrei, da sie für größere n nicht funktioniert -> ALTERNATIVE"
   ],
   "metadata": {
    "collapsed": false,
    "pycharm": {
     "name": "#%% md\n"
    }
   }
  },
  {
   "cell_type": "code",
   "execution_count": null,
   "outputs": [],
   "source": [
    "def check_boards_in_correct_sequence(sequence_index, s_n_fen, s_n_short):\n",
    "    invalid = 0\n",
    "    print(\"Comparing S_\" + str(sequence_index) + \"...\")\n",
    "    for fen in s_n_fen[sequence_index]:\n",
    "        move_set = find_move_count(sequence_index, fen, 0, set(), s_n_short)\n",
    "        if max(move_set) != sequence_index:\n",
    "            invalid += 1\n",
    "            print(fen)\n",
    "    print(\"Invalid boards: \" + str(invalid))"
   ],
   "metadata": {
    "collapsed": false,
    "pycharm": {
     "name": "#%%\n"
    }
   }
  },
  {
   "cell_type": "code",
   "execution_count": null,
   "outputs": [],
   "source": [
    "check_boards_in_correct_sequence(4, S_N_Sequence_fen, S_N_Sequence_fen_short)"
   ],
   "metadata": {
    "collapsed": false,
    "pycharm": {
     "name": "#%%\n"
    }
   }
  },
  {
   "cell_type": "markdown",
   "source": [
    "> TODO: Beschreibung der Funktion\n",
    "> TODO: syzygy-Tabellen sollten ebenfalls zur Verfügung stellen, dass Stroetmann nicht downloaden muss"
   ],
   "metadata": {
    "collapsed": false,
    "pycharm": {
     "name": "#%% md\n"
    }
   }
  },
  {
   "cell_type": "code",
   "execution_count": null,
   "outputs": [],
   "source": [
    "def compare_with_syzygy(syzygy, s_n_sequence):\n",
    "    counter = 0\n",
    "\n",
    "    for n in range(len(s_n_sequence)):\n",
    "        count = 0\n",
    "        for fen in s_n_sequence[n]:\n",
    "            chess_board = chess.Board(fen)\n",
    "            if n != abs(syzygy.probe_dtz(chess_board)) != n + 1:\n",
    "                count += 1\n",
    "        print(f\"S{n}: Syzygy believes {count} of {len(s_n_sequence[n])} Situations are wrongly placed in the sequence.\")\n",
    "    print(f\"Syzygy believes {counter} Situations are wrongly placed in the sequence.\")\n",
    "    return count"
   ],
   "metadata": {
    "collapsed": false,
    "pycharm": {
     "name": "#%%\n"
    }
   }
  },
  {
   "cell_type": "code",
   "execution_count": null,
   "outputs": [],
   "source": [
    "SYZYGY = chess.syzygy.Tablebase()\n",
    "SYZYGY.add_directory(\"./syzygy\")"
   ],
   "metadata": {
    "collapsed": false,
    "pycharm": {
     "name": "#%%\n"
    }
   }
  },
  {
   "cell_type": "code",
   "execution_count": null,
   "outputs": [],
   "source": [
    "compare_with_syzygy(SYZYGY, S_N_Sequence_fen)"
   ],
   "metadata": {
    "collapsed": false,
    "pycharm": {
     "name": "#%%\n"
    }
   }
  }
 ],
 "metadata": {
  "kernelspec": {
   "display_name": "Python 3",
   "language": "python",
   "name": "python3"
  },
  "language_info": {
   "codemirror_mode": {
    "name": "ipython",
    "version": 2
   },
   "file_extension": ".py",
   "mimetype": "text/x-python",
   "name": "python",
   "nbconvert_exporter": "python",
   "pygments_lexer": "ipython2",
   "version": "2.7.6"
  }
 },
 "nbformat": 4,
 "nbformat_minor": 0
}