{
 "cells": [
  {
   "cell_type": "markdown",
   "metadata": {},
   "source": [
    "# Einleitung"
   ]
  },
  {
   "cell_type": "markdown",
   "metadata": {},
   "source": [
    "Bevor in die Umsetzung der Aufgabe eingestiegen wird, werden einige Grundlagen des Schachspiels für den ungeschulten Spieler erklärt. Dadurch können die Schritte zur Berechnung eines optimalen Endspiels besser nachvollzogen werden. "
   ]
  },
  {
   "cell_type": "markdown",
   "metadata": {},
   "source": [
    "# Schach"
   ]
  },
  {
   "cell_type": "markdown",
   "metadata": {},
   "source": [
    "Bei Schach handelt es sich um ein Brettspiel, das insgesamt von zwei Spielern gespielt werden kann.\n",
    "Im folgenden Abschnitt soll eine Einführung in den Spielablauf gegeben werden. Diese wird benötigt, um die im Verlauf dieses Dokuments vorgestellten Konzepte zu verstehen."
   ]
  },
  {
   "cell_type": "markdown",
   "metadata": {},
   "source": [
    "## Spielbrett und Spielfiguren\n",
    "Ein Schachbrett besteht aus insgesamt 64 Feldern, die in einer 8x8 Matrix angeordnet sind. Dabei werden die Spalten mit\n",
    "den Buchstaben a-h und die Zeilen mit den Zahlen 1-8 beschriftet. Das typische Schachmuster entsteht durch einen regelmäßigen Wechsel\n",
    "zwischen weißen und schwarzen bzw. dunklen und hellen Feldern. Dementsprechend sind insgesamt 32 weiße und 32 schwarze Felder\n",
    "auf dem Schachbrett zu finden. Alle Felder können mithilfe der zuvor genannten Beschriftung eindeutig identifiziert\n",
    "werden. Wenn in diesem Dokument Felder durch ein Kürzel wie beispielsweise \"c5\" spezifiziert werden, ist das Feld\n",
    "gemeint, das in der Spalte \"*Buchstabe*\" und der Zeile \"*Zahl*\" zu finden ist. Das vorherige Beispiel befindet sich also in der dritten (c) Spalte und der fünften (5) Zeile.\n",
    "\n",
    "Im Folgenden werden die Spalten des Schachbretts als Linien und die Zeilen als Reihen bezeichnet.\n",
    "\n",
    "Dieses Schachbrett wird maximal von 32 Figuren besetzt (16 weiße und 16 schwarze Figuren). Eine Seite besteht aus\n",
    "insgesamt sechs unterschiedlichen Figuren. Bei diesen Figuren handelt es sich um:\n",
    "\n",
    "- Bauern (8)\n",
    "- Springer (2)\n",
    "- Läufer (2)\n",
    "- Türme (2)\n",
    "- Dame (1)\n",
    "- König (1)\n",
    "\n",
    "Die Zahl in den Klammern steht hierbei für die Anzahl an Figuren pro Spieler. Die Aufstellung zu Beginn des Spiels kann\n",
    "aus der folgenden Abbildung entnommen werden:\n",
    "\n",
    "![Grundaufstellung](../Abbildungen/Grundaufstellung.png)"
   ]
  },
  {
   "cell_type": "markdown",
   "metadata": {},
   "source": [
    "### Bewegungsmöglichkeiten der Figuren  \n",
    "Jede der bereits genannten Figuren hat einen Wert und ein Bewegungsmuster. \n",
    "Figuren können im Rahmen dieses Bewegungsmuster bewegt werden, werden aber durch andere Figuren blockiert. Eine Figur kann nur \n",
    "in Ausnahmefällen übersprungen werden und blockiert grundsätzlich die Bewegungen aller anderen Figuren. \n",
    "Figuren des Gegners (der anderen Farbe) können geschlagen werden, indem eine eigene Figur auf dasselbe Feld gestellt wird. \n",
    "Eine geschlagene Figur wird vom Spielfeld entfernt. Zwei Figuren derselben Farbe können nicht auf demselben Feld platziert werden.\n",
    "Diese lauten wie folgt (Jonathan Carlstedt, Die kleine Schachschule (2015): S.10ff., S.40):\n",
    "- **König** (unendlich): Der König gehört zu den unbeweglichsten Figuren auf dem Spielfeld. Er kann pro Zug nur ein Feld entlang\n",
    "einer Reihe, Linie oder Diagonalen bewegt werden. Dadurch besitzt er jedoch die Möglichkeit, in jede Richtung eine gegnerische Figur\n",
    "zu schlagen. Als weitere Einschränkung muss beim Ziehen mit dem König beachtet werden, dass das angestrebte Feld nicht durch eine\n",
    "gegnerische Figur abgedeckt wird. Ein Feld gilt als abgedeckt, wenn eine gegnerische Figur es in einem Zug betreten und die darauf \n",
    "stehende Figur schlagen kann. Ist dies der Fall, darf der König nicht auf dieses Feld gesetzt werden.\n",
    "![König-Bewegungsmuster](../Abbildungen/König.png)\n",
    "- **Turm** (5): Der Turm besitzt die Möglichkeit, in einer Reihe oder Linie beliebig viele Felder zu überqueren\n",
    "(maximal bis zum Ende des Spielfeldes). \n",
    "![Turm-Bewegungsmuster](../Abbildungen/Turm.png)\n",
    "- **Läufer** (3): Der Läufer kann wie ein Turm in geraden Linien bewegt werden. Er unterscheidet sich dadurch,\n",
    "dass er nur diagonal bewegt werden kann. Ein Läufer auf dem Feld \"a1\" kann folglich nur nach \"b2\" oder entlang der Diagonale\n",
    "bewegt werden.\n",
    "![Läufer-Bewegungsmuster](../Abbildungen/Läufer.png)\n",
    "- **Dame** (9): Die Dame zählt zu den beweglichsten Figuren auf dem Spielfeld. Sie kombiniert die Bewegungsmuster des\n",
    "Läufers und des Turms. Das bedeutet, dass sie horizontal (entlang der Reihen), vertikal (entlang der Linien) und diagonal bewegt werden kann.\n",
    "![Dame-Bewegungsmuster](../Abbildungen/Dame.png)\n",
    "- **Bauer** (1): Der Bauer ist die Figur mit der geringsten Beweglichkeit. Dieser kann nur entlang der Linie nach vorne bewegt werden.\n",
    "Die erste Bewegung jedes Bauern kann ein oder zwei Felder weit sein, folgende Bewegungen sind immer genau ein Feld weit. \n",
    "Eine Besonderheit des Bauerns, liegt in der Richtung, in die ein Bauer gegnerische Figuren schlagen darf. \n",
    "Dieser darf nur diagonal nach vorne schlagen. Weiter wird der Bauer in eine\n",
    "beliebige Spielfigur (außer einem Bauern und einem zweiten König) gewandelt, sobald er die Grundlinie des Gegners erreicht hat.\n",
    "![Bauer-Bewegungsmuster](../Abbildungen/Bauer.png)\n",
    "- **Springer** (3): Der Springer besitzt im Gegensatz zu allen bereits beschriebenen Figuren keine lineare Bewegungsrichtung.\n",
    "Er kann um zwei Felder nach vorne und ein Feld zur Seite versetzt werden. Dieses Verfahren gilt in jede Richtung, \n",
    "sodass der Springer im Optimalfall acht Felder erreichen kann. Der Name des Springers kommt dadurch\n",
    "zustande, dass er die einzige Figur ist, die andere Figuren überspringen kann. Nur das \"Zielfeld\" kann durch eine eigene\n",
    "Figur blockiert werden. \n",
    "![Springer-Bewegungsmuster](../Abbildungen/Springer.png)"
   ]
  },
  {
   "cell_type": "markdown",
   "metadata": {
    "collapsed": true,
    "pycharm": {
     "name": "#%% md\n"
    }
   },
   "source": [
    "## Spielablauf"
   ]
  },
  {
   "cell_type": "markdown",
   "metadata": {},
   "source": [
    "In einem Spiel ziehen die Spieler immer abwechselnd eine Figur ihrer Farbe. Den ersten Zug hat dabei immer weiß. \n",
    "\n",
    "Beide Spieler verfolgen während der ganzen Partie das Ziel, den gegnerischen Spieler Schach-Matt zu setzen. Ein Spieler ist Schach-Matt, wenn folgende Bedingungen erfüllt sind:\n",
    "1. Der König wird durch eine gegnerische Figur bedroht.\n",
    "2. Der König kann dieser Bedrohung nicht ausweichen.\n",
    "\n",
    "Eine solche Bedrohung liegt vor, wenn der gegnerische Spieler im nächsten Zug den König schlagen kann. Dies kann auf drei unterschiedliche Weisen pariert werden:\n",
    "1. Der König bewegt sich aus dem \"Schach\".\n",
    "2. Der Spieler schlägt die Schach-gebende Figur.\n",
    "3. Eine Figur stellt sich zwischen die Schach-gebende Figur und den König.\n",
    "\n",
    "Ein anderer Spielausgang neben dem Schach-Matt liegt in dem Patt. Ein Patt ist dann gegeben, wenn der Spieler, der am Zug ist, keine Figur mehr ziehen kann und der König des Ziehenden nicht im Schach steht."
   ]
  },
  {
   "cell_type": "markdown",
   "metadata": {
    "pycharm": {
     "name": "#%% md\n"
    }
   },
   "source": [
    "Da diese Studienarbeit nicht vorsieht, das komplette Schachspiel zu erklären, werden die restlichen Spielregeln nicht näher erläutert. \n",
    "Diese werden aber in der [python-chess](https://python-chess.readthedocs.io/en/latest/) Bibliothek, welche für die Abbildung des Schachspiels im Code verwendet wird, umgesetzt und berücksichtigt."
   ]
  },
  {
   "cell_type": "markdown",
   "metadata": {
    "pycharm": {
     "name": "#%% md\n"
    }
   },
   "source": [
    "Anhand der Nummerierung der Notebooks können nun die einzelnen Schritte zur Erstellung und Validierung einer Schach-Endspiel-KI nachvollzogen werden.\n",
    "Die einzelnen Notebooks begleiten chronologisch die Erstellung, Validierung und Verwendung einer Endspiel-KI. Die hierfür notwendigen Notebooks sind:\n",
    "\n",
    "1. 02_calculation.ipynb\n",
    "2. 03_play_against_ai.ipynb\n",
    "3. 04_play_from_history.ipynb\n",
    "4. 05_stockfish_compare.ipynb\n",
    "5. 06_validate_sequences.ipynb\n",
    "\n",
    "Im Util-Ordner werden zusätzlich allgemeine Importe und Funktionen aufgelistet, die für die Ausführung der aufgelisteten Notebooks benötigt werden.\n",
    "\n",
    "In der PDF-Version dieser Arbeit ist jedes der aufgelisteten Notebooks ein Kapitel.\n"
   ]
  },
  {
   "cell_type": "markdown",
   "metadata": {
    "cell_id": "00000-9fea07bb-15d0-4062-8157-9f13e890a25b",
    "deepnote_cell_type": "markdown",
    "pycharm": {
     "name": "#%% md\n"
    }
   },
   "source": [
    "# Berechnung der Endspieldatenbank\n",
    "\n",
    "Wie in Notebook ``01_chess_introduction`` bereits erklärt, ist ein Schachspiel gewonnen, wenn die gegnerische Figur mattgesetzt wurde. \n",
    "\n",
    "Bei einer geringen Anzahl an Figuren $P$ im Spielzustand lassen sich alle möglichen Positionen berechnen.\n",
    "Aus diesen kann eine Strategie entwickelt werden, den Gegner zu schlagen.\n",
    "\n",
    "Im weiteren Verlauf werden folgende Definitionen verwendet:\n",
    "* $board.pieces$: Liste der Figuren, welche in einem Zustand vorhanden sind.\n",
    "* $valid\\_boards$: Alle Zustände des Schachspiels, die gegen keine Regeln verstoßen.\n",
    "* $won\\_boards$: Alle Zustände des Schachspiels, in denen ein Spieler gewonnen hat.\n",
    "* $previous\\_states(b)$: Alle Zustände, aus denen durch Ausführen eines einzelnen Zuges der Zustand $b$ erreicht werden kann.\n",
    "\n",
    "Seien alle möglichen (validen) Kombinationen von Positionen der Figuren $P$ die Menge $S$.  \n",
    "Für $S$ gilt:  \n",
    "$$\n",
    "board \\in S \\implies \\forall p \\in P : p \\in board.pieces \\\\\n",
    "\\land \\\\\n",
    "board \\in S \\implies board \\in valid\\_Boards\n",
    "$$\n",
    "\n",
    "Aus der Menge $S$ lassen sich Zustände auswählen, welche $n$ Züge vom Sieg entfernt sind. \n",
    "Diese Zustände lassen sich in $S_n$ zusammenfassen. Ist das Spiel gewonnen, verbleiben 0 Züge bis zum Sieg.  \n",
    "Für alle diese Zustände, in denen ein Spieler mattgesetzt ist, gilt:  \n",
    "$$\n",
    "board \\in S_0 \\implies board \\in won\\_boards \\land board \\in S\n",
    "$$\n",
    "Aus dieser Definition können induktiv die verbleibenden $S_n$ hergeleitet werden:  \n",
    "$$board \\in S_{n+1} \\iff board \\in S \\land \\exists b \\in S_n: board \\in previous\\_states(b)$$\n",
    "\n",
    "Für die Berechnungen in diesem Notebook gilt da für den schwarzen Spieler immer nur der König auf dem Feld steht weiter Folgendes:  \n",
    "$board.turn$: Der Spieler, welcher am Zug ist.\n",
    "\n",
    "$$\n",
    "n \\equiv 0 \\mod 2 \\implies \\forall b \\in S_n : b.turn = schwarz \\\\\n",
    "\\land \\\\\n",
    "n \\equiv 1 \\mod 2 \\implies \\forall b \\in S_n : b.turn = weiß \\\\\n",
    "$$\n",
    "\n",
    "Dieses Notebook wird zur Berechnung der $S_n$ Mengen verwendet. Diese werden benötigt, um letztendlich ein Schach-Endspiel lösen zu können. "
   ]
  },
  {
   "cell_type": "markdown",
   "metadata": {
    "pycharm": {
     "name": "#%% md\n"
    }
   },
   "source": [
    "## Ein Hinweis zu Spiegelungen\n",
    "In diesem Notebook werden Spiegelungen der Situationen verwendet. Die technische Umsetzung \n",
    "dieser Spiegelungen werden im Verlauf des Dokuments erklärt, an dieser Stelle soll lediglich\n",
    "eine Einführung in die Theorie hinter dem Spiegeln von Situationen erklärt werden.\n",
    "\n",
    "Durch die zuvor erklärten Bewegungsmuster der Figuren sind Schachbretter in vielen Fällen symmetrisch.\n",
    "\n",
    "Eine Position mit dem Turm in \"a8\", der Dame in \"g6\" und dem gegnerischen König in \"h8\" ist genauso verloren wie \n",
    "dieselbe Position nur mit dem Turm in \"a1\", der Dame in \"g3\" und dem König in \"h1\".\n",
    "Dies wäre eine Spiegelung entlang der horizontalen zwischen den Zeilen 4 und 5.\n",
    "Weiter sind auch Spiegelungen entlang der vertikalen (Zwischen Reihe e und f), den Diagonalen und Rotationen \n",
    "(jeweils um 90°, 180° und 270°) möglich.\n",
    "\n",
    "Durch das simple Spiegeln der Spielsituationen können aus einer validen Spielsituation bis zu sieben weitere ohne\n",
    "großen Rechenaufwand erstellen. Aus diesem Grund werden in diesem Dokument bei jeder Berechnung neuer Situationen diese\n",
    "gespiegelt und die Spiegelungen ebenfalls überprüft und abgespeichert. \n",
    "\n",
    "Da Bauern sich nur in eine Richtung bewegen können, werden nur Spielsituationen gespiegelt, welche keine Bauern enthalten."
   ]
  },
  {
   "cell_type": "markdown",
   "metadata": {},
   "source": [
    "## Ein Hinweis zur effizienten Ergebnisverwaltung\n",
    "Im Verlauf der Berechnung muss mehrfach überprüft werden, ob eine Situation bereits bekannt und einem $S_n$ zugeordnet ist.\n",
    "Da der Abgleich mit einer Liste in Python ineffizient ist, findet dieser Abgleich mit Mengen statt.\n",
    "Mengen werden in Python als Hash-Tabellen umgesetzt und haben damit eine Zeitkomplexität bei der Überprüfung, ob sie ein bestimmtes Element enthalten von $\\mathcal{O}(1)$.\n",
    "`board` Objekte der `chess` Library sind jedoch nicht \"Hashbar\". Im Sinne der in dieser Arbeit getätigten Berechnungen reichen die Informationen über die Stellung der Figuren und dem Spieler, welcher am Zug ist, aus. Es wird daher für die Verwendung in Python Mengen mit einer Tupel-Repräsentation der Situationen wie folgt gearbeitet: \n",
    "$$\n",
    "Tupel := <board.turn, board.\\_\\_str\\_\\_()>\n",
    "$$\n",
    "Die Funktion ``board.__str__()`` gibt einen String zurück, welcher ein Schachbrett wie folgt darstellt:\n",
    "```\n",
    "'r n b q k b n r\\np p p p p p p p\\n. . . . . . . .\\n. . . . . . . .\\n. . . . . . . .\\n. . . . . . . .\\nP P P P P P P P\\nR N B Q K B N R'\n",
    "```\n",
    "Die Eigenschaft ``board.turn`` ist ein boolscher Wert.\n",
    "Sowohl Tupel, als auch Strings und boolsche Werte sind in Python \"Hashable\", weshalb diese Darstellung in Mengen verwendet werden kann.\n",
    "\n",
    "Um die Effizienz weiter zu steigern, berechnet dieses Notebook nicht alle Situationen $S$ und entfernt daraus die Situationen für ein $S_n$ wie in der Aufgabenstellung beschrieben.\n",
    "Stattdessen werden alle bekannten Situationen in `used_boards` gespeichert.\n",
    "Dopplungen werden also nicht vermieden indem Situationen aus einer großen Liste entfernt werden, sondern eine Liste der entfernten Situationen geführt und neue Situationen mit dieser abgeglichen."
   ]
  },
  {
   "cell_type": "markdown",
   "metadata": {
    "pycharm": {
     "name": "#%% md\n"
    }
   },
   "source": [
    "## Funktionen zur Bestimmung aller gültigen Positionen\n",
    "\n",
    "Wie bereits in `01_chess_introduction` beschrieben, besteht ein Schachbrett aus insgesamt acht Spalten und Zeilen. Die Spalten werden durch Buchstaben gekennzeichnet, die Zeilen durch Zahlen. Aus der Kombination einer Spalte (z.B. a) und einer Zahl (z.B. 1) erhält man eine eindeutige Kennzeichnung für ein Feld (z.B. a1).  \n",
    "Die folgende Funktion kombiniert die Buchstaben a bis h mit den Zahlen 1 bis 8 zu Feldnamen und gibt diese zurück."
   ]
  },
  {
   "cell_type": "code",
   "execution_count": null,
   "metadata": {
    "pycharm": {
     "name": "#%%\n"
    }
   },
   "outputs": [],
   "source": [
    "def get_all_squares():\n",
    "    columns = {\n",
    "        1 : 'a',\n",
    "        2 : 'b',\n",
    "        3 : 'c',\n",
    "        4 : 'd',\n",
    "        5 : 'e',\n",
    "        6 : 'f',\n",
    "        7 : 'g',\n",
    "        8 : 'h'\n",
    "    }\n",
    "    \n",
    "    all_squares = []\n",
    "    for row in range(1,9):\n",
    "        for col_num in range(1,9):\n",
    "            column = columns[col_num]\n",
    "            all_squares.append(chess.parse_square(column + str(row)))\n",
    "            \n",
    "    return all_squares"
   ]
  },
  {
   "cell_type": "markdown",
   "metadata": {
    "pycharm": {
     "name": "#%% md\n"
    }
   },
   "source": [
    "Das Erstellen jeglicher Boards wird mit der Funktion ``place_piece_everywhere_on_every_board`` umgesetzt. \n",
    "Diese erhält folgende Parameter: \n",
    "\n",
    "* ``piece``: Die zu platzierende Figur als Objekt der chess-Library.\n",
    "* ``list_of_boards``: Eine Liste mit Board-Objekten, auf welchen die Figur platziert werden soll.\n",
    "\n",
    "Die Funktion betrachtet jede Situation in der `list_of_boards`. Das übergebene `piece` wird auf jeden freien \n",
    "Platz dieser Situation platziert. Jedes Mal, wenn eine Figur platziert wird, wird eine Kopie des Board-Objektes erstellt, \n",
    "die ``list_of_boards`` wird folglich nicht verändert.  \n",
    "Wenn der zweite König platziert wird, wird die Situation zusätzlich auf Validität überprüft.\n",
    "Wenn alle Figuren platziert wurden, werden nur Boards, in denen Schwarz matt ist, zurückgegeben. \n",
    "\n",
    "Um die Effizienz der Berechnung zu erhöhen, werden die Schachbretter gespiegelt.\n",
    "Damit bei folgenden Berechnungen Situationen nicht einmal durch Spiegelung und einmal durch\n",
    "Bewegung von Figuren erreicht werden, werden die ungespiegelten Situationen in der Liste `uniques`\n",
    "gespeichert.\n",
    "\n",
    "Die Funktion gibt als Ergebnis eine Liste aller generierten Zustände als ``result_list``, \n",
    "die Menge der bereits verwendeten Situationen `used_boards` und alle ungespiegelten Boards (vor Spiegelungen) `uniques` zurück."
   ]
  },
  {
   "cell_type": "code",
   "execution_count": null,
   "metadata": {
    "pycharm": {
     "name": "#%%\n"
    }
   },
   "outputs": [],
   "source": [
    "def place_figure_everywhere_on_every_board(piece, list_of_boards, piece_count, user_wants_pawn):\n",
    "    result_list = []\n",
    "    uniques = []\n",
    "    all_squares = get_all_squares()\n",
    "    used_boards = set()\n",
    "    \n",
    "    for board in list_of_boards:\n",
    "        squares_used = list(board.piece_map().keys())\n",
    "        for square in all_squares:\n",
    "            if square not in squares_used:\n",
    "                tmp_board = board.copy()\n",
    "                tmp_board.set_piece_at(square, piece)\n",
    "                \n",
    "                if len(squares_used) > 1 and not tmp_board.is_valid(): \n",
    "                    # Don't process invalid boards further \n",
    "                    # than the second king\n",
    "                    continue\n",
    "                    \n",
    "                outcome = tmp_board.outcome()\n",
    "                if outcome is not None:\n",
    "                    rep = (tmp_board.turn, tmp_board.__str__())\n",
    "                    if outcome.winner is not None and tmp_board.is_valid() and rep not in used_boards:\n",
    "                        uniques.append(tmp_board)\n",
    "                        result_list.append(tmp_board)\n",
    "                        used_boards.add((tmp_board.turn,tmp_board.__str__()))\n",
    "                        if not user_wants_pawn:\n",
    "                            for swt in Swap_Type:\n",
    "                                mir_board = mirror(tmp_board, swt)\n",
    "                                if (mir_board.turn, mir_board.__str__()) not in used_boards:\n",
    "                                    result_list.append(mir_board)\n",
    "                                    used_boards.add((mir_board.turn,mir_board.__str__()))\n",
    "                        continue\n",
    "                        \n",
    "                if len(squares_used) + 1 < piece_count: #Board is valid, but needs more pieces\n",
    "                    result_list.append(tmp_board)\n",
    "    return result_list, used_boards, uniques"
   ]
  },
  {
   "cell_type": "markdown",
   "metadata": {
    "pycharm": {
     "name": "#%% md\n"
    }
   },
   "source": [
    "## Die Ursprungsmenge $S_0$ erstellen\n",
    "Als Basis der Berechnung dient die Liste $S_0$. Diese enthält alle möglichen Konstellationen der Spielfiguren auf dem\n",
    "Spielbrett, in denen Weiß Schwarz besiegt hat.\n",
    "Hierfür werden die Figuren mit der Funktion ``place_figure_everywhere_on_every_board`` auf allen \n",
    "Positionen platziert.   \n",
    "\n",
    "Die Funktion `setup_boards` automatisiert dies und gibt die Liste $S_0$, eine Menge der bereits bekannten Situationen \n",
    "`used_boards` und die Menge der ungespiegelten Situationen `uniques` zurück."
   ]
  },
  {
   "cell_type": "code",
   "execution_count": null,
   "metadata": {
    "pycharm": {
     "name": "#%%\n"
    }
   },
   "outputs": [],
   "source": [
    "def setup_boards(user_supplied_pieces, user_wants_pawn):\n",
    "    pieces_to_place = create_piece_list(user_supplied_pieces)\n",
    "    \n",
    "    empty_board = chess.Board().empty()\n",
    "    empty_board.turn = chess.BLACK\n",
    "    s_0 = [empty_board]\n",
    "    \n",
    "    piece_count = len(pieces_to_place)\n",
    "    for piece in pieces_to_place:\n",
    "        s_0, used_boards, uniques = place_figure_everywhere_on_every_board(piece, s_0, piece_count, user_wants_pawn)\n",
    "\n",
    "    print(str(len(s_0)) + \" Boards in S_0\")\n",
    "    return s_0, used_boards, uniques"
   ]
  },
  {
   "cell_type": "markdown",
   "metadata": {},
   "source": [
    "Bevor die Boards für $S_0$ erstellt werden können, müssen die vom Nutzer getätigten Eingaben zu den zu verwendeten Figuren mit den immer vorhandenen Figuren kombiniert werden.\n",
    "Weiter wird ein eingegebener Bauer durch eine Königin ersetzt.\n",
    "Ein Endspiel mit zwei Königen und einem Bauer kann nicht gewonnen werden, weshalb keine Situationen für $S_0$ gefunden werden würden. Die Königin wird später im Ablauf wieder durch einen Bauern ersetzt. Die Theorie hinter diesem Tausch wird zu einem späterem Zeitpunkt erklärt."
   ]
  },
  {
   "cell_type": "code",
   "execution_count": null,
   "metadata": {},
   "outputs": [],
   "source": [
    "# A queen will automatically be replaced by a pawn\n",
    "def create_piece_list(user_supplied_pieces):\n",
    "    if chess.Piece.from_symbol(\"P\") in user_supplied_pieces:\n",
    "        user_supplied_pieces.remove(chess.Piece.from_symbol(\"P\"))\n",
    "        user_supplied_pieces.append(chess.Piece.from_symbol(\"Q\"))\n",
    "        \n",
    "    return [chess.Piece.from_symbol(\"K\"), chess.Piece.from_symbol(\"k\")] \\\n",
    "           + user_supplied_pieces"
   ]
  },
  {
   "cell_type": "markdown",
   "metadata": {
    "cell_id": "00017-71dbb18a-b442-4217-96bc-991bdbbe4099",
    "deepnote_cell_type": "markdown",
    "pycharm": {
     "name": "#%% md\n"
    }
   },
   "source": [
    "## Rückwärts neue Situationen bestimmen\n",
    "\n",
    "Der nächste Schritt besteht darin, sämtliche $S_{n}$ Mengen zu bestimmen. Hierzu wird eine bereits bestimmte $S_n$\n",
    "Menge genommen und alle Situationen berechnet, die durch Durchführen eines Zugs zu einer Situation aus $S_n$ werden.\n",
    "\n",
    "Besonders muss bei dieser Art der Bestimmung auf die Einordnung der Situationen, bei welchen Schwarz am Zug ist, geachtet werden.\n",
    "Da beim späteren Verwenden der KI die Züge des schwarzen Spielers nicht beeinflusst werden können, muss jeder mögliche\n",
    "Zug einer Situation in $S_{n+1}$ mit $n \\% 2 = 0$ zu einer Situation aus $S_n$ führen. Diese Überprüfung wird mit der Funktion\n",
    "`check_black_determinism` durchgeführt.\n",
    "Da die Züge von Weiß gezielt gewählt werden können, ist diese Überprüfung bei $n \\% 2 = 1$ nicht nötig. \n",
    "\n",
    "Außerdem müssen bei der Durchführung des Algorithmus weitere Aspekte berücksichtigt werden:\n",
    "* Da Bauern nur in eine Richtung laufen können, müssen die rückwärts Schritte eines Bauern manuell durchgeführt werden. Bauern werden daher im ersten Schritt ignoriert.\n",
    "* Bauern, die die oberste Reihe des Spielfeldes erreichen, können zu einer anderen Figur eingetauscht werden. Dieser Schritt wird nicht durch die Pseudo-Legal-Moves abgedeckt, daher wird, sollte sich eine Königin in der obersten Reihe befinden, diese manuell durch einen Bauern ersetzt.\n",
    " \n",
    "Die Umsetzung erfolgt durch die Funktion ``previous_states``. \n",
    "Alle Funktionsparameter können aus der nachfolgenden Liste entnommen werden:\n",
    "\n",
    "* ``used_boards``: Die Menge aller bereits einem $n$ zugeordneten Situationen, welche nicht noch einmal beachtet werden sollen.\n",
    "* ``iteration_count``: $n$ des $S_n$, welches gerade berechnet wird.\n",
    "* ``user_wants_pawn``: Ein Flag, welches steuert, ob spezifische Bewegungen des Bauern berechnet werden sollen.\n",
    "* ``uniques``: Die Situationen, welche als Ursprung der Spiegelung verwendet werden.\n",
    "\n",
    "Der Algorithmus zur Bestimmung der Menge $S_{n+1}$ wird im folgenden Abschnitt beschrieben.\n",
    "Um die Funktion übersichtlicher zu halten, wurden teile des Algorithmus in die Funktion `moves` übertragen.\n",
    "\n",
    "* Über die Uniques (ungespiegelte Situationen) iterieren.\n",
    "  * Den Spieler, welcher am Zug ist, wechseln (Da, um im aktuellen Zustand anzukommen, der andere Spieler einen Zug\n",
    "  gemacht hat)\n",
    "  * Alle Positionen mit Bauern berechnen \n",
    "  * Alle pseudo-legalen Bewegungen mittels der Funktion `regular_moves` durchführen. \n",
    "    Hierbei werden keine Züge der Bauern beachtet. Die technische Umsetzung wird in der Dokumentation der Funktion erklärt.\n",
    "  * Wenn die Bewegungen von Bauern abgebildet werden müssen:\n",
    "    * Bauern manuell einen Schritt \"nach hinten\" setzen.\n",
    "    * Überprüfen, ob eine Dame in der obersten Reihe durch einen Bauern in der vorletzten ersetzt werden muss.\n",
    "    * Die technische Umsetzung dieser Aktionen wird in der Dokumentation der Funktionen `pawn_moves` und \n",
    "      `replace_queen_with_pawn` erklärt.\n",
    "  * Den Spieler, welcher ursprünglich am Zug war, wiederherstellen.\n",
    "  * Wenn $(n+1) \\% 2 = 0$ überprüfen, ob alle zuvor berechneten Boards mit allen Moves in $S_n$ enden. \n",
    "\n",
    "Außerdem müssen bei der Durchführung des Algorithmus weitere Aspekte berücksichtigt werden:\n",
    "\n",
    "* Da Bauern nur in eine Richtung laufen können, müssen die rückwärts Schritte eines Bauern manuell durchgeführt werden. Bauern werden daher im ersten Schritt ignoriert.\n",
    "* Bauern, die die oberste Reihe des Spielfeldes erreichen, können zu einer anderen Figur eingetauscht werden. Dieser Schritt wird nicht durch die Pseudo-Legal-Moves abgedeckt, daher wird, sollte sich eine Königin in der obersten Reihe befinden, diese manuell durch einen Bauern ersetzt.\n",
    "\n",
    "Die Funktion bestimmt die Menge $S_{n+1}$, die Menge der bekannten Boards als Tupel `used_boards` und die ungespiegelten Origniale aus $n+1$ `s_n1_uniques`"
   ]
  },
  {
   "cell_type": "code",
   "execution_count": null,
   "metadata": {
    "cell_id": "00018-6f30589f-4a50-41e1-aabe-3338bcbc70b9",
    "deepnote_cell_type": "code",
    "deepnote_to_be_reexecuted": false,
    "execution_millis": 1,
    "execution_start": 1638464319562,
    "pycharm": {
     "name": "#%%\n"
    },
    "source_hash": "d6bac79e"
   },
   "outputs": [],
   "source": [
    "def previous_states(used_boards, iteration_count, user_wants_pawn, uniques):\n",
    "    #variables\n",
    "    s_n1 = []\n",
    "    s_n1_tuples = set()\n",
    "    s_n1_uniques = []\n",
    "    s_n1_uniques_tuples = set()\n",
    "\n",
    "    for i in range(len(uniques)):\n",
    "        status = \"Calculating S\" + str(iteration_count) + \" - Board \" + str(i+1) + \" of \" + str(len(uniques)) + \" from S\" + str(iteration_count-1)\n",
    "        clear_output(wait=True)\n",
    "        print(status)\n",
    "\n",
    "        # Copy current board and invert the player\n",
    "        chess_board = uniques[i].copy()\n",
    "        chess_board.turn = chess_board.turn ^ True\n",
    "\n",
    "        # Find all Pawns\n",
    "        pawn_positions = find_pawns(chess_board)\n",
    "        \n",
    "        # try moves and check if they lead to new boards\n",
    "        '''\n",
    "        Note to Prof. Stroetmann: Die folgende Funktion, dient nur dazu die eigentliche previous_states zu verkürzen.\n",
    "        Sollen wir diesen Aufruf behalten, oder eine längere previous_states haben?\n",
    "        '''\n",
    "        s_n1, s_n1_tuples, s_n1_uniques, s_n1_uniques_tuples = moves(chess_board, used_boards, s_n1_tuples, pawn_positions, user_wants_pawn, s_n1, s_n1_uniques, s_n1_uniques_tuples)\n",
    "            \n",
    "\n",
    "        # Restore the original state of the board\n",
    "        chess_board.turn = chess_board.turn ^ True\n",
    "        \n",
    "    # Only needed for Black-Moves\n",
    "    if iteration_count % 2 == 0:\n",
    "        clear_output(wait=True)\n",
    "        print(\"Calculating S\" + str(iteration_count) + \" - Checking Black Moves for determinism\")\n",
    "        \n",
    "        s_n1, s_n1_tuples, s_n1_uniques = check_black_determinism(s_n1, used_boards, s_n1_uniques_tuples)\n",
    "\n",
    "    clear_output(wait=True)\n",
    "    print(\"Done with S\" + str(iteration_count))\n",
    "    return s_n1, used_boards | s_n1_tuples, s_n1_uniques"
   ]
  },
  {
   "cell_type": "markdown",
   "metadata": {
    "pycharm": {
     "name": "#%% md\n"
    }
   },
   "source": [
    "## Hilfsfunktionen für die Berechnung\n",
    "\n",
    "Die folgenden Funktionen werden zur Berechnung der previous_states verwendet. \n",
    "Sie übernehmen dabei diverse Aufgaben wie das Durchführen von regulären Moves oder das \"manuelle\" Versetzen von Figuren, um eine andere Situation zu generieren. "
   ]
  },
  {
   "cell_type": "markdown",
   "metadata": {
    "collapsed": false
   },
   "source": [
    "Die Funktion `moves` führt für eine Situation `chess_board` zunächst Züge mit allen Figuren außer dem Bauern durch. Wenn der Nutzer einen Bauern in seiner Konfiguration angegeben hat, werden auch Bauernzüge sowie der Tausch Dame zu Bauer durchgeführt.  "
   ]
  },
  {
   "cell_type": "code",
   "execution_count": null,
   "metadata": {
    "collapsed": false,
    "pycharm": {
     "name": "#%%\n"
    }
   },
   "outputs": [],
   "source": [
    "def moves(chess_board, used_boards, s_n1_tuples, pawn_positions, user_wants_pawn, s_n1, s_n1_uniques, s_n1_uniques_tuples):\n",
    "    tmp_n1, tmp_n1_tuples, tmp_uniques, tmp_uniques_tuples = regular_moves(chess_board, used_boards, s_n1_tuples, pawn_positions, user_wants_pawn)\n",
    "    s_n1 += tmp_n1\n",
    "    s_n1_tuples |= tmp_n1_tuples\n",
    "    s_n1_uniques += tmp_uniques\n",
    "    s_n1_uniques_tuples |= tmp_uniques_tuples\n",
    "\n",
    "    if user_wants_pawn and chess_board.turn:\n",
    "        # Push all pawns one row back and check if this leads to new boards\n",
    "        if len(pawn_positions) > 0:\n",
    "            tmp_list, tmp_set = pawn_moves(chess_board, used_boards, s_n1_tuples)\n",
    "            s_n1 += tmp_list\n",
    "            s_n1_tuples |= tmp_set\n",
    "            s_n1_uniques += tmp_list\n",
    "            s_n1_uniques_tuples |= tmp_set\n",
    "        \n",
    "        # Exchange Queens with Pawns\n",
    "        queen_positions = check_top_row_for_queen(chess_board)\n",
    "        if queen_positions:\n",
    "            tmp_list, tmp_set = replace_queen_with_pawn(chess_board, used_boards, s_n1_tuples, queen_positions)\n",
    "            s_n1 += tmp_list\n",
    "            s_n1_tuples |= tmp_set\n",
    "            s_n1_uniques += tmp_list\n",
    "            s_n1_uniques_tuples |= tmp_set\n",
    "            \n",
    "    return s_n1, s_n1_tuples, s_n1_uniques, s_n1_uniques_tuples"
   ]
  },
  {
   "cell_type": "markdown",
   "metadata": {
    "pycharm": {
     "name": "#%% md\n"
    }
   },
   "source": [
    "Die Funktion ``regular_moves`` führt für eine übergebene Situation `chess_board` alle `pseudo_legal_moves` durch, um mögliche vorhergehende Situationen zu berechnen.  \n",
    "Pseudo-Legale-Züge sind Züge, welche die Figuren auf eine Art bewegen, die der Figur gestattet ist, aber unter Umständen in eine nicht legale Spielsituation führt. \n",
    "Diese werden verwendet, da nur weil der Move von $S_{n+1}$ zu $S_n$ legal ist, der Zug umgekehrt dies nicht sein muss.\n",
    "\n",
    "Ein simples Beispiel:\n",
    "Situation $S_n$: Ein König befindet sich ein Feld von einem Schach entfernt.  \n",
    "Diese Position kann erreicht worden sein, da der König von einer Position in $S_{n+1}$ sich aus diesem Schach herausbewegt hat.\n",
    "Der Zug \"in das Schach\", wäre jedoch nicht legal, weshalb ein Move aus der Liste der `pseudo_legal_moves` zur Berechnung genommen werden muss.\n",
    "Dies funktioniert nicht für Bauern, da ein Schritt nach \"hinten\" keine Bewegung ist, welche der Figur zusteht.\n",
    "\n",
    "Die Funktion überprüft jeden Zug, welcher in der Situation möglich ist. Wenn die errechnete Situation valide und noch nicht verwendet (überprüft durch Einträge in `used_boards` und `s_n1_tuples`) ist, wird sie den Rückgabe-Variablen angefügt.\n",
    "Wenn sich keine Bauern auf dem Spielfeld befinden (`user_wants_pawn`), dann können die Situationen gespiegelt werden, um weiteren Rechenaufwand zu reduzieren.\n",
    "Diese Spiegelung findet durch eine Iteration über die später definierten Swap_Types statt. Anschließend wird mit der Funktion `mirror` die Spiegelung bestimmt,\n",
    "die Validität der Situation überprüft und ebenfalls an das Ergebnis angefügt.\n",
    "\n",
    "Nach Abschluss der Berechnungen gibt die Funktion die Liste alle neuen Situationen (ungespiegelt `uniques` und gespiegelt `new_boards`) sowie deren Tupel-Repräsentation wieder."
   ]
  },
  {
   "cell_type": "code",
   "execution_count": null,
   "metadata": {
    "pycharm": {
     "name": "#%%\n"
    }
   },
   "outputs": [],
   "source": [
    "def regular_moves(chess_board, used_boards, s_n1_tuples, pawn_positions, user_wants_pawn):\n",
    "    new_boards = []\n",
    "    new_tuples = set()\n",
    "    new_uniques = []\n",
    "    new_uniques_tuples = set()\n",
    "    for pLMove in chess_board.pseudo_legal_moves:\n",
    "        if chess.square_name(pLMove.from_square) not in pawn_positions:\n",
    "            \n",
    "            chess_board.push(pLMove)\n",
    "            \n",
    "            chess_board.turn = chess_board.turn ^ True\n",
    "            if not chess_board.is_valid() or chess_board.outcome() is not None:\n",
    "                chess_board.turn = chess_board.turn ^ True\n",
    "                chess_board.pop()\n",
    "                continue\n",
    "                \n",
    "            # If the new board is found in S, it can be reached in one step\n",
    "            tuple_rep = (chess_board.turn,chess_board.__str__())\n",
    "            if tuple_rep not in used_boards and tuple_rep not in s_n1_tuples and tuple_rep not in new_tuples:               \n",
    "                new_uniques.append(chess_board.copy())\n",
    "                new_uniques_tuples.add(tuple_rep)\n",
    "                \n",
    "                new_boards.append(chess_board.copy())\n",
    "                new_tuples.add(tuple_rep)\n",
    "                \n",
    "                if not user_wants_pawn:\n",
    "                    for swtype in Swap_Type:\n",
    "                        mirrored_board = mirror(chess_board, swtype)\n",
    "                        tuple_rep_mir = (mirrored_board.turn,mirrored_board.__str__())\n",
    "                        if tuple_rep_mir not in used_boards and tuple_rep_mir not in s_n1_tuples and tuple_rep_mir not in new_tuples:\n",
    "                            new_boards.append(mirrored_board.copy())\n",
    "                            new_tuples.add(tuple_rep_mir)\n",
    "            chess_board.turn = chess_board.turn ^ True\n",
    "            chess_board.pop()\n",
    "    \n",
    "    return new_boards, new_tuples, new_uniques, new_uniques_tuples"
   ]
  },
  {
   "cell_type": "markdown",
   "metadata": {},
   "source": [
    "\n",
    "Wie zuvor bereits erwähnt, ermöglicht die quadratische Natur des Schachbrettes es das Spielbrett zu spiegeln / rotieren und weitere Situationen zu erhalten. \n",
    "\n",
    "Zunächst wird ein Enum erstellt, welches es ermöglicht über die Arten der Figurenvertauschungen zu iterieren.\n",
    "`Swap_Type` übersetzt zu einem String, welcher im nächsten Schritt als Key für ein Dictionary verwendet wird.\n"
   ]
  },
  {
   "cell_type": "code",
   "execution_count": null,
   "metadata": {
    "pycharm": {
     "name": "#%%\n"
    }
   },
   "outputs": [],
   "source": [
    "class Swap_Type(Enum):\n",
    "    VERTICAL = \"vertical\"\n",
    "    HORIZONTAL = \"horizontal\"\n",
    "    ROTATE_RIGHT = \"rotate_right\"\n",
    "    ROTATE_180 = \"rotate_180\"\n",
    "    ROTATE_LEFT = \"rotate_left\""
   ]
  },
  {
   "cell_type": "markdown",
   "metadata": {},
   "source": [
    "Für den Tausch wird über jede Figur iteriert und diese an die entsprechende Position gesetzt.\n",
    "Das Ergebnis wird als `Board-Objekt` zurückgegeben.\n",
    "\n",
    "Die Formeln zum Spiegeln und Rotieren der Spielsituationen wurden [dieser Quelle](https://www.chessprogramming.org/Flipping_Mirroring_and_Rotating) entnommen."
   ]
  },
  {
   "cell_type": "code",
   "execution_count": null,
   "metadata": {
    "pycharm": {
     "name": "#%%\n"
    }
   },
   "outputs": [],
   "source": [
    "def mirror(board, sw_type : Swap_Type):\n",
    "    swaps = {\n",
    "        \"vertical\" : {x:x^56 for x in range(64)},\n",
    "        \"horizontal\" : {x:x^7 for x in range(64)},\n",
    "        \"rotate_right\" : {x:(((x >> 3) | (x << 3)) & 63) ^ 56 for x in range(64)},\n",
    "        \"rotate_180\" : {x : x ^ 63 for x in range(64)},\n",
    "        \"rotate_left\" : {x : (((x >> 3) | (x << 3)) & 63) ^ 7 for x in range(64)}\n",
    "    }\n",
    "    \n",
    "    swapped_board = chess.Board()\n",
    "    swapped_board.clear()\n",
    "    swapped_board.turn = board.turn\n",
    "\n",
    "    for position, piece in board.piece_map().items():\n",
    "        swapped_board.set_piece_at(swaps[sw_type.value][position], piece)\n",
    "    \n",
    "    return swapped_board"
   ]
  },
  {
   "cell_type": "markdown",
   "metadata": {},
   "source": [
    "Befinden sich Bauern in der Situation, müssen diese manuell platziert werden, da für diese auch in den `pseudo_legal_moves` nur die Züge $S_n \\rightarrow S_{(n+1)}$ aufgeführt sind.\n",
    "Die Funktion `pawn_moves` erfüllt diese Anforderung.\n",
    "Ähnlich wie die Funktion `regular_moves` werden für eine Situation `chess_board` alle Situationen berechnet, welche durch Bewegung eines Bauerns zu `chess_board` werden. \n",
    "Hierfür wird über alle Bauern auf dem Spielfeld iteriert, diese entfernt und auf das Feld mit dem Index $n-8$ wieder gesetzt. Da eine Reihe\n",
    "8 Felder hat, hat das Feld in derselben Linie aber vorherigen Reihe den Index 8 geringer.\n",
    "Auch diese Situationen werden sowohl auf Validität als auch bisheriges Vorkommen überprüft, bevor sie den Rückgabevariablen angefügt werden.\n",
    "Das übergebene Objekt wird zu seinem Ursprungszustand zurückgeführt."
   ]
  },
  {
   "cell_type": "code",
   "execution_count": null,
   "metadata": {
    "pycharm": {
     "name": "#%%\n"
    }
   },
   "outputs": [],
   "source": [
    "def pawn_moves(chess_board, used_boards, s_n1_tuples):\n",
    "    new_boards = []\n",
    "    new_tuples = set()\n",
    "    chess_board = chess_board.copy()\n",
    "    \n",
    "    for pawn in chess_board.pieces(chess.PAWN, True):\n",
    "        if chess_board.piece_at(pawn - 8) is None:\n",
    "            chess_board.remove_piece_at(pawn)\n",
    "            chess_board.set_piece_at(pawn - 8, chess.Piece.from_symbol('P'))\n",
    "            if chess_board.is_valid() and chess_board.outcome() is None:\n",
    "                tuple_rep = (chess_board.turn,chess_board.__str__())\n",
    "                if tuple_rep not in used_boards and tuple_rep not in s_n1_tuples:\n",
    "                    new_boards.append(chess_board.copy())\n",
    "                    new_tuples.add(tuple_rep)\n",
    "            \n",
    "    return new_boards, new_tuples\n"
   ]
  },
  {
   "cell_type": "markdown",
   "metadata": {
    "pycharm": {
     "name": "#%% md\n"
    }
   },
   "source": [
    "Ein Problem, das bei der Verwendung der Rückwärts-Analyse auftritt, liegt in dem Szenario: \n",
    "\"König und Bauer gegen König\". Dieses Szenario beinhaltet die Umwandlung des Bauerns, welcher die oberste Zeile erreicht hat, in eine andere Figur (Dame, Turm, Läufer, Springer). \n",
    "Da die Dame die stärkste Figur im Spiel ist, wird immer dieser Tausch gewählt.\n",
    "Hat der Nutzer bei den weißen Figuren, welche sich in der Situation sollen, einen Bauern angegeben, wurde dieser beim Errechnen der Menge $S_0$ durch eine Königin ersetzt.\n",
    "\n",
    "Für die Berechnung der idealen Züge muss der Bauer wieder in die Situationen, welche sich in den $S_n$ Mengen befinden, eingeführt werden.\n",
    "Der Tausch eines Bauerns zu einer Dame kann nicht durch die `pseudo_legal_moves` umgekehrt werden.\n",
    "\n",
    "Die Funktion ``check_top_row_for_queen`` überprüft, ob ein solcher Tausch möglich ist. Sie erhält als Parameter eine Situation `board`, für welches die Felder der obersten Zeile überprüft und jedes zurückgegeben wird, auf dem sich eine Dame befindet."
   ]
  },
  {
   "cell_type": "code",
   "execution_count": null,
   "metadata": {
    "pycharm": {
     "name": "#%%\n"
    }
   },
   "outputs": [],
   "source": [
    "def check_top_row_for_queen(board):\n",
    "    return_list = []\n",
    "    for i in range(56, 64):\n",
    "        if board.piece_type_at(i) == chess.QUEEN:\n",
    "            return_list.append(i)\n",
    "\n",
    "    if len(return_list) > 0:\n",
    "        return return_list\n",
    "    else:\n",
    "        return False"
   ]
  },
  {
   "cell_type": "markdown",
   "metadata": {
    "pycharm": {
     "name": "#%% md\n"
    }
   },
   "source": [
    "Wurden mittels der vorhergehenden Funktion Damen in der obersten Zeile gefunden, ersetzt `replace_queen_with_pawn` alle diese Positionen (`toprow_queen_positions`) durch einen \n",
    "Bauern in der vorletzten Zeile.\n",
    "Es wird über die übergebenen Positionen von Damen in der obersten Reihe iteriert, diese entfernt und in der Reihe davor (Feld Index um 8 verringert) ein Bauer platziert.\n",
    "Wenn die Situation ein valides Schachbrett darstellt, wird sie an die Rückgabeliste angefügt."
   ]
  },
  {
   "cell_type": "code",
   "execution_count": null,
   "metadata": {
    "pycharm": {
     "name": "#%%\n"
    }
   },
   "outputs": [],
   "source": [
    "def replace_queen_with_pawn(orig_board, used_boards, s_n1_tuples, toprow_queen_positions):\n",
    "    new_boards = []\n",
    "    new_tuples = set()\n",
    "    \n",
    "    for square in toprow_queen_positions:\n",
    "        chess_board = orig_board.copy()\n",
    "        if chess_board.piece_at(square - 8) is None:\n",
    "            chess_board.remove_piece_at(square)\n",
    "            chess_board.set_piece_at(square - 8, chess.Piece.from_symbol('P'))\n",
    "            if chess_board.is_valid() and chess_board.outcome() is None:\n",
    "                tuple_rep = (chess_board.turn,chess_board.__str__())\n",
    "                if tuple_rep not in used_boards and tuple_rep not in s_n1_tuples:\n",
    "                    new_boards.append(chess_board.copy())\n",
    "                    new_tuples.add(tuple_rep)\n",
    "            chess_board.remove_piece_at(square - 8)\n",
    "            chess_board.set_piece_at(square, chess.Piece.from_symbol('Q'))\n",
    "    return new_boards, new_tuples"
   ]
  },
  {
   "cell_type": "markdown",
   "metadata": {},
   "source": [
    "Da Bauern mittels der Funktion `pawn_moves` gesondert behandelt werden müssen, muss in `regular_moves` verhindert werden, dass Züge mit Bauern durchgeführt werden.\n",
    "Hierfür wird die Information benötigt, auf welchen Feldern sich ein Bauer befindet. Diese Information wird durch die Funktion `find_pawns` generiert.  "
   ]
  },
  {
   "cell_type": "code",
   "execution_count": null,
   "metadata": {
    "pycharm": {
     "name": "#%%\n"
    }
   },
   "outputs": [],
   "source": [
    "def find_pawns(chess_board):\n",
    "    result = []\n",
    "    for pawn in chess_board.pieces(chess.PAWN, True):\n",
    "            result.append(chess.square_name(pawn))\n",
    "    return result"
   ]
  },
  {
   "cell_type": "markdown",
   "metadata": {},
   "source": [
    "Wenn mittels der KI eine Spielsituation ausgewertet wird, kann für jeden Zug des weißen Spielers ein Zug ausgewählt werden.\n",
    "Für die Situationen, bei denen Schwarz am Zug ist, muss die KI alle möglichen Züge auswerten können.\n",
    "Da jedoch für einen spezifischen Zug, welcher eine Situation von $S_n$ in $S_{n-1}$ führt, dasselbe nicht für alle Züge gilt, welche in der Situation möglich sind, müssen die Situationen, bei welchen Schwarz am Zug ist, besonders gefiltert werden.\n",
    "Für jede Situation $b$ aus einem $S_n$ mit $n \\, \\% \\, 2 = 0$ muss folglich gelten:  \n",
    "$$\n",
    "b \\in S_n \\implies \\forall m \\in valid\\_moves(b): b.push(m) \\in S_{m} \\land m < n\n",
    "$$\n",
    "Wobei `valid_moves` die Liste der legalen Züge für eine Situation ist und `b.push(m)` die Situation beschreibt, welche durch Ausführen des Zuges $m$ entsteht. \n",
    "\n",
    "Die Funktion `check_black_determinism` stellt dies sicher.\n",
    "Für jede Situation in `s_n1` wird jeder mögliche legale Zug ausgeführt und überprüft, ob die entstehende Situation in einer Menge\n",
    "$S_m$ mit $m <= n$ auffindbar ist. Nur wenn alle Züge diese Bedingung erfüllen, wird das Objekt in die Liste `s_n1_tmp`, welche in der\n",
    "Funktion `previous_states` die eigentliche Liste `s_n1` ersetzen wird, aufgenommen."
   ]
  },
  {
   "cell_type": "code",
   "execution_count": null,
   "metadata": {
    "pycharm": {
     "name": "#%%\n"
    }
   },
   "outputs": [],
   "source": [
    "def check_black_determinism(s_n1, used_boards, uniques_n1_tuples):\n",
    "    s_n1_tmp = []\n",
    "    s_n1_tuples_tmp = set()\n",
    "    uniques_n1_tmp = []\n",
    "    \n",
    "    \n",
    "    for chess_board in s_n1:\n",
    "        include = True        \n",
    "        if not chess_board.turn:\n",
    "            for move in chess_board.legal_moves:\n",
    "                chess_board.push(move)\n",
    "                tuple_rep = (chess_board.turn,chess_board.__str__())\n",
    "                if tuple_rep not in used_boards:\n",
    "                    include = False\n",
    "                chess_board.pop()\n",
    "        if include:\n",
    "            s_n1_tmp.append(chess_board)\n",
    "            s_n1_tuples_tmp.add((chess_board.turn,chess_board.__str__()))\n",
    "            tuple_rep = (chess_board.turn,chess_board.__str__())\n",
    "            if tuple_rep in uniques_n1_tuples:    \n",
    "                uniques_n1_tmp.append(chess_board)\n",
    "    \n",
    "    return s_n1_tmp, s_n1_tuples_tmp, uniques_n1_tmp"
   ]
  },
  {
   "cell_type": "markdown",
   "metadata": {
    "pycharm": {
     "name": "#%% md\n"
    }
   },
   "source": [
    "## Export in Datei\n",
    "Nach erfolgreicher Berechnung einer $S_n$ Menge werden die FENs der Situationen in eine temporäre `.preConvert` Datei geschrieben.\n",
    "Wurden alle $S_n$ berechnet, wird die temporäre Datei in eine `.chessAI` Datei für die Verwendung in der KI und eine `.chessTest` für das\n",
    "Testen der Ergebnisse konvertiert."
   ]
  },
  {
   "cell_type": "markdown",
   "metadata": {},
   "source": [
    "Damit keine Werte einer vergangenen Berechnung in der temporären Datei vorliegen, muss zuerst eine leere `.preConvert` Datei erstellt werden. "
   ]
  },
  {
   "cell_type": "code",
   "execution_count": null,
   "metadata": {
    "pycharm": {
     "name": "#%%\n"
    }
   },
   "outputs": [],
   "source": [
    "def create_empty_file(filename):\n",
    "    f = open(\"S_n_Results/\" + filename + \".preConvert\", \"w\")\n",
    "    f.write(\"\")\n",
    "    f.close()"
   ]
  },
  {
   "cell_type": "markdown",
   "metadata": {
    "pycharm": {
     "name": "#%% md\n"
    }
   },
   "source": [
    "Die Zwischenergebnisse werden stetig mittels der `append_to_file` Funktion an die zuvor erstellte `.preConvert` Datei angehängt.\n",
    "Jede Zeile entspricht hierbei einem $n$ aus den $S_n$ Mengen.\n",
    "Für die Zwischenergebnisse werden die FENs als JSON gespeichert."
   ]
  },
  {
   "cell_type": "code",
   "execution_count": null,
   "metadata": {
    "pycharm": {
     "name": "#%%\n"
    }
   },
   "outputs": [],
   "source": [
    "def append_to_file(s_n, filename):\n",
    "    s_n_ascii = []\n",
    "    for board in s_n:\n",
    "        s_n_ascii.append(board.fen())\n",
    "\n",
    "    f = open(\"S_n_Results/\" + filename + \".preConvert\", \"a\")\n",
    "    f.write(\"\\n\")\n",
    "    f.write(json.dumps(s_n_ascii))\n",
    "    f.close()"
   ]
  },
  {
   "cell_type": "markdown",
   "metadata": {
    "pycharm": {
     "name": "#%% md\n"
    }
   },
   "source": [
    "Nachdem die gesamte Sequenz aller $n$ berechnet wurde, muss die temporäre Datei in zwei Dateien zur Auswertung konvertiert werden.\n",
    "Die `.chessAI` Datei enthält Mengen von Tupeln.\n",
    "Die `.chessTest` Datei enthält die FENs, um in den Test-Szenarien wieder Board-Objekte erstellen zu können.\n",
    "\n",
    "Zuerst müssen die Informationen über die berechneten $S_n$ Mengen aus der `.preConvert` Datei gelesen werden. Die darin gespeicherten FENs werden in einer Liste gespeichert\n",
    "und zusätzlich zu Board-Objekten instanziiert. Die Objekte werden in die zuvor bereits verwendete Tupel-Darstellung gewandelt und in eine Menge eingefügt. \n",
    "\n",
    "Zum Speichern der Dateien wird aus Effizienzgründen das Modul ``pickle`` verwendet, welches die Daten in Binärdateien speichert.\n",
    "Da die `.chessAI` Dateien gegebenenfalls an Nutzer der KI verteilt werden müssen, werden diese zusätzlich mit dem Modul `ZipFile` komprimiert. Die `.chessTest` Dateien werden\n",
    "nur zum Evaluieren der Ergebnisse verwendet und nicht an Nutzer verteilt. Damit sie schneller eingelesen werden können, werden sie nicht komprimiert. "
   ]
  },
  {
   "cell_type": "code",
   "execution_count": null,
   "metadata": {
    "pycharm": {
     "name": "#%%\n"
    }
   },
   "outputs": [],
   "source": [
    "def convert_file(filename):\n",
    "    s_n_seq_fens = []\n",
    "    s_n_seq_tuples = []\n",
    "    f = open(\"S_n_Results/\" + filename + \".preConvert\", \"rb\")\n",
    "    lines = f.readlines()\n",
    "    first = True\n",
    "    for line in lines:\n",
    "        # First line is empty\n",
    "        if first:\n",
    "            first = False\n",
    "            continue\n",
    "\n",
    "        tmp_list = []\n",
    "        tmp_set = set()\n",
    "        tmp = json.loads(line)\n",
    "\n",
    "        for fen in tmp:\n",
    "            tmp_list.append(fen)\n",
    "            tmp_board = chess.Board(fen)\n",
    "            tmp_set.add((tmp_board.turn,tmp_board.__str__()))\n",
    "        s_n_seq_fens.append(tmp_list)\n",
    "        s_n_seq_tuples.append(tmp_set)\n",
    "    f.close()\n",
    "\n",
    "    f = open(\"S_n_Results/\" + filename + \".pickle\", \"wb\")\n",
    "    f.write(pickle.dumps(s_n_seq_tuples))\n",
    "    f.close()\n",
    "    \n",
    "    f = open(\"S_n_Results/\" + filename + \".chessTest\", \"wb\")\n",
    "    f.write(pickle.dumps(s_n_seq_fens))\n",
    "    f.close()\n",
    "    \n",
    "    with ZipFile(\"S_n_Results/\" + filename + '.chessAI', 'w', compression=ZIP_DEFLATED) as zipped:\n",
    "        zipped.write(\"S_n_Results/\" + filename + \".pickle\", filename+\".pickle\")\n",
    "    if os.path.exists(\"S_n_Results/\" + filename + \".chessAI\") and os.path.exists(\"S_n_Results/\" + filename + \".pickle\"):\n",
    "        os.remove(\"S_n_Results/\" + filename + \".pickle\") \n",
    "\n",
    "    if os.path.exists(\"S_n_Results/\" + filename + \".preConvert\"):\n",
    "        os.remove(\"S_n_Results/\" + filename + \".preConvert\")"
   ]
  },
  {
   "cell_type": "markdown",
   "metadata": {
    "cell_id": "00021-8548a15b-c683-4b4b-8b03-fa5cd07bfdd3",
    "deepnote_cell_type": "markdown",
    "pycharm": {
     "name": "#%% md\n"
    }
   },
   "source": [
    "Mit den zuvor definierten Funktionen ist es nun möglich, alle $S_n$ zu bestimmen. Hierfür wird die Funktion ``previous_states`` solange aufgerufen, bis keine Situationen\n",
    "für ein $n+1$ mehr gefunden werden und die Liste $S_{n+1}$ leer ist.\n",
    "\n",
    "Die Funktion `run` geht hierbei von einem `s_n`, welches zuvor bestimmt wurde, aus und durchläuft diesen Prozess in einer Schleife.\n",
    "Nach abgeschlossener Rechnung wird das Konvertieren der Datei gestartet."
   ]
  },
  {
   "cell_type": "code",
   "execution_count": null,
   "metadata": {
    "cell_id": "00022-1198b1a3-a0e9-4813-9774-182d1b5079c6",
    "deepnote_cell_type": "code",
    "deepnote_to_be_reexecuted": false,
    "execution_millis": 81020,
    "execution_start": 1638464396132,
    "pycharm": {
     "name": "#%%\n"
    },
    "source_hash": "5ee856a1"
   },
   "outputs": [],
   "source": [
    "def run(s_n, used_boards, n, user_wants_pawn, filename, uniques):\n",
    "    if n == 0:\n",
    "        append_to_file(s_n, filename)\n",
    "\n",
    "    while True:\n",
    "        n += 1\n",
    "        s_n, used_boards, uniques = previous_states(used_boards, n, user_wants_pawn, uniques)\n",
    "        print(\"S \" + str(n) + \": \" + str(len(s_n)))\n",
    "        if not s_n: #an empty list is false\n",
    "           break\n",
    "        append_to_file(s_n, filename)\n",
    "        del s_n\n",
    "\n",
    "    print(\"Done\")\n",
    "    print(str(n) + \" S-Lists calculated\")\n",
    "\n",
    "    convert_file(filename)\n",
    "\n",
    "    print(\"File converted\")"
   ]
  },
  {
   "cell_type": "markdown",
   "metadata": {
    "pycharm": {
     "name": "#%% md\n"
    }
   },
   "source": [
    "Die Funktion `run_from_start` berechnet $S_0$ und startet anschließend die Berechnung aller $S_n$."
   ]
  },
  {
   "cell_type": "code",
   "execution_count": null,
   "metadata": {
    "pycharm": {
     "name": "#%%\n"
    }
   },
   "outputs": [],
   "source": [
    "def run_from_start(user_supplied_pieces, filename):\n",
    "    user_wants_pawn = chess.Piece.from_symbol(\"P\") in user_supplied_pieces\n",
    "    \n",
    "    s_0, used_boards, uniques = setup_boards(user_supplied_pieces, user_wants_pawn)\n",
    "    create_empty_file(filename)\n",
    "    run(s_0, used_boards, 0, user_wants_pawn, filename, uniques)"
   ]
  },
  {
   "cell_type": "markdown",
   "metadata": {},
   "source": [
    "Wurde die Berechnung abgebrochen (z.B. durch einen Neustart des Computers) kann die Funktion `resume_from_file` den Zustand, welcher in einer `.preConvert` Datei gespeichert wurde\n",
    "wiederherstellen, und die Berechnung beim nächsten $n$ fortsetzen.\n",
    "Hierfür werden alle bereits berechneten $n$ in Objekte instanziiert und die Tupel Repräsentationen als bereits verwendete Situationen (`used_boards`) gespeichert.\n",
    "Für das höchste $n$, werden die Objekte behalten und der `run` Funktion übergeben."
   ]
  },
  {
   "cell_type": "code",
   "execution_count": null,
   "metadata": {
    "pycharm": {
     "name": "#%%\n"
    }
   },
   "outputs": [],
   "source": [
    "def resume_from_file(filename):\n",
    "    used_boards = set()\n",
    "    s_n = []\n",
    "    count = -1\n",
    "\n",
    "    f = open(\"S_n_Results/\" + filename + \".preConvert\", \"r\")\n",
    "    lines = f.readlines()\n",
    "    first = True\n",
    "    for line in lines:\n",
    "        # First line is empty\n",
    "        if first:\n",
    "            first = False\n",
    "            continue\n",
    "\n",
    "        tmp_list = []\n",
    "        tmp_set = set()\n",
    "        tmp = json.loads(line)\n",
    "\n",
    "        for fen in tmp:\n",
    "            chess_board = chess.Board(fen)\n",
    "            tmp_list.append(chess_board)\n",
    "            tmp_set.add((chess_board.turn,chess_board.__str__()))\n",
    "        s_n = tmp_list\n",
    "        used_boards |= tmp_set\n",
    "        count += 1\n",
    "    f.close()\n",
    "    print(\"Starting at S\" + str(count) + \" (\" + str(len(s_n)) + \" Boards)\")\n",
    "    \n",
    "    # Adding a few Pawns to the result only slightly increases the file_size, and the value of user_wants_pawn is \\\n",
    "    # currently not stored\n",
    "    run(s_n, used_boards, count, True, filename, s_n)"
   ]
  },
  {
   "cell_type": "markdown",
   "metadata": {
    "pycharm": {
     "name": "#%% md\n"
    }
   },
   "source": [
    "## Konfigurations Variablen\n",
    "\n",
    "Für die Bestimmung der gewonnenen Spielbretter müssen nun die Spielfiguren angegeben werden, für die die Endspiel-Datenbank berechnet werden soll. Hierfür werden in der Liste ``pieces_to_place`` alle Figuren aufgeführt.\n",
    "Die Einträge der Liste werden als Tupel bestehend aus Figur und Farbe gespeichert.\n",
    "Bsp.: ``(chess.KING, chess.WHITE)``\n",
    "Die Reihenfolge oder Position der Figur ist für die Berechnung irrelevant.\n",
    "Diese wird erst im nächsten Schritt (der Auswertung) benötigt.\n",
    "\n",
    "Der ``FILENAME`` wird für das Speichern der Ergebnisse verwendet."
   ]
  },
  {
   "cell_type": "code",
   "execution_count": null,
   "metadata": {
    "pycharm": {
     "name": "#%%\n"
    }
   },
   "outputs": [],
   "source": [
    "WHITE_PIECES_TO_PLACE = [chess.Piece.from_symbol('P')]\n",
    "\n",
    "FILENAME = \"S_n_seq_pawn\""
   ]
  },
  {
   "cell_type": "markdown",
   "metadata": {},
   "source": [
    "## Start der Rechnung"
   ]
  },
  {
   "cell_type": "code",
   "execution_count": null,
   "metadata": {
    "pycharm": {
     "name": "#%%\n"
    }
   },
   "outputs": [],
   "source": [
    "%%time\n",
    "run_from_start(WHITE_PIECES_TO_PLACE, FILENAME)\n",
    "#resume_from_file(FILENAME)"
   ]
  },
  {
   "cell_type": "markdown",
   "metadata": {},
   "source": [
    "# Spielen gegen die KI"
   ]
  },
  {
   "cell_type": "markdown",
   "metadata": {},
   "source": [
    "## Vom Nutzer zu tätigende Einstellungen\n",
    "Zur Erstellung eines individuellen Spielfeldes werden Dictionaries verwendet. Diese verwenden jeweils als `key` die Figur, \n",
    "die auf dem Spielfeld platziert werden soll. Als `value` nutzen die Einträge jeweils eine Liste, \n",
    "die vom Nutzer mit den String-Bezeichnern der Felder gefüllt werden sollen, auf denen die jeweilige Figur steht.\n",
    "Die Bezeichner folgen hierbei dem Format, welches in Notebook `01_chess_introduction` erklärt wurde."
   ]
  },
  {
   "cell_type": "code",
   "execution_count": null,
   "metadata": {
    "pycharm": {
     "name": "#%%\n"
    }
   },
   "outputs": [],
   "source": [
    "WHITE_POSITIONS = {chess.KING:['e1'],\n",
    "                   chess.QUEEN:['a6'],\n",
    "                   chess.ROOK:[],\n",
    "                   chess.BISHOP:[],\n",
    "                   chess.KNIGHT:[],\n",
    "                   chess.PAWN:[]}\n",
    "\n",
    "BLACK_POSITIONS = {chess.KING:['e7'],\n",
    "                   chess.QUEEN:[],\n",
    "                   chess.ROOK:[],\n",
    "                   chess.BISHOP:[],\n",
    "                   chess.KNIGHT:[],\n",
    "                   chess.PAWN:[]}"
   ]
  },
  {
   "cell_type": "markdown",
   "metadata": {},
   "source": [
    "Weiter muss der Nutzer angeben, welche vorher berechnete Spielsituation er laden möchte.\n",
    "Hierfür muss der Dateiname in einer globalen Variable (ohne Dateiendung `.chessAI`) angegeben werden."
   ]
  },
  {
   "cell_type": "code",
   "execution_count": null,
   "metadata": {
    "pycharm": {
     "name": "#%%\n"
    }
   },
   "outputs": [],
   "source": [
    "FILE = \"S_n_seq_queen\""
   ]
  },
  {
   "cell_type": "markdown",
   "metadata": {},
   "source": [
    "## Logik für die Interaktion mit der Spielsituation\n",
    "Im folgenden Abschnitt sollen einige Hilfsfunktionen erklärt werden, welche für die Interaktion zwischen dem Nutzer über ein Jupyter Notebook und \n",
    "der Spielsituation benötigt werden.  \n",
    "\n",
    "Die Funktion `get_occupied_cells()` übersetzt die zuvor erstellten und vom Nutzer veränderten `Position-Dictionaries` in eine Liste, die alle ``values`` der\n",
    "Dictionaries, also besetzte Felder enthält. Diese Liste wird benötigt, um zu überprüfen, ob die Eingaben des Nutzers korrekte Zellen sind. "
   ]
  },
  {
   "cell_type": "code",
   "execution_count": null,
   "metadata": {
    "pycharm": {
     "name": "#%%\n"
    }
   },
   "outputs": [],
   "source": [
    "def get_occupied_cells():\n",
    "    cells = []\n",
    "    for values in WHITE_POSITIONS.values():\n",
    "        for value in values:\n",
    "            cells.append(value)\n",
    "    for values in BLACK_POSITIONS.values():\n",
    "        for value in values:\n",
    "            cells.append(value)\n",
    "    return cells"
   ]
  },
  {
   "cell_type": "markdown",
   "metadata": {},
   "source": [
    "Mit der Information von der vorherigen Funktion übernimmt die Funktion `check_for_correct_cells()` die Überprüfung. \n",
    "Hierzu wird jeder Wert in den eingegebenen Feldern in den Dictionaries `WHITE_POSITIONS` und `BLACK_POSITIONS` auf Einhaltung\n",
    "eines regulären Ausdrucks, welcher auf eine Kombination aus Buchstabe und Zahl überprüft. \n",
    "Das Ergebnis wird in Form eines booleschen Werts zurückgegeben. "
   ]
  },
  {
   "cell_type": "code",
   "execution_count": null,
   "metadata": {
    "pycharm": {
     "name": "#%%\n"
    }
   },
   "outputs": [],
   "source": [
    "def check_for_correct_cells():\n",
    "    cells = get_occupied_cells()\n",
    "    for cell in cells:\n",
    "        x = re.search(\"[a-h][1-8]\", cell)\n",
    "        if x is None:\n",
    "            print(cell)\n",
    "            print(\"Value incorrect!\")\n",
    "            return False\n",
    "        else:\n",
    "            pass\n",
    "    return True"
   ]
  },
  {
   "cell_type": "markdown",
   "metadata": {},
   "source": [
    "Bevor die Figuren dem Objekt hinzugefügt werden, werden sie in einem Dictionary gesammelt, welches als `Piece-Map` verwendet wird.\n",
    "\n",
    "Die Funktion `collect_cells(color, pieces)` erstellt aus einem Booleschen-Wert für die Spielerfarbe und einem Dictionary mit\n",
    "Figuren und Spielfeldern eine Liste mit `Piece` \n",
    "Objekten, welche als Index den Index des Spielfeldes verwendet. Diese Liste entspricht dem Format, mit welchem Formationen von der Bibliothek geladen werden können.  "
   ]
  },
  {
   "cell_type": "code",
   "execution_count": null,
   "metadata": {
    "pycharm": {
     "name": "#%%\n"
    }
   },
   "outputs": [],
   "source": [
    "def collect_cells(color, pieces):\n",
    "    occupied_cells = {}\n",
    "    for piece_type, values in pieces:\n",
    "            piece = chess.Piece(piece_type, color)\n",
    "            for value in values:\n",
    "                square = chess.parse_square(value)\n",
    "                occupied_cells[square] = piece\n",
    "            \n",
    "    return occupied_cells"
   ]
  },
  {
   "cell_type": "markdown",
   "metadata": {},
   "source": [
    "Die Funktion `create_board()` füllt das Schachbrett letztlich mit den Figuren, die in den Dictionaries angegeben wurden. Als\n",
    "Rückgabewert gibt die Funktion das gefüllte Schachbrett als Objekt der `chess` Library zurück.\n",
    "Hierzu werden die vorherigen Funktionen verwendet, um die `Piece-Map` zu erstellen, diese \n",
    "auf das Board-Objekt angewandt und auf Validität überprüft.\n",
    "Ist das Board nicht valide, wird ein Fehler ausgegeben.\n",
    "\n",
    "Ein Problem, welches in Spielsituationen mit dem Turm auftritt, ist die Berechtigung zu einer Rochade.\n",
    "Damit das Board als valide anerkannt wird, werden die entsprechenden Flags mit der Funktion\n",
    "`clean_castling_rights` korrekt gesetzt."
   ]
  },
  {
   "cell_type": "code",
   "execution_count": null,
   "metadata": {
    "pycharm": {
     "name": "#%%\n"
    }
   },
   "outputs": [],
   "source": [
    "def create_board():\n",
    "    local_board = chess.Board()\n",
    "    occupied_cells = {}\n",
    "    if check_for_correct_cells():\n",
    "        occupied_cells |= collect_cells(chess.WHITE, WHITE_POSITIONS.items())\n",
    "        occupied_cells |= collect_cells(chess.BLACK, BLACK_POSITIONS.items())\n",
    "\n",
    "        local_board.set_piece_map(occupied_cells)\n",
    "        local_board.castling_rights = local_board.clean_castling_rights()\n",
    "        \n",
    "        # Herausfinden, weshalb momentan angegebenes Board invalid ist\n",
    "        if not local_board.is_valid():\n",
    "            display(local_board)\n",
    "            print(\"Specified lineup is invalid\")\n",
    "            print(\"Default board created instead\")\n",
    "            local_board = chess.Board()\n",
    "    return local_board"
   ]
  },
  {
   "cell_type": "markdown",
   "metadata": {
    "pycharm": {
     "name": "#%% md\n"
    }
   },
   "source": [
    "## Import der Daten\n",
    "\n",
    "Für die Bestimmung der Züge der KI werden die $S_n$ Mengen verwendet, die im Notebook ``calculation.ipynb`` berechnet werden.   \n",
    "Eine Erklärung worum es sich hierbei handelt, findet sich in diesem Notebook.\n",
    "Die Ergebnisse der Berechnung werden mittels `pickle` serialisiert und in einer ZIP-Datei komprimiert abgespeichert. Zur Verwendung wird das Archiv entpackt und \n",
    "die Liste deserialisiert. \n",
    "Weitere Informationen zum Inhalt der Datei befinden sich ebenfalls im Notebook ``calculation.ipynb``.   \n",
    "\n",
    "Die Funktion `load_s_n_sequence(filename)` erhält den Dateinamen (``filename``) als Parameter und gibt die Endspieldaten zurück."
   ]
  },
  {
   "cell_type": "code",
   "execution_count": null,
   "metadata": {
    "pycharm": {
     "name": "#%%\n"
    }
   },
   "outputs": [],
   "source": [
    "def load_s_n_sequence(filename):\n",
    "    s_n_sequence_tuples = []\n",
    "    with ZipFile(\"S_n_Results/\" + filename + \".chessAI\") as zipped:\n",
    "        with zipped.open(filename + \".pickle\") as calculation:\n",
    "            tmp = pickle.loads(calculation.read())\n",
    "            for item in tmp:\n",
    "                s_n_sequence_tuples.append(item)\n",
    "    return s_n_sequence_tuples"
   ]
  },
  {
   "cell_type": "markdown",
   "metadata": {},
   "source": [
    "## Den besten Zug für die KI ermitteln\n",
    "Um mit den berechneten Endspieldaten gegen einen Spieler zu gewinnen, muss jeder Zug, den Weiß macht, optimal sein.\n",
    "Ein passender Zug für die KI besteht darin die Situation von $S_n$ in einen Zustand zu überführen, in dem sie sich in $S_{n-1}$ befindet.  \n",
    "\n",
    "Die Funktion `find_next_move(curr_board, s_index, s_n_sequence)` bestimmt für ein übergebenes Board-Objekt einen solchen Spielzug. \n",
    "Aus Effizienzgründen wird zusätzlich zum gefundenen Spielzug (`move`) der neue Wert für $n$ zurückgegeben. \n",
    "\n",
    "Für diese Berechnung benötigt ``find_next_move`` nachkommende Argumente:\n",
    "* ``curr_board``: Das Board, für welches der nächste Spielzug berechnet werden soll.\n",
    "* ``s_index``: Das $n$ eines $S_n$, in welchem sich ``curr_board`` befindet. Wird aus Effizienzgründen übergeben.\n",
    "* ``s_n_sequence``: Die Liste mit allen $S_n$.\n",
    "\n",
    "Kann kein Spielzug gefunden werden, gibt die Funktion den Wert -1 zurück.\n",
    "\n",
    "Die für diesen Ablauf benötigte Funktion `find_situation_in_sequence` wird im Notebook `functions.ipynb` definiert und erklärt."
   ]
  },
  {
   "cell_type": "code",
   "execution_count": null,
   "metadata": {
    "pycharm": {
     "name": "#%%\n"
    }
   },
   "outputs": [],
   "source": [
    "def find_next_move(curr_board, s_index, s_n_sequence):\n",
    "    s_index_new = s_index - 1\n",
    "    for move in curr_board.legal_moves:\n",
    "        curr_board.push(move)\n",
    "        curr_tupel = (curr_board.turn, curr_board.__str__())\n",
    "        _tmp = find_situation_in_sequence(curr_tupel, [s_n_sequence[s_index_new]])\n",
    "        if _tmp != -1:\n",
    "            curr_board.pop()\n",
    "            return s_index_new, move\n",
    "        curr_board.pop()\n",
    "\n",
    "    return -1, None"
   ]
  },
  {
   "cell_type": "markdown",
   "metadata": {},
   "source": [
    "## Globale Variablen für die Anzeige\n",
    "\n",
    "Nachdem alle Funktionen für die Bestimmung eines Zugs definiert worden sind, gilt es die bereitgestellte UI der ``python-chess`` Bibliothek zu erweitern. \n",
    "In Form von globalen Variablen werden UI-Elemente definiert, die für die Eingabe eines neuen Zugs benötigt werden:\n",
    "\n",
    "- `input_field` = Ein Eingabefeld, in dem der nächste Zug von Weiß eingetragen werden soll.\n",
    "- `execute_button` = Ein Button, der nach der Auswahl des Zuges diesen auch auf dem Schachbrett ausführt."
   ]
  },
  {
   "cell_type": "code",
   "execution_count": null,
   "metadata": {
    "pycharm": {
     "name": "#%%\n"
    }
   },
   "outputs": [],
   "source": [
    "input_field = widgets.Text()\n",
    "\n",
    "execute_button = widgets.Button(\n",
    "    description='Execute Move',\n",
    "    disabled=False,\n",
    "    button_style='',\n",
    "    tooltip='Executes the move selected with the dropdowns \"Piece:\" and \"Move:\"',\n",
    "    icon='check'\n",
    ")"
   ]
  },
  {
   "cell_type": "markdown",
   "metadata": {},
   "source": [
    "## Globale Variablen für den aktuellen Spielzustand\n",
    "Damit der aktuelle Stand des Spiels auch ohne eine lineare Kette von Funktionsaufrufen verfügbar ist, \n",
    "werden diese Informationen in globalen Variablen gespeichert."
   ]
  },
  {
   "cell_type": "code",
   "execution_count": null,
   "metadata": {
    "pycharm": {
     "name": "#%%\n"
    }
   },
   "outputs": [],
   "source": [
    "S_N_TUPLES = load_s_n_sequence(FILE)\n",
    "S_INDEX = 0\n",
    "BOARD_INDEX = 0"
   ]
  },
  {
   "cell_type": "markdown",
   "metadata": {},
   "source": [
    "Weiterhin werden weitere globale Variablen definiert, die einerseits den Dateinamen für die Spielzüge (`filename`), \n",
    "andererseits das Spielbrett zum Spielen gegen die KI innehalten (`board`)."
   ]
  },
  {
   "cell_type": "markdown",
   "metadata": {},
   "source": [
    "Innerhalb der python-chess library werden die Farben des Schachbretts `chess.WHITE` und `chess.BLACK` als boolesche Variablen definiert. \n",
    "Deswegen wurde zur späteren Dokumentation, aber auch zum Debuggen eine Funktion geschrieben, \n",
    "die die Farbe, die gerade am Zug ist, als String zurückgibt."
   ]
  },
  {
   "cell_type": "code",
   "execution_count": null,
   "metadata": {
    "pycharm": {
     "name": "#%%\n"
    }
   },
   "outputs": [],
   "source": [
    "def get_color(turn):\n",
    "    if turn:\n",
    "        return \"White\"\n",
    "    else:\n",
    "        return \"Black\""
   ]
  },
  {
   "cell_type": "markdown",
   "metadata": {
    "pycharm": {
     "name": "#%% md\n"
    }
   },
   "source": [
    "Zum Definieren der globalen Variablen `filename` wird die Funktion `update_filename` definiert."
   ]
  },
  {
   "cell_type": "code",
   "execution_count": null,
   "metadata": {
    "pycharm": {
     "name": "#%%\n"
    }
   },
   "outputs": [],
   "source": [
    "def update_filename(new_value):\n",
    "    global FILENAME\n",
    "    FILENAME = new_value"
   ]
  },
  {
   "cell_type": "markdown",
   "metadata": {
    "pycharm": {
     "name": "#%% md\n"
    }
   },
   "source": [
    "Weiter werden für den Spielbeginn (`reset_board`) und auch für ausgeführte Spielzüge (`reset_input_field`) Funktionen geschrieben, \n",
    "die die UI Elemente auf ihren Standardwert zurücksetzen."
   ]
  },
  {
   "cell_type": "code",
   "execution_count": null,
   "metadata": {},
   "outputs": [],
   "source": [
    "def reset_input_field():\n",
    "    global input_field\n",
    "    input_field.value = ''"
   ]
  },
  {
   "cell_type": "code",
   "execution_count": null,
   "metadata": {},
   "outputs": [],
   "source": [
    "def reset_board():\n",
    "    global BOARD\n",
    "    BOARD = create_board()\n",
    "    global S_INDEX\n",
    "    global BOARD_INDEX\n",
    "    tupel = (BOARD.turn, BOARD.__str__())\n",
    "    S_INDEX = find_situation_in_sequence(tupel, S_N_TUPLES)\n",
    "    if BOARD.turn:\n",
    "        S_INDEX, move = find_next_move(BOARD, S_INDEX, S_N_TUPLES)\n",
    "        if S_INDEX == -1:\n",
    "            print(\"No Move for white found\")\n",
    "        else:\n",
    "            execute_move(move, BOARD.turn)\n",
    "            reload_screen()"
   ]
  },
  {
   "cell_type": "markdown",
   "metadata": {},
   "source": [
    "Zum Durchführen der Spielzüge im Board-Objekt wird die Hilfsfunktion `execute_move` verwendet.\n",
    "Die Funktion erhält als Parameter einen `chess.Move` und führt diesen auf dem globalen `BOARD` für die Farbe `chess.turn` durch. \n",
    "Zusätzlich wird in der Datei, die in unter dem Namen `filename` zu finden ist, für den Zug ein Eintrag hinterlegt."
   ]
  },
  {
   "cell_type": "code",
   "execution_count": null,
   "metadata": {
    "pycharm": {
     "name": "#%%\n"
    }
   },
   "outputs": [],
   "source": [
    "def execute_move(move, turn):\n",
    "    global BOARD\n",
    "    global S_INDEX\n",
    "    global BOARD_INDEX\n",
    "    move_file = open(\"Played_Games/\" + FILENAME, \"a\")\n",
    "    if turn:\n",
    "        move_file.write(str(BOARD.fullmove_number) + \". \" + move.uci() + \" \")\n",
    "    else:\n",
    "        move_file.write(move.uci() + \"\\n\")\n",
    "    move_file.close()\n",
    "    BOARD.push(move)\n",
    "    tupel = (BOARD.turn, BOARD.__str__())\n",
    "    S_INDEX = find_situation_in_sequence(tupel, S_N_TUPLES)"
   ]
  },
  {
   "cell_type": "markdown",
   "metadata": {},
   "source": [
    "## Weitere Hilfsfunktionen\n",
    "\n",
    "Das Ziel der Funktion `get_pieces_placed_on_board` besteht darin, von einer mitgegebenen `chess.Color` die Figuren zu bestimmen, die noch auf dem Schachbrett stehen. Zurück gibt sie ein Dictionary, das als `key` die Schachfiguren und als `value` eine Liste mit den Positionen der Figuren besitzt."
   ]
  },
  {
   "cell_type": "code",
   "execution_count": null,
   "metadata": {
    "pycharm": {
     "name": "#%%\n"
    }
   },
   "outputs": [],
   "source": [
    "def get_pieces_placed_on_board(color):\n",
    "    piece_type_to_string = {\n",
    "        1 : \"Pawn\",\n",
    "        2 : \"Knight\",\n",
    "        3 : \"Bishop\",\n",
    "        4 : \"Rook\",\n",
    "        5 : \"Queen\",\n",
    "        6 : \"King\"\n",
    "    }\n",
    "    pieces_with_position = {\n",
    "        \"Pawn\" : [],\n",
    "        \"Knight\" : [],\n",
    "        \"Bishop\" : [],\n",
    "        \"Rook\" : [],\n",
    "        \"Queen\" : [],\n",
    "        \"King\" : []\n",
    "    }\n",
    "    for piece_square, color_piece in BOARD.piece_map().items():\n",
    "        if color_piece.color == color:\n",
    "            pieces_with_position[piece_type_to_string[color_piece.piece_type]].append(chess.square_name(piece_square))\n",
    "    return pieces_with_position"
   ]
  },
  {
   "cell_type": "markdown",
   "metadata": {},
   "source": [
    "Bei der Funktion `get_moves_from_square` werden anhand der mitgegebenen `legal_moves` für ein vorgegebenes Feld die Züge selektiert, die man von diesem Feld aus ziehen kann."
   ]
  },
  {
   "cell_type": "code",
   "execution_count": null,
   "metadata": {
    "pycharm": {
     "name": "#%%\n"
    }
   },
   "outputs": [],
   "source": [
    "def get_moves_from_square(square, legal_moves):\n",
    "    moves = []\n",
    "    for possible_move in legal_moves:\n",
    "        if square == chess.square_name(possible_move.from_square):\n",
    "            moves.append(possible_move)\n",
    "    return moves"
   ]
  },
  {
   "cell_type": "markdown",
   "metadata": {},
   "source": [
    "Da die Anzeige des UI auf Konsolenausgaben basiert, muss diese auch nach einem neuen Zug geleert werden, \n",
    "sodass die Konsole nicht mit den Elementen überflutet wird. Hierfür aktualisiert die Funktion `reload_screen` \n",
    "die Ausgabe und zeigt erneut das Schachbrett, die beiden Dropdowns und den Knopf zum Ausführen des Zugs an."
   ]
  },
  {
   "cell_type": "code",
   "execution_count": null,
   "metadata": {
    "pycharm": {
     "name": "#%%\n"
    }
   },
   "outputs": [],
   "source": [
    "def reload_screen():\n",
    "    clear_output()\n",
    "    display(BOARD, input_field, execute_button)\n",
    "    display(Javascript(\"setTimeout(function focus() {document.querySelector('input').focus()}, 100);\"))"
   ]
  },
  {
   "cell_type": "markdown",
   "metadata": {},
   "source": [
    "Die Funktion `show_end_screen` hingegen zeigt nur das Schachbrett an."
   ]
  },
  {
   "cell_type": "code",
   "execution_count": null,
   "metadata": {},
   "outputs": [],
   "source": [
    "def show_end_screen():\n",
    "    clear_output()\n",
    "    display(BOARD)"
   ]
  },
  {
   "cell_type": "markdown",
   "metadata": {},
   "source": [
    "Die `game_result(result)` Funktion gibt den Grund, weshalb das Spiel beendet wurde zurück."
   ]
  },
  {
   "cell_type": "code",
   "execution_count": null,
   "metadata": {
    "pycharm": {
     "name": "#%%\n"
    }
   },
   "outputs": [],
   "source": [
    "def game_result(result):\n",
    "    if result == Termination.CHECKMATE:\n",
    "        return get_color(BOARD.turn) + \" has lost because of Checkmate!\"\n",
    "    elif result == Termination.STALEMATE:\n",
    "        return \"It's a draw!\"\n",
    "    elif result == Termination.INSUFFICIENT_MATERIAL:\n",
    "        return \"No side can win the game anymore!\"\n",
    "    elif result == Termination.SEVENTYFIVE_MOVES:\n",
    "        return \"The game is drawn because half-move clock is greater than 150 since a capture or a pwn has been moved.\"\n",
    "    elif result == Termination.FIVEFOLD_REPETITION:\n",
    "        return \"The game is drawn because the current position occurred the fifth time!\"\n",
    "    elif result == Termination.FIFTY_MOVES:\n",
    "        return \"The game is drawn because half-move clock is greater than 100 since a capture or a pwn has been moved.\"\n",
    "    elif result == Termination.THREEFOLD_REPETITION:\n",
    "        return \"The game is drawn because the current position occurred the third time!\"\n",
    "    elif result == Termination.VARIANT_WIN:\n",
    "        return get_color(BOARD.turn) + \" has won because of variant-specific conditions\"\n",
    "    elif result == Termination.VARIANT_LOSS:\n",
    "        return get_color(BOARD.turn) + \" has lost because of variant-specific conditions\"\n",
    "    elif result == Termination.VARIANT_DRAW:\n",
    "        return \"Game is drawn because of variant-specific conditions!\"\n",
    "    else:\n",
    "        return \"Something went wrong!\""
   ]
  },
  {
   "cell_type": "markdown",
   "metadata": {},
   "source": [
    "Für den `execute_button` und das `input_field` wird eine Funktion geschrieben, die für das Ausführen des Zuges verantwortlich ist.\n",
    "Diese wird entweder durch Klicken des Buttons oder Drücken der Enter-Taste aufgerufen. \n",
    "Sobald der eingegebene Zug ausgeführt wurde, wird mithilfe der eingelesenen $S_n$ Mengen der Zug für die KI bestimmt. \n",
    "Weiterhin wird auch in dieser Funktion überprüft, ob das Spiel bereits beendet wurde."
   ]
  },
  {
   "cell_type": "code",
   "execution_count": null,
   "metadata": {
    "pycharm": {
     "name": "#%%\n"
    }
   },
   "outputs": [],
   "source": [
    "def execute_entered_move(change):\n",
    "    global BOARD\n",
    "    global S_INDEX\n",
    "    global BOARD_INDEX\n",
    "    try:\n",
    "        if input_field.value != '':\n",
    "            black_move = chess.Move.from_uci(input_field.value)\n",
    "            if black_move in list(BOARD.legal_moves):\n",
    "                execute_move(black_move, BOARD.turn)\n",
    "                reset_input_field()\n",
    "                # Next AI move executed by white\n",
    "                S_INDEX, next_move = find_next_move(BOARD, S_INDEX, S_N_TUPLES)\n",
    "                if S_INDEX == -1:\n",
    "                    print(\"No Move for white found\")\n",
    "                else:\n",
    "                    execute_move(next_move, BOARD.turn)\n",
    "                    reload_screen()\n",
    "                if BOARD.legal_moves.count() == 0:\n",
    "                    # If wanted add different endings\n",
    "                    show_end_screen()\n",
    "                    result = BOARD.outcome().termination\n",
    "                    print(game_result(result))\n",
    "            else:\n",
    "                print(\"Entered a wrong move. Please try again!\")\n",
    "                print(input_field.value)\n",
    "                time.sleep(2)\n",
    "                reload_screen()\n",
    "        else:\n",
    "            print(\"Enter a move!\")\n",
    "            time.sleep(2)\n",
    "            reload_screen()\n",
    "    except ValueError:\n",
    "        print(\"Entered a wrong move. Please try again!\")\n",
    "        print(input_field.value)\n",
    "        time.sleep(2)\n",
    "        reload_screen()"
   ]
  },
  {
   "cell_type": "markdown",
   "metadata": {},
   "source": [
    "Damit die Funktion beim Klicken des `execute_button` oder durch Drücken der Enter-Taste ausgeführt wird, muss diese den `on_click` Events zugewiesen werden."
   ]
  },
  {
   "cell_type": "code",
   "execution_count": null,
   "metadata": {
    "pycharm": {
     "name": "#%%\n"
    }
   },
   "outputs": [],
   "source": [
    "execute_button.on_click(execute_entered_move)\n",
    "input_field.on_submit(execute_entered_move)"
   ]
  },
  {
   "cell_type": "markdown",
   "metadata": {},
   "source": [
    "Die Funktion `start_game` bereitet alle Parameter für einen Spielverlauf vor. Dazu gehört:\n",
    "- Erstellung eines neuen Boards.\n",
    "- Das Erstellen einer neuen Historie für das neu begonnene Spiel.\n",
    "- Anzeigen der neuen Spielsituation."
   ]
  },
  {
   "cell_type": "code",
   "execution_count": null,
   "metadata": {
    "pycharm": {
     "name": "#%%\n"
    }
   },
   "outputs": [],
   "source": [
    "def start_game():\n",
    "    global BOARD\n",
    "    BOARD = create_board()\n",
    "    update_filename(\"Move-History_\" + str(datetime.today().replace(microsecond=0)).replace(\":\",\"_\") + \".txt\")\n",
    "    move_file = open(\"Played_Games/\" + FILENAME, \"a\")\n",
    "    move_file.write(BOARD.fen() + \"\\n\")\n",
    "    move_file.close()\n",
    "    reset_board()"
   ]
  },
  {
   "cell_type": "markdown",
   "metadata": {},
   "source": [
    "Mit dem Aufruf der Funktion `start_game` kann nun ein Spiel gegen die KI gestartet werden."
   ]
  },
  {
   "cell_type": "code",
   "execution_count": null,
   "metadata": {
    "pycharm": {
     "name": "#%%\n"
    },
    "scrolled": false
   },
   "outputs": [],
   "source": [
    "start_game()\n"
   ]
  },
  {
   "cell_type": "markdown",
   "metadata": {},
   "source": [
    "# Wiedergeben einer bereits gespielten Partie\n",
    "\n",
    "In diesem Bereich werden Funktionen definiert, die das Wiedergeben einer Partie ermöglichen. \n",
    "Hierfür wird eine Spiel-Historie eingelesen. \n",
    "Historien werden bei der Ausführung des ``03_play_against_ai.ipynb`` Notebooks erstellt und in dem Ordner ``Played_Games`` hinterlegt. \n",
    "Am Ende dieses Notebook wird der Spielverlauf mit einem selbst festgelegten Tempo der Züge dargestellt."
   ]
  },
  {
   "cell_type": "markdown",
   "metadata": {
    "collapsed": true,
    "pycharm": {
     "name": "#%% md\n"
    }
   },
   "source": [
    "## Importieren des Spielverlaufs\n",
    "\n",
    "Als ersten Schritt muss eine beliebige Schach-Historie eingelesen werden. \n",
    "Hierfür wird die Funktion ``get_lines_from_file`` definiert, die für einen mitgegebenen relativen Pfad zu einer Schach-Historie (``file_name``) die Zeilen der Datei ohne Zeilenumbruch (``\"\\n\"``) zurückgibt.  "
   ]
  },
  {
   "cell_type": "code",
   "execution_count": null,
   "metadata": {
    "pycharm": {
     "name": "#%%\n"
    }
   },
   "outputs": [],
   "source": [
    "def get_lines_from_file(file_name):\n",
    "    move_file = open(file_name, \"r\")\n",
    "    all_lines = move_file.readlines()\n",
    "\n",
    "    # Remove '\\n' from the lines\n",
    "    lines = [all_lines[x][:-1] for x in range(len(all_lines)) if len(all_lines[x]) > 12]\n",
    "    if len(all_lines) == len(lines) + 1:\n",
    "        lines += [all_lines[-1]]\n",
    "    return lines"
   ]
  },
  {
   "cell_type": "markdown",
   "metadata": {},
   "source": [
    "## Auslesen der Startposition und Züge\n",
    "\n",
    "Um den ausgewählten Spielverlauf darstellen zu können, muss ein neues Spielbrett erstellt werden."
   ]
  },
  {
   "cell_type": "code",
   "execution_count": null,
   "metadata": {
    "pycharm": {
     "name": "#%%\n"
    }
   },
   "outputs": [],
   "source": [
    "BOARD = chess.Board()\n",
    "BOARD"
   ]
  },
  {
   "cell_type": "markdown",
   "metadata": {},
   "source": [
    "Mit der Funktion ``set_board`` wird für einen relativen Pfad zu einer Spielhistorie(``file_name``) der Zustand in der globalen Variable ``BOARD`` dargestellt, der zu Beginn der Datei vorherrschte. Dieser kann in der ersten Zeile der Datei vorgefunden werden."
   ]
  },
  {
   "cell_type": "code",
   "execution_count": null,
   "metadata": {},
   "outputs": [],
   "source": [
    "def set_board(file_name):\n",
    "    global BOARD\n",
    "    lines = get_lines_from_file(file_name)\n",
    "    BOARD.set_fen(lines[0])"
   ]
  },
  {
   "cell_type": "markdown",
   "metadata": {},
   "source": [
    "Um den Spielverlauf darstellen zu können, werden die Spielzüge benötigt. Diese können mit der Funktion ``get_moves_from_file`` ausgewertet werden. Hierfür wird ebenfalls der relative Pfad zu einer Spielhistorie (``file_name``) mitgegeben."
   ]
  },
  {
   "cell_type": "code",
   "execution_count": null,
   "metadata": {
    "pycharm": {
     "name": "#%%\n"
    }
   },
   "outputs": [],
   "source": [
    "def get_moves_from_file(file_name):\n",
    "    lines = get_lines_from_file(file_name)\n",
    "    moves = []\n",
    "    for line in lines[1:]:\n",
    "        split_move = line.split(' ')\n",
    "        moves.append(split_move[1:])\n",
    "    return moves"
   ]
  },
  {
   "cell_type": "markdown",
   "metadata": {},
   "source": [
    "## Spiel wiederholen\n",
    "\n",
    "Die Wiederholung des Spiels kann nun mit der Ausführung der Funktion ``start_replay`` begonnen werden. Diese benötigt als Parameter den relativen Pfad zu einer Spielhistorie (``file_name``) und zusätzlich eine Anzahl an Sekunden, die nach der Ausführung eines Zuges gewartet werden sollen (``delay``). Das Spiel wird daraufhin in der Konsole für den Nutzer schrittweise angezeigt."
   ]
  },
  {
   "cell_type": "code",
   "execution_count": null,
   "metadata": {
    "pycharm": {
     "name": "#%%\n"
    }
   },
   "outputs": [],
   "source": [
    "def start_replay(file_name, delay):\n",
    "    set_board(file_name)\n",
    "    moves = get_moves_from_file(file_name) \n",
    "    display(board)\n",
    "    time.sleep(2)\n",
    "    for move_pair in moves:\n",
    "        for move in move_pair:\n",
    "            if move == '':\n",
    "                print(\"Finished!\")\n",
    "            else:\n",
    "                clear_output()\n",
    "                board.push(chess.Move.from_uci(move))\n",
    "                display(board)\n",
    "                time.sleep(delay)"
   ]
  },
  {
   "cell_type": "code",
   "execution_count": null,
   "metadata": {
    "pycharm": {
     "name": "#%%\n"
    }
   },
   "outputs": [],
   "source": [
    "start_replay(\"Played_Games/Move-History_2022-03-11 20_39_21.txt\", 1)"
   ]
  },
  {
   "cell_type": "markdown",
   "metadata": {
    "pycharm": {
     "name": "#%% md\n"
    }
   },
   "source": [
    "# Auswerten eines Schach-Endspiels\n",
    "\n",
    "Neben der Berechnung der Endspiel-Situationen gilt es zu überprüfen, ob es sich bei den Zügen der KI auch um optimale Züge handelt. Hierfür werden im Rahmen von diesem Notebook Testszenarien geschrieben, welche die Entscheidungen der KI bewerten. Zum Vergleich wurde die Stockfish-Engine herangezogen. Stockfish ist die momentan (Stand: 2022) beste Schach-Engine, die frei zur Verfügung steht (Quelle: [chess.com](https://www.chess.com/terms/chess-engine) o. D.). \n",
    "\n",
    "Insgesamt können vier unterschiedliche Szenarien in dem Notebook getestet werden. Die Struktur der Tests ist wie folgt aufgebaut:\n",
    "* ``compare_fen_stockfish``: Dieser Test überprüft für eine mitgegebene FEN jeweils, wie viele Züge die Endspiel-Tabellen und Stockfish zum Gewinnen brauchen. \n",
    "* ``test_random_boards``: Dieser Test überprüft für eine gegebene Anzahl $n$ zufälliger Situationen, ob Stockfish bessere Ergebnisse liefert.\n",
    "* ``compare_sequence_stockfish``: Dieser Test überprüft für ein mitgegebenes $n$ alle Situationen, die sich in der Menge $S_n$ befinden, ob Stockfish oder die KI bessere Ergebnisse erzielt.\n",
    "* ``compare_all_sequences``: Dieser Test überprüft für jegliche Situationen, die einer $S_n$ Menge zugeordnet wurden, ob Stockfish eine Lösung in weniger Zügen bestimmen kann.\n",
    "\n",
    "Die Ergebnisse der letzten drei Tests werden im Ordner ``/Tests`` gespeichert."
   ]
  },
  {
   "cell_type": "markdown",
   "metadata": {
    "pycharm": {
     "name": "#%% md\n"
    }
   },
   "source": [
    "## Konfiguration\n",
    "\n",
    "Zu Beginn müssen für den Vergleich unterschiedliche Variablen definiert werden. Diese beinhalten den Namen der ``.chessTest`` Datei zu den berechneten $S_n$ Sequenzen und einen Pfad zur Stockfish-Installation. Weiterhin wird eine globale Variable ``VERBOSE`` festgelegt, die das Anzeigen von zusätzlichen Ausgaben ein oder ausschaltet."
   ]
  },
  {
   "cell_type": "code",
   "execution_count": null,
   "metadata": {
    "pycharm": {
     "name": "#%%\n"
    }
   },
   "outputs": [],
   "source": [
    "STOCKFISH_PATH = \"./stockfish/stockfish.exe\"\n",
    "VERBOSE = False\n",
    "\n",
    "STOCKFISH = stockfish.Stockfish(STOCKFISH_PATH)"
   ]
  },
  {
   "cell_type": "code",
   "execution_count": null,
   "metadata": {
    "pycharm": {
     "name": "#%%\n"
    }
   },
   "outputs": [],
   "source": [
    "S_N_FILE = \"S_n_seq_queen\"\n",
    "\n",
    "S_N_Sequence_fen, S_N_Sequence_fen_short = load_s_n_fens(S_N_FILE)"
   ]
  },
  {
   "cell_type": "markdown",
   "metadata": {
    "pycharm": {
     "name": "#%% md\n"
    }
   },
   "source": [
    "## Vergleich zwischen Stockfish und KI\n",
    "Für den Vergleich einer Situation wird die Anzahl der Züge zwischen Stockfish und der selbst geschriebenen KI miteinander verglichen. Eine geringere Anzahl ist hierbei besser."
   ]
  },
  {
   "cell_type": "markdown",
   "metadata": {
    "pycharm": {
     "name": "#%% md\n"
    }
   },
   "source": [
    "### Berechnung der Zuglisten\n",
    "Um die Anzahl der benötigten Züge zu bestimmen, muss eine Liste angelegt werden, welche Züge durchgeführt werden. Dafür muss immer ein optimaler Zug bestimmt werden.\n",
    "Diese Aufgabe wird von der Funktion ``find_next_move`` erfüllt. Diese berechnet für eine übergebene FEN (``fen``) den idealen Spielzug. Für die Berechnung wird der ``s_index`` mitgegeben, in dem die FEN gefunden werden kann. Diese wird für die Suche in den \"gekürzten\" übergebenen $S_n$ Mengen (``s_n_sequence_short``) verwendet. Die Suche findet mithilfe der bereits definierten Funktion ``find_situation_in_sequence`` statt.\n",
    "\n",
    "Die Züge werden wie folgt bestimmt:\n",
    "- `Stockfish`: Für sowohl Schwarz als auch für Weiß, werden die Züge mit der Funktion ``Stockfish().get_best_move()`` bestimmt.\n",
    "- `KI`: Für Weiß werden die Züge anhand der $S_n$ Mengen bestimmt, die schwarzen Züge werden mit der Funktion ``Stockfish().get_best_move()`` gewählt.\n",
    "\n",
    "Ein gegnerischer Spieler macht nicht immer einen im Sinne der KI optimalen Zug, und das Auswählen zufälliger Züge entspräche einem unerfahrenen Spieler. Um die Effizienz der KI gegen einen guten Spieler zu demonstrieren werden die Züge von Schwarz beim Bestimmen der Zuganzahl von Stockfish übernommen. Aus demselben Grund spielt Stockfish beim Bestimmen der Engine-Anzahl an Zügen in der folgenden Funktion `stockfish_movelist` gegen sich selbst. \n",
    "\n",
    "Die Funktion liefert als Rückgabewert den besten Zug ``move`` und der neue ``s_index``, welcher beschreibt, in welcher $S_n$ Menge die Spielsituation zu finden ist."
   ]
  },
  {
   "cell_type": "code",
   "execution_count": null,
   "metadata": {
    "pycharm": {
     "name": "#%%\n"
    }
   },
   "outputs": [],
   "source": [
    "def find_next_move(fen, s_index, s_n_sequence_short):\n",
    "    STOCKFISH.set_fen_position(fen)\n",
    "    curr_board = chess.Board(fen)\n",
    "    if curr_board.turn:\n",
    "        if VERBOSE:\n",
    "            print(\"---White:---\")\n",
    "            print(\"Starting in S\" + str(s_index))\n",
    "        for move in curr_board.legal_moves:\n",
    "            curr_board.push(move)\n",
    "            cur_fen = curr_board.fen()\n",
    "            _tmp = find_situation_in_sequence(get_board_and_turn(cur_fen), [s_n_sequence_short[s_index - 1]])\n",
    "            s_index_tmp = s_index - 1\n",
    "            if _tmp != -1:\n",
    "                if VERBOSE:\n",
    "                    print(\"    Move: \" + str(move))\n",
    "                    print(\"    S\" + str(s_index_tmp))\n",
    "                    print(\"Ended in S\" + str(s_index))\n",
    "                curr_board.pop()\n",
    "                return s_index_tmp, move\n",
    "            curr_board.pop()\n",
    "\n",
    "        return -1, None\n",
    "    else:\n",
    "        if VERBOSE:\n",
    "            print(\"---Black:---\")\n",
    "            print(\"Starting in S\" + str(s_index))\n",
    "        move = chess.Move.from_uci(STOCKFISH.get_best_move())\n",
    "        curr_board.push(move)\n",
    "        cur_fen = curr_board.fen()\n",
    "        s_index = find_situation_in_sequence(get_board_and_turn(cur_fen), s_n_sequence_short[:s_index])\n",
    "        if VERBOSE:\n",
    "            print(\"    Move: \" + str(move))\n",
    "            print(\"    S\" + str(s_index))\n",
    "            print(\"Ended in S\" + str(s_index))\n",
    "        curr_board.pop()\n",
    "        return s_index, move"
   ]
  },
  {
   "cell_type": "markdown",
   "metadata": {
    "pycharm": {
     "name": "#%% md\n"
    }
   },
   "source": [
    "Bei der Berechnung der Züge für die KI wird die Funktion ``calculate_all_moves`` verwendet. Diese berechnet in einer Schleife alle Moves ausgehend von einer FEN, bis die KI gewonnen hat. Die Berechnung verwendet hierzu die FEN der Spielsituation (``fen``) und die Liste der gekürzten $S_n$ Mengen (``s_n_sequence_short``). Mithilfe von diesen Parametern wird eine Liste von Zügen bestimmt, in der die Partie zwischen Stockfish und der selbst geschriebenen KI beendet wurde."
   ]
  },
  {
   "cell_type": "code",
   "execution_count": null,
   "metadata": {
    "pycharm": {
     "name": "#%%\n"
    }
   },
   "outputs": [],
   "source": [
    "def calculate_all_moves(fen, s_n_sequence_short):\n",
    "    moves = []\n",
    "\n",
    "    s_index = find_situation_in_sequence(get_board_and_turn(fen), s_n_sequence_short)\n",
    "\n",
    "    board = chess.Board(fen)\n",
    "    while s_index > 0:\n",
    "        cur_fen = board.fen()\n",
    "        s_index, next_move = find_next_move(cur_fen, s_index, s_n_sequence_short)\n",
    "        board.push(next_move)\n",
    "        moves.append(next_move)\n",
    "\n",
    "    if s_index == -1:\n",
    "        return None\n",
    "\n",
    "    return moves"
   ]
  },
  {
   "cell_type": "markdown",
   "metadata": {
    "pycharm": {
     "name": "#%% md\n"
    }
   },
   "source": [
    "Nachdem eine Liste aller Züge für die KI bestimmt wurden, gilt dies gleichermaßen für die Berechnung von Stockfish umzusetzen. Hierfür erhält die Funktion ``stockfish_movelist`` eine ``fen`` mit der aktuellen Spielsituation. In der Funktion bestimmt Stockfish solange die bestmöglichen Züge, bis die Partie beendet worden ist. Diese Liste von Zügen wird am Ende der Funktion zurückgegeben."
   ]
  },
  {
   "cell_type": "code",
   "execution_count": null,
   "metadata": {
    "pycharm": {
     "name": "#%%\n"
    }
   },
   "outputs": [],
   "source": [
    "def stockfish_movelist(fen):\n",
    "    moves = []\n",
    "\n",
    "    board = chess.Board(fen)\n",
    "\n",
    "    while not board.is_game_over():\n",
    "        STOCKFISH.set_fen_position(board.fen())\n",
    "        next_move = chess.Move.from_uci(STOCKFISH.get_best_move())\n",
    "        board.push(next_move)\n",
    "        moves.append(next_move)\n",
    "\n",
    "    return moves\n"
   ]
  },
  {
   "cell_type": "markdown",
   "metadata": {},
   "source": [
    "### Hilfsfunktionen für den Vergleich\n",
    "\n",
    "Der Vergleich zwischen der Stockfish Engine und der KI basiert auf der Anzahl der Züge, bis Weiß das Spiel gewonnen hat.\n",
    "Hierfür werden drei Hilfsfunktionen definiert, die für den Vergleich benötigt werden.\n",
    "\n",
    "Bei der ersten Funktion handelt es sich um ``compare_move_list``. Diese erhält eine Liste von 3-Tupeln(``move_count_list``), die als ersten Wert die Anzahl der Züge der KI beinhaltet und als zweiten Wert die Anzahl der Züge, die Stockfish zum Beenden der Partie benötigt hat. Der dritte Wert stellt die Differenz zwischen den beiden Anzahlen dar.\n",
    "\n",
    "Als Ergebnis liefert die Funktion drei Werte zurück, die ein erstes Abbild für die Performanz der KI darstellen. Der erste Wert ist die Anzahl der Spielsituationen, bei denen Stockfish und die KI gleich viele Züge benötigt haben (``equal``). Der zweite Wert ist die Anzahl der Spiele, bei denen die KI weniger Züge benötigt hat (``ki_better``) und der letzte Werte die Anzahl der Spiele, in der Stockish weniger Züge benötigt hat (``stockfish_better``)."
   ]
  },
  {
   "cell_type": "code",
   "execution_count": null,
   "metadata": {},
   "outputs": [],
   "source": [
    "def compare_move_lists(move_count_list):\n",
    "    equal = 0\n",
    "    ki_better = 0\n",
    "    stockfish_better = 0\n",
    "    for ki_move, stock_move, diff in move_count_list:\n",
    "        if diff == 0:\n",
    "            equal += 1\n",
    "        elif diff < 0:\n",
    "            ki_better += 1\n",
    "        else:\n",
    "            stockfish_better += 1\n",
    "    return equal, ki_better, stockfish_better"
   ]
  },
  {
   "cell_type": "markdown",
   "metadata": {},
   "source": [
    "Diese Werte können nun weiter genutzt werden, indem neben der Anzahl der Ergebnisse auch der Grad des Unterschieds bestimmt wird. Hierfür wurde die Funktion ``get_average_difference`` definiert. Diese nutzt ebenfalls die Liste von 3-Tupeln (``move_count_list``) als Input. Die Funktion berechnet aus dieser Liste die durchschnittliche Prozentzahl an Zügen, welche von Stockfish oder der KI weniger benötigt werden. Diese werden für sowohl die KI(``avg_ki_better``), als auch für Stockfish zurückgegeben(``avg_stock_better``)."
   ]
  },
  {
   "cell_type": "code",
   "execution_count": null,
   "metadata": {},
   "outputs": [],
   "source": [
    "def get_average_difference(move_count_list):\n",
    "    percentual_ki = []\n",
    "    percentual_stock = []\n",
    "    avg_ki_better = 0\n",
    "    avg_stock_better = 0\n",
    "    for ki_move, stock_move, diff in move_count_list:\n",
    "        if diff < 0:\n",
    "            percentual_ki.append(round(1 - (ki_move / stock_move), 4))\n",
    "        elif diff > 0:\n",
    "            percentual_stock.append(round(1 - (stock_move / ki_move), 4))\n",
    "    if len(percentual_ki) != 0:\n",
    "        avg_ki_better = sum(percentual_ki) / len(percentual_ki)\n",
    "    if len(percentual_stock) != 0:\n",
    "        avg_stock_better = sum(percentual_stock) / len(percentual_stock)\n",
    "    return avg_ki_better, avg_stock_better"
   ]
  },
  {
   "cell_type": "markdown",
   "metadata": {},
   "source": [
    "Die Ergebnisse des Vergleichs sollen abschließend in einer Datei gespeichert werden. Dies hat den Grund, dass bei einer großen Anzahl von $S_n$ Mengen die Auswertung nicht in einem unübersichtlichen Konsolenfenster durchgeführt werden muss und man die Ergebnisse mehrfach betrachten kann. \n",
    "Hierfür wird die Funktion ``write_result_to_file`` definiert. Diese berechnet zunächst mit der ``move_count_list`` die Ergebnisse des Vergleichs. Hierzu werden die zuvor definierten Funktionen ``compare_move_lists`` und ``get_average_difference`` aufgerufen. Außerdem werden die prozentualen Ergebnisse, welche Engine/KI das Problem besser gelöst hat, innerhalb dieser Funktion berechnet. Die Ergebnisse werden letztendlich in die Datei mit dem Namen ``filename``.txt in den Ordner ``Tests`` geschrieben. Zur Übersicht wird ein ``sequence_index`` mitgegeben werden, der eine Unterscheidung der Tests ermöglicht."
   ]
  },
  {
   "cell_type": "code",
   "execution_count": null,
   "metadata": {},
   "outputs": [],
   "source": [
    "def write_result_to_file(filename, sequence_index, move_count_list):\n",
    "    equal, ki_better, stockfish_better = compare_move_lists(move_count_list)\n",
    "    avg_ki_better, avg_stock_better = get_average_difference(move_count_list)\n",
    "    count = ki_better + stockfish_better + equal\n",
    "    f = open(\"Tests/\" + filename + \".txt\", \"a+\")\n",
    "    f.write(\"S_\" + str(sequence_index) + \":\\n\")\n",
    "    f.write(\"Stockfish war zu \" + str(round((stockfish_better / count) * 100, 2)) + \"% besser.\\n\")\n",
    "    f.write(\"Die KI war zu \" + str(round((ki_better / count) * 100, 2)) + \"% besser.\\n\")\n",
    "    f.write(\"Stockfish und die KI haben zu \" + str(\n",
    "        round((equal / count) * 100, 2)) + \"% die gleichen Ergebnisse erzielt.\\n\")\n",
    "    f.write(\"Sofern die KI besser war, hat sie durchschnittlich \" + str(\n",
    "        round(avg_ki_better * 100, 2)) + \"% weniger Züge benötigt.\\n\")\n",
    "    f.write(\"Sofern Stockfish besser war, hat sie durchschnittlich \" + str(\n",
    "        round(avg_stock_better * 100, 2)) + \"% weniger Züge benötigt.\\n\")\n",
    "    f.close()"
   ]
  },
  {
   "cell_type": "markdown",
   "metadata": {},
   "source": [
    "### Implementierung der Testszenarien\n",
    "In diesem Abschnitt werden die zuvor definierten Testszenarien implementiert. Diese erhalten eine Liste der $S_n$ Mengen mit der verkürzten FEN Schreibweise (``s_n_sequence_short``) oder die Liste der $S_n$ Mengen mit der vollständigen FEN Schreibweise (``s_n_sequence_fen``). Diese werden für die Berechnungen der Züge für die KI benötigt und müssen deshalb in mindestens einer Form für die Funktion vorliegen. \n",
    "\n",
    "Das erste Testszenario sieht die Überprüfung eines Spielszenarios vor (``fen``). Dies geschieht in der Funktion ``compare_fen_stockfish``. Das Ergebnis wird am Ende der Funktion in der Konsole ausgegeben."
   ]
  },
  {
   "cell_type": "code",
   "execution_count": null,
   "metadata": {
    "pycharm": {
     "name": "#%%\n"
    }
   },
   "outputs": [],
   "source": [
    "def compare_fen_stockfish(fen, s_n_sequence_short):\n",
    "    moves = calculate_all_moves(fen, s_n_sequence_short)\n",
    "    stockfish_moves = stockfish_movelist(fen)\n",
    "\n",
    "    if Moves is not None:\n",
    "        print(\"AI needed \" + str(len(moves)) + \" moves to beat Stockfish as Black.\")\n",
    "    else:\n",
    "        print(\"AI found no way to beat Black.\")\n",
    "\n",
    "    print(\"Stockfish needed \" + str(len(stockfish_moves)) + \" moves to win against itself.\")"
   ]
  },
  {
   "cell_type": "markdown",
   "metadata": {},
   "source": [
    "Das zweite Szenario sieht vor, eine beliebige Anzahl (``count``) zufälliger Boards zu vergleichen. Anhand der ``count``-Variable werden aus den $S_n$ Mengen zufällige Boards ausgewählt und der Vergleich zwischen der KI und Stockfish durchgeführt. Das Ergebnis wird mit ``write_result_to_file`` in einer Datei hinterlegt."
   ]
  },
  {
   "cell_type": "code",
   "execution_count": null,
   "metadata": {},
   "outputs": [],
   "source": [
    "import random\n",
    "\n",
    "\n",
    "def test_random_boards(count, s_n_sequence_fen, s_n_sequence_short):\n",
    "    count_s_n = len(s_n_sequence_fen)\n",
    "    move_count_list = []\n",
    "    for board_c in range(count):\n",
    "        rand_sequence = random.randint(0, count_s_n - 1)\n",
    "        rand_board = random.randint(0, len(s_n_sequence_fen[rand_sequence]) - 1)\n",
    "        rand_fen = list(s_n_sequence_fen[rand_sequence])[rand_board]\n",
    "        ki_moves = calculate_all_moves(rand_fen, s_n_sequence_short)\n",
    "        stockfish_moves = stockfish_movelist(rand_fen)\n",
    "        move_count = len(ki_moves)\n",
    "        cmp_move_count = len(stockfish_moves)\n",
    "        move_count_list.append(tuple((move_count, cmp_move_count, move_count - cmp_move_count)))\n",
    "        clear_output()\n",
    "        print(\"Analyzed \" + str(board_c + 1) + \"/\" + str(count))\n",
    "\n",
    "    filename = \"Random_\" + str(count) + \"_Compare_\" + str(datetime.today().replace(microsecond=0)).replace(\":\",\n",
    "                                                                                                           \"_\") + \".txt\"\n",
    "    write_result_to_file(filename, \"random\", move_count_list)"
   ]
  },
  {
   "cell_type": "markdown",
   "metadata": {},
   "source": [
    "In diesem Beispiel werden 100 zufällige Spielsituationen miteinander verglichen:"
   ]
  },
  {
   "cell_type": "code",
   "execution_count": null,
   "metadata": {},
   "outputs": [],
   "source": [
    "test_random_boards(100, S_N_Sequence_fen, S_N_Sequence_fen_short)"
   ]
  },
  {
   "cell_type": "markdown",
   "metadata": {},
   "source": [
    "Bei `compare_sequence_stockfish` wird für jedes Board einer $S_n$ Menge überprüft, ob Stockfish oder die zuvor definierten Mengen die Situation effizienter lösen. In Form des ``sequence_index`` wird das $n$ der $S_n$ Menge übergeben. Zusätzlich kann ein Name für eine Datei angegeben werden, sodass mehrere Testergebnisse in einer Datei festgehalten werden können. Das Beschreiben der Datei erfolgt mit der Funktion ``write_result_to_file``."
   ]
  },
  {
   "cell_type": "code",
   "execution_count": null,
   "metadata": {
    "pycharm": {
     "name": "#%%\n"
    }
   },
   "outputs": [],
   "source": [
    "def compare_sequence_stockfish(sequence_index, s_n_sequence_fen, s_n_sequence_short, g_filename=None):\n",
    "    s_n = s_n_sequence_fen[sequence_index]\n",
    "    move_count_list = []\n",
    "    length = len(s_n)\n",
    "    r = 0\n",
    "    for board_fen in s_n:\n",
    "        ai_moves = calculate_all_moves(board_fen, s_n_sequence_short)\n",
    "        stockfish_moves = stockfish_movelist(board_fen)\n",
    "        move_count = len(ai_moves)\n",
    "        cmp_move_count = len(stockfish_moves)\n",
    "        move_count_list.append(tuple((move_count, cmp_move_count, move_count - cmp_move_count)))\n",
    "        clear_output()\n",
    "        print(\"Comparing S_\" + str(sequence_index) + \":\")\n",
    "        print(\"Compared \" + str(r + 1) + \"/\" + str(length))\n",
    "        r += 1\n",
    "\n",
    "    if g_filename is None:\n",
    "        filename = \"S_\" + str(sequence_index) + \"_Compare_\" + str(datetime.today().replace(microsecond=0)).replace(\":\",\n",
    "                                                                                                                   \"_\") + \".txt\"\n",
    "        write_result_to_file(filename, sequence_index, move_count_list)\n",
    "    else:\n",
    "        write_result_to_file(g_filename, sequence_index, move_count_list)"
   ]
  },
  {
   "cell_type": "markdown",
   "metadata": {
    "pycharm": {
     "name": "#%% md\n"
    }
   },
   "source": [
    "Als Beispiel wird hier der Vergleich zwischen der KI und Stockfish für die Menge $S_{20}$ vorgenommen:"
   ]
  },
  {
   "cell_type": "code",
   "execution_count": null,
   "metadata": {
    "pycharm": {
     "name": "#%%\n"
    }
   },
   "outputs": [],
   "source": [
    "compare_sequence_stockfish(20, S_N_Sequence_fen, S_N_Sequence_fen_short)"
   ]
  },
  {
   "cell_type": "markdown",
   "metadata": {
    "pycharm": {
     "name": "#%% md\n"
    }
   },
   "source": [
    "Das letzte Testszenario sieht vor, alle zuvor bestimmten Boards mit dem Lösungsweg von Stockfish zu vergleichen. Hierfür geht die Funktion `compare_all_sequences` alle $S_n$ Mengen durch und vergleicht diese jeweils mit der Lösung von Stockfish. Alle Ergebnisse werden in eine Datei geschrieben."
   ]
  },
  {
   "cell_type": "code",
   "execution_count": null,
   "metadata": {
    "pycharm": {
     "name": "#%%\n"
    }
   },
   "outputs": [],
   "source": [
    "def compare_all_sequences(s_n_sequence_fen, s_n_sequence_short):\n",
    "    filename = \"All_S_Compare_\" + str(datetime.today().replace(microsecond=0)).replace(\":\", \"_\") + \".txt\"\n",
    "    for i in range(len(s_n_sequence_fen)):\n",
    "        print(\"Comparing S_\" + str(i) + \"...\")\n",
    "        compare_sequence_stockfish(i, s_n_sequence_fen, s_n_sequence_short, filename)"
   ]
  },
  {
   "cell_type": "code",
   "execution_count": null,
   "metadata": {},
   "outputs": [],
   "source": [
    "compare_all_sequences(S_N_Sequence_fen, S_N_Sequence_fen_short)"
   ]
  },
  {
   "cell_type": "markdown",
   "metadata": {},
   "source": [
    "Für die visuelle Darstellung der Züge wird die Funktion ``show_movelist`` definiert. Diese zeigt auf einem ``chess.Board`` Objekt eine mitgegebene Liste von Zügen zeitverzögert an. Für die Darstellung erhält die Funktion die ``fen``, die die Spielsituation zu Beginn der Partie darstellt. Weiter muss eine Liste von Spielzügen (``moves``), die dargestellt werden sollen, der Funktion mitgegeben werden."
   ]
  },
  {
   "cell_type": "code",
   "execution_count": null,
   "metadata": {
    "pycharm": {
     "name": "#%%\n"
    }
   },
   "outputs": [],
   "source": [
    "def show_movelist(fen, moves):\n",
    "    presentation_board = chess.Board(fen)\n",
    "    display(presentation_board)\n",
    "    time.sleep(2)\n",
    "    for move in moves:\n",
    "        presentation_board.push(move)\n",
    "        clear_output(wait=True)\n",
    "        display(presentation_board)\n",
    "        time.sleep(2)\n"
   ]
  },
  {
   "cell_type": "markdown",
   "metadata": {
    "cell_id": "15fcf482-70e1-4eb2-95b8-c84b474a336d",
    "deepnote_cell_type": "markdown",
    "pycharm": {
     "name": "#%% md\n"
    }
   },
   "source": [
    "# Überprüfen der $S_n$ Mengen\n",
    "\n",
    "Bei der Bestimmung der $S_n$ Mengen wurden alle möglichen Züge rückwärts durchgeführt.\n",
    "Damit die Retrograde Analyse erfolgreich zum Gewinnen von Endspielsituationen angewandt werden kann, muss diese Berechnung erfolgreich gewesen sein.\n",
    "Um sicherzustellen, dass die Situationen, die z. B. in $S_{10}$ zu finden sind, auch wirklich in $<=10$ Zügen beendet werden, wurden in diesem Notebook Funktionen definiert, die diesen Aspekt überprüfen. Hierfür werden zuerst die berechneten $S_n$ Mengen aus der Datei geladen."
   ]
  },
  {
   "cell_type": "code",
   "execution_count": null,
   "metadata": {
    "cell_id": "00002-233a9f8f-ee9f-4f2d-9a40-0dc3af6c165a",
    "deepnote_cell_type": "code",
    "deepnote_output_heights": [
     611
    ],
    "deepnote_to_be_reexecuted": false,
    "execution_millis": 454,
    "execution_start": 1642957225119,
    "pycharm": {
     "name": "#%%\n"
    },
    "source_hash": "ec78bfa0"
   },
   "outputs": [],
   "source": [
    "S_N_Sequence_fen, S_N_Sequence_fen_short = load_s_n_fens(\"S_n_seq_rook\")"
   ]
  },
  {
   "cell_type": "markdown",
   "metadata": {},
   "source": [
    "Die erste Funktion zur Überprüfung, ist ``fen_in_lower_sequence``. Diese überprüft für eine mitgegebene ``fen``, ob diese in einer $S_n$ Menge liegt, für die gilt: \n",
    "$$\n",
    "n < sequence\\_index\n",
    "$$ \n",
    "\n",
    "Die Funktion gibt hierfür einen booleschen Wert zurück."
   ]
  },
  {
   "cell_type": "code",
   "execution_count": null,
   "metadata": {
    "cell_id": "6681e547-10d4-4b7f-ac85-c01220411017",
    "deepnote_cell_type": "code",
    "deepnote_to_be_reexecuted": false,
    "execution_millis": 44,
    "execution_start": 1642957225580,
    "source_hash": "26c3f439",
    "tags": []
   },
   "outputs": [],
   "source": [
    "def fen_in_lower_sequence(fen, sequence_index, s_n_short):\n",
    "    for s in s_n_short[:sequence_index]:\n",
    "        if fen in s:\n",
    "            return True\n",
    "    return False"
   ]
  },
  {
   "cell_type": "markdown",
   "metadata": {
    "pycharm": {
     "name": "#%% md\n"
    }
   },
   "source": [
    "Eine weitere Überprüfung liegt darin, dass keine der Schachbretter in eine zu niedrige $S_n$ Menge eingeordnet wurde. Dies wird mit der Funktion ``every_move_of_sequence_in_lower`` umgesetzt. Hierfür erhält sie eine ``sequence_index``, die überprüft werden soll. Für jede Spielsituation wird Folgendes überprüft:\n",
    "\n",
    "$$\n",
    "\\forall board \\in S_n : move \\in board.legal\\_moves \\implies board.push(move) \\in S_m \\land m<n\n",
    "$$\n",
    "\n",
    "Als Ergebnis gibt die Funktion eine boolesche Variable zurück, die ``True`` zurückgibt, falls die Bedingung erfüllt ist, ansonsten ``False``."
   ]
  },
  {
   "cell_type": "code",
   "execution_count": null,
   "metadata": {
    "cell_id": "00003-8c8899e2-aac2-4fa3-a915-726462bd404c",
    "deepnote_cell_type": "code",
    "deepnote_to_be_reexecuted": false,
    "execution_millis": 0,
    "execution_start": 1642957225672,
    "source_hash": "e6680570"
   },
   "outputs": [],
   "source": [
    "def every_move_of_sequence_in_lower(sequence_index, s_n_fen, s_n_short):\n",
    "    print(\"Checking S_\" + str(sequence_index) + \"...\")\n",
    "    sequence_fen = s_n_fen[sequence_index]\n",
    "    for fen in sequence_fen:\n",
    "        cur_board = chess.Board(fen)\n",
    "        if not cur_board.turn:\n",
    "            for move in cur_board.legal_moves:\n",
    "                cur_board.push(move)\n",
    "                cur_short = get_board_and_turn(cur_board.fen())\n",
    "                if not fen_in_lower_sequence(cur_short, sequence_index, s_n_short):\n",
    "                    print(\"Fen: \" + cur_short + \" not in lower S\")\n",
    "                    return False\n",
    "                cur_board.pop()\n",
    "            return True\n",
    "        else:\n",
    "            in_lower = False\n",
    "            for move in cur_board.legal_moves:\n",
    "                cur_board.push(move)\n",
    "                cur_short = get_board_and_turn(cur_board.fen())\n",
    "                if fen_in_lower_sequence(cur_short, sequence_index, s_n_short):\n",
    "                    in_lower = True\n",
    "                cur_board.pop()\n",
    "            return in_lower\n"
   ]
  },
  {
   "cell_type": "markdown",
   "metadata": {},
   "source": [
    "Die folgende Zelle führt diesen Test durch."
   ]
  },
  {
   "cell_type": "code",
   "execution_count": null,
   "metadata": {
    "cell_id": "989260a7-adea-48a5-89e0-d42a9f8911ef",
    "deepnote_cell_type": "code",
    "deepnote_output_heights": [
     21.1875,
     21.1875
    ],
    "deepnote_to_be_reexecuted": false,
    "execution_millis": 38,
    "execution_start": 1642957225672,
    "source_hash": "5cfc8204",
    "tags": []
   },
   "outputs": [],
   "source": [
    "for i in range(len(S_N_Sequence_fen)):\n",
    "    every_move_of_sequence_in_lower(i, S_N_Sequence_fen, S_N_Sequence_fen_short)"
   ]
  },
  {
   "cell_type": "markdown",
   "metadata": {},
   "source": [
    "Die Funktion ``find_move_count`` kann für folgende Überprüfung verwendet werden:\n",
    "\n",
    "$$\n",
    " \\forall board \\in S_n \\implies max(find\\_move\\_count(board)) = n $$\n",
    "\n",
    "Hierbei berechnet ``find_move_count`` jeden Ablauf einer Schach-Partie, bis ein Schachmatt erzielt worden ist. Da aber die Spielsituation in die Menge $S_n$ zugeordnet wurde, muss auf jeden Fall eine dieser Zahlen den Wert n betragen, da ansonsten das Schachbrett der falschen $S_n$ Menge zugeordnet wurde.\n",
    "\n",
    "Die Implementierung der Funktion ``find_move_count`` erfolgt rekursiv. Die Funktion ruft sich selbst auf, bis ein Schachmatt erzielt worden ist. Für einen derartigen Aufruf wird die ``sequence_index``, in der sich die ``fen`` befindet, mitgegeben. Außerdem muss das ``move_set``, dass auch als Rückgabewert fungiert, mitgegeben werden, da darin die Anzahl der Züge gespeichert werden, die zum Lösen jeglicher Spielabläufe benötigt werden. Der Parameter ``move_count`` resultiert ebenfalls durch die Rekursion, da in ihr die aktuelle Anzahl an ausgeführten Spielzügen gespeichert wird. Aufgrund des Aufrufs der Funktion ``find_situation_in_sequence`` wird zusätzlich noch die Liste der gekürzten $S_n$ Mengen beigefügt (``s_n_short``). Die Funktion gibt letztendlich eine Menge an Spielzügen zurück, die für die unterschiedlichen Abläufe der Spielsituation benötigt wurden."
   ]
  },
  {
   "cell_type": "code",
   "execution_count": null,
   "metadata": {
    "cell_id": "0bb87d08-f8b2-415e-ba13-ce655d791235",
    "deepnote_cell_type": "code",
    "deepnote_to_be_reexecuted": false,
    "execution_millis": 0,
    "execution_start": 1642957225712,
    "source_hash": "f04dfefc",
    "tags": []
   },
   "outputs": [],
   "source": [
    "def find_move_count(sequence_index, fen, move_count, move_set, s_n_short):\n",
    "    cur_board = chess.Board(fen)\n",
    "    moves = cur_board.legal_moves\n",
    "    if moves.count() == 0 and sequence_index == 0:\n",
    "        move_set.add(move_count)\n",
    "        return move_set\n",
    "    if not cur_board.turn:\n",
    "        # print(\"Black:\")\n",
    "        for move in cur_board.legal_moves:\n",
    "            cur_board.push(move)\n",
    "            move_count += 1\n",
    "            cur_fen = cur_board.fen()\n",
    "            new_seq = find_situation_in_sequence(cur_fen, s_n_short)\n",
    "            # print(new_seq, \";\" , cur_fen)\n",
    "            move_set = find_move_count(new_seq, cur_fen, move_count, move_set, s_n_short)\n",
    "            move_count -= 1\n",
    "            cur_board.pop()\n",
    "    else: \n",
    "        # print(\"White:\")\n",
    "        for move in cur_board.legal_moves:\n",
    "            cur_board.push(move)\n",
    "            cur_fen = get_board_and_turn(cur_board.fen())\n",
    "            if fen_in_lower_sequence(cur_fen, sequence_index, s_n_short):\n",
    "                new_seq = find_situation_in_sequence(cur_fen, s_n_short)\n",
    "                move_count += 1\n",
    "                move_set = find_move_count(new_seq, cur_fen, move_count, move_set, s_n_short)\n",
    "                move_count -= 1\n",
    "            cur_board.pop()\n",
    "    return move_set"
   ]
  },
  {
   "cell_type": "code",
   "execution_count": null,
   "metadata": {
    "cell_id": "a27ca83a-011e-4c1b-8e98-9d20f2846bb1",
    "deepnote_cell_type": "code",
    "deepnote_output_heights": [
     21.1875,
     1
    ],
    "deepnote_to_be_reexecuted": false,
    "execution_millis": 67612,
    "execution_start": 1642957225714,
    "source_hash": "64ecf584",
    "tags": []
   },
   "outputs": [],
   "source": [
    "find_move_count(20, \"8/8/8/3K4/8/5R2/2k5/8 b - - 0 1\", 0, set(), S_N_Sequence_fen_short)"
   ]
  },
  {
   "cell_type": "markdown",
   "metadata": {
    "cell_id": "238dd697-3c31-4183-b6ab-fa9914cc01d4",
    "deepnote_cell_type": "code",
    "deepnote_to_be_reexecuted": false,
    "execution_millis": 1,
    "execution_start": 1642957293320,
    "source_hash": "a37241de",
    "tags": []
   },
   "source": [
    "Zur Überprüfung, dass nun Board der falschen $S_n$ Menge zugeordnet wurde, wird die Funktion ``check_boards_in_correct_sequence`` definiert. Diese überprüft für einen ``sequence_index`` in einer mitgegebenen Liste von $S_n$ Mengen (``s_n_fen``), ob die Spielsituationen der Menge an dem Index ``sequence_index`` auch maximal $n$ Züge bis zum Ende der Partie benötigen. Dies gelingt mit der Funktion ``find_move_count``, die zusätzlich noch die gekürzte Schreibweise der $S_n$ Mengen benötigt (``s_n_short``). Die Funktion gibt in Form einer Konsolenausgabe an, welche der FENs in eine falsche $S_n$ Menge zugeordnet worden sind."
   ]
  },
  {
   "cell_type": "code",
   "execution_count": null,
   "metadata": {
    "cell_id": "5013f573-98fb-4ab4-ac8e-26d26c43905b",
    "deepnote_cell_type": "code",
    "deepnote_output_heights": [
     21.1875
    ],
    "deepnote_to_be_reexecuted": false,
    "execution_millis": 12999,
    "execution_start": 1642957448545,
    "source_hash": "1d4560db",
    "tags": []
   },
   "outputs": [],
   "source": [
    "def check_boards_in_correct_sequence(sequence_index, s_n_fen, s_n_short):\n",
    "    invalid = 0\n",
    "    print(\"Comparing S_\" + str(sequence_index) + \"...\")\n",
    "    for fen in s_n_fen[sequence_index]:\n",
    "        move_set = find_move_count(sequence_index, fen, 0, set(), s_n_short)\n",
    "        if max(move_set) != sequence_index:\n",
    "            invalid += 1\n",
    "            print(fen)\n",
    "    print(\"Invalid boards: \" + str(invalid))"
   ]
  },
  {
   "cell_type": "code",
   "execution_count": null,
   "metadata": {},
   "outputs": [],
   "source": [
    "check_boards_in_correct_sequence(4, S_N_Sequence_fen, S_N_Sequence_fen_short)"
   ]
  },
  {
   "cell_type": "markdown",
   "metadata": {
    "pycharm": {
     "name": "#%% md\n"
    }
   },
   "source": [
    "Zusätzlich zum rechnerischen Überprüfen der Ergebnisse kann eine andere Methode zum Verifizieren verwendet werden. \n",
    "Schach-Endspieldatenbanken sind keine neue Erfindung und wurden bereits von anderen Forschern entwickelt.\n",
    "Ein lang anhaltendes Projekt, welches gegenwärtig Datenbanken für Situationen mit bis zu 7 Figuren auf dem Spielfeld anbietet ist [Syzygy](https://syzygy-tables.info/).\n",
    "Das Projekt hält zwei Datentypen für alle Spielsituationen vor:\n",
    "WDL Daten und DTZ Daten.\n",
    "\n",
    "WDL steht für Win / Draw / Loss und gibt dem Nutzer eine Information über den Wert einer Spielsituation. \n",
    "Eine Anfrage an die Datenbank mit einer Situation wird mit einem der folgenden Werte beantwortet: -2, -1, 0, 1, 2.\n",
    "Positive Werte implizieren, dass bei perfektem Spiel der aktuelle Spieler gewinnt, negative Werte bedeuten, dass der aktuelle Spieler verliert.\n",
    "Die 0 bedeutet, dass das Spiel (wenn beide Seiten perfekt spielen) in einem Unentschieden endet.\n",
    "Eine Zwei ist ein sicherer Sieg / Verlust, während eine Eins in einem Gewinn oder unentschieden mittels der 50-Zug Regel enden kann.\n",
    "\n",
    "Die Interessantere der Dateien ist die DTZ-Datei.\n",
    "DTZ steht für Distance to Zero. Die DTZ Tabelle enthält Werte von -100 bis 100. \n",
    "Positiv, Negativ und Null kann genau wie WDL interpretiert werden.\n",
    "Die Zahlen von -100 bis -1 und 1 bis 100 geben die Anzahl der Halbzüge bis zu einem Gewinn (oder Reset der 50-Züge Regel) an.\n",
    "Stetiges verringern einer positiven DTZ führt also zu einem Gewinn.\n",
    "\n",
    "Die DTZ-Zahl einer Spielsituation kann mit dem $n$ verglichen werden, in welcher Menge $S_n$ diese Situation in der `.chessAI` eingeordnet wurde.\n",
    "Stimmen diese Zahlen überein, war die Berechnung korrekt.\n",
    "\n",
    "*Hinweis: Je nach Ausführung der Syzygy-Tabellen werden halbe oder ganze Züge gespeichert, es muss daher beim Vergleich eine Toleranz von einem $n$ akzeptiert werden.*    \n",
    "\n",
    "Die Funktion `compare_with_syzygy()` führt diesen Vergleich durch und gibt die Anzahl falsch eingeordneter Situationen zurück. "
   ]
  },
  {
   "cell_type": "code",
   "execution_count": null,
   "metadata": {
    "pycharm": {
     "name": "#%%\n"
    }
   },
   "outputs": [],
   "source": [
    "def compare_with_syzygy(syzygy, s_n_sequence):\n",
    "    counter = 0\n",
    "    \n",
    "    for n in range(len(s_n_sequence)):\n",
    "        count = 0\n",
    "        for fen in s_n_sequence[n]:\n",
    "            chess_board = chess.Board(fen)\n",
    "            if n != abs(syzygy.probe_dtz(chess_board)) != n + 1:\n",
    "                count += 1\n",
    "        print(f\"S{n}: Syzygy believes {count} of {len(s_n_sequence[n])} Situations are wrongly placed in the sequence.\")\n",
    "    print(f\"Syzygy believes {counter} Situations are wrongly placed in the sequence.\")\n",
    "    return count"
   ]
  },
  {
   "cell_type": "markdown",
   "metadata": {
    "pycharm": {
     "name": "#%% md\n"
    }
   },
   "source": [
    "Die Syzygy-Dateien müssen sich entweder im Ordner `./syzygy` befinden oder der Pfad angepasst werden."
   ]
  },
  {
   "cell_type": "code",
   "execution_count": null,
   "metadata": {
    "pycharm": {
     "name": "#%%\n"
    }
   },
   "outputs": [],
   "source": [
    "SYZYGY = chess.syzygy.Tablebase()\n",
    "SYZYGY.add_directory(\"./syzygy\")"
   ]
  },
  {
   "cell_type": "code",
   "execution_count": null,
   "metadata": {
    "pycharm": {
     "name": "#%%\n"
    }
   },
   "outputs": [],
   "source": [
    "compare_with_syzygy(SYZYGY, S_N_Sequence_fen)\n"
   ]
  }
 ],
 "metadata": {
  "language_info": {
   "name": "python"
  },
  "orig_nbformat": 4
 },
 "nbformat": 4,
 "nbformat_minor": 2
}
