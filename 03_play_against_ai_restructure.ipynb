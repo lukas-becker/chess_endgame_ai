{
 "cells": [
  {
   "cell_type": "code",
   "execution_count": null,
   "metadata": {
    "pycharm": {
     "is_executing": true,
     "name": "#%%\n"
    }
   },
   "outputs": [],
   "source": [
    "import chess\n",
    "from IPython.core.display import HTML, Javascript\n",
    "with open('style.html', 'r') as file:\n",
    "     css = file.read()\n",
    "HTML(css)"
   ]
  },
  {
   "cell_type": "code",
   "execution_count": null,
   "metadata": {
    "pycharm": {
     "name": "#%%\n"
    }
   },
   "outputs": [],
   "source": [
    "%run Util/00_imports.ipynb\n",
    "%run Util/01_functions.ipynb"
   ]
  },
  {
   "cell_type": "markdown",
   "metadata": {
    "pycharm": {
     "name": "#%% md\n"
    }
   },
   "source": [
    "# Spielen gegen die KI"
   ]
  },
  {
   "cell_type": "markdown",
   "metadata": {
    "pycharm": {
     "name": "#%% md\n"
    }
   },
   "source": [
    "## Vom Nutzer zu tätigende Einstellungen\n",
    "Zur Erstellung eines individuellen Spielfeldes werden Dictionaries verwendet. Diese verwenden jeweils als `key` die Figur,\n",
    "die auf dem Spielfeld platziert werden soll. Als `value` nutzen die Einträge jeweils eine Liste, \n",
    "die vom Nutzer mit den String-Bezeichnern der Felder gefüllt werden sollen, auf denen die jeweilige Figur steht.\n",
    "Diese Feldbezeichnungen folgen dem Format, welches in Notebook `01_chess_introduction` erklärt wurde.\n",
    "\n",
    "> TODO: Mögliche Formatierung der Beschreibung der globalen Variablen\n",
    "> TODO: Anpassung des globalen Variablen Stils (in gName)"
   ]
  },
  {
   "cell_type": "code",
   "execution_count": null,
   "outputs": [],
   "source": [
    "WHITE_POSITIONS = {chess.KING:['b4'],\n",
    "                   chess.QUEEN:['a1'],\n",
    "                   chess.ROOK:[],\n",
    "                   chess.BISHOP:[],\n",
    "                   chess.KNIGHT:[],\n",
    "                   chess.PAWN:['g7']}\n",
    "\n",
    "BLACK_POSITIONS = {chess.KING:['b1'],\n",
    "                   chess.QUEEN:[],\n",
    "                   chess.ROOK:[],\n",
    "                   chess.BISHOP:[],\n",
    "                   chess.KNIGHT:[],\n",
    "                   chess.PAWN:[]}"
   ],
   "metadata": {
    "collapsed": false,
    "pycharm": {
     "name": "#%%\n"
    }
   }
  },
  {
   "cell_type": "markdown",
   "source": [
    "Weiter muss der Nutzer angeben, welche vorher berechnete Spielsituation er laden möchte.\n",
    "Hierfür muss der Dateiname in einer globalen Variable (ohne Dateiendung `.chessAI`) angegeben werden.\n",
    "Bei dieser Variablen handelt es sich um ``FILE``.\n",
    "Die Dateien werden nach der Berechnung in dem Ordner `S_n_Results` hinterlegt."
   ],
   "metadata": {
    "collapsed": false,
    "pycharm": {
     "name": "#%% md\n"
    }
   }
  },
  {
   "cell_type": "code",
   "execution_count": null,
   "outputs": [],
   "source": [
    "FILE = \"s_n_queen_24_05\""
   ],
   "metadata": {
    "collapsed": false,
    "pycharm": {
     "name": "#%%\n"
    }
   }
  },
  {
   "cell_type": "markdown",
   "source": [
    "## Logik für die Interaktion mit der Spielsituation\n",
    "Im folgenden Abschnitt sollen einige Hilfsfunktionen erklärt werden, welche für die Interaktion zwischen dem Nutzer über ein Jupyter Notebook und \n",
    "der Spielsituation benötigt werden.  \n",
    "\n",
    "Die Funktion `get_occupied_cells()` übersetzt die zuvor erstellten und vom Nutzer veränderten `Position-Dictionaries` (`WHITE_POSITIONS`, `BLACK_POSITIONS`) in eine Liste, die alle ``values`` der\n",
    "Dictionaries, also alle besetzten Felder, enthält. Diese Liste wird benötigt, um zu überprüfen, ob die Eingaben des Nutzers korrekte Zellen sind. Sie stellt den Rückgabewert der Funktion dar."
   ],
   "metadata": {
    "collapsed": false,
    "pycharm": {
     "name": "#%% md\n"
    }
   }
  },
  {
   "cell_type": "code",
   "execution_count": null,
   "outputs": [],
   "source": [
    "def get_occupied_cells():\n",
    "    cells = []\n",
    "    for values in WHITE_POSITIONS.values():\n",
    "        for value in values:\n",
    "            cells.append(value)\n",
    "    for values in BLACK_POSITIONS.values():\n",
    "        for value in values:\n",
    "            cells.append(value)\n",
    "    return cells"
   ],
   "metadata": {
    "collapsed": false,
    "pycharm": {
     "name": "#%%\n"
    }
   }
  },
  {
   "cell_type": "markdown",
   "source": [
    "Mit dem Rückgabewert von der vorherigen Funktion übernimmt die Funktion `check_for_correct_cells()` die Überprüfung.\n",
    "Hierzu wird jeder Wert in den eingegebenen Feldern in den Dictionaries `WHITE_POSITIONS` und `BLACK_POSITIONS` auf Einhaltung\n",
    "eines regulären Ausdrucks, welcher auf eine Kombination aus Buchstabe und Zahl prüft, überprüft.\n",
    "Der reguläre Ausdruck `[a-h][1-8]` beschreibt ein Symbol im Bereich a-h (`[a-h]`) sowie ein weiteres Symbol im Bereich 1-8 (`[1-8]`).\n",
    "Das Ergebnis wird in Form eines booleschen Werts zurückgegeben."
   ],
   "metadata": {
    "collapsed": false,
    "pycharm": {
     "name": "#%% md\n"
    }
   }
  },
  {
   "cell_type": "code",
   "execution_count": null,
   "outputs": [],
   "source": [
    "def check_for_correct_cells():\n",
    "    cells = get_occupied_cells()\n",
    "    for cell in cells:\n",
    "        x = re.search(\"[a-h][1-8]\", cell)\n",
    "        if x is None:\n",
    "            print(cell)\n",
    "            print(\"Value incorrect!\")\n",
    "            return False\n",
    "        else:\n",
    "            pass\n",
    "    return True"
   ],
   "metadata": {
    "collapsed": false,
    "pycharm": {
     "name": "#%%\n"
    }
   }
  },
  {
   "cell_type": "markdown",
   "source": [
    "Bevor die Figuren dem Objekt hinzugefügt werden, werden sie in einem Dictionary gesammelt, welches als `piece_map` verwendet wird.\n",
    "\n",
    "Die Funktion `collect_cells(color, pieces)` erstellt diese `piece_map`.\n",
    "Diese erhält folgende Parameter:\n",
    "* ``color``: Ein Boolescher-Wert, der die Farbe der Pieces repräsentiert. Kann auch in Form von `chess.Color` übergeben werden.\n",
    "* ``pieces``: Ein Dictionary, das als `key` einen `chess.PieceType` nimmt. Der `value` ist eine Liste von Strings, die die besetzten Felder repräsentieren.\n",
    "\n",
    "\n",
    "Das Dictionary entsteht durch Iteration über `pieces`. Das zurückgegebene Dictionary nutzt als `key` ein `chess.Square`. Der `value` des Dictionaries ist nun ein `chess.Piece`."
   ],
   "metadata": {
    "collapsed": false,
    "pycharm": {
     "name": "#%% md\n"
    }
   }
  },
  {
   "cell_type": "code",
   "execution_count": null,
   "outputs": [],
   "source": [
    "def collect_cells(color, pieces):\n",
    "    occupied_cells = {}\n",
    "    for piece_type, values in pieces.items():\n",
    "            piece = chess.Piece(piece_type, color)\n",
    "            for value in values:\n",
    "                square = chess.parse_square(value)\n",
    "                occupied_cells[square] = piece\n",
    "            \n",
    "    return occupied_cells"
   ],
   "metadata": {
    "collapsed": false,
    "pycharm": {
     "name": "#%%\n"
    }
   }
  },
  {
   "cell_type": "markdown",
   "source": [
    "Die Funktion `create_board()` füllt das Schachbrett letztlich mit den Figuren, die vom Nutzer in den Dictionaries angegeben wurden.\n",
    "Als Rückgabewert gibt die Funktion das gefüllte Schachbrett als `chess.Board` zurück.\n",
    "\n",
    "Zunächst werden die vorherigen Funktionen verwendet, um die `piece_map` zu erstellen. Diese \n",
    "wird auf das Board-Objekt angewandt und die entstehende Stellung auf Validität überprüft.\n",
    "Ist das Board nicht valide, wird ein Fehler ausgegeben und ein neues chess.Board wird erstellt.\n",
    "\n",
    "Ein Problem, welches in Spielsituationen mit dem Turm auftritt, ist die Berechtigung zu einer Rochade.\n",
    "Damit das Board als valide anerkannt wird, werden die entsprechenden Flags mit der Funktion\n",
    "`clean_castling_rights` den Regeln entsprechend gesetzt.\n",
    "\n",
    "> TODO: Wird Beschreibung der Funktion benötigt? @Lukas\n",
    "> Possible TODO: Anzeigen, weshalb das Board invalid ist."
   ],
   "metadata": {
    "collapsed": false,
    "pycharm": {
     "name": "#%% md\n"
    }
   }
  },
  {
   "cell_type": "code",
   "execution_count": null,
   "outputs": [],
   "source": [
    "def create_board():\n",
    "    local_board = chess.Board(None)\n",
    "    occupied_cells = {}\n",
    "    if check_for_correct_cells():\n",
    "        occupied_cells |= collect_cells(chess.WHITE, WHITE_POSITIONS)\n",
    "        occupied_cells |= collect_cells(chess.BLACK, BLACK_POSITIONS)\n",
    "\n",
    "        local_board.set_piece_map(occupied_cells)\n",
    "        local_board.castling_rights = local_board.clean_castling_rights()\n",
    "        \n",
    "        if not local_board.is_valid():\n",
    "            display(local_board)\n",
    "            print(\"Specified lineup is invalid\")\n",
    "            print(\"Default board created instead\")\n",
    "            local_board = chess.Board()\n",
    "    return local_board"
   ],
   "metadata": {
    "collapsed": false,
    "pycharm": {
     "name": "#%%\n"
    }
   }
  },
  {
   "cell_type": "markdown",
   "source": [
    "## Import der Daten\n",
    "\n",
    "Für die Bestimmung der Züge der KI werden die $S_n$ Mengen verwendet, die im Notebook ``02_calculation.ipynb`` berechnet werden.\n",
    "Eine Erklärung worum es sich hierbei handelt, findet sich in diesem Notebook.\n",
    "Die Ergebnisse der Berechnung werden mittels `pickle` serialisiert und in einer ZIP-Datei komprimiert abgespeichert. Zur Verwendung wird das Archiv entpackt und \n",
    "die Liste deserialisiert. \n",
    "Weitere Informationen zum Inhalt der Datei befinden sich ebenfalls im Notebook ``calculation.ipynb``.   \n",
    "\n",
    "Die Funktion `load_data(filename)` erhält den Dateinamen (``filename``) als Parameter und gibt die Endspieldaten zurück.\n",
    "Die Rückgabe besteht aus einer Liste von verwendeten Figuren `piece_list` und einer Liste von Mengen `s_n_sequence_integers`, welche die Situationen in einem n als Integer darstellen. Diese Mengen enthalten jedoch nur die einzigartigen (ungespiegelten) Spielsituationen.\n",
    "\n",
    "> TODO: Fehlt nicht eine Beschreibung von n?"
   ],
   "metadata": {
    "collapsed": false,
    "pycharm": {
     "name": "#%% md\n"
    }
   }
  },
  {
   "cell_type": "code",
   "execution_count": null,
   "outputs": [],
   "source": [
    "def load_data(filename):\n",
    "    s_n_sequence_integers = []\n",
    "    with ZipFile(\"S_n_Results/\" + filename + \".chessAI\") as zipped:\n",
    "        with zipped.open(filename + \".pickle\") as calculation:\n",
    "            tmp = pickle.loads(calculation.read())\n",
    "            piece_list = tmp[0]\n",
    "            for item in tmp[1:]:\n",
    "                s_n_sequence_integers.append(item)\n",
    "    return piece_list, s_n_sequence_integers"
   ],
   "metadata": {
    "collapsed": false,
    "pycharm": {
     "name": "#%%\n"
    }
   }
  },
  {
   "cell_type": "markdown",
   "source": [
    "Für die Erstellung der gesamten $S_n$ Mengen werden Funktionen zum Spiegeln der vorhandenen Spielsituationen verwendet. Diese können aus dem Notebook `12_mirroring.ipynb` entnommen werden."
   ],
   "metadata": {
    "collapsed": false,
    "pycharm": {
     "name": "#%% md\n"
    }
   }
  },
  {
   "cell_type": "code",
   "execution_count": null,
   "outputs": [],
   "source": [
    "# In Future (after merge) use following line:\n",
    "# %run 12_mirroring.ipynb"
   ],
   "metadata": {
    "collapsed": false,
    "pycharm": {
     "name": "#%%\n"
    }
   }
  },
  {
   "cell_type": "code",
   "execution_count": null,
   "outputs": [],
   "source": [
    "SWAPS = {\n",
    "        \"vertical\" : {x:x^56 for x in range(64)},\n",
    "        \"horizontal\" : {x:x^7 for x in range(64)},\n",
    "        \"rotate_right\" : {x:(((x >> 3) | (x << 3)) & 63) ^ 56 for x in range(64)},\n",
    "        \"rotate_180\" : {x : x ^ 63 for x in range(64)},\n",
    "        \"rotate_left\" : {x : (((x >> 3) | (x << 3)) & 63) ^ 7 for x in range(64)},\n",
    "        \"diagonal\" : {x : ((x >> 3) | (x << 3)) & 63 for x in range(64)},\n",
    "        \"anti_diagonal\" : {x : (((x >> 3) | (x << 3)) & 63) ^ 63 for x in range(64)}\n",
    "    }"
   ],
   "metadata": {
    "collapsed": false,
    "pycharm": {
     "name": "#%%\n"
    }
   }
  },
  {
   "cell_type": "code",
   "execution_count": null,
   "outputs": [],
   "source": [
    "# Mirroring mit 7 Bit Darstellung\n",
    "def mirror_board(board_int, mirror : dict):\n",
    "    # Save turn\n",
    "    result = board_int & 1\n",
    "    # Get count of pieces saved in int\n",
    "    n = len(PIECE_LIST)\n",
    "    # Remove turn\n",
    "    board_int = board_int >> 1\n",
    "\n",
    "    for i in range(n):\n",
    "        result |= mirror[board_int & 127] << 7 * i + 1\n",
    "        board_int = board_int >> 7\n",
    "    return result"
   ],
   "metadata": {
    "collapsed": false,
    "pycharm": {
     "name": "#%%\n"
    }
   }
  },
  {
   "cell_type": "code",
   "execution_count": null,
   "outputs": [],
   "source": [
    "def mirror_all_directions(board_int):\n",
    "    result = set()\n",
    "    for name, swap in SWAPS.items():\n",
    "        result.add(mirror_board(board_int, swap))\n",
    "    return result"
   ],
   "metadata": {
    "collapsed": false,
    "pycharm": {
     "name": "#%%\n"
    }
   }
  },
  {
   "cell_type": "markdown",
   "source": [
    "Die Erstellung der vollständigen $S_n$ Mengen geschieht durch die Funktion `gen_all_integers()`.\n",
    "Diese nimmt die bereits gespeicherten Mengen in ``S_N_INTEGERS`` und iteriert über diese.\n",
    "Für jedes Brett der Menge werden die 7 Spiegelungen generiert.\n",
    "Diese werden in einer Liste von Mengen, `result`, gespeichert.\n",
    "Die Indizes der Mengen werden dabei nicht verändert. Die Liste `result` stellt den Rückgabewert der Funktion dar."
   ],
   "metadata": {
    "collapsed": false,
    "pycharm": {
     "name": "#%% md\n"
    }
   }
  },
  {
   "cell_type": "code",
   "execution_count": null,
   "outputs": [],
   "source": [
    "def gen_all_integers(s_n_integers):\n",
    "    result = []\n",
    "    for sequence in s_n_integers:\n",
    "        int_set = set()\n",
    "        for int_board in sequence:\n",
    "            int_set.add(int_board)\n",
    "            int_set |= mirror_all_directions(int_board)\n",
    "        result.append(int_set)\n",
    "    return result"
   ],
   "metadata": {
    "collapsed": false,
    "pycharm": {
     "name": "#%%\n"
    }
   }
  },
  {
   "cell_type": "markdown",
   "source": [
    "## Den besten Halbzug für die KI ermitteln\n",
    "Um mit den berechneten Endspieldaten gegen einen Spieler zu gewinnen, muss jeder Halbzug, den Weiß macht, optimal sein.\n",
    "Ein passender Halbzug für die KI besteht darin die Situation von $S_n$ in einen Zustand zu überführen, in dem sie sich in $S_{n-1}$ befindet.\n",
    "\n",
    "Die Funktion `find_next_move(curr_board, s_index, s_n_sequence)` bestimmt für ein übergebenes Board-Objekt einen solchen Spielzug.\n",
    "Aus Effizienzgründen wird zusätzlich zum gefundenen Spielzug (`move`) der neue Wert für $n$ zurückgegeben.\n",
    "\n",
    "Für diese Berechnung benötigt ``find_next_move`` nachkommende Argumente:\n",
    "* ``curr_board``: Das Board, für welches der nächste Spielzug berechnet werden soll.\n",
    "* ``s_index``: Das $n$ eines $S_n$, in welchem sich ``curr_board`` befindet. Wird aus Effizienzgründen übergeben.\n",
    "* ``s_n_sequence``: Die Liste mit allen $S_n$.\n",
    "\n",
    "Kann kein Spielzug gefunden werden, gibt die Funktion den Wert -1 zurück.\n",
    "\n",
    "Die für diesen Ablauf benötigte Funktion `find_situation_in_sequence` wird im Notebook `functions.ipynb` definiert und erklärt.\n",
    "\n",
    "> TODO: Referenz richtig setzen\n",
    "> TODO: Sind die Übergabeparameter nicht witzlos, da wir die Funktion immer nur mit den globalen Variablen aufrufen? @Lukas xD"
   ],
   "metadata": {
    "collapsed": false,
    "pycharm": {
     "name": "#%% md\n"
    }
   }
  },
  {
   "cell_type": "code",
   "execution_count": null,
   "outputs": [],
   "source": [
    "def find_next_move(curr_board, s_index, s_n_sequence):\n",
    "    s_index_new = s_index - 1\n",
    "    for move in curr_board.legal_moves:\n",
    "        curr_board.push(move)\n",
    "        curr_integer = to_integer(curr_board, PIECE_LIST)\n",
    "        _tmp = find_situation_in_sequence(curr_integer, [s_n_sequence[s_index_new]])\n",
    "        if _tmp != -1:\n",
    "            curr_board.pop()\n",
    "            return s_index_new, move\n",
    "        curr_board.pop()\n",
    "\n",
    "    return -1, None"
   ],
   "metadata": {
    "collapsed": false,
    "pycharm": {
     "name": "#%%\n"
    }
   }
  },
  {
   "cell_type": "markdown",
   "source": [
    "## Globale Variablen für die Anzeige\n",
    "\n",
    "Nachdem alle Funktionen für die Bestimmung eines Halbzugs definiert worden sind, gilt es die bereitgestellte UI der ``python-chess`` Bibliothek zu erweitern.\n",
    "In Form von globalen Variablen werden UI-Elemente definiert, die für die Eingabe eines neuen Halbzugs benötigt werden:\n",
    "\n",
    "- `INPUT_FIELD`: Ein Eingabefeld, in dem der nächste Halbzug von Schwarz eingetragen werden soll.\n",
    "- `EXECUTE_BUTTON`: Ein Button, der nach der Eingabe des Halbzugs diesen auch auf dem Schachbrett ausführt."
   ],
   "metadata": {
    "collapsed": false,
    "pycharm": {
     "name": "#%% md\n"
    }
   }
  },
  {
   "cell_type": "code",
   "execution_count": null,
   "outputs": [],
   "source": [
    "INPUT_FIELD = widgets.Text()\n",
    "\n",
    "EXECUTE_BUTTON = widgets.Button(\n",
    "    description='Execute Move',\n",
    "    disabled=False,\n",
    "    button_style='',\n",
    "    tooltip='Executes the move entered in the input field.',\n",
    "    icon='check'\n",
    ")"
   ],
   "metadata": {
    "collapsed": false,
    "pycharm": {
     "name": "#%%\n"
    }
   }
  },
  {
   "cell_type": "markdown",
   "source": [
    "## Globale Variablen für den aktuellen Spielzustand\n",
    "Damit der aktuelle Stand des Spiels auch ohne eine lineare Kette von Funktionsaufrufen verfügbar ist,\n",
    "werden diese Informationen in globalen Variablen gespeichert.\n",
    "Bei den Variablen handelt es sich um:\n",
    "* `PIECE_LIST`: Liste der verwendeten Figuren. Wird für die Integer Konversion verwendet.\n",
    "* `S_N_INTEGERS`: Die berechnete Endspieltabelle.\n",
    "* `S_INDEX`: $n$, in welchem $S_n$ sich die aktuelle Stellung befindet.\n",
    "\n",
    "> TODO: Wirklich eine EndspielTABELLE ?"
   ],
   "metadata": {
    "collapsed": false,
    "pycharm": {
     "name": "#%% md\n"
    }
   }
  },
  {
   "cell_type": "code",
   "execution_count": null,
   "outputs": [],
   "source": [
    "PIECE_LIST, S_N_INTEGERS = load_data(FILE)\n",
    "S_N_INTEGERS = gen_all_integers(S_N_INTEGERS)\n",
    "S_INDEX = 0"
   ],
   "metadata": {
    "collapsed": false,
    "pycharm": {
     "name": "#%%\n"
    }
   }
  },
  {
   "cell_type": "markdown",
   "source": [
    "## Hilfsfunktionen\n",
    "\n",
    "Innerhalb der python-chess library werden die Farben des Schachbretts `chess.WHITE` und `chess.BLACK` als boolesche Variablen definiert.\n",
    "Deswegen wurde zur späteren Dokumentation eine Funktion geschrieben,\n",
    "die die Farbe, die gerade am Spielzug ist, als String zurückgibt."
   ],
   "metadata": {
    "collapsed": false,
    "pycharm": {
     "name": "#%% md\n"
    }
   }
  },
  {
   "cell_type": "code",
   "execution_count": null,
   "outputs": [],
   "source": [
    "def get_color(turn):\n",
    "    if turn:\n",
    "        return \"White\"\n",
    "    else:\n",
    "        return \"Black\""
   ],
   "metadata": {
    "collapsed": false,
    "pycharm": {
     "name": "#%%\n"
    }
   }
  },
  {
   "cell_type": "markdown",
   "source": [
    "Zum Definieren der globalen Variablen `FILENAME` wird die Funktion `update_filename` definiert.\n",
    "\n",
    "> TODO: Wird FILENAME in diesem Kontext wirklich global benötigt?\n",
    "> Antwort: Wenn wir FILENAME nicht global definieren müssen wir halt wieder überall filename übergeben..."
   ],
   "metadata": {
    "collapsed": false,
    "pycharm": {
     "name": "#%% md\n"
    }
   }
  },
  {
   "cell_type": "code",
   "execution_count": null,
   "outputs": [],
   "source": [
    "def update_filename(new_value):\n",
    "    global FILENAME\n",
    "    FILENAME = new_value"
   ],
   "metadata": {
    "collapsed": false,
    "pycharm": {
     "name": "#%%\n"
    }
   }
  },
  {
   "cell_type": "markdown",
   "source": [
    "Weiter werden für den Spielbeginn (`reset_board()`) und auch für ausgeführte Spielzüge (`reset_input_field()`) Funktionen geschrieben,\n",
    "die die UI Elemente auf ihren Standardwert zurücksetzen."
   ],
   "metadata": {
    "collapsed": false,
    "pycharm": {
     "name": "#%% md\n"
    }
   }
  },
  {
   "cell_type": "markdown",
   "source": [
    "`reset_input_field()` setzt hierbei nur den Value des `INPUT_FIELD` auf einen leeren String."
   ],
   "metadata": {
    "collapsed": false,
    "pycharm": {
     "name": "#%% md\n"
    }
   }
  },
  {
   "cell_type": "code",
   "execution_count": null,
   "outputs": [],
   "source": [
    "def reset_input_field():\n",
    "    global INPUT_FIELD\n",
    "    INPUT_FIELD.value = ''"
   ],
   "metadata": {
    "collapsed": false,
    "pycharm": {
     "name": "#%%\n"
    }
   }
  },
  {
   "cell_type": "markdown",
   "source": [
    "`reset_board()` setzt das `BOARD` Objekt auf den Ausgangszustand zurück und passt dementsprechend die globalen Variablen an."
   ],
   "metadata": {
    "collapsed": false,
    "pycharm": {
     "name": "#%% md\n"
    }
   }
  },
  {
   "cell_type": "code",
   "execution_count": null,
   "outputs": [],
   "source": [
    "def reset_board():\n",
    "    global BOARD\n",
    "    global S_INDEX\n",
    "    BOARD = create_board()\n",
    "    integer = to_integer(BOARD, PIECE_LIST)\n",
    "    S_INDEX = find_situation_in_sequence(integer, S_N_INTEGERS)"
   ],
   "metadata": {
    "collapsed": false,
    "pycharm": {
     "name": "#%%\n"
    }
   }
  },
  {
   "cell_type": "markdown",
   "source": [
    "Zum Durchführen der Spielzüge im Board-Objekt wird die Hilfsfunktion `execute_move(move)` verwendet.\n",
    "Die Funktion erhält als Parameter:\n",
    " * `move`: Ein `chess.Move`, der ausgeführt werden soll.\n",
    "\n",
    "Zusätzlich wird in der Datei, die in unter dem Namen `FILENAME` zu finden ist, für den Halbzug ein Eintrag hinterlegt."
   ],
   "metadata": {
    "collapsed": false,
    "pycharm": {
     "name": "#%% md\n"
    }
   }
  },
  {
   "cell_type": "code",
   "execution_count": null,
   "outputs": [],
   "source": [
    "def execute_move(move):\n",
    "    global BOARD\n",
    "    global S_INDEX\n",
    "    global S_N_INTEGERS\n",
    "    turn = BOARD.turn\n",
    "    move_file = open(\"Played_Games/\" + FILENAME, \"a\")\n",
    "    if turn:\n",
    "        move_file.write(str(BOARD.fullmove_number) + \". \" + move.uci() + \" \")\n",
    "    else:\n",
    "        move_file.write(move.uci() + \"\\n\")\n",
    "    move_file.close()\n",
    "    BOARD.push(move)\n",
    "    integer = to_integer(BOARD, PIECE_LIST)\n",
    "    S_INDEX = find_situation_in_sequence(integer, S_N_INTEGERS)"
   ],
   "metadata": {
    "collapsed": false,
    "pycharm": {
     "name": "#%%\n"
    }
   }
  },
  {
   "cell_type": "markdown",
   "source": [
    "Gleichermaßen wurde eine Funktion zum Durchführen der Spielzüge der KI definiert.\n",
    "Die Funktion `execute_ai_move()` nutzt hierfür sowohl die Funktion `find_next_move(curr_board, s_index, s_n_sequence)` als auch `exeucute_move(move)` verwendet.\n",
    "Dadurch ist mit der Funktion `execute_ai_move()` die Bestimmung und die Durchführung eines Halbzugs der KI gegeben."
   ],
   "metadata": {
    "collapsed": false,
    "pycharm": {
     "name": "#%% md\n"
    }
   }
  },
  {
   "cell_type": "code",
   "execution_count": null,
   "outputs": [],
   "source": [
    "def execute_ai_move():\n",
    "    global S_INDEX\n",
    "    S_INDEX, next_move = find_next_move(BOARD, S_INDEX, S_N_INTEGERS)\n",
    "    if S_INDEX == -1:\n",
    "        print(\"No Move for white found\")\n",
    "    else:\n",
    "        execute_move(next_move)\n",
    "        reload_screen()"
   ],
   "metadata": {
    "collapsed": false,
    "pycharm": {
     "name": "#%%\n"
    }
   }
  },
  {
   "cell_type": "markdown",
   "source": [
    "Da die Anzeige des UI auf Notebook-Zellenausgaben basiert, muss diese auch nach einem neuen Halbzug geleert werden,\n",
    "sodass die Zelle nicht mit den Elementen überflutet wird. Hierfür aktualisiert die Funktion `reload_screen()` \n",
    "die Ausgabe und zeigt erneut das Schachbrett, das Eingabefeld für den nächsten Halbzug und den Knopf zum Ausführen des Halbzugs an."
   ],
   "metadata": {
    "collapsed": false,
    "pycharm": {
     "name": "#%% md\n"
    }
   }
  },
  {
   "cell_type": "code",
   "execution_count": null,
   "outputs": [],
   "source": [
    "def reload_screen():\n",
    "    clear_output()\n",
    "    display(BOARD, INPUT_FIELD, EXECUTE_BUTTON)\n",
    "    display(Javascript(\"setTimeout(function focus() {document.querySelector('input').focus()}, 100);\"))"
   ],
   "metadata": {
    "collapsed": false,
    "pycharm": {
     "name": "#%%\n"
    }
   }
  },
  {
   "cell_type": "markdown",
   "source": [
    "Die Funktion `show_end_screen()` hingegen zeigt nur das Schachbrett an."
   ],
   "metadata": {
    "collapsed": false,
    "pycharm": {
     "name": "#%% md\n"
    }
   }
  },
  {
   "cell_type": "code",
   "execution_count": null,
   "outputs": [],
   "source": [
    "def show_end_screen():\n",
    "    clear_output()\n",
    "    display(BOARD)"
   ],
   "metadata": {
    "collapsed": false,
    "pycharm": {
     "name": "#%%\n"
    }
   }
  },
  {
   "cell_type": "markdown",
   "source": [
    "Die `game_result()` Funktion gibt den Grund, weshalb das Spiel beendet wurde, als String zurück.\n",
    "Hierzu wird nur abgefragt, ob die Partie mit einem Schachmatt beendet wurde.\n",
    "Dies würde bedeuten, dass die Schach-Endspiel-KI gewonnen hat und demnach die Aufgabe der Studienarbeit erfolgreich bearbeitet wurde.\n",
    "In jeglichem anderen Fall wurde die Aufgabe nicht erfüllt.\n",
    "Aus diesem Grund müssen andere Spielausgänge nicht überprüft werden."
   ],
   "metadata": {
    "collapsed": false,
    "pycharm": {
     "name": "#%% md\n"
    }
   }
  },
  {
   "cell_type": "code",
   "execution_count": null,
   "outputs": [],
   "source": [
    "def game_result():\n",
    "    if BOARD.is_checkmate():\n",
    "        return get_color(BOARD.turn) + \" has lost because of Checkmate!\"\n",
    "    else:\n",
    "        return \"Something went wrong!\""
   ],
   "metadata": {
    "collapsed": false,
    "pycharm": {
     "name": "#%%\n"
    }
   }
  },
  {
   "cell_type": "markdown",
   "source": [
    "Für den `EXECUTE_BUTTON` und das `INPUT_FIELD` wird eine Funktion geschrieben, die für das Ausführen des Halbzugs verantwortlich ist.\n",
    "Diese wird entweder durch Klicken des Buttons oder Drücken der Enter-Taste aufgerufen. \n",
    "Das zuvor beschriebene Verhalten löst die Funktion `execute_entered_move(change)` aus.\n",
    "Für die Definition dieser Funktion werden zuvor jedoch zwei Hilfsfunktionen definiert."
   ],
   "metadata": {
    "collapsed": false,
    "pycharm": {
     "name": "#%% md\n"
    }
   }
  },
  {
   "cell_type": "markdown",
   "source": [
    "Die Funktion `evaluate_upcoming_board_situation()` überprüft, ob das `BOARD` Objekt sich in einem beendeten Zustand befindet. Dieser wird mithilfe von `game_result()` ausgewertet.\n",
    "\n",
    "> TODO: Wenn wir gleichermaßen wie bei den anderen Funktionen argumentieren sollte hier doch ein BOARD.is_checkmate() reichen, oder? Falls wir es so machen möchten is die Funktion game_result() unnötig @Lukas"
   ],
   "metadata": {
    "collapsed": false,
    "pycharm": {
     "name": "#%% md\n"
    }
   }
  },
  {
   "cell_type": "code",
   "execution_count": null,
   "outputs": [],
   "source": [
    "# TODO: Besseren Namen ausdenken xD\n",
    "def evaluate_upcoming_board_situation():\n",
    "    if BOARD.legal_moves.count() == 0:\n",
    "        show_end_screen()\n",
    "        print(game_result())"
   ],
   "metadata": {
    "collapsed": false,
    "pycharm": {
     "name": "#%%\n"
    }
   }
  },
  {
   "cell_type": "markdown",
   "source": [
    "Die Eingabe, die der Nutzer in Form des `INPUT_FIELD` tätigt, wird mit der Funktion `evaluate_input_field()`  ausgewertet.\n",
    "Sofern es sich bei der Eingabe um einen Spielzug handelt, wird dieser auf Validität überprüft.\n",
    "Ein valider Halbzug wird ausgeführt. Anschließend wird der nächste Halbzug der KI durchgeführt.\n",
    "Andernfalls wird der Nutzer zur erneuten Eingabe aufgefordert."
   ],
   "metadata": {
    "collapsed": false,
    "pycharm": {
     "name": "#%% md\n"
    }
   }
  },
  {
   "cell_type": "code",
   "execution_count": null,
   "outputs": [],
   "source": [
    "def evaluate_input_field():\n",
    "    black_move = chess.Move.from_uci(INPUT_FIELD.value)\n",
    "    if black_move in list(BOARD.legal_moves):\n",
    "        execute_move(black_move)\n",
    "        reset_input_field()\n",
    "        execute_ai_move()\n",
    "        evaluate_upcoming_board_situation()\n",
    "    else:\n",
    "        print(\"Entered an invalid move. Please try again!\")\n",
    "        print(INPUT_FIELD.value)\n",
    "        time.sleep(2)\n",
    "        reload_screen()"
   ],
   "metadata": {
    "collapsed": false,
    "pycharm": {
     "name": "#%%\n"
    }
   }
  },
  {
   "cell_type": "markdown",
   "source": [
    "Die Funktion `execute_entered_move(change)` wird mit der Betätigung des Buttons oder dem Drücken der Enter-Taste aufgerufen. Diese nutzt die Funktionen `evaluate_upcoming_board_situation()` und `evaluate_input_field()` zur Auswertung der Eingabe. Bei einer invaliden Eingabe (kein Spielzug) wird auch hier der Nutzer zur erneuten Eingabe aufgefordert."
   ],
   "metadata": {
    "collapsed": false,
    "pycharm": {
     "name": "#%% md\n"
    }
   }
  },
  {
   "cell_type": "code",
   "execution_count": null,
   "outputs": [],
   "source": [
    "def execute_entered_move(change):\n",
    "    try:\n",
    "        if INPUT_FIELD.value != '':\n",
    "            evaluate_input_field()\n",
    "        else:\n",
    "            print(\"Enter a move!\")\n",
    "            time.sleep(2)\n",
    "            reload_screen()\n",
    "    except ValueError:\n",
    "        print(\"Entered a wrong move. Please try again!\")\n",
    "        print(INPUT_FIELD.value)\n",
    "        time.sleep(2)\n",
    "        reload_screen()"
   ],
   "metadata": {
    "collapsed": false,
    "pycharm": {
     "name": "#%%\n"
    }
   }
  },
  {
   "cell_type": "markdown",
   "source": [
    "Damit die Funktion beim Klicken des `EXECUTE_BUTTON` oder durch Drücken der Enter-Taste ausgeführt wird, muss diese den `on_click` Events zugewiesen werden."
   ],
   "metadata": {
    "collapsed": false,
    "pycharm": {
     "name": "#%% md\n"
    }
   }
  },
  {
   "cell_type": "code",
   "execution_count": null,
   "outputs": [],
   "source": [
    "EXECUTE_BUTTON.on_click(execute_entered_move)\n",
    "INPUT_FIELD.on_submit(execute_entered_move)"
   ],
   "metadata": {
    "collapsed": false,
    "pycharm": {
     "name": "#%%\n"
    }
   }
  },
  {
   "cell_type": "markdown",
   "source": [
    "Für eine Wiederholung einer Partie wurden Funktionen im Notebook `04_play_from_history.ipynb` definiert. Diese nutzen eine angegebene Datei, die sich im Ordner `Played_Games` befindet. Diese Dateien sind wie folgt aufgebaut:\n",
    "1. Die erste Zeile des Dokuments beinhaltet die FEN der Ausgangssituation\n",
    "2. Die nachstehenden Zeilen haben folgendes Format:\n",
    "    * \\[Zugnummer\\] \\[Halbzug weiß\\] \\[Halbzug schwarz\\]\n",
    "    * Die Züge werden in Form von zwei aufeinander folgenden Feldern beschrieben. Beispiel: `e2e4`\n",
    "\n",
    "Zur Erstellung dieser Datei wurde die Funktion `create_move_history()` definiert.\n",
    "Sie fügt außerdem in die erste Zeile die FEN, die die Spielsituation beschreibt, ein.\n",
    "Die Datei trägt den Namen gespeichert in `FILENAME`."
   ],
   "metadata": {
    "collapsed": false,
    "pycharm": {
     "name": "#%% md\n"
    }
   }
  },
  {
   "cell_type": "code",
   "execution_count": null,
   "outputs": [],
   "source": [
    "def create_move_history():\n",
    "    update_filename(\"Move-History_\" + str(datetime.today().replace(microsecond=0)).replace(\":\",\"_\") + \".txt\")\n",
    "    move_file = open(\"Played_Games/\" + FILENAME, \"a\")\n",
    "    move_file.write(BOARD.fen() + \"\\n\")\n",
    "    move_file.close()"
   ],
   "metadata": {
    "collapsed": false,
    "pycharm": {
     "name": "#%%\n"
    }
   }
  },
  {
   "cell_type": "markdown",
   "source": [
    "Die Funktion `start_game()` bereitet alle Parameter für einen Spielverlauf vor. Dazu gehört:\n",
    "- Erstellung eines neuen Boards.\n",
    "- Das Erstellen einer neuen Historie für das neu begonnene Spiel.\n",
    "- Anzeigen der neuen Spielsituation.\n",
    "\n",
    "Die Implementierung sieht dabei vor, dass Weiß (also die KI) immer den ersten Halbzug hat."
   ],
   "metadata": {
    "collapsed": false,
    "pycharm": {
     "name": "#%% md\n"
    }
   }
  },
  {
   "cell_type": "code",
   "execution_count": null,
   "outputs": [],
   "source": [
    "def start_game():\n",
    "    global BOARD\n",
    "    reset_board()\n",
    "    create_move_history()\n",
    "    execute_ai_move()"
   ],
   "metadata": {
    "collapsed": false,
    "pycharm": {
     "name": "#%%\n"
    }
   }
  },
  {
   "cell_type": "markdown",
   "source": [
    "Mit dem Aufruf der Funktion `start_game` kann nun ein Spiel gegen die KI gestartet werden."
   ],
   "metadata": {
    "collapsed": false,
    "pycharm": {
     "name": "#%% md\n"
    }
   }
  },
  {
   "cell_type": "markdown",
   "source": [
    "> TODO: Folgenden Fehler abfangen: Wenn man in seiner aktuellen Position einen Turm bspw. auf dem Feld hat, muss man auch darauf achten, dass bei der verwendeten chessAI Datei (und damit auch in der Piece_List) auch die gleichen Figuren verwendet werden."
   ],
   "metadata": {
    "collapsed": false,
    "pycharm": {
     "name": "#%% md\n"
    }
   }
  },
  {
   "cell_type": "code",
   "execution_count": null,
   "outputs": [],
   "source": [
    "start_game()"
   ],
   "metadata": {
    "collapsed": false,
    "pycharm": {
     "name": "#%%\n"
    }
   }
  },
  {
   "cell_type": "code",
   "execution_count": null,
   "outputs": [],
   "source": [],
   "metadata": {
    "collapsed": false,
    "pycharm": {
     "name": "#%%\n"
    }
   }
  },
  {
   "cell_type": "code",
   "execution_count": null,
   "metadata": {
    "pycharm": {
     "name": "#%%\n"
    }
   },
   "outputs": [],
   "source": []
  }
 ],
 "metadata": {
  "kernelspec": {
   "display_name": "Python 3 (ipykernel)",
   "language": "python",
   "name": "python3"
  },
  "language_info": {
   "codemirror_mode": {
    "name": "ipython",
    "version": 3
   },
   "file_extension": ".py",
   "mimetype": "text/x-python",
   "name": "python",
   "nbconvert_exporter": "python",
   "pygments_lexer": "ipython3",
   "version": "3.9.13"
  }
 },
 "nbformat": 4,
 "nbformat_minor": 1
}