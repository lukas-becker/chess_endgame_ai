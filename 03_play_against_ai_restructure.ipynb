{
 "cells": [
  {
   "cell_type": "code",
   "execution_count": 1,
   "outputs": [
    {
     "data": {
      "text/plain": "<IPython.core.display.HTML object>",
      "text/html": "<link href='http://fonts.googleapis.com/css?family=Alegreya+Sans:100,300,400,500,700,800,900,100italic,300italic,400italic,500italic,700italic,800italic,900italic' rel='stylesheet' type='text/css'>\n<link href='http://fonts.googleapis.com/css?family=Arvo:400,700,400italic' rel='stylesheet' type='text/css'>\n<link href='http://fonts.googleapis.com/css?family=PT+Mono' rel='stylesheet' type='text/css'>\n<link href='http://fonts.googleapis.com/css?family=Shadows+Into+Light' rel='stylesheet' type='text/css'>\n<link href='http://fonts.googleapis.com/css?family=Philosopher:400,700,400italic,700italic' rel='stylesheet' type='text/css'>\n\n<style>\n\n@font-face {\n    font-family: \"Computer Modern\";\n    src: url('http://mirrors.ctan.org/fonts/cm-unicode/fonts/otf/cmunss.otf');\n}\n\n.container { width: 100% }\n\n/* Formatting for header cells */\n.text_cell_render h1 {\n    font-family: 'Philosopher', sans-serif;\n    font-weight: 400;\n    font-size: 2.2em;\n    line-height: 100%;\n    color: rgb(0, 80, 120);\n    margin-bottom: 0.1em;\n    margin-top: 0.1em;\n    display: block;\n}\n.text_cell_render h2 {\n    font-family: 'Philosopher', serif;\n    font-weight: 400;\n    font-size: 1.9em;\n    line-height: 100%;\n    color: rgb(200,100,0);\n    margin-bottom: 0.1em;\n    margin-top: 0.1em;\n    display: block;\n}\n\n.text_cell_render h3 {\n    font-family: 'Philosopher', serif;\n    margin-top:12px;\n    margin-bottom: 3px;\n    font-style: italic;\n    color: rgb(94,127,192);\n}\n\n.text_cell_render h4 {\n    font-family: 'Philosopher', serif;\n}\n\n.text_cell_render h5 {\n    font-family: 'Alegreya Sans', sans-serif;\n    font-weight: 300;\n    font-size: 16pt;\n    color: grey;\n    font-style: italic;\n    margin-bottom: .1em;\n    margin-top: 0.1em;\n    display: block;\n}\n\n.text_cell_render h6 {\n    font-family: 'PT Mono', sans-serif;\n    font-weight: 300;\n    font-size: 10pt;\n    color: grey;\n    margin-bottom: 1px;\n    margin-top: 1px;\n}\n\n.text_cell_render em {\n    font-family: 'Philosopher', sans-serif;\n    color:        blue;\n    background-color: rgb(255,220,180);\n    font-size:    110%;\n    margin-left:   2px;\n    margin-right:  2px;\n    font-weight:   100;\n}\n\n.text_cell_render b {\n    color:            rgb(255,195,195);\n    background-color: rgb(0,0,0);\n    font-size:    110%;\n    margin-left:   2px;\n    margin-right:  2px;\n    font-weight:   650;\n}\n\n.text_cell_render tt {\n    font-size:    120%;\n    margin-left:   2px;\n    margin-right:  2px;\n    font-weight:   150;\n}\n\n.Codemirror {\n    font-family: \"PT Mono\";\n    font-size: 100%;\n}\n\n</style>"
     },
     "execution_count": 1,
     "metadata": {},
     "output_type": "execute_result"
    }
   ],
   "source": [
    "from IPython.core.display import HTML, Javascript\n",
    "with open('style.html', 'r') as file:\n",
    "     css = file.read()\n",
    "HTML(css)"
   ],
   "metadata": {
    "collapsed": false,
    "pycharm": {
     "name": "#%%\n"
    }
   }
  },
  {
   "cell_type": "code",
   "execution_count": 1,
   "outputs": [],
   "source": [
    "%run Util/00_imports.ipynb\n",
    "%run Util/01_functions.ipynb"
   ],
   "metadata": {
    "collapsed": false,
    "pycharm": {
     "name": "#%%\n"
    }
   }
  },
  {
   "cell_type": "markdown",
   "source": [
    "> TODO: Überlegung, ob man die Positionen der Figuren auch anders für den Spieler angeben könnte\n",
    "> Folge TOD: Funktionen zur Erstellung des Schachbretts abändern, aktualisieren\n",
    "> TODO für neue Version: Benötigen die PIECE_LIST für die Erstellung der Schachbretter, da sie als Integer hinterlegt werden\n",
    "> Überlegung für neue Version: Wir benötigen dieses Mal nicht nur uniques, sondern alles -> Beim Auslesen die \"richtigen\" Mengen erstellen?\n",
    "> Weitere Überlegung: Wann sollte die Berechnung stattfinden (logischerweise abhängig von der Berechnungsdauer, aber dennoch eigentlich wichtige Frage)\n",
    "> TODO für alle Funktionen: An neue Speicherart anpassen und anderen TODO's berücksichtigen"
   ],
   "metadata": {
    "collapsed": false,
    "pycharm": {
     "name": "#%% md\n"
    }
   }
  },
  {
   "cell_type": "markdown",
   "source": [
    "# Erstellung des vorgegebenen Bretts"
   ],
   "metadata": {
    "collapsed": false,
    "pycharm": {
     "name": "#%% md\n"
    }
   }
  },
  {
   "cell_type": "code",
   "execution_count": 1,
   "outputs": [
    {
     "ename": "NameError",
     "evalue": "name 'chess' is not defined",
     "output_type": "error",
     "traceback": [
      "\u001B[1;31m---------------------------------------------------------------------------\u001B[0m",
      "\u001B[1;31mNameError\u001B[0m                                 Traceback (most recent call last)",
      "Input \u001B[1;32mIn [1]\u001B[0m, in \u001B[0;36m<cell line: 1>\u001B[1;34m()\u001B[0m\n\u001B[1;32m----> 1\u001B[0m WHITE_POSITIONS \u001B[38;5;241m=\u001B[39m {\u001B[43mchess\u001B[49m\u001B[38;5;241m.\u001B[39mKING:[\u001B[38;5;124m'\u001B[39m\u001B[38;5;124me1\u001B[39m\u001B[38;5;124m'\u001B[39m],\n\u001B[0;32m      2\u001B[0m                    chess\u001B[38;5;241m.\u001B[39mQUEEN:[\u001B[38;5;124m'\u001B[39m\u001B[38;5;124ma6\u001B[39m\u001B[38;5;124m'\u001B[39m],\n\u001B[0;32m      3\u001B[0m                    chess\u001B[38;5;241m.\u001B[39mROOK:[],\n\u001B[0;32m      4\u001B[0m                    chess\u001B[38;5;241m.\u001B[39mBISHOP:[],\n\u001B[0;32m      5\u001B[0m                    chess\u001B[38;5;241m.\u001B[39mKNIGHT:[],\n\u001B[0;32m      6\u001B[0m                    chess\u001B[38;5;241m.\u001B[39mPAWN:[]}\n\u001B[0;32m      8\u001B[0m BLACK_POSITIONS \u001B[38;5;241m=\u001B[39m {chess\u001B[38;5;241m.\u001B[39mKING:[\u001B[38;5;124m'\u001B[39m\u001B[38;5;124me7\u001B[39m\u001B[38;5;124m'\u001B[39m],\n\u001B[0;32m      9\u001B[0m                    chess\u001B[38;5;241m.\u001B[39mQUEEN:[],\n\u001B[0;32m     10\u001B[0m                    chess\u001B[38;5;241m.\u001B[39mROOK:[],\n\u001B[0;32m     11\u001B[0m                    chess\u001B[38;5;241m.\u001B[39mBISHOP:[],\n\u001B[0;32m     12\u001B[0m                    chess\u001B[38;5;241m.\u001B[39mKNIGHT:[],\n\u001B[0;32m     13\u001B[0m                    chess\u001B[38;5;241m.\u001B[39mPAWN:[]}\n",
      "\u001B[1;31mNameError\u001B[0m: name 'chess' is not defined"
     ]
    }
   ],
   "source": [
    "WHITE_POSITIONS = {chess.KING:['e1'],\n",
    "                   chess.QUEEN:['a6'],\n",
    "                   chess.ROOK:[],\n",
    "                   chess.BISHOP:[],\n",
    "                   chess.KNIGHT:[],\n",
    "                   chess.PAWN:[]}\n",
    "\n",
    "BLACK_POSITIONS = {chess.KING:['e7'],\n",
    "                   chess.QUEEN:[],\n",
    "                   chess.ROOK:[],\n",
    "                   chess.BISHOP:[],\n",
    "                   chess.KNIGHT:[],\n",
    "                   chess.PAWN:[]}"
   ],
   "metadata": {
    "collapsed": false,
    "pycharm": {
     "name": "#%%\n"
    }
   }
  },
  {
   "cell_type": "markdown",
   "source": [
    "> TODO: Funktionsbeschriftung\n",
    "> TODO: Kann die Wahl der zu spielenden Situation nicht mit einem Dropdown umgesetzt werden?\n",
    "> Anhand des Dropdowns kann daraufhin die Berechnung gestartet werden"
   ],
   "metadata": {
    "collapsed": false,
    "pycharm": {
     "name": "#%% md\n"
    }
   }
  },
  {
   "cell_type": "code",
   "execution_count": null,
   "outputs": [],
   "source": [
    "def get_occupied_cells():\n",
    "    cells = []\n",
    "    for values in WHITE_POSITIONS.values():\n",
    "        for value in values:\n",
    "            cells.append(value)\n",
    "    for values in BLACK_POSITIONS.values():\n",
    "        for value in values:\n",
    "            cells.append(value)\n",
    "    return cells"
   ],
   "metadata": {
    "collapsed": false,
    "pycharm": {
     "name": "#%%\n"
    }
   }
  },
  {
   "cell_type": "markdown",
   "source": [
    "> TODO: Funktionsbeschriftung"
   ],
   "metadata": {
    "collapsed": false,
    "pycharm": {
     "name": "#%% md\n"
    }
   }
  },
  {
   "cell_type": "code",
   "execution_count": null,
   "outputs": [],
   "source": [
    "def check_for_correct_cells():\n",
    "    cells = get_occupied_cells()\n",
    "    for cell in cells:\n",
    "        x = re.search(\"[a-h][1-8]\", cell)\n",
    "        if x is None:\n",
    "            print(cell)\n",
    "            print(\"Value incorrect!\")\n",
    "            return False\n",
    "    return True"
   ],
   "metadata": {
    "collapsed": false,
    "pycharm": {
     "name": "#%%\n"
    }
   }
  },
  {
   "cell_type": "markdown",
   "source": [
    "> TODO: Funktionsbeschriftung"
   ],
   "metadata": {
    "collapsed": false,
    "pycharm": {
     "name": "#%% md\n"
    }
   }
  },
  {
   "cell_type": "code",
   "execution_count": null,
   "outputs": [],
   "source": [
    "def collect_cells(color, pieces):\n",
    "    occupied_cells = {}\n",
    "    for piece_type, values in pieces:\n",
    "            piece = chess.Piece(piece_type, color)\n",
    "            for value in values:\n",
    "                square = chess.parse_square(value)\n",
    "                occupied_cells[square] = piece\n",
    "    return occupied_cells"
   ],
   "metadata": {
    "collapsed": false,
    "pycharm": {
     "name": "#%%\n"
    }
   }
  },
  {
   "cell_type": "markdown",
   "source": [
    "> TODO: Funktionsbeschriftung"
   ],
   "metadata": {
    "collapsed": false,
    "pycharm": {
     "name": "#%% md\n"
    }
   }
  },
  {
   "cell_type": "code",
   "execution_count": null,
   "outputs": [],
   "source": [
    "def create_board():\n",
    "    local_board = chess.Board(None)\n",
    "    occupied_cells = {}\n",
    "    if check_for_correct_cells():\n",
    "        occupied_cells |= collect_cells(chess.WHITE, WHITE_POSITIONS.items())\n",
    "        occupied_cells |= collect_cells(chess.BLACK, BLACK_POSITIONS.items())\n",
    "\n",
    "        local_board.set_piece_map(occupied_cells)\n",
    "        # Sollten wir nicht abhängig, ob ein Turm auf dem Spielfeld steht nicht hinterfragen, ob die Rochade bereits durchgeführt worden ist?\n",
    "        local_board.castling_rights = local_board.clean_castling_rights()\n",
    "\n",
    "        if not local_board.is_valid():\n",
    "            display(local_board)\n",
    "            print(\"Specified lineup is invalid\")\n",
    "            print(\"Default board created instead\")\n",
    "            local_board = chess.Board()\n",
    "    return local_board"
   ],
   "metadata": {
    "collapsed": false,
    "pycharm": {
     "name": "#%%\n"
    }
   }
  },
  {
   "cell_type": "markdown",
   "source": [
    "> TODO: Funktionsbeschriftung\n",
    "> TODO: Abhängig von der Entscheidung wie gewählt wird, findet hier der Start der Berechnung statt bzw. das Laden der KI mit Piece List"
   ],
   "metadata": {
    "collapsed": false,
    "pycharm": {
     "name": "#%% md\n"
    }
   }
  },
  {
   "cell_type": "code",
   "execution_count": null,
   "outputs": [],
   "source": [
    "def load_ki():\n",
    "    pass\n",
    "\n",
    "# Neue Version von load_s_n_sequence(filename)\n",
    "\n",
    "'''\n",
    "def load_s_n_sequence(filename):\n",
    "    s_n_sequence_tuples = []\n",
    "    with ZipFile(\"S_n_Results/\" + filename + \".chessAI\") as zipped:\n",
    "        with zipped.open(filename + \".pickle\") as calculation:\n",
    "            tmp = pickle.loads(calculation.read())\n",
    "            for item in tmp:\n",
    "                s_n_sequence_tuples.append(item)\n",
    "    return s_n_sequence_tuples\n",
    "'''"
   ],
   "metadata": {
    "collapsed": false,
    "pycharm": {
     "name": "#%%\n"
    }
   }
  },
  {
   "cell_type": "markdown",
   "source": [
    "> TODO: Funktionsbeschriftung\n",
    "> TODO: gilt es neu zu definieren, wobei es zu hinterfragen gibt, ob man wirklich die s_index + s_n_sequence als Übergabeparameter benötigt, weil wenn man durch die Menge geht kann man voraussichtlich schnell das nächste Brett finden\n",
    "> TODO: find_situation_in_sequence muss ebenfalls überarbeitet werden, da nicht mehr in dieser Form notwendig"
   ],
   "metadata": {
    "collapsed": false,
    "pycharm": {
     "name": "#%% md\n"
    }
   }
  },
  {
   "cell_type": "code",
   "execution_count": null,
   "outputs": [],
   "source": [
    "def find_next_move():\n",
    "    pass"
   ],
   "metadata": {
    "collapsed": false,
    "pycharm": {
     "name": "#%%\n"
    }
   }
  },
  {
   "cell_type": "markdown",
   "source": [
    "# Globale Variablen für die Anzeige\n",
    "\n",
    "> TODO: Wenn wirklich globale Variablen dann in Caps schreiben"
   ],
   "metadata": {
    "collapsed": false,
    "pycharm": {
     "name": "#%% md\n"
    }
   }
  },
  {
   "cell_type": "code",
   "execution_count": null,
   "outputs": [],
   "source": [
    "# Sollten diese nicht ebenfalls in caps geschrieben werden?\n",
    "# TODO: Tooltip anpassen\n",
    "input_field = widgets.Text()\n",
    "\n",
    "execute_button = widgets.Button(\n",
    "    description='Execute Move',\n",
    "    disabled=False,\n",
    "    button_style='',\n",
    "    tooltip='Executes the written move.',\n",
    "    icon='check'\n",
    ")"
   ],
   "metadata": {
    "collapsed": false,
    "pycharm": {
     "name": "#%%\n"
    }
   }
  },
  {
   "cell_type": "markdown",
   "source": [
    "# Globale Variablen für den aktuellen Zustand\n",
    "\n",
    "> TODO: Sollte S_N_TUPLES einfach so definiert werden?\n",
    "> TODO: Prüfen: Brauchen wir noch beide Indizes?\n",
    "> TODO: Sollten nicht alle globalen Variablen an einem Ort definiert werden?"
   ],
   "metadata": {
    "collapsed": false,
    "pycharm": {
     "name": "#%% md\n"
    }
   }
  },
  {
   "cell_type": "code",
   "execution_count": null,
   "outputs": [],
   "source": [
    "S_N_TUPLES = load_s_n_sequence(FILE)\n",
    "S_INDEX = 0\n",
    "BOARD_INDEX = 0"
   ],
   "metadata": {
    "collapsed": false,
    "pycharm": {
     "name": "#%%\n"
    }
   }
  },
  {
   "cell_type": "markdown",
   "source": [
    "> TODO: Funktionsbeschriftung\n",
    "> TODO: Brauchen wir noch die Funktion?"
   ],
   "metadata": {
    "collapsed": false,
    "pycharm": {
     "name": "#%% md\n"
    }
   }
  },
  {
   "cell_type": "code",
   "execution_count": null,
   "outputs": [],
   "source": [
    "def get_color(turn):\n",
    "    if turn:\n",
    "        return \"White\"\n",
    "    else:\n",
    "        return \"Black\""
   ],
   "metadata": {
    "collapsed": false,
    "pycharm": {
     "name": "#%%\n"
    }
   }
  },
  {
   "cell_type": "markdown",
   "source": [
    "> TODO: Funktionsbeschriftung\n",
    "> TODO: Muss FILENAME wirklich global sein?"
   ],
   "metadata": {
    "collapsed": false,
    "pycharm": {
     "name": "#%% md\n"
    }
   }
  },
  {
   "cell_type": "code",
   "execution_count": null,
   "outputs": [],
   "source": [
    "def update_filename(new_value):\n",
    "    global FILENAME\n",
    "    FILENAME = new_value"
   ],
   "metadata": {
    "collapsed": false,
    "pycharm": {
     "name": "#%%\n"
    }
   }
  },
  {
   "cell_type": "markdown",
   "source": [
    "> TODO: Funktionsbeschriftung"
   ],
   "metadata": {
    "collapsed": false,
    "pycharm": {
     "name": "#%% md\n"
    }
   }
  },
  {
   "cell_type": "code",
   "execution_count": null,
   "outputs": [],
   "source": [
    "def reset_input_field():\n",
    "    global input_field\n",
    "    input_field.value = ''"
   ],
   "metadata": {
    "collapsed": false,
    "pycharm": {
     "name": "#%%\n"
    }
   }
  },
  {
   "cell_type": "markdown",
   "source": [
    "> TODO: Funktionsbeschriftung"
   ],
   "metadata": {
    "collapsed": false,
    "pycharm": {
     "name": "#%% md\n"
    }
   }
  },
  {
   "cell_type": "code",
   "execution_count": null,
   "outputs": [],
   "source": [
    "def reset_board():\n",
    "    global BOARD\n",
    "    BOARD = create_board()\n",
    "    global S_INDEX\n",
    "    global BOARD_INDEX\n",
    "    tupel = (BOARD.turn, BOARD.__str__())\n",
    "    S_INDEX = find_situation_in_sequence(tupel, S_N_TUPLES)\n",
    "    if BOARD.turn:\n",
    "        S_INDEX, move = find_next_move(BOARD, S_INDEX, S_N_TUPLES)\n",
    "        if S_INDEX == -1:\n",
    "            print(\"No Move for white found\")\n",
    "        else:\n",
    "            execute_move(move, BOARD.turn)\n",
    "            reload_screen()"
   ],
   "metadata": {
    "collapsed": false,
    "pycharm": {
     "name": "#%%\n"
    }
   }
  },
  {
   "cell_type": "markdown",
   "source": [
    "> TODO: Funktionsbeschriftung"
   ],
   "metadata": {
    "collapsed": false,
    "pycharm": {
     "name": "#%% md\n"
    }
   }
  },
  {
   "cell_type": "code",
   "execution_count": null,
   "outputs": [],
   "source": [
    "def execute_move(move, turn):\n",
    "    global BOARD\n",
    "    global S_INDEX\n",
    "    global BOARD_INDEX\n",
    "    move_file = open(\"Played_Games/\" + FILENAME, \"a\")\n",
    "    if turn:\n",
    "        move_file.write(str(BOARD.fullmove_number) + \". \" + move.uci() + \" \")\n",
    "    else:\n",
    "        move_file.write(move.uci() + \"\\n\")\n",
    "    move_file.close()\n",
    "    BOARD.push(move)\n",
    "    tupel = (BOARD.turn, BOARD.__str__())\n",
    "    S_INDEX = find_situation_in_sequence(tupel, S_N_TUPLES)"
   ],
   "metadata": {
    "collapsed": false,
    "pycharm": {
     "name": "#%%\n"
    }
   }
  },
  {
   "cell_type": "markdown",
   "source": [
    "> TODO: Funktionsbeschriftung\n",
    "> TODO: Überführung der beiden Dictionaries in ein Dictionary\n",
    "> TODO: Brauchen wir die Überführung in Namen, reicht nicht das chess.SQUARE Objekt?"
   ],
   "metadata": {
    "collapsed": false,
    "pycharm": {
     "name": "#%% md\n"
    }
   }
  },
  {
   "cell_type": "code",
   "execution_count": null,
   "outputs": [],
   "source": [
    "def get_pieces_placed_on_board(color):\n",
    "    piece_type_to_string = {\n",
    "        1 : \"Pawn\",\n",
    "        2 : \"Knight\",\n",
    "        3 : \"Bishop\",\n",
    "        4 : \"Rook\",\n",
    "        5 : \"Queen\",\n",
    "        6 : \"King\"\n",
    "    }\n",
    "    pieces_with_position = {\n",
    "        \"Pawn\" : [],\n",
    "        \"Knight\" : [],\n",
    "        \"Bishop\" : [],\n",
    "        \"Rook\" : [],\n",
    "        \"Queen\" : [],\n",
    "        \"King\" : []\n",
    "    }\n",
    "    for piece_square, color_piece in BOARD.piece_map().items():\n",
    "        if color_piece.color == color:\n",
    "            pieces_with_position[piece_type_to_string[color_piece.piece_type]].append(chess.square_name(piece_square))\n",
    "    return pieces_with_position"
   ],
   "metadata": {
    "collapsed": false,
    "pycharm": {
     "name": "#%%\n"
    }
   }
  },
  {
   "cell_type": "markdown",
   "source": [
    "> TODO: Funktionsbeschriftung\n",
    "> TODO: Kann das square nicht ebenfalls ein chess.Square sein?"
   ],
   "metadata": {
    "collapsed": false,
    "pycharm": {
     "name": "#%% md\n"
    }
   }
  },
  {
   "cell_type": "code",
   "execution_count": null,
   "outputs": [],
   "source": [
    "def get_moves_from_square(square, legal_moves):\n",
    "    moves = []\n",
    "    for possible_move in legal_moves:\n",
    "        if square == chess.square_name(possible_move.from_square):\n",
    "            moves.append(possible_move)\n",
    "    return moves"
   ],
   "metadata": {
    "collapsed": false,
    "pycharm": {
     "name": "#%%\n"
    }
   }
  },
  {
   "cell_type": "markdown",
   "source": [
    "> TODO: Funktionsbeschriftung"
   ],
   "metadata": {
    "collapsed": false,
    "pycharm": {
     "name": "#%% md\n"
    }
   }
  },
  {
   "cell_type": "code",
   "execution_count": null,
   "outputs": [],
   "source": [
    "def reload_screen():\n",
    "    clear_output()\n",
    "    display(BOARD, input_field, execute_button)\n",
    "    # Vorschlag: Diese Zeile in eine Funktion in eine Namens: Set_Focus setzen, damit man das nochmal sauber trennt, da ansonsten nicht ersichtlich weshalb diese Zeile Code notwendig ist\n",
    "    display(Javascript(\"setTimeout(function focus() {document.querySelector('input').focus()}, 100);\"))"
   ],
   "metadata": {
    "collapsed": false,
    "pycharm": {
     "name": "#%%\n"
    }
   }
  },
  {
   "cell_type": "markdown",
   "source": [
    "> TODO: Funktionsbeschriftung"
   ],
   "metadata": {
    "collapsed": false,
    "pycharm": {
     "name": "#%% md\n"
    }
   }
  },
  {
   "cell_type": "code",
   "execution_count": null,
   "outputs": [],
   "source": [
    "def show_end_screen():\n",
    "    clear_output()\n",
    "    display(BOARD)"
   ],
   "metadata": {
    "collapsed": false,
    "pycharm": {
     "name": "#%%\n"
    }
   }
  },
  {
   "cell_type": "markdown",
   "source": [
    "> TODO: Funktionsbeschriftung\n",
    "> TODO: game_result so anpassen, dass nur noch die notwendigen Ergebnisse angezeigt werden können. Auch in Form eines Kommentars bemerken, weshalb wir uns dafür entschieden haben"
   ],
   "metadata": {
    "collapsed": false,
    "pycharm": {
     "name": "#%% md\n"
    }
   }
  },
  {
   "cell_type": "code",
   "execution_count": null,
   "outputs": [],
   "source": [
    "def game_result(result):\n",
    "    if result == Termination.CHECKMATE:\n",
    "        return get_color(BOARD.turn) + \" has lost because of Checkmate!\"\n",
    "    elif result == Termination.STALEMATE:\n",
    "        return \"It's a draw!\"\n",
    "    elif result == Termination.INSUFFICIENT_MATERIAL:\n",
    "        return \"No side can win the game anymore!\"\n",
    "    elif result == Termination.SEVENTYFIVE_MOVES:\n",
    "        return \"The game is drawn because half-move clock is greater than 150 since a capture or a pwn has been moved.\"\n",
    "    elif result == Termination.FIVEFOLD_REPETITION:\n",
    "        return \"The game is drawn because the current position occurred the fifth time!\"\n",
    "    elif result == Termination.FIFTY_MOVES:\n",
    "        return \"The game is drawn because half-move clock is greater than 100 since a capture or a pwn has been moved.\"\n",
    "    elif result == Termination.THREEFOLD_REPETITION:\n",
    "        return \"The game is drawn because the current position occurred the third time!\"\n",
    "    elif result == Termination.VARIANT_WIN:\n",
    "        return get_color(BOARD.turn) + \" has won because of variant-specific conditions\"\n",
    "    elif result == Termination.VARIANT_LOSS:\n",
    "        return get_color(BOARD.turn) + \" has lost because of variant-specific conditions\"\n",
    "    elif result == Termination.VARIANT_DRAW:\n",
    "        return \"Game is drawn because of variant-specific conditions!\"\n",
    "    else:\n",
    "        return \"Something went wrong!\""
   ],
   "metadata": {
    "collapsed": false,
    "pycharm": {
     "name": "#%%\n"
    }
   }
  },
  {
   "cell_type": "markdown",
   "source": [
    "> TODO: Funktionsbeschriftung\n",
    "> TODO: Funktion in kleinere Unterfunktionen splitten\n",
    "> TODO: Möglicherweise den Block: print, sleep, display"
   ],
   "metadata": {
    "collapsed": false,
    "pycharm": {
     "name": "#%% md\n"
    }
   }
  },
  {
   "cell_type": "code",
   "execution_count": null,
   "outputs": [],
   "source": [
    "def execute_entered_move(change):\n",
    "    global BOARD\n",
    "    global S_INDEX\n",
    "    global BOARD_INDEX\n",
    "    try:\n",
    "        if input_field.value != '':\n",
    "            black_move = chess.Move.from_uci(input_field.value)\n",
    "            if black_move in list(BOARD.legal_moves):\n",
    "                execute_move(black_move, BOARD.turn)\n",
    "                reset_input_field()\n",
    "                # Next AI move executed by white\n",
    "                S_INDEX, next_move = find_next_move(BOARD, S_INDEX, S_N_TUPLES)\n",
    "                if S_INDEX == -1:\n",
    "                    print(\"No Move for white found\")\n",
    "                else:\n",
    "                    execute_move(next_move, BOARD.turn)\n",
    "                    reload_screen()\n",
    "                if BOARD.legal_moves.count() == 0:\n",
    "                    # If wanted add different endings\n",
    "                    show_end_screen()\n",
    "                    result = BOARD.outcome().termination\n",
    "                    print(game_result(result))\n",
    "            else:\n",
    "                print(\"Entered a wrong move. Please try again!\")\n",
    "                print(input_field.value)\n",
    "                time.sleep(2)\n",
    "                reload_screen()\n",
    "        else:\n",
    "            print(\"Enter a move!\")\n",
    "            time.sleep(2)\n",
    "            reload_screen()\n",
    "    except ValueError:\n",
    "        print(\"Entered a wrong move. Please try again!\")\n",
    "        print(input_field.value)\n",
    "        time.sleep(2)\n",
    "        reload_screen()"
   ],
   "metadata": {
    "collapsed": false,
    "pycharm": {
     "name": "#%%\n"
    }
   }
  },
  {
   "cell_type": "markdown",
   "source": [
    "Binding der UI-Elemente"
   ],
   "metadata": {
    "collapsed": false,
    "pycharm": {
     "name": "#%% md\n"
    }
   }
  },
  {
   "cell_type": "code",
   "execution_count": null,
   "outputs": [],
   "source": [
    "execute_button.on_click(execute_entered_move)\n",
    "input_field.on_submit(execute_entered_move)"
   ],
   "metadata": {
    "collapsed": false,
    "pycharm": {
     "name": "#%%\n"
    }
   }
  },
  {
   "cell_type": "markdown",
   "source": [
    "> TODO: Funktionsbeschriftung\n",
    "> TODO: Kürzerer Dateiname?"
   ],
   "metadata": {
    "collapsed": false,
    "pycharm": {
     "name": "#%% md\n"
    }
   }
  },
  {
   "cell_type": "code",
   "execution_count": null,
   "outputs": [],
   "source": [
    "def start_game():\n",
    "    global BOARD\n",
    "    BOARD = create_board()\n",
    "    update_filename(\"Move-History_\" + str(datetime.today().replace(microsecond=0)).replace(\":\",\"_\") + \".txt\")\n",
    "    move_file = open(\"Played_Games/\" + FILENAME, \"a\")\n",
    "    move_file.write(BOARD.fen() + \"\\n\")\n",
    "    move_file.close()\n",
    "    reset_board()"
   ],
   "metadata": {
    "collapsed": false,
    "pycharm": {
     "name": "#%%\n"
    }
   }
  }
 ],
 "metadata": {
  "kernelspec": {
   "display_name": "Python 3",
   "language": "python",
   "name": "python3"
  },
  "language_info": {
   "codemirror_mode": {
    "name": "ipython",
    "version": 2
   },
   "file_extension": ".py",
   "mimetype": "text/x-python",
   "name": "python",
   "nbconvert_exporter": "python",
   "pygments_lexer": "ipython2",
   "version": "2.7.6"
  }
 },
 "nbformat": 4,
 "nbformat_minor": 0
}