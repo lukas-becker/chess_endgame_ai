{
 "cells": [
  {
   "cell_type": "code",
   "execution_count": null,
   "metadata": {
    "pycharm": {
     "name": "#%%\n"
    }
   },
   "outputs": [],
   "source": [
    "from IPython.core.display import HTML\n",
    "with open('style.html', 'r') as file:\n",
    "     css = file.read()\n",
    "HTML(css)"
   ]
  },
  {
   "cell_type": "markdown",
   "metadata": {
    "pycharm": {
     "name": "#%% md\n"
    }
   },
   "source": [
    "# Spieler gegen KI"
   ]
  },
  {
   "cell_type": "markdown",
   "metadata": {
    "pycharm": {
     "name": "#%% md\n"
    }
   },
   "source": [
    "## Für das Notebook benötigte Imports\n",
    "* `ipywidgets`: Anzeige von Buttons und ähnlichen Widgets.\n",
    "* `display`, `clear_output`: Funktionen aus der IPython.display Library die zur besseren Darstellung verwendet werden.\n",
    "* `chess`: Die Schachbibliothek, welche die Funktion des Schachspiels verwaltet.\n",
    "* `time`: Wird für Verzögerungen, welche der besseren Nutzbarkeit dienen verwendet.\n",
    "* `datetime`: Wird für die Benennung der Play-History verwendet.\n",
    "* `json`: Wird für den Import der Endspiel-Datenbank verwendet."
   ]
  },
  {
   "cell_type": "code",
   "execution_count": null,
   "metadata": {},
   "outputs": [],
   "source": [
    "import ipywidgets as widgets\n",
    "from IPython.display import display, clear_output\n",
    "import chess\n",
    "import time\n",
    "from datetime import datetime\n",
    "from chess import Termination\n",
    "import json"
   ]
  },
  {
   "cell_type": "markdown",
   "metadata": {},
   "source": [
    "## Erstellung eines eigenen Spielfeldes\n",
    "\n",
    "Zur Erstellung eines individuellen Spielfeldes werden zwei Dictionaries verwendet. Diese\n",
    "besitzen jeweils als `key` die Figur, die auf dem Spielfeld platziert werden soll. Als `value` besitzen die Einträge\n",
    "jeweils eine Liste, die mit Namen der Felder gefüllt werden müssen, auf denen die jeweilige Figur stehen soll."
   ]
  },
  {
   "cell_type": "code",
   "execution_count": null,
   "metadata": {
    "pycharm": {
     "name": "#%%\n"
    }
   },
   "outputs": [],
   "source": [
    "WHITE_POSITIONS = {'king':['e1'],\n",
    "                   'queen':[],\n",
    "                   'rooks':['a1'],\n",
    "                   'bishops':[],\n",
    "                   'knights':[],\n",
    "                   'pawns':[]}\n",
    "\n",
    "BLACK_POSITIONS = {'king':['e8'],\n",
    "                   'queen':[],\n",
    "                   'rooks':[],\n",
    "                   'bishops':[],\n",
    "                   'knights':[],\n",
    "                   'pawns':[]}"
   ]
  },
  {
   "cell_type": "markdown",
   "metadata": {},
   "source": [
    "## Die *get_occupied_cells* Hilfsfunktion\n",
    "Die Funktion übersetzt die zuvor erstellten Dictionaries in eine Liste, die alle `values` der\n",
    "Dictionaries enthält.\n",
    "\n",
    "Funktionsparameter:\n",
    "* Keine\n",
    "\n",
    "Nebeneffekte:\n",
    "* Keine\n",
    "\n",
    "Ergebnis der Ausführung:\n",
    "* Eine Liste aller verwendeten Zellen"
   ]
  },
  {
   "cell_type": "code",
   "execution_count": null,
   "metadata": {
    "pycharm": {
     "name": "#%%\n"
    }
   },
   "outputs": [],
   "source": [
    "def get_occupied_cells():\n",
    "    cells = []\n",
    "    for values in WHITE_POSITIONS.values():\n",
    "        for value in values:\n",
    "            cells.append(value)\n",
    "    for values in BLACK_POSITIONS.values():\n",
    "        for value in values:\n",
    "            cells.append(value)\n",
    "    return cells"
   ]
  },
  {
   "cell_type": "markdown",
   "metadata": {},
   "source": [
    "## Die *check_correct_cells* Hilfsfunktion\n",
    "Die Funktion `check_for_correct_cells()` überprüft die eingegebenen Felder in den Dictionaries `WHITE_POSITIONS` und\n",
    "`BLACK_POSITIONS` auf deren Korrektheit. Diese wird in Form eines booleschen Werts angegeben.\n",
    "\n",
    "Funktionsargumente:\n",
    "* Keine\n",
    "\n",
    "Nebeneffekte:\n",
    "* Keine\n",
    "\n",
    "Ergebnis der Ausführung:\n",
    "* Ein Boolscher-Wert, welcher angibt, ob alle vom Nutzer eingegebenen Werte valide sind."
   ]
  },
  {
   "cell_type": "code",
   "execution_count": null,
   "metadata": {
    "pycharm": {
     "name": "#%%\n"
    }
   },
   "outputs": [],
   "source": [
    "import re\n",
    "def check_for_correct_cells():\n",
    "    cells = get_occupied_cells()\n",
    "    for cell in cells:\n",
    "        x = re.search(\"[a-h][1-8]\", cell)\n",
    "        if x is None:\n",
    "            print(cell)\n",
    "            print(\"Value incorrect!\")\n",
    "            return False\n",
    "        else:\n",
    "            pass\n",
    "    return True"
   ]
  },
  {
   "cell_type": "markdown",
   "metadata": {},
   "source": [
    "## Die *create_board* Hilfsfunktion\n",
    "Die Funktion `create_board()` füllt das Schachbrett mit den Figuren, die in den Dictionaries angegeben wurden. Als\n",
    "Rückgabewert gibt die Funktion das gefüllte Schachbrett zurück.\n",
    "\n",
    "Funktionsargumente:\n",
    "* Keine\n",
    "\n",
    "Nebeneffekte:\n",
    "* Keine\n",
    "\n",
    "Ergebnis der Ausführung:\n",
    "* Ein Spielfeld als Objekt der `chess` Library, welches die vom Nutzer eingegebene Spielsituation darstellt.\n",
    "\n",
    "Algorithmus:\n",
    "* Wenn korrekte Zellen eingegeben wurden.\n",
    "* Alle eingegebenen Positionen überprüfen und den Figurtyp wählen.\n",
    "* Figur an angegebener Stelle platzieren.\n",
    "* Castling Rights zurücksetzen, da Boards mit einem Turm sonst als invalide bezeichnet werden.\n",
    "* Wenn das Spielbrett gegen Schach-Regeln verstößt (invalide ist) -> ersetzen durch das standard Layout\n",
    "* Zurückgeben des Spielbretts."
   ]
  },
  {
   "cell_type": "code",
   "execution_count": null,
   "metadata": {
    "pycharm": {
     "name": "#%%\n"
    }
   },
   "outputs": [],
   "source": [
    "def create_board():\n",
    "    local_board = chess.Board()\n",
    "    occupied_cells = {}\n",
    "    if check_for_correct_cells():\n",
    "        for key, values in WHITE_POSITIONS.items():\n",
    "            if key == 'king':\n",
    "                piece_type = chess.KING\n",
    "            elif key == 'queen':\n",
    "                piece_type = chess.QUEEN\n",
    "            elif key == 'rooks':\n",
    "                piece_type = chess.ROOK\n",
    "            elif key == 'bishops':\n",
    "                piece_type = chess.BISHOP\n",
    "            elif key == 'knights':\n",
    "                piece_type = chess.KNIGHT\n",
    "            else:\n",
    "                piece_type = chess.PAWN\n",
    "            piece = chess.Piece(piece_type, chess.WHITE)\n",
    "            for value in values:\n",
    "                square = chess.parse_square(value)\n",
    "                occupied_cells[square] = piece\n",
    "        for key, values in BLACK_POSITIONS.items():\n",
    "            if key == 'king':\n",
    "                piece_type = chess.KING\n",
    "            elif key == 'queen':\n",
    "                piece_type = chess.QUEEN\n",
    "            elif key == 'rooks':\n",
    "                piece_type = chess.ROOK\n",
    "            elif key == 'bishops':\n",
    "                piece_type = chess.BISHOP\n",
    "            elif key == 'knights':\n",
    "                piece_type = chess.KNIGHT\n",
    "            else:\n",
    "                piece_type = chess.PAWN\n",
    "            piece = chess.Piece(piece_type, chess.BLACK)\n",
    "            for value in values:\n",
    "                square = chess.parse_square(value)\n",
    "                occupied_cells[square] = piece\n",
    "\n",
    "        local_board.set_piece_map(occupied_cells)\n",
    "        local_board.castling_rights = local_board.clean_castling_rights()\n",
    "        \n",
    "        # Herausfinden, weshalb momentan angegebenes Board invalid ist\n",
    "        if not local_board.is_valid():\n",
    "            display(local_board)\n",
    "            print(\"Specified lineup is invalid\")\n",
    "            print(\"Instead standard board created\")\n",
    "            local_board = chess.Board()\n",
    "    return local_board"
   ]
  },
  {
   "cell_type": "markdown",
   "metadata": {
    "pycharm": {
     "name": "#%% md\n"
    }
   },
   "source": [
    "## Die *load_s_n_sequence* Hilfsfunktion zum Import der Daten\n",
    "Die Daten wurden als FEN in der JSON-Datei Serialisiert.\n",
    "Zum Initialisieren der Liste werden alle FENs aus einer Datei gelesen und Board-Objekte erstellt.\n",
    "\n",
    "Funktionsparameter:\n",
    "* `filepath`: Pfad zur Datei, welche die $S_n$ Sequenz enthält\n",
    "\n",
    "Nebeneffekte:\n",
    "* Keine\n",
    "\n",
    "Ergebnis der Ausführung:\n",
    "* Listen Objekt mit der $S_n$ Sequenz"
   ]
  },
  {
   "cell_type": "code",
   "execution_count": null,
   "metadata": {
    "pycharm": {
     "name": "#%%\n"
    }
   },
   "outputs": [],
   "source": [
    "def load_s_n_sequence(filepath):\n",
    "    s_n_sequence_new = []\n",
    "    f = open(filepath, \"r\")\n",
    "    tmp = json.loads(f.read())\n",
    "    for item in tmp:\n",
    "        tmp_list = []\n",
    "        for board in item:\n",
    "            tmp_list.append(chess.Board(board))\n",
    "        s_n_sequence_new.append(tmp_list)\n",
    "    f.close()\n",
    "    return s_n_sequence_new"
   ]
  },
  {
   "cell_type": "markdown",
   "metadata": {},
   "source": [
    "## die *find_board_in_sequence* Hilfsfunktion\n",
    "\n",
    "Diese Funktion durchsucht eine $S_n$ Sequenz nach dem ersten Vorkommen eines übergebenen Board-Objekts.\n",
    "\n",
    "Funktionsargumente:\n",
    "* situation: Das Board (als Objekt), welches gefunden werden soll\n",
    "* sequence: Die $S_n$ Sequenz, in welcher das Board gesucht wird\n",
    "\n",
    "Ergebnis der Ausführung:\n",
    "* Die Funktion hat zwei mögliche Rückgaben:\n",
    "  * Ein Tupel mit $S_n$ Index (z.B. $S_3$) und Board-Index (z.B. 100).\n",
    "    Dieses Tupel drückt aus, wo in der Sequenz das Board gefunden wurde.\n",
    "  * Das Tupel (-1,-1). Dies drückt aus, dass das Board nicht gefunden wurde.\n",
    "\n",
    "Nebeneffekte:\n",
    "Die Funktion verändert keinen der übergebenen Parameter.\n",
    "\n",
    "Algorithmus:\n",
    "1. Über die $S_n$ Sequenz iterieren.\n",
    "2. Über jedes Board in einem spezifischem $S_n$ iterieren.\n",
    "3. Das Board mit dem `situation` Objekt vergleichen.\n",
    "    1. Wenn das Board übereinstimmt, die Indizes zurückgeben.\n",
    "    2. Wenn das Board nicht übereinstimmt, weitersuchen."
   ]
  },
  {
   "cell_type": "code",
   "execution_count": null,
   "metadata": {
    "pycharm": {
     "name": "#%%\n"
    }
   },
   "outputs": [],
   "source": [
    "def find_board_in_sequence(situation, sequence):\n",
    "    board_str = (situation.turn, situation.__str__())\n",
    "\n",
    "    for i in range(len(sequence)):\n",
    "        for j in range(len(sequence[i])):\n",
    "            item = sequence[i][j]\n",
    "            if board_str == (item.turn, item.__str__()):\n",
    "                return i, j\n",
    "    return -1,-1"
   ]
  },
  {
   "cell_type": "markdown",
   "metadata": {
    "pycharm": {
     "name": "#%% md\n"
    }
   },
   "source": [
    "## Die *find_next_move* Hilfsfunktion\n",
    "Diese Funktion berechnet aus einem übergebenen Board den idealen Spielzug.\n",
    "Aus Effizienzgründen gibt sie auch die Position des nächsten Boards in der $S_n$ Sequenz zurück.\n",
    "\n",
    "Funktionsparameter:\n",
    "* `curr_board`: Das Board, für welches der nächste Spielzug berechnet werden soll.\n",
    "* `s_index`: Das $n$ eines $S_n$, in welchem sich `curr_board` befindet.\n",
    "Wird aus effizienz Gründen übergeben.\n",
    "* `s_n_sequence`: Die Liste mit allen $S_n$\n",
    "\n",
    "Ergebnis der Ausführung:\n",
    "* Rückgabe: Der nächsten Move oder der Wert -1 als Hinweis, dass kein Spielzug berechnet werden konnte\n",
    "\n",
    "Nebeneffekte:\n",
    "* Keine.\n",
    "\n",
    "Algorithmus:\n",
    "* Führe alle möglichen moves durch, bis das Ergebnis-Board in $S_{n-1}$ gefunden wurde.\n",
    "* Gebe den neuen s_index, board_index und den gefundenen move zurück.\n"
   ]
  },
  {
   "cell_type": "code",
   "execution_count": null,
   "metadata": {
    "pycharm": {
     "name": "#%%\n"
    }
   },
   "outputs": [],
   "source": [
    "def find_next_move(curr_board, s_index, s_n_sequence):\n",
    "    for move in curr_board.legal_moves:\n",
    "        curr_board.push(move)\n",
    "        _tmp, board_index_tmp = find_board_in_sequence(curr_board, [s_n_sequence[s_index - 1]])\n",
    "        s_index_tmp = s_index - 1\n",
    "        if board_index_tmp != -1:\n",
    "            curr_board.pop()\n",
    "            return s_index_tmp, board_index_tmp, move\n",
    "        curr_board.pop()\n",
    "\n",
    "    return -1, -1, None"
   ]
  },
  {
   "cell_type": "markdown",
   "metadata": {
    "pycharm": {
     "name": "#%% md\n"
    }
   },
   "source": [
    "## Globale Variablen\n",
    "Hierbei handelt es sich um Werte, welche für die Funktion der KI benötigt werden."
   ]
  },
  {
   "cell_type": "code",
   "execution_count": null,
   "metadata": {
    "pycharm": {
     "name": "#%%\n"
    }
   },
   "outputs": [],
   "source": [
    "FILE = \"S_n_seq_12_01.json\"\n",
    "S_N_SEQUENCE = load_s_n_sequence(FILE)\n",
    "\n",
    "S_INDEX = 0\n",
    "BOARD_INDEX = 0\n",
    "\n",
    "board = create_board()\n",
    "filename = ''"
   ]
  },
  {
   "cell_type": "markdown",
   "metadata": {},
   "source": [
    "## Setup der Steuerung\n",
    "Ergänzend zu dem bereitgestellten UI durch die `python-chess` Bibliothek werden noch weitere UI-Elemente benötigt, die\n",
    "in Form von globalen Variablen definiert worden sind:\n",
    "- `input_field` = Ein Eingabefeld, in dem der nächste zug von weiß eingetragen werden soll.\n",
    "- `execute_button` = Ein Button, der nach der Auswahl des Zuges diesen auch auf dem Schachbrett ausführt."
   ]
  },
  {
   "cell_type": "code",
   "execution_count": null,
   "metadata": {
    "pycharm": {
     "name": "#%%\n"
    }
   },
   "outputs": [],
   "source": [
    "input_field = widgets.Text()\n",
    "\n",
    "execute_button = widgets.Button(\n",
    "    description='Execute Move',\n",
    "    disabled=False,\n",
    "    button_style='',\n",
    "    tooltip='Executes the move selected with the dropdowns \"Piece:\" and \"Move:\"',\n",
    "    icon='check'\n",
    ")"
   ]
  },
  {
   "cell_type": "markdown",
   "metadata": {},
   "source": [
    "## Die *get_color* Hilfsfunktion\n",
    "Innerhalb der python-chess library werden die Farben des Schachbretts `chess.WHITE` und `chess.BLACK` als boolesche\n",
    "Variablen definiert. Deswegen wurde zur späteren Dokumentation, aber auch zum Debuggen eine Funktion geschrieben,\n",
    "die die Farbe, die gerade am Zug ist, als String zurückgibt.\n",
    "\n",
    "Funktionsparameter:\n",
    "* `turn`: Boolscher wert, welcher den Spieler am Zug in der `chess` Library repräsentiert.\n",
    "\n",
    "Ergebnis der Ausführung:\n",
    "* Ein String welcher Spieler am Zug ist."
   ]
  },
  {
   "cell_type": "code",
   "execution_count": null,
   "metadata": {
    "pycharm": {
     "name": "#%%\n"
    }
   },
   "outputs": [],
   "source": [
    "def get_color(turn):\n",
    "    if turn:\n",
    "        return \"White\"\n",
    "    else:\n",
    "        return \"Black\""
   ]
  },
  {
   "cell_type": "markdown",
   "metadata": {
    "pycharm": {
     "name": "#%% md\n"
    }
   },
   "source": [
    "## Die *update_filename* Hilfsfunktion\n",
    "Zum Beschreiben der globalen Variablen `filename` wurde die Funktion `update_filename` definiert.\n",
    "\n",
    "Funktionsparameter:\n",
    "* `new_value`: Der neue Wert\n",
    "\n",
    "Nebeneffekte:\n",
    "* Der Wert der globalen Variable `filename` wird verändert.\n",
    "\n",
    "Ergebnis der Ausführung:\n",
    "* Der Wert von `new_value` befindet sich in der Variable `filename`"
   ]
  },
  {
   "cell_type": "code",
   "execution_count": null,
   "metadata": {
    "pycharm": {
     "name": "#%%\n"
    }
   },
   "outputs": [],
   "source": [
    "def update_filename(new_value):\n",
    "    global filename\n",
    "    filename = new_value"
   ]
  },
  {
   "cell_type": "markdown",
   "metadata": {
    "pycharm": {
     "name": "#%% md\n"
    }
   },
   "source": [
    "## Die *reset_input_field* Hilfsfunktion\n",
    "Die Funktion setzt das UI Element auf ihren Standardwert zurück.\n",
    "\n",
    "Funktionsargumente:\n",
    "* Keine\n",
    "\n",
    "Nebeneffekte:\n",
    "* Der Wert in der globalen Variable `input_field` wird gelöscht.\n",
    "\n",
    "Ergebnis der Ausführung:\n",
    "* Der Wert in `input_field` wird entfernt."
   ]
  },
  {
   "cell_type": "code",
   "execution_count": null,
   "metadata": {},
   "outputs": [],
   "source": [
    "def reset_input_field():\n",
    "    global input_field\n",
    "    input_field.value = ''"
   ]
  },
  {
   "cell_type": "markdown",
   "metadata": {
    "pycharm": {
     "name": "#%% md\n"
    }
   },
   "source": [
    "## Die *reset_board* Hilfsfunktion\n",
    "Die Funktion setzt das Schachbrett auf den Zustand zu Beginn der vom Nutzer eingegebenen Situation zurück.\n",
    "\n",
    "Funktionsargumente:\n",
    "* Keine\n",
    "\n",
    "Nebeneffekte:\n",
    "* Der Zustand in der globalen Variable `board` geht verloren.\n",
    "* Die Inhalte von `S_INDEX` und `BOARD_INDEX` werden überschrieben.\n",
    "* Ggf. wird ein Zug am Board durchgeführt.\n",
    "\n",
    "Ergebnis der Ausführung:\n",
    "* Das board Objekt wird neu erstellt\n",
    "* Wenn Weiß am Zug ist, wird der erste Zug von der KI durchgeführt.\n"
   ]
  },
  {
   "cell_type": "code",
   "execution_count": null,
   "metadata": {},
   "outputs": [],
   "source": [
    "def reset_board():\n",
    "    global board\n",
    "    board = create_board()\n",
    "    global S_INDEX\n",
    "    global BOARD_INDEX\n",
    "    S_INDEX, BOARD_INDEX = find_board_in_sequence(board, S_N_SEQUENCE)\n",
    "    if board.turn:\n",
    "        S_INDEX, BOARD_INDEX, move = find_next_move(board, S_INDEX, S_N_SEQUENCE)\n",
    "        execute_move(move, board.turn)\n",
    "        reload_screen()\n"
   ]
  },
  {
   "cell_type": "markdown",
   "metadata": {},
   "source": [
    "## Die *execute_move* Hilfsfunktion\n",
    "Die Funktion `execute_move` erhält als Parameter einen `chess.Move` und führt diesen auf dem globalen `board` für die\n",
    "Farbe `chess.turn` aus. Zusätzlich wird in der Datei, die in der globalen Variablen `filename` zu finden ist, für\n",
    "den Zug ein Eintrag hinterlegt.\n",
    "\n",
    "Funktionsargumente:\n",
    "* `move`: Der durchzuführende move.\n",
    "* `turn`: Der Spieler, der am Zug ist\n",
    "\n",
    "Nebeneffekte:\n",
    "* Die Inhalte von `board`, `S_INDEX` und `BOARD_INDEX` werden verändert.\n",
    "* Die Datei `Played_Games/filename` wird verändert\n",
    "\n",
    "Ergebnis der Ausführung:\n",
    "* Ein Zug wird gespielt\n",
    "* Die Ausführung wird gespeichert"
   ]
  },
  {
   "cell_type": "code",
   "execution_count": null,
   "metadata": {
    "pycharm": {
     "name": "#%%\n"
    }
   },
   "outputs": [],
   "source": [
    "def execute_move(move, turn):\n",
    "    global board\n",
    "    global S_INDEX\n",
    "    global BOARD_INDEX\n",
    "    move_file = open(\"Played_Games/\" + filename, \"a\")\n",
    "    if turn:\n",
    "        move_file.write(str(board.fullmove_number) + \". \" + move.uci() + \" \")\n",
    "    else:\n",
    "        move_file.write(move.uci() + \"\\n\")\n",
    "    move_file.close()\n",
    "    board.push(move)\n",
    "    S_INDEX, BOARD_INDEX = find_board_in_sequence(board, S_N_SEQUENCE)"
   ]
  },
  {
   "cell_type": "markdown",
   "metadata": {},
   "source": [
    "## Die *get_pieces_placed_on_board* Hilfsfunktion\n",
    "\n",
    "Das Ziel der Funktion `get_pieces_placed_on_board` besteht darin von einer mitgegebenen `chess.Color` die Figuren zu\n",
    "bestimmen, die noch auf dem Schachbrett stehen. Zurück gibt sie ein Dictionary, das als `key` die Schachfiguren und\n",
    "als `value` eine Liste mit den Positionen der Figuren besitzt.\n",
    "\n",
    "Funktionsargumente:\n",
    "* `color`: Die Farbe des Spielers, dessen Figuren gefunden werden sollen\n",
    "\n",
    "Nebeneffekte:\n",
    "* Keine\n",
    "\n",
    "Ergebnis der Ausführung:\n",
    "* Ein Liste mit Figuren und Positionen dieser Figuren"
   ]
  },
  {
   "cell_type": "code",
   "execution_count": null,
   "metadata": {
    "pycharm": {
     "name": "#%%\n"
    }
   },
   "outputs": [],
   "source": [
    "def get_pieces_placed_on_board(color):\n",
    "    piece_type_to_string = {\n",
    "        1 : \"Pawn\",\n",
    "        2 : \"Knight\",\n",
    "        3 : \"Bishop\",\n",
    "        4 : \"Rook\",\n",
    "        5 : \"Queen\",\n",
    "        6 : \"King\"\n",
    "    }\n",
    "    pieces_with_position = {\n",
    "        \"Pawn\" : [],\n",
    "        \"Knight\" : [],\n",
    "        \"Bishop\" : [],\n",
    "        \"Rook\" : [],\n",
    "        \"Queen\" : [],\n",
    "        \"King\" : []\n",
    "    }\n",
    "    for piece_square ,color_piece in board.piece_map().items():\n",
    "        if color_piece.color == color:\n",
    "            pieces_with_position[piece_type_to_string[color_piece.piece_type]].append(chess.square_name(piece_square))\n",
    "    return pieces_with_position"
   ]
  },
  {
   "cell_type": "markdown",
   "metadata": {},
   "source": [
    "## Die *get_moves_from Square* Hilfsfunktion\n",
    "Bei der Funktion `get_moves_from_square` werden anhand der mitgegebenen `legal_moves` für ein vorgegebenes Feld die\n",
    "Züge selektiert, die man von diesem Feld aus ziehen kann.\n",
    "\n",
    "Funktionsargumente:\n",
    "* `square`: Das Spielfeld, von welchem mögliche Züge bestimmt werden sollen.\n",
    "* `legal_moves`: Die Spielzüge die für das aktuelle Spielbrett erlaubt sind.\n",
    "\n",
    "Nebeneffekte:\n",
    "* Keine\n",
    "\n",
    "Ergebnis der Ausführung: \n",
    "* Eine Liste aller möglichen Züge ausgehend von einem Feld."
   ]
  },
  {
   "cell_type": "code",
   "execution_count": null,
   "metadata": {
    "pycharm": {
     "name": "#%%\n"
    }
   },
   "outputs": [],
   "source": [
    "def get_moves_from_square(square, legal_moves):\n",
    "    moves = []\n",
    "    for possible_move in legal_moves:\n",
    "        if square == chess.square_name(possible_move.from_square):\n",
    "            moves.append(possible_move)\n",
    "    return moves"
   ]
  },
  {
   "cell_type": "markdown",
   "metadata": {},
   "source": [
    "## Die *reload_screen* Hilfsfunktion\n",
    "Da die Anzeige des UI auf Konsolenausgaben basiert, muss diese auch nach einem neuen Zug geleert werden, sodass die\n",
    "Konsole nicht mit mehreren Elementen überflutet wird. Hierfür aktualisiert die Funktion `reload_screen` die Ausgabe und\n",
    "zeigt das Schachbrett, das `input_field` und den Knopf zum Ausführen des Zugs erneut an.\n",
    "\n",
    "Funktionsargumente:\n",
    "* Keine\n",
    "\n",
    "Nebeneffekte:\n",
    "* Der Inhalt des Bildschirms wird aktualisiert\n",
    "\n",
    "* Ergebnis der Ausführung:\n",
    "* Inhalte werden entfernt und mit aktuellen Werten dargestellt"
   ]
  },
  {
   "cell_type": "code",
   "execution_count": null,
   "metadata": {
    "pycharm": {
     "name": "#%%\n"
    }
   },
   "outputs": [],
   "source": [
    "def reload_screen():\n",
    "    clear_output()\n",
    "    display(board, input_field, execute_button)"
   ]
  },
  {
   "cell_type": "markdown",
   "source": [
    "## Die *show_end_screen* Hilfsfunktion\n",
    "Die Funktion `show_end_screen` das Schachbrett an.\n",
    "\n",
    "Funktionsargumente:\n",
    "* Keine\n",
    "\n",
    "Nebeneffekte:\n",
    "* `input_field` und `execute_button` werden nicht mehr angezeigt"
   ],
   "metadata": {
    "collapsed": false,
    "pycharm": {
     "name": "#%% md\n"
    }
   }
  },
  {
   "cell_type": "code",
   "execution_count": null,
   "metadata": {},
   "outputs": [],
   "source": [
    "def show_end_screen():\n",
    "    clear_output()\n",
    "    display(board)"
   ]
  },
  {
   "cell_type": "markdown",
   "metadata": {},
   "source": [
    "## Die *execute_entered_move* Hilfsfunktion\n",
    "Für den `execute_button` und das `input_field` wurde eine Funktion geschrieben, die für das Ausführen des Zuges\n",
    "verantwortlich ist (Entweder durch Klicken des Buttons oder Drücken der Enter-Taste). Weiterhin wird auch in dieser\n",
    "Funktion überprüft, ob das Spiel bereits beendet wurde.\n",
    "\n",
    "Funktionsparameter:\n",
    "* `change`: Die change Variable beinhaltet die Parameter des auslösenden Events\n",
    "\n",
    "Nebeneffekte:\n",
    "* Die Werte in den globalen Variablen `board`, `S_INDEX` und `BOARD_INDEX` werden verändert.\n",
    "* Die Anzeige wird verändert.\n",
    "* Die Datei `Played_Games/filename` wird verändert.\n",
    "\n",
    "Ergebnis der Ausführung:\n",
    "* Die Eingabe des Nutzers wird umgesetzt.\n",
    "* Es wird ein Zug für die KI berechnet und umgesetzt.\n",
    "* Die Züge werden gespeichert.\n",
    "* Die Ansicht für den Nutzer wird aktualisiert."
   ]
  },
  {
   "cell_type": "code",
   "execution_count": null,
   "metadata": {
    "pycharm": {
     "name": "#%%\n"
    }
   },
   "outputs": [],
   "source": [
    "def execute_entered_move(change):\n",
    "    global board\n",
    "    global S_INDEX\n",
    "    global BOARD_INDEX\n",
    "    try:\n",
    "        if input_field.value != '':\n",
    "            black_move = chess.Move.from_uci(input_field.value)\n",
    "            if black_move in list(board.legal_moves):\n",
    "                execute_move(black_move, board.turn)\n",
    "                reset_input_field()\n",
    "                # Next AI move executed by white\n",
    "                S_INDEX, BOARD_INDEX, next_move = find_next_move(board, S_INDEX, S_N_SEQUENCE)\n",
    "                if S_INDEX == -1:\n",
    "                    print(\"No Move for white found\")\n",
    "                else:\n",
    "                    execute_move(next_move, board.turn)\n",
    "                    reload_screen()\n",
    "                if board.legal_moves.count() == 0:\n",
    "                    # If wanted add different endings\n",
    "                    show_end_screen()\n",
    "                    result = board.outcome().termination\n",
    "                    if result == Termination.CHECKMATE:\n",
    "                        print(get_color(board.turn) + \" has lost because of Checkmate!\")\n",
    "                    elif result == Termination.STALEMATE:\n",
    "                        print(\"It's a draw!\")\n",
    "                    elif result == Termination.INSUFFICIENT_MATERIAL:\n",
    "                        print(\"No side can win the game anymore!\")\n",
    "                    elif result == Termination.SEVENTYFIVE_MOVES:\n",
    "                        print(\"The game is drawn because half-move clock is greater than 150 since a capture or a pwn has been moved.\")\n",
    "                    elif result == Termination.FIVEFOLD_REPETITION:\n",
    "                        print(\"The game is drawn because the current position occurred the fifth time!\")\n",
    "                    elif result == Termination.FIFTY_MOVES:\n",
    "                        print(\"The game is drawn because half-move clock is greater than 100 since a capture or a pwn has been moved.\")\n",
    "                    elif result == Termination.THREEFOLD_REPETITION:\n",
    "                        print(\"The game is drawn because the current position occurred the third time!\")\n",
    "                    elif result == Termination.VARIANT_WIN:\n",
    "                        print(get_color(board.turn) + \" has won because of variant-specific conditions\")\n",
    "                    elif result == Termination.VARIANT_LOSS:\n",
    "                        print(get_color(board.turn) + \" has lost because of variant-specific conditions\")\n",
    "                    elif result == Termination.VARIANT_DRAW:\n",
    "                        print(\"Game is drawn because of variant-specific conditions!\")\n",
    "                    else:\n",
    "                        print(\"Something went wrong!\")\n",
    "            else:\n",
    "                print(\"Entered a wrong move. Please try again!\")\n",
    "                print(input_field.value)\n",
    "                time.sleep(2)\n",
    "                reload_screen()\n",
    "        else:\n",
    "            print(\"Enter a move!\")\n",
    "            time.sleep(2)\n",
    "            reload_screen()\n",
    "    except ValueError:\n",
    "        print(\"Entered a wrong move. Please try again!\")\n",
    "        print(input_field.value)\n",
    "        time.sleep(2)\n",
    "        reload_screen()"
   ]
  },
  {
   "cell_type": "markdown",
   "metadata": {},
   "source": [
    "## Zuweisen der Funktion zu den eingabemöglichkeiten\n",
    "Sodass die Funktionen letztendlich auch an die UI-Elemente gebunden sind, werden im folgenden Codeabschnitt die Funktionen den Objekten zugewiesen."
   ]
  },
  {
   "cell_type": "code",
   "execution_count": null,
   "metadata": {
    "pycharm": {
     "name": "#%%\n"
    }
   },
   "outputs": [],
   "source": [
    "execute_button.on_click(execute_entered_move)\n",
    "input_field.on_submit(execute_entered_move)"
   ]
  },
  {
   "cell_type": "markdown",
   "metadata": {},
   "source": [
    "## Die *start_game* Funktion\n",
    "Die Funktion `start_game` bereitet jegliche Parameter für einen Spielverlauf vor. Dazu gehört:\n",
    "- Erstellung eines neuen Boards.\n",
    "- Das Erstellen einer neuen Historie für das neu begonnene Spiel\n",
    "\n",
    "Funktionsargumente:\n",
    "* Keine\n",
    "\n",
    "Nebeneffekte:\n",
    "* Das Spiel wird gestartet, die Nebeneffekte der Funktionen in diesem Notebook fallen an.\n",
    "\n",
    "Ergebnis der Ausführung:\n",
    "* Der Zustand des Spiels wird zurückgesetzt und das Spiel gestartet."
   ]
  },
  {
   "cell_type": "code",
   "execution_count": null,
   "metadata": {
    "pycharm": {
     "name": "#%%\n"
    }
   },
   "outputs": [],
   "source": [
    "def start_game():\n",
    "    update_filename(\"Move-History_\" + str(datetime.today().replace(microsecond=0)).replace(\":\",\"_\") + \".txt\")\n",
    "    move_file = open(\"Played_Games/\" + filename, \"a\")\n",
    "    reset_board()\n",
    "    move_file.write(board.fen() + \"\\n\")\n",
    "    reload_screen()"
   ]
  },
  {
   "cell_type": "markdown",
   "metadata": {},
   "source": [
    "Mit dem Aufruf der Funktion `start_game` kann nun ein Spiel gegen die KI gestartet werden."
   ]
  },
  {
   "cell_type": "code",
   "execution_count": null,
   "metadata": {
    "pycharm": {
     "name": "#%%"
    }
   },
   "outputs": [],
   "source": [
    "start_game()"
   ]
  },
  {
   "cell_type": "code",
   "execution_count": null,
   "metadata": {},
   "outputs": [],
   "source": []
  }
 ],
 "metadata": {
  "kernelspec": {
   "display_name": "Python 3 (ipykernel)",
   "language": "python",
   "name": "python3"
  },
  "language_info": {
   "codemirror_mode": {
    "name": "ipython",
    "version": 3
   },
   "file_extension": ".py",
   "mimetype": "text/x-python",
   "name": "python",
   "nbconvert_exporter": "python",
   "pygments_lexer": "ipython3",
   "version": "3.9.9"
  }
 },
 "nbformat": 4,
 "nbformat_minor": 1
}