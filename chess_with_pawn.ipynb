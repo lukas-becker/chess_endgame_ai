{
 "cells": [
  {
   "cell_type": "markdown",
   "source": [
    "# Retrograde Analyse für das Schach-Endspiel\n",
    "_Beschreibung_\n",
    "\n",
    "Bekannte Probleme:\n",
    "* Nicht optimiert für ein Spielbrett mit Bauern\n",
    "\n",
    "Mögliche Verbesserungen:\n",
    "* Das Initialisieren des Notebooks in Funktionen kapseln, um erneute Ausführungen einfacher zu gestalten."
   ],
   "metadata": {
    "pycharm": {
     "name": "#%% md\n"
    },
    "cell_id": "00000-9fea07bb-15d0-4062-8157-9f13e890a25b",
    "deepnote_cell_type": "markdown"
   }
  },
  {
   "cell_type": "markdown",
   "source": [
    "## Imports\n",
    "Für das Notebook benötigte Imports\n",
    "* chess: Die Python-Schach-Bibliothek, mit welcher Schachbretter dargestellt werden, Züge und Zustände ausgewertet etc.\n",
    "* Factorial aus der Math-Library: Die Fakultät (n!) wird zum Aufstellen der Board_List benötigt\n",
    "* Clear_output aus der IPython-display-Library: Eine Funktion, die für die Fortschrittsanzeige von Berechnungen verwendet wird."
   ],
   "metadata": {
    "collapsed": true,
    "pycharm": {
     "name": "#%% md\n"
    },
    "cell_id": "00001-8f89f9e7-5c95-48c7-bb61-ecf4ee57006b",
    "deepnote_cell_type": "markdown"
   }
  },
  {
   "cell_type": "code",
   "metadata": {
    "pycharm": {
     "name": "#%%\n"
    },
    "cell_id": "00002-d30c901b-6df9-4cc9-aefb-720df6c6f30e",
    "deepnote_to_be_reexecuted": false,
    "source_hash": "4a4bd8b4",
    "execution_start": 1638464280543,
    "execution_millis": 41,
    "deepnote_cell_type": "code"
   },
   "source": [
    "import chess\n",
    "from math import factorial\n",
    "from IPython.display import clear_output\n",
    "import json"
   ],
   "outputs": [],
   "execution_count": 34
  },
  {
   "cell_type": "markdown",
   "source": [
    "\n",
    "## Eingabe des Schachbretts, mit der Ausgangssituation\n",
    "Langfristig wird dies durch [@NicoMiller's](https://github.com/millerni) Board-Setup-Code ersetzt.\n",
    "Aktuell wird eine Fen eingegeben.\n",
    "Mit der Forsyth-Edwards-Notation kann der Zustand eines Schachbretts kompakt notiert werden. Mehr Infos zum Thema Fen finden sich [hier](https://www.chess.com/terms/fen-chess).\n",
    "\n",
    "Das gegenwärtige Beispiel `8/8/8/8/4k3/8/8/K6R w - - 0 1` beschreibt das Szenario König und Turm gegen König.\n",
    "\n",
    "Weiter wird in der folgenden Zelle das erste Board-Objekt erstellt.\n"
   ],
   "metadata": {
    "pycharm": {
     "name": "#%% md\n"
    },
    "cell_id": "00003-ea5d7827-1acb-4c66-8496-7f8df58df88b",
    "deepnote_cell_type": "markdown"
   }
  },
  {
   "cell_type": "code",
   "metadata": {
    "pycharm": {
     "name": "#%%\n"
    },
    "cell_id": "00004-1c5a0573-6bc6-4471-91cd-fa8f5e68ccc5",
    "deepnote_to_be_reexecuted": false,
    "source_hash": "f071a171",
    "execution_start": 1638464280626,
    "execution_millis": 0,
    "deepnote_cell_type": "code"
   },
   "source": [
    "fen = \"8/8/8/8/4k3/8/8/K6R w - - 0 1\"\n",
    "#fen = \"8/8/8/8/4k3/8/2P5/K7 w - - 0 1\"\n",
    "board = chess.Board(fen)"
   ],
   "outputs": [],
   "execution_count": 35
  },
  {
   "cell_type": "markdown",
   "source": [
    "## Erstellen der *pieceList*\n",
    "Die _Figurenliste_ enthält alle Figuren, welche sich auf dem Brett befinden in beliebiger Reihenfolge.\n",
    "\n",
    "Das Erstellen dieser Liste erfolgt in einem mehrschritten Prozess:\n",
    "\n",
    "1. Ein Dictionary mit Figuren und Positionen von der Chess-Library abfragen.\n",
    "   Beispiel-Eintrag: `{28: Piece.from_symbol('k')}`\n",
    "   Hierbei ist die 28 ein Quadrat auf dem Brett und k ein König.\n",
    "2. Über das Dictionary iterieren und die Figuren einer Liste hinzufügen.\n",
    "\n",
    "Beispielhafter Auszug aus dem Ergebnis:\n",
    "`[Piece.from_symbol('k')]`"
   ],
   "metadata": {
    "pycharm": {
     "name": "#%% md\n"
    },
    "cell_id": "00005-222130b0-ae06-4474-a8b9-eb906ca0d7a0",
    "deepnote_cell_type": "markdown"
   }
  },
  {
   "cell_type": "code",
   "metadata": {
    "pycharm": {
     "name": "#%%\n"
    },
    "cell_id": "00006-51b6f48c-3a20-4bd1-ab62-083655b58eed",
    "deepnote_to_be_reexecuted": false,
    "source_hash": "8c9ef311",
    "execution_start": 1638464280627,
    "execution_millis": 0,
    "deepnote_cell_type": "code"
   },
   "source": [
    "#get the piece map from the library\n",
    "tmp_piece_map = board.piece_map()\n",
    "pieceList = []\n",
    "#iterate over the map and append the pieces to the list\n",
    "for location in tmp_piece_map:\n",
    "    pieceList.append(tmp_piece_map[location])"
   ],
   "outputs": [],
   "execution_count": 36
  },
  {
   "cell_type": "markdown",
   "source": [
    "## *board_list* erstellen\n",
    "Die Brettliste ist ein Python-Listen-Objekt, welches `64! / (64-count(pieces))!` leere Schachbretter enthält.\n",
    "In einem weiteren Schritt kann auf dem ersten Quadrat die erste Figur platziert werden, die zweite Figur auf den Quadraten zwei bis 64, die dritte auf den verbleibenden 62 Quadraten etc..\n",
    "Somit gibt es (bei insgesamt drei Figuren) `63*62 = 3.906` verschiedene Bretter, mit _Figur 1_ auf dem ersten Quadrat und insgesamt `64*63*62 = 249.984` verschiedene Bretter.\n",
    "\n",
    "Dieser Zustand wird erreicht, indem ein neues Board-Objekt erstellt und alle Figuren entfernt werden.\n",
    "Dieses Objekt wird dann `64! / (64-count(pieces))!` Mal einer Liste hinzugefügt."
   ],
   "metadata": {
    "pycharm": {
     "name": "#%% md\n"
    },
    "cell_id": "00007-62c47890-f79f-45af-827e-926a4f7f2fb4",
    "deepnote_cell_type": "markdown"
   }
  },
  {
   "cell_type": "code",
   "metadata": {
    "pycharm": {
     "name": "#%%\n"
    },
    "cell_id": "00008-1e426279-e261-443f-81ac-690a743c74dd",
    "deepnote_to_be_reexecuted": false,
    "source_hash": "deb05d4d",
    "execution_start": 1638464280627,
    "execution_millis": 2402,
    "deepnote_cell_type": "code"
   },
   "source": [
    "tmp_board = chess.Board()\n",
    "tmp_board.clear()\n",
    "board_list = []\n",
    "list_length = factorial(64) // factorial(64 - len(pieceList))\n",
    "if chess.Piece.from_symbol('P') in pieceList:\n",
    "    list_length = list_length * 2\n",
    "\n",
    "for i in range(list_length):\n",
    "    board_list.append(tmp_board.copy())"
   ],
   "outputs": [],
   "execution_count": 37
  },
  {
   "cell_type": "markdown",
   "source": [
    "## Die rekursive placePieces-Hilfsfunktion\n",
    "\n",
    "Funktions-Argumente:\n",
    "* boardList: Eine Liste, mit leeren oder teilweise mit Figuren gefüllten Board-Objekten\n",
    "* pieceList: Eine Liste, welche alle Figuren, welche auf dem Board platziert werden sollen, enthält.\n",
    "* pieceIndexStart: Index der Figur, welche platziert werden soll\n",
    "* start: Index der ersten Position in *boardList*, an welcher Figuren platziert werden sollen.\n",
    "* stop: Index+1 der letzten Position in *boardList*, an welcher Figuren platziert werden sollen. (`[start,strop)`)\n",
    "\n",
    "Ergebnis der Ausführung:\n",
    "Die Funktion platziert rekursiv Figuren aus der _pieceList_ mit einem Index >= _pieceIndexStart_\n",
    "auf allen Brettern in der _boardList_ welche im Index-Bereich _start_ bis _stop - 1_ liegen.\n",
    "\n",
    "Nebeneffekte:\n",
    "Die Funktion verändert die als argument übergebene Board-Objekt-Liste _boardList_.\n",
    "\n",
    "Algorithmus:\n",
    "* Den Versatz für die aktuelle Figur berechnen.\n",
    "  Der Versatz beschreibt, auf wie vielen Boards die aktuelle Figur im selben Quadrat platziert werden muss.\n",
    "  Beispiel: Befinden sich zwei Figuren in der _FigurenListe_, dann muss die erste Figur auf allen 64 Quadraten platziert werden.\n",
    "  Die zweite Figur muss, für jede der 64 Positionen von _Figur 1_ auf den verbleibenden 63 Quadraten platziert werden.\n",
    "  ```\n",
    "  O|     O|X  O|  O|\n",
    "  --- -> ---  --- ---\n",
    "   |      |   X|   |X\n",
    "\n",
    "   |O    X|O   |O  |O\n",
    "  --- -> ---  --- ---\n",
    "   |      |   X|   |X\n",
    "  ```\n",
    "  Auf diesem 2x2 Spielbrett hat die zweite Figur drei mögliche Positionen, nachdem die erste Figur platziert wurde.\n",
    "  Bei jedem vierten Brett muss die erste Figur also auf einem anderem Quadrat platziert werden.\n",
    "  Dieser Schritt kann auf ein 64x64 Schachbrett skaliert werden.\n",
    "  In diesem simplen Beispiel wäre der Versatz drei.\n",
    "  Für größere Spielbretter, wie ein Schachbrett kann der Versatz mit der folgenden Formel berechnet werden.\n",
    "  `offset = (stop - start) // (64 - (len(pieceList) - 1) + pieceIndexStart)`\n",
    "* Über die _BrettListe_ iterieren, beginnend beim Index _start_\n",
    "    * Die Figur, welche sich in der _pieceList_ an Index _pieceIndexStart_ befindet auswählen.\n",
    "    * Die Figur auf dem ersten leeren Spielfeld platzieren. (Wiederholungen dieses Schrittes zählen)\n",
    "    * Wenn der Versatz erreicht wird:\n",
    "        * Wenn weitere Figuren platziert werden müssen (`len(pieceList) > pieceIndexStart`), die Funktion rekursiv mit\n",
    "          höherem _pieceIndexStart_ und neuem _start_ und _stop_ Werten aufrufen.\n",
    "          Der neue Wert für _stop_ ist der aktuelle Board-Index - 1.\n",
    "          Der neue Wert für _start_ ist der neue _stop_ Wert weniger des Versatzes.\n",
    "        * Das nächste Quadrat auswählen (Index erhöhen).\n",
    "\n",
    "Hinweis:\n",
    "In diesem Schritt wird __nicht__ überprüft, ob die erzeugten Boards Valide sind.\n",
    "Dies muss wird in einem nächsten Schritt getan werden.\n",
    "\n"
   ],
   "metadata": {
    "pycharm": {
     "name": "#%% md\n"
    },
    "cell_id": "00009-05b56073-5ed3-481a-98a4-e1a3ba62bfba",
    "deepnote_cell_type": "markdown"
   }
  },
  {
   "cell_type": "code",
   "metadata": {
    "pycharm": {
     "name": "#%%\n"
    },
    "cell_id": "00010-748c44b5-45ab-4bff-a38f-435dbd0c433f",
    "deepnote_to_be_reexecuted": false,
    "source_hash": "453a69bf",
    "execution_start": 1638464283029,
    "execution_millis": 41,
    "deepnote_cell_type": "code"
   },
   "source": [
    "#TODO: Comments\n",
    "def placePieces(boardList, pieceList, pieceIndexStart, start, stop):\n",
    "    squareIndex = -1 #first Run increments to 0\n",
    "    offset = (stop - start) // (64 - (len(pieceList) - 1) + pieceIndexStart)\n",
    "    for i in range(start, stop):\n",
    "        if i % offset == 0:\n",
    "            if pieceIndexStart < (len(pieceList)-1) and i - offset > 0:\n",
    "                placePieces(boardList, pieceList, pieceIndexStart + 1, i - offset, i)\n",
    "            squareIndex = squareIndex + 1\n",
    "        square = chess.Square(squareIndex)\n",
    "        if boardList[i].piece_at(square) is None:\n",
    "            boardList[i].set_piece_at(square, pieceList[pieceIndexStart])"
   ],
   "outputs": [],
   "execution_count": 38
  },
  {
   "cell_type": "markdown",
   "source": [
    "## Alle möglichen Kombinationen der Figuren auf dem Schachbrett erzeugen\n",
    "Hierfür wird die _placePieces_ Funktion mit der zuvor erzeugten *board_list* und der _pieceList_ aufgerufen.\n",
    "Als Index für die Figur wird 0 (erste Figur in der Liste) verwendet.\n",
    "Als _start_ wird 0 (erstes Schachbrett) verwendet. Als _stop_ wird die Größe der Liste (letztes Brett) verwendet."
   ],
   "metadata": {
    "pycharm": {
     "name": "#%% md\n"
    },
    "cell_id": "00011-bb2a0ebb-013c-4958-b454-a305cc01355a",
    "deepnote_cell_type": "markdown"
   }
  },
  {
   "cell_type": "code",
   "metadata": {
    "pycharm": {
     "name": "#%%\n"
    },
    "cell_id": "00012-742a3b57-56c4-48ce-bd86-27d605058de0",
    "deepnote_to_be_reexecuted": false,
    "source_hash": "2bc2f1fe",
    "execution_start": 1638464283071,
    "execution_millis": 2084,
    "deepnote_cell_type": "code"
   },
   "source": [
    "if not chess.Piece.from_symbol('P') in pieceList:\n",
    "    placePieces(board_list, pieceList, 0, 0, len(board_list))\n",
    "else:\n",
    "    placePieces(board_list, pieceList, 0, 0, len(board_list) // 2)\n",
    "    for piece in pieceList:\n",
    "        if piece == chess.Piece.from_symbol('P'):\n",
    "            pieceList.remove(piece)\n",
    "            pieceList.append(chess.Piece.from_symbol('Q'))\n",
    "            break\n",
    "    placePieces(board_list, pieceList, 0, len(board_list) // 2, len(board_list))\n",
    "    pieceList.remove(chess.Piece.from_symbol('Q'))\n",
    "    pieceList.append(chess.Piece.from_symbol('P'))"
   ],
   "outputs": [],
   "execution_count": 39
  },
  {
   "cell_type": "markdown",
   "source": [
    "## Boards aus Einhaltung der Schachregeln überprüfen und invalide entfernen\n",
    "Über alle Schachbretter in der Liste iterieren und den Status mittels der Chess-Library überprüfen.\n",
    "Wenn das Board Valide ist, wird es einer neuen Liste hinzugefügt.\n",
    "Anschließend wird derselbe Schritt mit dem anderen Spieler am Zug durchgeführt, um wirklich alle Kombinationen abzudecken.\n",
    "Die neue Liste S enthält alle validen Kombinationen der Figuren auf einem Schachbrett."
   ],
   "metadata": {
    "pycharm": {
     "name": "#%% md\n"
    },
    "cell_id": "00013-69541ba0-b668-4000-96cd-464b31fa8ce0",
    "deepnote_cell_type": "markdown"
   }
  },
  {
   "cell_type": "code",
   "metadata": {
    "pycharm": {
     "name": "#%%\n"
    },
    "cell_id": "00014-11e11748-77d6-459d-ae19-99011e8e8ece",
    "deepnote_to_be_reexecuted": false,
    "source_hash": "562105fd",
    "execution_start": 1638464285176,
    "execution_millis": 9193,
    "deepnote_cell_type": "code"
   },
   "source": [
    "S = []\n",
    "for board in board_list:\n",
    "    #Board with white having the next turn\n",
    "    board.turn = chess.WHITE\n",
    "    if board.is_valid():\n",
    "        S.append(board)\n",
    "    boardBlackMove = board.copy()\n",
    "    boardBlackMove.turn = chess.BLACK\n",
    "    #The same board with black having the next turn\n",
    "    if boardBlackMove.is_valid():\n",
    "        S.append(boardBlackMove)"
   ],
   "outputs": [
    {
     "ename": "KeyboardInterrupt",
     "evalue": "",
     "output_type": "error",
     "traceback": [
      "\u001B[1;31m---------------------------------------------------------------------------\u001B[0m",
      "\u001B[1;31mKeyboardInterrupt\u001B[0m                         Traceback (most recent call last)",
      "\u001B[1;32m~\\AppData\\Local\\Temp/ipykernel_18704/1699937282.py\u001B[0m in \u001B[0;36m<module>\u001B[1;34m\u001B[0m\n\u001B[0;32m     16\u001B[0m \u001B[1;33m\u001B[0m\u001B[0m\n\u001B[0;32m     17\u001B[0m \u001B[1;32mfor\u001B[0m \u001B[0mi\u001B[0m \u001B[1;32min\u001B[0m \u001B[0mrange\u001B[0m\u001B[1;33m(\u001B[0m\u001B[0mlen\u001B[0m\u001B[1;33m(\u001B[0m\u001B[0ms_asc_tmp\u001B[0m\u001B[1;33m)\u001B[0m\u001B[1;33m)\u001B[0m\u001B[1;33m:\u001B[0m\u001B[1;33m\u001B[0m\u001B[1;33m\u001B[0m\u001B[0m\n\u001B[1;32m---> 18\u001B[1;33m     \u001B[1;32mfor\u001B[0m \u001B[0mj\u001B[0m \u001B[1;32min\u001B[0m \u001B[0mrange\u001B[0m\u001B[1;33m(\u001B[0m\u001B[0mlen\u001B[0m\u001B[1;33m(\u001B[0m\u001B[0ms_asc_tmp\u001B[0m\u001B[1;33m)\u001B[0m\u001B[1;33m)\u001B[0m\u001B[1;33m:\u001B[0m\u001B[1;33m\u001B[0m\u001B[1;33m\u001B[0m\u001B[0m\n\u001B[0m\u001B[0;32m     19\u001B[0m         \u001B[1;32mif\u001B[0m \u001B[0mi\u001B[0m \u001B[1;33m==\u001B[0m \u001B[0mj\u001B[0m\u001B[1;33m:\u001B[0m\u001B[1;33m\u001B[0m\u001B[1;33m\u001B[0m\u001B[0m\n\u001B[0;32m     20\u001B[0m             \u001B[1;32mcontinue\u001B[0m\u001B[1;33m\u001B[0m\u001B[1;33m\u001B[0m\u001B[0m\n",
      "\u001B[1;31mKeyboardInterrupt\u001B[0m: "
     ]
    }
   ],
   "execution_count": 40
  },
  {
   "cell_type": "markdown",
   "source": [
    "## Gewonnene Spielbretter finden und zu S\\_0 hinzufügen\n",
    "* Über den Inhalt von S iterieren.\n",
    "* Status-Informationen von der Bibliothek abfragen und überprüfen, ob ein Spieler gewonnen hat.\n",
    "* Wenn ja, das Objekt zu *S\\_0* hinzufügen.\n",
    "  Weiter werden die Objekte in ihrer String-Representation zu *S\\_0\\_ASCII* hinzugefügt.\n",
    "* Wenn nicht, das Objekt in *S\\_tmp* hinzufügen. (Dies ist effizienter als das Objekt aus der Liste S zu entfernen)\n",
    "* Die ursprüngliche Liste S mit *S\\_tmp* ersetzen."
   ],
   "metadata": {
    "pycharm": {
     "name": "#%% md\n"
    },
    "cell_id": "00015-f0f22380-8c49-4daa-8458-bbb6ae7fa221",
    "deepnote_cell_type": "markdown"
   }
  },
  {
   "cell_type": "code",
   "metadata": {
    "pycharm": {
     "name": "#%%\n"
    },
    "cell_id": "00016-55697476-08c1-459e-989e-b457c3240a09",
    "deepnote_to_be_reexecuted": false,
    "source_hash": "11c2b8f1",
    "execution_start": 1638464294399,
    "execution_millis": 25121,
    "deepnote_cell_type": "code"
   },
   "source": [
    "S_tmp = []\n",
    "S_ASCII = []\n",
    "S_0 = []\n",
    "S_0_ASCII = []\n",
    "S_WHITE_ASCII = []\n",
    "\n",
    "for board in S:\n",
    "    outcome = board.outcome()\n",
    "    # If True Game has finished in a certain way\n",
    "    if outcome is not None:\n",
    "        # A winner has been determined\n",
    "        if outcome.winner is not None and board.is_valid():\n",
    "            S_0.append(board)\n",
    "            S_0_ASCII.append((board.turn,board.__str__()))\n",
    "    # Every other board\n",
    "    else:\n",
    "        S_tmp.append(board)\n",
    "        S_ASCII.append((board.turn, board.__str__()))\n",
    "S = S_tmp\n",
    "\n"
   ],
   "outputs": [],
   "execution_count": null
  },
  {
   "cell_type": "markdown",
   "source": [
    "## OneStepAway Funktion\n",
    "Diese Funktion wählt (aus zwei Listen mit Board-Objekten) die Spielbretter aus der zweiten Liste, welche einen Spielzug von einem\n",
    "Spielbrett in der ersten Liste entfernt sind.\n",
    "\n",
    "Funktionsargumente:\n",
    "* S_n: Die Liste mit Board-Objekten, deren Spielbretter sich n Züge vom Sieg entfernt befinden\n",
    "* S: Die Liste, aus welcher die nächste Stufe ausgewählt werden soll\n",
    "\n",
    "Nebeneffekte:\n",
    "Keine.\n",
    "Alle als Parameter übergebenen Listen bleiben unverändert.\n",
    "\n",
    "Algorithmus:\n",
    "* Für effizientere Vergleiche für jedes Objekt in *S* die ASCII-Representation speichern.\n",
    "* Über die Objekte in *S_n* iterieren\n",
    "  * Den Spieler, welcher am Zug ist wechseln (Da um im aktuellen Zustand anzukommen der andere Spieler einen Zug gemacht hat)\n",
    "  * pseudo legale Spielzüge von der Bibliothek berechnen Lassen\n",
    "    Ein pseudo legaler Spielzug ist ein Spielzug, welcher die grundsätzlichen Bewegungsregeln der Figur einhält,\n",
    "    aber das Schachbrett unter Umständen in einem nicht regelkonformen Zustand versetzt.\n",
    "  * Über diese Spielzüge iterieren\n",
    "    * Den Zug ausführen\n",
    "    * Überprüfen, ob das Board sich in einem erlaubten Zustand befindet.\n",
    "      Wenn nein, den Schleifendurchlauf abbrechen.\n",
    "    * Mittels der ASCII-Representation überprüfen, ob das modifizierte Spielbrett in *S* gefunden wird.\n",
    "    * Wenn es gefunden wird, die ASCII-Representation zu *s_n1_ascii* hinzufügen\n",
    "    * Den Zug rückgängig machen\n",
    "  * Den Spieler, welcher ursprünglich am Zug war wiederherstellen.\n",
    "* Über *S* iterieren\n",
    "  * Wenn sich das Spielbrett in *s_n1_ascii* befindet, wird es *s_n1* hinzugefügt.\n",
    "  * Wenn sich das Spielbrett nicht in *s_n1_ascii* befindet, wird es *s_tmp* hinzugefügt.\n",
    "* *s_n1* und *s_tmp* als Tupel zurückgeben."
   ],
   "metadata": {
    "pycharm": {
     "name": "#%% md\n"
    },
    "cell_id": "00017-71dbb18a-b442-4217-96bc-991bdbbe4099",
    "deepnote_cell_type": "markdown"
   }
  },
  {
   "cell_type": "code",
   "metadata": {
    "pycharm": {
     "name": "#%%\n"
    },
    "cell_id": "00018-6f30589f-4a50-41e1-aabe-3338bcbc70b9",
    "deepnote_to_be_reexecuted": false,
    "source_hash": "d6bac79e",
    "execution_start": 1638464319562,
    "execution_millis": 1,
    "deepnote_cell_type": "code"
   },
   "source": [
    "def one_step_away(S_n, S, s_white_ascii, iterationCount):\n",
    "    #variables\n",
    "    s_n1 = []\n",
    "    s_n1_tmp = []\n",
    "    s_n1_ascii = []\n",
    "    s_ascii = []\n",
    "    s_n_ascii = []\n",
    "    s_tmp = []\n",
    "\n",
    "    #create temporary list for comparison\n",
    "    for chessBoard in S:\n",
    "        s_ascii.append((chessBoard.turn, chessBoard.__str__()))\n",
    "\n",
    "    for chessBoard in S_n:\n",
    "        s_n_ascii.append((chessBoard.turn, chessBoard.__str__()))\n",
    "\n",
    "    for i in range(len(S_n)):\n",
    "\n",
    "        if iterationCount is not None:\n",
    "            status = \"Calculating S\" + str(iterationCount) + \" - Board \" + str(i+1) + \" of \" + str(len(S_n)) + \" from S\" + str(iterationCount-1)\n",
    "        else:\n",
    "            status = \"Board \" + str(i+1) + \" of \" + str(len(S_n))\n",
    "        clear_output(wait=True)\n",
    "        print(status)\n",
    "\n",
    "        chessBoard = S_n[i]\n",
    "        chessBoard.turn = chessBoard.turn ^ True\n",
    "\n",
    "        pawn_at = []\n",
    "        for pawn in chessBoard.pieces(chess.PAWN, True):\n",
    "            pawn_at.append(chess.square_name(pawn))\n",
    "\n",
    "        for pLMove in chessBoard.pseudo_legal_moves:\n",
    "            if chess.square_name(pLMove.from_square) not in pawn_at:\n",
    "                chessBoard.push(pLMove)\n",
    "                if not chessBoard.is_valid():\n",
    "                    chessBoard.pop()\n",
    "                    continue\n",
    "                if (chessBoard.turn ^ True, chessBoard.__str__()) in s_ascii:\n",
    "                    s_n1_ascii.append((chessBoard.turn ^ True, chessBoard.__str__()))\n",
    "                chessBoard.pop()\n",
    "\n",
    "        for pawn in chessBoard.pieces(chess.PAWN, True):\n",
    "            if chessBoard.piece_at(pawn - 9) is None:\n",
    "                chessBoard.remove_piece_at(pawn)\n",
    "                chessBoard.set_piece_at(pawn - 9, chess.Piece.from_symbol('P'))\n",
    "                print(chessBoard)\n",
    "                if chessBoard.is_valid():\n",
    "                    if (chessBoard.turn ^ True, chessBoard.__str__()) in s_ascii:\n",
    "                        s_n1_ascii.append((chessBoard.turn ^ True, chessBoard.__str__()))\n",
    "                chessBoard.remove_piece_at(pawn - 9)\n",
    "                chessBoard.set_piece_at(pawn, chess.Piece.from_symbol('P'))\n",
    "\n",
    "        queen = check_top_row(chessBoard)\n",
    "        if queen:\n",
    "            chessBoard.remove_piece_at(queen)\n",
    "            chessBoard.set_piece_at(queen, chess.Piece.from_symbol('P'))\n",
    "            if chessBoard.is_valid():\n",
    "                if (chessBoard.turn ^ True, chessBoard.__str__()) in s_ascii:\n",
    "                    s_n1_ascii.append((chessBoard.turn ^ True, chessBoard.__str__()))\n",
    "            chessBoard.remove_piece_at(queen)\n",
    "            chessBoard.set_piece_at(queen, chess.Piece.from_symbol('Q'))\n",
    "\n",
    "\n",
    "        chessBoard.turn = chessBoard.turn ^ True\n",
    "\n",
    "    clear_output(wait=True)\n",
    "    if iterationCount is not None:\n",
    "        print(\"Calculating S\" + str(iterationCount) + \" - Mapping ASCII boards to board objects\")\n",
    "    else:\n",
    "        print(\"Mapping ASCII boards to board objects\")\n",
    "    #create return lists\n",
    "    for chessBoard in S:\n",
    "        if(chessBoard.turn, chessBoard.__str__()) in s_n1_ascii:\n",
    "            s_n1.append(chessBoard)\n",
    "        else:\n",
    "            s_tmp.append(chessBoard)\n",
    "\n",
    "\n",
    "    clear_output(wait=True)\n",
    "    if iterationCount is not None:\n",
    "        print(\"Calculating S\" + str(iterationCount) + \" - Checking Black Moves for determinism\")\n",
    "    else:\n",
    "        print(\"Checking Black Moves for determinism\")\n",
    "\n",
    "\n",
    "    # Only needed for Black-Moves\n",
    "    for chessBoard in s_n1:\n",
    "        include = True\n",
    "        if not chessBoard.turn:\n",
    "            for move in chessBoard.legal_moves:\n",
    "                chessBoard.push(move)\n",
    "                str_rep = (chessBoard.turn, chessBoard.__str__())\n",
    "                chessBoard.pop()\n",
    "                if str_rep not in s_white_ascii:\n",
    "                    include = False\n",
    "        if include:\n",
    "            s_n1_tmp.append(chessBoard)\n",
    "        else:\n",
    "            s_tmp.append(chessBoard)\n",
    "    s_n1 = s_n1_tmp\n",
    "\n",
    "    # Only needed for White-Moves\n",
    "    if iterationCount % 2 == 1:\n",
    "        s_white_ascii = s_white_ascii + s_n1_ascii\n",
    "\n",
    "\n",
    "    clear_output(wait=True)\n",
    "    print(\"Done with S\" + str(iterationCount) + \" - \" + str(len(s_tmp)) + \" Boards remaining in S\")\n",
    "\n",
    "\n",
    "\n",
    "    return s_n1, s_tmp, s_white_ascii\n",
    "\n",
    "def check_top_row(board):\n",
    "    for i in range(56, 64):\n",
    "        if board.piece_type_at(i) == chess.QUEEN:\n",
    "            return i\n",
    "\n",
    "        return False"
   ],
   "outputs": [],
   "execution_count": null
  },
  {
   "cell_type": "markdown",
   "source": [
    "## Alle Spielbretter finden, welche einen Zug vom Gewinn entfernt sind."
   ],
   "metadata": {
    "cell_id": "00019-c32cc9d0-06e6-46ea-9132-4dd6286975e1",
    "deepnote_cell_type": "markdown"
   }
  },
  {
   "cell_type": "code",
   "metadata": {
    "pycharm": {
     "name": "#%%\n"
    },
    "cell_id": "00020-db1bb595-7855-4f54-a9ba-223d26509b6a",
    "deepnote_to_be_reexecuted": false,
    "source_hash": "93d97441",
    "execution_start": 1638464319563,
    "execution_millis": 76517,
    "deepnote_cell_type": "code"
   },
   "source": [
    "S_1, S, S_WHITE_ASCII = one_step_away(S_0, S, S_WHITE_ASCII, 1)"
   ],
   "outputs": [],
   "execution_count": null
  },
  {
   "cell_type": "markdown",
   "source": [
    "## In einer Schleife die Liste mit S_n berechnen\n",
    "//TODO: Kommentare"
   ],
   "metadata": {
    "collapsed": false,
    "pycharm": {
     "name": "#%% md\n"
    },
    "cell_id": "00021-8548a15b-c683-4b4b-8b03-fa5cd07bfdd3",
    "deepnote_cell_type": "markdown"
   }
  },
  {
   "cell_type": "code",
   "metadata": {
    "collapsed": false,
    "pycharm": {
     "name": "#%%\n"
    },
    "cell_id": "00022-1198b1a3-a0e9-4813-9774-182d1b5079c6",
    "deepnote_to_be_reexecuted": false,
    "source_hash": "5ee856a1",
    "execution_start": 1638464396132,
    "execution_millis": 81020,
    "deepnote_cell_type": "code"
   },
   "source": [
    "S_n_sequence = []\n",
    "S_n_sequence.append(S_0)\n",
    "S_n_sequence.append(S_1)\n",
    "while True:\n",
    "\n",
    "    S_n_new, S, S_WHITE_ASCII = one_step_away(S_n_sequence[-1], S, S_WHITE_ASCII, len(S_n_sequence))\n",
    "    if not S_n_new: #an empty list is false\n",
    "        break\n",
    "    S_n_sequence.append(S_n_new)\n",
    "\n",
    "print(\"Completed\")\n",
    "print(len(S_n_sequence))\n",
    "print(len(S))"
   ],
   "outputs": [],
   "execution_count": null
  },
  {
   "cell_type": "markdown",
   "source": "## Ascii Representationen erstellen",
   "metadata": {
    "collapsed": false,
    "pycharm": {
     "name": "#%% md\n"
    },
    "cell_id": "00023-716352b8-e4b2-41d9-89f8-7b1da6fb673d",
    "deepnote_cell_type": "markdown"
   }
  },
  {
   "cell_type": "code",
   "metadata": {
    "collapsed": false,
    "pycharm": {
     "name": "#%%\n"
    },
    "cell_id": "00024-030967b2-a8ec-4018-807d-855ed2221360",
    "deepnote_to_be_reexecuted": true,
    "source_hash": "c52e24f3",
    "execution_start": 1638463915838,
    "execution_millis": 785,
    "deepnote_cell_type": "code"
   },
   "source": "S_n_seq_ascii_boards_list = []\n\nfor i in range(len(S_n_sequence)):\n    S_n_ascii_boards = []\n    for board in S_n_sequence[i]:\n        S_n_ascii_boards.append((board.turn, board.__str__()))\n    S_n_seq_ascii_boards_list.append(S_n_ascii_boards)",
   "outputs": [],
   "execution_count": null
  },
  {
   "cell_type": "markdown",
   "source": "## Exporting the list",
   "metadata": {
    "collapsed": false,
    "pycharm": {
     "name": "#%% md\n"
    },
    "cell_id": "00025-dd6a92e5-0b6d-4783-8028-273683c5b1fa",
    "deepnote_cell_type": "markdown"
   }
  },
  {
   "cell_type": "code",
   "metadata": {
    "collapsed": false,
    "pycharm": {
     "name": "#%%\n"
    },
    "cell_id": "00026-34a1af37-624a-4ffc-88e1-b53a4b00ef59",
    "deepnote_to_be_reexecuted": true,
    "source_hash": "7d95bfec",
    "execution_start": 1638463916638,
    "execution_millis": 19649,
    "deepnote_cell_type": "code"
   },
   "source": "S_n_seq_ascii = []\nS_ascii = []\n\nfor i in range(len(S_n_sequence)):\n    S_n_ascii = []\n    for board in S_n_sequence[i]:\n        S_n_ascii.append(board.fen())\n    S_n_seq_ascii.append(S_n_ascii)\n\nfor board in S:\n    S_ascii.append(board.fen())\n\nf = open(\"S_n_seq.json\", \"w\")\nf.write(json.dumps(S_n_seq_ascii))\nf.close()\n\nf = open(\"S_rem.json\", \"w\")\nf.write(json.dumps(S_ascii))\nf.close()\n",
   "outputs": [],
   "execution_count": null
  },
  {
   "cell_type": "markdown",
   "source": "<a style='text-decoration:none;line-height:16px;display:flex;color:#5B5B62;padding:10px;justify-content:end;' href='https://deepnote.com?utm_source=created-in-deepnote-cell&projectId=c2d65970-ce08-4505-aa56-a8fa174656aa' target=\"_blank\">\n<img alt='Created in deepnote.com' style='display:inline;max-height:16px;margin:0px;margin-right:7.5px;' src='data:image/svg+xml;base64,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' > </img>\nCreated in <span style='font-weight:600;margin-left:4px;'>Deepnote</span></a>",
   "metadata": {
    "tags": [],
    "created_in_deepnote_cell": true,
    "deepnote_cell_type": "markdown"
   }
  }
 ],
 "nbformat": 4,
 "nbformat_minor": 1,
 "metadata": {
  "kernelspec": {
   "display_name": "Python 3 (ipykernel)",
   "language": "python",
   "name": "python3"
  },
  "language_info": {
   "codemirror_mode": {
    "name": "ipython",
    "version": 3
   },
   "file_extension": ".py",
   "mimetype": "text/x-python",
   "name": "python",
   "nbconvert_exporter": "python",
   "pygments_lexer": "ipython3",
   "version": "3.9.7"
  },
  "deepnote_notebook_id": "a5659b7c-2299-4f56-8746-6a0bc95261a5",
  "deepnote": {},
  "deepnote_execution_queue": []
 }
}