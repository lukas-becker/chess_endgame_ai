{
 "cells": [
  {
   "cell_type": "markdown",
   "source": [
    "# Retrograde Analyse für das Schach-Endspiel\n",
    "_Beschreibung_\n",
    "\n",
    "Bekannte Probleme:\n",
    "* Nicht optimiert für ein Spielbrett mit Bauern\n",
    "\n",
    "Mögliche Verbesserungen:\n",
    "* Das Initialisieren des Notebooks in Funktionen kapseln, um erneute Ausführungen einfacher zu gestalten."
   ],
   "metadata": {
    "pycharm": {
     "name": "#%% md\n"
    },
    "cell_id": "00000-9fea07bb-15d0-4062-8157-9f13e890a25b",
    "deepnote_cell_type": "markdown"
   }
  },
  {
   "cell_type": "markdown",
   "source": [
    "## Imports\n",
    "Für das Notebook benötigte Imports\n",
    "* chess: Die Python-Schach-Bibliothek, mit welcher Schachbretter dargestellt werden, Züge und Zustände ausgewertet etc.\n",
    "* Factorial aus der Math-Library: Die Fakultät (n!) wird zum Aufstellen der Board_List benötigt\n",
    "* Clear_output aus der IPython-display-Library: Eine Funktion, die für die Fortschrittsanzeige von Berechnungen \n",
    "verwendet wird."
   ],
   "metadata": {
    "collapsed": true,
    "pycharm": {
     "name": "#%% md\n"
    },
    "cell_id": "00001-8f89f9e7-5c95-48c7-bb61-ecf4ee57006b",
    "deepnote_cell_type": "markdown"
   }
  },
  {
   "cell_type": "code",
   "metadata": {
    "pycharm": {
     "name": "#%%\n"
    },
    "cell_id": "00002-d30c901b-6df9-4cc9-aefb-720df6c6f30e",
    "deepnote_to_be_reexecuted": false,
    "source_hash": "4a4bd8b4",
    "execution_start": 1638464280543,
    "execution_millis": 41,
    "deepnote_cell_type": "code"
   },
   "source": [
    "import chess\n",
    "from math import factorial\n",
    "from IPython.display import clear_output\n",
    "import json"
   ],
   "outputs": [],
   "execution_count": null
  },
  {
   "cell_type": "markdown",
   "source": [
    "\n",
    "## Eingabe des Schachbretts, mit der Ausgangssituation\n",
    "Langfristig wird dies durch [@NicoMiller's](https://github.com/millerni) Board-Setup-Code ersetzt.\n",
    "Aktuell wird eine Fen eingegeben.\n",
    "Mit der Forsyth-Edwards-Notation kann der Zustand eines Schachbretts kompakt notiert werden. Mehr Infos zum Thema Fen \n",
    "finden sich [hier](https://www.chess.com/terms/fen-chess).\n",
    "\n",
    "Es stehen folgende Test-Cases zur Verfügung:\n",
    "* 1: Turm und König gegen König (``8/8/8/8/4k3/8/8/K6R w - - 0 1``)\n",
    "* 2: 2 Läufer und König gegen König (``4k3/8/8/8/8/8/8/2B1KB2 w - - 0 1``)\n",
    "\n",
    "Weiter wird in der folgenden Zelle das erste Board-Objekt erstellt.\n"
   ],
   "metadata": {
    "pycharm": {
     "name": "#%% md\n"
    },
    "cell_id": "00003-ea5d7827-1acb-4c66-8496-7f8df58df88b",
    "deepnote_cell_type": "markdown"
   }
  },
  {
   "cell_type": "code",
   "metadata": {
    "pycharm": {
     "name": "#%%\n"
    },
    "cell_id": "00004-1c5a0573-6bc6-4471-91cd-fa8f5e68ccc5",
    "deepnote_to_be_reexecuted": false,
    "source_hash": "f071a171",
    "execution_start": 1638464280626,
    "execution_millis": 0,
    "deepnote_cell_type": "code"
   },
   "source": [
    "# Test Case 1\n",
    "#fen = \"8/8/8/8/4k3/8/8/K6R w - - 0 1\"\n",
    "\n",
    "# Test Case 2\n",
    "fen = \"4k3/8/8/8/8/8/8/2B1KB2 w - - 0 1\"\n",
    "\n",
    "# Test Case with Pawn\n",
    "#fen = \"8/8/8/8/4k3/8/2P5/K7 w - - 0 1\"\n",
    "board = chess.Board(fen)"
   ],
   "outputs": [],
   "execution_count": null
  },
  {
   "cell_type": "markdown",
   "source": [
    "## Liste der Positionen auf einem Brett (_Square-Names_) bestimmen"
   ],
   "metadata": {
    "collapsed": false,
    "pycharm": {
     "name": "#%% md\n"
    }
   }
  },
  {
   "cell_type": "code",
   "execution_count": null,
   "outputs": [],
   "source": [
    "all_positions = []\n",
    "\n",
    "column_convert = {\n",
    "    1 : 'a',\n",
    "    2 : 'b',\n",
    "    3 : 'c',\n",
    "    4 : 'd',\n",
    "    5 : 'e',\n",
    "    6 : 'f',\n",
    "    7 : 'g',\n",
    "    8 : 'h'\n",
    "}\n",
    "\n",
    "all_squares = []\n",
    "for row in range(1,9):\n",
    "    for col_num in range(1,9):\n",
    "        column = column_convert[col_num]\n",
    "        all_squares.append(column + str(row))\n",
    "print(all_squares)"
   ],
   "metadata": {
    "collapsed": false,
    "pycharm": {
     "name": "#%%\n"
    }
   }
  },
  {
   "cell_type": "markdown",
   "source": [
    "## Einstellen der Figuren, welche Platziert werden sollen"
   ],
   "metadata": {
    "collapsed": false,
    "pycharm": {
     "name": "#%% md\n"
    }
   }
  },
  {
   "cell_type": "code",
   "execution_count": null,
   "outputs": [],
   "source": [
    "# 1 = White, 0 = Black\n",
    "figures_to_place = [(chess.ROOK, 1), (chess.KING, 1), (chess.KING, 0)]"
   ],
   "metadata": {
    "collapsed": false,
    "pycharm": {
     "name": "#%%\n"
    }
   }
  },
  {
   "cell_type": "markdown",
   "source": [
    "## Die *place\\_figure\\_everywhere\\_on\\_every\\_board* Hilfsfunktion"
   ],
   "metadata": {
    "collapsed": false,
    "pycharm": {
     "name": "#%% md\n"
    }
   }
  },
  {
   "cell_type": "code",
   "execution_count": null,
   "outputs": [],
   "source": [
    "def place_figure_everywhere_on_every_board(figure, list_of_boards):\n",
    "    result_list = []\n",
    "    for board in list_of_boards:\n",
    "        cur_piece_map = board.piece_map()\n",
    "        squares_used = list(cur_piece_map.keys())\n",
    "        for square in all_squares:\n",
    "            parsed_square = chess.parse_square(square)\n",
    "            if parsed_square not in squares_used:\n",
    "                tmp_board = board.copy()\n",
    "                tmp_board.set_piece_at(parsed_square, figure)\n",
    "                result_list.append(tmp_board)\n",
    "    return result_list"
   ],
   "metadata": {
    "collapsed": false,
    "pycharm": {
     "name": "#%%\n"
    }
   }
  },
  {
   "cell_type": "markdown",
   "source": [
    "## Die *check_boards* Hilfsfunktion"
   ],
   "metadata": {
    "collapsed": false,
    "pycharm": {
     "name": "#%% md\n"
    }
   }
  },
  {
   "cell_type": "code",
   "execution_count": null,
   "outputs": [],
   "source": [
    "def check_boards(board_list):\n",
    "    result_list = []\n",
    "    for board in board_list:\n",
    "        if board.is_valid():\n",
    "            result_list.append(board)\n",
    "    return result_list"
   ],
   "metadata": {
    "collapsed": false,
    "pycharm": {
     "name": "#%%\n"
    }
   }
  },
  {
   "cell_type": "markdown",
   "source": [
    "## Create S"
   ],
   "metadata": {
    "collapsed": false,
    "pycharm": {
     "name": "#%% md\n"
    }
   }
  },
  {
   "cell_type": "code",
   "execution_count": null,
   "outputs": [],
   "source": [
    "empty_board = chess.Board().empty()\n",
    "white_boards = [empty_board]\n",
    "for fig in figures_to_place:\n",
    "    white_boards = place_figure_everywhere_on_every_board(chess.Piece(fig[0], fig[1]), white_boards)\n",
    "    print(len(white_boards))\n",
    "\n",
    "# All checked boards board.turn = White\n",
    "S_White = check_boards(white_boards)\n",
    "S_White_Ascii = [x.__str__() for x in S_White]\n",
    "print(len(S_White))\n",
    "\n",
    "empty_board.turn = chess.BLACK\n",
    "black_boards = [empty_board]\n",
    "for fig in figures_to_place:\n",
    "    black_boards = place_figure_everywhere_on_every_board(chess.Piece(fig[0], fig[1]), black_boards)\n",
    "    print(len(black_boards))\n",
    "\n",
    "# All checked boards board.turn = White\n",
    "S_Black = check_boards(black_boards)\n",
    "S_Black_Ascii = [x.__str__() for x in S_Black]\n",
    "print(len(S_Black))\n",
    "\n",
    "S = S_White + S_Black\n",
    "print(len(S))\n",
    "S_Ascii = S_White_Ascii + S_Black_Ascii\n",
    "print(len(S_Ascii))"
   ],
   "metadata": {
    "collapsed": false,
    "pycharm": {
     "name": "#%%\n"
    }
   }
  },
  {
   "cell_type": "markdown",
   "source": [
    "## Gewonnene Spielbretter finden und zu S\\_0 hinzufügen\n",
    "* Über den Inhalt von S iterieren.\n",
    "* Status-Informationen von der Bibliothek abfragen und überprüfen, ob ein Spieler gewonnen hat.\n",
    "* Wenn ja, das Objekt zu *S\\_0* hinzufügen.\n",
    "  Weiter werden die Objekte in ihrer String-Representation zu *S\\_0\\_ASCII* hinzugefügt.\n",
    "* Wenn nicht, das Objekt in *S\\_tmp* hinzufügen. (Dies ist effizienter als das Objekt aus der Liste S zu entfernen)\n",
    "* Die ursprüngliche Liste S mit *S\\_tmp* ersetzen."
   ],
   "metadata": {
    "pycharm": {
     "name": "#%% md\n"
    },
    "cell_id": "00015-f0f22380-8c49-4daa-8458-bbb6ae7fa221",
    "deepnote_cell_type": "markdown"
   }
  },
  {
   "cell_type": "code",
   "metadata": {
    "pycharm": {
     "name": "#%%\n"
    },
    "cell_id": "00016-55697476-08c1-459e-989e-b457c3240a09",
    "deepnote_to_be_reexecuted": false,
    "source_hash": "11c2b8f1",
    "execution_start": 1638464294399,
    "execution_millis": 25121,
    "deepnote_cell_type": "code"
   },
   "source": [
    "S_tmp = []\n",
    "S_ASCII = []\n",
    "S_0 = []\n",
    "S_0_ASCII = []\n",
    "S_WHITE_ASCII = []\n",
    "\n",
    "for board in S:\n",
    "    outcome = board.outcome()\n",
    "    # If True Game has finished in a certain way\n",
    "    if outcome is not None:\n",
    "        # A winner has been determined\n",
    "        if outcome.winner is not None and board.is_valid():\n",
    "            S_0.append(board)\n",
    "            S_0_ASCII.append((board.turn,board.__str__()))\n",
    "    # Every other board\n",
    "    else:\n",
    "        S_tmp.append(board)\n",
    "        S_ASCII.append((board.turn, board.__str__()))\n",
    "S = S_tmp\n",
    "\n"
   ],
   "outputs": [],
   "execution_count": null
  },
  {
   "cell_type": "markdown",
   "source": [
    "## OneStepAway Funktion\n",
    "Diese Funktion wählt (aus zwei Listen mit Board-Objekten) die Spielbretter aus der zweiten Liste, welche einen \n",
    "Spielzug von einem Spielbrett in der ersten Liste entfernt sind.\n",
    "\n",
    "Funktionsargumente:\n",
    "* S_n: Die Liste mit Board-Objekten, deren Spielbretter sich n Züge vom Sieg entfernt befinden\n",
    "* S: Die Liste, aus welcher die nächste Stufe ausgewählt werden soll\n",
    "\n",
    "Nebeneffekte:\n",
    "Keine.\n",
    "Alle als Parameter übergebenen Listen bleiben unverändert.\n",
    "\n",
    "Algorithmus:\n",
    "* Für effizientere Vergleiche für jedes Objekt in *S* die ASCII-Representation speichern.\n",
    "* Über die Objekte in *S_n* iterieren\n",
    "  * Den Spieler, welcher am Zug ist wechseln (Da um im aktuellen Zustand anzukommen der andere Spieler einen Zug \n",
    "  gemacht hat)\n",
    "  * pseudo legale Spielzüge von der Bibliothek berechnen Lassen\n",
    "    Ein pseudo legaler Spielzug ist ein Spielzug, welcher die grundsätzlichen Bewegungsregeln der Figur einhält,\n",
    "    aber das Schachbrett unter Umständen in einem nicht regelkonformen Zustand versetzt.\n",
    "  * Über diese Spielzüge iterieren\n",
    "    * Den Zug ausführen\n",
    "    * Überprüfen, ob das Board sich in einem erlaubten Zustand befindet.\n",
    "      Wenn nein, den Schleifendurchlauf abbrechen.\n",
    "    * Mittels der ASCII-Representation überprüfen, ob das modifizierte Spielbrett in *S* gefunden wird.\n",
    "    * Wenn es gefunden wird, die ASCII-Representation zu *s_n1_ascii* hinzufügen\n",
    "    * Den Zug rückgängig machen\n",
    "  * Den Spieler, welcher ursprünglich am Zug war wiederherstellen.\n",
    "* Über *S* iterieren\n",
    "  * Wenn sich das Spielbrett in *s_n1_ascii* befindet, wird es *s_n1* hinzugefügt.\n",
    "  * Wenn sich das Spielbrett nicht in *s_n1_ascii* befindet, wird es *s_tmp* hinzugefügt.\n",
    "* *s_n1* und *s_tmp* als Tupel zurückgeben."
   ],
   "metadata": {
    "pycharm": {
     "name": "#%% md\n"
    },
    "cell_id": "00017-71dbb18a-b442-4217-96bc-991bdbbe4099",
    "deepnote_cell_type": "markdown"
   }
  },
  {
   "cell_type": "code",
   "metadata": {
    "pycharm": {
     "name": "#%%\n"
    },
    "cell_id": "00018-6f30589f-4a50-41e1-aabe-3338bcbc70b9",
    "deepnote_to_be_reexecuted": false,
    "source_hash": "d6bac79e",
    "execution_start": 1638464319562,
    "execution_millis": 1,
    "deepnote_cell_type": "code"
   },
   "source": [
    "def one_step_away(S_n, S, s_white_ascii, iterationCount):\n",
    "    #variables\n",
    "    s_n1 = []\n",
    "    s_n1_tmp = []\n",
    "    s_n1_ascii = []\n",
    "    s_ascii = []\n",
    "    s_n_ascii = []\n",
    "    s_tmp = []\n",
    "\n",
    "    #create temporary list for comparison\n",
    "    for chessBoard in S:\n",
    "        s_ascii.append((chessBoard.turn, chessBoard.__str__()))\n",
    "\n",
    "    for chessBoard in S_n:\n",
    "        s_n_ascii.append((chessBoard.turn, chessBoard.__str__()))\n",
    "\n",
    "    for i in range(len(S_n)):\n",
    "\n",
    "        if iterationCount is not None:\n",
    "            status = \"Calculating S\" + str(iterationCount) + \" - Board \" + str(i+1) + \" of \" + str(len(S_n)) + \\\n",
    "                     \" from S\" + str(iterationCount-1)\n",
    "        else:\n",
    "            status = \"Board \" + str(i+1) + \" of \" + str(len(S_n))\n",
    "        clear_output(wait=True)\n",
    "        print(status)\n",
    "\n",
    "        # Get current board and invert the player\n",
    "        chessBoard = S_n[i]\n",
    "        chessBoard.turn = chessBoard.turn ^ True\n",
    "\n",
    "        # Find all Pawns\n",
    "        pawn_at = []\n",
    "        for pawn in chessBoard.pieces(chess.PAWN, True):\n",
    "            pawn_at.append(chess.square_name(pawn))\n",
    "\n",
    "        # try moves and check if they remain in S\n",
    "        for pLMove in chessBoard.pseudo_legal_moves:\n",
    "            if chess.square_name(pLMove.from_square) not in pawn_at:\n",
    "                chessBoard.push(pLMove)\n",
    "                if not chessBoard.is_valid():\n",
    "                    chessBoard.pop()\n",
    "                    continue\n",
    "                # If the new board is found in S, it can be reached in one step\n",
    "                if (chessBoard.turn ^ True, chessBoard.__str__()) in s_ascii:\n",
    "                    s_n1_ascii.append((chessBoard.turn ^ True, chessBoard.__str__()))\n",
    "                chessBoard.pop()\n",
    "        '''\n",
    "        * As pawns only move forward their move cannot cannot be reversed through the pseudo legal moves\n",
    "        * to mitigate this the pawn is moved back one row manually\n",
    "        '''\n",
    "        for pawn in chessBoard.pieces(chess.PAWN, True):\n",
    "            if chessBoard.piece_at(pawn - 9) is None:\n",
    "                chessBoard.remove_piece_at(pawn)\n",
    "                chessBoard.set_piece_at(pawn - 9, chess.Piece.from_symbol('P'))\n",
    "                print(chessBoard)\n",
    "                if chessBoard.is_valid():\n",
    "                    if (chessBoard.turn ^ True, chessBoard.__str__()) in s_ascii:\n",
    "                        s_n1_ascii.append((chessBoard.turn ^ True, chessBoard.__str__()))\n",
    "                chessBoard.remove_piece_at(pawn - 9)\n",
    "                chessBoard.set_piece_at(pawn, chess.Piece.from_symbol('P'))\n",
    "        '''\n",
    "        * As pawns can be exchanged to other figures and this cannot be undone this exchange can also not be reversed\n",
    "        * through the pseudo legal moves.\n",
    "        * To mitigate this a pawn will be placed in the top row in the spot of a queen\n",
    "        '''\n",
    "        queen = check_top_row(chessBoard)\n",
    "        if queen:\n",
    "            chessBoard.remove_piece_at(queen)\n",
    "            chessBoard.set_piece_at(queen, chess.Piece.from_symbol('P'))\n",
    "            if chessBoard.is_valid():\n",
    "                if (chessBoard.turn ^ True, chessBoard.__str__()) in s_ascii:\n",
    "                    s_n1_ascii.append((chessBoard.turn ^ True, chessBoard.__str__()))\n",
    "            chessBoard.remove_piece_at(queen)\n",
    "            chessBoard.set_piece_at(queen, chess.Piece.from_symbol('Q'))\n",
    "\n",
    "        # Restore the original state of the board\n",
    "        chessBoard.turn = chessBoard.turn ^ True\n",
    "\n",
    "    clear_output(wait=True)\n",
    "    if iterationCount is not None:\n",
    "        print(\"Calculating S\" + str(iterationCount) + \" - Mapping ASCII boards to board objects\")\n",
    "    else:\n",
    "        print(\"Mapping ASCII boards to board objects\")\n",
    "    #create return lists\n",
    "    for chessBoard in S:\n",
    "        if(chessBoard.turn, chessBoard.__str__()) in s_n1_ascii:\n",
    "            s_n1.append(chessBoard)\n",
    "        else:\n",
    "            s_tmp.append(chessBoard)\n",
    "\n",
    "\n",
    "    clear_output(wait=True)\n",
    "    if iterationCount is not None:\n",
    "        print(\"Calculating S\" + str(iterationCount) + \" - Checking Black Moves for determinism\")\n",
    "    else:\n",
    "        print(\"Checking Black Moves for determinism\")\n",
    "\n",
    "    '''\n",
    "    * We can choose every turn white does, but not for black.\n",
    "    * If one particular move from black brings the board from S_n to S_n-1 it is not guaranteed that every move\n",
    "    * black can do does so as well.\n",
    "    * To mitigate this only boards where every move ends up in a lower denomination of S will be added to the currently\n",
    "    * calculated one.\n",
    "    * For efficiency an ascii representation is carried through all calculations.\n",
    "    '''\n",
    "    # Only needed for Black-Moves\n",
    "    for chessBoard in s_n1:\n",
    "        include = True\n",
    "        if not chessBoard.turn:\n",
    "            for move in chessBoard.legal_moves:\n",
    "                chessBoard.push(move)\n",
    "                str_rep = (chessBoard.turn, chessBoard.__str__())\n",
    "                chessBoard.pop()\n",
    "                if str_rep not in s_white_ascii:\n",
    "                    include = False\n",
    "        if include:\n",
    "            s_n1_tmp.append(chessBoard)\n",
    "        else:\n",
    "            s_tmp.append(chessBoard)\n",
    "    s_n1 = s_n1_tmp\n",
    "\n",
    "    # Only needed for White-Moves\n",
    "    if iterationCount % 2 == 1:\n",
    "        s_white_ascii = s_white_ascii + s_n1_ascii\n",
    "\n",
    "\n",
    "    clear_output(wait=True)\n",
    "    print(\"Done with S\" + str(iterationCount) + \" - \" + str(len(s_tmp)) + \" Boards remaining in S\")\n",
    "\n",
    "\n",
    "\n",
    "    return s_n1, s_tmp, s_white_ascii"
   ],
   "outputs": [],
   "execution_count": 31
  },
  {
   "cell_type": "markdown",
   "source": [
    "## Die *check\\_top\\_row* Hilfsfunktion\n",
    "Diese Funktion überprüft, ob sich in der obersten Reihe eines Boards eine Königin befindet und gibt ggf. \n",
    "die Quadrat-Nummer zurück."
   ],
   "metadata": {
    "collapsed": false,
    "pycharm": {
     "name": "#%% md\n"
    }
   }
  },
  {
   "cell_type": "code",
   "execution_count": null,
   "outputs": [],
   "source": [
    "def check_top_row(board):\n",
    "    for i in range(56, 64):\n",
    "        if board.piece_type_at(i) == chess.QUEEN:\n",
    "            return i\n",
    "\n",
    "        return False"
   ],
   "metadata": {
    "collapsed": false,
    "pycharm": {
     "name": "#%%\n"
    }
   }
  },
  {
   "cell_type": "markdown",
   "source": [
    "## In einer Schleife die Liste mit S_n berechnen\n",
    "Solange Boards einem n zugeordnet werden, wird die Schleife weitergeführt. Sie wird abgebrochen, wenn S_n+1 leer ist."
   ],
   "metadata": {
    "collapsed": false,
    "pycharm": {
     "name": "#%% md\n"
    },
    "cell_id": "00021-8548a15b-c683-4b4b-8b03-fa5cd07bfdd3",
    "deepnote_cell_type": "markdown"
   }
  },
  {
   "cell_type": "code",
   "metadata": {
    "collapsed": false,
    "pycharm": {
     "name": "#%%\n"
    },
    "cell_id": "00022-1198b1a3-a0e9-4813-9774-182d1b5079c6",
    "deepnote_to_be_reexecuted": false,
    "source_hash": "5ee856a1",
    "execution_start": 1638464396132,
    "execution_millis": 81020,
    "deepnote_cell_type": "code"
   },
   "source": [
    "S_n_sequence = [S_0]\n",
    "while True:\n",
    "\n",
    "    S_n_new, S, S_WHITE_ASCII = one_step_away(S_n_sequence[-1], S, S_WHITE_ASCII, len(S_n_sequence))\n",
    "    if not S_n_new: #an empty list is false\n",
    "        break\n",
    "    S_n_sequence.append(S_n_new)\n",
    "\n",
    "print(\"Abgeschlossen\")\n",
    "print(str(len(S_n_sequence)) + \" S gefunden\")\n",
    "print(str(len(S)) + \" Boards konnten nicht zugeordnet werden.\")"
   ],
   "outputs": [],
   "execution_count": null
  },
  {
   "cell_type": "markdown",
   "source": [
    "## Ergebnis in Datei schreiben"
   ],
   "metadata": {
    "collapsed": false,
    "pycharm": {
     "name": "#%% md\n"
    },
    "cell_id": "00025-dd6a92e5-0b6d-4783-8028-273683c5b1fa",
    "deepnote_cell_type": "markdown"
   }
  },
  {
   "cell_type": "code",
   "metadata": {
    "collapsed": false,
    "pycharm": {
     "name": "#%%\n"
    },
    "cell_id": "00026-34a1af37-624a-4ffc-88e1-b53a4b00ef59",
    "deepnote_to_be_reexecuted": true,
    "source_hash": "7d95bfec",
    "execution_start": 1638463916638,
    "execution_millis": 19649,
    "deepnote_cell_type": "code"
   },
   "source": [
    "S_n_seq_ascii = []\n",
    "S_ascii = []\n",
    "\n",
    "for i in range(len(S_n_sequence)):\n",
    "    S_n_ascii = []\n",
    "    for board in S_n_sequence[i]:\n",
    "        S_n_ascii.append(board.fen())\n",
    "    S_n_seq_ascii.append(S_n_ascii)\n",
    "\n",
    "for board in S:\n",
    "    S_ascii.append(board.fen())\n",
    "\n",
    "f = open(\"S_n_seq.json\", \"w\")\n",
    "f.write(json.dumps(S_n_seq_ascii))\n",
    "f.close()\n",
    "\n",
    "f = open(\"S_rem.json\", \"w\")\n",
    "f.write(json.dumps(S_ascii))\n",
    "f.close()"
   ],
   "outputs": [],
   "execution_count": null
  }
 ],
 "nbformat": 4,
 "nbformat_minor": 1,
 "metadata": {
  "kernelspec": {
   "display_name": "Python 3 (ipykernel)",
   "language": "python",
   "name": "python3"
  },
  "language_info": {
   "codemirror_mode": {
    "name": "ipython",
    "version": 3
   },
   "file_extension": ".py",
   "mimetype": "text/x-python",
   "name": "python",
   "nbconvert_exporter": "python",
   "pygments_lexer": "ipython3",
   "version": "3.9.7"
  },
  "deepnote_notebook_id": "a5659b7c-2299-4f56-8746-6a0bc95261a5",
  "deepnote": {},
  "deepnote_execution_queue": []
 }
}