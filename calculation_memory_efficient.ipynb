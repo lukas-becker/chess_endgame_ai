{
 "cells": [
  {
   "cell_type": "markdown",
   "source": [
    "# Retrograde Analyse für das Schach-Endspiel\n",
    "_Beschreibung_\n",
    "\n",
    "Bekannte Probleme:\n",
    "* Nicht optimiert für ein Spielbrett mit Bauern"
   ],
   "metadata": {
    "pycharm": {
     "name": "#%% md\n"
    },
    "cell_id": "00000-9fea07bb-15d0-4062-8157-9f13e890a25b",
    "deepnote_cell_type": "markdown"
   }
  },
  {
   "cell_type": "markdown",
   "source": [
    "## Imports\n",
    "Für das Notebook benötigte Imports\n",
    "* *chess*: Die Python-Schach-Bibliothek, mit welcher Schachbretter dargestellt werden, Züge und Zustände ausgewertet etc.\n",
    "* *clear_output* aus der IPython-display-Library: Eine Funktion, die für die Fortschrittsanzeige von Berechnungen\n",
    "verwendet wird.\n",
    "* *json*: Wird zum Speichern der Ergebnisse verwendet."
   ],
   "metadata": {
    "collapsed": true,
    "pycharm": {
     "name": "#%% md\n"
    },
    "cell_id": "00001-8f89f9e7-5c95-48c7-bb61-ecf4ee57006b",
    "deepnote_cell_type": "markdown"
   }
  },
  {
   "cell_type": "code",
   "metadata": {
    "pycharm": {
     "name": "#%%\n"
    },
    "cell_id": "00002-d30c901b-6df9-4cc9-aefb-720df6c6f30e",
    "deepnote_to_be_reexecuted": false,
    "source_hash": "4a4bd8b4",
    "execution_start": 1638464280543,
    "execution_millis": 41,
    "deepnote_cell_type": "code"
   },
   "source": [
    "import chess\n",
    "from IPython.display import clear_output\n",
    "import json"
   ],
   "outputs": [],
   "execution_count": 13
  },
  {
   "cell_type": "markdown",
   "source": [
    "## Liste der Positionen auf einem Brett (_Square-Names_) bestimmen\n",
    "\n",
    "Ein Schachbrett ist aufgebaut aus Spalten und Zeilen. Spalten werden durch Buchstaben gekennzeichnet, Zeilen durch\n",
    "Zahlen. Aus der Kombination einer Spalte (z.B. a) und einer Zahl (z.B. 1) erhält man eine eindeutige\n",
    "Kennzeichnung für ein Feld (z.B. a1).\n",
    "\n",
    "Im folgenden Code werden die Buchstaben a bis h mit den Zahlen 1 bis 8 zu diesen Feldnamen konvertiert und in\n",
    "*all_squares* gespeichert."
   ],
   "metadata": {
    "collapsed": false,
    "pycharm": {
     "name": "#%% md\n"
    }
   }
  },
  {
   "cell_type": "code",
   "execution_count": 14,
   "outputs": [],
   "source": [
    "column_convert = {\n",
    "    1 : 'a',\n",
    "    2 : 'b',\n",
    "    3 : 'c',\n",
    "    4 : 'd',\n",
    "    5 : 'e',\n",
    "    6 : 'f',\n",
    "    7 : 'g',\n",
    "    8 : 'h'\n",
    "}\n",
    "\n",
    "all_squares = []\n",
    "for row in range(1,9):\n",
    "    for col_num in range(1,9):\n",
    "        column = column_convert[col_num]\n",
    "        all_squares.append(column + str(row))\n",
    "#print(all_squares)"
   ],
   "metadata": {
    "collapsed": false,
    "pycharm": {
     "name": "#%%\n"
    }
   }
  },
  {
   "cell_type": "markdown",
   "source": [
    "## Einstellen der Figuren, welche Platziert werden sollen\n",
    "In der folgenden Liste werden alle Figuren aufgeführt, für welche die Endspiel-Datenbank berechnet werden soll.\n",
    "Jeder eintrag in der Liste ist ein Tupel bestehend aus Figur und Farbe.\n",
    "Bsp.: ``(chess.KING, chess.WHITE)``\n",
    "\n",
    "Die Reihenfolge oder Position der Figuren ist für die Berechnung nicht relevant.\n",
    "Diese wird erst im nächsten Schritt (der Auswertung) benötigt."
   ],
   "metadata": {
    "collapsed": false,
    "pycharm": {
     "name": "#%% md\n"
    }
   }
  },
  {
   "cell_type": "code",
   "execution_count": 15,
   "outputs": [],
   "source": [
    "figures_to_place = [(chess.BISHOP, chess.WHITE),(chess.BISHOP, chess.WHITE), (chess.KING, chess.WHITE), (chess.KING, chess.BLACK)]"
   ],
   "metadata": {
    "collapsed": false,
    "pycharm": {
     "name": "#%%\n"
    }
   }
  },
  {
   "cell_type": "markdown",
   "source": [
    "## Die *place\\_figure\\_everywhere\\_on\\_every\\_board* Hilfsfunktion\n",
    "Diese Funktion Platziert eine Figur auf allen Feldern jedes Boards in einer übergebenen Liste.\n",
    "\n",
    "Funktionsargumente:\n",
    "* *figure*: Die zu platzierende Figur, als Objekt der chess-Library\n",
    "* *list_of_boards*: Eine Liste mit Boards, auf welchen die Figur platziert werden soll\n",
    "\n",
    "Nebeneffekte:\n",
    "* Keine. Es wird mit Kopien der original Objekte gearbeitet.\n",
    "\n",
    "Algorithmus:\n",
    "* Über alle Spielbretter in der *list_of_boards* iterieren\n",
    "* Die bereits verwendeten Spielfelder speichern\n",
    "* Über alle Spielfelder iterieren\n",
    "* Wenn das Spielfeld noch nicht benutzt ist:\n",
    "  * Das Spielbrett kopieren und die Figur auf diesem Feld platzieren\n",
    "  * Die Kopie der Ergebnisliste anfügen\n",
    "* Ergebnis zurückgeben"
   ],
   "metadata": {
    "collapsed": false,
    "pycharm": {
     "name": "#%% md\n"
    }
   }
  },
  {
   "cell_type": "code",
   "execution_count": 16,
   "outputs": [],
   "source": [
    "def place_figure_everywhere_on_every_board(figure, list_of_boards):\n",
    "    result_list = []\n",
    "    for fen in list_of_boards:\n",
    "        board = chess.Board(fen)\n",
    "        cur_piece_map = board.piece_map()\n",
    "        squares_used = list(cur_piece_map.keys())\n",
    "        for square in all_squares:\n",
    "            parsed_square = chess.parse_square(square)\n",
    "            if parsed_square not in squares_used:\n",
    "                tmp_board = board.copy()\n",
    "                tmp_board.set_piece_at(parsed_square, figure)\n",
    "                result_list.append(tmp_board.fen())\n",
    "    return result_list"
   ],
   "metadata": {
    "collapsed": false,
    "pycharm": {
     "name": "#%%\n"
    }
   }
  },
  {
   "cell_type": "markdown",
   "source": [
    "## Die *check_boards* Hilfsfunktion\n",
    "Diese Funktion überprüft eine Liste von Boards auf Validität und gibt eine Liste valider Boards zurück.\n",
    "\n",
    "Funktionsargumente:\n",
    "* *board_list*: Liste mit zu überprüfenden Spielbrettern\n",
    "\n",
    "Nebeneffekte:\n",
    "* Keine. Die übergebene Liste wird nicht verändert.\n",
    "\n",
    "Algorithmus:\n",
    "Iterieren über alle Boards, überprüfen dieser mittels der *is_valid* Funktion und zurückgeben der validen."
   ],
   "metadata": {
    "collapsed": false,
    "pycharm": {
     "name": "#%% md\n"
    }
   }
  },
  {
   "cell_type": "code",
   "execution_count": 17,
   "outputs": [],
   "source": [
    "def check_boards(board_list):\n",
    "    result_list = []\n",
    "    for fen in board_list:\n",
    "        board = chess.Board(fen)\n",
    "        if board.is_valid():\n",
    "            result_list.append(fen)\n",
    "    return result_list"
   ],
   "metadata": {
    "collapsed": false,
    "pycharm": {
     "name": "#%%\n"
    }
   }
  },
  {
   "cell_type": "markdown",
   "source": [
    "## Die Ursprungsmenge S erstellen\n",
    "Die Liste S enthält alle möglichen Konstellationen der Spielfiguren auf dem Spielbrett.\n",
    "Hierfür werden zuerst die Figuren auf allen Positionen platziert.\n",
    "Pro Farbe am Zug (schwarz und weiß) werden somit\n",
    "$$\n",
    "\\frac{64!}{(64-count(pieces))!}\n",
    "$$\n",
    "verschiedene Boards erstellt.\n",
    "Diese werden anschließend auf Validität überprüft und in einer Liste zusammengeführt."
   ],
   "metadata": {
    "collapsed": false,
    "pycharm": {
     "name": "#%% md\n"
    }
   }
  },
  {
   "cell_type": "code",
   "execution_count": null,
   "outputs": [
    {
     "name": "stdout",
     "output_type": "stream",
     "text": [
      "64\n",
      "4032\n",
      "249984\n"
     ]
    }
   ],
   "source": [
    "empty_board = chess.Board().empty()\n",
    "white_boards = [empty_board.fen()]\n",
    "for fig in figures_to_place:\n",
    "    white_boards = place_figure_everywhere_on_every_board(chess.Piece(fig[0], fig[1]), white_boards)\n",
    "    print(len(white_boards))\n",
    "\n",
    "# All checked boards board.turn = White\n",
    "S_White = check_boards(white_boards)\n",
    "print(len(S_White))\n",
    "\n",
    "empty_board.turn = chess.BLACK\n",
    "black_boards = [empty_board.fen()]\n",
    "for fig in figures_to_place:\n",
    "    black_boards = place_figure_everywhere_on_every_board(chess.Piece(fig[0], fig[1]), black_boards)\n",
    "    print(len(black_boards))\n",
    "\n",
    "# All checked boards board.turn = White\n",
    "S_Black = check_boards(black_boards)\n",
    "print(len(S_Black))\n",
    "\n",
    "S = S_White + S_Black\n",
    "print(str(len(S)) + \" Boards in S\")\n"
   ],
   "metadata": {
    "collapsed": false,
    "pycharm": {
     "name": "#%%\n",
     "is_executing": true
    }
   }
  },
  {
   "cell_type": "markdown",
   "source": [
    "## Gewonnene Spielbretter finden und zu $S_0$ hinzufügen\n",
    "* Über den Inhalt von $S$ iterieren.\n",
    "* Status-Informationen von der Bibliothek abfragen und überprüfen, ob ein Spieler gewonnen hat.\n",
    "* Wenn ja, das Objekt zu $S_0$ hinzufügen.\n",
    "  Weiter werden die Objekte in ihrer String-Representation zu $S_{0-ASCII}$ hinzugefügt.\n",
    "* Wenn nicht, das Objekt in $S_{tmp}$ hinzufügen. (Dies ist effizienter als das Objekt aus der Liste $S$ zu entfernen)\n",
    "* Die ursprüngliche Liste S mit $S_{tmp}$ ersetzen."
   ],
   "metadata": {
    "pycharm": {
     "name": "#%% md\n"
    },
    "cell_id": "00015-f0f22380-8c49-4daa-8458-bbb6ae7fa221",
    "deepnote_cell_type": "markdown"
   }
  },
  {
   "cell_type": "code",
   "metadata": {
    "pycharm": {
     "name": "#%%\n",
     "is_executing": true
    },
    "cell_id": "00016-55697476-08c1-459e-989e-b457c3240a09",
    "deepnote_to_be_reexecuted": false,
    "source_hash": "11c2b8f1",
    "execution_start": 1638464294399,
    "execution_millis": 25121,
    "deepnote_cell_type": "code"
   },
   "source": [
    "S_tmp = []\n",
    "S_ASCII = []\n",
    "S_0 = []\n",
    "S_0_ASCII = []\n",
    "S_White_Ascii = []\n",
    "\n",
    "for fen in S:\n",
    "    board = chess.Board(fen)\n",
    "    outcome = board.outcome()\n",
    "    # If True Game has finished in a certain way\n",
    "    if outcome is not None:\n",
    "        # A winner has been determined\n",
    "        if outcome.winner is not None and board.is_valid():\n",
    "            S_0.append(board.fen())\n",
    "            S_0_ASCII.append((board.turn,board.__str__()))\n",
    "    # Every other board\n",
    "    else:\n",
    "        S_tmp.append(board.fen())\n",
    "        S_ASCII.append((board.turn, board.__str__()))\n",
    "S = S_tmp"
   ],
   "outputs": [],
   "execution_count": null
  },
  {
   "cell_type": "markdown",
   "source": [
    "## OneStepAway Funktion\n",
    "Diese Funktion wählt (aus zwei Listen mit Board-Objekten) die Spielbretter aus der zweiten Liste, welche einen\n",
    "Spielzug von einem Spielbrett in der ersten Liste entfernt sind.\n",
    "\n",
    "Funktionsargumente:\n",
    "* $S_n$: Die Liste mit Board-Objekten, deren Spielbretter sich $n$ Züge vom Sieg entfernt befinden\n",
    "* $S$: Die Liste, aus welcher die nächste Stufe ausgewählt werden soll\n",
    "* $S_{white-ASCII}$: Liste der ASCII Representationen aller bereits zugeordneten Spielbretter mit weiß am Zug.\n",
    "* *iteration_count*: $m$ des $S_m$, welches gerade berechnet wird.\n",
    "\n",
    "Nebeneffekte:\n",
    "Keine.\n",
    "Alle als Parameter übergebenen Listen bleiben unverändert.\n",
    "\n",
    "Algorithmus:\n",
    "* Für effizientere Vergleiche für jedes Objekt in $S$ die ASCII-Representation speichern.\n",
    "* Über die Objekte in $S_n$ iterieren\n",
    "  * Den Spieler, welcher am Zug ist wechseln (Da um im aktuellen Zustand anzukommen der andere Spieler einen Zug\n",
    "  gemacht hat)\n",
    "  * pseudo legale Spielzüge von der Bibliothek berechnen Lassen:\n",
    "    Ein pseudo legaler Spielzug ist ein Spielzug, welcher die grundsätzlichen Bewegungsregeln der Figur einhält,\n",
    "    aber das Schachbrett unter Umständen in einem nicht regelkonformen Zustand versetzt.\n",
    "  * Über diese Spielzüge iterieren\n",
    "    * Den Zug ausführen\n",
    "    * Überprüfen, ob das Board sich in einem erlaubten Zustand befindet.\n",
    "      Wenn nein, den Schleifendurchlauf abbrechen.\n",
    "    * Mittels der ASCII-Representation überprüfen, ob das modifizierte Spielbrett in $S$ gefunden wird.\n",
    "    * Wenn es gefunden wird, die ASCII-Representation zu $s_{n+1-ASCII}$ hinzufügen\n",
    "    * Den Zug rückgängig machen\n",
    "  * Den Spieler, welcher ursprünglich am Zug war wiederherstellen.\n",
    "* Über $S$ iterieren\n",
    "  * Wenn sich das Spielbrett in $S_{n+1-ASCII}$ befindet, wird es $S_{n+1}$ hinzugefügt.\n",
    "    * Besonderheit für Spielbretter, bei welchen Schwarz am Zug ist: Diese werden nur zu $S_{n+1}$ hinzugefügt, wenn\n",
    "    alle Züge, welche von dieser Position möglich sind in einem $S_m$ mit $m < n$ enden.\n",
    "    Für diese Überprüfung wird $S_{white-ASCII}$ verwendet.\n",
    "  * Wenn sich das Spielbrett nicht in $S_{n+1-ASCII}$ befindet, wird es $S_{tmp}$ hinzugefügt.\n",
    "* Wurden Positionen mit Weiß am Zug berechnet, diese $S_{white-ASCII}$ hinzufügen.\n",
    "* $S_{n+1}$, $s_{tmp}$ und $S_{white-ASCII}$ als Tupel zurückgeben.\n",
    "\n",
    "Ergänzungen zum Algorithmus:\n",
    "* Da Bauern nur in eine Richtung laufen können, müssen die rückwärts Schritte eines Bauern manuell durchgeführt werden.\n",
    "Bauern werden daher im ersten Schritt ignoriert.\n",
    "* Bauern, die die oberste Reihe des Spielfeldes erreichen können zu einer anderen Figur eingetauscht werden.\n",
    "Dieser Schritt wird nicht durch die Pseudo-Legal-Moves abgedeckt, daher wird, sollte sich eine Königin in der obersten\n",
    "Reihe diese manuell durch einen König ersetzt.\n"
   ],
   "metadata": {
    "pycharm": {
     "name": "#%% md\n"
    },
    "cell_id": "00017-71dbb18a-b442-4217-96bc-991bdbbe4099",
    "deepnote_cell_type": "markdown"
   }
  },
  {
   "cell_type": "code",
   "metadata": {
    "pycharm": {
     "name": "#%%\n",
     "is_executing": true
    },
    "cell_id": "00018-6f30589f-4a50-41e1-aabe-3338bcbc70b9",
    "deepnote_to_be_reexecuted": false,
    "source_hash": "d6bac79e",
    "execution_start": 1638464319562,
    "execution_millis": 1,
    "deepnote_cell_type": "code"
   },
   "source": [
    "def one_step_away(s_n, s, s_white_ascii, iteration_count):\n",
    "    #variables\n",
    "    s_n1 = []\n",
    "    s_n1_tmp = []\n",
    "    s_n1_ascii = []\n",
    "    s_ascii = []\n",
    "    s_n_ascii = []\n",
    "    s_tmp = []\n",
    "\n",
    "    #create temporary list for comparison\n",
    "    for fen in s:\n",
    "        chess_board = chess.Board(fen)\n",
    "        s_ascii.append((chess_board.turn, chess_board.__str__()))\n",
    "\n",
    "    for fen in s_n:\n",
    "        chess_board = chess.Board(fen)\n",
    "        s_n_ascii.append((chess_board.turn, chess_board.__str__()))\n",
    "\n",
    "    for i in range(len(s_n)):\n",
    "\n",
    "        if iteration_count is not None:\n",
    "            status = \"Calculating S\" + str(iteration_count) + \" - Board \" + str(i+1) + \" of \" + str(len(s_n)) + \\\n",
    "                     \" from S\" + str(iteration_count-1)\n",
    "        else:\n",
    "            status = \"Board \" + str(i+1) + \" of \" + str(len(s_n))\n",
    "        clear_output(wait=True)\n",
    "        print(status)\n",
    "\n",
    "        # Get current board and invert the player\n",
    "        chess_board = chess.Board(s_n[i])\n",
    "        chess_board.turn = chess_board.turn ^ True\n",
    "\n",
    "        # Find all Pawns\n",
    "        pawn_at = []\n",
    "        for pawn in chess_board.pieces(chess.PAWN, True):\n",
    "            pawn_at.append(chess.square_name(pawn))\n",
    "\n",
    "        # try moves and check if they remain in S\n",
    "        for pLMove in chess_board.pseudo_legal_moves:\n",
    "            if chess.square_name(pLMove.from_square) not in pawn_at:\n",
    "                chess_board.push(pLMove)\n",
    "                if not chess_board.is_valid():\n",
    "                    chess_board.pop()\n",
    "                    continue\n",
    "                # If the new board is found in S, it can be reached in one step\n",
    "                if (chess_board.turn ^ True, chess_board.__str__()) in s_ascii:\n",
    "                    s_n1_ascii.append((chess_board.turn ^ True, chess_board.__str__()))\n",
    "                chess_board.pop()\n",
    "        '''\n",
    "        * As pawns only move forward their move cannot cannot be reversed through the pseudo legal moves\n",
    "        * to mitigate this the pawn is moved back one row manually\n",
    "        '''\n",
    "        for pawn in chess_board.pieces(chess.PAWN, True):\n",
    "            if chess_board.piece_at(pawn - 9) is None:\n",
    "                chess_board.remove_piece_at(pawn)\n",
    "                chess_board.set_piece_at(pawn - 9, chess.Piece.from_symbol('P'))\n",
    "                print(chess_board)\n",
    "                if chess_board.is_valid():\n",
    "                    if (chess_board.turn ^ True, chess_board.__str__()) in s_ascii:\n",
    "                        s_n1_ascii.append((chess_board.turn ^ True, chess_board.__str__()))\n",
    "                chess_board.remove_piece_at(pawn - 9)\n",
    "                chess_board.set_piece_at(pawn, chess.Piece.from_symbol('P'))\n",
    "        '''\n",
    "        * As pawns can be exchanged to other figures and this cannot be undone this exchange can also not be reversed\n",
    "        * through the pseudo legal moves.\n",
    "        * To mitigate this a pawn will be placed in the top row in the spot of a queen\n",
    "        '''\n",
    "        queen = check_top_row(chess_board)\n",
    "        if queen:\n",
    "            for square in queen:\n",
    "                chess_board.remove_piece_at(square)\n",
    "                chess_board.set_piece_at(square, chess.Piece.from_symbol('P'))\n",
    "                if chess_board.is_valid():\n",
    "                    if (chess_board.turn ^ True, chess_board.__str__()) in s_ascii:\n",
    "                        s_n1_ascii.append((chess_board.turn ^ True, chess_board.__str__()))\n",
    "                chess_board.remove_piece_at(square)\n",
    "                chess_board.set_piece_at(square, chess.Piece.from_symbol('Q'))\n",
    "\n",
    "        # Restore the original state of the board\n",
    "        chess_board.turn = chess_board.turn ^ True\n",
    "\n",
    "    clear_output(wait=True)\n",
    "    if iteration_count is not None:\n",
    "        print(\"Calculating S\" + str(iteration_count) + \" - Mapping ASCII boards to board objects\")\n",
    "    else:\n",
    "        print(\"Mapping ASCII boards to board objects\")\n",
    "    #create return lists\n",
    "    for fen in s:\n",
    "        chess_board = chess.Board(fen)\n",
    "        if(chess_board.turn, chess_board.__str__()) in s_n1_ascii:\n",
    "            s_n1.append(chess_board.fen())\n",
    "        else:\n",
    "            s_tmp.append(chess_board.fen())\n",
    "\n",
    "\n",
    "    clear_output(wait=True)\n",
    "    if iteration_count is not None:\n",
    "        print(\"Calculating S\" + str(iteration_count) + \" - Checking Black Moves for determinism\")\n",
    "    else:\n",
    "        print(\"Checking Black Moves for determinism\")\n",
    "\n",
    "    '''\n",
    "    * We can choose every turn white does, but not for black.\n",
    "    * If one particular move from black brings the board from S_n to S_n-1 it is not guaranteed that every move\n",
    "    * black can do does so as well.\n",
    "    * To mitigate this only boards where every move ends up in a lower denomination of S will be added to the currently\n",
    "    * calculated one.\n",
    "    * For efficiency an ascii representation is carried through all calculations.\n",
    "    '''\n",
    "    # Only needed for Black-Moves\n",
    "    for fen in s_n1:\n",
    "        chess_board = chess.Board(fen)\n",
    "        include = True\n",
    "        if not chess_board.turn:\n",
    "            for move in chess_board.legal_moves:\n",
    "                chess_board.push(move)\n",
    "                str_rep = (chess_board.turn, chess_board.__str__())\n",
    "                chess_board.pop()\n",
    "                if str_rep not in s_white_ascii:\n",
    "                    include = False\n",
    "        if include:\n",
    "            s_n1_tmp.append(chess_board.fen())\n",
    "        else:\n",
    "            s_tmp.append(chess_board.fen())\n",
    "    s_n1 = s_n1_tmp\n",
    "\n",
    "    # Only needed for White-Moves\n",
    "    if iteration_count % 2 == 1:\n",
    "        s_white_ascii = s_white_ascii + s_n1_ascii\n",
    "\n",
    "\n",
    "    clear_output(wait=True)\n",
    "    print(\"Done with S\" + str(iteration_count) + \" - \" + str(len(s_tmp)) + \" Boards remaining in S\")\n",
    "\n",
    "\n",
    "\n",
    "    return s_n1, s_tmp, s_white_ascii"
   ],
   "outputs": [],
   "execution_count": null
  },
  {
   "cell_type": "markdown",
   "source": [
    "## Die *check\\_top\\_row* Hilfsfunktion\n",
    "Diese Funktion überprüft, ob sich in der obersten Reihe eines Boards eine Königin befindet und gibt ggf.\n",
    "die Quadrat-Nummer(n) zurück.\n",
    "\n",
    "Funktionsargumente:\n",
    "* *board*: Das zu überprüfende Spielbrett als Objekt der chess-Library\n",
    "\n",
    "Nebeneffekte:\n",
    "* Keine. Das übergebene Objekt wird nicht verändert.\n",
    "\n",
    "Algorithmus:\n",
    "Es wird jedes Feld der obersten Reihe in einer überprüft und die Nummern der Felder mit einer Königin zurückgegeben."
   ],
   "metadata": {
    "collapsed": false,
    "pycharm": {
     "name": "#%% md\n"
    }
   }
  },
  {
   "cell_type": "code",
   "execution_count": null,
   "outputs": [],
   "source": [
    "def check_top_row(board):\n",
    "    return_list = []\n",
    "    for i in range(56, 64):\n",
    "        if board.piece_type_at(i) == chess.QUEEN:\n",
    "            return_list.append(i)\n",
    "\n",
    "    if len(return_list) > 0:\n",
    "        return return_list\n",
    "    else:\n",
    "        return False"
   ],
   "metadata": {
    "collapsed": false,
    "pycharm": {
     "name": "#%%\n",
     "is_executing": true
    }
   }
  },
  {
   "cell_type": "markdown",
   "source": [
    "## In einer Schleife die Liste mit $S_n$ berechnen\n",
    "Solange Boards einem $n$ zugeordnet werden, wird die Schleife weitergeführt. Sie wird abgebrochen,\n",
    "wenn $S_{n+1}$ leer ist."
   ],
   "metadata": {
    "collapsed": false,
    "pycharm": {
     "name": "#%% md\n"
    },
    "cell_id": "00021-8548a15b-c683-4b4b-8b03-fa5cd07bfdd3",
    "deepnote_cell_type": "markdown"
   }
  },
  {
   "cell_type": "code",
   "metadata": {
    "collapsed": false,
    "pycharm": {
     "name": "#%%\n",
     "is_executing": true
    },
    "cell_id": "00022-1198b1a3-a0e9-4813-9774-182d1b5079c6",
    "deepnote_to_be_reexecuted": false,
    "source_hash": "5ee856a1",
    "execution_start": 1638464396132,
    "execution_millis": 81020,
    "deepnote_cell_type": "code"
   },
   "source": [
    "S_n_sequence = [S_0]\n",
    "while True:\n",
    "    S_n_new, S, S_White_Ascii = one_step_away(S_n_sequence[-1], S, S_White_Ascii, len(S_n_sequence))\n",
    "    if not S_n_new: #an empty list is false\n",
    "        break\n",
    "    S_n_sequence.append(S_n_new)\n",
    "\n",
    "print(\"Done\")\n",
    "print(str(len(S_n_sequence)) + \" S-Lists calculated\")\n",
    "print(str(len(S)) + \" Boards could not be matched into an n.\")"
   ],
   "outputs": [],
   "execution_count": null
  },
  {
   "cell_type": "markdown",
   "source": [
    "## Ergebnis in Datei schreiben\n",
    "Nach erfolgreicher Berechnung werden die FENs der Boards in eine Datei geschrieben, um eine spätere Auswertung\n",
    "zu ermöglichen."
   ],
   "metadata": {
    "collapsed": false,
    "pycharm": {
     "name": "#%% md\n"
    },
    "cell_id": "00025-dd6a92e5-0b6d-4783-8028-273683c5b1fa",
    "deepnote_cell_type": "markdown"
   }
  },
  {
   "cell_type": "code",
   "metadata": {
    "collapsed": false,
    "pycharm": {
     "name": "#%%\n",
     "is_executing": true
    },
    "cell_id": "00026-34a1af37-624a-4ffc-88e1-b53a4b00ef59",
    "deepnote_to_be_reexecuted": true,
    "source_hash": "7d95bfec",
    "execution_start": 1638463916638,
    "execution_millis": 19649,
    "deepnote_cell_type": "code"
   },
   "source": [
    "S_n_seq_ascii = []\n",
    "S_ascii = []\n",
    "\n",
    "f = open(\"S_n_seq.json\", \"w\")\n",
    "f.write(json.dumps(S_n_sequence))\n",
    "f.close()\n",
    "\n",
    "f = open(\"S_rem.json\", \"w\")\n",
    "f.write(json.dumps(S))\n",
    "f.close()"
   ],
   "outputs": [],
   "execution_count": null
  }
 ],
 "nbformat": 4,
 "nbformat_minor": 1,
 "metadata": {
  "kernelspec": {
   "display_name": "Python 3 (ipykernel)",
   "language": "python",
   "name": "python3"
  },
  "language_info": {
   "codemirror_mode": {
    "name": "ipython",
    "version": 3
   },
   "file_extension": ".py",
   "mimetype": "text/x-python",
   "name": "python",
   "nbconvert_exporter": "python",
   "pygments_lexer": "ipython3",
   "version": "3.9.7"
  },
  "deepnote_notebook_id": "a5659b7c-2299-4f56-8746-6a0bc95261a5",
  "deepnote": {},
  "deepnote_execution_queue": []
 }
}