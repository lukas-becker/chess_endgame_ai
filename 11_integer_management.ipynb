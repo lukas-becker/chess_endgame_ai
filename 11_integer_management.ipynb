{
 "cells": [
  {
   "cell_type": "markdown",
   "source": [
    "# Integer Management\n"
   ],
   "metadata": {
    "collapsed": false,
    "pycharm": {
     "name": "#%% md\n"
    }
   }
  },
  {
   "cell_type": "markdown",
   "source": [
    "Die Funktion ``to_integer`` berechnet für ein ``board`` und eine Liste der darauf befindlichen Figuren ``piece_list`` diese Zahl. Es ist wichtig die Liste der Figuren als Übergabeparameter zu erhalten und nicht zu berechnen, da die Position einer Figur in der Liste mit der Position im Binärcode übereinstimmt. Bei der Dekodierung wird aus dieser Position die Figur bestimmt. Das geringwertigste Bit speichert die Information, welcher Spieler am Zug ist. Die folgenden (pro Figur 6) Bits kodieren die Zahl, welche der Position einer Figur auf dem Spielfeld entspricht. Die Reihenfolge der Figuren entspricht deren Reihenfolge in der ``piece_list``.\n",
    "\n",
    "Die Funktion gibt einen Integer mit 24 oder 32 Byte Größe (32 Byte bei Bauern in der Stellung) zurück, welcher die Spielsituation repräsentiert.\n",
    "\n",
    "Beispiel der Kodierung:\n",
    "Für das Board:\n",
    "```\n",
    ". . . . k . . .\n",
    ". . . . . . . .\n",
    ". . . . . . . .\n",
    ". . . . . . . .\n",
    ". . . . . . . .\n",
    ". . . . . . . .\n",
    ". . . . . Q . .\n",
    ". . . . K . . .\n",
    "```\n",
    "Mit der zugehörigen piece_list: ``[chess.Piece.from_symbol('k'), chess.Piece.from_symbol('K'), chess.Piece.from_symbol('Q')]``\n",
    "\n",
    "Wird zuerst die ``piece_map`` bestimmt: ``{4: Piece.from_symbol('K'), 60: Piece.from_symbol('k'), 13: Piece.from_symbol('Q')}`` (Hinweis: Für dieses Beispiel wurde die Reihenfolge der Elemente in der ``piece_map`` vertauscht)\n",
    "\n",
    "Anschließend wird der Spieler am Zug in das erste Bit kodiert. Dieses ist somit ``0`` oder ``1``.\n",
    "\n",
    "Zum Kodieren der Positionen wird über die Inhalte der Piece Map iteriert. Das erste Element ist der weiße König ``K``. Für dieses wird der Index in der ``piece_list`` bestimmt. Dieser ist 0. Die Position 4 (aus der ``piece_map``) wird nun an die Positionen 1 bis 7 (Index 0 in ``piece_list``) der Binärzahl zu ``0000100`` kodiert. Für das nächste Element (``k``) wird die Position (60) an die Stellen 8 bis 14 (Index 1 in ``piece_list``) zu ``0111100`` kodiert. Für das letzt Element (``Q``) wird die Position (13) an die Stellen 15 bis 21 (Index 2 in ``piece_list``) zu ``0001101`` kodiert.\n",
    "\n",
    "Daraus entsteht die folgende Binärzahl: ``001101011110000001001``, welche von der Funktion als Integer ``441353`` zurückgegeben wird.\n",
    "\n"
   ],
   "metadata": {
    "collapsed": false,
    "pycharm": {
     "name": "#%% md\n"
    }
   }
  },
  {
   "cell_type": "code",
   "execution_count": null,
   "outputs": [],
   "source": [
    "def to_integer(board, piece_list):\n",
    "    \n",
    "    tmp_list = piece_list.copy()\n",
    "    piece_map = board.piece_map()\n",
    "    int_rep = int(board.turn)\n",
    "\n",
    "    pawn = chess.Piece.from_symbol(\"P\")\n",
    "    if pawn in piece_map.values():\n",
    "        tmp_list.append(pawn)\n",
    "        # Pawn and Queen will not be on the same board\n",
    "        # This is in line with the tasks in readme.md\n",
    "        piece_map[126] = chess.Piece.from_symbol('Q')\n",
    "\n",
    "    for position in piece_map:\n",
    "        index = tmp_list.index(piece_map[position])\n",
    "        tmp_list[index] = None\n",
    "        int_rep |= (position + 1) << index * 7 + 1 \n",
    "\n",
    "    return int_rep"
   ],
   "metadata": {
    "collapsed": false,
    "pycharm": {
     "name": "#%%\n"
    }
   }
  },
  {
   "cell_type": "markdown",
   "source": [
    "Die Funktion to_board wandelt einen Integer und eine Liste von Figuren piece_list in einer Spielsituation in ein Board-Objekt. Das geringwertigste Bit, wird in die Information welcher Spieler am Zug ist konvertiert. Die verbleibenden Bits werden nacheinander zu einer Zahl gewandelt, welche einem Spielfeld (square) entspricht.\n",
    "\n",
    "Die bestimmten Informationen über Zug und Piece-Map werden einem neuen Board-Objekt hinzugefügt, welches von der Funktion zurückgegeben wird."
   ],
   "metadata": {
    "collapsed": false,
    "pycharm": {
     "name": "#%% md\n"
    }
   }
  },
  {
   "cell_type": "code",
   "execution_count": null,
   "outputs": [],
   "source": [
    "def to_board(int_rep, piece_list):    \n",
    "    tmp_list = piece_list.copy()\n",
    "    pawn = chess.Piece.from_symbol(\"P\")\n",
    "    tmp_list.append(pawn)\n",
    "\n",
    "    new_piece_map = {}\n",
    "\n",
    "    turn = int_rep & 1\n",
    "    int_rep = int_rep >> 1\n",
    "    \n",
    "    i = 0\n",
    "    while int_rep > 0:\n",
    "        pos = (int_rep & 127) - 1\n",
    "        int_rep = int_rep >> 7\n",
    "        if pos > 63:\n",
    "            i += 1\n",
    "            continue\n",
    "        new_piece_map[pos] = tmp_list[i]\n",
    "        i += 1\n",
    "\n",
    "    res = chess.Board(None)\n",
    "    res.turn = bool(turn)\n",
    "    res.set_piece_map(new_piece_map)\n",
    "    return res\n"
   ],
   "metadata": {
    "collapsed": false,
    "pycharm": {
     "name": "#%%\n"
    }
   }
  },
  {
   "cell_type": "markdown",
   "source": [
    "Da für die Berechnungen temporär Listen von ``Board`` Objekten vorliegen wird die Funktion `multiple_to_integer()` definiert, welche für eine solche Liste `chess_boards` eine Menge der Integer-Repräsentationen (`integers`) erstellt und zurück gibt. "
   ],
   "metadata": {
    "collapsed": false,
    "pycharm": {
     "name": "#%% md\n"
    }
   }
  },
  {
   "cell_type": "code",
   "execution_count": null,
   "outputs": [],
   "source": [
    "def multiple_to_integer(chess_boards, piece_list):\n",
    "    integers = set()\n",
    "    for board in chess_boards:\n",
    "        integers.add(to_integer(board, piece_list))\n",
    "    return integers\n"
   ],
   "metadata": {
    "collapsed": false,
    "pycharm": {
     "name": "#%%\n"
    }
   }
  }
 ],
 "metadata": {
  "kernelspec": {
   "display_name": "Python 3",
   "language": "python",
   "name": "python3"
  },
  "language_info": {
   "codemirror_mode": {
    "name": "ipython",
    "version": 2
   },
   "file_extension": ".py",
   "mimetype": "text/x-python",
   "name": "python",
   "nbconvert_exporter": "python",
   "pygments_lexer": "ipython2",
   "version": "2.7.6"
  }
 },
 "nbformat": 4,
 "nbformat_minor": 0
}