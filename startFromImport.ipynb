{
 "cells": [
  {
   "cell_type": "code",
   "metadata": {
    "pycharm": {
     "name": "#%%\n"
    }
   },
   "source": [
    "from IPython.core.display import HTML\n",
    "with open('style.html', 'r') as file:\n",
    "     css = file.read()\n",
    "HTML(css)"
   ],
   "execution_count": null,
   "outputs": []
  },
  {
   "cell_type": "markdown",
   "metadata": {
    "pycharm": {
     "name": "#%% md\n"
    }
   },
   "source": [
    "# Auswerten eines Schach-Endspiels\n",
    "\n",
    "Zum Vergleich, dass die berechneten Züge der KI eine gute Lösung für das Gewinnen einer Endspielsituation sind, wird das Programm Stockfish verwendet. Es stellt eine Schach-Engine dar, die nach einem zuvor definierten Muster optimale Schachzüge berechnet."
   ]
  },
  {
   "cell_type": "markdown",
   "metadata": {
    "pycharm": {
     "name": "#%% md\n"
    }
   },
   "source": [
    "## Importe\n",
    "\n",
    "Für die Durchführung der Tests und der Auswertung eines Schach-Endspiels gegen eine andere KI werden die hier stehenden Bibliotheken benötigt:\n",
    "\n",
    "* ``chess``: Die Python-Schach-Bibliothek, mit welcher Schachbretter dargestellt werden, Züge und Zustände ausgewertet etc.\n",
    "* ``stockfish``: Bibliothek, welche eine Python Schnittstelle für die Stockfish-Enginge anbietet.\n",
    "* ``clear_output`` aus der IPython-display-Library: Eine Funktion, die für die Fortschrittsanzeige von Berechnungen\n",
    "verwendet wird.\n",
    "* ``display`` aus der IPython-display-Library: Wird zum grafischen Anzeigen der Schachbretter verwendet.\n",
    "* ``json``: Wird zum Speichern der Ergebnisse verwendet.\n",
    "* ``time``: Wird zum Verzögern von Ausgaben verwendet."
   ]
  },
  {
   "cell_type": "code",
   "metadata": {
    "pycharm": {
     "name": "#%%\n"
    }
   },
   "source": [
    "import chess\n",
    "import stockfish\n",
    "from IPython.display import clear_output\n",
    "from IPython.display import display\n",
    "import json\n",
    "import time"
   ],
   "execution_count": null,
   "outputs": []
  },
  {
   "cell_type": "markdown",
   "metadata": {
    "pycharm": {
     "name": "#%% md\n"
    }
   },
   "source": [
    "## Konfiguration\n",
    "\n",
    "Zu Beginn müssen für den Vergleich unterschiedliche Variablen definiert werden. Diese beinhalten eine Fen, die für ein gegebenes Szenario überprüft werden soll, den Pfad zu der berechneten $S_n$ Sequenz und einen Pfad zu der Stockfish-Installation."
   ]
  },
  {
   "cell_type": "code",
   "metadata": {
    "pycharm": {
     "name": "#%%\n"
    }
   },
   "source": [
    "FEN = \"4k3/8/8/8/8/8/8/R3K3 w - - 0 1\"\n",
    "S_N_FILE = \"S_n_seq_12_01.json\"\n",
    "STOCKFISH_PATH = \"./stockfish_14.1/stockfish_14.1_win_x64_avx2.exe\"\n",
    "VERBOSE = False\n",
    "\n",
    "STOCKFISH = stockfish.Stockfish(STOCKFISH_PATH)"
   ],
   "execution_count": null,
   "outputs": []
  },
  {
   "cell_type": "markdown",
   "metadata": {
    "pycharm": {
     "name": "#%% md\n"
    }
   },
   "source": [
    "Für die Bestimmung der Züge der KI werden die $S_n$ Mengen verwendet, die mit Hilfe des Notebooks ``calculation.ipynb`` bestimmt werden. Diese wurden bereits in einer JSON-Datei serialisiert abgespeichert. Für dieses Notebook werden alle FENs gelesen und daraus Board-Objekte erstellt. Dies geschieht mit der Funktion ``load_s_n_sequence``. Diese erhält den Dateipfad (``filepath``) als Parameter, um aus der Datei die $S_n$ Mengen auslesen zu können."
   ]
  },
  {
   "cell_type": "code",
   "metadata": {
    "pycharm": {
     "name": "#%%\n"
    }
   },
   "source": [
    "def load_s_n_sequence(filepath):\n",
    "    s_n_sequence_object = []\n",
    "    s_n_sequence_tuples = []\n",
    "    f = open(filepath, \"r\")\n",
    "    tmp = json.loads(f.read())\n",
    "    for item in tmp:\n",
    "        tmp_object = []\n",
    "        tmp_set = set()\n",
    "        for board in item:\n",
    "            chess_board = chess.Board(board)\n",
    "            tmp_object.append(chess_board)\n",
    "            tmp_set.add((chess_board.turn,chess_board.__str__()))\n",
    "        s_n_sequence_tuples.append(tmp_set)\n",
    "        s_n_sequence_object.append(tmp_object)\n",
    "    f.close()\n",
    "    return s_n_sequence_tuples, s_n_sequence_object"
   ],
   "execution_count": null,
   "outputs": []
  },
  {
   "cell_type": "code",
   "execution_count": null,
   "outputs": [],
   "source": [
    "load_s_n_sequence(S_N_FILE)"
   ],
   "metadata": {
    "collapsed": false,
    "pycharm": {
     "name": "#%%\n"
    }
   }
  },
  {
   "cell_type": "markdown",
   "metadata": {
    "pycharm": {
     "name": "#%% md\n"
    }
   },
   "source": [
    "## Die Züge für die KI ermitteln\n",
    "\n",
    "Der erste Schritt, um einen Zug für die KI zu ermitteln, liegt im Finden der momentanen Spielsituation. Dies wird mit der Funktion ``find_board_in_sequence`` erreicht. Sie dursucht eine gegebene $S_n$ Sequenz nach einem übergebenen Schachbrett. Die Parameter hierfür lauten wie folgt:\n",
    "\n",
    "* ``situation``: Das Board (als Objekt), welches gefunden werden soll.\n",
    "* sequence: Die $S_n$ Sequenz, in welcher das Board gesucht wird.\n",
    "\n",
    "Das Ergebnis der Funktion kann insgesamt zwei unterschiedliche Formen annehmen:\n",
    "* Ein Tupel mit $S_n$ Index (z.B. $S_3$) und Board-Index (z.B. 100).Dieses Tupel drückt aus, wo in der Sequenz das Board gefunden wurde.\n",
    "* Das Tupel (-1,-1). Dies drückt aus, dass das Board nicht gefunden wurde.\n",
    "\n",
    "Das Ergebniss wird mithilfe von dem anschließenden Algorithmus bestimmt:\n",
    "1. Über die $S_n$ Sequenz iterieren.\n",
    "2. Über jedes Board in einem spezifischem $S_n$ iterieren.\n",
    "3. Das Board mit dem ``situation`` Objekt vergleichen.\n",
    "    1. Wenn das Board übereinstimmt, die Indizes zurückgeben.\n",
    "    2. Wenn das Board nicht übereinstimmt, weitersuchen."
   ]
  },
  {
   "cell_type": "code",
   "metadata": {
    "pycharm": {
     "name": "#%%\n"
    }
   },
   "source": [
    "def find_board_in_sequence(situation, sequence):\n",
    "    board_tuple = (situation.turn, situation.__str__())\n",
    "\n",
    "    for i in range(len(sequence)):\n",
    "        if board_tuple in sequence[i]:\n",
    "            return i\n",
    "    return -1"
   ],
   "execution_count": null,
   "outputs": []
  },
  {
   "cell_type": "markdown",
   "metadata": {
    "pycharm": {
     "name": "#%% md\n"
    }
   },
   "source": [
    "Nachdem das Brett in einer $S_n$ Menge gefunden wurde, ist der nächste Schritt den passenden Zug für die KI zu bestimmen. Zu diesem Zweck wurde die Funktion ``find_next_move`` definiert. Diese berechnet für ein übergebenes Board den idealen Spielzug. Weiterhin wird aus Effizienzgründen schon die Position des nächsten Bretts in der $S_n$ Sequenz zurückgegeben. Für diese Berechnung benötigt ``find_next_move`` nachkommende Argumente:\n",
    "\n",
    "* ``curr_board``: Das Board, für welches der nächste Spielzug berechnet werden soll.\n",
    "* ``s_index``: Das $n$ eines $S_n$, in welchem sich ``curr_board`` befindet. Wird aus Effizienzgründen übergeben.\n",
    "* ``s_n_sequence``: Die Liste mit allen $S_n$\n",
    "\n",
    "Als Ergebnis liefert die Funktion den nächsten Move oder den Wert -1 als Hinweis, dass kein Spielzug berechnet werden konnte.\n",
    "\n",
    "Der Algorithmus dieser Funktion erstreckt sich folgender Art und Weise:\n",
    "* Führe alle möglichen Moves durch, bis das Ergebnis-Board in $S_{n-1}$ gefunden wurde.\n",
    "* Gebe den neuen ``s_index``, ``board_index`` und den gefundenen ``move`` zurück."
   ]
  },
  {
   "cell_type": "code",
   "metadata": {
    "pycharm": {
     "name": "#%%\n"
    }
   },
   "source": [
    "def find_next_move(curr_board, s_index, s_n_sequence):\n",
    "    STOCKFISH.set_fen_position(curr_board.fen())\n",
    "    if curr_board.turn:\n",
    "        if VERBOSE:\n",
    "            print(\"---White:---\")\n",
    "            print(\"Starting in S\" + str(s_index))\n",
    "        for move in curr_board.legal_moves:\n",
    "            curr_board.push(move)\n",
    "            _tmp = find_board_in_sequence(curr_board, [s_n_sequence[s_index - 1]])\n",
    "            s_index_tmp = s_index - 1\n",
    "            if _tmp != -1:\n",
    "                if VERBOSE:\n",
    "                    print(\"    Move: \" + str(move))\n",
    "                    print(\"    S\" + str(s_index_tmp))\n",
    "                    print(\"Ended in S\" + str(s_index))\n",
    "                curr_board.pop()\n",
    "                return s_index_tmp, move\n",
    "            curr_board.pop()\n",
    "\n",
    "        return -1, None\n",
    "    else:\n",
    "        if VERBOSE:\n",
    "            print(\"---Black:---\")\n",
    "            print(\"Starting in S\" + str(s_index))\n",
    "        move = chess.Move.from_uci(STOCKFISH.get_best_move())\n",
    "        curr_board.push(move)\n",
    "        s_index = find_board_in_sequence(curr_board, s_n_sequence[:s_index])\n",
    "        if VERBOSE:\n",
    "            print(\"    Move: \" + str(move))\n",
    "            print(\"    S\" + str(s_index))\n",
    "            print(\"Ended in S\" + str(s_index))\n",
    "        curr_board.pop()\n",
    "        return s_index, move"
   ],
   "execution_count": null,
   "outputs": []
  },
  {
   "cell_type": "markdown",
   "metadata": {
    "pycharm": {
     "name": "#%% md\n"
    }
   },
   "source": [
    "## Vergleich zwischen Stockfish und KI\n",
    "\n",
    "Für den Vergleich werden die Anzahlen der Züge zwischen Stockfish und der selbstgeschriebenen KI miteinander verglichen.\n",
    "\n",
    "Bei der Berechnung der Züge für die KI wird die Funktion ``calculate_all_moves`` verwendet. Diese berechnet in einer Schleife alle Moves ausgehend von einer Fen, bis die KI gewonnen hat. Die Berechnung verwendet hierzu folgende Parameter:\n",
    "\n",
    "* ``fen``: Die Fen der Spielsituation, die berechnet werden soll.\n",
    "* ``s_n_sequence``: Die Liste der $S_n$, welche für die Figurenkonstellation berechnet wurde.\n",
    "\n",
    "Das Ergebnis der Ausführung ist eine Liste aller Moves, welche für das Board berechnet wurde oder der Wert None als Hinweis, dass kein Sieg erzielt werden konnte.\n",
    "\n",
    "Die Liste wurde durch den anschließenden Algorithmus bestimmt:\n",
    "* Einordnung der übergebenen Fen in der $S_n$ Sequenz finden.\n",
    "* Solange $n > 0$ in einer Schleife den nächsten Spielzug berechnen.\n",
    "* Die Liste der errechneten Spielzüge zurückgeben."
   ]
  },
  {
   "cell_type": "code",
   "metadata": {
    "pycharm": {
     "name": "#%%\n"
    }
   },
   "source": [
    "def calculate_all_moves(fen, s_n_sequence):\n",
    "    moves = []\n",
    "\n",
    "    board = chess.Board(fen)\n",
    "\n",
    "    s_index = find_board_in_sequence(board, s_n_sequence)\n",
    "\n",
    "    while s_index > 0:\n",
    "        s_index, next_move = find_next_move(board, s_index, s_n_sequence)\n",
    "        board.push(next_move)\n",
    "        moves.append(next_move)\n",
    "\n",
    "    if s_index == -1:\n",
    "        return None\n",
    "\n",
    "    return moves"
   ],
   "execution_count": null,
   "outputs": []
  },
  {
   "cell_type": "markdown",
   "metadata": {
    "pycharm": {
     "name": "#%% md\n"
    }
   },
   "source": [
    "Nachdem eine Liste aller Züge für die KI bestimmt wurden, gilt dies gleichermaßen für die Berechnung von Stockfish umzusetzen. Hierfür erhält die Funktion ``stockfish_movelist`` den Parameter:\n",
    "* ``fen``: Die FEN des Boardes, für welches alle Züge berechnet werden sollen.\n",
    "\n",
    "Nach der Ausführung erhält man ebenso eine List von Spielzügen.\n",
    "\n",
    "Die Liste wurde mit einem leicht abgeänderten Algorithmus bestimmt:\n",
    "* Solange das Spiel nicht beendet ist einen weiteren Zug berechnen.\n",
    "* Am Ende alle Züge zurückgeben."
   ]
  },
  {
   "cell_type": "code",
   "metadata": {
    "pycharm": {
     "name": "#%%\n"
    }
   },
   "source": [
    "def stockfish_movelist(fen):\n",
    "    moves = []\n",
    "\n",
    "    board = chess.Board(fen)\n",
    "\n",
    "    while not board.is_game_over():\n",
    "        STOCKFISH.set_fen_position(board.fen())\n",
    "        next_move = chess.Move.from_uci(STOCKFISH.get_best_move())\n",
    "        board.push(next_move)\n",
    "        moves.append(next_move)\n",
    "\n",
    "    return moves\n"
   ],
   "execution_count": null,
   "outputs": []
  },
  {
   "cell_type": "markdown",
   "metadata": {
    "pycharm": {
     "name": "#%% md\n"
    }
   },
   "source": [
    "Die Funktion `move_in_sequence` überprüft für ein gegebenes Brett, ob dieses auch in der gegebenen S_n Menge vorhanden ist.\n",
    "Hierfür werden folgende Parameter verwendet:\n",
    "- `board_to_check`: Das Brett, das in der Menge `sequence` vorhanden sein soll.\n",
    "- `sequence`: Die Menge, in der `board_to_check` auffindbar sein soll.\n",
    "\n",
    "Als Ergebnis wird ein boolescher Wert zurückgegeben."
   ]
  },
  {
   "cell_type": "code",
   "execution_count": null,
   "metadata": {
    "pycharm": {
     "name": "#%%\n"
    }
   },
   "outputs": [],
   "source": [
    "def move_in_sequence(board_to_check, sequence):\n",
    "    if find_board_in_sequence(board_to_check, [sequence]) != -1:\n",
    "        return True\n",
    "    else:\n",
    "        return False"
   ]
  },
  {
   "cell_type": "markdown",
   "metadata": {
    "pycharm": {
     "name": "#%% md\n"
    }
   },
   "source": [
    "Bei `sequenz_index` wird für jedes Board einer S_n Menge überprüft, ob Stockfish oder die zuvor definierten Mengen das\n",
    "Board effizienter lösen. Dabei gilt es für den Vergleich zu beachten, dass folgende Vorgehensweise verwendet wird.\n",
    "- `Stockfish`: Für sowohl schwarz, als auch für weiß, werden die Züge mit der Funktion `Stockfish().get_best_move()` bestimmt.\n",
    "- `KI`: Das n, das überprüft wird, wird für den Vergleich genutzt, da dies den schlechtesten Fall darstellt.\n",
    "\n",
    "Die Methode, die für den Vergleich mit Stockfish angewandt wurde, birgt die Gefahr, dass durch Stockfish für schwarz\n",
    "nicht der beste Zug ausgewählt wird und dadurch das Ergebnis beeinflusst. Diese Gefahr erhöht sich vor allem dann, wenn\n",
    "sich die Züge bis zu einem Schachmatt erhöhen, da bei jedem Zug von schwarz die Gefahr besteht, dass nicht der beste Zug\n",
    "ausgewählt wird.\n",
    "\n",
    "Die Funktion erhält als Parameter:\n",
    "- `sequenz_index`: Die Nummer der Menge, für die alle Bretter überprüft werden sollen.\n",
    "(Bsp.: S_10 -> `sequence_index = 10`)\n",
    "\n",
    "In der Konsole wird nach den Berechnungen dem Nutzer angezeigt, zu wie viel % Stockfish und die selbstgeschriebene KI\n",
    "bessere Ergebnisse erzielt hat. Außerdem wird noch angezeigt zu welchem Teil sowohl Stockfish, als auch die KI gleiche\n",
    "Ergebnisse erzielt haben."
   ]
  },
  {
   "cell_type": "code",
   "execution_count": null,
   "outputs": [],
   "source": [
    "def get_board_from_tuple(tuple, sequence):\n",
    "    for board in sequence:\n",
    "        cmp_tuple = (board.turn, board.__str__())\n",
    "        # print(cmp_tuple)\n",
    "        if tuple == cmp_tuple:\n",
    "            return board.copy()"
   ],
   "metadata": {
    "collapsed": false,
    "pycharm": {
     "name": "#%%\n"
    }
   }
  },
  {
   "cell_type": "code",
   "execution_count": null,
   "metadata": {
    "pycharm": {
     "name": "#%%\n"
    }
   },
   "outputs": [],
   "source": [
    "def compare_sequence_stockfish(sequence_index, s_n_sequence_tuple, s_n_object):\n",
    "    s_n = s_n_sequence_tuple[sequence_index]\n",
    "    # print(sequence_index)\n",
    "    move_count_list = []\n",
    "    diff_list = []\n",
    "    length = len(s_n)\n",
    "    r = 0\n",
    "    for board_ in s_n:\n",
    "        seq_index = sequence_index\n",
    "        cmp_board = get_board_from_tuple(board_, s_n_object[seq_index]).copy()\n",
    "        # print(seq_index, b_index)\n",
    "        move_count = 0\n",
    "        # print(move_in_sequence(board_it, s_n))\n",
    "        if board_ in s_n:\n",
    "            cur = board_\n",
    "            while seq_index > 0:\n",
    "                # White\n",
    "                #print(\"Round\")\n",
    "                #print(board_it)\n",
    "                #print(seq_index)\n",
    "                board_to_use = get_board_from_tuple(cur, s_n_object[seq_index])\n",
    "                #print(board_to_use)\n",
    "                if board_to_use.turn:\n",
    "                    # print(\"White\")\n",
    "                    for p_move in board_to_use.legal_moves:\n",
    "                        # print(p_move)\n",
    "                        board_to_use.push(p_move)\n",
    "                        # print(\"B function: \", b_index, seq_index)\n",
    "                        s_tmp = find_board_in_sequence(board_to_use, [s_n_sequence_tuple[seq_index-1]])\n",
    "                        # print(\"A function: \", b_index, seq_index)\n",
    "                        if s_tmp != -1:\n",
    "                            seq_index -= 1\n",
    "                            # print(b_index, seq_index)\n",
    "                            move_count += 1\n",
    "                            cur = (board_to_use.turn, board_to_use.__str__())\n",
    "                            break\n",
    "                        board_to_use.pop()\n",
    "                # Black\n",
    "                else:\n",
    "                    # print(\"Black\")\n",
    "                    STOCKFISH.set_fen_position(board_to_use.fen())\n",
    "                    nxt_move = chess.Move.from_uci(STOCKFISH.get_best_move())\n",
    "                    # print(nxt_move)\n",
    "                    board_to_use.push(nxt_move)\n",
    "                    move_count += 1\n",
    "                    seq_index = find_board_in_sequence(board_to_use, s_n_sequence_tuple[:seq_index])\n",
    "                    cur = (board_to_use.turn, board_to_use.__str__())\n",
    "                    # print(b_index, seq_index)\n",
    "        else:\n",
    "            print(\"Couldn't find board!\")\n",
    "\n",
    "        cmp_move_count = 0\n",
    "        while not cmp_board.is_game_over():\n",
    "            STOCKFISH.set_fen_position(cmp_board.fen())\n",
    "            nxt_move = chess.Move.from_uci(STOCKFISH.get_best_move())\n",
    "            cmp_board.push(nxt_move)\n",
    "            cmp_move_count += 1\n",
    "        # print(\"Moves KI: \" + str(move_count), \"Moves Stockfish: \" + str(cmp_move_count))\n",
    "        move_count_list.append((move_count, cmp_move_count, move_count - cmp_move_count))\n",
    "        diff_list.append(move_count - cmp_move_count)\n",
    "        clear_output()\n",
    "        print(\"Comparing S_\" + str(sequence_index) + \":\")\n",
    "        print(\"Compared \" + str(r+1) + \"/\" + str(length))\n",
    "        r+=1\n",
    "    ki_better = 0\n",
    "    stockfish_better = 0\n",
    "    equal = 0\n",
    "    for value in diff_list:\n",
    "        if value == 0:\n",
    "            equal += 1\n",
    "        elif value < 0:\n",
    "            ki_better += 1\n",
    "        else:\n",
    "            stockfish_better += 1\n",
    "    cmp_values = len(diff_list)\n",
    "    f = open(\"Stockfish_compare.txt\", \"a\")\n",
    "    f.write(\"S_\" + str(sequence_index) + \":\\n\")\n",
    "    f.write(\"Stockfish war zu \" + str(round((stockfish_better/cmp_values) * 100, 2)) + \"% besser\\n\")\n",
    "    f.write(\"Die KI war zu \" + str(round((ki_better/cmp_values) * 100, 2)) + \"% besser\\n\")\n",
    "    f.write(\"Stockfish und die KI haben zu \" + str(round((equal/cmp_values) * 100, 2)) + \"% die gleichen Ergebnisse erzielt\\n\")\n",
    "    f.close()"
   ]
  },
  {
   "cell_type": "markdown",
   "metadata": {
    "pycharm": {
     "name": "#%% md\n"
    }
   },
   "source": [
    "Als Beispiel wird hier der Vergleich zwischen der KI und Stockfish für die Menge S_20 vorgenommen."
   ]
  },
  {
   "cell_type": "code",
   "execution_count": null,
   "outputs": [],
   "source": [
    "S_N_Sequence_Set, S_N_Sequence_Object = load_s_n_sequence(S_N_FILE)"
   ],
   "metadata": {
    "collapsed": false,
    "pycharm": {
     "name": "#%%\n"
    }
   }
  },
  {
   "cell_type": "code",
   "execution_count": null,
   "metadata": {
    "pycharm": {
     "name": "#%%\n"
    }
   },
   "outputs": [],
   "source": [
    "compare_sequence_stockfish(0, S_N_Sequence_Set, S_N_Sequence_Object)"
   ]
  },
  {
   "cell_type": "markdown",
   "metadata": {
    "pycharm": {
     "name": "#%% md\n"
    }
   },
   "source": [
    "Ein Testszenario sieht auch vor alle zuvor bestimmten Boards mit dem Lösungsweg von Stockfish zu vergleichen. Hierfür\n",
    "geht die Funktion `compare_all_sequences` alle S_n-Mengen durch und vergleicht diese jeweils mit der Lösung von\n",
    "Stockfish."
   ]
  },
  {
   "cell_type": "code",
   "execution_count": null,
   "metadata": {
    "pycharm": {
     "name": "#%%\n"
    }
   },
   "outputs": [],
   "source": [
    "def compare_all_sequences(s_n_sequence_tuple, s_n_object):\n",
    "    for i in range(len(s_n_sequence_tuple)):\n",
    "        print(\"Comparing S_\" + str(i) + \"...\")\n",
    "        compare_sequence_stockfish(i, s_n_sequence_tuple, s_n_object)"
   ]
  },
  {
   "cell_type": "markdown",
   "source": [
    "Für die visuelle Darstellung der Züge wurde die Funktion ``show_movelist`` definiert. Diese zeigt auf einem ``chess.Board`` eine mitgegebene Liste von Zügen. Die Funktionsargumente der Funktion lauten:\n",
    "* ``fen``: Die Fen des Boardes, für welches alle Züge dargestellt werden sollen.\n",
    "* ``moves``: Die Liste der Spielzüge, welche dargestellt werden sollen."
   ],
   "metadata": {
    "collapsed": false
   }
  },
  {
   "cell_type": "code",
   "execution_count": null,
   "outputs": [],
   "source": [
    "def show_movelist(fen, moves):\n",
    "    presentation_board = chess.Board(fen)\n",
    "    display(presentation_board)\n",
    "    time.sleep(2)\n",
    "    for move in moves:\n",
    "        presentation_board.push(move)\n",
    "        clear_output(wait=True)\n",
    "        display(presentation_board)\n",
    "        time.sleep(2)"
   ],
   "metadata": {
    "collapsed": false,
    "pycharm": {
     "name": "#%%\n"
    }
   }
  },
  {
   "cell_type": "markdown",
   "source": [
    "Der Vergleich zwischen der KI und Stockfish kann nun anhand der Länge der Listen durchgeführt werden. Außerdem können die Züge durch die Funktion ``show_movelist`` nachvollzogen werden."
   ],
   "metadata": {
    "collapsed": false
   }
  },
  {
   "cell_type": "code",
   "execution_count": null,
   "outputs": [],
   "source": [],
   "metadata": {
    "collapsed": false,
    "pycharm": {
     "name": "#%%\n"
    }
   }
  },
  {
   "cell_type": "code",
   "execution_count": null,
   "outputs": [],
   "source": [
    "compare_all_sequences(S_N_Sequence_Set, S_N_Sequence_Object)"
   ],
   "metadata": {
    "collapsed": false,
    "pycharm": {
     "name": "#%%\n"
    }
   }
  },
  {
   "cell_type": "code",
   "execution_count": null,
   "outputs": [],
   "source": [
    "Moves = calculate_all_moves(FEN, S_N_Sequence_Set)\n",
    "Stockfish_Moves = stockfish_movelist(FEN)\n",
    "\n",
    "if Moves is not None:\n",
    "    print(\"AI needed \" + str(len(Moves)) + \" moves to beat Stockfish as Black.\")\n",
    "else:\n",
    "    print(\"AI found no way to beat Black.\")\n",
    "\n",
    "print(\"Stockfish needed \" + str(len(Stockfish_Moves)) + \" moves to win against itself.\")"
   ],
   "metadata": {
    "collapsed": false,
    "pycharm": {
     "name": "#%%\n"
    }
   }
  },
  {
   "cell_type": "code",
   "execution_count": null,
   "outputs": [],
   "source": [
    "show_movelist(FEN, Moves)"
   ],
   "metadata": {
    "collapsed": false,
    "pycharm": {
     "name": "#%%\n"
    }
   }
  }
 ],
 "metadata": {
  "kernelspec": {
   "display_name": "Python 3 (ipykernel)",
   "language": "python",
   "name": "python3"
  },
  "language_info": {
   "codemirror_mode": {
    "name": "ipython",
    "version": 3
   },
   "file_extension": ".py",
   "mimetype": "text/x-python",
   "name": "python",
   "nbconvert_exporter": "python",
   "pygments_lexer": "ipython3",
   "version": "3.9.5"
  }
 },
 "nbformat": 4,
 "nbformat_minor": 1
}