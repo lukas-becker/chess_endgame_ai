{
 "cells": [
  {
   "cell_type": "markdown",
   "source": [
    "# Schach Spiel mit importierem S_n"
   ],
   "metadata": {
    "collapsed": false,
    "pycharm": {
     "name": "#%% md\n"
    }
   }
  },
  {
   "cell_type": "markdown",
   "source": [
    "## Imports, die für dieses Notebook benötigt werden"
   ],
   "metadata": {
    "collapsed": false,
    "pycharm": {
     "name": "#%% md\n"
    }
   }
  },
  {
   "cell_type": "code",
   "execution_count": 7,
   "metadata": {
    "pycharm": {
     "name": "#%%\n"
    }
   },
   "outputs": [],
   "source": [
    "import chess\n",
    "from IPython.display import clear_output\n",
    "from IPython.display import display\n",
    "import json\n",
    "import time\n",
    "import random"
   ]
  },
  {
   "cell_type": "markdown",
   "source": [
    "## Ausgangssituation\n",
    "\n",
    "Für dieses Board wurde die S_n Sequenz berechnet."
   ],
   "metadata": {
    "collapsed": false,
    "pycharm": {
     "name": "#%% md\n"
    }
   }
  },
  {
   "cell_type": "code",
   "execution_count": 8,
   "metadata": {
    "pycharm": {
     "name": "#%%\n"
    }
   },
   "outputs": [],
   "source": [
    "fen = \"8/8/8/8/4k3/8/8/K6R w - - 0 1\"\n",
    "original_board = chess.Board(fen)"
   ]
  },
  {
   "cell_type": "markdown",
   "source": [
    "## Import der Daten\n",
    "\n",
    "Die Daten wurden als FEN in der JSON-Datei Serialisiert.\n",
    "Zum Initialisieren der Liste werden alle FENs gelesen und Board-Objekte erstellt."
   ],
   "metadata": {
    "collapsed": false,
    "pycharm": {
     "name": "#%% md\n"
    }
   }
  },
  {
   "cell_type": "code",
   "execution_count": 9,
   "metadata": {
    "pycharm": {
     "name": "#%%\n"
    }
   },
   "outputs": [],
   "source": [
    "S_n_sequence_new = []\n",
    "f = open(\"S_n_seq.json\", \"r\")\n",
    "tmp = json.loads(f.read())\n",
    "for item in tmp:\n",
    "    tmp_list = []\n",
    "    for board in item:\n",
    "        tmp_list.append(chess.Board(board))\n",
    "    S_n_sequence_new.append(tmp_list)\n",
    "f.close()"
   ]
  },
  {
   "cell_type": "markdown",
   "source": [
    "## findBoardInSequence Hilfsfunktion\n",
    "\n",
    "Diese Funktion durchsucht eine S_n Sequenz nach dem ersten Vorkommen eines übergebenen Board-Objekts.\n",
    "\n",
    "Funktions-Argumente:\n",
    "* situation: Das Board (als Objekt), welches gefunden werden soll\n",
    "* sequence: Die S_n-Sequenz, in welcher das Board gesucht wird\n",
    "\n",
    "Ergebnis der Ausführung:\n",
    "* Die Funktion hat zwei mögliche Rückgaben:\n",
    "  * Ein Tupel mit S_n Index (z.B. S_3) und Board-Index (z.B. 100).\n",
    "    Dieses Tupel drückt aus, wo in der Sequenz das Board gefunden wurde.\n",
    "  * Das Tupel (-1,-1). Dies drückt aus, dass das Board nicht gefunden wurde.\n",
    "\n",
    "Nebeneffekte:\n",
    "Die Funktion verändert keinen der übergebenen Parameter.\n",
    "\n",
    "Algorithmus:\n",
    "1. Über die S_n-Sequenz iterieren.\n",
    "2. Über jedes Board in einem spezifischem S_n iterieren.\n",
    "3. Das Board mit dem _situation_ Objekt vergleichen.\n",
    "    1. Wenn das Board übereinstimmt, die Indizes zurückgeben.\n",
    "    2. Wenn das Board nicht übereinstimmt, weitersuchen."
   ],
   "metadata": {
    "collapsed": false,
    "pycharm": {
     "name": "#%% md\n"
    }
   }
  },
  {
   "cell_type": "code",
   "execution_count": 10,
   "metadata": {
    "pycharm": {
     "name": "#%%\n"
    }
   },
   "outputs": [],
   "source": [
    "def findBoardInSequence(situation, sequence):\n",
    "    board_str = (situation.turn, situation.__str__())\n",
    "\n",
    "    for i in range(len(sequence)):\n",
    "        for j in range(len(sequence[i])):\n",
    "            item = sequence[i][j]\n",
    "            if board_str == (item.turn, item.__str__()):\n",
    "                return i, j\n",
    "    return -1,-1"
   ]
  },
  {
   "cell_type": "markdown",
   "source": [
    "## Finden des ersten Boards in der S_n-Sequenz\n",
    "\n",
    "Mithilfe der zuvor definierten _findBoardInSequence_ Funktion wird das *original_board* in der *S_n_sequence* gesucht."
   ],
   "metadata": {
    "collapsed": false,
    "pycharm": {
     "name": "#%% md\n"
    }
   }
  },
  {
   "cell_type": "code",
   "execution_count": 12,
   "outputs": [
    {
     "name": "stdout",
     "output_type": "stream",
     "text": [
      "S9 - Board: 19108\n",
      "Wall time: 4.24 s\n"
     ]
    }
   ],
   "source": [
    "s_index = 0\n",
    "board_index = 0\n",
    "\n",
    "s_index, board_index = findBoardInSequence(original_board, S_n_sequence_new)\n",
    "\n",
    "#Print search result\n",
    "print(\"S\" + str(s_index) + \" - Board: \" + str(board_index))"
   ],
   "metadata": {
    "collapsed": false,
    "pycharm": {
     "name": "#%%\n"
    }
   }
  },
  {
   "cell_type": "markdown",
   "source": [
    "## Berechnen der Züge bis zum Spielende\n",
    "Diese Berechnung erfolgt mit zufälligen Zügen für den Spieler \"Schwarz\".\n",
    "\n",
    "Voraussetzungen:\n",
    "  * Die vorherige Zelle muss ausgeführt sein; Es müssen ein s_index und ein board_index gesetzt sein.\n",
    "\n",
    "Ablauf:\n",
    "  * Das aktuelle Board kopieren (Auswählen aus S_n und kopieren)\n",
    "  * Überprüfen ob Weiß oder Schwarz am Zug ist:\n",
    "    * Wenn Weiß:\n",
    "      * Alle legal moves ausprobieren und überprüfen in welcher S_n Menge das Board sich hinterher befindet.\n",
    "      * Den legal Move, mit dem geringsten n auswählen\n",
    "    * Wenn Schwarz:\n",
    "      * Einen zufälligen (legal-)Move durchführen\n",
    "      * Überprüfen in welcher S_n Menge das Board sich nun befindet\n",
    "  * s_index und board_index aktualisieren\n",
    "  * Wiederholen bis, das Board in S_0 ist (s_index = 0) oder kein Move gefunden wurde (s_index = -1)"
   ],
   "metadata": {
    "collapsed": false,
    "pycharm": {
     "name": "#%% md\n"
    }
   }
  },
  {
   "cell_type": "code",
   "execution_count": 13,
   "outputs": [
    {
     "ename": "KeyboardInterrupt",
     "evalue": "",
     "output_type": "error",
     "traceback": [
      "\u001B[1;31m---------------------------------------------------------------------------\u001B[0m",
      "\u001B[1;31mKeyboardInterrupt\u001B[0m                         Traceback (most recent call last)",
      "\u001B[1;32m~\\AppData\\Local\\Temp/ipykernel_19108/2054489247.py\u001B[0m in \u001B[0;36m<module>\u001B[1;34m\u001B[0m\n\u001B[0;32m      6\u001B[0m         \u001B[1;32mfor\u001B[0m \u001B[0mmove\u001B[0m \u001B[1;32min\u001B[0m \u001B[0mcurr_board\u001B[0m\u001B[1;33m.\u001B[0m\u001B[0mlegal_moves\u001B[0m\u001B[1;33m:\u001B[0m\u001B[1;33m\u001B[0m\u001B[1;33m\u001B[0m\u001B[0m\n\u001B[0;32m      7\u001B[0m             \u001B[0mcurr_board\u001B[0m\u001B[1;33m.\u001B[0m\u001B[0mpush\u001B[0m\u001B[1;33m(\u001B[0m\u001B[0mmove\u001B[0m\u001B[1;33m)\u001B[0m\u001B[1;33m\u001B[0m\u001B[1;33m\u001B[0m\u001B[0m\n\u001B[1;32m----> 8\u001B[1;33m             \u001B[0ms_index\u001B[0m\u001B[1;33m,\u001B[0m \u001B[0mboard_index\u001B[0m \u001B[1;33m=\u001B[0m \u001B[0mfindBoardInSequence\u001B[0m\u001B[1;33m(\u001B[0m\u001B[0mcurr_board\u001B[0m\u001B[1;33m,\u001B[0m \u001B[0mS_n_sequence_new\u001B[0m\u001B[1;33m)\u001B[0m\u001B[1;33m\u001B[0m\u001B[1;33m\u001B[0m\u001B[0m\n\u001B[0m\u001B[0;32m      9\u001B[0m             \u001B[1;32mif\u001B[0m \u001B[0ms_index\u001B[0m \u001B[1;33m!=\u001B[0m \u001B[1;33m-\u001B[0m\u001B[1;36m1\u001B[0m\u001B[1;33m:\u001B[0m\u001B[1;33m\u001B[0m\u001B[1;33m\u001B[0m\u001B[0m\n\u001B[0;32m     10\u001B[0m                 \u001B[0mplacement_dict\u001B[0m\u001B[1;33m[\u001B[0m\u001B[1;33m(\u001B[0m\u001B[0mmove\u001B[0m\u001B[1;33m,\u001B[0m\u001B[0ms_index\u001B[0m\u001B[1;33m,\u001B[0m\u001B[0mboard_index\u001B[0m\u001B[1;33m)\u001B[0m\u001B[1;33m]\u001B[0m \u001B[1;33m=\u001B[0m \u001B[0ms_index\u001B[0m\u001B[1;33m\u001B[0m\u001B[1;33m\u001B[0m\u001B[0m\n",
      "\u001B[1;32m~\\AppData\\Local\\Temp/ipykernel_19108/3232748484.py\u001B[0m in \u001B[0;36mfindBoardInSequence\u001B[1;34m(situation, sequence)\u001B[0m\n\u001B[0;32m      6\u001B[0m         \u001B[1;32mfor\u001B[0m \u001B[0mj\u001B[0m \u001B[1;32min\u001B[0m \u001B[0mrange\u001B[0m\u001B[1;33m(\u001B[0m\u001B[0mlen\u001B[0m\u001B[1;33m(\u001B[0m\u001B[0msequence\u001B[0m\u001B[1;33m[\u001B[0m\u001B[0mi\u001B[0m\u001B[1;33m]\u001B[0m\u001B[1;33m)\u001B[0m\u001B[1;33m)\u001B[0m\u001B[1;33m:\u001B[0m\u001B[1;33m\u001B[0m\u001B[1;33m\u001B[0m\u001B[0m\n\u001B[0;32m      7\u001B[0m             \u001B[0mitem\u001B[0m \u001B[1;33m=\u001B[0m \u001B[0msequence\u001B[0m\u001B[1;33m[\u001B[0m\u001B[0mi\u001B[0m\u001B[1;33m]\u001B[0m\u001B[1;33m[\u001B[0m\u001B[0mj\u001B[0m\u001B[1;33m]\u001B[0m\u001B[1;33m\u001B[0m\u001B[1;33m\u001B[0m\u001B[0m\n\u001B[1;32m----> 8\u001B[1;33m             \u001B[1;32mif\u001B[0m \u001B[0mboard_str\u001B[0m \u001B[1;33m==\u001B[0m \u001B[1;33m(\u001B[0m\u001B[0mitem\u001B[0m\u001B[1;33m.\u001B[0m\u001B[0mturn\u001B[0m\u001B[1;33m,\u001B[0m \u001B[0mitem\u001B[0m\u001B[1;33m.\u001B[0m\u001B[0m__str__\u001B[0m\u001B[1;33m(\u001B[0m\u001B[1;33m)\u001B[0m\u001B[1;33m)\u001B[0m\u001B[1;33m:\u001B[0m\u001B[1;33m\u001B[0m\u001B[1;33m\u001B[0m\u001B[0m\n\u001B[0m\u001B[0;32m      9\u001B[0m                 \u001B[1;32mreturn\u001B[0m \u001B[0mi\u001B[0m\u001B[1;33m,\u001B[0m \u001B[0mj\u001B[0m\u001B[1;33m\u001B[0m\u001B[1;33m\u001B[0m\u001B[0m\n\u001B[0;32m     10\u001B[0m     \u001B[1;32mreturn\u001B[0m \u001B[1;33m-\u001B[0m\u001B[1;36m1\u001B[0m\u001B[1;33m,\u001B[0m\u001B[1;33m-\u001B[0m\u001B[1;36m1\u001B[0m\u001B[1;33m\u001B[0m\u001B[1;33m\u001B[0m\u001B[0m\n",
      "\u001B[1;32mc:\\users\\lukas\\studium\\5. semester\\studienarbeit\\projekt\\venv\\lib\\site-packages\\chess\\__init__.py\u001B[0m in \u001B[0;36m__str__\u001B[1;34m(self)\u001B[0m\n\u001B[0;32m   1200\u001B[0m                     \u001B[0mbuilder\u001B[0m\u001B[1;33m.\u001B[0m\u001B[0mappend\u001B[0m\u001B[1;33m(\u001B[0m\u001B[1;34m\"\\n\"\u001B[0m\u001B[1;33m)\u001B[0m\u001B[1;33m\u001B[0m\u001B[1;33m\u001B[0m\u001B[0m\n\u001B[0;32m   1201\u001B[0m             \u001B[1;32melse\u001B[0m\u001B[1;33m:\u001B[0m\u001B[1;33m\u001B[0m\u001B[1;33m\u001B[0m\u001B[0m\n\u001B[1;32m-> 1202\u001B[1;33m                 \u001B[0mbuilder\u001B[0m\u001B[1;33m.\u001B[0m\u001B[0mappend\u001B[0m\u001B[1;33m(\u001B[0m\u001B[1;34m\" \"\u001B[0m\u001B[1;33m)\u001B[0m\u001B[1;33m\u001B[0m\u001B[1;33m\u001B[0m\u001B[0m\n\u001B[0m\u001B[0;32m   1203\u001B[0m \u001B[1;33m\u001B[0m\u001B[0m\n\u001B[0;32m   1204\u001B[0m         \u001B[1;32mreturn\u001B[0m \u001B[1;34m\"\"\u001B[0m\u001B[1;33m.\u001B[0m\u001B[0mjoin\u001B[0m\u001B[1;33m(\u001B[0m\u001B[0mbuilder\u001B[0m\u001B[1;33m)\u001B[0m\u001B[1;33m\u001B[0m\u001B[1;33m\u001B[0m\u001B[0m\n",
      "\u001B[1;31mKeyboardInterrupt\u001B[0m: "
     ]
    }
   ],
   "source": [
    "moves = []\n",
    "while s_index > 0:\n",
    "    curr_board = S_n_sequence_new[s_index][board_index].copy()\n",
    "    if curr_board.turn:\n",
    "        placement_dict = {}\n",
    "        for move in curr_board.legal_moves:\n",
    "            curr_board.push(move)\n",
    "            s_index, board_index = findBoardInSequence(curr_board, S_n_sequence_new)\n",
    "            if s_index != -1:\n",
    "                placement_dict[(move,s_index,board_index)] = s_index\n",
    "            curr_board.pop()\n",
    "        move, s_index, board_index = min(placement_dict, key=placement_dict.get)\n",
    "        print(move)\n",
    "        moves.append(move)\n",
    "\n",
    "    else:\n",
    "        move_list = list(curr_board.legal_moves)\n",
    "        move_index = random.randint(0, len(move_list) - 1)\n",
    "        curr_board.push(move_list[move_index])\n",
    "        s_index, board_index = findBoardInSequence(curr_board, S_n_sequence_new)\n",
    "        if s_index == -1:\n",
    "            print(\"No solution\")\n",
    "            break\n",
    "        print(move_list[move_index])\n",
    "        moves.append(move_list[move_index])\n",
    "\n",
    "\n",
    "print(str(len(moves)) + \" Züge bis zum Gewinn bestimmt\")"
   ],
   "metadata": {
    "collapsed": false,
    "pycharm": {
     "name": "#%%\n"
    }
   }
  },
  {
   "cell_type": "markdown",
   "source": [
    "## Anzeigen des Ergebnisses\n",
    "Ergebnisse anzeigen, in dem mit 2 Sekunden Verzögerung alle Moves durchgeführt werden."
   ],
   "metadata": {
    "collapsed": false,
    "pycharm": {
     "name": "#%% md\n"
    }
   }
  },
  {
   "cell_type": "code",
   "execution_count": null,
   "metadata": {
    "pycharm": {
     "name": "#%%\n"
    }
   },
   "outputs": [],
   "source": [
    "test_board = original_board.copy()\n",
    "display(test_board)\n",
    "time.sleep(2)\n",
    "for move in moves:\n",
    "    test_board.push(move)\n",
    "    clear_output(wait=True)\n",
    "    display(test_board)\n",
    "    time.sleep(2)"
   ]
  },
  {
   "cell_type": "code",
   "execution_count": null,
   "outputs": [],
   "source": [],
   "metadata": {
    "collapsed": false,
    "pycharm": {
     "name": "#%%\n"
    }
   }
  }
 ],
 "metadata": {
  "kernelspec": {
   "display_name": "Python 3 (ipykernel)",
   "language": "python",
   "name": "python3"
  },
  "language_info": {
   "codemirror_mode": {
    "name": "ipython",
    "version": 3
   },
   "file_extension": ".py",
   "mimetype": "text/x-python",
   "name": "python",
   "nbconvert_exporter": "python",
   "pygments_lexer": "ipython3",
   "version": "3.9.8"
  }
 },
 "nbformat": 4,
 "nbformat_minor": 1
}