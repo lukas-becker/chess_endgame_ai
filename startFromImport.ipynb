{
 "cells": [
  {
   "cell_type": "markdown",
   "metadata": {
    "pycharm": {
     "name": "#%% md\n"
    }
   },
   "source": [
    "# Schach Spiel mit importieren S_n"
   ]
  },
  {
   "cell_type": "markdown",
   "metadata": {
    "pycharm": {
     "name": "#%% md\n"
    }
   },
   "source": [
    "## Imports, die für dieses Notebook benötigt werden"
   ]
  },
  {
   "cell_type": "code",
   "execution_count": 51,
   "metadata": {
    "pycharm": {
     "name": "#%%\n"
    }
   },
   "outputs": [],
   "source": [
    "import chess\n",
    "from IPython.display import clear_output\n",
    "from IPython.display import display\n",
    "import json\n",
    "import random\n",
    "from stockfish import Stockfish\n",
    "import time\n"
   ]
  },
  {
   "cell_type": "markdown",
   "metadata": {
    "pycharm": {
     "name": "#%% md\n"
    }
   },
   "source": [
    "## Ausgangssituation\n",
    "\n",
    "Für dieses Board wurde die S_n Sequenz berechnet."
   ]
  },
  {
   "cell_type": "code",
   "execution_count": 54,
   "metadata": {
    "pycharm": {
     "name": "#%%\n"
    }
   },
   "outputs": [],
   "source": [
    "fen = \"8/8/8/8/4k3/8/8/K6R w - - 0 1\"\n",
    "#fen = \"4k3/5R2/4K3/8/8/8/8/8 w - - 0 1\"\n",
    "original_board = chess.Board(fen)"
   ]
  },
  {
   "cell_type": "markdown",
   "metadata": {
    "pycharm": {
     "name": "#%% md\n"
    }
   },
   "source": [
    "## Import der Daten\n",
    "\n",
    "Die Daten wurden als FEN in der JSON-Datei Serialisiert.\n",
    "Zum Initialisieren der Liste werden alle FENs gelesen und Board-Objekte erstellt."
   ]
  },
  {
   "cell_type": "code",
   "execution_count": 55,
   "metadata": {
    "pycharm": {
     "name": "#%%\n"
    }
   },
   "outputs": [],
   "source": [
    "S_n_sequence_new = []\n",
    "f = open(\"S_n_seq_12_01.json\", \"r\")\n",
    "tmp = json.loads(f.read())\n",
    "for item in tmp:\n",
    "    tmp_list = []\n",
    "    for board in item:\n",
    "        tmp_list.append(chess.Board(board))\n",
    "    S_n_sequence_new.append(tmp_list)\n",
    "f.close()"
   ]
  },
  {
   "cell_type": "markdown",
   "metadata": {
    "pycharm": {
     "name": "#%% md\n"
    }
   },
   "source": [
    "## findBoardInSequence Hilfsfunktion\n",
    "\n",
    "Diese Funktion durchsucht eine S_n Sequenz nach dem ersten Vorkommen eines übergebenen Board-Objekts.\n",
    "\n",
    "Funktions-Argumente:\n",
    "* situation: Das Board (als Objekt), welches gefunden werden soll\n",
    "* sequence: Die S_n-Sequenz, in welcher das Board gesucht wird\n",
    "\n",
    "Ergebnis der Ausführung:\n",
    "* Die Funktion hat zwei mögliche Rückgaben:\n",
    "  * Ein Tupel mit S_n Index (z.B. S_3) und Board-Index (z.B. 100).\n",
    "    Dieses Tupel drückt aus, wo in der Sequenz das Board gefunden wurde.\n",
    "  * Das Tupel (-1,-1). Dies drückt aus, dass das Board nicht gefunden wurde.\n",
    "\n",
    "Nebeneffekte:\n",
    "Die Funktion verändert keinen der übergebenen Parameter.\n",
    "\n",
    "Algorithmus:\n",
    "1. Über die S_n-Sequenz iterieren.\n",
    "2. Über jedes Board in einem spezifischem S_n iterieren.\n",
    "3. Das Board mit dem _situation_ Objekt vergleichen.\n",
    "    1. Wenn das Board übereinstimmt, die Indizes zurückgeben.\n",
    "    2. Wenn das Board nicht übereinstimmt, weitersuchen."
   ]
  },
  {
   "cell_type": "code",
   "execution_count": 56,
   "metadata": {
    "pycharm": {
     "name": "#%%\n"
    }
   },
   "outputs": [],
   "source": [
    "def findBoardInSequence(situation, sequence):\n",
    "    board_str = (situation.turn, situation.__str__())\n",
    "\n",
    "    for i in range(len(sequence)):\n",
    "        for j in range(len(sequence[i])):\n",
    "            item = sequence[i][j]\n",
    "            if board_str == (item.turn, item.__str__()):\n",
    "                return i, j\n",
    "    return -1,-1"
   ]
  },
  {
   "cell_type": "markdown",
   "metadata": {
    "pycharm": {
     "name": "#%% md\n"
    }
   },
   "source": [
    "## Finden des ersten Boards in der S_n-Sequenz\n",
    "\n",
    "Mithilfe der zuvor definierten _findBoardInSequence_ Funktion wird das *original_board* in der *S_n_sequence* gesucht."
   ]
  },
  {
   "cell_type": "code",
   "execution_count": 57,
   "metadata": {
    "pycharm": {
     "name": "#%%\n"
    }
   },
   "outputs": [
    {
     "name": "stdout",
     "output_type": "stream",
     "text": [
      "S31 - Board: 436\n"
     ]
    }
   ],
   "source": [
    "s_index = 0\n",
    "board_index = 0\n",
    "\n",
    "s_index, board_index = findBoardInSequence(original_board, S_n_sequence_new)\n",
    "\n",
    "#Print search result\n",
    "print(\"S\" + str(s_index) + \" - Board: \" + str(board_index))"
   ]
  },
  {
   "cell_type": "markdown",
   "metadata": {
    "pycharm": {
     "name": "#%% md\n"
    }
   },
   "source": [
    "## Berechnen der Züge bis zum Spielende\n",
    "Diese Berechnung erfolgt mit zufälligen Zügen für den Spieler \"Schwarz\".\n",
    "\n",
    "Voraussetzungen:\n",
    "  * Die vorherige Zelle muss ausgeführt sein; Es müssen ein s_index und ein board_index gesetzt sein.\n",
    "\n",
    "Ablauf:\n",
    "  * Das aktuelle Board kopieren (Auswählen aus S_n und kopieren)\n",
    "  * Überprüfen ob Weiß oder Schwarz am Zug ist:\n",
    "    * Wenn Weiß:\n",
    "      * Alle legal moves ausprobieren und überprüfen in welcher S_n Menge das Board sich hinterher befindet.\n",
    "      * Den legal Move, mit dem geringsten n auswählen\n",
    "    * Wenn Schwarz:\n",
    "      * Einen zufälligen (legal-)Move durchführen\n",
    "      * Überprüfen in welcher S_n Menge das Board sich nun befindet\n",
    "  * s_index und board_index aktualisieren\n",
    "  * Wiederholen bis, das Board in S_0 ist (s_index = 0) oder kein Move gefunden wurde (s_index = -1)"
   ]
  },
  {
   "cell_type": "code",
   "execution_count": 58,
   "metadata": {
    "pycharm": {
     "name": "#%%\n"
    }
   },
   "outputs": [
    {
     "name": "stdout",
     "output_type": "stream",
     "text": [
      "---White:---\n",
      "Starting in S31\n",
      "    S30 - Board: 1694\n",
      "    S30 - Board: 12126\n",
      "{(Move.from_uci('h1d1'), 30, 1694): 30, (Move.from_uci('a1b2'), 30, 12126): 30}\n",
      "h1d1\n",
      "Ended in S30\n",
      "---Black:---\n",
      "Starting in S30\n",
      "    S29 - Board: 718\n",
      "e4f5\n",
      "Ended in S29\n",
      "---White:---\n",
      "Starting in S29\n",
      "    S28 - Board: 38\n",
      "{(Move.from_uci('d1e1'), 28, 38): 28}\n",
      "d1e1\n",
      "Ended in S28\n",
      "---Black:---\n",
      "Starting in S28\n",
      "    S27 - Board: 1148\n",
      "f5g4\n",
      "Ended in S27\n",
      "---White:---\n",
      "Starting in S27\n",
      "    S26 - Board: 14182\n",
      "    S26 - Board: 17667\n",
      "{(Move.from_uci('e1f1'), 26, 14182): 26, (Move.from_uci('a1b2'), 26, 17667): 26}\n",
      "e1f1\n",
      "Ended in S26\n",
      "---Black:---\n",
      "Starting in S26\n",
      "    S23 - Board: 1701\n",
      "g4h5\n",
      "Ended in S23\n",
      "---White:---\n",
      "Starting in S23\n",
      "    S22 - Board: 7736\n",
      "{(Move.from_uci('f1g1'), 22, 7736): 22}\n",
      "f1g1\n",
      "Ended in S22\n",
      "---Black:---\n",
      "Starting in S22\n",
      "    S21 - Board: 2023\n",
      "h5h4\n",
      "Ended in S21\n",
      "---White:---\n",
      "Starting in S21\n",
      "    S20 - Board: 5331\n",
      "    S20 - Board: 57\n",
      "    S20 - Board: 5328\n",
      "{(Move.from_uci('a1b2'), 20, 5331): 20, (Move.from_uci('a1a2'), 20, 57): 20, (Move.from_uci('a1b1'), 20, 5328): 20}\n",
      "a1b2\n",
      "Ended in S20\n",
      "---Black:---\n",
      "Starting in S20\n",
      "    S17 - Board: 1676\n",
      "h4h5\n",
      "Ended in S17\n",
      "---White:---\n",
      "Starting in S17\n",
      "    S16 - Board: 86\n",
      "    S16 - Board: 84\n",
      "    S16 - Board: 71\n",
      "{(Move.from_uci('b2c3'), 16, 86): 16, (Move.from_uci('b2c2'), 16, 84): 16, (Move.from_uci('b2c1'), 16, 71): 16}\n",
      "b2c3\n",
      "Ended in S16\n",
      "---Black:---\n",
      "Starting in S16\n",
      "    S15 - Board: 1420\n",
      "h5h4\n",
      "Ended in S15\n",
      "---White:---\n",
      "Starting in S15\n",
      "    S14 - Board: 98\n",
      "    S14 - Board: 95\n",
      "    S14 - Board: 81\n",
      "{(Move.from_uci('c3d4'), 14, 98): 14, (Move.from_uci('c3d3'), 14, 95): 14, (Move.from_uci('c3d2'), 14, 81): 14}\n",
      "c3d4\n",
      "Ended in S14\n",
      "---Black:---\n",
      "Starting in S14\n",
      "    S13 - Board: 947\n",
      "h4h5\n",
      "Ended in S13\n",
      "---White:---\n",
      "Starting in S13\n",
      "    S12 - Board: 1815\n",
      "    S12 - Board: 70\n",
      "    S12 - Board: 1810\n",
      "    S12 - Board: 62\n",
      "    S12 - Board: 60\n",
      "{(Move.from_uci('d4e5'), 12, 1815): 12, (Move.from_uci('d4d5'), 12, 70): 12, (Move.from_uci('d4e4'), 12, 1810): 12, (Move.from_uci('d4e3'), 12, 62): 12, (Move.from_uci('d4d3'), 12, 60): 12}\n",
      "d4e5\n",
      "Ended in S12\n",
      "---Black:---\n",
      "Starting in S12\n",
      "    S11 - Board: 698\n",
      "h5h4\n",
      "Ended in S11\n",
      "---White:---\n",
      "Starting in S11\n",
      "    S10 - Board: 835\n",
      "    S10 - Board: 1760\n",
      "    S10 - Board: 31\n",
      "{(Move.from_uci('e5f5'), 10, 835): 10, (Move.from_uci('e5f4'), 10, 1760): 10, (Move.from_uci('e5e4'), 10, 31): 10}\n",
      "e5f5\n",
      "Ended in S10\n",
      "---Black:---\n",
      "Starting in S10\n",
      "    S9 - Board: 340\n",
      "h4h3\n",
      "Ended in S9\n",
      "---White:---\n",
      "Starting in S9\n",
      "    S8 - Board: 362\n",
      "{(Move.from_uci('f5f4'), 8, 362): 8}\n",
      "f5f4\n",
      "Ended in S8\n",
      "---Black:---\n",
      "Starting in S8\n",
      "    S7 - Board: 106\n",
      "h3h2\n",
      "Ended in S7\n",
      "---White:---\n",
      "Starting in S7\n",
      "    S6 - Board: 106\n",
      "{(Move.from_uci('g1g3'), 6, 106): 6}\n",
      "g1g3\n",
      "Ended in S6\n",
      "---Black:---\n",
      "Starting in S6\n",
      "    S5 - Board: 1293\n",
      "h2h1\n",
      "Ended in S5\n",
      "---White:---\n",
      "Starting in S5\n",
      "    S4 - Board: 429\n",
      "    S4 - Board: 428\n",
      "{(Move.from_uci('f4f3'), 4, 429): 4, (Move.from_uci('f4e3'), 4, 428): 4}\n",
      "f4f3\n",
      "Ended in S4\n",
      "---Black:---\n",
      "Starting in S4\n",
      "    S3 - Board: 1487\n",
      "h1h2\n",
      "Ended in S3\n",
      "---White:---\n",
      "Starting in S3\n",
      "    S2 - Board: 196\n",
      "{(Move.from_uci('f3f2'), 2, 196): 2}\n",
      "f3f2\n",
      "Ended in S2\n",
      "---Black:---\n",
      "Starting in S2\n",
      "    S1 - Board: 506\n",
      "h2h1\n",
      "Ended in S1\n",
      "---White:---\n",
      "Starting in S1\n",
      "    S0 - Board: 88\n",
      "{(Move.from_uci('g3h3'), 0, 88): 0}\n",
      "g3h3\n",
      "Ended in S0\n",
      "27 Züge bis zum Gewinn bestimmt\n"
     ]
    }
   ],
   "source": [
    "stockfish = Stockfish(\"./stockfish_14.1/stockfish_14.1_win_x64_avx2.exe\")\n",
    "\n",
    "moves = []\n",
    "while s_index > 0:\n",
    "    curr_board = S_n_sequence_new[s_index][board_index].copy()\n",
    "    stockfish.set_fen_position(curr_board.fen())\n",
    "    if curr_board.turn:\n",
    "        print(\"---White:---\")\n",
    "        print(\"Starting in S\" + str(s_index))\n",
    "        placement_dict = {}\n",
    "        for move in curr_board.legal_moves:\n",
    "            curr_board.push(move)\n",
    "            _tmp, board_index_tmp = findBoardInSequence(curr_board, [S_n_sequence_new[s_index - 1]])\n",
    "            s_index_tmp = s_index - 1\n",
    "            if board_index_tmp != -1:\n",
    "                print(\"    S\" + str(s_index_tmp) + \" - Board: \" + str(board_index_tmp))\n",
    "                placement_dict[(move,s_index_tmp,board_index_tmp)] = s_index_tmp\n",
    "            curr_board.pop()\n",
    "        print(placement_dict)\n",
    "        move, s_index, board_index = min(placement_dict, key=placement_dict.get)\n",
    "        print(move)\n",
    "        moves.append(move)\n",
    "        print(\"Ended in S\" + str(s_index))\n",
    "\n",
    "    else:\n",
    "        print(\"---Black:---\")\n",
    "        print(\"Starting in S\" + str(s_index))\n",
    "        #move_list = list(curr_board.legal_moves)\n",
    "        #move_index = random.randint(0, len(move_list) - 1)\n",
    "        move = chess.Move.from_uci(stockfish.get_best_move())\n",
    "        curr_board.push(move)\n",
    "        s_index, board_index = findBoardInSequence(curr_board, S_n_sequence_new[:s_index])\n",
    "        print(\"    S\" + str(s_index) + \" - Board: \" + str(board_index))\n",
    "        if s_index == -1:\n",
    "            print(\"No solution\")\n",
    "            break\n",
    "        print(move)\n",
    "        moves.append(move)\n",
    "        print(\"Ended in S\" + str(s_index))\n",
    "\n",
    "\n",
    "print(str(len(moves)) + \" Züge bis zum Gewinn bestimmt\")"
   ]
  },
  {
   "cell_type": "markdown",
   "metadata": {
    "pycharm": {
     "name": "#%% md\n"
    }
   },
   "source": [
    "## Ergebnis mit Stockfish Ergebnis vergleichen"
   ]
  },
  {
   "cell_type": "code",
   "execution_count": 59,
   "metadata": {
    "pycharm": {
     "name": "#%%\n"
    }
   },
   "outputs": [
    {
     "name": "stdout",
     "output_type": "stream",
     "text": [
      "Stockfish ended the Game in 29 turns.\n"
     ]
    }
   ],
   "source": [
    "compare_board = chess.Board()\n",
    "compare_board.set_fen(fen)\n",
    "compare_moves = []\n",
    "\n",
    "while not compare_board.is_game_over():\n",
    "    stockfish.set_fen_position(compare_board.fen())\n",
    "    next_move = chess.Move.from_uci(stockfish.get_best_move())\n",
    "    compare_board.push(next_move)\n",
    "    compare_moves.append(next_move)\n",
    "\n",
    "print(\"Stockfish ended the Game in \" + str(len(compare_moves)) + \" turns.\")"
   ]
  },
  {
   "cell_type": "markdown",
   "metadata": {
    "pycharm": {
     "name": "#%% md\n"
    }
   },
   "source": [
    "## Anzeigen des Ergebnisses\n",
    "Ergebnisse anzeigen, in dem mit 2 Sekunden Verzögerung alle Moves durchgeführt werden."
   ]
  },
  {
   "cell_type": "code",
   "execution_count": null,
   "metadata": {
    "pycharm": {
     "name": "#%%\n"
    }
   },
   "outputs": [],
   "source": [
    "test_board = original_board.copy()\n",
    "display(test_board)\n",
    "time.sleep(2)\n",
    "for move in moves:\n",
    "    test_board.push(move)\n",
    "    clear_output(wait=True)\n",
    "    display(test_board)\n",
    "    time.sleep(2)"
   ]
  },
  {
   "cell_type": "markdown",
   "metadata": {
    "pycharm": {
     "name": "#%% md\n"
    }
   },
   "source": [
    "Die Funktion `move_in_sequence` überprüft für ein gegebenes Brett, ob dieses auch in der gegebenen S_n Menge vorhanden ist.\n",
    "Hierfür werden folgende Parameter verwendet:\n",
    "- `board_to_check`: Das Brett, das in der Menge `sequence` vorhanden sein soll.\n",
    "- `sequence`: Die Menge, in der `board_to_check` auffindbar sein soll.\n",
    "\n",
    "Als Ergebnis wird ein boolescher Wert zurückgegeben."
   ]
  },
  {
   "cell_type": "code",
   "execution_count": 60,
   "metadata": {
    "pycharm": {
     "name": "#%%\n"
    }
   },
   "outputs": [],
   "source": [
    "def move_in_sequence(board_to_check, sequence):\n",
    "    if findBoardInSequence(board_to_check, [sequence]) != (-1,-1):\n",
    "        return True\n",
    "    else:\n",
    "        return False"
   ]
  },
  {
   "cell_type": "markdown",
   "metadata": {
    "pycharm": {
     "name": "#%% md\n"
    }
   },
   "source": [
    "Bei `sequenz_index` wird für jedes Board einer S_n Menge überprüft, ob Stockfish oder die zuvor definierten Mengen das\n",
    "Board effizienter lösen. Dabei gilt es für den Vergleich zu beachten, dass folgende Vorgehensweise verwendet wird.\n",
    "- `Stockfish`: Für sowohl schwarz, als auch für weiß, werden die Züge mit der Funktion `Stockfish().get_best_move()` bestimmt.\n",
    "- `KI`: Das n, das überprüft wird, wird für den Vergleich genutzt, da dies den schlechtesten Fall darstellt.\n",
    "\n",
    "Die Methode, die für den Vergleich mit Stockfish angewandt wurde, birgt die Gefahr, dass durch Stockfish für schwarz\n",
    "nicht der beste Zug ausgewählt wird und dadurch das Ergebnis beeinflusst. Diese Gefahr erhöht sich vor allem dann, wenn\n",
    "sich die Züge bis zu einem Schachmatt erhöhen, da bei jedem Zug von schwarz die Gefahr besteht, dass nicht der beste Zug\n",
    "ausgewählt wird.\n",
    "\n",
    "Die Funktion erhält als Parameter:\n",
    "- `sequenz_index`: Die Nummer der Menge, für die alle Bretter überprüft werden sollen.\n",
    "(Bsp.: S_10 -> `sequence_index = 10`)\n",
    "\n",
    "In der Konsole wird nach den Berechnungen dem Nutzer angezeigt, zu wie viel % Stockfish und die selbstgeschriebene KI\n",
    "bessere Ergebnisse erzielt hat. Außerdem wird noch angezeigt zu welchem Teil sowohl Stockfish, als auch die KI gleiche\n",
    "Ergebnisse erzielt haben."
   ]
  },
  {
   "cell_type": "code",
   "execution_count": 72,
   "metadata": {
    "pycharm": {
     "name": "#%%\n"
    }
   },
   "outputs": [],
   "source": [
    "def compare_sequence_stockfish(sequenz_index):\n",
    "    s_n = S_n_sequence_new[sequenz_index]\n",
    "    move_count_list = []\n",
    "    diff_list = []\n",
    "    for board_it in s_n:\n",
    "        seq_index = sequenz_index\n",
    "        cmp_board = board_it.copy()\n",
    "        _u, b_index = findBoardInSequence(board_it, [s_n])\n",
    "        # print(seq_index, b_index)\n",
    "        move_count = 0\n",
    "        # print(move_in_sequence(board_it, s_n))\n",
    "        if move_in_sequence(board_it, s_n):\n",
    "            while seq_index > 0:\n",
    "                # White\n",
    "                board_to_use = S_n_sequence_new[seq_index][board_index].copy()\n",
    "\n",
    "                if board_to_use.turn:\n",
    "                    # print(\"White\")\n",
    "                    for p_move in board_to_use.legal_moves:\n",
    "                        # print(p_move)\n",
    "                        board_to_use.push(p_move)\n",
    "                        # print(\"B function: \", b_index, seq_index)\n",
    "                        s_tmp, b_index = findBoardInSequence(board_to_use, [S_n_sequence_new[seq_index-1]])\n",
    "                        # print(\"A function: \", b_index, seq_index)\n",
    "                        if b_index != -1:\n",
    "                            seq_index -= 1\n",
    "                            # print(b_index, seq_index)\n",
    "                            move_count += 1\n",
    "                            break\n",
    "                        board_to_use.pop()\n",
    "                # Black\n",
    "                else:\n",
    "                    # print(\"Black\")\n",
    "                    stockfish.set_fen_position(board_to_use.fen())\n",
    "                    nxt_move = chess.Move.from_uci(stockfish.get_best_move())\n",
    "                    # print(nxt_move)\n",
    "                    board_to_use.push(nxt_move)\n",
    "                    move_count += 1\n",
    "                    seq_index, b_index = findBoardInSequence(board_to_use, S_n_sequence_new[:seq_index])\n",
    "                    # print(b_index, seq_index)\n",
    "        else:\n",
    "            print(\"Couldn't find board!\")\n",
    "\n",
    "        cmp_move_count = 0\n",
    "        while not cmp_board.is_game_over():\n",
    "            stockfish.set_fen_position(cmp_board.fen())\n",
    "            nxt_move = chess.Move.from_uci(stockfish.get_best_move())\n",
    "            cmp_board.push(nxt_move)\n",
    "            cmp_move_count += 1\n",
    "        print(\"Moves KI: \" + str(move_count), \"Moves Stockfish: \" + str(cmp_move_count))\n",
    "        move_count_list.append((move_count, cmp_move_count, move_count - cmp_move_count))\n",
    "        diff_list.append(move_count - cmp_move_count)\n",
    "    ki_better = 0\n",
    "    stockfish_better = 0\n",
    "    equal = 0\n",
    "    for value in diff_list:\n",
    "        if value == 0:\n",
    "            equal += 1\n",
    "        elif value < 0:\n",
    "            ki_better += 1\n",
    "        else:\n",
    "            stockfish_better += 1\n",
    "    cmp_values = len(diff_list)\n",
    "    print(\"Stockfish war zu \" + str(round((stockfish_better/cmp_values) * 100, 2)) + \"% besser\")\n",
    "    print(\"Die KI war zu \" + str(round((ki_better/cmp_values) * 100, 2)) + \"% besser\")\n",
    "    print(\"Stockfish und die KI haben zu \" + str(round((equal/cmp_values) * 100, 2)) + \"% die gleichen Ergebnisse erzielt\")"
   ]
  },
  {
   "cell_type": "markdown",
   "metadata": {
    "pycharm": {
     "name": "#%% md\n"
    }
   },
   "source": [
    "Als Beispiel wird hier der Vergleich zwischen der KI und Stockfish für die Menge S_20 vorgenommen."
   ]
  },
  {
   "cell_type": "code",
   "execution_count": 76,
   "metadata": {
    "pycharm": {
     "name": "#%%\n"
    }
   },
   "outputs": [
    {
     "name": "stdout",
     "output_type": "stream",
     "text": [
      "Moves KI: 6 Moves Stockfish: 6\n",
      "Moves KI: 6 Moves Stockfish: 20\n",
      "Moves KI: 6 Moves Stockfish: 20\n",
      "Moves KI: 6 Moves Stockfish: 14\n",
      "Moves KI: 6 Moves Stockfish: 16\n",
      "Moves KI: 6 Moves Stockfish: 20\n",
      "Moves KI: 6 Moves Stockfish: 20\n",
      "Moves KI: 6 Moves Stockfish: 20\n",
      "Moves KI: 6 Moves Stockfish: 6\n",
      "Moves KI: 6 Moves Stockfish: 16\n",
      "Moves KI: 6 Moves Stockfish: 14\n",
      "Moves KI: 6 Moves Stockfish: 20\n",
      "Moves KI: 6 Moves Stockfish: 6\n",
      "Moves KI: 6 Moves Stockfish: 8\n",
      "Moves KI: 6 Moves Stockfish: 6\n",
      "Moves KI: 6 Moves Stockfish: 8\n",
      "Moves KI: 6 Moves Stockfish: 8\n",
      "Moves KI: 6 Moves Stockfish: 8\n",
      "Moves KI: 6 Moves Stockfish: 6\n",
      "Moves KI: 6 Moves Stockfish: 6\n",
      "Moves KI: 6 Moves Stockfish: 8\n",
      "Moves KI: 6 Moves Stockfish: 6\n",
      "Moves KI: 6 Moves Stockfish: 6\n",
      "Moves KI: 6 Moves Stockfish: 6\n",
      "Moves KI: 6 Moves Stockfish: 6\n",
      "Moves KI: 6 Moves Stockfish: 14\n",
      "Moves KI: 6 Moves Stockfish: 14\n",
      "Moves KI: 6 Moves Stockfish: 20\n",
      "Moves KI: 6 Moves Stockfish: 14\n",
      "Moves KI: 6 Moves Stockfish: 14\n",
      "Moves KI: 6 Moves Stockfish: 6\n",
      "Moves KI: 6 Moves Stockfish: 6\n",
      "Moves KI: 6 Moves Stockfish: 8\n",
      "Moves KI: 6 Moves Stockfish: 6\n",
      "Moves KI: 6 Moves Stockfish: 10\n",
      "Moves KI: 6 Moves Stockfish: 8\n",
      "Moves KI: 6 Moves Stockfish: 10\n",
      "Moves KI: 6 Moves Stockfish: 10\n",
      "Moves KI: 6 Moves Stockfish: 10\n",
      "Moves KI: 6 Moves Stockfish: 6\n",
      "Moves KI: 6 Moves Stockfish: 6\n",
      "Moves KI: 6 Moves Stockfish: 28\n",
      "Moves KI: 6 Moves Stockfish: 10\n",
      "Moves KI: 6 Moves Stockfish: 10\n",
      "Moves KI: 6 Moves Stockfish: 22\n",
      "Moves KI: 6 Moves Stockfish: 6\n",
      "Moves KI: 6 Moves Stockfish: 8\n",
      "Moves KI: 6 Moves Stockfish: 28\n",
      "Moves KI: 6 Moves Stockfish: 28\n",
      "Moves KI: 6 Moves Stockfish: 6\n",
      "Moves KI: 6 Moves Stockfish: 6\n",
      "Moves KI: 6 Moves Stockfish: 6\n"
     ]
    },
    {
     "ename": "KeyboardInterrupt",
     "evalue": "",
     "output_type": "error",
     "traceback": [
      "\u001B[1;31m---------------------------------------------------------------------------\u001B[0m",
      "\u001B[1;31mKeyboardInterrupt\u001B[0m                         Traceback (most recent call last)",
      "\u001B[1;32m~\\AppData\\Local\\Temp/ipykernel_28396/161828161.py\u001B[0m in \u001B[0;36m<module>\u001B[1;34m\u001B[0m\n\u001B[1;32m----> 1\u001B[1;33m \u001B[0mcompare_sequence_stockfish\u001B[0m\u001B[1;33m(\u001B[0m\u001B[1;36m6\u001B[0m\u001B[1;33m)\u001B[0m\u001B[1;33m\u001B[0m\u001B[1;33m\u001B[0m\u001B[0m\n\u001B[0m\u001B[0;32m      2\u001B[0m \u001B[1;33m\u001B[0m\u001B[0m\n",
      "\u001B[1;32m~\\AppData\\Local\\Temp/ipykernel_28396/3539723756.py\u001B[0m in \u001B[0;36mcompare_sequence_stockfish\u001B[1;34m(sequenz_index)\u001B[0m\n\u001B[0;32m     38\u001B[0m                     \u001B[0mboard_to_use\u001B[0m\u001B[1;33m.\u001B[0m\u001B[0mpush\u001B[0m\u001B[1;33m(\u001B[0m\u001B[0mnxt_move\u001B[0m\u001B[1;33m)\u001B[0m\u001B[1;33m\u001B[0m\u001B[1;33m\u001B[0m\u001B[0m\n\u001B[0;32m     39\u001B[0m                     \u001B[0mmove_count\u001B[0m \u001B[1;33m+=\u001B[0m \u001B[1;36m1\u001B[0m\u001B[1;33m\u001B[0m\u001B[1;33m\u001B[0m\u001B[0m\n\u001B[1;32m---> 40\u001B[1;33m                     \u001B[0mseq_index\u001B[0m\u001B[1;33m,\u001B[0m \u001B[0mb_index\u001B[0m \u001B[1;33m=\u001B[0m \u001B[0mfindBoardInSequence\u001B[0m\u001B[1;33m(\u001B[0m\u001B[0mboard_to_use\u001B[0m\u001B[1;33m,\u001B[0m \u001B[0mS_n_sequence_new\u001B[0m\u001B[1;33m[\u001B[0m\u001B[1;33m:\u001B[0m\u001B[0mseq_index\u001B[0m\u001B[1;33m]\u001B[0m\u001B[1;33m)\u001B[0m\u001B[1;33m\u001B[0m\u001B[1;33m\u001B[0m\u001B[0m\n\u001B[0m\u001B[0;32m     41\u001B[0m                     \u001B[1;31m# print(b_index, seq_index)\u001B[0m\u001B[1;33m\u001B[0m\u001B[1;33m\u001B[0m\u001B[1;33m\u001B[0m\u001B[0m\n\u001B[0;32m     42\u001B[0m                 \u001B[0mx\u001B[0m \u001B[1;33m+=\u001B[0m \u001B[1;36m1\u001B[0m\u001B[1;33m\u001B[0m\u001B[1;33m\u001B[0m\u001B[0m\n",
      "\u001B[1;32m~\\AppData\\Local\\Temp/ipykernel_28396/2185608798.py\u001B[0m in \u001B[0;36mfindBoardInSequence\u001B[1;34m(situation, sequence)\u001B[0m\n\u001B[0;32m      5\u001B[0m         \u001B[1;32mfor\u001B[0m \u001B[0mj\u001B[0m \u001B[1;32min\u001B[0m \u001B[0mrange\u001B[0m\u001B[1;33m(\u001B[0m\u001B[0mlen\u001B[0m\u001B[1;33m(\u001B[0m\u001B[0msequence\u001B[0m\u001B[1;33m[\u001B[0m\u001B[0mi\u001B[0m\u001B[1;33m]\u001B[0m\u001B[1;33m)\u001B[0m\u001B[1;33m)\u001B[0m\u001B[1;33m:\u001B[0m\u001B[1;33m\u001B[0m\u001B[1;33m\u001B[0m\u001B[0m\n\u001B[0;32m      6\u001B[0m             \u001B[0mitem\u001B[0m \u001B[1;33m=\u001B[0m \u001B[0msequence\u001B[0m\u001B[1;33m[\u001B[0m\u001B[0mi\u001B[0m\u001B[1;33m]\u001B[0m\u001B[1;33m[\u001B[0m\u001B[0mj\u001B[0m\u001B[1;33m]\u001B[0m\u001B[1;33m\u001B[0m\u001B[1;33m\u001B[0m\u001B[0m\n\u001B[1;32m----> 7\u001B[1;33m             \u001B[1;32mif\u001B[0m \u001B[0mboard_str\u001B[0m \u001B[1;33m==\u001B[0m \u001B[1;33m(\u001B[0m\u001B[0mitem\u001B[0m\u001B[1;33m.\u001B[0m\u001B[0mturn\u001B[0m\u001B[1;33m,\u001B[0m \u001B[0mitem\u001B[0m\u001B[1;33m.\u001B[0m\u001B[0m__str__\u001B[0m\u001B[1;33m(\u001B[0m\u001B[1;33m)\u001B[0m\u001B[1;33m)\u001B[0m\u001B[1;33m:\u001B[0m\u001B[1;33m\u001B[0m\u001B[1;33m\u001B[0m\u001B[0m\n\u001B[0m\u001B[0;32m      8\u001B[0m                 \u001B[1;32mreturn\u001B[0m \u001B[0mi\u001B[0m\u001B[1;33m,\u001B[0m \u001B[0mj\u001B[0m\u001B[1;33m\u001B[0m\u001B[1;33m\u001B[0m\u001B[0m\n\u001B[0;32m      9\u001B[0m     \u001B[1;32mreturn\u001B[0m \u001B[1;33m-\u001B[0m\u001B[1;36m1\u001B[0m\u001B[1;33m,\u001B[0m\u001B[1;33m-\u001B[0m\u001B[1;36m1\u001B[0m\u001B[1;33m\u001B[0m\u001B[1;33m\u001B[0m\u001B[0m\n",
      "\u001B[1;32mc:\\users\\nicom\\documents\\uni_unterlagen\\5.semester\\hausarbeit\\chess_endgame_ai\\venv\\lib\\site-packages\\chess\\__init__.py\u001B[0m in \u001B[0;36m__str__\u001B[1;34m(self)\u001B[0m\n\u001B[0;32m   1189\u001B[0m \u001B[1;33m\u001B[0m\u001B[0m\n\u001B[0;32m   1190\u001B[0m         \u001B[1;32mfor\u001B[0m \u001B[0msquare\u001B[0m \u001B[1;32min\u001B[0m \u001B[0mSQUARES_180\u001B[0m\u001B[1;33m:\u001B[0m\u001B[1;33m\u001B[0m\u001B[1;33m\u001B[0m\u001B[0m\n\u001B[1;32m-> 1191\u001B[1;33m             \u001B[0mpiece\u001B[0m \u001B[1;33m=\u001B[0m \u001B[0mself\u001B[0m\u001B[1;33m.\u001B[0m\u001B[0mpiece_at\u001B[0m\u001B[1;33m(\u001B[0m\u001B[0msquare\u001B[0m\u001B[1;33m)\u001B[0m\u001B[1;33m\u001B[0m\u001B[1;33m\u001B[0m\u001B[0m\n\u001B[0m\u001B[0;32m   1192\u001B[0m \u001B[1;33m\u001B[0m\u001B[0m\n\u001B[0;32m   1193\u001B[0m             \u001B[1;32mif\u001B[0m \u001B[0mpiece\u001B[0m\u001B[1;33m:\u001B[0m\u001B[1;33m\u001B[0m\u001B[1;33m\u001B[0m\u001B[0m\n",
      "\u001B[1;32mc:\\users\\nicom\\documents\\uni_unterlagen\\5.semester\\hausarbeit\\chess_endgame_ai\\venv\\lib\\site-packages\\chess\\__init__.py\u001B[0m in \u001B[0;36mpiece_at\u001B[1;34m(self, square)\u001B[0m\n\u001B[0;32m    673\u001B[0m     \u001B[1;32mdef\u001B[0m \u001B[0mpiece_at\u001B[0m\u001B[1;33m(\u001B[0m\u001B[0mself\u001B[0m\u001B[1;33m,\u001B[0m \u001B[0msquare\u001B[0m\u001B[1;33m:\u001B[0m \u001B[0mSquare\u001B[0m\u001B[1;33m)\u001B[0m \u001B[1;33m->\u001B[0m \u001B[0mOptional\u001B[0m\u001B[1;33m[\u001B[0m\u001B[0mPiece\u001B[0m\u001B[1;33m]\u001B[0m\u001B[1;33m:\u001B[0m\u001B[1;33m\u001B[0m\u001B[1;33m\u001B[0m\u001B[0m\n\u001B[0;32m    674\u001B[0m         \u001B[1;34m\"\"\"Gets the :class:`piece <chess.Piece>` at the given square.\"\"\"\u001B[0m\u001B[1;33m\u001B[0m\u001B[1;33m\u001B[0m\u001B[0m\n\u001B[1;32m--> 675\u001B[1;33m         \u001B[0mpiece_type\u001B[0m \u001B[1;33m=\u001B[0m \u001B[0mself\u001B[0m\u001B[1;33m.\u001B[0m\u001B[0mpiece_type_at\u001B[0m\u001B[1;33m(\u001B[0m\u001B[0msquare\u001B[0m\u001B[1;33m)\u001B[0m\u001B[1;33m\u001B[0m\u001B[1;33m\u001B[0m\u001B[0m\n\u001B[0m\u001B[0;32m    676\u001B[0m         \u001B[1;32mif\u001B[0m \u001B[0mpiece_type\u001B[0m\u001B[1;33m:\u001B[0m\u001B[1;33m\u001B[0m\u001B[1;33m\u001B[0m\u001B[0m\n\u001B[0;32m    677\u001B[0m             \u001B[0mmask\u001B[0m \u001B[1;33m=\u001B[0m \u001B[0mBB_SQUARES\u001B[0m\u001B[1;33m[\u001B[0m\u001B[0msquare\u001B[0m\u001B[1;33m]\u001B[0m\u001B[1;33m\u001B[0m\u001B[1;33m\u001B[0m\u001B[0m\n",
      "\u001B[1;32mc:\\users\\nicom\\documents\\uni_unterlagen\\5.semester\\hausarbeit\\chess_endgame_ai\\venv\\lib\\site-packages\\chess\\__init__.py\u001B[0m in \u001B[0;36mpiece_type_at\u001B[1;34m(self, square)\u001B[0m\n\u001B[0;32m    683\u001B[0m     \u001B[1;32mdef\u001B[0m \u001B[0mpiece_type_at\u001B[0m\u001B[1;33m(\u001B[0m\u001B[0mself\u001B[0m\u001B[1;33m,\u001B[0m \u001B[0msquare\u001B[0m\u001B[1;33m:\u001B[0m \u001B[0mSquare\u001B[0m\u001B[1;33m)\u001B[0m \u001B[1;33m->\u001B[0m \u001B[0mOptional\u001B[0m\u001B[1;33m[\u001B[0m\u001B[0mPieceType\u001B[0m\u001B[1;33m]\u001B[0m\u001B[1;33m:\u001B[0m\u001B[1;33m\u001B[0m\u001B[1;33m\u001B[0m\u001B[0m\n\u001B[0;32m    684\u001B[0m         \u001B[1;34m\"\"\"Gets the piece type at the given square.\"\"\"\u001B[0m\u001B[1;33m\u001B[0m\u001B[1;33m\u001B[0m\u001B[0m\n\u001B[1;32m--> 685\u001B[1;33m         \u001B[0mmask\u001B[0m \u001B[1;33m=\u001B[0m \u001B[0mBB_SQUARES\u001B[0m\u001B[1;33m[\u001B[0m\u001B[0msquare\u001B[0m\u001B[1;33m]\u001B[0m\u001B[1;33m\u001B[0m\u001B[1;33m\u001B[0m\u001B[0m\n\u001B[0m\u001B[0;32m    686\u001B[0m \u001B[1;33m\u001B[0m\u001B[0m\n\u001B[0;32m    687\u001B[0m         \u001B[1;32mif\u001B[0m \u001B[1;32mnot\u001B[0m \u001B[0mself\u001B[0m\u001B[1;33m.\u001B[0m\u001B[0moccupied\u001B[0m \u001B[1;33m&\u001B[0m \u001B[0mmask\u001B[0m\u001B[1;33m:\u001B[0m\u001B[1;33m\u001B[0m\u001B[1;33m\u001B[0m\u001B[0m\n",
      "\u001B[1;31mKeyboardInterrupt\u001B[0m: "
     ]
    }
   ],
   "source": [
    "compare_sequence_stockfish(6)"
   ]
  },
  {
   "cell_type": "markdown",
   "metadata": {
    "pycharm": {
     "name": "#%% md\n"
    }
   },
   "source": [
    "Ein Testszenario sieht auch vor alle zuvor bestimmten Boards mit dem Lösungsweg von Stockfish zu vergleichen. Hierfür\n",
    "geht die Funktion `compare_all_sequences` alle S_n-Mengen durch und vergleicht diese jeweils mit der Lösung von\n",
    "Stockfish."
   ]
  },
  {
   "cell_type": "code",
   "execution_count": null,
   "metadata": {
    "pycharm": {
     "name": "#%%\n"
    }
   },
   "outputs": [],
   "source": [
    "def compare_all_sequences():\n",
    "    for i in range(len(S_n_sequence_new)):\n",
    "        print(\"Comparing S_\" + str(i) + \"...\")\n",
    "        compare_sequence_stockfish(i)"
   ]
  },
  {
   "cell_type": "code",
   "execution_count": null,
   "metadata": {
    "pycharm": {
     "name": "#%%\n"
    }
   },
   "outputs": [],
   "source": [
    "compare_all_sequences()"
   ]
  }
 ],
 "metadata": {
  "kernelspec": {
   "display_name": "Python 3 (ipykernel)",
   "language": "python",
   "name": "python3"
  },
  "language_info": {
   "codemirror_mode": {
    "name": "ipython",
    "version": 3
   },
   "file_extension": ".py",
   "mimetype": "text/x-python",
   "name": "python",
   "nbconvert_exporter": "python",
   "pygments_lexer": "ipython3",
   "version": "3.9.5"
  }
 },
 "nbformat": 4,
 "nbformat_minor": 1
}