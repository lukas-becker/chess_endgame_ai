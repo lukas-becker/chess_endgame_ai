{
 "cells": [
  {
   "cell_type": "code",
   "execution_count": 69,
   "metadata": {
    "pycharm": {
     "name": "#%%\n"
    }
   },
   "outputs": [],
   "source": [
    "import chess\n",
    "from IPython.display import clear_output\n",
    "from IPython.display import display\n",
    "import json\n",
    "import time\n",
    "import random"
   ]
  },
  {
   "cell_type": "code",
   "execution_count": 70,
   "metadata": {
    "pycharm": {
     "name": "#%%\n"
    }
   },
   "outputs": [],
   "source": [
    "fen = \"8/8/8/8/4k3/8/8/K6R w - - 0 1\"\n",
    "board = chess.Board(fen)"
   ]
  },
  {
   "cell_type": "code",
   "execution_count": 71,
   "metadata": {
    "pycharm": {
     "name": "#%%\n"
    }
   },
   "outputs": [],
   "source": [
    "S_n_sequence_new = []\n",
    "f = open(\"S_n_seq.json\", \"r\")\n",
    "tmp = json.loads(f.read())\n",
    "for item in tmp:\n",
    "    tmp_list = []\n",
    "    for board in item:\n",
    "        tmp_list.append(chess.Board(board))\n",
    "    S_n_sequence_new.append(tmp_list)\n",
    "f.close()"
   ]
  },
  {
   "cell_type": "code",
   "execution_count": 72,
   "metadata": {
    "pycharm": {
     "name": "#%%\n"
    }
   },
   "outputs": [
    {
     "name": "stdout",
     "output_type": "stream",
     "text": [
      "Ausgangssituation gefunden in: S9 - Board: 19108\n"
     ]
    }
   ],
   "source": [
    "compare_board = chess.Board(fen)\n",
    "board_str = (compare_board.turn, compare_board.__str__())\n",
    "s_index = 0\n",
    "board_index = 0\n",
    "\n",
    "for i in range(len(S_n_sequence_new)):\n",
    "    for j in range(len(S_n_sequence_new[i])):\n",
    "        item = S_n_sequence_new[i][j]\n",
    "        if board_str == (item.turn, item.__str__()):\n",
    "            s_index = i\n",
    "            board_index = j\n",
    "            break\n",
    "    if s_index != 0:\n",
    "        break\n",
    "\n",
    "print(\"Ausgangssituation gefunden in: S\" + str(s_index) + \" - Board: \" + str(j))"
   ]
  },
  {
   "cell_type": "code",
   "execution_count": 73,
   "metadata": {
    "pycharm": {
     "name": "#%%\n"
    }
   },
   "outputs": [
    {
     "name": "stdout",
     "output_type": "stream",
     "text": [
      "1\n",
      "2\n",
      "---\n",
      "---\n",
      "1\n",
      "2\n",
      "---\n",
      "---\n",
      "1\n",
      "2\n",
      "3\n",
      "4\n",
      "5\n",
      "6\n",
      "7\n",
      "8\n",
      "9\n",
      "10\n",
      "11\n",
      "12\n",
      "13\n",
      "14\n",
      "15\n",
      "16\n",
      "17\n",
      "---\n",
      "1\n",
      "2\n",
      "3\n",
      "4\n",
      "5\n",
      "6\n",
      "7\n",
      "8\n",
      "9\n",
      "10\n",
      "11\n",
      "12\n",
      "13\n",
      "14\n",
      "15\n",
      "16\n",
      "17\n",
      "---\n",
      "1\n",
      "2\n",
      "3\n",
      "4\n",
      "5\n",
      "6\n",
      "7\n",
      "8\n",
      "9\n",
      "10\n",
      "11\n",
      "12\n",
      "13\n",
      "14\n",
      "15\n",
      "16\n",
      "17\n",
      "---\n",
      "1\n",
      "2\n",
      "3\n",
      "4\n",
      "5\n",
      "6\n",
      "7\n",
      "8\n",
      "9\n",
      "10\n",
      "11\n",
      "12\n",
      "13\n",
      "14\n",
      "15\n",
      "16\n",
      "17\n",
      "---\n",
      "1\n",
      "2\n",
      "3\n",
      "4\n",
      "5\n",
      "6\n",
      "7\n",
      "8\n",
      "9\n",
      "10\n",
      "11\n",
      "12\n",
      "13\n",
      "14\n",
      "15\n",
      "16\n",
      "17\n",
      "---\n",
      "1\n",
      "2\n",
      "3\n",
      "4\n",
      "5\n",
      "6\n",
      "7\n",
      "8\n",
      "9\n",
      "10\n",
      "11\n",
      "12\n",
      "13\n",
      "14\n",
      "15\n",
      "16\n",
      "17\n",
      "---\n",
      "1\n",
      "2\n",
      "3\n",
      "4\n",
      "5\n",
      "6\n",
      "7\n",
      "8\n",
      "9\n",
      "10\n",
      "11\n",
      "12\n",
      "13\n",
      "14\n",
      "15\n",
      "16\n",
      "17\n",
      "---\n",
      "1\n",
      "2\n",
      "3\n",
      "4\n",
      "5\n",
      "6\n",
      "7\n",
      "8\n",
      "9\n",
      "10\n",
      "11\n",
      "12\n"
     ]
    },
    {
     "ename": "KeyboardInterrupt",
     "evalue": "",
     "output_type": "error",
     "traceback": [
      "\u001B[1;31m---------------------------------------------------------------------------\u001B[0m",
      "\u001B[1;31mKeyboardInterrupt\u001B[0m                         Traceback (most recent call last)",
      "\u001B[1;32m~\\AppData\\Local\\Temp/ipykernel_15768/1495084889.py\u001B[0m in \u001B[0;36m<module>\u001B[1;34m\u001B[0m\n\u001B[0;32m     17\u001B[0m             \u001B[0mcurr_board\u001B[0m\u001B[1;33m.\u001B[0m\u001B[0mpush\u001B[0m\u001B[1;33m(\u001B[0m\u001B[0mmove\u001B[0m\u001B[1;33m)\u001B[0m\u001B[1;33m\u001B[0m\u001B[1;33m\u001B[0m\u001B[0m\n\u001B[0;32m     18\u001B[0m             \u001B[0mrepr\u001B[0m \u001B[1;33m=\u001B[0m \u001B[1;33m(\u001B[0m\u001B[0mcurr_board\u001B[0m\u001B[1;33m.\u001B[0m\u001B[0mturn\u001B[0m\u001B[1;33m,\u001B[0m \u001B[0mcurr_board\u001B[0m\u001B[1;33m.\u001B[0m\u001B[0m__str__\u001B[0m\u001B[1;33m(\u001B[0m\u001B[1;33m)\u001B[0m\u001B[1;33m)\u001B[0m\u001B[1;33m\u001B[0m\u001B[1;33m\u001B[0m\u001B[0m\n\u001B[1;32m---> 19\u001B[1;33m             \u001B[0mnext_index\u001B[0m \u001B[1;33m=\u001B[0m \u001B[0mcheckForBoard\u001B[0m\u001B[1;33m(\u001B[0m\u001B[0mrepr\u001B[0m\u001B[1;33m,\u001B[0m \u001B[0mS_n_sequence_new\u001B[0m\u001B[1;33m[\u001B[0m\u001B[0ms_index\u001B[0m \u001B[1;33m-\u001B[0m \u001B[1;36m1\u001B[0m\u001B[1;33m]\u001B[0m\u001B[1;33m)\u001B[0m\u001B[1;33m\u001B[0m\u001B[1;33m\u001B[0m\u001B[0m\n\u001B[0m\u001B[0;32m     20\u001B[0m             \u001B[1;32mif\u001B[0m \u001B[0mnext_index\u001B[0m\u001B[1;33m:\u001B[0m\u001B[1;33m\u001B[0m\u001B[1;33m\u001B[0m\u001B[0m\n\u001B[0;32m     21\u001B[0m                 \u001B[0mmoves\u001B[0m\u001B[1;33m.\u001B[0m\u001B[0mappend\u001B[0m\u001B[1;33m(\u001B[0m\u001B[0mmove\u001B[0m\u001B[1;33m)\u001B[0m\u001B[1;33m\u001B[0m\u001B[1;33m\u001B[0m\u001B[0m\n",
      "\u001B[1;32m~\\AppData\\Local\\Temp/ipykernel_15768/1495084889.py\u001B[0m in \u001B[0;36mcheckForBoard\u001B[1;34m(repr, list)\u001B[0m\n\u001B[0;32m      2\u001B[0m     \u001B[1;32mfor\u001B[0m \u001B[0mi\u001B[0m \u001B[1;32min\u001B[0m \u001B[0mrange\u001B[0m\u001B[1;33m(\u001B[0m\u001B[0mlen\u001B[0m\u001B[1;33m(\u001B[0m\u001B[0mlist\u001B[0m\u001B[1;33m)\u001B[0m\u001B[1;33m)\u001B[0m\u001B[1;33m:\u001B[0m\u001B[1;33m\u001B[0m\u001B[1;33m\u001B[0m\u001B[0m\n\u001B[0;32m      3\u001B[0m             \u001B[0mnext_board\u001B[0m \u001B[1;33m=\u001B[0m \u001B[0mlist\u001B[0m\u001B[1;33m[\u001B[0m\u001B[0mi\u001B[0m\u001B[1;33m]\u001B[0m\u001B[1;33m\u001B[0m\u001B[1;33m\u001B[0m\u001B[0m\n\u001B[1;32m----> 4\u001B[1;33m             \u001B[1;32mif\u001B[0m \u001B[0mrepr\u001B[0m \u001B[1;33m==\u001B[0m \u001B[1;33m(\u001B[0m\u001B[0mnext_board\u001B[0m\u001B[1;33m.\u001B[0m\u001B[0mturn\u001B[0m\u001B[1;33m,\u001B[0m \u001B[0mnext_board\u001B[0m\u001B[1;33m.\u001B[0m\u001B[0m__str__\u001B[0m\u001B[1;33m(\u001B[0m\u001B[1;33m)\u001B[0m\u001B[1;33m)\u001B[0m\u001B[1;33m:\u001B[0m\u001B[1;33m\u001B[0m\u001B[1;33m\u001B[0m\u001B[0m\n\u001B[0m\u001B[0;32m      5\u001B[0m                 \u001B[1;32mreturn\u001B[0m \u001B[0mi\u001B[0m\u001B[1;33m\u001B[0m\u001B[1;33m\u001B[0m\u001B[0m\n\u001B[0;32m      6\u001B[0m \u001B[1;33m\u001B[0m\u001B[0m\n",
      "\u001B[1;32mc:\\users\\lukas\\studium\\5. semester\\studienarbeit\\projekt\\venv\\lib\\site-packages\\chess\\__init__.py\u001B[0m in \u001B[0;36m__str__\u001B[1;34m(self)\u001B[0m\n\u001B[0;32m   1189\u001B[0m \u001B[1;33m\u001B[0m\u001B[0m\n\u001B[0;32m   1190\u001B[0m         \u001B[1;32mfor\u001B[0m \u001B[0msquare\u001B[0m \u001B[1;32min\u001B[0m \u001B[0mSQUARES_180\u001B[0m\u001B[1;33m:\u001B[0m\u001B[1;33m\u001B[0m\u001B[1;33m\u001B[0m\u001B[0m\n\u001B[1;32m-> 1191\u001B[1;33m             \u001B[0mpiece\u001B[0m \u001B[1;33m=\u001B[0m \u001B[0mself\u001B[0m\u001B[1;33m.\u001B[0m\u001B[0mpiece_at\u001B[0m\u001B[1;33m(\u001B[0m\u001B[0msquare\u001B[0m\u001B[1;33m)\u001B[0m\u001B[1;33m\u001B[0m\u001B[1;33m\u001B[0m\u001B[0m\n\u001B[0m\u001B[0;32m   1192\u001B[0m \u001B[1;33m\u001B[0m\u001B[0m\n\u001B[0;32m   1193\u001B[0m             \u001B[1;32mif\u001B[0m \u001B[0mpiece\u001B[0m\u001B[1;33m:\u001B[0m\u001B[1;33m\u001B[0m\u001B[1;33m\u001B[0m\u001B[0m\n",
      "\u001B[1;32mc:\\users\\lukas\\studium\\5. semester\\studienarbeit\\projekt\\venv\\lib\\site-packages\\chess\\__init__.py\u001B[0m in \u001B[0;36mpiece_at\u001B[1;34m(self, square)\u001B[0m\n\u001B[0;32m    674\u001B[0m         \u001B[1;34m\"\"\"Gets the :class:`piece <chess.Piece>` at the given square.\"\"\"\u001B[0m\u001B[1;33m\u001B[0m\u001B[1;33m\u001B[0m\u001B[0m\n\u001B[0;32m    675\u001B[0m         \u001B[0mpiece_type\u001B[0m \u001B[1;33m=\u001B[0m \u001B[0mself\u001B[0m\u001B[1;33m.\u001B[0m\u001B[0mpiece_type_at\u001B[0m\u001B[1;33m(\u001B[0m\u001B[0msquare\u001B[0m\u001B[1;33m)\u001B[0m\u001B[1;33m\u001B[0m\u001B[1;33m\u001B[0m\u001B[0m\n\u001B[1;32m--> 676\u001B[1;33m         \u001B[1;32mif\u001B[0m \u001B[0mpiece_type\u001B[0m\u001B[1;33m:\u001B[0m\u001B[1;33m\u001B[0m\u001B[1;33m\u001B[0m\u001B[0m\n\u001B[0m\u001B[0;32m    677\u001B[0m             \u001B[0mmask\u001B[0m \u001B[1;33m=\u001B[0m \u001B[0mBB_SQUARES\u001B[0m\u001B[1;33m[\u001B[0m\u001B[0msquare\u001B[0m\u001B[1;33m]\u001B[0m\u001B[1;33m\u001B[0m\u001B[1;33m\u001B[0m\u001B[0m\n\u001B[0;32m    678\u001B[0m             \u001B[0mcolor\u001B[0m \u001B[1;33m=\u001B[0m \u001B[0mbool\u001B[0m\u001B[1;33m(\u001B[0m\u001B[0mself\u001B[0m\u001B[1;33m.\u001B[0m\u001B[0moccupied_co\u001B[0m\u001B[1;33m[\u001B[0m\u001B[0mWHITE\u001B[0m\u001B[1;33m]\u001B[0m \u001B[1;33m&\u001B[0m \u001B[0mmask\u001B[0m\u001B[1;33m)\u001B[0m\u001B[1;33m\u001B[0m\u001B[1;33m\u001B[0m\u001B[0m\n",
      "\u001B[1;31mKeyboardInterrupt\u001B[0m: "
     ]
    }
   ],
   "source": [
    "def checkForBoard(repr, list):\n",
    "    for i in range(len(list)):\n",
    "            next_board = list[i]\n",
    "            if repr == (next_board.turn, next_board.__str__()):\n",
    "                return i\n",
    "\n",
    "    return 0\n",
    "moves = []\n",
    "\n",
    "while s_index > 0:\n",
    "    curr_board = S_n_sequence_new[s_index][board_index]\n",
    "    if curr_board.turn:\n",
    "        move_count = 1\n",
    "        for move in curr_board.legal_moves:\n",
    "            print(move_count)\n",
    "            move_count = move_count + 1\n",
    "            curr_board.push(move)\n",
    "            repr = (curr_board.turn, curr_board.__str__())\n",
    "            next_index = checkForBoard(repr, S_n_sequence_new[s_index - 1])\n",
    "            if next_index:\n",
    "                moves.append(move)\n",
    "                s_index = s_index - 1\n",
    "                board_index = next_index\n",
    "                break\n",
    "            curr_board.pop()\n",
    "    else:\n",
    "        move_list = list(curr_board.legal_moves)\n",
    "        move_index = random.randint(0, len(move_list) - 1)\n",
    "        curr_board.push(move_list[move_index])\n",
    "        repr = (curr_board.turn, curr_board.__str__())\n",
    "        next_index = checkForBoard(repr, S_n_sequence_new[s_index - 1])\n",
    "        s_index = s_index - 1\n",
    "        board_index = next_index\n",
    "        moves.append(move_list[move_index])\n",
    "\n",
    "    print(\"---\")\n",
    "\n",
    "\n",
    "clear_output(wait=True)\n",
    "print(str(len(moves)) + \" Züge bis zum Gewinn bestimmt\")"
   ]
  },
  {
   "cell_type": "code",
   "execution_count": null,
   "metadata": {
    "pycharm": {
     "name": "#%%\n"
    }
   },
   "outputs": [],
   "source": [
    "test_board = compare_board.copy()\n",
    "display(test_board)\n",
    "time.sleep(2)\n",
    "for move in moves:\n",
    "    test_board.push(move)\n",
    "    clear_output(wait=True)\n",
    "    display(test_board)\n",
    "    time.sleep(2)\n"
   ]
  }
 ],
 "metadata": {
  "kernelspec": {
   "display_name": "Python 3 (ipykernel)",
   "language": "python",
   "name": "python3"
  },
  "language_info": {
   "codemirror_mode": {
    "name": "ipython",
    "version": 3
   },
   "file_extension": ".py",
   "mimetype": "text/x-python",
   "name": "python",
   "nbconvert_exporter": "python",
   "pygments_lexer": "ipython3",
   "version": "3.9.8"
  }
 },
 "nbformat": 4,
 "nbformat_minor": 1
}