{
 "cells": [
  {
   "cell_type": "markdown",
   "source": [
    "### Funktionen zum Spiegeln\n",
    "\n",
    "Wie zuvor erklärt, werden in diesem Notebook Stellungen gespiegelt, um die Effizienz der Berechnung zu erhöhen.\n",
    "Der folgende Abschnitt erklärt die damit verbundende Funktionalität."
   ],
   "metadata": {
    "collapsed": false,
    "pycharm": {
     "name": "#%% md\n"
    }
   }
  },
  {
   "cell_type": "markdown",
   "source": [
    "Die globale Variable SWAPS enthält für jede Spiegelungsart ein Dictionary. \n",
    "In diesem Dictionary liegt für jedes `Square` (Nummeriert von 0-63) eine Zuweisung, welches `Square` der gespiegelten Position entspricht.\n",
    "\n",
    "So wird beispielsweise bei der vertikalen Spiegelung die Figuren der obersten Reihe mit der untersten Reihe getauscht.\n",
    "Eine Zuweisung im Dictionary wäre beispielsweise: `0: 56`.   "
   ],
   "metadata": {
    "collapsed": false,
    "pycharm": {
     "name": "#%% md\n"
    }
   }
  },
  {
   "cell_type": "code",
   "execution_count": null,
   "outputs": [],
   "source": [
    "SWAPS = {\n",
    "        \"vertical\" : {x:x^56 for x in range(64)},\n",
    "        \"horizontal\" : {x:x^7 for x in range(64)},\n",
    "        \"rotate_right\" : {x:(((x >> 3) | (x << 3)) & 63) ^ 56 for x in range(64)},\n",
    "        \"rotate_180\" : {x : x ^ 63 for x in range(64)},\n",
    "        \"rotate_left\" : {x : (((x >> 3) | (x << 3)) & 63) ^ 7 for x in range(64)},\n",
    "        \"diagonal\" : {x : ((x >> 3) | (x << 3)) & 63 for x in range(64)},\n",
    "        \"anti_diagonal\" : {x : (((x >> 3) | (x << 3)) & 63) ^ 63 for x in range(64)}\n",
    "    }"
   ],
   "metadata": {
    "collapsed": false,
    "pycharm": {
     "name": "#%%\n"
    }
   }
  },
  {
   "cell_type": "markdown",
   "source": [
    "Die Spiegelung wird von der Funktion `mirror_board()` für eine Stellung `board_int` durchgeführt.\n",
    "Sie speichert das Bit, welches den Spieler am Zug repräsentiert, iteriert über alle Figuren im Integer und führt einen binären Tausch entsprechend der Zuweisungen im `mirror` Dictionary.\n",
    "Da im Integer die Positionen einzelner Figuren kodiert sind, können Spiegelungen direkt durch Verändern des Integers durchgeführt werden. "
   ],
   "metadata": {
    "collapsed": false,
    "pycharm": {
     "name": "#%% md\n"
    }
   }
  },
  {
   "cell_type": "code",
   "execution_count": null,
   "outputs": [],
   "source": [
    "# Mirroring mit 7 Bit Darstellung\n",
    "def mirror_board(board_int, mirror : dict):\n",
    "    # Save turn\n",
    "    result = board_int & 1\n",
    "    # Get count of pieces saved in int\n",
    "    n = len(PIECE_LIST)\n",
    "    # Remove turn\n",
    "    board_int = board_int >> 1\n",
    "    \n",
    "    for i in range(n):\n",
    "        result |= mirror[board_int & 127] << 7 * i + 1\n",
    "        board_int = board_int >> 7\n",
    "    return result\n"
   ],
   "metadata": {
    "collapsed": false,
    "pycharm": {
     "name": "#%%\n"
    }
   }
  },
  {
   "cell_type": "markdown",
   "source": [
    "Die Funktion `mirror_all_directions()` erstellt für einen Integer (`board_int`) eine Menge aller Spiegelungen mit den Methoden, die in `SWAPS` aufgeführt sind.\n",
    "Die Menge `result` enthält den original Integer `board_int` nicht."
   ],
   "metadata": {
    "collapsed": false,
    "pycharm": {
     "name": "#%% md\n"
    }
   }
  },
  {
   "cell_type": "code",
   "execution_count": null,
   "outputs": [],
   "source": [
    "# Implementierung ohne ENUM:\n",
    "def mirror_all_directions(board_int):\n",
    "    result = set()\n",
    "    for name, swap in SWAPS.items():\n",
    "        result.add(mirror_board(board_int, swap))\n",
    "    return result\n"
   ],
   "metadata": {
    "collapsed": false,
    "pycharm": {
     "name": "#%%\n"
    }
   }
  },
  {
   "cell_type": "markdown",
   "source": [
    "Die Funktion `get_all_mirror_variations()` berechnet für eine Menge von Stellungen in Integer-Repräsentation (`uniques_int`) die Menge der gespiegelten Variationen inklusive der Original stellungen (`result`).\n",
    "Hierfür wird die Funktion `mirror_all_directions()` verwendet."
   ],
   "metadata": {
    "collapsed": false,
    "pycharm": {
     "name": "#%% md\n"
    }
   }
  },
  {
   "cell_type": "code",
   "execution_count": null,
   "outputs": [],
   "source": [
    "def get_all_mirror_variations(uniques_int):\n",
    "    result = uniques_int.copy()\n",
    "    for unique in uniques_int:\n",
    "        result |= mirror_all_directions(unique)\n",
    "    return result\n"
   ],
   "metadata": {
    "collapsed": false,
    "pycharm": {
     "name": "#%%\n"
    }
   }
  }
 ],
 "metadata": {
  "kernelspec": {
   "display_name": "Python 3",
   "language": "python",
   "name": "python3"
  },
  "language_info": {
   "codemirror_mode": {
    "name": "ipython",
    "version": 2
   },
   "file_extension": ".py",
   "mimetype": "text/x-python",
   "name": "python",
   "nbconvert_exporter": "python",
   "pygments_lexer": "ipython2",
   "version": "2.7.6"
  }
 },
 "nbformat": 4,
 "nbformat_minor": 0
}