{
 "cells": [
  {
   "cell_type": "markdown",
   "source": [
    "### Funktionen zum Spiegeln\n",
    "\n",
    "Wie zuvor erklärt, werden in diesem Notebook Stellungen gespiegelt, um die Effizienz der Berechnung zu erhöhen.\n",
    "Der folgende Abschnitt erklärt die damit verbundende Funktionalität."
   ],
   "metadata": {
    "collapsed": false,
    "pycharm": {
     "name": "#%% md\n"
    }
   }
  },
  {
   "cell_type": "markdown",
   "source": [
    "Die globale Variable SWAPS enthält für jede Spiegelungsart ein Dictionary. \n",
    "In diesem Dictionary liegt für jedes `Square` (Nummeriert von 0-63) eine Zuweisung, welches `Square` der gespiegelten Position entspricht.\n",
    "\n",
    "So wird beispielsweise bei der vertikalen Spiegelung die Figuren der obersten Reihe mit der untersten Reihe getauscht.\n",
    "Eine Zuweisung im Dictionary wäre beispielsweise: `0: 56`.   "
   ],
   "metadata": {
    "collapsed": false,
    "pycharm": {
     "name": "#%% md\n"
    }
   }
  },
  {
   "cell_type": "code",
   "execution_count": null,
   "outputs": [],
   "source": [
    "SWAPS = {\n",
    "        \"vertical\" : {x : (x ^ 56) for x in range(64)},\n",
    "        \"horizontal\" : {x : (x ^ 7) for x in range(64)},\n",
    "        \"rotate_right\" : {x : ((((x >> 3) | (x << 3)) & 63) ^ 56) for x in range(64)},\n",
    "        \"rotate_180\" : {x : (x ^ 63) for x in range(64)},\n",
    "        \"rotate_left\" : {x: ((((x >> 3) | (x << 3)) & 63) ^ 7) for x in range(64)},\n",
    "        \"diagonal\" : {x: (((x >> 3) | (x << 3)) & 63) for x in range(64)},\n",
    "        \"anti_diagonal\" : {x: ((((x >> 3) | (x << 3)) & 63) ^ 63) for x in range(64)}\n",
    "    }"
   ],
   "metadata": {
    "collapsed": false,
    "pycharm": {
     "name": "#%%\n"
    }
   }
  },
  {
   "cell_type": "markdown",
   "source": [
    "Die Spiegelung wird von der Funktion `mirror_board()` für eine Stellung `board_int` durchgeführt.\n",
    "Sie speichert das Bit, welches den Spieler am Zug repräsentiert, iteriert über alle Figuren im Integer und führt einen binären Tausch entsprechend der Zuweisungen im `mirror` Dictionary.\n",
    "Da im Integer die Positionen einzelner Figuren kodiert sind, können Spiegelungen direkt durch Verändern des Integers durchgeführt werden. "
   ],
   "metadata": {
    "collapsed": false,
    "pycharm": {
     "name": "#%% md\n"
    }
   }
  },
  {
   "cell_type": "code",
   "execution_count": null,
   "outputs": [],
   "source": [
    "# Mirroring mit 7 Bit Darstellung\n",
    "def mirror_board(board, swap : dict):\n",
    "    '''\n",
    "    # Save turn\n",
    "    result = board_int & 1\n",
    "    # Get count of pieces saved in int\n",
    "    n = len(piece_list)\n",
    "    # Remove turn\n",
    "    board_int = board_int >> 1\n",
    "    \n",
    "    for i in range(n):\n",
    "        result |= mirror[board_int & 127] << 7 * i + 1\n",
    "        board_int = board_int >> 7\n",
    "    return result\n",
    "    '''\n",
    "\n",
    "    swapped_board = chess.Board(None)\n",
    "    swapped_board.turn = board.turn\n",
    "\n",
    "    for position, piece in board.piece_map().items():\n",
    "        swapped_board.set_piece_at(swap[position], piece)\n",
    "    return swapped_board\n"
   ],
   "metadata": {
    "collapsed": false,
    "pycharm": {
     "name": "#%%\n"
    }
   }
  },
  {
   "cell_type": "markdown",
   "source": [
    "Die Funktion `mirror_all_directions()` erstellt für einen Integer (`board_int`) eine Menge aller Spiegelungen mit den Methoden, die in `SWAPS` aufgeführt sind.\n",
    "Die Menge `result` enthält den original Integer `board_int` nicht."
   ],
   "metadata": {
    "collapsed": false,
    "pycharm": {
     "name": "#%% md\n"
    }
   }
  },
  {
   "cell_type": "code",
   "execution_count": null,
   "outputs": [],
   "source": [
    "# Implementierung ohne ENUM:\n",
    "def mirror_all_directions(board_int, piece_list):\n",
    "    result = set()\n",
    "    board = to_board(board_int, piece_list)\n",
    "    for name, swap in SWAPS.items():\n",
    "        result.add(to_integer(mirror_board(board, swap), piece_list))\n",
    "    '''\n",
    "    board = to_board(board_int, piece_list)\n",
    "    result.add(to_integer(board.transform(chess.flip_vertical), piece_list))\n",
    "    result.add(to_integer(board.transform(chess.flip_horizontal), piece_list))\n",
    "    result.add(to_integer(board.transform(chess.flip_diagonal), piece_list))\n",
    "    result.add(to_integer(board.transform(chess.flip_anti_diagonal), piece_list))\n",
    "    '''\n",
    "    return result\n"
   ],
   "metadata": {
    "collapsed": false,
    "pycharm": {
     "name": "#%%\n"
    }
   }
  },
  {
   "cell_type": "markdown",
   "source": [
    "Die Funktion `get_all_mirror_variations()` berechnet für eine Menge von Stellungen in Integer-Repräsentation (`uniques_int`) die Menge der gespiegelten Variationen inklusive der Original stellungen (`result`).\n",
    "Hierfür wird die Funktion `mirror_all_directions()` verwendet."
   ],
   "metadata": {
    "collapsed": false,
    "pycharm": {
     "name": "#%% md\n"
    }
   }
  },
  {
   "cell_type": "code",
   "execution_count": null,
   "outputs": [],
   "source": [
    "def get_all_mirror_variations(uniques_int, piece_list):\n",
    "    result = uniques_int.copy()\n",
    "    for unique in uniques_int:\n",
    "        result |= mirror_all_directions(unique, piece_list)\n",
    "    return result\n"
   ],
   "metadata": {
    "collapsed": false,
    "pycharm": {
     "name": "#%%\n"
    }
   }
  },
  {
   "cell_type": "markdown",
   "source": [
    "Soll eine zuvor berechnete Endspielsituation zur Auswertung verwendet werden, müssen alle $n$ gespiegelt werden.\n",
    "Die Erstellung der vollständigen $S_n$ Mengen geschieht durch die Funktion `gen_all_integers()`.\n",
    "Diese nimmt die bereits gespeicherten Mengen in ``s_n_integers`` und iteriert über diese.\n",
    "Für jedes Brett der Menge werden die 7 Spiegelungen generiert.\n",
    "Diese werden in einer Liste von Mengen, `result`, gespeichert.\n",
    "Die Indizes der Mengen werden dabei nicht verändert. Die Liste `result` stellt den Rückgabewert der Funktion dar."
   ],
   "metadata": {
    "collapsed": false,
    "pycharm": {
     "name": "#%% md\n"
    }
   }
  },
  {
   "cell_type": "code",
   "execution_count": null,
   "outputs": [],
   "source": [
    "def gen_all_integers(s_n_integers, piece_list):\n",
    "    result = []\n",
    "    for sequence in s_n_integers:\n",
    "        int_set = set()\n",
    "        for int_board in sequence:\n",
    "            int_set.add(int_board)\n",
    "            int_set |= mirror_all_directions(int_board, piece_list)\n",
    "        result.append(int_set)\n",
    "    return result\n"
   ],
   "metadata": {
    "collapsed": false,
    "pycharm": {
     "name": "#%%\n"
    }
   }
  }
 ],
 "metadata": {
  "kernelspec": {
   "display_name": "Python 3",
   "language": "python",
   "name": "python3"
  },
  "language_info": {
   "codemirror_mode": {
    "name": "ipython",
    "version": 2
   },
   "file_extension": ".py",
   "mimetype": "text/x-python",
   "name": "python",
   "nbconvert_exporter": "python",
   "pygments_lexer": "ipython2",
   "version": "2.7.6"
  }
 },
 "nbformat": 4,
 "nbformat_minor": 0
}