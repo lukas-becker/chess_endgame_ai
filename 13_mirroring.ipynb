{
 "cells": [
  {
   "cell_type": "markdown",
   "source": [
    "### Funktionen zum Spiegeln\n",
    "\n",
    "Wie zuvor erklärt, werden in diesem Notebook Stellungen gespiegelt, um die Effizienz der Berechnung zu erhöhen.\n",
    "Der folgende Abschnitt erklärt die damit verbundende Funktionalität."
   ],
   "metadata": {
    "collapsed": false,
    "pycharm": {
     "name": "#%% md\n"
    }
   }
  },
  {
   "cell_type": "markdown",
   "source": [
    "Die globale Variable `g_swaps` stellt für jede Spiegelungsart ein Dictionary zur Verfügung.\n",
    "Diese Dictionaries besitzen als `key` und `value` ein `chess.Square`.\n",
    "Der `key` steht dabei für die ursprüngliche Position und der `value` für die gespiegelte Position.\n",
    "\n",
    "Um die bitweisen Operationen für die Spiegelungen nachvollziehen zu können, gilt es sich zunächst die Nummerierung der Felder zu betrachten:\n",
    "![Nummerierung Schachfelder](Images/square_numbering.png)\n",
    "\n",
    "Bei der binären Betrachtung der Schachfelder kann man speziell in den Ecken ein Muster erkennen:\n",
    "* $(0)_{10} = (000000)_2$\n",
    "* $(7)_{10} = (000111)_2$\n",
    "* $(56)_{10} = (111000)_2$\n",
    "* $(63)_{10} = (111111)_2$\n",
    "\n",
    "Anhand dieser Darstellungen haben sich speziell für die horizontale und vertikale Spiegelungen folgende binäre Operationen gefunden.\n",
    "> Horizontale Spiegelung: mirrored = square \\^ 56\n",
    "> Vertikale Spiegelung: mirrored = square \\^ 7\n",
    "\n",
    "Diese Formeln haben sich daraus ergeben, dass die 3 niederwertigen Bit für die Position der Spalte und die 3 höherwertigen Bits für die Position der Zeile verwendet werden.\n",
    "\n",
    "Aus dieser Erkenntnis konnten auch die Spiegelungen an den Diagonalen gefolgert werden.\n",
    "Die Spiegelung an der aufsteigenden Diagonalen (0-9-18-27-36-45-54-63) hat zur Folge, dass die Indizes der Zeile und Spalte miteinander vertauscht werden.\n",
    "Die binäre Operation hierfür lautet:\n",
    "> Spiegelung an aufsteigenden Diagonalen: mirrored = ((square >> 3) | (square << 3)) & 63\n",
    "\n",
    "Bei dieser Formel stellt der Teil `& 63` sicher, dass die nötigen Bits zur Beschreibung des Felds nicht überschritten werden.\n",
    "\n",
    "Für das Spiegeln an der fallenden Diagonalen (56-49-42-35-28-21-14-07) kann das Spiegeln an der aufsteigenden Diagonalen genutzt werden.\n",
    "Zu dieser Spiegelung kommt noch die Spiegelung anhand der vertikalen und horizontalen Achse (Umsetzung mit `^ 63`) hinzu.\n",
    "Die Kombination dieser Operationen führt zur Spiegelung an der abfallenden Diagonalen. Dementsprechend lautet die Formel:\n",
    "> Spiegelung an abfallenden Diagonalen: mirrored = (((square >> 3) | (square << 3)) & 63) ^ 63\n",
    "\n",
    "Anhand dieser zuvor beschriebenen Spiegelmethoden ist es zusätzlich noch möglich die Rotationen um 90°, 180°, 270° darzustellen, da diese ebenfalls durch mehrfache Spiegelungen umgesetzt werden können.\n",
    "Beispielsweise ist die Drehung um 180° eine Spiegelung sowohl an der vertikalen, als auch horizontalen Ebene.\n",
    "Die restlichen Operationen können aus der Variablen `g_swaps` entnommen werden."
   ],
   "metadata": {
    "collapsed": false,
    "pycharm": {
     "name": "#%% md\n"
    }
   }
  },
  {
   "cell_type": "code",
   "execution_count": null,
   "outputs": [],
   "source": [
    "g_swaps = {\n",
    "        \"vertical\" : {x : (x ^ 56) for x in range(64)},\n",
    "        \"horizontal\" : {x : (x ^ 7) for x in range(64)},\n",
    "        \"rotate_right\" : {x : ((((x >> 3) | (x << 3)) & 63) ^ 56) for x in range(64)},\n",
    "        \"rotate_180\" : {x : (x ^ 63) for x in range(64)},\n",
    "        \"rotate_left\" : {x: ((((x >> 3) | (x << 3)) & 63) ^ 7) for x in range(64)},\n",
    "        \"diagonal\" : {x: (((x >> 3) | (x << 3)) & 63) for x in range(64)},\n",
    "        \"anti_diagonal\" : {x: ((((x >> 3) | (x << 3)) & 63) ^ 63) for x in range(64)}\n",
    "    }"
   ],
   "metadata": {
    "collapsed": false,
    "pycharm": {
     "name": "#%%\n"
    }
   }
  },
  {
   "cell_type": "markdown",
   "source": [
    "Die Spiegelung wird von der Funktion `mirror_board(board, swap)` für eine Stellung `board` durchgeführt.\n",
    "Hierzu wird ein neues `chess.Board`-Objekt erstellt.\n",
    "Für dieses werden mithilfe des übergebenen Dictionaries `swap` die neuen Positionen der vorhandenen Schachfiguren bestimmt und gesetzt.\n",
    "Das gespiegelte Schachbrett wird von der Funktion zurückgegeben."
   ],
   "metadata": {
    "collapsed": false,
    "pycharm": {
     "name": "#%% md\n"
    }
   }
  },
  {
   "cell_type": "code",
   "execution_count": null,
   "outputs": [],
   "source": [
    "def mirror_board(board, swap):\n",
    "    swapped_board = chess.Board(None)\n",
    "    swapped_board.turn = board.turn\n",
    "\n",
    "    for position, piece in board.piece_map().items():\n",
    "        swapped_board.set_piece_at(swap[position], piece)\n",
    "    return swapped_board\n"
   ],
   "metadata": {
    "collapsed": false,
    "pycharm": {
     "name": "#%%\n"
    }
   }
  },
  {
   "cell_type": "markdown",
   "source": [
    "Die Funktion `mirror_all_directions(board_int, piece_list)` erstellt für einen Integer (`board_int`) eine Menge aller Spiegelungen mit den Dictionaries, die in `g_swaps` aufgeführt sind und der Funktion `mirror_board(board, swap)`.\n",
    "Da für die Funktion `mirror_board(board, swap)` ein `chess.Board` benötigt wird, wird zusätzlich eine `piece_list` zur Erstellung des Objekts mitgegeben.\n",
    "Die Menge `result` enthält den originalen Integer `board_int` nicht."
   ],
   "metadata": {
    "collapsed": false,
    "pycharm": {
     "name": "#%% md\n"
    }
   }
  },
  {
   "cell_type": "code",
   "execution_count": null,
   "outputs": [],
   "source": [
    "def mirror_all_directions(board_int, piece_list):\n",
    "    result = set()\n",
    "    board = to_board(board_int, piece_list)\n",
    "    for name, swap in g_swaps.items():\n",
    "        result.add(to_integer(mirror_board(board, swap), piece_list))\n",
    "    return result\n"
   ],
   "metadata": {
    "collapsed": false,
    "pycharm": {
     "name": "#%%\n"
    }
   }
  },
  {
   "cell_type": "markdown",
   "source": [
    "Die Funktion `get_all_mirror_variations(uniques_int, piece_list)` berechnet für eine Menge von Stellungen in Integer-Repräsentation (`uniques_int`) die Menge der gespiegelten Variationen inklusive der originalen Stellungen (`result`).\n",
    "Hierfür wird die Funktion `mirror_all_directions(unique, piece_list)` verwendet, weshalb auch eine `piece_list` übergeben wird.\n",
    "Die Variable `result` wird von der Funktion `get_all_mirror_variations(uniques_int, piece_list)` zurückgegeben."
   ],
   "metadata": {
    "collapsed": false,
    "pycharm": {
     "name": "#%% md\n"
    }
   }
  },
  {
   "cell_type": "code",
   "execution_count": null,
   "outputs": [],
   "source": [
    "def get_all_mirror_variations(uniques_int, piece_list):\n",
    "    result = uniques_int.copy()\n",
    "    for unique in uniques_int:\n",
    "        result |= mirror_all_directions(unique, piece_list)\n",
    "    return result\n"
   ],
   "metadata": {
    "collapsed": false,
    "pycharm": {
     "name": "#%%\n"
    }
   }
  },
  {
   "cell_type": "markdown",
   "source": [
    "Soll eine zuvor berechnete Endspielsituation zur Auswertung verwendet werden, müssen alle $n$ gespiegelt werden.\n",
    "Die Erstellung der vollständigen $S_n$ Mengen geschieht durch die Funktion `gen_all_integers(s_n_integers, piece_list)`.\n",
    "Diese nimmt die bereits gespeicherten Mengen in ``s_n_integers`` und iteriert über diese.\n",
    "Für jedes Brett der Menge werden die 7 Spiegelungen unter Verwendung der `piece_list` generiert.\n",
    "Diese werden in einer Liste von Mengen (`result`) gespeichert.\n",
    "Die Indizes der Mengen werden dabei nicht verändert. Die Liste `result` stellt den Rückgabewert der Funktion dar."
   ],
   "metadata": {
    "collapsed": false,
    "pycharm": {
     "name": "#%% md\n"
    }
   }
  },
  {
   "cell_type": "code",
   "execution_count": null,
   "outputs": [],
   "source": [
    "def gen_all_integers(s_n_integers, piece_list):\n",
    "    result = []\n",
    "    i = 0\n",
    "    n = len(s_n_integers)\n",
    "    for sequence in s_n_integers:\n",
    "        int_set = set()\n",
    "        for int_board in sequence:\n",
    "            int_set.add(int_board)\n",
    "            int_set |= mirror_all_directions(int_board, piece_list)\n",
    "        result.append(int_set)\n",
    "        print(\"Done mirroring Set \" + str(i) + \" of \" + str(n))\n",
    "        i += 1\n",
    "    return result\n"
   ],
   "metadata": {
    "collapsed": false,
    "pycharm": {
     "name": "#%%\n"
    }
   }
  }
 ],
 "metadata": {
  "kernelspec": {
   "display_name": "Python 3",
   "language": "python",
   "name": "python3"
  },
  "language_info": {
   "codemirror_mode": {
    "name": "ipython",
    "version": 2
   },
   "file_extension": ".py",
   "mimetype": "text/x-python",
   "name": "python",
   "nbconvert_exporter": "python",
   "pygments_lexer": "ipython2",
   "version": "2.7.6"
  }
 },
 "nbformat": 4,
 "nbformat_minor": 0
}